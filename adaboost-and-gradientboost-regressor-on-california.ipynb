{
 "cells": [
  {
   "cell_type": "code",
   "execution_count": 1,
   "id": "2bc3fda1",
   "metadata": {
    "_cell_guid": "b1076dfc-b9ad-4769-8c92-a6c4dae69d19",
    "_uuid": "8f2839f25d086af736a60e9eeb907d3b93b6e0e5",
    "execution": {
     "iopub.execute_input": "2022-07-24T04:19:05.189096Z",
     "iopub.status.busy": "2022-07-24T04:19:05.188648Z",
     "iopub.status.idle": "2022-07-24T04:19:05.202629Z",
     "shell.execute_reply": "2022-07-24T04:19:05.201267Z"
    },
    "papermill": {
     "duration": 0.02465,
     "end_time": "2022-07-24T04:19:05.205141",
     "exception": false,
     "start_time": "2022-07-24T04:19:05.180491",
     "status": "completed"
    },
    "tags": []
   },
   "outputs": [],
   "source": [
    "# This Python 3 environment comes with many helpful analytics libraries installed\n",
    "# It is defined by the kaggle/python Docker image: https://github.com/kaggle/docker-python\n",
    "# For example, here's several helpful packages to load\n",
    "\n",
    "import numpy as np # linear algebra\n",
    "import pandas as pd # data processing, CSV file I/O (e.g. pd.read_csv)\n",
    "\n",
    "# Input data files are available in the read-only \"../input/\" directory\n",
    "# For example, running this (by clicking run or pressing Shift+Enter) will list all files under the input directory\n",
    "\n",
    "import os\n",
    "for dirname, _, filenames in os.walk('/kaggle/input'):\n",
    "    for filename in filenames:\n",
    "        print(os.path.join(dirname, filename))\n",
    "\n",
    "# You can write up to 20GB to the current directory (/kaggle/working/) that gets preserved as output when you create a version using \"Save & Run All\" \n",
    "# You can also write temporary files to /kaggle/temp/, but they won't be saved outside of the current session"
   ]
  },
  {
   "cell_type": "markdown",
   "id": "a68819f9",
   "metadata": {
    "papermill": {
     "duration": 0.005318,
     "end_time": "2022-07-24T04:19:05.216122",
     "exception": false,
     "start_time": "2022-07-24T04:19:05.210804",
     "status": "completed"
    },
    "tags": []
   },
   "source": [
    "###### X_MLP/W10_L6(last lec.)-dip-iitm: [AdaBoost and GradientBoost Regressor on California Housing](https://www.youtube.com/watch?v=yJjCDkjNNaM&list=PLyGVjd4KQp13HB4vo0f_ztrpR8dPrDNKP&index=76)"
   ]
  },
  {
   "cell_type": "markdown",
   "id": "e95d3075",
   "metadata": {
    "papermill": {
     "duration": 0.004864,
     "end_time": "2022-07-24T04:19:05.226363",
     "exception": false,
     "start_time": "2022-07-24T04:19:05.221499",
     "status": "completed"
    },
    "tags": []
   },
   "source": [
    "# AdaBoost and GradientBoost Regressor on California Housing Dataset"
   ]
  },
  {
   "cell_type": "markdown",
   "id": "fa9b69fa",
   "metadata": {
    "papermill": {
     "duration": 0.004904,
     "end_time": "2022-07-24T04:19:05.236412",
     "exception": false,
     "start_time": "2022-07-24T04:19:05.231508",
     "status": "completed"
    },
    "tags": []
   },
   "source": [
    "In this notebook, we will apply ensemble tecniques regression problem in california housing datasets.\n",
    "\n",
    "We will make use of \n",
    "- AdaBoost regressor\n",
    "- Gradient boosting regressor\n",
    "- XGBoost regressor"
   ]
  },
  {
   "cell_type": "code",
   "execution_count": 2,
   "id": "35311e2d",
   "metadata": {
    "execution": {
     "iopub.execute_input": "2022-07-24T04:19:05.248617Z",
     "iopub.status.busy": "2022-07-24T04:19:05.248247Z",
     "iopub.status.idle": "2022-07-24T04:19:06.749794Z",
     "shell.execute_reply": "2022-07-24T04:19:06.748644Z"
    },
    "papermill": {
     "duration": 1.510984,
     "end_time": "2022-07-24T04:19:06.752621",
     "exception": false,
     "start_time": "2022-07-24T04:19:05.241637",
     "status": "completed"
    },
    "tags": []
   },
   "outputs": [],
   "source": [
    "from sklearn.datasets import fetch_california_housing\n",
    "from sklearn.ensemble import AdaBoostRegressor,\\\n",
    "    GradientBoostingRegressor\n",
    "\n",
    "from sklearn.metrics import mean_absolute_error\n",
    "\n",
    "from sklearn.model_selection import cross_validate,\\\n",
    "    train_test_split, RandomizedSearchCV, ShuffleSplit"
   ]
  },
  {
   "cell_type": "code",
   "execution_count": 3,
   "id": "6f56254a",
   "metadata": {
    "execution": {
     "iopub.execute_input": "2022-07-24T04:19:06.765674Z",
     "iopub.status.busy": "2022-07-24T04:19:06.765291Z",
     "iopub.status.idle": "2022-07-24T04:19:06.770263Z",
     "shell.execute_reply": "2022-07-24T04:19:06.769104Z"
    },
    "papermill": {
     "duration": 0.014284,
     "end_time": "2022-07-24T04:19:06.772472",
     "exception": false,
     "start_time": "2022-07-24T04:19:06.758188",
     "status": "completed"
    },
    "tags": []
   },
   "outputs": [],
   "source": [
    "np.random.seed(306)"
   ]
  },
  {
   "cell_type": "markdown",
   "id": "545447b8",
   "metadata": {
    "papermill": {
     "duration": 0.005072,
     "end_time": "2022-07-24T04:19:06.783038",
     "exception": false,
     "start_time": "2022-07-24T04:19:06.777966",
     "status": "completed"
    },
    "tags": []
   },
   "source": [
    "Lets use`ShuffleSplit` as cv with 10 splits and 20% examples set aside as test examples."
   ]
  },
  {
   "cell_type": "code",
   "execution_count": 4,
   "id": "9c061b26",
   "metadata": {
    "execution": {
     "iopub.execute_input": "2022-07-24T04:19:06.796277Z",
     "iopub.status.busy": "2022-07-24T04:19:06.795507Z",
     "iopub.status.idle": "2022-07-24T04:19:06.801238Z",
     "shell.execute_reply": "2022-07-24T04:19:06.800337Z"
    },
    "papermill": {
     "duration": 0.015143,
     "end_time": "2022-07-24T04:19:06.803638",
     "exception": false,
     "start_time": "2022-07-24T04:19:06.788495",
     "status": "completed"
    },
    "tags": []
   },
   "outputs": [],
   "source": [
    "cv = ShuffleSplit(n_splits=10, test_size=0.2, random_state=42)"
   ]
  },
  {
   "cell_type": "markdown",
   "id": "7f75a692",
   "metadata": {
    "papermill": {
     "duration": 0.005153,
     "end_time": "2022-07-24T04:19:06.814296",
     "exception": false,
     "start_time": "2022-07-24T04:19:06.809143",
     "status": "completed"
    },
    "tags": []
   },
   "source": [
    "Let's download the data and split it into training and test sets."
   ]
  },
  {
   "cell_type": "code",
   "execution_count": 5,
   "id": "1a936211",
   "metadata": {
    "execution": {
     "iopub.execute_input": "2022-07-24T04:19:06.827236Z",
     "iopub.status.busy": "2022-07-24T04:19:06.826618Z",
     "iopub.status.idle": "2022-07-24T04:19:08.570916Z",
     "shell.execute_reply": "2022-07-24T04:19:08.569720Z"
    },
    "papermill": {
     "duration": 1.753902,
     "end_time": "2022-07-24T04:19:08.573544",
     "exception": false,
     "start_time": "2022-07-24T04:19:06.819642",
     "status": "completed"
    },
    "tags": []
   },
   "outputs": [],
   "source": [
    "features, labels = fetch_california_housing(as_frame=True, return_X_y=True)\n",
    "labels*=100\n",
    "\n",
    "# train_test split\n",
    "com_train_features, test_features, com_train_labels, test_labels = \\\n",
    "    train_test_split(features, labels, random_state=42)\n",
    "\n",
    "\n",
    "train_features, dev_features, train_labels, dev_labels =\\\n",
    "    train_test_split(com_train_features, com_train_labels, random_state=42)"
   ]
  },
  {
   "cell_type": "markdown",
   "id": "4bae41e8",
   "metadata": {
    "papermill": {
     "duration": 0.005173,
     "end_time": "2022-07-24T04:19:08.584302",
     "exception": false,
     "start_time": "2022-07-24T04:19:08.579129",
     "status": "completed"
    },
    "tags": []
   },
   "source": [
    "## Training different regressors"
   ]
  },
  {
   "cell_type": "code",
   "execution_count": 6,
   "id": "94e8ed3e",
   "metadata": {
    "execution": {
     "iopub.execute_input": "2022-07-24T04:19:08.597102Z",
     "iopub.status.busy": "2022-07-24T04:19:08.596741Z",
     "iopub.status.idle": "2022-07-24T04:19:08.603948Z",
     "shell.execute_reply": "2022-07-24T04:19:08.602744Z"
    },
    "papermill": {
     "duration": 0.016689,
     "end_time": "2022-07-24T04:19:08.606418",
     "exception": false,
     "start_time": "2022-07-24T04:19:08.589729",
     "status": "completed"
    },
    "tags": []
   },
   "outputs": [],
   "source": [
    "def train_regressor(estimator, X_train, y_train, cv, name):\n",
    "    cv_results = cross_validate(estimator, \n",
    "                               X_train, \n",
    "                               y_train,\n",
    "                               cv=cv,\n",
    "                               scoring=\"neg_mean_absolute_error\",\n",
    "                               return_train_score=True,\n",
    "                               return_estimator=True)\n",
    "    \n",
    "    cv_train_error = -1 * cv_results['train_score']\n",
    "    cv_test_error = -1 * cv_results['test_score']\n",
    "    \n",
    "    print(f\"On an average, {name} makes an error of \"\n",
    "          f\"{cv_train_error.mean():.3f}k +/- {cv_train_error.std():.3f}k on the training set.\")\n",
    "    print(f\"On an average, {name} makes an error of\"\n",
    "          f\"{cv_test_error.mean():.3f}k +/- {cv_test_error.std():.3f}k on teh test set.\")"
   ]
  },
  {
   "cell_type": "code",
   "execution_count": 7,
   "id": "2be9fdda",
   "metadata": {
    "execution": {
     "iopub.execute_input": "2022-07-24T04:19:08.619556Z",
     "iopub.status.busy": "2022-07-24T04:19:08.618328Z",
     "iopub.status.idle": "2022-07-24T04:19:17.141719Z",
     "shell.execute_reply": "2022-07-24T04:19:17.140573Z"
    },
    "papermill": {
     "duration": 8.533214,
     "end_time": "2022-07-24T04:19:17.145075",
     "exception": false,
     "start_time": "2022-07-24T04:19:08.611861",
     "status": "completed"
    },
    "tags": []
   },
   "outputs": [
    {
     "name": "stdout",
     "output_type": "stream",
     "text": [
      "On an average, AdaBoostRegressor makes an error of 73.263k +/- 6.031k on the training set.\n",
      "On an average, AdaBoostRegressor makes an error of73.623k +/- 6.057k on teh test set.\n"
     ]
    }
   ],
   "source": [
    "#@title AdaBoostRegressor\n",
    "train_regressor(\n",
    "    AdaBoostRegressor(), com_train_features,\n",
    "    com_train_labels, cv, 'AdaBoostRegressor')"
   ]
  },
  {
   "cell_type": "code",
   "execution_count": 8,
   "id": "b08a119d",
   "metadata": {
    "execution": {
     "iopub.execute_input": "2022-07-24T04:19:17.159336Z",
     "iopub.status.busy": "2022-07-24T04:19:17.158110Z",
     "iopub.status.idle": "2022-07-24T04:19:45.181510Z",
     "shell.execute_reply": "2022-07-24T04:19:45.179974Z"
    },
    "papermill": {
     "duration": 28.033404,
     "end_time": "2022-07-24T04:19:45.184834",
     "exception": false,
     "start_time": "2022-07-24T04:19:17.151430",
     "status": "completed"
    },
    "tags": []
   },
   "outputs": [
    {
     "name": "stdout",
     "output_type": "stream",
     "text": [
      "On an average, GradientBoostingRegressor makes an error of 35.394k +/- 0.273k on the training set.\n",
      "On an average, GradientBoostingRegressor makes an error of36.773k +/- 0.723k on teh test set.\n"
     ]
    }
   ],
   "source": [
    "#@title GradientBoostingRegressor\n",
    "train_regressor(\n",
    "    GradientBoostingRegressor(), com_train_features,\n",
    "    com_train_labels, cv, 'GradientBoostingRegressor')"
   ]
  },
  {
   "cell_type": "markdown",
   "id": "c8950865",
   "metadata": {
    "papermill": {
     "duration": 0.008222,
     "end_time": "2022-07-24T04:19:45.201977",
     "exception": false,
     "start_time": "2022-07-24T04:19:45.193755",
     "status": "completed"
    },
    "tags": []
   },
   "source": [
    "### XGBoost"
   ]
  },
  {
   "cell_type": "code",
   "execution_count": 9,
   "id": "3c0ef17c",
   "metadata": {
    "execution": {
     "iopub.execute_input": "2022-07-24T04:19:45.219063Z",
     "iopub.status.busy": "2022-07-24T04:19:45.218106Z",
     "iopub.status.idle": "2022-07-24T04:19:57.831570Z",
     "shell.execute_reply": "2022-07-24T04:19:57.830247Z"
    },
    "papermill": {
     "duration": 12.62637,
     "end_time": "2022-07-24T04:19:57.834419",
     "exception": false,
     "start_time": "2022-07-24T04:19:45.208049",
     "status": "completed"
    },
    "tags": []
   },
   "outputs": [
    {
     "name": "stdout",
     "output_type": "stream",
     "text": [
      "Requirement already satisfied: Xgboost in /opt/conda/lib/python3.7/site-packages (1.6.1)\r\n",
      "Requirement already satisfied: scipy in /opt/conda/lib/python3.7/site-packages (from Xgboost) (1.7.3)\r\n",
      "Requirement already satisfied: numpy in /opt/conda/lib/python3.7/site-packages (from Xgboost) (1.21.6)\r\n",
      "\u001b[33mWARNING: Running pip as the 'root' user can result in broken permissions and conflicting behaviour with the system package manager. It is recommended to use a virtual environment instead: https://pip.pypa.io/warnings/venv\u001b[0m\u001b[33m\r\n",
      "\u001b[0m"
     ]
    }
   ],
   "source": [
    "!pip install Xgboost"
   ]
  },
  {
   "cell_type": "markdown",
   "id": "f66d3b6c",
   "metadata": {
    "papermill": {
     "duration": 0.006291,
     "end_time": "2022-07-24T04:19:57.846481",
     "exception": false,
     "start_time": "2022-07-24T04:19:57.840190",
     "status": "completed"
    },
    "tags": []
   },
   "source": [
    "Extreme gradient boosting(XGBoost) is the latest boosting technique. It is more regularized form of gradient boosting. With regularization, it is able to achieve better generalization performance than gradient boosting."
   ]
  },
  {
   "cell_type": "code",
   "execution_count": 10,
   "id": "61949a3c",
   "metadata": {
    "execution": {
     "iopub.execute_input": "2022-07-24T04:19:57.859876Z",
     "iopub.status.busy": "2022-07-24T04:19:57.858923Z",
     "iopub.status.idle": "2022-07-24T04:19:57.983147Z",
     "shell.execute_reply": "2022-07-24T04:19:57.981938Z"
    },
    "papermill": {
     "duration": 0.133944,
     "end_time": "2022-07-24T04:19:57.985945",
     "exception": false,
     "start_time": "2022-07-24T04:19:57.852001",
     "status": "completed"
    },
    "tags": []
   },
   "outputs": [],
   "source": [
    "from xgboost import XGBRegressor\n",
    "xgb_regressor = XGBRegressor(objective='reg:squarederror')"
   ]
  },
  {
   "cell_type": "code",
   "execution_count": 11,
   "id": "ac0b30af",
   "metadata": {
    "execution": {
     "iopub.execute_input": "2022-07-24T04:19:57.999279Z",
     "iopub.status.busy": "2022-07-24T04:19:57.998886Z",
     "iopub.status.idle": "2022-07-24T04:20:11.902027Z",
     "shell.execute_reply": "2022-07-24T04:20:11.900569Z"
    },
    "papermill": {
     "duration": 13.912888,
     "end_time": "2022-07-24T04:20:11.904513",
     "exception": false,
     "start_time": "2022-07-24T04:19:57.991625",
     "status": "completed"
    },
    "tags": []
   },
   "outputs": [
    {
     "name": "stdout",
     "output_type": "stream",
     "text": [
      "On an average, XGBoostRegressor makes an error of 18.308k +/- 0.182k on the training set.\n",
      "On an average, XGBoostRegressor makes an error of31.845k +/- 0.753k on teh test set.\n"
     ]
    }
   ],
   "source": [
    "train_regressor(\n",
    "    xgb_regressor, com_train_features,\n",
    "    com_train_labels, cv, 'XGBoostRegressor')"
   ]
  },
  {
   "cell_type": "code",
   "execution_count": null,
   "id": "17450c3f",
   "metadata": {
    "papermill": {
     "duration": 0.005474,
     "end_time": "2022-07-24T04:20:11.916467",
     "exception": false,
     "start_time": "2022-07-24T04:20:11.910993",
     "status": "completed"
    },
    "tags": []
   },
   "outputs": [],
   "source": []
  }
 ],
 "metadata": {
  "kernelspec": {
   "display_name": "Python 3",
   "language": "python",
   "name": "python3"
  },
  "language_info": {
   "codemirror_mode": {
    "name": "ipython",
    "version": 3
   },
   "file_extension": ".py",
   "mimetype": "text/x-python",
   "name": "python",
   "nbconvert_exporter": "python",
   "pygments_lexer": "ipython3",
   "version": "3.7.12"
  },
  "papermill": {
   "default_parameters": {},
   "duration": 77.767775,
   "end_time": "2022-07-24T04:20:12.745125",
   "environment_variables": {},
   "exception": null,
   "input_path": "__notebook__.ipynb",
   "output_path": "__notebook__.ipynb",
   "parameters": {},
   "start_time": "2022-07-24T04:18:54.977350",
   "version": "2.3.4"
  }
 },
 "nbformat": 4,
 "nbformat_minor": 5
}
