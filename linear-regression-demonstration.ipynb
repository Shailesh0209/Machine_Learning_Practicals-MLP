{
 "cells": [
  {
   "cell_type": "code",
   "execution_count": 1,
   "id": "191d6eb8",
   "metadata": {
    "_cell_guid": "b1076dfc-b9ad-4769-8c92-a6c4dae69d19",
    "_uuid": "8f2839f25d086af736a60e9eeb907d3b93b6e0e5",
    "execution": {
     "iopub.execute_input": "2022-05-21T13:09:36.593363Z",
     "iopub.status.busy": "2022-05-21T13:09:36.593107Z",
     "iopub.status.idle": "2022-05-21T13:09:36.602166Z",
     "shell.execute_reply": "2022-05-21T13:09:36.601493Z"
    },
    "papermill": {
     "duration": 0.089303,
     "end_time": "2022-05-21T13:09:36.603878",
     "exception": false,
     "start_time": "2022-05-21T13:09:36.514575",
     "status": "completed"
    },
    "tags": []
   },
   "outputs": [],
   "source": [
    "# This Python 3 environment comes with many helpful analytics libraries installed\n",
    "# It is defined by the kaggle/python Docker image: https://github.com/kaggle/docker-python\n",
    "# For example, here's several helpful packages to load\n",
    "\n",
    "import numpy as np # linear algebra\n",
    "import pandas as pd # data processing, CSV file I/O (e.g. pd.read_csv)\n",
    "\n",
    "# Input data files are available in the read-only \"../input/\" directory\n",
    "# For example, running this (by clicking run or pressing Shift+Enter) will list all files under the input directory\n",
    "\n",
    "import os\n",
    "for dirname, _, filenames in os.walk('/kaggle/input'):\n",
    "    for filename in filenames:\n",
    "        print(os.path.join(dirname, filename))\n",
    "\n",
    "# You can write up to 20GB to the current directory (/kaggle/working/) that gets preserved as output when you create a version using \"Save & Run All\" \n",
    "# You can also write temporary files to /kaggle/temp/, but they won't be saved outside of the current session"
   ]
  },
  {
   "cell_type": "markdown",
   "id": "5d521d73",
   "metadata": {
    "papermill": {
     "duration": 0.05014,
     "end_time": "2022-05-21T13:09:36.729544",
     "exception": false,
     "start_time": "2022-05-21T13:09:36.679404",
     "status": "completed"
    },
    "tags": []
   },
   "source": [
    "Linear_regression_demonstration-w3-lec3/mlp/dip/iitm"
   ]
  },
  {
   "cell_type": "markdown",
   "id": "c1be7e24",
   "metadata": {
    "papermill": {
     "duration": 0.064985,
     "end_time": "2022-05-21T13:09:36.842674",
     "exception": false,
     "start_time": "2022-05-21T13:09:36.777689",
     "status": "completed"
    },
    "tags": []
   },
   "source": [
    "# Linear regression with sklearn API"
   ]
  },
  {
   "cell_type": "markdown",
   "id": "7ce7d755",
   "metadata": {
    "papermill": {
     "duration": 0.074967,
     "end_time": "2022-05-21T13:09:36.993667",
     "exception": false,
     "start_time": "2022-05-21T13:09:36.918700",
     "status": "completed"
    },
    "tags": []
   },
   "source": [
    "The objective of this notebook is to demonstrate how to build a linear regression model with sklearn. We will be using the following set up:\n",
    "1. Dataset: California housing\n",
    "2. Linear regression API: LinearRegression\n",
    "3. Training: `fit` (normal equation) and `cross_validate`(normal equation with cross validation).\n",
    "4. Evaluation: `score`(r2 score) and `cross_val_score` with different scoring parameters.\n",
    "\n",
    "We will study the model dianosis with `LearningCurve`  and learn how to examine the learned model or weight vector.\n"
   ]
  },
  {
   "cell_type": "code",
   "execution_count": 2,
   "id": "7f3b048d",
   "metadata": {
    "execution": {
     "iopub.execute_input": "2022-05-21T13:09:37.145941Z",
     "iopub.status.busy": "2022-05-21T13:09:37.145667Z",
     "iopub.status.idle": "2022-05-21T13:09:38.228031Z",
     "shell.execute_reply": "2022-05-21T13:09:38.227280Z"
    },
    "papermill": {
     "duration": 1.160838,
     "end_time": "2022-05-21T13:09:38.229864",
     "exception": false,
     "start_time": "2022-05-21T13:09:37.069026",
     "status": "completed"
    },
    "tags": []
   },
   "outputs": [],
   "source": [
    "# Importing packeges for manipulation and visualization\n",
    "import numpy as np\n",
    "import pandas as pd\n",
    "import matplotlib.pyplot as plt\n",
    "import seaborn as sns\n",
    "\n",
    "# importing dataset\n",
    "from sklearn.datasets import fetch_california_housing\n",
    "from sklearn.linear_model import LinearRegression# linear regression api\n",
    "\n",
    "# importing models\n",
    "from sklearn.model_selection import cross_validate\n",
    "from sklearn.model_selection import cross_val_score\n",
    "from sklearn.model_selection import learning_curve\n",
    "from sklearn.model_selection import ShuffleSplit#split in cross_validation\n",
    "\n",
    "# importing metrics\n",
    "from sklearn.metrics import mean_squared_error\n",
    "\n",
    "# importing pipeline\n",
    "from sklearn.pipeline import Pipeline\n",
    "from sklearn.preprocessing import StandardScaler"
   ]
  },
  {
   "cell_type": "code",
   "execution_count": 3,
   "id": "94c1cf69",
   "metadata": {
    "execution": {
     "iopub.execute_input": "2022-05-21T13:09:38.325893Z",
     "iopub.status.busy": "2022-05-21T13:09:38.325684Z",
     "iopub.status.idle": "2022-05-21T13:09:38.329388Z",
     "shell.execute_reply": "2022-05-21T13:09:38.328792Z"
    },
    "papermill": {
     "duration": 0.053651,
     "end_time": "2022-05-21T13:09:38.331177",
     "exception": false,
     "start_time": "2022-05-21T13:09:38.277526",
     "status": "completed"
    },
    "tags": []
   },
   "outputs": [],
   "source": [
    "np.random.seed(306)# setting seed to get repeatability across diff. runs\n",
    "plt.style.use('seaborn')"
   ]
  },
  {
   "cell_type": "markdown",
   "id": "f88dba47",
   "metadata": {
    "papermill": {
     "duration": 0.074834,
     "end_time": "2022-05-21T13:09:38.482682",
     "exception": false,
     "start_time": "2022-05-21T13:09:38.407848",
     "status": "completed"
    },
    "tags": []
   },
   "source": [
    "We will use ShuffleSplit cross validation with:\n",
    "* 10 folds(n_splits) and\n",
    "* set aside 20% examples as test examples(test_size)"
   ]
  },
  {
   "cell_type": "code",
   "execution_count": 4,
   "id": "cac76036",
   "metadata": {
    "execution": {
     "iopub.execute_input": "2022-05-21T13:09:38.634013Z",
     "iopub.status.busy": "2022-05-21T13:09:38.633755Z",
     "iopub.status.idle": "2022-05-21T13:09:38.637295Z",
     "shell.execute_reply": "2022-05-21T13:09:38.636720Z"
    },
    "papermill": {
     "duration": 0.081452,
     "end_time": "2022-05-21T13:09:38.638951",
     "exception": false,
     "start_time": "2022-05-21T13:09:38.557499",
     "status": "completed"
    },
    "tags": []
   },
   "outputs": [],
   "source": [
    "shuffle_split_cv = ShuffleSplit(n_splits=10, test_size=0.2, random_state=0)\n",
    "# create 10 folds through shuffle split by keeping aside 20% examples as  test in each fold."
   ]
  },
  {
   "cell_type": "markdown",
   "id": "b5fc46c8",
   "metadata": {
    "papermill": {
     "duration": 0.074671,
     "end_time": "2022-05-21T13:09:38.788991",
     "exception": false,
     "start_time": "2022-05-21T13:09:38.714320",
     "status": "completed"
    },
    "tags": []
   },
   "source": [
    "# STEP #1: Load the dataset"
   ]
  },
  {
   "cell_type": "code",
   "execution_count": 5,
   "id": "b105f9a6",
   "metadata": {
    "execution": {
     "iopub.execute_input": "2022-05-21T13:09:38.939467Z",
     "iopub.status.busy": "2022-05-21T13:09:38.939042Z",
     "iopub.status.idle": "2022-05-21T13:09:40.722095Z",
     "shell.execute_reply": "2022-05-21T13:09:40.721324Z"
    },
    "papermill": {
     "duration": 1.860661,
     "end_time": "2022-05-21T13:09:40.724216",
     "exception": false,
     "start_time": "2022-05-21T13:09:38.863555",
     "status": "completed"
    },
    "tags": []
   },
   "outputs": [],
   "source": [
    "features, labels = fetch_california_housing(as_frame=True, return_X_y=True)"
   ]
  },
  {
   "cell_type": "code",
   "execution_count": 6,
   "id": "1b447fc3",
   "metadata": {
    "execution": {
     "iopub.execute_input": "2022-05-21T13:09:40.873355Z",
     "iopub.status.busy": "2022-05-21T13:09:40.873132Z",
     "iopub.status.idle": "2022-05-21T13:09:40.877117Z",
     "shell.execute_reply": "2022-05-21T13:09:40.876606Z"
    },
    "papermill": {
     "duration": 0.080645,
     "end_time": "2022-05-21T13:09:40.879890",
     "exception": false,
     "start_time": "2022-05-21T13:09:40.799245",
     "status": "completed"
    },
    "tags": []
   },
   "outputs": [
    {
     "name": "stdout",
     "output_type": "stream",
     "text": [
      "Shape of feature matrix: (20640, 8)\n",
      "Shape of label vector: (20640,)\n"
     ]
    }
   ],
   "source": [
    "print(\"Shape of feature matrix:\", features.shape)\n",
    "print(\"Shape of label vector:\", labels.shape)"
   ]
  },
  {
   "cell_type": "markdown",
   "id": "760977c0",
   "metadata": {
    "papermill": {
     "duration": 0.073333,
     "end_time": "2022-05-21T13:09:41.028057",
     "exception": false,
     "start_time": "2022-05-21T13:09:40.954724",
     "status": "completed"
    },
    "tags": []
   },
   "source": [
    "As a sanity check, make sure that the number of rows in feature matrix and labels match."
   ]
  },
  {
   "cell_type": "code",
   "execution_count": 7,
   "id": "094799d1",
   "metadata": {
    "execution": {
     "iopub.execute_input": "2022-05-21T13:09:41.176782Z",
     "iopub.status.busy": "2022-05-21T13:09:41.176360Z",
     "iopub.status.idle": "2022-05-21T13:09:41.181145Z",
     "shell.execute_reply": "2022-05-21T13:09:41.180435Z"
    },
    "papermill": {
     "duration": 0.082143,
     "end_time": "2022-05-21T13:09:41.183699",
     "exception": false,
     "start_time": "2022-05-21T13:09:41.101556",
     "status": "completed"
    },
    "tags": []
   },
   "outputs": [
    {
     "name": "stdout",
     "output_type": "stream",
     "text": [
      "20640\n",
      "20640\n"
     ]
    }
   ],
   "source": [
    "assert (features.shape[0] == labels.shape[0])\n",
    "print(features.shape[0])\n",
    "print(labels.shape[0])"
   ]
  },
  {
   "cell_type": "markdown",
   "id": "6077b552",
   "metadata": {
    "papermill": {
     "duration": 0.076693,
     "end_time": "2022-05-21T13:09:41.337443",
     "exception": false,
     "start_time": "2022-05-21T13:09:41.260750",
     "status": "completed"
    },
    "tags": []
   },
   "source": [
    "# STEP #2: Data exploration"
   ]
  },
  {
   "cell_type": "code",
   "execution_count": null,
   "id": "74700973",
   "metadata": {
    "papermill": {
     "duration": 0.076266,
     "end_time": "2022-05-21T13:09:41.489867",
     "exception": false,
     "start_time": "2022-05-21T13:09:41.413601",
     "status": "completed"
    },
    "tags": []
   },
   "outputs": [],
   "source": []
  },
  {
   "cell_type": "markdown",
   "id": "9f42b497",
   "metadata": {
    "papermill": {
     "duration": 0.075895,
     "end_time": "2022-05-21T13:09:41.642260",
     "exception": false,
     "start_time": "2022-05-21T13:09:41.566365",
     "status": "completed"
    },
    "tags": []
   },
   "source": [
    "# STEP #3: Preprocessing and model building"
   ]
  },
  {
   "cell_type": "markdown",
   "id": "0653f038",
   "metadata": {
    "papermill": {
     "duration": 0.073025,
     "end_time": "2022-05-21T13:09:41.790033",
     "exception": false,
     "start_time": "2022-05-21T13:09:41.717008",
     "status": "completed"
    },
    "tags": []
   },
   "source": [
    "## 3.1 Train and test split\n",
    "\n",
    "The first step is to split the training data into training and test set. We do not access the test data till the end. All data exploration and tuning is performed on the training set and by setting aside a small portion of training as a dev or validation set.\n",
    "\n",
    "The following code snippet divides the data into training and test sets."
   ]
  },
  {
   "cell_type": "code",
   "execution_count": 8,
   "id": "2611a81f",
   "metadata": {
    "execution": {
     "iopub.execute_input": "2022-05-21T13:09:41.943508Z",
     "iopub.status.busy": "2022-05-21T13:09:41.943140Z",
     "iopub.status.idle": "2022-05-21T13:09:41.950207Z",
     "shell.execute_reply": "2022-05-21T13:09:41.949759Z"
    },
    "papermill": {
     "duration": 0.085562,
     "end_time": "2022-05-21T13:09:41.951885",
     "exception": false,
     "start_time": "2022-05-21T13:09:41.866323",
     "status": "completed"
    },
    "tags": []
   },
   "outputs": [],
   "source": [
    "from sklearn.model_selection import train_test_split\n",
    "train_features, test_features, train_labels, test_labels = train_test_split(features, labels, random_state=42)"
   ]
  },
  {
   "cell_type": "code",
   "execution_count": 9,
   "id": "427d54eb",
   "metadata": {
    "execution": {
     "iopub.execute_input": "2022-05-21T13:09:42.104704Z",
     "iopub.status.busy": "2022-05-21T13:09:42.104350Z",
     "iopub.status.idle": "2022-05-21T13:09:42.108350Z",
     "shell.execute_reply": "2022-05-21T13:09:42.107932Z"
    },
    "papermill": {
     "duration": 0.082659,
     "end_time": "2022-05-21T13:09:42.110193",
     "exception": false,
     "start_time": "2022-05-21T13:09:42.027534",
     "status": "completed"
    },
    "tags": []
   },
   "outputs": [
    {
     "name": "stdout",
     "output_type": "stream",
     "text": [
      "# training samples: 15480\n",
      "# test samples: 5160\n"
     ]
    }
   ],
   "source": [
    "# let's examine the shapes of training and test sets\n",
    "print (\"# training samples:\", train_features.shape[0])\n",
    "print(\"# test samples:\", test_features.shape[0])"
   ]
  },
  {
   "cell_type": "markdown",
   "id": "a66385c4",
   "metadata": {
    "papermill": {
     "duration": 0.077348,
     "end_time": "2022-05-21T13:09:42.263178",
     "exception": false,
     "start_time": "2022-05-21T13:09:42.185830",
     "status": "completed"
    },
    "tags": []
   },
   "source": [
    "It's time to perform another sanity check-here we check if the training feature matrix has the same number of rows as the training label vector. We perform the same check on test set too."
   ]
  },
  {
   "cell_type": "code",
   "execution_count": 10,
   "id": "0ce69432",
   "metadata": {
    "execution": {
     "iopub.execute_input": "2022-05-21T13:09:42.418501Z",
     "iopub.status.busy": "2022-05-21T13:09:42.418157Z",
     "iopub.status.idle": "2022-05-21T13:09:42.421723Z",
     "shell.execute_reply": "2022-05-21T13:09:42.421291Z"
    },
    "papermill": {
     "duration": 0.083591,
     "end_time": "2022-05-21T13:09:42.423599",
     "exception": false,
     "start_time": "2022-05-21T13:09:42.340008",
     "status": "completed"
    },
    "tags": []
   },
   "outputs": [],
   "source": [
    "assert (train_features.shape[0] == train_labels.shape[0])\n",
    "assert (test_features.shape[0] == test_labels.shape[0])"
   ]
  },
  {
   "cell_type": "markdown",
   "id": "8c9cdeb2",
   "metadata": {
    "papermill": {
     "duration": 0.07626,
     "end_time": "2022-05-21T13:09:42.576660",
     "exception": false,
     "start_time": "2022-05-21T13:09:42.500400",
     "status": "completed"
    },
    "tags": []
   },
   "source": [
    "## 3.2 Pipeline: preprocessing + model"
   ]
  },
  {
   "cell_type": "markdown",
   "id": "606cd84e",
   "metadata": {
    "papermill": {
     "duration": 0.076438,
     "end_time": "2022-05-21T13:09:42.729612",
     "exception": false,
     "start_time": "2022-05-21T13:09:42.653174",
     "status": "completed"
    },
    "tags": []
   },
   "source": [
    "As a first step, build linear regression models with default parameter setting of `LinearRegression` APIs.\n",
    "> We will make use of `Pipeline` API for combining data preprocessing and model building.\n",
    "\n",
    "We will use `StandardScaler` feature scaling to bring all features on the same scale followed by a `LinearRegression` model.\n",
    "The `pipeline` object has two components:\n",
    "   1. `StandardScaler`  as step 1\n",
    "   2. `LinearRegression` as step 2\n",
    "   \n",
    "After constructing the pipeline object, let's train it with training set."
   ]
  },
  {
   "cell_type": "code",
   "execution_count": 11,
   "id": "efce56c0",
   "metadata": {
    "execution": {
     "iopub.execute_input": "2022-05-21T13:09:42.882699Z",
     "iopub.status.busy": "2022-05-21T13:09:42.882353Z",
     "iopub.status.idle": "2022-05-21T13:09:42.911623Z",
     "shell.execute_reply": "2022-05-21T13:09:42.911082Z"
    },
    "papermill": {
     "duration": 0.108183,
     "end_time": "2022-05-21T13:09:42.913424",
     "exception": false,
     "start_time": "2022-05-21T13:09:42.805241",
     "status": "completed"
    },
    "tags": []
   },
   "outputs": [
    {
     "data": {
      "text/plain": [
       "Pipeline(steps=[('feature scaling', StandardScaler()),\n",
       "                ('lin_reg', LinearRegression())])"
      ]
     },
     "execution_count": 11,
     "metadata": {},
     "output_type": "execute_result"
    }
   ],
   "source": [
    "# Set up the linear regression model.\n",
    "lin_reg_pipeline = Pipeline([(\"feature scaling\", StandardScaler()),\n",
    "                             (\"lin_reg\", LinearRegression())])\n",
    "\n",
    "# train linear regression model with normal equation.\n",
    "lin_reg_pipeline.fit(train_features, train_labels)"
   ]
  },
  {
   "cell_type": "markdown",
   "id": "5fa4b914",
   "metadata": {
    "papermill": {
     "duration": 0.076167,
     "end_time": "2022-05-21T13:09:43.066526",
     "exception": false,
     "start_time": "2022-05-21T13:09:42.990359",
     "status": "completed"
    },
    "tags": []
   },
   "source": [
    "Now that we have trained the model, let's check the learnt/estimated weight vectors (`intercept_` and `coef_`)."
   ]
  },
  {
   "cell_type": "code",
   "execution_count": 12,
   "id": "50ffa1d7",
   "metadata": {
    "execution": {
     "iopub.execute_input": "2022-05-21T13:09:43.221512Z",
     "iopub.status.busy": "2022-05-21T13:09:43.220734Z",
     "iopub.status.idle": "2022-05-21T13:09:43.225734Z",
     "shell.execute_reply": "2022-05-21T13:09:43.225283Z"
    },
    "papermill": {
     "duration": 0.084534,
     "end_time": "2022-05-21T13:09:43.227311",
     "exception": false,
     "start_time": "2022-05-21T13:09:43.142777",
     "status": "completed"
    },
    "tags": []
   },
   "outputs": [
    {
     "name": "stdout",
     "output_type": "stream",
     "text": [
      "intercept (w_0): 2.0703489205426377\n",
      "weight vector (w_1, ... , w_m): [ 0.85210815  0.12065533 -0.30210555  0.34860575 -0.00164465 -0.04116356\n",
      " -0.89314697 -0.86784046]\n"
     ]
    }
   ],
   "source": [
    "print(\"intercept (w_0):\", lin_reg_pipeline[-1].intercept_)\n",
    "print(\"weight vector (w_1, ... , w_m):\", lin_reg_pipeline[-1].coef_)"
   ]
  },
  {
   "cell_type": "markdown",
   "id": "d9d4f9b3",
   "metadata": {
    "papermill": {
     "duration": 0.050582,
     "end_time": "2022-05-21T13:09:43.329420",
     "exception": false,
     "start_time": "2022-05-21T13:09:43.278838",
     "status": "completed"
    },
    "tags": []
   },
   "source": [
    "A couple of things to notice:\n",
    "* We accessed the LinearRegression object as `lin_reg_pipeline[-1]` which is the last step in the pipeline.\n",
    "* The intercept can be obtained via `intercept_` member variable and \n",
    "* The weight vector corresponding to features via `coef_`"
   ]
  },
  {
   "cell_type": "markdown",
   "id": "4a0c4b75",
   "metadata": {
    "papermill": {
     "duration": 0.051206,
     "end_time": "2022-05-21T13:09:43.431427",
     "exception": false,
     "start_time": "2022-05-21T13:09:43.380221",
     "status": "completed"
    },
    "tags": []
   },
   "source": [
    "# STEP #4: Model Evaluation"
   ]
  },
  {
   "cell_type": "markdown",
   "id": "27bda3ec",
   "metadata": {
    "papermill": {
     "duration": 0.051191,
     "end_time": "2022-05-21T13:09:43.533808",
     "exception": false,
     "start_time": "2022-05-21T13:09:43.482617",
     "status": "completed"
    },
    "tags": []
   },
   "source": [
    "## `Score`\n",
    "\n",
    "Let's use `score` method to obtain train and test errors with twin objectives\n",
    "> * Estimation of model performance as provided by test errror.\n",
    "> * Comparison of errors for model diagnostic purpose(under/over/just right fit)"
   ]
  },
  {
   "cell_type": "code",
   "execution_count": 13,
   "id": "cdc7f925",
   "metadata": {
    "execution": {
     "iopub.execute_input": "2022-05-21T13:09:43.638100Z",
     "iopub.status.busy": "2022-05-21T13:09:43.637796Z",
     "iopub.status.idle": "2022-05-21T13:09:43.648890Z",
     "shell.execute_reply": "2022-05-21T13:09:43.648415Z"
    },
    "papermill": {
     "duration": 0.067807,
     "end_time": "2022-05-21T13:09:43.652954",
     "exception": false,
     "start_time": "2022-05-21T13:09:43.585147",
     "status": "completed"
    },
    "tags": []
   },
   "outputs": [
    {
     "name": "stdout",
     "output_type": "stream",
     "text": [
      "Model performance on test set:  0.5910509795491351\n",
      "Model performance on train set:  0.609873031052925\n"
     ]
    }
   ],
   "source": [
    "# evaluate model performance on the test set.\n",
    "test_score = lin_reg_pipeline.score(test_features, test_labels)\n",
    "print(\"Model performance on test set: \", test_score)\n",
    "\n",
    "train_score = lin_reg_pipeline.score(train_features, \n",
    "                                    train_labels)\n",
    "print(\"Model performance on train set: \", train_score)"
   ]
  },
  {
   "cell_type": "markdown",
   "id": "c8029239",
   "metadata": {
    "papermill": {
     "duration": 0.060356,
     "end_time": "2022-05-21T13:09:43.780024",
     "exception": false,
     "start_time": "2022-05-21T13:09:43.719668",
     "status": "completed"
    },
    "tags": []
   },
   "source": [
    "The `score` method returns `r2` score whose best value is 1. The `r2` scores on training and test are comparable but they are not that high. It points to underfitting issue in model training."
   ]
  },
  {
   "cell_type": "markdown",
   "id": "b34a3241",
   "metadata": {
    "papermill": {
     "duration": 0.048967,
     "end_time": "2022-05-21T13:09:43.877784",
     "exception": false,
     "start_time": "2022-05-21T13:09:43.828817",
     "status": "completed"
    },
    "tags": []
   },
   "source": [
    "## Cross Valideted Score(cross_val_score)"
   ]
  },
  {
   "cell_type": "markdown",
   "id": "5f09025d",
   "metadata": {
    "papermill": {
     "duration": 0.049037,
     "end_time": "2022-05-21T13:09:43.976099",
     "exception": false,
     "start_time": "2022-05-21T13:09:43.927062",
     "status": "completed"
    },
    "tags": []
   },
   "source": [
    "Since the `score` was computed on one fold that was selected as a test set, it may not be all that robust. In order to obtain robust estimate of the performance, we use `cross_val_score` that calculates score on different test folds through cross validation."
   ]
  },
  {
   "cell_type": "code",
   "execution_count": 14,
   "id": "6531aa93",
   "metadata": {
    "execution": {
     "iopub.execute_input": "2022-05-21T13:09:44.074963Z",
     "iopub.status.busy": "2022-05-21T13:09:44.074720Z",
     "iopub.status.idle": "2022-05-21T13:09:44.288619Z",
     "shell.execute_reply": "2022-05-21T13:09:44.288102Z"
    },
    "papermill": {
     "duration": 0.265705,
     "end_time": "2022-05-21T13:09:44.290344",
     "exception": false,
     "start_time": "2022-05-21T13:09:44.024639",
     "status": "completed"
    },
    "tags": []
   },
   "outputs": [
    {
     "name": "stdout",
     "output_type": "stream",
     "text": [
      "[-0.50009976 -0.52183352 -0.55931218 -0.52110499 -0.56059203 -0.50510767\n",
      " -0.52386194 -0.54775518 -0.5007161  -0.54713448]\n",
      "\n",
      "Score of linear regression model on the test set:\n",
      "-0.529 +/- 0.022\n"
     ]
    }
   ],
   "source": [
    "lin_reg_score = cross_val_score(lin_reg_pipeline,\n",
    "                               train_features,\n",
    "                               train_labels,\n",
    "                               scoring='neg_mean_squared_error',\n",
    "                               cv=shuffle_split_cv\n",
    "                               )\n",
    "\n",
    "# This will return 10 different scores, one for \n",
    "# each fold.\n",
    "print(lin_reg_score)\n",
    "\n",
    "# We can take mean and standard deviation of the \n",
    "# score and report it.\n",
    "print(f\"\\nScore of linear regression model on the test set:\\n\"\n",
    "      f\"{lin_reg_score.mean():.3f} +/- {lin_reg_score.std():.3f}\")"
   ]
  },
  {
   "cell_type": "markdown",
   "id": "532b5281",
   "metadata": {
    "papermill": {
     "duration": 0.050463,
     "end_time": "2022-05-21T13:09:44.456103",
     "exception": false,
     "start_time": "2022-05-21T13:09:44.405640",
     "status": "completed"
    },
    "tags": []
   },
   "source": [
    "Here we got the negative mean squared error as a score. We can convert that to error as follows:"
   ]
  },
  {
   "cell_type": "code",
   "execution_count": 15,
   "id": "d5df7143",
   "metadata": {
    "execution": {
     "iopub.execute_input": "2022-05-21T13:09:44.560484Z",
     "iopub.status.busy": "2022-05-21T13:09:44.560253Z",
     "iopub.status.idle": "2022-05-21T13:09:44.564591Z",
     "shell.execute_reply": "2022-05-21T13:09:44.564151Z"
    },
    "papermill": {
     "duration": 0.058742,
     "end_time": "2022-05-21T13:09:44.565953",
     "exception": false,
     "start_time": "2022-05-21T13:09:44.507211",
     "status": "completed"
    },
    "tags": []
   },
   "outputs": [
    {
     "name": "stdout",
     "output_type": "stream",
     "text": [
      "MSE of linear regression model on the test set:\n",
      "0.529 +/- 0.022\n"
     ]
    }
   ],
   "source": [
    "lin_reg_mse = -lin_reg_score\n",
    "print(f\"MSE of linear regression model on the test set:\\n\"\n",
    "      f\"{lin_reg_mse.mean():.3f} +/- {lin_reg_mse.std():.3f}\")"
   ]
  },
  {
   "cell_type": "markdown",
   "id": "60bb09d8",
   "metadata": {
    "papermill": {
     "duration": 0.049943,
     "end_time": "2022-05-21T13:09:44.666233",
     "exception": false,
     "start_time": "2022-05-21T13:09:44.616290",
     "status": "completed"
    },
    "tags": []
   },
   "source": [
    "We can use other `scoring` parameters and obtain cross validated scores based on that parameter. The following choices are available for `scoring`:\n",
    "- explained_variance\n",
    "- max_error\n",
    "- neg_mean_absolute_error\n",
    "- neg_root_mean_squared_error\n",
    "- neg_mean_squared_log_error\n",
    "- neg_median_absolute_error\n",
    "- neg_mean_absolute_percentage_error\n",
    "- r2"
   ]
  },
  {
   "cell_type": "code",
   "execution_count": null,
   "id": "ee75fca8",
   "metadata": {
    "papermill": {
     "duration": 0.050679,
     "end_time": "2022-05-21T13:09:44.767467",
     "exception": false,
     "start_time": "2022-05-21T13:09:44.716788",
     "status": "completed"
    },
    "tags": []
   },
   "outputs": [],
   "source": []
  },
  {
   "cell_type": "markdown",
   "id": "27ab98eb",
   "metadata": {
    "papermill": {
     "duration": 0.050742,
     "end_time": "2022-05-21T13:09:44.868419",
     "exception": false,
     "start_time": "2022-05-21T13:09:44.817677",
     "status": "completed"
    },
    "tags": []
   },
   "source": [
    "## Cross Validation\n",
    "\n",
    "We just calculated cross_val_score based on the cross validation. It however returns only scores for each fold. What if we also need to access the models trained in each fold along with some other statistics like train error for that fold?\n",
    "> corss_validate API enables us to obtain them."
   ]
  },
  {
   "cell_type": "code",
   "execution_count": 16,
   "id": "5270f69c",
   "metadata": {
    "execution": {
     "iopub.execute_input": "2022-05-21T13:09:44.998508Z",
     "iopub.status.busy": "2022-05-21T13:09:44.997904Z",
     "iopub.status.idle": "2022-05-21T13:09:45.163404Z",
     "shell.execute_reply": "2022-05-21T13:09:45.162860Z"
    },
    "papermill": {
     "duration": 0.24651,
     "end_time": "2022-05-21T13:09:45.165714",
     "exception": false,
     "start_time": "2022-05-21T13:09:44.919204",
     "status": "completed"
    },
    "tags": []
   },
   "outputs": [],
   "source": [
    "lin_reg_cv_results = cross_validate(lin_reg_pipeline,\n",
    "                                   train_features,\n",
    "                                   train_labels,\n",
    "                                   cv=shuffle_split_cv,\n",
    "                                   scoring=\"neg_mean_squared_error\",\n",
    "                                   return_train_score=True,\n",
    "                                   return_estimator=True\n",
    "                                   )"
   ]
  },
  {
   "cell_type": "markdown",
   "id": "4e9b4ee4",
   "metadata": {
    "papermill": {
     "duration": 0.049129,
     "end_time": "2022-05-21T13:09:45.334544",
     "exception": false,
     "start_time": "2022-05-21T13:09:45.285415",
     "status": "completed"
    },
    "tags": []
   },
   "source": [
    "The `lin_reg_cv_results` is a dictionary with the following contents:\n",
    "- trained `estimators`,\n",
    "- time taken for fitting (fit_time) and scoring (score_time) the models in cross validation, \n",
    "- training score(train_score) and\n",
    "- test scores(test_scores)\n",
    "\n",
    "Let's print the contents of the dictionary for us to examine.\n"
   ]
  },
  {
   "cell_type": "code",
   "execution_count": 17,
   "id": "e28e691e",
   "metadata": {
    "execution": {
     "iopub.execute_input": "2022-05-21T13:09:45.435069Z",
     "iopub.status.busy": "2022-05-21T13:09:45.434827Z",
     "iopub.status.idle": "2022-05-21T13:09:45.451742Z",
     "shell.execute_reply": "2022-05-21T13:09:45.450984Z"
    },
    "papermill": {
     "duration": 0.069325,
     "end_time": "2022-05-21T13:09:45.453788",
     "exception": false,
     "start_time": "2022-05-21T13:09:45.384463",
     "status": "completed"
    },
    "tags": []
   },
   "outputs": [
    {
     "data": {
      "text/plain": [
       "{'fit_time': array([0.00583816, 0.01490569, 0.01412296, 0.01446319, 0.01475525,\n",
       "        0.00716186, 0.00675464, 0.00715947, 0.00737119, 0.00692987]),\n",
       " 'score_time': array([0.00409484, 0.00365043, 0.00350642, 0.00421548, 0.00201392,\n",
       "        0.00169826, 0.00172901, 0.00184608, 0.00193763, 0.00176096]),\n",
       " 'estimator': [Pipeline(steps=[('feature scaling', StandardScaler()),\n",
       "                  ('lin_reg', LinearRegression())]),\n",
       "  Pipeline(steps=[('feature scaling', StandardScaler()),\n",
       "                  ('lin_reg', LinearRegression())]),\n",
       "  Pipeline(steps=[('feature scaling', StandardScaler()),\n",
       "                  ('lin_reg', LinearRegression())]),\n",
       "  Pipeline(steps=[('feature scaling', StandardScaler()),\n",
       "                  ('lin_reg', LinearRegression())]),\n",
       "  Pipeline(steps=[('feature scaling', StandardScaler()),\n",
       "                  ('lin_reg', LinearRegression())]),\n",
       "  Pipeline(steps=[('feature scaling', StandardScaler()),\n",
       "                  ('lin_reg', LinearRegression())]),\n",
       "  Pipeline(steps=[('feature scaling', StandardScaler()),\n",
       "                  ('lin_reg', LinearRegression())]),\n",
       "  Pipeline(steps=[('feature scaling', StandardScaler()),\n",
       "                  ('lin_reg', LinearRegression())]),\n",
       "  Pipeline(steps=[('feature scaling', StandardScaler()),\n",
       "                  ('lin_reg', LinearRegression())]),\n",
       "  Pipeline(steps=[('feature scaling', StandardScaler()),\n",
       "                  ('lin_reg', LinearRegression())])],\n",
       " 'test_score': array([-0.50009976, -0.52183352, -0.55931218, -0.52110499, -0.56059203,\n",
       "        -0.50510767, -0.52386194, -0.54775518, -0.5007161 , -0.54713448]),\n",
       " 'train_score': array([-0.52578695, -0.52035137, -0.51095597, -0.52049611, -0.51060835,\n",
       "        -0.52453922, -0.51994311, -0.5144039 , -0.52578473, -0.51397105])}"
      ]
     },
     "execution_count": 17,
     "metadata": {},
     "output_type": "execute_result"
    }
   ],
   "source": [
    "lin_reg_cv_results"
   ]
  },
  {
   "cell_type": "markdown",
   "id": "fa9b2c5c",
   "metadata": {
    "papermill": {
     "duration": 0.077993,
     "end_time": "2022-05-21T13:09:45.611217",
     "exception": false,
     "start_time": "2022-05-21T13:09:45.533224",
     "status": "completed"
    },
    "tags": []
   },
   "source": [
    "There are 10 values in each dictionary key. That is because o f`cv=10` or 10-fold cross validation that we used.\n",
    "\n",
    "We compare training and test errors to access generalization performance of our model. However we have training and test scores in the `cv_results` dictionary.\n",
    "> Multiply these scores by -1 and convert them to errors."
   ]
  },
  {
   "cell_type": "code",
   "execution_count": 18,
   "id": "b0f3f393",
   "metadata": {
    "execution": {
     "iopub.execute_input": "2022-05-21T13:09:45.769676Z",
     "iopub.status.busy": "2022-05-21T13:09:45.769460Z",
     "iopub.status.idle": "2022-05-21T13:09:45.774622Z",
     "shell.execute_reply": "2022-05-21T13:09:45.774106Z"
    },
    "papermill": {
     "duration": 0.087199,
     "end_time": "2022-05-21T13:09:45.776578",
     "exception": false,
     "start_time": "2022-05-21T13:09:45.689379",
     "status": "completed"
    },
    "tags": []
   },
   "outputs": [
    {
     "name": "stdout",
     "output_type": "stream",
     "text": [
      "Mean squared error of linear regression model on the train set:\n",
      "0.519 +/- 0.006\n",
      "Mean squared error of linear regression model on the test set:\n",
      "0.529 +/- 0.022\n"
     ]
    }
   ],
   "source": [
    "train_error = -1 * lin_reg_cv_results['train_score']\n",
    "test_error = -1 * lin_reg_cv_results['test_score']\n",
    "\n",
    "print(f\"Mean squared error of linear regression model on the train set:\\n\"\n",
    "      f\"{train_error.mean():.3f} +/- {train_error.std():.3f}\")\n",
    "print(f\"Mean squared error of linear regression model on the test set:\\n\"\n",
    "      f\"{test_error.mean():.3f} +/- {test_error.std():.3f}\")"
   ]
  },
  {
   "cell_type": "markdown",
   "id": "9c4df24f",
   "metadata": {
    "papermill": {
     "duration": 0.080254,
     "end_time": "2022-05-21T13:09:45.937080",
     "exception": false,
     "start_time": "2022-05-21T13:09:45.856826",
     "status": "completed"
    },
    "tags": []
   },
   "source": [
    "- The training error and test errors are high, which is an indication of underfitting, which we will confirm by plotting the learning curves.\n",
    "- Test error has higher variability across different folds compared to the train error\n"
   ]
  },
  {
   "cell_type": "markdown",
   "id": "bf2f8c86",
   "metadata": {
    "papermill": {
     "duration": 0.080017,
     "end_time": "2022-05-21T13:09:46.096360",
     "exception": false,
     "start_time": "2022-05-21T13:09:46.016343",
     "status": "completed"
    },
    "tags": []
   },
   "source": [
    "## Effect of training set size on error"
   ]
  },
  {
   "cell_type": "markdown",
   "id": "085f674f",
   "metadata": {
    "papermill": {
     "duration": 0.079027,
     "end_time": "2022-05-21T13:09:46.254911",
     "exception": false,
     "start_time": "2022-05-21T13:09:46.175884",
     "status": "completed"
    },
    "tags": []
   },
   "source": [
    "Let's understand how the training set size or #samples affect the error. We can use `learning_curve` API that calculates cross validation scores for different #samples as specified in its argument `train_sizes`"
   ]
  },
  {
   "cell_type": "code",
   "execution_count": 19,
   "id": "b86da134",
   "metadata": {
    "execution": {
     "iopub.execute_input": "2022-05-21T13:09:46.416880Z",
     "iopub.status.busy": "2022-05-21T13:09:46.416674Z",
     "iopub.status.idle": "2022-05-21T13:09:46.423132Z",
     "shell.execute_reply": "2022-05-21T13:09:46.422473Z"
    },
    "papermill": {
     "duration": 0.089341,
     "end_time": "2022-05-21T13:09:46.424844",
     "exception": false,
     "start_time": "2022-05-21T13:09:46.335503",
     "status": "completed"
    },
    "tags": []
   },
   "outputs": [],
   "source": [
    "#@title [Plot learning curves]\n",
    "def plot_learning_curve(train_sizes, train_scores, test_scores):\n",
    "    train_scores_mean = np.mean(-train_scores, axis=1)\n",
    "    train_scores_std = np.std(-train_scores, axis=1)\n",
    "    test_scores_mean = np.mean(-test_scores, axis=1)\n",
    "    test_scores_std = np.std(-test_scores, axis=1)\n",
    "    fit_times_mean = np.mean(fit_times, axis=1)\n",
    "    fit_times_std = np.std(fit_times, axis=1)\n",
    "    \n",
    "    plt.fill_between(\n",
    "        train_sizes,\n",
    "        train_scores_mean - train_scores_std,\n",
    "        train_scores_mean + train_scores_std,\n",
    "        alpha=0.1,\n",
    "        color=\"r\",)\n",
    "    plt.fill_between(\n",
    "        train_sizes,\n",
    "        test_scores_mean - test_scores_std,\n",
    "        test_scores_mean + test_scores_std,\n",
    "        alpha=0.1,\n",
    "        color=\"r\",)\n",
    "    plt.plot(train_sizes, train_scores_mean, \"o-\", color=\"r\",)\n",
    "    plt.plot(train_sizes, test_scores_mean, \"o-\", color=\"g\")\n",
    "    plt.xlabel(\"Training examples\")\n",
    "    plt.ylabel(\"MSE\")\n",
    "    plt.legend(loc=\"best\")"
   ]
  },
  {
   "cell_type": "markdown",
   "id": "6a3f2a58",
   "metadata": {
    "papermill": {
     "duration": 0.079782,
     "end_time": "2022-05-21T13:09:46.584654",
     "exception": false,
     "start_time": "2022-05-21T13:09:46.504872",
     "status": "completed"
    },
    "tags": []
   },
   "source": [
    "Based on the scores calculated by `learning_curve` API, we plot the error and its standard deviation for different #samples."
   ]
  },
  {
   "cell_type": "code",
   "execution_count": 20,
   "id": "b521554c",
   "metadata": {
    "execution": {
     "iopub.execute_input": "2022-05-21T13:09:46.747033Z",
     "iopub.status.busy": "2022-05-21T13:09:46.746765Z",
     "iopub.status.idle": "2022-05-21T13:09:48.800014Z",
     "shell.execute_reply": "2022-05-21T13:09:48.799011Z"
    },
    "papermill": {
     "duration": 2.136532,
     "end_time": "2022-05-21T13:09:48.801858",
     "exception": false,
     "start_time": "2022-05-21T13:09:46.665326",
     "status": "completed"
    },
    "tags": []
   },
   "outputs": [
    {
     "data": {
      "image/png": "[encoded data removed]",
      "text/plain": [
       "<Figure size 576x396 with 1 Axes>"
      ]
     },
     "metadata": {},
     "output_type": "display_data"
    }
   ],
   "source": [
    "(train_sizes, train_scores, test_scores, fit_times, score_times) = \\\n",
    "    learning_curve(\n",
    "        lin_reg_pipeline, train_features, train_labels, cv=shuffle_split_cv,\n",
    "        scoring='neg_mean_squared_error', n_jobs=-1,\n",
    "        return_times=True, train_sizes=np.linspace(0.2, 1.0, 10))\n",
    "\n",
    "plot_learning_curve(train_sizes, train_scores, test_scores)"
   ]
  },
  {
   "cell_type": "markdown",
   "id": "488d8ce8",
   "metadata": {
    "papermill": {
     "duration": 0.079094,
     "end_time": "2022-05-21T13:09:48.960682",
     "exception": false,
     "start_time": "2022-05-21T13:09:48.881588",
     "status": "completed"
    },
    "tags": []
   },
   "source": [
    "Observe that \n",
    "- Both curves have reached a plateau; they are close and fairly high.\n",
    "- Few instances in the training set means the model can fit them perfectly. But as more instances are added to training set, it becomes impossible for the model to fit the training data perfectly.\n",
    "- When the model is trained on very few training instances, it is not able of generalizing properly, which is why the validation error is initially quite high. Then as the model learns on more training examples, the training and validation error reduce slowly.\n",
    "\n",
    "These learning curves are typical of an underfitting model."
   ]
  },
  {
   "cell_type": "markdown",
   "id": "2c81435d",
   "metadata": {
    "papermill": {
     "duration": 0.078854,
     "end_time": "2022-05-21T13:09:49.119347",
     "exception": false,
     "start_time": "2022-05-21T13:09:49.040493",
     "status": "completed"
    },
    "tags": []
   },
   "source": [
    "We can also study now model training scales as the function of number of training samples"
   ]
  },
  {
   "cell_type": "code",
   "execution_count": 21,
   "id": "2f1c4c37",
   "metadata": {
    "execution": {
     "iopub.execute_input": "2022-05-21T13:09:49.279571Z",
     "iopub.status.busy": "2022-05-21T13:09:49.279326Z",
     "iopub.status.idle": "2022-05-21T13:09:49.282599Z",
     "shell.execute_reply": "2022-05-21T13:09:49.282134Z"
    },
    "papermill": {
     "duration": 0.084873,
     "end_time": "2022-05-21T13:09:49.283821",
     "exception": false,
     "start_time": "2022-05-21T13:09:49.198948",
     "status": "completed"
    },
    "tags": []
   },
   "outputs": [],
   "source": [
    "#plot_scalability_curve(train_sizes, fit_times)"
   ]
  },
  {
   "cell_type": "markdown",
   "id": "0246a5f6",
   "metadata": {
    "papermill": {
     "duration": 0.05242,
     "end_time": "2022-05-21T13:09:49.387521",
     "exception": false,
     "start_time": "2022-05-21T13:09:49.335101",
     "status": "completed"
    },
    "tags": []
   },
   "source": [
    "As the number of training examples grows, the time to fit also increases."
   ]
  },
  {
   "cell_type": "markdown",
   "id": "0950b0fb",
   "metadata": {
    "papermill": {
     "duration": 0.051969,
     "end_time": "2022-05-21T13:09:49.490976",
     "exception": false,
     "start_time": "2022-05-21T13:09:49.439007",
     "status": "completed"
    },
    "tags": []
   },
   "source": [
    "## Model examination"
   ]
  },
  {
   "cell_type": "markdown",
   "id": "6cfdca50",
   "metadata": {
    "papermill": {
     "duration": 0.053592,
     "end_time": "2022-05-21T13:09:49.598103",
     "exception": false,
     "start_time": "2022-05-21T13:09:49.544511",
     "status": "completed"
    },
    "tags": []
   },
   "source": [
    "Let's examine the weight vectors and how much variability exists between them across different cross-validated models."
   ]
  },
  {
   "cell_type": "code",
   "execution_count": 22,
   "id": "77327aba",
   "metadata": {
    "execution": {
     "iopub.execute_input": "2022-05-21T13:09:49.707500Z",
     "iopub.status.busy": "2022-05-21T13:09:49.706382Z",
     "iopub.status.idle": "2022-05-21T13:09:49.711861Z",
     "shell.execute_reply": "2022-05-21T13:09:49.711416Z"
    },
    "papermill": {
     "duration": 0.061813,
     "end_time": "2022-05-21T13:09:49.713501",
     "exception": false,
     "start_time": "2022-05-21T13:09:49.651688",
     "status": "completed"
    },
    "tags": []
   },
   "outputs": [
    {
     "data": {
      "text/plain": [
       "Index(['MedInc', 'HouseAge', 'AveRooms', 'AveBedrms', 'Population', 'AveOccup',\n",
       "       'Latitude', 'Longitude'],\n",
       "      dtype='object')"
      ]
     },
     "execution_count": 22,
     "metadata": {},
     "output_type": "execute_result"
    }
   ],
   "source": [
    "feature_names = train_features.columns\n",
    "feature_names"
   ]
  },
  {
   "cell_type": "markdown",
   "id": "460e1d3b",
   "metadata": {
    "papermill": {
     "duration": 0.080997,
     "end_time": "2022-05-21T13:09:49.876470",
     "exception": false,
     "start_time": "2022-05-21T13:09:49.795473",
     "status": "completed"
    },
    "tags": []
   },
   "source": [
    "For this, we will first construct a dataframe of weight vectors and then plot them with box plot."
   ]
  },
  {
   "cell_type": "code",
   "execution_count": 23,
   "id": "6c66d78e",
   "metadata": {
    "execution": {
     "iopub.execute_input": "2022-05-21T13:09:50.040224Z",
     "iopub.status.busy": "2022-05-21T13:09:50.039842Z",
     "iopub.status.idle": "2022-05-21T13:09:50.247861Z",
     "shell.execute_reply": "2022-05-21T13:09:50.247211Z"
    },
    "papermill": {
     "duration": 0.291849,
     "end_time": "2022-05-21T13:09:50.249589",
     "exception": false,
     "start_time": "2022-05-21T13:09:49.957740",
     "status": "completed"
    },
    "tags": []
   },
   "outputs": [
    {
     "data": {
      "image/png": "[encoded data removed]",
      "text/plain": [
       "<Figure size 576x396 with 1 Axes>"
      ]
     },
     "metadata": {},
     "output_type": "display_data"
    }
   ],
   "source": [
    "coefs = [est[-1].coef_ for est in lin_reg_cv_results[\"estimator\"]]\n",
    "weights_df = pd.DataFrame(coefs, columns=feature_names)\n",
    "\n",
    "color = {\"whiskers\": \"black\", \"medians\": \"black\", \"caps\": \"black\"}\n",
    "weights_df.plot.box(color=color, vert=False) #, figsize=(6, 16)\n",
    "_ = plt.title(\"Linear regression coefficients\")"
   ]
  },
  {
   "cell_type": "markdown",
   "id": "7f877745",
   "metadata": {
    "papermill": {
     "duration": 0.085978,
     "end_time": "2022-05-21T13:09:50.415742",
     "exception": false,
     "start_time": "2022-05-21T13:09:50.329764",
     "status": "completed"
    },
    "tags": []
   },
   "source": [
    "There is not much variability  in weights learned by different models. It can also by standard deviation of weights as seen in std row below:"
   ]
  },
  {
   "cell_type": "code",
   "execution_count": 24,
   "id": "0f7c2389",
   "metadata": {
    "execution": {
     "iopub.execute_input": "2022-05-21T13:09:50.583901Z",
     "iopub.status.busy": "2022-05-21T13:09:50.583683Z",
     "iopub.status.idle": "2022-05-21T13:09:50.617336Z",
     "shell.execute_reply": "2022-05-21T13:09:50.616840Z"
    },
    "papermill": {
     "duration": 0.116466,
     "end_time": "2022-05-21T13:09:50.619015",
     "exception": false,
     "start_time": "2022-05-21T13:09:50.502549",
     "status": "completed"
    },
    "tags": []
   },
   "outputs": [
    {
     "data": {
      "text/html": [
       "<div>\n",
       "<style scoped>\n",
       "    .dataframe tbody tr th:only-of-type {\n",
       "        vertical-align: middle;\n",
       "    }\n",
       "\n",
       "    .dataframe tbody tr th {\n",
       "        vertical-align: top;\n",
       "    }\n",
       "\n",
       "    .dataframe thead th {\n",
       "        text-align: right;\n",
       "    }\n",
       "</style>\n",
       "<table border=\"1\" class=\"dataframe\">\n",
       "  <thead>\n",
       "    <tr style=\"text-align: right;\">\n",
       "      <th></th>\n",
       "      <th>MedInc</th>\n",
       "      <th>HouseAge</th>\n",
       "      <th>AveRooms</th>\n",
       "      <th>AveBedrms</th>\n",
       "      <th>Population</th>\n",
       "      <th>AveOccup</th>\n",
       "      <th>Latitude</th>\n",
       "      <th>Longitude</th>\n",
       "    </tr>\n",
       "  </thead>\n",
       "  <tbody>\n",
       "    <tr>\n",
       "      <th>count</th>\n",
       "      <td>10.000000</td>\n",
       "      <td>10.000000</td>\n",
       "      <td>10.000000</td>\n",
       "      <td>10.000000</td>\n",
       "      <td>10.000000</td>\n",
       "      <td>10.000000</td>\n",
       "      <td>10.000000</td>\n",
       "      <td>10.000000</td>\n",
       "    </tr>\n",
       "    <tr>\n",
       "      <th>mean</th>\n",
       "      <td>0.852153</td>\n",
       "      <td>0.122770</td>\n",
       "      <td>-0.304384</td>\n",
       "      <td>0.353528</td>\n",
       "      <td>-0.001576</td>\n",
       "      <td>-0.037059</td>\n",
       "      <td>-0.894011</td>\n",
       "      <td>-0.869753</td>\n",
       "    </tr>\n",
       "    <tr>\n",
       "      <th>std</th>\n",
       "      <td>0.005763</td>\n",
       "      <td>0.004312</td>\n",
       "      <td>0.010998</td>\n",
       "      <td>0.018044</td>\n",
       "      <td>0.003254</td>\n",
       "      <td>0.008582</td>\n",
       "      <td>0.009975</td>\n",
       "      <td>0.009097</td>\n",
       "    </tr>\n",
       "    <tr>\n",
       "      <th>min</th>\n",
       "      <td>0.843517</td>\n",
       "      <td>0.117394</td>\n",
       "      <td>-0.318971</td>\n",
       "      <td>0.307474</td>\n",
       "      <td>-0.005787</td>\n",
       "      <td>-0.047584</td>\n",
       "      <td>-0.908058</td>\n",
       "      <td>-0.884206</td>\n",
       "    </tr>\n",
       "    <tr>\n",
       "      <th>25%</th>\n",
       "      <td>0.848871</td>\n",
       "      <td>0.119895</td>\n",
       "      <td>-0.310778</td>\n",
       "      <td>0.349715</td>\n",
       "      <td>-0.002688</td>\n",
       "      <td>-0.042486</td>\n",
       "      <td>-0.901411</td>\n",
       "      <td>-0.876542</td>\n",
       "    </tr>\n",
       "    <tr>\n",
       "      <th>50%</th>\n",
       "      <td>0.852711</td>\n",
       "      <td>0.121592</td>\n",
       "      <td>-0.305795</td>\n",
       "      <td>0.360139</td>\n",
       "      <td>-0.002063</td>\n",
       "      <td>-0.042325</td>\n",
       "      <td>-0.895370</td>\n",
       "      <td>-0.869631</td>\n",
       "    </tr>\n",
       "    <tr>\n",
       "      <th>75%</th>\n",
       "      <td>0.854743</td>\n",
       "      <td>0.125520</td>\n",
       "      <td>-0.302980</td>\n",
       "      <td>0.364646</td>\n",
       "      <td>-0.000350</td>\n",
       "      <td>-0.027562</td>\n",
       "      <td>-0.883967</td>\n",
       "      <td>-0.862110</td>\n",
       "    </tr>\n",
       "    <tr>\n",
       "      <th>max</th>\n",
       "      <td>0.861659</td>\n",
       "      <td>0.130560</td>\n",
       "      <td>-0.278426</td>\n",
       "      <td>0.367952</td>\n",
       "      <td>0.005297</td>\n",
       "      <td>-0.026331</td>\n",
       "      <td>-0.881884</td>\n",
       "      <td>-0.857844</td>\n",
       "    </tr>\n",
       "  </tbody>\n",
       "</table>\n",
       "</div>"
      ],
      "text/plain": [
       "          MedInc   HouseAge   AveRooms  AveBedrms  Population   AveOccup  \\\n",
       "count  10.000000  10.000000  10.000000  10.000000   10.000000  10.000000   \n",
       "mean    0.852153   0.122770  -0.304384   0.353528   -0.001576  -0.037059   \n",
       "std     0.005763   0.004312   0.010998   0.018044    0.003254   0.008582   \n",
       "min     0.843517   0.117394  -0.318971   0.307474   -0.005787  -0.047584   \n",
       "25%     0.848871   0.119895  -0.310778   0.349715   -0.002688  -0.042486   \n",
       "50%     0.852711   0.121592  -0.305795   0.360139   -0.002063  -0.042325   \n",
       "75%     0.854743   0.125520  -0.302980   0.364646   -0.000350  -0.027562   \n",
       "max     0.861659   0.130560  -0.278426   0.367952    0.005297  -0.026331   \n",
       "\n",
       "        Latitude  Longitude  \n",
       "count  10.000000  10.000000  \n",
       "mean   -0.894011  -0.869753  \n",
       "std     0.009975   0.009097  \n",
       "min    -0.908058  -0.884206  \n",
       "25%    -0.901411  -0.876542  \n",
       "50%    -0.895370  -0.869631  \n",
       "75%    -0.883967  -0.862110  \n",
       "max    -0.881884  -0.857844  "
      ]
     },
     "execution_count": 24,
     "metadata": {},
     "output_type": "execute_result"
    }
   ],
   "source": [
    "weights_df.describe()"
   ]
  },
  {
   "cell_type": "markdown",
   "id": "85a38c63",
   "metadata": {
    "papermill": {
     "duration": 0.083177,
     "end_time": "2022-05-21T13:09:50.785162",
     "exception": false,
     "start_time": "2022-05-21T13:09:50.701985",
     "status": "completed"
    },
    "tags": []
   },
   "source": [
    "## Selecting best model\n",
    "\n",
    "Let's select the model with the lowest cross validated error as the best performing model."
   ]
  },
  {
   "cell_type": "code",
   "execution_count": 25,
   "id": "42b689db",
   "metadata": {
    "execution": {
     "iopub.execute_input": "2022-05-21T13:09:50.947285Z",
     "iopub.status.busy": "2022-05-21T13:09:50.946856Z",
     "iopub.status.idle": "2022-05-21T13:09:50.950193Z",
     "shell.execute_reply": "2022-05-21T13:09:50.949751Z"
    },
    "papermill": {
     "duration": 0.086003,
     "end_time": "2022-05-21T13:09:50.951690",
     "exception": false,
     "start_time": "2022-05-21T13:09:50.865687",
     "status": "completed"
    },
    "tags": []
   },
   "outputs": [],
   "source": [
    "# Let's find out the best model that resulted in the least test error.\n",
    "best_model_index = np.argmin(test_error)\n",
    "selected_model = lin_reg_cv_results['estimator'][best_model_index]"
   ]
  },
  {
   "cell_type": "markdown",
   "id": "984f179a",
   "metadata": {
    "papermill": {
     "duration": 0.079931,
     "end_time": "2022-05-21T13:09:51.112111",
     "exception": false,
     "start_time": "2022-05-21T13:09:51.032180",
     "status": "completed"
    },
    "tags": []
   },
   "source": [
    "Let's examine the model coefficients"
   ]
  },
  {
   "cell_type": "code",
   "execution_count": 26,
   "id": "6aa32108",
   "metadata": {
    "execution": {
     "iopub.execute_input": "2022-05-21T13:09:51.274789Z",
     "iopub.status.busy": "2022-05-21T13:09:51.273748Z",
     "iopub.status.idle": "2022-05-21T13:09:51.280219Z",
     "shell.execute_reply": "2022-05-21T13:09:51.279479Z"
    },
    "papermill": {
     "duration": 0.089826,
     "end_time": "2022-05-21T13:09:51.282419",
     "exception": false,
     "start_time": "2022-05-21T13:09:51.192593",
     "status": "completed"
    },
    "tags": []
   },
   "outputs": [
    {
     "name": "stdout",
     "output_type": "stream",
     "text": [
      "Intercepts (w_0):  2.0779898917958657\n",
      "Coefficients (w_1, ..., w_m):  [ 8.44324888e-01  1.18463901e-01 -3.04619574e-01  3.56620503e-01\n",
      "  1.74458509e-04 -4.23964612e-02 -8.96045642e-01 -8.68906479e-01]\n"
     ]
    }
   ],
   "source": [
    "print(\"Intercepts (w_0): \", selected_model['lin_reg'].intercept_)\n",
    "print(\"Coefficients (w_1, ..., w_m): \", selected_model['lin_reg'].coef_)"
   ]
  },
  {
   "cell_type": "markdown",
   "id": "8a4ffd8b",
   "metadata": {
    "papermill": {
     "duration": 0.055694,
     "end_time": "2022-05-21T13:09:51.394336",
     "exception": false,
     "start_time": "2022-05-21T13:09:51.338642",
     "status": "completed"
    },
    "tags": []
   },
   "source": [
    "## Model Performance\n",
    "\n",
    "Towards this, let's first obtain the predictions for test points in cross validation."
   ]
  },
  {
   "cell_type": "code",
   "execution_count": 27,
   "id": "81b2515f",
   "metadata": {
    "execution": {
     "iopub.execute_input": "2022-05-21T13:09:51.505095Z",
     "iopub.status.busy": "2022-05-21T13:09:51.504864Z",
     "iopub.status.idle": "2022-05-21T13:09:51.599242Z",
     "shell.execute_reply": "2022-05-21T13:09:51.598701Z"
    },
    "papermill": {
     "duration": 0.152256,
     "end_time": "2022-05-21T13:09:51.601543",
     "exception": false,
     "start_time": "2022-05-21T13:09:51.449287",
     "status": "completed"
    },
    "tags": []
   },
   "outputs": [],
   "source": [
    "from sklearn.model_selection import cross_val_predict\n",
    "cv_predictions = cross_val_predict(lin_reg_pipeline,\n",
    "                        train_features, train_labels)"
   ]
  },
  {
   "cell_type": "code",
   "execution_count": 28,
   "id": "f4f222be",
   "metadata": {
    "execution": {
     "iopub.execute_input": "2022-05-21T13:09:51.812379Z",
     "iopub.status.busy": "2022-05-21T13:09:51.812158Z",
     "iopub.status.idle": "2022-05-21T13:09:52.010665Z",
     "shell.execute_reply": "2022-05-21T13:09:52.009807Z"
    },
    "papermill": {
     "duration": 0.285906,
     "end_time": "2022-05-21T13:09:52.012767",
     "exception": false,
     "start_time": "2022-05-21T13:09:51.726861",
     "status": "completed"
    },
    "tags": []
   },
   "outputs": [
    {
     "data": {
      "image/png": "[encoded data removed]",
      "text/plain": [
       "<Figure size 576x396 with 1 Axes>"
      ]
     },
     "metadata": {},
     "output_type": "display_data"
    }
   ],
   "source": [
    "mse_cv = mean_squared_error(train_labels, cv_predictions)\n",
    "\n",
    "plt.scatter(train_labels, cv_predictions, color='blue')\n",
    "plt.plot(train_labels, train_labels, 'r-')\n",
    "plt.title(f\"Mean squared error = {mse_cv:.2f}\", size=24)\n",
    "plt.xlabel('Actual Median House value', size = 15)\n",
    "plt.ylabel('Predicted Median House value', size=15)\n",
    "plt.show()"
   ]
  },
  {
   "cell_type": "markdown",
   "id": "813509ef",
   "metadata": {
    "papermill": {
     "duration": 0.08218,
     "end_time": "2022-05-21T13:09:52.178052",
     "exception": false,
     "start_time": "2022-05-21T13:09:52.095872",
     "status": "completed"
    },
    "tags": []
   },
   "source": [
    "- The model seems to all over the plce in its prdictions for examples with label 5.\n",
    "- There are some negative predictions. We can fix thsi by adding a constraints on the weights to be positive.\n",
    "\n",
    "At this stage, we should perform error analysis and check where the predictions are going wrong. We can revisit feature construction, preprocessing or model stages and make the necessary course corrections to get better performance."
   ]
  },
  {
   "cell_type": "markdown",
   "id": "df5267e3",
   "metadata": {
    "papermill": {
     "duration": 0.083088,
     "end_time": "2022-05-21T13:09:52.345004",
     "exception": false,
     "start_time": "2022-05-21T13:09:52.261916",
     "status": "completed"
    },
    "tags": []
   },
   "source": [
    "# Step #5: Predictions"
   ]
  },
  {
   "cell_type": "markdown",
   "id": "66f609d5",
   "metadata": {
    "papermill": {
     "duration": 0.081961,
     "end_time": "2022-05-21T13:09:52.509648",
     "exception": false,
     "start_time": "2022-05-21T13:09:52.427687",
     "status": "completed"
    },
    "tags": []
   },
   "source": [
    "We can use the best performing model from cross validation for getting predictions on the test set."
   ]
  },
  {
   "cell_type": "code",
   "execution_count": 29,
   "id": "a6cc4782",
   "metadata": {
    "execution": {
     "iopub.execute_input": "2022-05-21T13:09:52.676638Z",
     "iopub.status.busy": "2022-05-21T13:09:52.676406Z",
     "iopub.status.idle": "2022-05-21T13:09:52.689222Z",
     "shell.execute_reply": "2022-05-21T13:09:52.688645Z"
    },
    "papermill": {
     "duration": 0.097941,
     "end_time": "2022-05-21T13:09:52.690751",
     "exception": false,
     "start_time": "2022-05-21T13:09:52.592810",
     "status": "completed"
    },
    "tags": []
   },
   "outputs": [
    {
     "data": {
      "text/plain": [
       "array([0.73548515, 1.7725621 , 2.70011199, 2.83716602, 2.60743151])"
      ]
     },
     "execution_count": 29,
     "metadata": {},
     "output_type": "execute_result"
    }
   ],
   "source": [
    "test_predictions_cv = selected_model.predict(test_features)\n",
    "test_predictions_cv[:5]"
   ]
  },
  {
   "cell_type": "markdown",
   "id": "23ac6773",
   "metadata": {
    "papermill": {
     "duration": 0.085963,
     "end_time": "2022-05-21T13:09:52.850237",
     "exception": false,
     "start_time": "2022-05-21T13:09:52.764274",
     "status": "completed"
    },
    "tags": []
   },
   "source": [
    "We can also obtain predictions using the initial model that we built without cross validation."
   ]
  },
  {
   "cell_type": "code",
   "execution_count": 30,
   "id": "9af85679",
   "metadata": {
    "execution": {
     "iopub.execute_input": "2022-05-21T13:09:53.017605Z",
     "iopub.status.busy": "2022-05-21T13:09:53.017338Z",
     "iopub.status.idle": "2022-05-21T13:09:53.025488Z",
     "shell.execute_reply": "2022-05-21T13:09:53.024963Z"
    },
    "papermill": {
     "duration": 0.094058,
     "end_time": "2022-05-21T13:09:53.027319",
     "exception": false,
     "start_time": "2022-05-21T13:09:52.933261",
     "status": "completed"
    },
    "tags": []
   },
   "outputs": [
    {
     "data": {
      "text/plain": [
       "array([0.72412832, 1.76677807, 2.71151581, 2.83601179, 2.603755  ])"
      ]
     },
     "execution_count": 30,
     "metadata": {},
     "output_type": "execute_result"
    }
   ],
   "source": [
    "test_predictions = lin_reg_pipeline.predict(test_features)\n",
    "test_predictions[:5]"
   ]
  },
  {
   "cell_type": "code",
   "execution_count": null,
   "id": "3429a7de",
   "metadata": {
    "papermill": {
     "duration": 0.086092,
     "end_time": "2022-05-21T13:09:53.214457",
     "exception": false,
     "start_time": "2022-05-21T13:09:53.128365",
     "status": "completed"
    },
    "tags": []
   },
   "outputs": [],
   "source": []
  },
  {
   "cell_type": "markdown",
   "id": "9bf386b9",
   "metadata": {
    "papermill": {
     "duration": 0.083436,
     "end_time": "2022-05-21T13:09:53.382652",
     "exception": false,
     "start_time": "2022-05-21T13:09:53.299216",
     "status": "completed"
    },
    "tags": []
   },
   "source": [
    "# Step #6: Report model performance\n",
    "\n",
    "We report model performance on the test set."
   ]
  },
  {
   "cell_type": "code",
   "execution_count": 31,
   "id": "5a7c514d",
   "metadata": {
    "execution": {
     "iopub.execute_input": "2022-05-21T13:09:53.552917Z",
     "iopub.status.busy": "2022-05-21T13:09:53.552650Z",
     "iopub.status.idle": "2022-05-21T13:09:53.565700Z",
     "shell.execute_reply": "2022-05-21T13:09:53.564585Z"
    },
    "papermill": {
     "duration": 0.102018,
     "end_time": "2022-05-21T13:09:53.567990",
     "exception": false,
     "start_time": "2022-05-21T13:09:53.465972",
     "status": "completed"
    },
    "tags": []
   },
   "outputs": [
    {
     "name": "stdout",
     "output_type": "stream",
     "text": [
      "R2 score for the best model obtained via cross validation:  0.5923577635319088\n",
      "R2 score for the model without cv:  0.5910509795491351\n"
     ]
    }
   ],
   "source": [
    "score_cv = selected_model.score(test_features, test_labels)\n",
    "score = lin_reg_pipeline.score(test_features, test_labels)\n",
    "\n",
    "print(\"R2 score for the best model obtained via cross validation: \", score_cv)\n",
    "print(\"R2 score for the model without cv: \", score)"
   ]
  },
  {
   "cell_type": "markdown",
   "id": "665de7c0",
   "metadata": {
    "papermill": {
     "duration": 0.087128,
     "end_time": "2022-05-21T13:09:53.761739",
     "exception": false,
     "start_time": "2022-05-21T13:09:53.674611",
     "status": "completed"
    },
    "tags": []
   },
   "source": [
    "Alternatively we can use any other metric of interest and report performance based on that. For example, the mean squared error is as follows:"
   ]
  },
  {
   "cell_type": "code",
   "execution_count": 32,
   "id": "a8625d7c",
   "metadata": {
    "execution": {
     "iopub.execute_input": "2022-05-21T13:09:53.936430Z",
     "iopub.status.busy": "2022-05-21T13:09:53.936198Z",
     "iopub.status.idle": "2022-05-21T13:09:53.941991Z",
     "shell.execute_reply": "2022-05-21T13:09:53.941479Z"
    },
    "papermill": {
     "duration": 0.095187,
     "end_time": "2022-05-21T13:09:53.943792",
     "exception": false,
     "start_time": "2022-05-21T13:09:53.848605",
     "status": "completed"
    },
    "tags": []
   },
   "outputs": [
    {
     "name": "stdout",
     "output_type": "stream",
     "text": [
      "MSE for the best model obtained via cross validation:  0.5393995876218523\n",
      "MSE for model without cv:  0.5411287478470689\n"
     ]
    }
   ],
   "source": [
    "mse = mean_squared_error(test_labels, test_predictions)\n",
    "mse_cv = mean_squared_error(test_labels, test_predictions_cv)\n",
    "\n",
    "print(\"MSE for the best model obtained via cross validation: \", mse_cv)\n",
    "print(\"MSE for model without cv: \", mse)"
   ]
  },
  {
   "cell_type": "markdown",
   "id": "4582fc39",
   "metadata": {
    "papermill": {
     "duration": 0.086739,
     "end_time": "2022-05-21T13:09:54.117294",
     "exception": false,
     "start_time": "2022-05-21T13:09:54.030555",
     "status": "completed"
    },
    "tags": []
   },
   "source": [
    "The cross validation based model has slightly better MSE than the other model."
   ]
  },
  {
   "cell_type": "code",
   "execution_count": null,
   "id": "4b721b09",
   "metadata": {
    "papermill": {
     "duration": 0.085779,
     "end_time": "2022-05-21T13:09:54.289876",
     "exception": false,
     "start_time": "2022-05-21T13:09:54.204097",
     "status": "completed"
    },
    "tags": []
   },
   "outputs": [],
   "source": []
  }
 ],
 "metadata": {
  "kernelspec": {
   "display_name": "Python 3",
   "language": "python",
   "name": "python3"
  },
  "language_info": {
   "codemirror_mode": {
    "name": "ipython",
    "version": 3
   },
   "file_extension": ".py",
   "mimetype": "text/x-python",
   "name": "python",
   "nbconvert_exporter": "python",
   "pygments_lexer": "ipython3",
   "version": "3.7.12"
  },
  "papermill": {
   "default_parameters": {},
   "duration": 27.496072,
   "end_time": "2022-05-21T13:09:56.995079",
   "environment_variables": {},
   "exception": null,
   "input_path": "__notebook__.ipynb",
   "output_path": "__notebook__.ipynb",
   "parameters": {},
   "start_time": "2022-05-21T13:09:29.499007",
   "version": "2.3.4"
  }
 },
 "nbformat": 4,
 "nbformat_minor": 5
}
