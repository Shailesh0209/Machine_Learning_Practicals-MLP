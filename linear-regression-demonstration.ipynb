{
 "cells": [
  {
   "cell_type": "code",
   "execution_count": 1,
   "id": "e227aa78",
   "metadata": {
    "_cell_guid": "b1076dfc-b9ad-4769-8c92-a6c4dae69d19",
    "_uuid": "8f2839f25d086af736a60e9eeb907d3b93b6e0e5",
    "execution": {
     "iopub.execute_input": "2022-05-20T05:51:36.891908Z",
     "iopub.status.busy": "2022-05-20T05:51:36.891183Z",
     "iopub.status.idle": "2022-05-20T05:51:36.907558Z",
     "shell.execute_reply": "2022-05-20T05:51:36.906707Z"
    },
    "papermill": {
     "duration": 0.053058,
     "end_time": "2022-05-20T05:51:36.910251",
     "exception": false,
     "start_time": "2022-05-20T05:51:36.857193",
     "status": "completed"
    },
    "tags": []
   },
   "outputs": [],
   "source": [
    "# This Python 3 environment comes with many helpful analytics libraries installed\n",
    "# It is defined by the kaggle/python Docker image: https://github.com/kaggle/docker-python\n",
    "# For example, here's several helpful packages to load\n",
    "\n",
    "import numpy as np # linear algebra\n",
    "import pandas as pd # data processing, CSV file I/O (e.g. pd.read_csv)\n",
    "\n",
    "# Input data files are available in the read-only \"../input/\" directory\n",
    "# For example, running this (by clicking run or pressing Shift+Enter) will list all files under the input directory\n",
    "\n",
    "import os\n",
    "for dirname, _, filenames in os.walk('/kaggle/input'):\n",
    "    for filename in filenames:\n",
    "        print(os.path.join(dirname, filename))\n",
    "\n",
    "# You can write up to 20GB to the current directory (/kaggle/working/) that gets preserved as output when you create a version using \"Save & Run All\" \n",
    "# You can also write temporary files to /kaggle/temp/, but they won't be saved outside of the current session"
   ]
  },
  {
   "cell_type": "markdown",
   "id": "5ce2adb3",
   "metadata": {
    "papermill": {
     "duration": 0.02567,
     "end_time": "2022-05-20T05:51:36.964070",
     "exception": false,
     "start_time": "2022-05-20T05:51:36.938400",
     "status": "completed"
    },
    "tags": []
   },
   "source": [
    "Linear_regression_demonstration-w3-lec3/mlp/dip/iitm"
   ]
  },
  {
   "cell_type": "markdown",
   "id": "33e65130",
   "metadata": {
    "papermill": {
     "duration": 0.028569,
     "end_time": "2022-05-20T05:51:37.018353",
     "exception": false,
     "start_time": "2022-05-20T05:51:36.989784",
     "status": "completed"
    },
    "tags": []
   },
   "source": [
    "# Linear regression with sklearn API"
   ]
  },
  {
   "cell_type": "markdown",
   "id": "a52cd5fb",
   "metadata": {
    "papermill": {
     "duration": 0.026224,
     "end_time": "2022-05-20T05:51:37.070015",
     "exception": false,
     "start_time": "2022-05-20T05:51:37.043791",
     "status": "completed"
    },
    "tags": []
   },
   "source": [
    "The objective of this notebook is to demonstrate how to build a linear regression model with sklearn. We will be using the following set up:\n",
    "1. Dataset: California housing\n",
    "2. Linear regression API: LinearRegression\n",
    "3. Training: `fit` (normal equation) and `cross_validate`(normal equation with cross validation).\n",
    "4. Evaluation: `score`(r2 score) and `cross_val_score` with different scoring parameters.\n",
    "\n",
    "We will study the model dianosis with `LearningCurve`  and learn how to examine the learned model or weight vector.\n"
   ]
  },
  {
   "cell_type": "code",
   "execution_count": 2,
   "id": "84eb3841",
   "metadata": {
    "execution": {
     "iopub.execute_input": "2022-05-20T05:51:37.123374Z",
     "iopub.status.busy": "2022-05-20T05:51:37.122810Z",
     "iopub.status.idle": "2022-05-20T05:51:38.607542Z",
     "shell.execute_reply": "2022-05-20T05:51:38.606553Z"
    },
    "papermill": {
     "duration": 1.514345,
     "end_time": "2022-05-20T05:51:38.609878",
     "exception": false,
     "start_time": "2022-05-20T05:51:37.095533",
     "status": "completed"
    },
    "tags": []
   },
   "outputs": [],
   "source": [
    "# Importing packeges for manipulation and visualization\n",
    "import numpy as np\n",
    "import pandas as pd\n",
    "import matplotlib.pyplot as plt\n",
    "import seaborn as sns\n",
    "\n",
    "# importing dataset\n",
    "from sklearn.datasets import fetch_california_housing\n",
    "from sklearn.linear_model import LinearRegression# linear regression api\n",
    "\n",
    "# importing models\n",
    "from sklearn.model_selection import cross_validate\n",
    "from sklearn.model_selection import cross_val_score\n",
    "from sklearn.model_selection import learning_curve\n",
    "from sklearn.model_selection import ShuffleSplit#split in cross_validation\n",
    "\n",
    "# importing metrics\n",
    "from sklearn.metrics import mean_squared_error\n",
    "\n",
    "# importing pipeline\n",
    "from sklearn.pipeline import Pipeline\n",
    "from sklearn.preprocessing import StandardScaler"
   ]
  },
  {
   "cell_type": "code",
   "execution_count": 3,
   "id": "7aa14d97",
   "metadata": {
    "execution": {
     "iopub.execute_input": "2022-05-20T05:51:38.663490Z",
     "iopub.status.busy": "2022-05-20T05:51:38.662914Z",
     "iopub.status.idle": "2022-05-20T05:51:38.667759Z",
     "shell.execute_reply": "2022-05-20T05:51:38.666984Z"
    },
    "papermill": {
     "duration": 0.033552,
     "end_time": "2022-05-20T05:51:38.669699",
     "exception": false,
     "start_time": "2022-05-20T05:51:38.636147",
     "status": "completed"
    },
    "tags": []
   },
   "outputs": [],
   "source": [
    "np.random.seed(306)# setting seed to get repeatability across diff. runs\n",
    "plt.style.use('seaborn')"
   ]
  },
  {
   "cell_type": "markdown",
   "id": "8834a669",
   "metadata": {
    "papermill": {
     "duration": 0.025323,
     "end_time": "2022-05-20T05:51:38.722112",
     "exception": false,
     "start_time": "2022-05-20T05:51:38.696789",
     "status": "completed"
    },
    "tags": []
   },
   "source": [
    "We will use ShuffleSplit cross validation with:\n",
    "* 10 folds(n_splits) and\n",
    "* set aside 20% examples as test examples(test_size)"
   ]
  },
  {
   "cell_type": "code",
   "execution_count": 4,
   "id": "df00682f",
   "metadata": {
    "execution": {
     "iopub.execute_input": "2022-05-20T05:51:38.774864Z",
     "iopub.status.busy": "2022-05-20T05:51:38.774592Z",
     "iopub.status.idle": "2022-05-20T05:51:38.778359Z",
     "shell.execute_reply": "2022-05-20T05:51:38.777631Z"
    },
    "papermill": {
     "duration": 0.032354,
     "end_time": "2022-05-20T05:51:38.780106",
     "exception": false,
     "start_time": "2022-05-20T05:51:38.747752",
     "status": "completed"
    },
    "tags": []
   },
   "outputs": [],
   "source": [
    "shuffle_split_cv = ShuffleSplit(n_splits=10, test_size=0.2, random_state=0)\n",
    "# create 10 folds through shuffle split by keeping aside 20% examples as  test in each fold."
   ]
  },
  {
   "cell_type": "markdown",
   "id": "bc9dd8a3",
   "metadata": {
    "papermill": {
     "duration": 0.025105,
     "end_time": "2022-05-20T05:51:38.830525",
     "exception": false,
     "start_time": "2022-05-20T05:51:38.805420",
     "status": "completed"
    },
    "tags": []
   },
   "source": [
    "# STEP #1: Load the dataset"
   ]
  },
  {
   "cell_type": "code",
   "execution_count": 5,
   "id": "a668613f",
   "metadata": {
    "execution": {
     "iopub.execute_input": "2022-05-20T05:51:38.884257Z",
     "iopub.status.busy": "2022-05-20T05:51:38.883568Z",
     "iopub.status.idle": "2022-05-20T05:51:41.221770Z",
     "shell.execute_reply": "2022-05-20T05:51:41.220651Z"
    },
    "papermill": {
     "duration": 2.368639,
     "end_time": "2022-05-20T05:51:41.224501",
     "exception": false,
     "start_time": "2022-05-20T05:51:38.855862",
     "status": "completed"
    },
    "tags": []
   },
   "outputs": [],
   "source": [
    "features, labels = fetch_california_housing(as_frame=True, return_X_y=True)"
   ]
  },
  {
   "cell_type": "code",
   "execution_count": 6,
   "id": "a88eaa53",
   "metadata": {
    "execution": {
     "iopub.execute_input": "2022-05-20T05:51:41.277287Z",
     "iopub.status.busy": "2022-05-20T05:51:41.276873Z",
     "iopub.status.idle": "2022-05-20T05:51:41.282753Z",
     "shell.execute_reply": "2022-05-20T05:51:41.281862Z"
    },
    "papermill": {
     "duration": 0.035714,
     "end_time": "2022-05-20T05:51:41.285772",
     "exception": false,
     "start_time": "2022-05-20T05:51:41.250058",
     "status": "completed"
    },
    "tags": []
   },
   "outputs": [
    {
     "name": "stdout",
     "output_type": "stream",
     "text": [
      "Shape of feature matrix: (20640, 8)\n",
      "Shape of label vector: (20640,)\n"
     ]
    }
   ],
   "source": [
    "print(\"Shape of feature matrix:\", features.shape)\n",
    "print(\"Shape of label vector:\", labels.shape)"
   ]
  },
  {
   "cell_type": "markdown",
   "id": "b394ef79",
   "metadata": {
    "papermill": {
     "duration": 0.025844,
     "end_time": "2022-05-20T05:51:41.338615",
     "exception": false,
     "start_time": "2022-05-20T05:51:41.312771",
     "status": "completed"
    },
    "tags": []
   },
   "source": [
    "As a sanity check, make sure that the number of rows in feature matrix and labels match."
   ]
  },
  {
   "cell_type": "code",
   "execution_count": 7,
   "id": "9b27d26f",
   "metadata": {
    "execution": {
     "iopub.execute_input": "2022-05-20T05:51:41.391559Z",
     "iopub.status.busy": "2022-05-20T05:51:41.391023Z",
     "iopub.status.idle": "2022-05-20T05:51:41.396780Z",
     "shell.execute_reply": "2022-05-20T05:51:41.395852Z"
    },
    "papermill": {
     "duration": 0.034615,
     "end_time": "2022-05-20T05:51:41.398826",
     "exception": false,
     "start_time": "2022-05-20T05:51:41.364211",
     "status": "completed"
    },
    "tags": []
   },
   "outputs": [
    {
     "name": "stdout",
     "output_type": "stream",
     "text": [
      "20640\n",
      "20640\n"
     ]
    }
   ],
   "source": [
    "assert (features.shape[0] == labels.shape[0])\n",
    "print(features.shape[0])\n",
    "print(labels.shape[0])"
   ]
  },
  {
   "cell_type": "markdown",
   "id": "c62b4193",
   "metadata": {
    "papermill": {
     "duration": 0.026028,
     "end_time": "2022-05-20T05:51:41.451732",
     "exception": false,
     "start_time": "2022-05-20T05:51:41.425704",
     "status": "completed"
    },
    "tags": []
   },
   "source": [
    "# STEP #2: Data exploration"
   ]
  },
  {
   "cell_type": "code",
   "execution_count": null,
   "id": "b192de23",
   "metadata": {
    "papermill": {
     "duration": 0.026297,
     "end_time": "2022-05-20T05:51:41.504310",
     "exception": false,
     "start_time": "2022-05-20T05:51:41.478013",
     "status": "completed"
    },
    "tags": []
   },
   "outputs": [],
   "source": []
  },
  {
   "cell_type": "markdown",
   "id": "83c0fb75",
   "metadata": {
    "papermill": {
     "duration": 0.026145,
     "end_time": "2022-05-20T05:51:41.556781",
     "exception": false,
     "start_time": "2022-05-20T05:51:41.530636",
     "status": "completed"
    },
    "tags": []
   },
   "source": [
    "# STEP #3: Preprocessing and model building"
   ]
  },
  {
   "cell_type": "markdown",
   "id": "79fe2ef3",
   "metadata": {
    "papermill": {
     "duration": 0.026017,
     "end_time": "2022-05-20T05:51:41.608907",
     "exception": false,
     "start_time": "2022-05-20T05:51:41.582890",
     "status": "completed"
    },
    "tags": []
   },
   "source": [
    "## 3.1 Train and test split\n",
    "\n",
    "The first step is to split the training data into training and test set. We do not access the test data till the end. All data exploration and tuning is performed on the training set and by setting aside a small portion of training as a dev or validation set.\n",
    "\n",
    "The following code snippet divides the data into training and test sets."
   ]
  },
  {
   "cell_type": "code",
   "execution_count": 8,
   "id": "e02600a7",
   "metadata": {
    "execution": {
     "iopub.execute_input": "2022-05-20T05:51:41.662881Z",
     "iopub.status.busy": "2022-05-20T05:51:41.662077Z",
     "iopub.status.idle": "2022-05-20T05:51:41.670060Z",
     "shell.execute_reply": "2022-05-20T05:51:41.669479Z"
    },
    "papermill": {
     "duration": 0.037151,
     "end_time": "2022-05-20T05:51:41.672146",
     "exception": false,
     "start_time": "2022-05-20T05:51:41.634995",
     "status": "completed"
    },
    "tags": []
   },
   "outputs": [],
   "source": [
    "from sklearn.model_selection import train_test_split\n",
    "train_features, test_features, train_labels, test_labels = train_test_split(features, labels, random_state=42)"
   ]
  },
  {
   "cell_type": "code",
   "execution_count": 9,
   "id": "18651c2c",
   "metadata": {
    "execution": {
     "iopub.execute_input": "2022-05-20T05:51:41.727601Z",
     "iopub.status.busy": "2022-05-20T05:51:41.727066Z",
     "iopub.status.idle": "2022-05-20T05:51:41.732699Z",
     "shell.execute_reply": "2022-05-20T05:51:41.731688Z"
    },
    "papermill": {
     "duration": 0.035275,
     "end_time": "2022-05-20T05:51:41.735071",
     "exception": false,
     "start_time": "2022-05-20T05:51:41.699796",
     "status": "completed"
    },
    "tags": []
   },
   "outputs": [
    {
     "name": "stdout",
     "output_type": "stream",
     "text": [
      "# training samples: 15480\n",
      "# test samples: 5160\n"
     ]
    }
   ],
   "source": [
    "# let's examine the shapes of training and test sets\n",
    "print (\"# training samples:\", train_features.shape[0])\n",
    "print(\"# test samples:\", test_features.shape[0])"
   ]
  },
  {
   "cell_type": "markdown",
   "id": "3bb95a94",
   "metadata": {
    "papermill": {
     "duration": 0.026075,
     "end_time": "2022-05-20T05:51:41.787606",
     "exception": false,
     "start_time": "2022-05-20T05:51:41.761531",
     "status": "completed"
    },
    "tags": []
   },
   "source": [
    "It's time to perform another sanity check-here we check if the training feature matrix has the same number of rows as the training label vector. We perform the same check on test set too."
   ]
  },
  {
   "cell_type": "code",
   "execution_count": 10,
   "id": "21dd218e",
   "metadata": {
    "execution": {
     "iopub.execute_input": "2022-05-20T05:51:41.842466Z",
     "iopub.status.busy": "2022-05-20T05:51:41.842115Z",
     "iopub.status.idle": "2022-05-20T05:51:41.847264Z",
     "shell.execute_reply": "2022-05-20T05:51:41.846235Z"
    },
    "papermill": {
     "duration": 0.035314,
     "end_time": "2022-05-20T05:51:41.849453",
     "exception": false,
     "start_time": "2022-05-20T05:51:41.814139",
     "status": "completed"
    },
    "tags": []
   },
   "outputs": [],
   "source": [
    "assert (train_features.shape[0] == train_labels.shape[0])\n",
    "assert (test_features.shape[0] == test_labels.shape[0])"
   ]
  },
  {
   "cell_type": "markdown",
   "id": "b51a83ea",
   "metadata": {
    "papermill": {
     "duration": 0.026786,
     "end_time": "2022-05-20T05:51:41.903660",
     "exception": false,
     "start_time": "2022-05-20T05:51:41.876874",
     "status": "completed"
    },
    "tags": []
   },
   "source": [
    "## 3.2 Pipeline: preprocessing + model"
   ]
  },
  {
   "cell_type": "markdown",
   "id": "edf95fd5",
   "metadata": {
    "papermill": {
     "duration": 0.026796,
     "end_time": "2022-05-20T05:51:41.958024",
     "exception": false,
     "start_time": "2022-05-20T05:51:41.931228",
     "status": "completed"
    },
    "tags": []
   },
   "source": [
    "As a first step, build linear regression models with default parameter setting of `LinearRegression` APIs.\n",
    "> We will make use of `Pipeline` API for combining data preprocessing and model building.\n",
    "\n",
    "We will use `StandardScaler` feature scaling to bring all features on the same scale followed by a `LinearRegression` model.\n",
    "The `pipeline` object has two components:\n",
    "   1. `StandardScaler`  as step 1\n",
    "   2. `LinearRegression` as step 2\n",
    "   \n",
    "After constructing the pipeline object, let's train it with training set."
   ]
  },
  {
   "cell_type": "code",
   "execution_count": 11,
   "id": "dfd0aa1e",
   "metadata": {
    "execution": {
     "iopub.execute_input": "2022-05-20T05:51:42.012334Z",
     "iopub.status.busy": "2022-05-20T05:51:42.012035Z",
     "iopub.status.idle": "2022-05-20T05:51:42.050379Z",
     "shell.execute_reply": "2022-05-20T05:51:42.049582Z"
    },
    "papermill": {
     "duration": 0.069354,
     "end_time": "2022-05-20T05:51:42.053725",
     "exception": false,
     "start_time": "2022-05-20T05:51:41.984371",
     "status": "completed"
    },
    "tags": []
   },
   "outputs": [
    {
     "data": {
      "text/plain": [
       "Pipeline(steps=[('feature scaling', StandardScaler()),\n",
       "                ('lin_reg', LinearRegression())])"
      ]
     },
     "execution_count": 11,
     "metadata": {},
     "output_type": "execute_result"
    }
   ],
   "source": [
    "# Set up the linear regression model.\n",
    "lin_reg_pipeline = Pipeline([(\"feature scaling\", StandardScaler()),\n",
    "                             (\"lin_reg\", LinearRegression())])\n",
    "\n",
    "# train linear regression model with normal equation.\n",
    "lin_reg_pipeline.fit(train_features, train_labels)"
   ]
  },
  {
   "cell_type": "markdown",
   "id": "bb5dbb91",
   "metadata": {
    "papermill": {
     "duration": 0.030026,
     "end_time": "2022-05-20T05:51:42.119051",
     "exception": false,
     "start_time": "2022-05-20T05:51:42.089025",
     "status": "completed"
    },
    "tags": []
   },
   "source": [
    "Now that we have trained the model, let's check the learnt/estimated weight vectors (`intercept_` and `coef_`)."
   ]
  },
  {
   "cell_type": "code",
   "execution_count": 12,
   "id": "b2bffc69",
   "metadata": {
    "execution": {
     "iopub.execute_input": "2022-05-20T05:51:42.178474Z",
     "iopub.status.busy": "2022-05-20T05:51:42.178183Z",
     "iopub.status.idle": "2022-05-20T05:51:42.183326Z",
     "shell.execute_reply": "2022-05-20T05:51:42.182525Z"
    },
    "papermill": {
     "duration": 0.037306,
     "end_time": "2022-05-20T05:51:42.185570",
     "exception": false,
     "start_time": "2022-05-20T05:51:42.148264",
     "status": "completed"
    },
    "tags": []
   },
   "outputs": [
    {
     "name": "stdout",
     "output_type": "stream",
     "text": [
      "intercept (w_0): 2.0703489205426377\n",
      "weight vector (w_1, ... , w_m): [ 0.85210815  0.12065533 -0.30210555  0.34860575 -0.00164465 -0.04116356\n",
      " -0.89314697 -0.86784046]\n"
     ]
    }
   ],
   "source": [
    "print(\"intercept (w_0):\", lin_reg_pipeline[-1].intercept_)\n",
    "print(\"weight vector (w_1, ... , w_m):\", lin_reg_pipeline[-1].coef_)"
   ]
  },
  {
   "cell_type": "markdown",
   "id": "cb415241",
   "metadata": {
    "papermill": {
     "duration": 0.027658,
     "end_time": "2022-05-20T05:51:42.240481",
     "exception": false,
     "start_time": "2022-05-20T05:51:42.212823",
     "status": "completed"
    },
    "tags": []
   },
   "source": [
    "A couple of things to notice:\n",
    "* We accessed the LinearRegression object as `lin_reg_pipeline[-1]` which is the last step in the pipeline.\n",
    "* The intercept can be obtained via `intercept_` member variable and \n",
    "* The weight vector corresponding to features via `coef_`"
   ]
  },
  {
   "cell_type": "markdown",
   "id": "d91c301b",
   "metadata": {
    "papermill": {
     "duration": 0.027008,
     "end_time": "2022-05-20T05:51:42.294742",
     "exception": false,
     "start_time": "2022-05-20T05:51:42.267734",
     "status": "completed"
    },
    "tags": []
   },
   "source": [
    "# STEP #4: Model Evaluation"
   ]
  },
  {
   "cell_type": "markdown",
   "id": "1e381803",
   "metadata": {
    "papermill": {
     "duration": 0.027215,
     "end_time": "2022-05-20T05:51:42.349818",
     "exception": false,
     "start_time": "2022-05-20T05:51:42.322603",
     "status": "completed"
    },
    "tags": []
   },
   "source": [
    "## `Score`\n",
    "\n",
    "Let's use `score` method to obtain train and test errors with twin objectives\n",
    "> * Estimation of model performance as provided by test errror.\n",
    "> * Comparison of errors for model diagnostic purpose(under/over/just right fit)"
   ]
  },
  {
   "cell_type": "code",
   "execution_count": 13,
   "id": "0e29d1e3",
   "metadata": {
    "execution": {
     "iopub.execute_input": "2022-05-20T05:51:42.406443Z",
     "iopub.status.busy": "2022-05-20T05:51:42.405881Z",
     "iopub.status.idle": "2022-05-20T05:51:42.425131Z",
     "shell.execute_reply": "2022-05-20T05:51:42.424320Z"
    },
    "papermill": {
     "duration": 0.050937,
     "end_time": "2022-05-20T05:51:42.427967",
     "exception": false,
     "start_time": "2022-05-20T05:51:42.377030",
     "status": "completed"
    },
    "tags": []
   },
   "outputs": [
    {
     "name": "stdout",
     "output_type": "stream",
     "text": [
      "Model performance on test set:  0.5910509795491351\n",
      "Model performance on train set:  0.609873031052925\n"
     ]
    }
   ],
   "source": [
    "# evaluate model performance on the test set.\n",
    "test_score = lin_reg_pipeline.score(test_features, test_labels)\n",
    "print(\"Model performance on test set: \", test_score)\n",
    "\n",
    "train_score = lin_reg_pipeline.score(train_features, \n",
    "                                    train_labels)\n",
    "print(\"Model performance on train set: \", train_score)"
   ]
  },
  {
   "cell_type": "markdown",
   "id": "d0154e41",
   "metadata": {
    "papermill": {
     "duration": 0.049362,
     "end_time": "2022-05-20T05:51:42.527107",
     "exception": false,
     "start_time": "2022-05-20T05:51:42.477745",
     "status": "completed"
    },
    "tags": []
   },
   "source": [
    "The `score` method returns `r2` score whose best value is 1. The `r2` scores on training and test are comparable but they are not that high. It points to underfitting issue in model training."
   ]
  },
  {
   "cell_type": "code",
   "execution_count": null,
   "id": "70052838",
   "metadata": {
    "papermill": {
     "duration": 0.027436,
     "end_time": "2022-05-20T05:51:42.589281",
     "exception": false,
     "start_time": "2022-05-20T05:51:42.561845",
     "status": "completed"
    },
    "tags": []
   },
   "outputs": [],
   "source": []
  }
 ],
 "metadata": {
  "kernelspec": {
   "display_name": "Python 3",
   "language": "python",
   "name": "python3"
  },
  "language_info": {
   "codemirror_mode": {
    "name": "ipython",
    "version": 3
   },
   "file_extension": ".py",
   "mimetype": "text/x-python",
   "name": "python",
   "nbconvert_exporter": "python",
   "pygments_lexer": "ipython3",
   "version": "3.7.12"
  },
  "papermill": {
   "default_parameters": {},
   "duration": 16.678648,
   "end_time": "2022-05-20T05:51:43.337097",
   "environment_variables": {},
   "exception": null,
   "input_path": "__notebook__.ipynb",
   "output_path": "__notebook__.ipynb",
   "parameters": {},
   "start_time": "2022-05-20T05:51:26.658449",
   "version": "2.3.4"
  }
 },
 "nbformat": 4,
 "nbformat_minor": 5
}
