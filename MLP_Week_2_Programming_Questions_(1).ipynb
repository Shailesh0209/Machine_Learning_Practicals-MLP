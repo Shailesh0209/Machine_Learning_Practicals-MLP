{
  "nbformat": 4,
  "nbformat_minor": 0,
  "metadata": {
    "colab": {
      "name": "MLP_Week_2_Programming_Questions (1).ipynb",
      "provenance": [],
      "collapsed_sections": [],
      "include_colab_link": true
    },
    "kernelspec": {
      "name": "python3",
      "display_name": "Python 3"
    },
    "language_info": {
      "name": "python"
    }
  },
  "cells": [
    {
      "cell_type": "markdown",
      "metadata": {
        "id": "view-in-github",
        "colab_type": "text"
      },
      "source": [
        "<a href=\"https://colab.research.google.com/github/Shailesh0209/x_Machine_Learning_Practicals-diploma-IITM/blob/main/MLP_Week_2_Programming_Questions_(1).ipynb\" target=\"_parent\"><img src=\"https://colab.research.google.com/assets/colab-badge.svg\" alt=\"Open In Colab\"/></a>"
      ]
    },
    {
      "cell_type": "markdown",
      "source": [
        "**Question Group: 22T1_MLP_W2_PP**\n",
        "\n",
        "Total # of questiosn: 11"
      ],
      "metadata": {
        "id": "HQegadtfN54X"
      }
    },
    {
      "cell_type": "markdown",
      "source": [
        "# Practice Questions"
      ],
      "metadata": {
        "id": "8I99fpoxJsqV"
      }
    },
    {
      "cell_type": "markdown",
      "source": [
        "# Data Preprocessing"
      ],
      "metadata": {
        "id": "8cv5CAkwC8rt"
      }
    },
    {
      "cell_type": "markdown",
      "source": [
        "* V1: Recency - months since last donation\n",
        "* V2: Frequency - total number of donation\n",
        "* V3: Monetary - total blood donated in c.c.\n",
        "* V4: Time - months since first donation\n",
        "* V5: Wheather donor is had fever anytime in last month\n",
        "\n",
        "The target attribute is a binary variable representing whether he/she donated blood in March 2021 ('Yes' stands for donating blood; 'No' stands for not donating blood)."
      ],
      "metadata": {
        "id": "8vC32-Uutj06"
      }
    },
    {
      "cell_type": "markdown",
      "source": [
        "Download dataset from following: \n",
        "https://drive.google.com/file/d/1lvvHj0v9LKwe6XUezgpIUY_c0HdJUcCb/view?usp=sharing"
      ],
      "metadata": {
        "id": "i-hFa8HdcOkd"
      }
    },
    {
      "cell_type": "code",
      "source": [
        "import numpy as np\n",
        "import pandas as pd\n",
        "import seaborn as sns\n",
        "from matplotlib import pyplot as plt\n",
        "\n",
        "import os\n",
        "import requests\n",
        "\n",
        "from sklearn.datasets import fetch_openml\n",
        "from sklearn.preprocessing import StandardScaler, OneHotEncoder, OrdinalEncoder, MinMaxScaler\n",
        "from sklearn.compose import ColumnTransformer\n",
        "from sklearn.pipeline import Pipeline, FeatureUnion\n",
        "from sklearn.impute import SimpleImputer, KNNImputer\n",
        "from sklearn.linear_model import LogisticRegression\n",
        "from sklearn.feature_selection import RFE\n",
        "from sklearn.feature_selection import SequentialFeatureSelector\n",
        "from sklearn import set_config"
      ],
      "metadata": {
        "id": "2wmte20J2iN7"
      },
      "execution_count": null,
      "outputs": []
    },
    {
      "cell_type": "markdown",
      "source": [
        "## 1. Explore the dataset."
      ],
      "metadata": {
        "id": "JlM_XcBlcYHJ"
      }
    },
    {
      "cell_type": "markdown",
      "source": [
        "Download data file in CSV format from URL, upload it to runtime and then read it from local virtual disk."
      ],
      "metadata": {
        "id": "Y48uq-6rPKhm"
      }
    },
    {
      "cell_type": "code",
      "source": [
        "data=pd.read_csv('DataPreprocessingGraded_dataset.csv')"
      ],
      "metadata": {
        "id": "dyCcLda5WkoZ"
      },
      "execution_count": null,
      "outputs": []
    },
    {
      "cell_type": "code",
      "source": [
        "X=data[data.columns[:5]]\n",
        "y= data.Target"
      ],
      "metadata": {
        "id": "F4wIvyrgXFQ7"
      },
      "execution_count": null,
      "outputs": []
    },
    {
      "cell_type": "markdown",
      "source": [
        "# Instructions\n",
        "\n",
        "For all the questions below (practice and graded), use dataset from following link:\n",
        "'https://drive.google.com/file/d/1lvvHj0v9LKwe6XUezgpIUY_c0HdJUcCb/view?usp=sharing'"
      ],
      "metadata": {
        "id": "t6Y9uUw7nDjq"
      }
    },
    {
      "cell_type": "markdown",
      "source": [
        "## Que 1:\n",
        "How many samples are there in this dataset?\n",
        "\n",
        "A) 783\n",
        "\n",
        "B) 748\n",
        "\n",
        "C) 782\n",
        "\n",
        "D) 781\n",
        "\n",
        "**Answer: B**"
      ],
      "metadata": {
        "id": "VoGoTkJbTRGK"
      }
    },
    {
      "cell_type": "markdown",
      "source": [
        "**Solution**"
      ],
      "metadata": {
        "id": "FCJKiJr0qu6M"
      }
    },
    {
      "cell_type": "code",
      "source": [
        "X.shape[0]"
      ],
      "metadata": {
        "id": "lRANIXaZqp0C",
        "colab": {
          "base_uri": "https://localhost:8080/"
        },
        "outputId": "7888ea0c-d616-47db-99ab-d83bda5ec17e"
      },
      "execution_count": null,
      "outputs": [
        {
          "output_type": "execute_result",
          "data": {
            "text/plain": [
              "748"
            ]
          },
          "metadata": {},
          "execution_count": 6
        }
      ]
    },
    {
      "cell_type": "markdown",
      "source": [
        "## Que 2:\n",
        "How many input features are there in this dataset?\n",
        "\n",
        "A) 3\n",
        "\n",
        "B) 4\n",
        "\n",
        "C) 5\n",
        "\n",
        "D) 2\n",
        "\n",
        "**Answer: C**\n"
      ],
      "metadata": {
        "id": "BMhqYQw9TUQa"
      }
    },
    {
      "cell_type": "markdown",
      "source": [
        "**Solution**"
      ],
      "metadata": {
        "id": "cBvVPSPmqywM"
      }
    },
    {
      "cell_type": "code",
      "source": [
        "X.shape[1]"
      ],
      "metadata": {
        "id": "JhFx2BC2qxRR",
        "colab": {
          "base_uri": "https://localhost:8080/"
        },
        "outputId": "63e6f9f4-339e-4854-e0e8-e61e8fffde8b"
      },
      "execution_count": null,
      "outputs": [
        {
          "output_type": "execute_result",
          "data": {
            "text/plain": [
              "5"
            ]
          },
          "metadata": {},
          "execution_count": 7
        }
      ]
    },
    {
      "cell_type": "markdown",
      "source": [
        "## Que 3:\n",
        "What type of problem is this?\n",
        "\n",
        "[Hint: look at the target variable.]\n",
        "\n",
        "A) Regression\n",
        "\n",
        "B) Classification\n",
        "\n",
        "C) Clustering\n",
        "\n",
        "D) Association rule finding\n",
        "\n",
        "**Correct: B**"
      ],
      "metadata": {
        "id": "-U5MNcbtTZoJ"
      }
    },
    {
      "cell_type": "markdown",
      "source": [
        "**Solution**\n",
        "\n",
        "Since the target variable is binary, it is a classification problem."
      ],
      "metadata": {
        "id": "hURownfqq3Pb"
      }
    },
    {
      "cell_type": "code",
      "source": [
        "y.unique()"
      ],
      "metadata": {
        "id": "Z325WnKpq5Mj",
        "colab": {
          "base_uri": "https://localhost:8080/"
        },
        "outputId": "10e7ec2f-1cf8-43c8-e688-b8257d4dacdf"
      },
      "execution_count": null,
      "outputs": [
        {
          "output_type": "execute_result",
          "data": {
            "text/plain": [
              "array(['YES', 'NO'], dtype=object)"
            ]
          },
          "metadata": {},
          "execution_count": 8
        }
      ]
    },
    {
      "cell_type": "markdown",
      "source": [
        "## Que. 4\n",
        "\n",
        "Which of the features has least variance?\n",
        "\n",
        "[Hint: Ignore/remove missing values if any. Are there any categorical features?]\n",
        "\n",
        "A) V1\n",
        "\n",
        "B) V5\n",
        "\n",
        "C) V3\n",
        "\n",
        "D) V4\n",
        "\n",
        "E) V2\n",
        "\n",
        "**Correct: B**"
      ],
      "metadata": {
        "id": "-y5SmkVfTc7K"
      }
    },
    {
      "cell_type": "markdown",
      "source": [
        "**Solution**\n"
      ],
      "metadata": {
        "id": "dPPsUBDerR4L"
      }
    },
    {
      "cell_type": "code",
      "source": [
        "plt.figure(figsize=(8,8))\n",
        "plt.subplot(221)\n",
        "v1 = X.V1.replace('?',0)\n",
        "# v1 = v1.replace('?',0)\n",
        "sns.violinplot(data=v1)\n",
        "# sns.violinplot(v1)\n",
        "plt.subplot(222)\n",
        "v2 = X.V2.replace('?',0)\n",
        "sns.violinplot(data=v2)\n",
        "plt.subplot(223)\n",
        "sns.violinplot(data=X,y='V3')\n",
        "plt.subplot(224)\n",
        "sns.violinplot(data=X,y='V4')\n",
        "plt.show()"
      ],
      "metadata": {
        "colab": {
          "base_uri": "https://localhost:8080/",
          "height": 469
        },
        "id": "rNi3NzIprRHh",
        "outputId": "fd4642cf-1084-42a9-a1d0-449f801c49a3"
      },
      "execution_count": null,
      "outputs": [
        {
          "output_type": "display_data",
          "data": {
            "image/png": "[encoded data removed]",
            "text/plain": [
              "<Figure size 576x576 with 4 Axes>"
            ]
          },
          "metadata": {
            "needs_background": "light"
          }
        }
      ]
    },
    {
      "cell_type": "code",
      "source": [
        "X['V5'].unique()"
      ],
      "metadata": {
        "id": "tBvdA0ZDvZXQ",
        "colab": {
          "base_uri": "https://localhost:8080/"
        },
        "outputId": "2108ab36-1a0a-4617-9e17-71c40de0c49b"
      },
      "execution_count": null,
      "outputs": [
        {
          "output_type": "execute_result",
          "data": {
            "text/plain": [
              "array(['NEGATIVE'], dtype=object)"
            ]
          },
          "metadata": {},
          "execution_count": 10
        }
      ]
    },
    {
      "cell_type": "markdown",
      "source": [
        "##Que.5 \n",
        "\n",
        "Which of the following features has least number of outliers? \n",
        "\n",
        "[Hint: Which visualization marks outliers? Ignore/remove missing values if any]\n",
        "\n",
        "A) V1\n",
        "\n",
        "B) V2\n",
        "\n",
        "C) V3\n",
        "\n",
        "**Correct: A**"
      ],
      "metadata": {
        "id": "mKcf_mSOTjSW"
      }
    },
    {
      "cell_type": "markdown",
      "source": [
        "**Solution**"
      ],
      "metadata": {
        "id": "oynw6Y_QsS9h"
      }
    },
    {
      "cell_type": "code",
      "source": [
        "fig = plt.figure(figsize=(8,8))\n",
        "ax = fig.add_subplot(221)\n",
        "ax.title.set_text('V1')\n",
        "v1 = X.V1.replace('?',np.NaN)\n",
        "v1 = v1.dropna()\n",
        "sns.boxplot(data=v1)\n",
        "\n",
        "ax = fig.add_subplot(222)\n",
        "ax.title.set_text('V2')\n",
        "v2 = X.V2.replace('?',np.NaN)\n",
        "v2 = v2.dropna()\n",
        "sns.boxplot(data=v2)\n",
        "\n",
        "ax = fig.add_subplot(223)\n",
        "ax.title.set_text('V3')\n",
        "sns.boxplot(data=X,y='V3')\n",
        "\n",
        "ax = fig.add_subplot(224)\n",
        "ax.title.set_text('V4')\n",
        "sns.boxplot(data=X,y='V4')\n",
        "plt.show()"
      ],
      "metadata": {
        "id": "B06BK8iBsTKj",
        "colab": {
          "base_uri": "https://localhost:8080/",
          "height": 485
        },
        "outputId": "d2a202c1-5a8c-4769-f700-0bb4ed509407"
      },
      "execution_count": null,
      "outputs": [
        {
          "output_type": "display_data",
          "data": {
            "image/png": "[encoded data removed]",
            "text/plain": [
              "<Figure size 576x576 with 4 Axes>"
            ]
          },
          "metadata": {
            "needs_background": "light"
          }
        }
      ]
    },
    {
      "cell_type": "markdown",
      "source": [
        "## Que 6\n",
        "\n",
        "Which of the following is true about target variable?\n",
        "\n",
        "A) It has higher 'YES' entries than 'NO' entries.\n",
        "\n",
        "B) It has higher 'NO' entries than 'YES' entries.\n",
        "\n",
        "A) It has same number of entries of 'YES' and 'NO'\n",
        "\n",
        "**Correct: B**"
      ],
      "metadata": {
        "id": "ErUwtbdtt7MU"
      }
    },
    {
      "cell_type": "markdown",
      "source": [
        "**Solution**"
      ],
      "metadata": {
        "id": "dBQ7KQniunb1"
      }
    },
    {
      "cell_type": "code",
      "source": [
        "plt.figure()\n",
        "sns.histplot(y)\n",
        "plt.show()"
      ],
      "metadata": {
        "id": "uUjDqAoLt8bU",
        "colab": {
          "base_uri": "https://localhost:8080/",
          "height": 279
        },
        "outputId": "6879a4de-c925-4f79-d25d-3f56e82fb067"
      },
      "execution_count": null,
      "outputs": [
        {
          "output_type": "display_data",
          "data": {
            "image/png": "[encoded data removed]",
            "text/plain": [
              "<Figure size 432x288 with 1 Axes>"
            ]
          },
          "metadata": {
            "needs_background": "light"
          }
        }
      ]
    },
    {
      "cell_type": "markdown",
      "source": [
        "## Que. 7 \n",
        "How many features have missing values in the dataset? \n",
        "\n",
        "[Hint: missing values are marked by '?']\n",
        "\n",
        "A) 1\n",
        "\n",
        "B) 2\n",
        "\n",
        "C) 3\n",
        "\n",
        "D) 4\n",
        "\n",
        "**Answer: B**"
      ],
      "metadata": {
        "id": "gpek5wImQXLD"
      }
    },
    {
      "cell_type": "markdown",
      "source": [
        "**Solution**"
      ],
      "metadata": {
        "id": "Ly8yZFRawDdd"
      }
    },
    {
      "cell_type": "code",
      "source": [
        "tt=X.replace('?', np.NaN)\n",
        "tt.isnull().sum()"
      ],
      "metadata": {
        "id": "XX-fjI-lwD1A",
        "colab": {
          "base_uri": "https://localhost:8080/"
        },
        "outputId": "a2299e5c-325f-429d-a5f3-01e3dd3adcfc"
      },
      "execution_count": null,
      "outputs": [
        {
          "output_type": "execute_result",
          "data": {
            "text/plain": [
              "V1    5\n",
              "V2    5\n",
              "V3    0\n",
              "V4    0\n",
              "V5    0\n",
              "dtype: int64"
            ]
          },
          "metadata": {},
          "execution_count": 13
        }
      ]
    },
    {
      "cell_type": "markdown",
      "source": [
        "## Que. 8\n",
        "\n",
        "What is total number of missing values in the dataset?\n",
        "\n",
        "\n",
        "A) 12\n",
        "\n",
        "B) 13\n",
        "\n",
        "C) 10\n",
        "\n",
        "D) 11\n",
        "\n",
        "**Answer: C**"
      ],
      "metadata": {
        "id": "WYknF6mBJOFQ"
      }
    },
    {
      "cell_type": "markdown",
      "source": [
        "**Solution**"
      ],
      "metadata": {
        "id": "NOBx9edeQayl"
      }
    },
    {
      "cell_type": "code",
      "source": [
        "tt=X.replace('?', np.NaN)\n",
        "tt.isnull().sum().sum()"
      ],
      "metadata": {
        "id": "3sFskm0u8RHr",
        "colab": {
          "base_uri": "https://localhost:8080/"
        },
        "outputId": "7f2ee821-6f3c-4940-fbce-d0e18633adff"
      },
      "execution_count": null,
      "outputs": [
        {
          "output_type": "execute_result",
          "data": {
            "text/plain": [
              "10"
            ]
          },
          "metadata": {},
          "execution_count": 14
        }
      ]
    },
    {
      "cell_type": "markdown",
      "source": [
        "## Que. 9\n",
        "\n",
        "What is average of first feature (i.e. 'V1') after applyting `SimpleImputer(strategy = 'median')`?\n",
        "\n",
        "A) 9.552\n",
        "\n",
        "B) 9.572\n",
        "\n",
        "C) 9.592\n",
        "\n",
        "D) 9.752\n",
        "\n",
        "E) 9.567\n",
        "\n",
        "F) None of these\n",
        "\n",
        "**Ans: A**"
      ],
      "metadata": {
        "id": "mzGUg3qtInVK"
      }
    },
    {
      "cell_type": "markdown",
      "source": [
        "**Solution**"
      ],
      "metadata": {
        "id": "sK-DRgfIQns7"
      }
    },
    {
      "cell_type": "code",
      "source": [
        "ct = ColumnTransformer(transformers=[('scale', SimpleImputer(strategy = 'median'), [0])])\n",
        "X.V1=X.V1.replace('?',np.NaN)\n",
        "ct.fit_transform(X).mean()"
      ],
      "metadata": {
        "id": "IpDH1s-s-ShZ",
        "colab": {
          "base_uri": "https://localhost:8080/"
        },
        "outputId": "458b8f35-6030-4f45-ef3c-cf57186be603"
      },
      "execution_count": null,
      "outputs": [
        {
          "output_type": "stream",
          "name": "stderr",
          "text": [
            "/usr/local/lib/python3.7/dist-packages/pandas/core/generic.py:5170: SettingWithCopyWarning: \n",
            "A value is trying to be set on a copy of a slice from a DataFrame.\n",
            "Try using .loc[row_indexer,col_indexer] = value instead\n",
            "\n",
            "See the caveats in the documentation: https://pandas.pydata.org/pandas-docs/stable/user_guide/indexing.html#returning-a-view-versus-a-copy\n",
            "  self[name] = value\n"
          ]
        },
        {
          "output_type": "execute_result",
          "data": {
            "text/plain": [
              "9.552139037433156"
            ]
          },
          "metadata": {},
          "execution_count": 15
        }
      ]
    },
    {
      "cell_type": "markdown",
      "source": [
        "## Que. 10\n",
        "\n",
        "What is average of first column after applyting `KNNImputer(n_neighbors = 3)`?\n",
        "\n",
        "A) 9.562\n",
        "\n",
        "B) 9.572\n",
        "\n",
        "C) 9.592\n",
        "\n",
        "D) 9.752\n",
        "\n",
        "E) 9.567\n",
        "\n",
        "F) None of these\n",
        "\n",
        "**Ans: A**"
      ],
      "metadata": {
        "id": "eGOTWCA8qaWD"
      }
    },
    {
      "cell_type": "code",
      "source": [
        "ct = ColumnTransformer(transformers=[('impute', KNNImputer(n_neighbors = 3), [0])])\n",
        "\n",
        "ct.fit_transform(X).mean()"
      ],
      "metadata": {
        "id": "wsWCxuXr_drB",
        "colab": {
          "base_uri": "https://localhost:8080/"
        },
        "outputId": "fef36f0b-f37d-40aa-af2a-4177ce591ae0"
      },
      "execution_count": null,
      "outputs": [
        {
          "output_type": "execute_result",
          "data": {
            "text/plain": [
              "9.562584118438762"
            ]
          },
          "metadata": {},
          "execution_count": 16
        }
      ]
    },
    {
      "cell_type": "markdown",
      "source": [
        "## Que. 11\n",
        "\n",
        "What is average of second feature (i.e. 'V2') after applyting `SimpleImputer(strategy = 'mean')`?\n",
        "\n",
        "A) 5.469\n",
        "\n",
        "B) 5.564\n",
        "\n",
        "C) 5.464\n",
        "\n",
        "D) 5.764\n",
        "\n",
        "E) 5.456\n",
        "\n",
        "F) None of these\n",
        "\n",
        "**Ans: C**"
      ],
      "metadata": {
        "id": "pzE0V6wNSCzZ"
      }
    },
    {
      "cell_type": "markdown",
      "source": [
        "**Solution**"
      ],
      "metadata": {
        "id": "wgp6OyCIxc7O"
      }
    },
    {
      "cell_type": "code",
      "source": [
        "ct = ColumnTransformer(transformers=[('scale', SimpleImputer(strategy = 'mean'), [1])])\n",
        "X.V2=X.V2.replace('?',np.NaN)\n",
        "ct.fit_transform(X).mean()"
      ],
      "metadata": {
        "id": "yQSOAOQNAG2R",
        "colab": {
          "base_uri": "https://localhost:8080/"
        },
        "outputId": "cf30d4ac-943d-4628-ba6b-2076a059abc4"
      },
      "execution_count": null,
      "outputs": [
        {
          "output_type": "stream",
          "name": "stderr",
          "text": [
            "/usr/local/lib/python3.7/dist-packages/pandas/core/generic.py:5170: SettingWithCopyWarning: \n",
            "A value is trying to be set on a copy of a slice from a DataFrame.\n",
            "Try using .loc[row_indexer,col_indexer] = value instead\n",
            "\n",
            "See the caveats in the documentation: https://pandas.pydata.org/pandas-docs/stable/user_guide/indexing.html#returning-a-view-versus-a-copy\n",
            "  self[name] = value\n"
          ]
        },
        {
          "output_type": "execute_result",
          "data": {
            "text/plain": [
              "5.464333781965007"
            ]
          },
          "metadata": {},
          "execution_count": 17
        }
      ]
    },
    {
      "cell_type": "markdown",
      "source": [
        "# Graded Questions:\n",
        "Question Group Name: 22T1_MLP_W2_PG\n",
        "\n",
        "Total No. of Questions: 4"
      ],
      "metadata": {
        "id": "QVl9Fly-JRMy"
      }
    },
    {
      "cell_type": "markdown",
      "source": [
        "## Que. 1\n",
        "\n",
        "How many features remain after applying following pipeline to the feature matrix?\n"
      ],
      "metadata": {
        "id": "KzhLMBrW8Zsa"
      }
    },
    {
      "cell_type": "markdown",
      "source": [
        "![MLP Week 2 Programming Question-VarianceThreshold.jpg](data:image/jpeg;base64,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)"
      ],
      "metadata": {
        "id": "UJHA0luKGD-j"
      }
    },
    {
      "cell_type": "markdown",
      "source": [
        "A) 5\n",
        "\n",
        "B) 2\n",
        "\n",
        "C) 3\n",
        "\n",
        "D) 4\n",
        "\n",
        "**Ans: D**"
      ],
      "metadata": {
        "id": "SalbvEK_BvJW"
      }
    },
    {
      "cell_type": "markdown",
      "source": [
        "**Solution**"
      ],
      "metadata": {
        "id": "W3XiHd7G8p1v"
      }
    },
    {
      "cell_type": "code",
      "source": [
        "from sklearn.feature_selection import VarianceThreshold\n",
        "\n",
        "vt = VarianceThreshold(threshold = 0.1)\n",
        "\n",
        "numerical_pipe = ColumnTransformer(transformers=[('impute', SimpleImputer(strategy = 'mean'), [0,1,2,3])])\n",
        "scale_pipe = Pipeline(steps=[('numeric', numerical_pipe),\n",
        "                             ('scale', StandardScaler())])\n",
        "\n",
        "categorical_pipe = ColumnTransformer(transformers = [('cat', OrdinalEncoder(), [4])])\n",
        "complete_pipe = FeatureUnion([('numeric', scale_pipe), ('cat', categorical_pipe)])\n",
        "pipe = Pipeline (steps =[('cp',complete_pipe),\n",
        "                         ('varianceThreshold', VarianceThreshold(threshold =0.1))])\n",
        "                                     \n",
        "pipe.fit_transform(X).shape"
      ],
      "metadata": {
        "id": "8tusvZ_48uHN",
        "colab": {
          "base_uri": "https://localhost:8080/"
        },
        "outputId": "176939e4-9aeb-4e5b-fdb7-355bc3da0c4f"
      },
      "execution_count": null,
      "outputs": [
        {
          "output_type": "execute_result",
          "data": {
            "text/plain": [
              "(748, 4)"
            ]
          },
          "metadata": {},
          "execution_count": 18
        }
      ]
    },
    {
      "cell_type": "code",
      "source": [
        "data=pd.read_csv(\"/content/DataPreprocessingGraded_dataset.csv\",na_values=\"?\")\n",
        "y=pd.DataFrame(data.pop(\"Target\"))\n",
        "\n",
        "num_pipe=Pipeline([(\"colselect\",ColumnTransformer([(\"select\",\"passthrough\",[0,1,2,3])])),(\"impute\",SimpleImputer()),(\"scale\",StandardScaler())])\n",
        "cat_pipe=ColumnTransformer([(\"encode\",OrdinalEncoder(),[4])])\n",
        "pipe=FeatureUnion([(\"numerical\",num_pipe),(\"categorical\",cat_pipe)])\n",
        "tr_x=pipe.fit_transform(data)\n",
        "\n",
        "estimator=LogisticRegression()\n",
        "oe=OrdinalEncoder()\n",
        "tr_y=oe.fit_transform(y)\n",
        "rfe=RFE(estimator,n_features_to_select=2)\n",
        "\n",
        "rfe.fit_transform(tr_x,tr_y.reshape(-1,))\n",
        "rfe.support_"
      ],
      "metadata": {
        "colab": {
          "base_uri": "https://localhost:8080/"
        },
        "id": "5Fmodob7f0pn",
        "outputId": "8b2e5dc4-07aa-49b8-f5a7-c6f87e6ae9ad"
      },
      "execution_count": null,
      "outputs": [
        {
          "output_type": "execute_result",
          "data": {
            "text/plain": [
              "array([ True, False,  True, False, False])"
            ]
          },
          "metadata": {},
          "execution_count": 19
        }
      ]
    },
    {
      "cell_type": "code",
      "source": [
        "set_config(display=\"diagram\")"
      ],
      "metadata": {
        "id": "ag4iLtDxEpyJ"
      },
      "execution_count": null,
      "outputs": []
    },
    {
      "cell_type": "markdown",
      "source": [
        "## Que. 2\n",
        "\n",
        "What are the two most important features computed by RFE?\n",
        "\n",
        "Preprocess the data using pipeline shown in the diagram. Use `LogisticRegression` (with default parameters) for the `estimator`. Encode target variable via ordinal encoding."
      ],
      "metadata": {
        "id": "NgWWRA1JIwbf"
      }
    },
    {
      "cell_type": "markdown",
      "source": [
        "![MLP Week 2 Programming Question-LogisticRegressionjpg.jpg](data:image/jpeg;base64,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)"
      ],
      "metadata": {
        "id": "k9LDLHsVFGjR"
      }
    },
    {
      "cell_type": "markdown",
      "source": [
        "\n",
        "A)V1\n",
        "\n",
        "B)V2\n",
        "\n",
        "C)V3\n",
        "\n",
        "D)V4\n",
        "\n",
        "**Correct: A and C**"
      ],
      "metadata": {
        "id": "-9jg4FtKEVNS"
      }
    },
    {
      "cell_type": "markdown",
      "source": [
        "**Solution**"
      ],
      "metadata": {
        "id": "hQwHIsxLRbXN"
      }
    },
    {
      "cell_type": "code",
      "source": [
        "%%capture \n",
        "# use logistic regressor with default option for estimator\n",
        "estimator = LogisticRegression()\n",
        "\n",
        "# encode target via ordinal encoding\n",
        "# reshaping y is necessary because the transformer only accepts column vector\n",
        "y_encoded = OrdinalEncoder().fit_transform(y.to_numpy().reshape(-1,1)).reshape(-1,1)\n",
        "\n",
        "# create RFE object with necessary parameters\n",
        "selector = RFE(estimator, n_features_to_select=2)\n",
        "\n",
        "# run RFE on dataset\n",
        "selector = selector.fit(complete_pipe.fit_transform(X), y_encoded)"
      ],
      "metadata": {
        "id": "Wl1zSGCzRbnq"
      },
      "execution_count": null,
      "outputs": []
    },
    {
      "cell_type": "code",
      "source": [
        "# find the finally selected features\n",
        "# selected features have 'True' in corresponding indices\n",
        "print(selector.support_)"
      ],
      "metadata": {
        "colab": {
          "base_uri": "https://localhost:8080/"
        },
        "id": "zW4ZiP2DLiBA",
        "outputId": "da9f3e1a-9bf2-4f25-b111-b4c7140d1551"
      },
      "execution_count": null,
      "outputs": [
        {
          "output_type": "stream",
          "name": "stdout",
          "text": [
            "[ True False  True False False]\n"
          ]
        }
      ]
    },
    {
      "cell_type": "markdown",
      "source": [
        "## Que. 3\n",
        "\n",
        "What are the indices of two most important features computed by SFS (forward)?\n",
        "\n",
        "Preprocess the data using pipeline shown in the diagram. Use `LogisticRegression` (with default parameters) for the `estimator`. Encode target variable via ordinal encoding."
      ],
      "metadata": {
        "id": "QzBcyLbNLELJ"
      }
    },
    {
      "cell_type": "markdown",
      "source": [
        "![MLP Week 2 Programming Question-LogisticRegressionjpg.jpg](data:image/jpeg;base64,/9j/4AAQSkZJRgABAQAAAQABAAD/2wBDAAMCAgICAgMCAgIDAwMDBAYEBAQEBAgGBgUGCQgKCgkICQkKDA8MCgsOCwkJDRENDg8QEBEQCgwSExIQEw8QEBD/2wBDAQMDAwQDBAgEBAgQCwkLEBAQEBAQEBAQEBAQEBAQEBAQEBAQEBAQEBAQEBAQEBAQEBAQEBAQEBAQEBAQEBAQEBD/wAARCAFBAXMDASIAAhEBAxEB/8QAHgABAQADAQEBAQEBAAAAAAAAAAcFBggEAwkCAQr/xABBEAAABgECAgcECQMDBAMBAQAAAQIDBAUGBxESEwgUFyFYldUVGCJ3MTc4VpaXtbbTFiMyCUFRJCUzhTRCUiZi/8QAFAEBAAAAAAAAAAAAAAAAAAAAAP/EABQRAQAAAAAAAAAAAAAAAAAAAAD/2gAMAwEAAhEDEQA/AP1TAAAAAAAAAAGqaganYhpjEr5eWvWv/dpfUYLFXSzbWTIf5anOBDENp109kNrUZ8OxEk9zG1iO9IDEMmzC+0xi4zcZBSri5Q5Ik3FLEjvvV7Xs6WnmH1lh9hKVKUlG7jZl8ZEWyjIwFHxDL6nN6ZN9TRLqNGW4pokXFHNqZG6T7zOPMaadIv8AhRo2P/YzGbHMHSc0/wArlVOFQbqe5muM1rVg1dLv8Ady7rctaW+qvPVVScU1LSRPJQ623wNGZGaSNRLTLdQMEz+bX4xWzsCk22SY/jFM5X3NtgNjbWrq23uN84s1uc5FpZDaUlxpNx5549v/ACmlKQHb9LkdNkKrFFPM6wdVOcrpZctaOXIQSTUj4iLfYlp7y3Lv+kZIcn1eP1mmmoMvJqzSm7hxImptjPtnqTEJK1vszKtSGJSUsM8Uts3XDSpxonCbUtXMNHxGXxwbSvJL5EO9nYFJgZLWYLZ+wHrWCSVVVu9YzDbUhxaTS0+SHC2WkyMkOGZHwq7w62GkxtZdPpWbp0+asrErZx52My65Szm4EiQ0k1OMNT1MlEdeSSV7tIdUsuBe6fgVtEeh/hVvjORX0xVaqriO1MKNYxo+nU7FIz9ohazcfc65NeOdL2MyclNN8twuA+asyIi2tecRdRNbYWP5NjWaVVfh9u57GZXhdz1aynpaWjrztgUbqbcdKVuE0nmnxqMlqUR8KAF5AAAAAAAAAAAAAAAAE/zDXTT/AAjJl4dboyqbcNRGpzsajw+4ueSw4paW1uKgxXkt8RtrIiUZGfCfcN6iSW5sVmYyl1Lb7aXUE60tpZEotyJSFkSkH396VERkfcZEYiVjp5ml/wBJDIchq87zHD6tGNUzXPqYNeuNZuIkTFLZW5Nhv96CUncmlIUROd596TKY6s6f5zadIlVvIjOOSHLilkYvZR9PZlvNgw2ia60hi5bmsRatpSkyOc08kjcQ4rYnuJLZB1zYT4lXAk2c93lRojK33l8Jq4W0JNSj2Lcz2Ij7iLcfxU2kG8q4d1Vv8+FYR25UZ3hUnjacSSkK2URGW5GR7GRGOKYWndzk+p9vYTNIYMZq3Zymsvmv6CsGpUjmsO9WbnXMt9bdsy5wJU3y2uS2fAglI2QhXvbgTaHAJ+KY1pLlrDeS4LjEWpiw8TmR2W3YrrpTG3k8pJRHG+Pj4HibU4R7oJZmA7SAci5/pDZniOaZFV4ZFbnXGoT0jIHZuJvXLllQtuqNDTkFlbUiwiEtSXOrtubK3Wokr70KqPR7oMtxrQuRXUzbaJxv2T2PxbLH5GPxIza1qOM0mC4/JkRIpK/xbWZOJbMi5aNiSAptRm2K32R3eJU90xLtscOOVrGbJRnFU8g1tJUrbh4jSW/CRmZEZbkW5b5wc6dG3D9VMP1NzpjPMGqKmLKrqlftKDeyrIrGYXWFPO816DGJxSlOKUvb/AzSkiMjLbosAAAAAAAAAAAAAAAAAAAAAAAAAAAAAAAAAAAAAAAAAAAAazlmcRcTvsLoZEF19zM7x2jYcQoiKOtFbNnm4oj+kjTAWjYu/daT+gjGzCVayfWLoT8wJn7VvhVQAAAAAAAAAAAAAAAAAAAAAAAAGswM4iz9Sb3TZEF1Emio6m8ckmouBxE+RPZQ2RfSRpOuWZn9Bk4nb6DGzCVY59qfUP5f4b+o5GAqoAAAAAAAAAAAAAAAAAAAAAAAAAAAAAAAAAACf5hrpp/hGTLw63RlU24aiNTnY1Hh9xc8lhxS0trcVBivJb4jbWREoyM+E+4BQAHxiSW5sVmYyl1Lb7aXUE60tpZEotyJSFkSkH396VERkfcZEY/mwnxKuBJs57vKjRGVvvL4TVwtoSalHsW5nsRH3EW4D0APJU2kG8q4d1Vv8+FYR25UZ3hUnjacSSkK2URGW5GR7GRGPWAAAweN5xieYS7qFi97Gs3cenqq7Pq5mpMeWlCVqZNW3CakktO5EZ7Huk9jIyIM4AAAlWsn1i6E/MCZ+1b4VUSrWT6xdCfmBM/at8KqAAAAAAAAADVNQNTsQ0xiV8vLXrX/ALtL6jBYq6WbayZD/LU5wIYhtOunshtajPh2IknuYDawGExDL6nN6ZN9TRLqNGW4pokXFHNqZG6T7zOPMaadIv8AhRo2P/YzGbAAGNpcjpshVYop5nWDqpzldLLlrRy5CCSakfERb7EtPeW5d/0jJAAANPi6t4HMzVWn7NrLK3JbjLZuVctuG+82k1OMMzFNlGeeQklGpptxTiSQrdJcKtg3AAAAEqxz7U+ofy/w39RyMVUSrHPtT6h/L/Df1HIwFVAAAAAAAAAAABr+dZ5jOm+OO5Vl0uVHrmXmY5nFgSJry3XXEttoQxHQt1xSlqSkkpSZ7mA2ABrWD6g0OoMSTNoYGSxW4jhNOFeYxZUrijMt90InsMqcL/8A0gjIj7jPcbKAAMbCyOmsbuzx2HM5lhTpYXNZ5ay5RPJUpv4jLhVuSVf4me23fsMkAAA0271awygzONp/L9vybuU2y9yq3G7KwZjturUhtciRGYWzGSpTa9jdWgtkmf0FuA3IAAAAAAAAAAQyx08zS/6SGQ5DV53mOH1aMapmufUwa9cazcRImKWytybDf70EpO5NKQoic7z70mVzABx9qzp/nNp0iVW8iM45IcuKWRi9lH09mW82DDaJrrSGLluaxFq2lKTI5zTySNxDitie4ktlr8LTu5yfU+3sJmkMGM1bs5TWXzX9BWDUqRzWHerNzrmW+tu2Zc4Eqb5bXJbPgQSkbIQruEAHFrcCbQ4BPxTGtJctYbyXBcYi1MWHicyOy27FddKY28nlJKI43x8fA8TanCPdBLMxmM/0hszxHNMiq8MitzrjUJ6RkDs3E3rlyyoW3VGhpyCytqRYRCWpLnV23NlbrUSV96FdKQM4iz9Sb3TZEF1Emio6m8ckmouBxE+RPZQ2RfSRpOuWZn9Bk4nb6DGzAJF0YMcnY/pIzU2TT6Ibk+c5AiP449RNx4S3VG2yzXvyJD0ZgiM+W06pKkoMkm22REkshpDijeJZNqLAr8bTS06ryJ7LZZh9WjHHRWRG/wCwkiJPAlSFJ+HuI0mX+wpoAAAACVayfWLoT8wJn7VvhVRKtZPrF0J+YEz9q3wqoAAAAAAAAjvSAxDJswvtMYuM3GQUq4uUOSJNxSxI771e17Olp5h9ZYfYSlSlJRu42ZfGRFsoyMWIAHMHSc0/yuVU4VBup7ma4zWtWDV0u/wB3Luty1pb6q89VVJxTUtJE8lDrbfA0ZkZpI1EtMt1AwTP5tfjFbOwKTbZJj+MUzlfc22A2Ntaurbe43zizW5zkWlkNpSXGk3Hnnj2/wDKaUpHeIAOT6vH6zTTUGXk1ZpTdw4kTU2xn2z1JiEla32ZlWpDEpKWGeKW2brhpU40ThNqWrmGj4jL44NpXkl8iHezsCkwMlrMFs/YD1rBJKqq3esZhtqQ4tJpafJDhbLSZGSHDMj4Vd/SGWZxFxO+wuhkQXX3MzvHaNhxCiIo60Vs2ebiiP6SNMBaNi791pP6CMbMA5b6H+FW+M5FfTFVqquI7Uwo1jGj6dTsUjP2iFrNx9zrk1450vYzJyU03y3C4D5qzIiLcMzs7TKtbMLiVFPm/W8ZtnVy6+fRONUKIqmHm1WSbBLXKdf4HCQ0yUlR/wB0+NhKkmpu6AAAAAAlWOfan1D+X+G/qORiqiVY59qfUP5f4b+o5GAqoAAAAAAAAAAlHSZxy+yrTRilxs7Vuc7kVEtMirjIfkxUIsWFLkIQttxH9tJGszWhSCJO6iMtxVwAc86+6e543pVU0h5la5xEjZAzLv3chxZm8OTXctwuU9VVTcM5rKXTaUbTZcZ7bmThJ4TiWQ6d5NN0vxXDJWnLFzHVEvXqJd5pZaTo0Jbj/wD0kSNUpsFJpjJs/wCxJmOpU02RN8LPxIHeYAONk4evHrKyzM9Krxd4qPgV3azoeLSHJ0xiKtJTN3Etcch9s0EpcdJqf2SR8s+4bLjuBnqJqHUXWW6bWDlKWYZHcx2bymWTaSOPE6nIcaeR8BmpHG3xkSkrQXcS0GRX7ULOIun1DFvpkF2W3KvKWjJtpRJNK7GyjQEObn/shUpKzL6TJJkXeNmAcg9HDAM1otZk2uRRHI10xEs28olxtPZtZ7ScceSbJzLp+aqPaqI+9lUdlfAk1EfII+AbdqvjaGdWH7/DGtVo2olo/UM1r8P2geNLiMObunI5H/Qcsm1ySWmaZPcX/hIjNsz6QAAAAAAAAAAAAAAAAAAEqxz7U+ofy/w39RyMVUSrHPtT6h/L/Df1HIxVQAAAAAAASrWT6xdCfmBM/at8KqJVrJ9YuhPzAmftW+FVAAAAAAAAAAAAAAEq1k+sXQn5gTP2rfCqiVayfWLoT8wJn7VvhVQAAAAAAABKsc+1PqH8v8N/UcjFVEqxz7U+ofy/w39RyMBVQAAAAAAAAAAAAAAABKukt9XVR8wME/dVWKqJV0lvq6qPmBgn7qqxVQAAAAAAAAAAAAAAAAAAAfGWuU3FeXBYbekpbUbLbjhtoWvb4UqWSVGkjPYjPhPb6dj+gBMMc+1PqH8v8N/UcjFVH506Zf6h0XMulRNxSn0MyVvP8sg49hcuglzWW2KmXWz7hyydckpJSltstTUrLZkjVynSMkbJNX6LAAAAAAAAlWsn1i6E/MCZ+1b4VUcCdLrp549ohr1iuE6k6X5BHewTIzyetlV8hqQzeVsigs4TbiTXyzZWUqYltSdlkRMuqJSjJKVdtafX2Q5Tg1Dk2V4qeM3FrXsTJlMqV1lVe44glGwpzgRxLRvwq+Ei4iMi3+kw2EAAAAAAAAAAAABKtZPrF0J+YEz9q3wqo4E6XXTzx7RDXrFcJ1J0vyCO9gmRnk9bKr5DUhm8rZFBZwm3EmvlmyspUxLak7LIiZdUSlGSUq7a0+vshynBqHJsrxU8ZuLWvYmTKZUrrKq9xxBKNhTnAjiWjfhV8JFxEZFv9JhsIAAAAAACVY59qfUP5f4b+o5GKfLXKbivLgsNvSUtqNltxw20LXt8KVLJKjSRnsRnwnt9Ox/QPzv0y/1DouZdKibilPoZkref5ZBx7C5dBLmstsVMutn3Dlk65JSSlLbZampWWzJGrlOkZI2Sag/RYAAAAAAAAAAAAAAAASrpLfV1UfMDBP3VViqiVdJb6uqj5gYJ+6qsVUAAAAAAAAAAAAAAAEfqelZpLf1UK9oq/UqxrbGO3LhzImluUPMSWHEkpt1txNeaVoUkyUSiMyMjIyHr95bTr7uaq/lPlXpwCqgJV7y2nX3c1V/KfKvTg95bTr7uaq/lPlXpwDF4v0UNM8T6S+UdKCtYX/UeT1bMBcY0J5EZ0tifkt/8OOobZSZ7EZbOnufNVtaRKveW06+7mqv5T5V6cHvLadfdzVX8p8q9OAVUBKveW06+7mqv5T5V6cHvLadfdzVX8p8q9OAVUBKveW06+7mqv5T5V6cHvLadfdzVX8p8q9OAYvXPooaZ6/Z9pzqFmjCznad2hz2W0ISaLBruWmM/v9LZPIac2PcticTts4ZlaRKveW06+7mqv5T5V6cHvLadfdzVX8p8q9OAVUBKveW06+7mqv5T5V6cHvLadfdzVX8p8q9OAVUBKveW06+7mqv5T5V6cHvLadfdzVX8p8q9OAVUBKveW06+7mqv5T5V6cHvLadfdzVX8p8q9OAVUBKveW06+7mqv5T5V6cHvLadfdzVX8p8q9OAYvXPooaZ6/Z9pzqFmjCznad2hz2W0ISaLBruWmM/v9LZPIac2PcticTts4ZlaRKveW06+7mqv5T5V6cHvLadfdzVX8p8q9OAVUBKveW06+7mqv5T5V6cHvLadfdzVX8p8q9OAVUBKveW06+7mqv5T5V6cHvLadfdzVX8p8q9OAVURbF+ihpnifSXyjpQVrC/6jyerZgLjGhPIjOlsT8lv/hx1DbKTPYjLZ09z5qtsp7y2nX3c1V/KfKvTg95bTr7uaq/lPlXpwCqgJV7y2nX3c1V/KfKvTg95bTr7uaq/lPlXpwCqgMTieU0Wc4rTZri07rtLkFfHtK6Tylt8+K+2lxpzgWSVp4kLSeyiJRb7GRH3DLAAAAAAAAAAAJV0lvq6qPmBgn7qqxVRKukt9XVR8wME/dVWKqAAAAAAAAAAAAAAJV0TvssaN/L/Hv05gVUSronfZY0b+X+PfpzAqoAAAAAAAAAAAAAA571a13zHD9RJuKQ8pwLDmoUaO9UR8zhvtJzB5ZbqjQbA5LEaO4StmuHhkuJUsnFNknYlbNY6+t0FvIo7HEb6zt3rSPUQqasixuemW5WddNlT7spLK+5K080zaQR7Ee6S5h5DP8ATXUnJJFxBxXVCurMfyZjq9tX3GPrtXWUqaJpzqDnWmURuJstzS60+jmfHw96kq81ToLGpcur8lh5O6pitto9i1Gdjca1IaqDrktqd4y3MyMnDXw/T8O3/wBgGKhdK3Dn6ibf2GD5pVV0Whm37L82FGLrjcJaUTGWkIfUvmtLUST40obX9La3E/EPTM6QC5MdpmDiNpQWaLyliPQsiZaS47Wz5JNImNdXfWRJUknOElqJaFIMnG0n8IwWd9He5XppJpseu1WVnBxfI6aIwhhDCpTtk8h5JktbnC2aDb4fi3I99zNO2x5mNoLf2ry7zOc9jWd45NpV86HUKiR0Qa2Qp5qPylSHDN1anHON7jIjNRGltJFwmHmtek5XSMbyKyx3EruG5HxyxyDGbO2jsnW37MVPxuM8h9TqUEpTZ8L6WFqSslIJRbmXuyDpK0WM2j9RKwPMLQ6+XXV1jOq4cd2NHlTm21RUcKn0vLJxbqW90Nq4FHu5wI+MaZjPQtx/Fm8jg1MnCa+NaUM+hgS6zAocS3JEotjdn2BOKdmLSWxFy+rkrvNwnFbKTRJuiPXFW6v6n4Pat/R3n/wt+X7OKMXK/wDJ38zq3+Xdw8f0K27w8B9JOrXFq2YWl+czb+0fs4iceYYgHNYkQFJKQ064coopGRLJSVE+aFEWxK4jSk8m10g8Fk0FvksONbPwqWgh5E+aY6ErXHkm8lLaUqWRk6k2HCUlXCRHsW59+2o5DovqZBzuqu9OMur6505uRWb1lY1PXI0ZU5cY0x3IyZTLjvchwyWhxOykJNRbfCr5WvRatkVL2NYjqgdZT2mNxceuETqcpkmT1Z111t9p5LzRMmpT7pOpUhwlJMiRyzLiMMnB6RNmxeZdSXOmt9Il12Upx3G4NccHrNyfUW5SuA3JhNpNKOa4anlMpJBoLvXukZ6m1+x/IrrFqCgxLJp0zJ4suYpJMRmvZTcV9EeSUvmvpMlNvLJBpa5hmZGaeIu8apqF0WoufyrmVaWWKWbcnIGckq4OR4mm3gsSSgphvIlMLkIKS2ptJKRwGyttffxqLuG1aa6HxNOZmPS4dlWEmjpJlSqJWUMeriLXJktyFONMR9m2UJNs0pRspRkZGpxSiNSgqAAAAAAAAAAAAAAAAAlXRO+yxo38v8e/TmBVRKuid9ljRv5f49+nMCqgAAAAAAAAAAJV0lvq6qPmBgn7qqxVRKukt9XVR8wME/dVWKqAAAAAAAAAAAAAAJV0TvssaN/L/Hv05gVUSronfZY0b+X+PfpzAqoAAAAAAAAAAAITm8jO8xq88XiOVezbFm9h45WwnrZdaiSwyTL0lhp8kqNmTJJ15tL6EmtJE2aTTw8Quw0uw0sobeZkbVuRSqbJjjSpMDZba2Z7JEkpTL7a0raXwtsbGjZSFspWlRKMwHPE61z6kp5WPYff5rg85rIsVdVQZ1Jcv5kViTP5TjjdgzaPKfjvqTwm0t8zSTTieFBOp23az1m1OgY7kWRzb3Ea6P8A1VIxiiZRitrazC5D7qFu9UhPLfnuKSjuYaSxwEhxxThpLhKgxNAdL4lFPoPZlxKRZyI0qVOnZHZS7NxyM4Tkc+vvSFSiJtZboSTpJSZq2IuJW/tvNGNO8goTxydVT2YvtZ29begXM2DLZnuKWpx9qVHdQ+0pRuOEfAtJGlak7cJmQCA0WvGpdhZ1OpdxZxF1FLh+WyrSlYpJ1cqyfrprTSHUsSZHHEWoiTs2824tridSZmat05PGOkZq9cQpdS/RMe07WTURaK5n4DfUNdFfnOKQ4w8xPNK5hsEjj5jLzZO8aU8LP+R2er0O0upXIDlZjKmE1ybFDTRT5JtLROVxy0PNm4aH0OLIlGh0lJJXeREfeNXvujRiCMLvccwFtiusr3qiF2WQSrW6VHajucbLbC+vsyY6Wj4jZTHkNJaWfGkt9yMMJB11zrGmp8zUhjHXoVVZXdK/Iqor7PPlxIzciLwJcdXw85BSCNBmrZXAklHsZq/zKekddYPk9XheR3ug8K1diwlTo13qgqlsUvupTzCbr1QXz4eIzJvd4zWW3eW4ylF0bY8DD6TDrvIYNrFYyZGWXZrq1n1+e26l5nkm9IdWwlLrbalKcW+6vY93OJSlnawEBzvKdXtObV7FMLvaSxT7CyDM5FjkUWTMW2TUxtbUFpDchsyb5b620r4vg5aDJCi+AYS66RWqGJUl0eQ19FLs5LOPSaVdPRWM1MFNst1HA/EZcXInmxyVK3YJk3iMkkhrvUL5dYRi+Qz3bO4rOsSX6uTSuL5ziN4T5pN1rZKiL4jQn4tuItu4y7xibXR7Tq6hT4Fhj6lt2MCFWvKbmyGnUsxFLVFNpxCyWy40palJdbNLhK2VxbpIyCOO9IXUdeBwpEjq1Hfu28uAiXM00yWS7ZxmG0uFKi0CCROS2rjJK1OPcDRpM+JziSQ8UrpDa0XuGx8ww+Jh9e1B0/i5xZs2tXMdVIWpT5ORGiJ9pUfiJkzStxLhtmRkpC9/hrSujvpOdZWViKe3a9kzXrBmYzkdk3PefeLZ45MxMgpEpLhEklofccSskoJRGSU7ZGv0T0vqaF7GKzFW41U/RJxlUVuS+lBViTcNMdPx/Akua4RGnZREZER7EREGCt27vDo9FlycotJxWOUt86LIkLU0UOydS0UYkmo07MqW2pCtiMuBSS4SWojqo128w9u8n4+bs3l1lDJKb1Em9+sPoRwsGpZq7ktmal8OxmaybPcuEyVsQAAAAAAAAAAAAAAlXRO+yxo38v8AHv05gVUSronfZY0b+X+PfpzAqoAAAAAAAAAACVdJb6uqj5gYJ+6qsVUSrpLfV1UfMDBP3VViqgAAAAAAAAAAAAACVdE77LGjfy/x79OYFVEq6J32WNG/l/j36cwKqAAAAAAAAAAAAJ1nGsErE8zjYHQ6VZhmdq/VnbuJo3atpEeOTvKI1qnzY25mr6CRxd307DOHqXhkKyocbyfIKvG8myNnnV+O2tpEbsnjIt1oQ0h1RPKTsZKNpS09x7GZd4DaQGoWmr+lVNe2GKWOpGLsX9VCcsZlOu4jJnMRkI5inVsGslpQSPi4jIi2PffYfLCdYtOM/wALg55Q5ZV+y5tSi7Up2exxRYiuLdx40rUlBJUhxKj4uElNrLf4TAboA1aTqpphCkW8SZqPi7D9BEOfbNO3EdK6+MREZvSCNe7TZEZHxr2LvLvHxZ1Wwec7jK6S8iXNfliZS661rZLMiCpEdo3HFm8lfCadkmRGniLcu/b6QG3gNXoNU9MMsK0PFtR8XuSo2ydtPZ9xHkdRQaTUSn+BZ8ojSRqI1bdxGYwlDr9pLkUDJL6Dm1MjHcXOP1zIXLKMVUtDzSXEuNyicNs0ESiSajNPxd3f9IChgMDCz7BLKr9t12a0Mqu9nIuOuM2TK2OoK4uGVxkrh5J8KtnN+E+E+/uMZxC0OoS42tK0LIlJUk9yMj+gyMB/QDF5VkULEcZtsrsmn3YlNCfnvoYSSnFNtINaiSSjIjVsk9tzIt/9yE8sekRQ0/s07bB8qiper4dpdLU3CWjHY0pam2FzVIkmSuJSFkZRueaSSalcKfiAVcBrGouo+KaWYlMzLLpzjUKI2pSGo7SnpMpwkmomWGk7qdcUST2SkjPuMz2IjMvhWakQbPKanGG6C3ZK7o1X0Ke6Ufqy2kqaJbJkl03Uup57Rnu3wGSu5ZmRkQbcAAAAAAAAAAAAAlXRO+yxo38v8e/TmBVRKuid9ljRv5f49+nMCqgAAAAAAAAAAJV0lvq6qPmBgn7qqxVRKukt9XVR8wME/dVWKqAAAAAAAAAAAAAAJV0TvssaN/L/AB79OYFVEUxPo5ZRg2K02FYt0o9VYVLj9fHq66N1LGHORFYbS203xrp1LVwoQkt1Gaj23MzPvGW7G9RfFjqr5bivowCqgJV2N6i+LHVXy3FfRg7G9RfFjqr5bivowCqgJV2N6i+LHVXy3FfRg7G9RfFjqr5bivowCqgJV2N6i+LHVXy3FfRg7G9RfFjqr5bivowDwZxoqWoOuEbKL48li0UTFDgNy6PLJ9KtUs5nGba+oSWXXC4O8uPdBH9HeJ/qlonqLc6rWbtaWaz8dyeXRyDOssKFmviFAUg/+ucsIz1glSVINxBxOPiNWx8pRqcOn9jeovix1V8txX0YOxvUXxY6q+W4r6MAlitNdbrbV2NYWNLcxqGry2xsiZa9gMUS4r8SU0zKjkyj2k5JPmN885C0ka3FmhK0kng8UvT/AFqgaeJoazSWfMn3el7eGOoVa1yCrZ8YnyJb5nI2Uy6TvwKZNxRHsS0tkZmmwdjeovix1V8txX0YOxvUXxY6q+W4r6MAn2V6KZ9NwTM2qaFYQbWVm1bk8ZNZIgdcnMRGIRcLJyycik7xR1khMhJNmpCeLhIyWX+YNpFqBDRUW8+myLnyrbIbSeWQWFQ5PbVKgchpTyK1pmI2txaSM0M80iNXEpwzNW1C7G9RfFjqr5bivowdjeovix1V8txX0YBM5XR/yz+hKjGqnE4UVVfpjBoHIpvMJadmRpMd44CzI1FwLJtxHHsaC4zPfv7/ACZTphqvmD93n9Xg+RYXKcymoyFirrJtI5cyG49euM4aeeb9d1hK1JURPKUg0oTs4lW3BV+xvUXxY6q+W4r6MNK0QxDVrUrRfAdRr3pU6lMWWVYvVXcxqJV4ulht+TEbecS2lVQpRIJSzIiNSj223M/pAYnF9GdQGcVoWl4tZR5lFPn5Q6m8tYDkuzdkzFPHWPHWoYjIJZpJ5xJIUwh0mNlPklaisGrunK9WsMj0LlNg7yzfalqjZtiicihtmST3LqyZLKSdLi2JZOGRfFsR77jFdjeovix1V8txX0YOxvUXxY6q+W4r6MAxNjp72Y9GfNsV9n4VD5dHbv8AKxDGPYFcXHHWe6YnPf2X/wDpXM+I/wDYhpmR4pk+e0dn2eVTOS45qxiVPUov4FpFXEq+TzUuvu8TpKcaNp4jR1dLpmtKiUlJHxHSexvUXxY6q+W4r6MHY3qL4sdVfLcV9GAbBkLz+ZYBmmN0lbK64xEnUjKHlNJKS+cbZKkKJZp4TNxJbqNJkZKJRFsNTpZESDq5gGIyZ0QrqpwKcc2AmQhb0cjdr0JUpKTMySam3CJX0GaFbGexj2djeovix1V8txX0YOxvUXxY6q+W4r6MAqoCVdjeovix1V8txX0YOxvUXxY6q+W4r6MAqoCVdjeovix1V8txX0YOxvUXxY6q+W4r6MAqoCVdjeovix1V8txX0YOxvUXxY6q+W4r6MAqoCVdjeovix1V8txX0YOxvUXxY6q+W4r6MAdE77LGjfy/x79OYFVGv6e4VVaa4BjWnNFIlv1uK08Kkhuy1pU+4xGZQy2pxSUpSazSgjMySkt99iL6BsAAAAAAAAAAACVdJb6uqj5gYJ+6qsVUSrpLfV1UfMDBP3VViqgAAAAAAAAAAAAAAAAAAAAAAAAAAAAAAAAAAAAACVdE77LGjfy/x79OYFVEq6J32WNG/l/j36cwAqoAAAAAAAAAAAAAAAAAAAAAAAAAAAAAAAAAAAAlXSW+rqo+YGCfuqrFVEq6S31dVHzAwT91VYqoAAAAAAAAAAAAAAAAAAAAAAAAAAAAAAAAAAAAAOe+nJorkesWhk+Rp3YWFbqBhjh5Hik6tfWxLRMZQolstuNmSiN1lTjZERkXGbZn/AIiW/wClrodlOBaJNaqamSrSVleaRYsaEizdccdraCIk24EVBOGZtoMjW4SU7J4FMlsXAO1gAAAAAAAAAAAAAAAAAAAAAAAAAAAAAAAAAAAAAB+d/wDqmaD6rTnsY1v0CnZHGvZc6txy+iUUp1lyYaJaXqqSom1JI1My+EiWrcyWuOZbcG5djdHLRyLoNo5jumyJip8+CwqRb2C1qWufZvqN2VIUpXxK4nVr24tzJPCW/cKUAAAAAAAAAAAAAAA510QxDVrUrRfAdRr3pU6lMWWVYvVXcxqJV4ulht+TEbecS2lVQpRIJSzIiNSj223M/pG69jeovix1V8txX0YOid9ljRv5f49+nMCqgJV2N6i+LHVXy3FfRg7G9RfFjqr5bivowqoAJV2N6i+LHVXy3FfRg7G9RfFjqr5bivowqoAJV2N6i+LHVXy3FfRg7G9RfFjqr5bivowqoAJV2N6i+LHVXy3FfRg7G9RfFjqr5bivowqoAJV2N6i+LHVXy3FfRg7G9RfFjqr5bivow1zW/W+/09zeJjKs1wfTuodrSmsZBm1dIerrWVxrJUBqSmTGYivJSgl/3HHFrSszQ0ZNrMe6k11zVzL7OiyTSO6jsV2I1d8bdWuLYurmyXHkKitqakGbqd0JSlfLQguBxa1pRwmAyvY3qL4sdVfLcV9GDsb1F8WOqvluK+jDxL6Sla1EZYkaWZy1kb16rHSxo0VypyZhQzlpI3EzDicC2SJRL6xwkZkSjT37fxZdJKtdxKpuMVwLLLS4u62fYJqUQ2OfVoiGbchcwlPpRs29wtmhlx1xZn/bSsiNRBkOxvUXxY6q+W4r6MHY3qL4sdVfLcV9GHgqukI81SYjY5DpzlDsa9iVHtG/gxGG6mDLnpbJtvZ+QmQ6nmOoSamGnko4iJSiMlbYbNuknYt4hKyTEsYnUNVEyJ2gm5XkNb1ysrUMuPtSJrkaHI56o6HGCQpbqo6Ek6lxThISrYNo7G9RfFjqr5bivowdjeovix1V8txX0YYzDtdpz+FJurL2Nn0mZbLqsem4DKiORcnNLRuLXGQ9MU3GNvgfQ4h+TsRsKMlnxJSMpk2vrWL10K5laSahv1yorc23lprozDdG0pzln1nrEhs3VJMlmpMQpBklHFsZLbNYf52N6i+LHVXy3FfRg7G9RfFjqr5bivow8L+v79VbZBROYbaZPbxb2VAqafHURymSIceJGeefWcuQ0yXAcgiM+Ykz4kJSlSj785ieueOZ1lUHGcTx6/sGplJEv3LTkMsxIsWTzSZJ0nXUvcZqYWk0JaUaTMt9i3Mg8PY3qL4sdVfLcV9GDsb1F8WOqvluK+jCqgAlXY3qL4sdVfLcV9GDsb1F8WOqvluK+jCqgAlXY3qL4sdVfLcV9GDsb1F8WOqvluK+jCqgAlXY3qL4sdVfLcV9GDsb1F8WOqvluK+jCqgAlXY3qL4sdVfLcV9GDsb1F8WOqvluK+jCqgAn/R6ym9znQLTTNcpnddusgw+mtLGTykN8+U/Cacdc4EElCeJa1HskiSW+xERdwn+m+O6o6oVN3ls3pJ6gUn/9hlNXHrqutx3qsWLBvJsKO2g5FW66ezMZvc1uKUatz37xtfRO+yxo38v8e/TmA6NP1dW/zAzv91WgB2N6i+LHVXy3FfRg7G9RfFjqr5bivowqo0bUTLMogWtHg+CeymshyPrLjU21YcfiQI0dKTdeWw2ttb58TjSCaJ1vfjNRrIkmRhg+xvUXxY6q+W4r6MHY3qL4sdVfLcV9GGMe1yutPmrqh1PpyvcgpJdRGZXi0PkItk2TqmYym2JT5lHVzkONqQqQ4REkl8eyuFPzy7pDWMG8g0ONYBebN5DU0dxaT47CoMJ+UaFOxN25HMVIQ24g+YlC45KUSeYpXwgMv2N6i+LHVXy3FfRg7G9RfFjqr5bivow11vpWUcKqhSZOF5becFPX3dvYVddFYjV0KW640mQ629MNfClTSzU20bzhJ7yJRb7bldaysUeZRsWmae5emulzmapGSqixm6zrrqOJtkiW+mU4R9yea2wpniPh5m5K4Qx/Y3qL4sdVfLcV9GDsb1F8WOqvluK+jCQy+lNk71rQQLvWfRvS5qyxGDfqey6ucdKbJfffbW3H4rSISUoSygzLdw/jLcy7t6df9I6qwp5FRZY/eZe7X1Ndb3V7jUOKisjw5a1tpmEl6ZzDa3bUo0NG+4SNjIlkRmAyHY3qL4sdVfLcV9GDsb1F8WOqvluK+jDMu6u1pZhIxiJiWSTYFe91SxyCLHZcroErkk9yHS5vWN+WpBm4llTSTUSVOJVuRaxV9KDDZtZNtbXE8to2k1qbiobsITHNvoK3kMtPQ0MvOK+Nx1lJNvky6XObNaEke5B7uxvUXxY6q+W4r6MHY3qL4sdVfLcV9GGv0PSStXrDJoGQaZ5CzaRMgjUdFjLLMVFtKcXWtTHErcXK6ko0pN5RuJfJrhRw8Rr7j2am1+x/IrrFqCgxLJp0zJ4suYpJMRmvZTcV9EeSUvmvpMlNvLJBpa5hmZGaeIu8B8exvUXxY6q+W4r6MHY3qL4sdVfLcV9GFVABNOjxeZNf6bOvZfkkvILKuyjKKQ7KWxHZfksQL2dDjqcTGbaZJfJjtEZobSRmRnt3gPL0afq6t/mBnf7qtAAOid9ljRv5f49+nMCqiVdE77LGjfy/x79OYFVAAAAAAAAABA+k8/auZHpnSQqjPbqJZWs9Myqw3JlUc2WlEFxad3ymwyNCFESjSbxb7fQYC+AOZc31WynSKHi2Aaf43lNdMmVEvIJDOS1F7nc9HC6lJQXXK+TJcaWtbh/9Qt91pskklKF7kSf7zXpLZpS3mPuV8WHDjSPYSbSgew+7sJjC7BxpK25NkySIlW42Tu6USEuKWSSM+XxEQCs5rh2plhcO2unmpVZStz4yIk6De0TtvFIkGvZ2MhuXGNh1ROGSzUbiFElHwEZGatAu+iw5JxuRiFFnbTFVIxOtxlxmzp+uc/qMhTzanyQ8yhyO6Tjjb0YkJJaFcJLQW5H8tKs71KgZvMxjLchqruHb5ZlCGHEQZDLsOPD5SmmkqckukaSNZ/QSSIu4iL6R4q3pB6iz6uPl5xscKkqsATmtxHagPOSJq1HJSmNGc6wSWCM2Uq41oe7iUW3xEpIZvTLovw9OJ9fOg2+PxG4mRqyNddQYw3U16XV1hwltMR0OqJlBmrmkZmtW+5KNRnxj0yOj7kVfHrHcL1Fh1NnHRbwJ8uXQ9cTJrrCWqStttvrCOU+2o08t1SnEf5cTSyURJntbrjqjl9WqHfRbKGhF5i0mNbxsNvMXbU3Ksm25FepNiW8k0JL4nW1khxDuxtI2+LaY+tOrMXKmLa3ZxR3DpGU3OMJgR6+SmzLqbUp1uV1k31Nnv1blmzyCPf4yWW5IIMTI6FsWTklVeSsnxqaqobojiT5+HtybmI5WkwRNRZ65H/TRHSZWamEN8RLecUThko0nT42lWUUGJsVOGahFWXEG6sbiPKkVypEF7rch91TEqIl9tTzaSf7uF5tXG2hZGXek4tN1t1bxZ6Jqjl79ZYR7fA129VR0sWbyWHZE6IhhDzPMdXLdbKQgjdaQhbnxpQ0gzIj2vHNf9Q4uEXuYZhQHLiYpaMtSZJ4haYy5dQnmi4ThxLVZLbebeWSDSbjqXOH4VJUskkGfToJlaUHlfaJU9oB5B/URWn9OKKpS/wBS6ibRQClc7lnH+neXzDc2Vx8Jcsa1qT0R52qVo3cZjnGO3c5dOzAXPucLYmS4Epp1x1Misc5yUwEqU4klpJDjiktI/uksuYMpqD0ibfTRuhiXuR6FRZ1pWpsHk5NqUeOKPjUe3V2Thyuc0RbFzuMiUojMkpLuGtWNpc3+Q5Oj+rL1ljJ80x/Hn3arJZZxolc5WsSHEQlpWhLHNWtaesMJadVzUnxEZJ4Qz+ovRNqs7mSrt+ViFlZruJVnGayzD272sZRIjRmXEKiLfbNThHFQtDqXEGniUk0qSZke/aZaPw9M7BcqBaMPRzoKujRHYq48FtHUzkGbiW45IZQSzkH/AG0NpSnh7t9+7yaDWFtIxfIKCZbzLFGM5LZ0VfNsH1yn3IrDhcnmurUa3lIJXAa1qNauDdSjUZmPPoi5mDeQ6kVWZ5jIyKZAyFhCH1M9XYZSuuiuG1HYJSuS0Slq4Umpau/dS1qM1GFWARGypXEa6U68Ey/K7G5ZmuS8tbk30t+ohVa2V8uMqFx9UZfUs2DaJDSXjShS1qMjUa/Z0lKe7bwyZm2Nyc0cuKSKtdc1SXpwIkB0iNRzpbJOtlMabIiNbK0yN0p2QwpSj3CxAJhpzLRK1My2VBvbGwr7Smo7ZpL8+Q9GSt5MhKlx2nVmmOhaWmzNDaUJMy4jLiMzOngAAAAAAAAAAJV0TvssaN/L/Hv05gOjT9XVv8wM7/dVoHRO+yxo38v8e/TmA6NP1dW/zAzv91WgCqjT8/wazyZ6rv8AFchaocmoVvKrp0iD12MaHUcLrMhgnG1OsqIkqNKHW1EptBkstjI9G6Vcy0jYbjEWrj5XL9oZfWQ5EHGLpVTYzWFmvjYbkpkxuDi2Lfd9sj2+kahkOoV7o/jGM45h2LZzjdtlcqfIcTmLFxqDMr24yU78TFdOlvKS4am+E0SSbbJRmouI+AwoLeidtZNquMvzZiyyeZc1NpOnxarqsXk17xONRI0c3lrZbP8AuHut51XG6tW5lwoT5LzQnIbHMJdhWagRIGLWGQQcplU50fNlKso5tcXDL55JSwtLKTNvkmsnPiJzh3bOe6g9J/UKhwmiySFXQqG4Vjh39rQTcJv7eXxJUpJtOlHQz7JZUba+CRM33+LdoibWZ5zCtQ9SK7O71m4vK20rLzUWPTRIyob6V10RdMiSaELVIWkz4ko+hCU8Ruq4fjIkBnK3o2ez8OvMS/rPme2sVgYz1j2dtyurKkK5/Dzfi4usf4bltwf5Hv3Yu16KUW31bPVOVdY07JZvYl7Dlv4o29dscpCUKh+0lP8AEUQ0krhaQ2g0KV3qWniSr/KzXHUa8ytmFCbxtimgN5PPtHDgvPvvRquxKM0yyZSEJbccQZmpxRLSSk/4bHsWiw+kNqhnWneSy7Gts69mVQMXlfZxMOvMeKrWuQ0XUVSZxEiavluEZSI5tpUSF/2kkZGAolLoHqfglpW2umuquLw3I2MwsclpvMPkWCX0xnn3EPN8mxjcsz56iNJ8f0FsZDYbrRe6yiDlh5HmUJdpl+NwKKZIhVC2I7TsdT6lPtsrkOKJKzkdzZuGaeH/ADVv3a27q1q43qFOJTOJow+vzqPh5xepSVWUhp+Ky4UkpBP8ttSHXjSbZsq40p3JSD7hqUnWbU1izx3V7IJFerFH6PKLeHj9WUlh82orSFMtylrcU3JcMkKVxk21yzWaSSv/ADMKs1pHlMHLbp+p1AixMPySWdlb03sNLk16SphLLiETFOm2iOtLaFKR1dTnFxbPJJWxapB6MNzKp/ZeY6mN2yqWmao8UfjUZRDrWGZDMhl6Sk33Ey5BORYvEtJMtqJsyJtHEZjC4X0h9UptRkN7keO9ar6CJCulyV4PdY2UiM6a0v17BWhkT8pvhQtDyFcDvGlBttGfGVlpcutHtM/68tn6Btx6vdtmjdm9VgssKSbjSXpJG6SSSg0k48kjTuSlJTtskBKcn6KMzOoNhP1AynE8pyGXex8gaK4wpuXRtPNwChKaVXOSTW40aCUtO8gnErMj5hpLhPd9NdD4mnMzHpcOyrCTR0kypVErKGPVxFrkyW5CnGmI+zbKEm2aUo2UoyMjU4pRGpWP0Q137XbSzrvbmkE72fHQ/wAOD6jf1I+niVtu831KPyUf8K4lbn3bF9In1pq5V6Y4Lk8+91Mi0d1l2bXdTAssnyJSYkBth5xJqYKU4bTRNMN/Ay2SUrcNG5HxKUA6hAc39HbKF5W1pJk0fObG/wDbWnkn2k8d49LjSZUd2EnmLb5imuelTryVOEklnuaVGexEXSACVdGn6urf5gZ3+6rQA6NP1dW/zAzv91WgAHRO+yxo38v8e/TmBVRFMT6OWUYNitNhWLdKPVWFS4/Xx6uujdSxhzkRWG0ttN8a6dS1cKEJLdRmo9tzMz7xluxvUXxY6q+W4r6MAqoCVdjeovix1V8txX0YOxvUXxY6q+W4r6MAqoCVdjeovix1V8txX0YOxvUXxY6q+W4r6MAqoxVni9Fc3NPf2UHnT6Fx56ve5q08lbrZtuHwkZJVuhRl8RHtvuWx94n/AGN6i+LHVXy3FfRg7G9RfFjqr5bivowDZdQNJsG1OKGeXV89bsEnG2n6+3mVr5tOEROsLdiOtrcYXsnjZWam1GlJqSZpLbD23R30furcridirxKJuE31OPazI9eZw1JVFdOE06mMbzRtt8Dxt8xJISRKIiIh4uxvUXxY6q+W4r6MHY3qL4sdVfLcV9GAZK10C0uuZUidNqLRMiTbrvDdjX9hHW3LcbJt02jafSbLbiS2cZb4WnO81oUZmYyuN6TadYhCarMexaNFhM0rOOojGtbjJVrRrNEfgWo0mkuasu8tzI9jMyIiGsdjeovix1V8txX0YOxvUXxY6q+W4r6MAyND0ftKMcbkIr6Ca8qTJhSlPT7qdOeQcN0nYrTbsh5a2mGllxIYQaWi3P4O89881pthTCoi26UiODcSb5jeQ6ZInPk6Truxq7+In3fhPdJcXcRbFtqHY3qL4sdVfLcV9GDsb1F8WOqvluK+jAPZTdHTR2iTYtwcUecbtIb1c81MtZkttqG6tK1RmEPOrTHZSpCVIaZJCGz3Nsk7nvkcW0V06w/kLqKme8+xOVZHKs7mbZSXpJtcknHn5Tzjj5obPgRzFK5ZdyOEYLsb1F8WOqvluK+jDStEMQ1a1K0XwHUa96VOpTFllWL1V3MaiVeLpYbfkxG3nEtpVUKUSCUsyIjUo9ttzP6QF5oMfqcXqmqSjjKjQWFLNlk3VuE0SlGrhTxmZpQRmZJQXwpTslJEkiItFVovGtbrOv6ss41njuYzIVkzBYjvwp1dLYYaa5qJzUglkf8AYaW2ptDTjaiMyWe5cPl7G9RfFjqr5bivowdjeovix1V8txX0YBtVBpzS4k3RV+KvS66spCk7xOtvvHMW8XxOSHHHDU+4auJZuO8bilqNRq3NXF9Z+B1bka+9iPyaidkcpmZOmxpDxOqdbS0glJ2WXAfLZQjZJkk9viJW6iPUOxvUXxY6q+W4r6MHY3qL4sdVfLcV9GAZSn0J0+oMwk5zTOZZFsZlg7aSWEZnc+z3pTpbLWuAcrqqt/8A8m1w9xd3cW3ytdCMIyivr42ZrubWTDZVGektXlhDOewbil9Xlky+nrbBcSiJmQbqNlKIyPiVv4OxvUXxY6q+W4r6MHY3qL4sdVfLcV9GAbPjWF2dLm+S5XNuYD8W3Ygwq+DFrlRzhRoyXNkuLN1ZPKNTyz4koaIkklPCZkaj24Srsb1F8WOqvluK+jB2N6i+LHVXy3FfRgFVASrsb1F8WOqvluK+jB2N6i+LHVXy3FfRgFVASrsb1F8WOqvluK+jB2N6i+LHVXy3FfRgFVASrsb1F8WOqvluK+jB2N6i+LHVXy3FfRgDonfZY0b+X+PfpzAdGn6urf5gZ3+6rQbrp7hVVprgGNac0UiW/W4rTwqSG7LWlT7jEZlDLanFJSlJrNKCMzJKS332IvoE/gdH6/oHLJnEOkZqVj9bY3FndlWxImPPMRn5816ZIS2qTVOvGjnSHTIluKMiMi37gFLv8Xosn9ne3IPWfZNgzaQ/7q0cqU1vy3PhMuLbiPuPcj37yMY7OtOcT1HgRoGURp//AEbxvxZVbay6yZHWaTSrlyojjTzZKSZpUSVkSiPZRGXcNQ7G9RfFjqr5bivowdjeovix1V8txX0YB6bjo3aNXjEGHMxJ5qHAqfYSYcK2mw4siB8WzEllh5DcpKTWtSeclZpUpSkmSjMx7LfQjTG7atGp1PYp9ry4lg+5GvJ8Z1qXGbJtmRHcaeSqM6SEpSbjJoUsi2UahiuxvUXxY6q+W4r6MHY3qL4sdVfLcV9GAbLiukmnmFOsvYzjiYi47MyOjeS86XLlvk/IIycWolcbpEozPc/pItiMyGHqejvpFSx7SJDxuW4zbsFDdbl3M6UmPFJzmFGik88rqccl7GTMfltlwp+HYi28XY3qL4sdVfLcV9GDsb1F8WOqvluK+jANwXpzhrjzz66bdci6ayFw+sO/FYNpQlD3+XdsltBcJfAe3eXeYwtZoPpTUZFJyiJi6lTZRzN0SLCVIjNJl/8AykMxnHFMMIdP4lobQlK1fEZGrvE0z/ENWsVyvTWir+lTqU5HzHKH6Scp6rxc1tsIpbOcSmjKoIiXzYLSTNRKLgUsttzJSd17G9RfFjqr5bivowDJY1oFpZicrrtTRT3JHWI8knbC7nz1p6uSurtJOS84aWGjWpTbBf2kLMlpQSiIy3Kjx+pxuK7BpYpxo70l6WbXNWtCXHVmtfASjMkJNRmfCnZJGZ7EW4nfY3qL4sdVfLcV9GDsb1F8WOqvluK+jAKqNL0/wKzw+Pktba3sO1r7q6nWsRpmvXGdjNylm44y6s3lk8ZLUrZaUtfDsXCZlxHr3Y3qL4sdVfLcV9GDsb1F8WOqvluK+jAMxQ6WNYzluP2FFPiQ8axfHXqGsp0xXVvNk44yo1qlLeVxpJMdtJJNvi3NRmtW5EW+iVdjeovix1V8txX0YOxvUXxY6q+W4r6MAdGn6urf5gZ3+6rQBtWmOnsPS/EG8ShX1rd/9wsrSRY2nI61KlTpr82Q4so7TTRbvSXNiQ2lJJ2LbuABtYAAAAAAAAAAAAAAAAAAAAAAAJV0TvssaN/L/Hv05gVUSronfZY0b+X+PfpzACqgAAAAAAAAAAAAAAAAAAAAAAAAAAAAAAAAAAACVayfWLoT8wJn7VvhVRKtZPrF0J+YEz9q3wqoAAAAAAAAAAAAAAAOX+jJ0ZOjbf8ARt0ovb3o+aa2NlY4PRS5kyXicB5+S+5AZU4644po1LWpRmo1GZmZmZmKX7p3RY8NOlX4Nrv4QFVASr3Tuix4adKvwbXfwh7p3RY8NOlX4Nrv4QFVASr3Tuix4adKvwbXfwh7p3RY8NOlX4Nrv4QFVASr3Tuix4adKvwbXfwh7p3RY8NOlX4Nrv4QFVASr3Tuix4adKvwbXfwh7p3RY8NOlX4Nrv4QFVASr3Tuix4adKvwbXfwh7p3RY8NOlX4Nrv4QFVASr3Tuix4adKvwbXfwh7p3RY8NOlX4Nrv4QGodOTRXI9YtDJ8jTuwsK3UDDHDyPFJ1a+tiWiYyhRLZbcbMlEbrKnGyIjIuM2zP8AxEt/0tdDspwLRJrVTUyVaSsrzSLFjQkWbrjjtbQREm3AioJwzNtBka3CSnZPApkti4B0D7p3RY8NOlX4Nrv4Q907oseGnSr8G138ICqgJV7p3RY8NOlX4Nrv4Q907oseGnSr8G138ICqgJV7p3RY8NOlX4Nrv4Q907oseGnSr8G138ICqgJV7p3RY8NOlX4Nrv4Q907oseGnSr8G138ICqgJV7p3RY8NOlX4Nrv4Q907oseGnSr8G138ICqgJV7p3RY8NOlX4Nrv4Q907oseGnSr8G138ICqgJV7p3RY8NOlX4Nrv4Q907oseGnSr8G138ICqgJV7p3RY8NOlX4Nrv4Q907oseGnSr8G138ICqgJV7p3RY8NOlX4Nrv4Q907oseGnSr8G138ICqgJV7p3RY8NOlX4Nrv4Q907oseGnSr8G138ICqgJV7p3RY8NOlX4Nrv4Q907oseGnSr8G138ICqgJV7p3RY8NOlX4Nrv4Q907oseGnSr8G138IDhvp99F7W2Z0lsJvdAskyOnqtV7dEa3TWS32o1dcIiuRnZ7iW1JJJLr3HyUZfEaUSSMz5mx/oxp9guPaY4NQ6eYpFOPT45XsVsNCj3Vy2kEklKP/AOyz24lK+k1GZn9I0v3Tuix4adKvwbXfwh7p3RY8NOlX4Nrv4QFVASr3Tuix4adKvwbXfwh7p3RY8NOlX4Nrv4QFVASr3Tuix4adKvwbXfwh7p3RY8NOlX4Nrv4QFVASr3Tuix4adKvwbXfwh7p3RY8NOlX4Nrv4QFVAf89f+o9ieK4N0ztQ8WwrGarH6WF7J6tXVcJuJFY46qItfA02SUJ4lrUo9i71KMz7zMAH7f8ARO+yxo38v8e/TmBVRKuid9ljRv5f49+nMCqgAAAAAAAAAAAAAAAAAAAAAAAAAAAAIn0wK72voydX7Cq7vreRULHs20XwQ5nFZxy5L6uW7s2rfhUfLX3Gfwq+g9IyaJlOi2JYzjWnOiGPafWubZIuFYx9K1VLr/KbhvPIcZctI0KIp9RtEkyeaVsjj4CUrY0h1GA5CyfWjVt/TOkfbv8ALImSQqi5tLJvF2cWfeUzDfNluTOkzJTkBtsti5zMQ1O8w1ElTaUGk/XjOWZdTZFkOoLueTSXk9zgjMqI/HhJiMImMRyeQ0fJJwuInDQXG4oyIy2Pi7wHWQDnSuz/AFAzbVGPjNRqJLgVEbJMibf9nw4S3H49eULgicTzDmyeY66haiIlmlStlEokqTLG9UNa9QcEytOUQ70qvMtP8hnohWj2PIjR32UcKE1aIcg7BbJE4pDvW21KSom9zaMzQYdvAIXlN7FO/wBI3qixYdkpo7ezjmypLm7KKwkk8W25GjjcbLi+gzWkv9xNo2Z6sRMWpFZtqEWVrybGcbyF5mdSV6WIMxy0htOlHQhhP9tSXjMid5i0KSSkrLu2Dr0BzLW6p6jlewMmdz05cfI8hyPHjxc4UQmapqvRKNqQ0tDfWDdI4zZu851bZ9YLZDfwjO6A5HqjIusfi5/qNIygsnwOFkrzT1bDjNwZprbQ4mN1dpCuSonN+F03FEae5ex7AL6AAAAAAAAAAAAAAAAAAAAAAAAAAAAAD8Af9Uf7dmpv/pf0eEAf6o/27NTf/S/o8IAH7U9E77LGjfy/x79OYFVEq6J32WNG/l/j36cwKqAAAAAAAAAAAAAAAAAAAAAAAAAAADyWdRU3UdMS5rIk9hDzchLUllLqEutrJbayJRGRKStKVJP6SMiMu8h5cnxPFs3pJGNZnjVVf1Evh6xX2kNuVGe2MjLjacI0q2MiMty+khlQAatP0r0wtWaOPZ6cYvMaxjYqND9PHcTV7ESS6sSkGTHcki+DbuIv+AlaVaXzmZ0abpvi0hm0rmaic27Tx1plQWd+VFdI0bLZRufC2rdKdz2IhtIAMJTYPheOHGPHsQpKvqaVpj9Sr2mOSS0oSskcCS4SUlpsj2+km0kf+JbfKk09wHGb+1yvG8Hx+qu75RKtbKDWMsSp5kZmRvuoSS3TIzM/iM/pGwAA1XF9KNLcHl2s/CtNcVx+Te99o9V00aI5P71H/fU2gjd71rP4t+9Sv+TGRcwvDnWo7DuJ0y24kdqJHQqA0aWWG1pW20guH4UJWhCkpLuJSEmXeRDMgA1+Pp7gMTJbHNImD4+zkNuwUWwtm6xlMyYyRERNvPknjcRsRfCozLuL/gZCFj1BWux366jr4rkOIVfHWxGQhTMUjIyYQZF8LZGkj4C+HuLu7hkAAAAAAAAAAAAAAAAAAAAAAAAAAAAAAAAfgD/qj/bs1N/9L+jwgD/VH+3Zqb/6X9HhAA5VAAAAAAAAAAAAAAAAAAAAAAAAAAAAAAAAAAAAAAAAAAAAAAAAAAAAAAAAAAAAAAAAAAAAAAAAAAAAAAAB/9k=)"
      ],
      "metadata": {
        "id": "ynyjlaSWWmZF"
      }
    },
    {
      "cell_type": "markdown",
      "source": [
        "A) 0 (i.e. feature V1)\n",
        "\n",
        "B) 1 (i.e. feature V2)\n",
        "\n",
        "C) 2 (i.e. feature V3)\n",
        "\n",
        "D) 3 (i.e. feature V4)\n",
        "\n",
        "**Correct: B and D**"
      ],
      "metadata": {
        "id": "ETL_jxBaWqet"
      }
    },
    {
      "cell_type": "markdown",
      "source": [
        "**Solution**"
      ],
      "metadata": {
        "id": "A5c2eJwhRk-a"
      }
    },
    {
      "cell_type": "code",
      "source": [
        "%%capture\n",
        "selector = SequentialFeatureSelector(estimator=LogisticRegression(),\n",
        "                                     n_features_to_select=2)\n",
        "\n",
        "# run SFS in backward direction\n",
        "selector.fit(complete_pipe.fit_transform(X), \n",
        "             y_encoded)"
      ],
      "metadata": {
        "id": "ZWw43SM2EnGo"
      },
      "execution_count": null,
      "outputs": []
    },
    {
      "cell_type": "code",
      "source": [
        "# find the finally selected features\n",
        "# selected features have 'True' in corresponding indices\n",
        "selector.support_"
      ],
      "metadata": {
        "id": "A7ac2N7iMFnt",
        "colab": {
          "base_uri": "https://localhost:8080/"
        },
        "outputId": "2ed89c23-9726-425f-99de-7b25ae61214d"
      },
      "execution_count": null,
      "outputs": [
        {
          "output_type": "execute_result",
          "data": {
            "text/plain": [
              "array([False,  True, False,  True, False])"
            ]
          },
          "metadata": {},
          "execution_count": 24
        }
      ]
    },
    {
      "cell_type": "markdown",
      "source": [
        "## Que. 4\n",
        "\n",
        "What are the indices of two most important features computed by SFS (backward)? \n",
        "\n",
        "Preprocess the data using pipeline shown in the diagram. Use `LogisticRegression` (with default parameters) for the `estimator`. Encode target variable via ordinal encoding."
      ],
      "metadata": {
        "id": "L5kAepY_LNiH"
      }
    },
    {
      "cell_type": "markdown",
      "source": [
        "![MLP Week 2 Programming Question-LogisticRegressionjpg.jpg](data:image/jpeg;base64,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)"
      ],
      "metadata": {
        "id": "BEWuNbaieE4b"
      }
    },
    {
      "cell_type": "markdown",
      "source": [
        "A) 0 (i.e. feature V1)\n",
        "\n",
        "B) 1 (i.e. feature V2)\n",
        "\n",
        "C) 2 (i.e. feature V3)\n",
        "\n",
        "D) 3 (i.e. feature V4)\n",
        "\n",
        "**Correct: C and D**"
      ],
      "metadata": {
        "id": "P03lIDj2eI83"
      }
    },
    {
      "cell_type": "code",
      "source": [
        "%%capture\n",
        "# intialize SFS object with appropriate parameters\n",
        "selector = SequentialFeatureSelector(estimator=LogisticRegression(),\n",
        "                                     n_features_to_select=2,\n",
        "                                     direction='backward')\n",
        "\n",
        "# run SFS in backward direction\n",
        "selector.fit(complete_pipe.fit_transform(X), \n",
        "             y_encoded)"
      ],
      "metadata": {
        "id": "amxvDAJjMbE0"
      },
      "execution_count": null,
      "outputs": []
    },
    {
      "cell_type": "code",
      "source": [
        "# find the finally selected features\n",
        "# selected features have 'True' in corresponding indices\n",
        "selector.support_"
      ],
      "metadata": {
        "id": "LM9QIy2VMkhU",
        "colab": {
          "base_uri": "https://localhost:8080/"
        },
        "outputId": "964ff747-d9c1-4c0e-e591-626de85ddfe9"
      },
      "execution_count": null,
      "outputs": [
        {
          "output_type": "execute_result",
          "data": {
            "text/plain": [
              "array([False, False,  True,  True, False])"
            ]
          },
          "metadata": {},
          "execution_count": 26
        }
      ]
    }
  ]
}