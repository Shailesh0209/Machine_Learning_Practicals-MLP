{
  "nbformat": 4,
  "nbformat_minor": 0,
  "metadata": {
    "colab": {
      "name": "x_W1_Wine_Quality(ML_Projects)-MLP.ipynb",
      "private_outputs": true,
      "provenance": [],
      "authorship_tag": "ABX9TyPXwJUNX1pEonRPpXIoKpOq",
      "include_colab_link": true
    },
    "kernelspec": {
      "name": "python3",
      "display_name": "Python 3"
    },
    "language_info": {
      "name": "python"
    }
  },
  "cells": [
    {
      "cell_type": "markdown",
      "metadata": {
        "id": "view-in-github",
        "colab_type": "text"
      },
      "source": [
        "<a href=\"https://colab.research.google.com/github/Shailesh0209/x_Machine_Learning_Practicals-diploma-IITM/blob/main/x_W1_Wine_Quality(ML_Projects)_MLP.ipynb\" target=\"_parent\"><img src=\"https://colab.research.google.com/assets/colab-badge.svg\" alt=\"Open In Colab\"/></a>"
      ]
    },
    {
      "cell_type": "markdown",
      "source": [
        "# Get the data"
      ],
      "metadata": {
        "id": "LGg99ZZxQooU"
      }
    },
    {
      "cell_type": "code",
      "source": [
        "import pandas as pd\n",
        "import matplotlib.pyplot as plt\n",
        "import seaborn as sns\n",
        "import numpy as np"
      ],
      "metadata": {
        "id": "2u0iML5OQg60"
      },
      "execution_count": null,
      "outputs": []
    },
    {
      "cell_type": "code",
      "source": [
        "data_url = 'https://archive.ics.uci.edu/ml/machine-learning-databases/wine-quality/winequality-red.csv'\n",
        "data = pd.read_csv(data_url, sep=\";\")"
      ],
      "metadata": {
        "id": "gahCi0lNQ_78"
      },
      "execution_count": null,
      "outputs": []
    },
    {
      "cell_type": "markdown",
      "source": [
        "## Check data samples"
      ],
      "metadata": {
        "id": "Yi2S2SYURkAV"
      }
    },
    {
      "cell_type": "code",
      "execution_count": null,
      "metadata": {
        "id": "nVhHV8ZZihFy"
      },
      "outputs": [],
      "source": [
        "data.head()"
      ]
    },
    {
      "cell_type": "markdown",
      "source": [
        "## Features"
      ],
      "metadata": {
        "id": "YW9GQFg1TFwv"
      }
    },
    {
      "cell_type": "code",
      "source": [
        "feature_list = data.columns[:-1].values\n",
        "label = [data.columns[-1]]\n",
        "\n",
        "print(\"Feature List:\", feature_list)\n",
        "print(\"Label:\", label)"
      ],
      "metadata": {
        "id": "eEKCVZ-YjsPl"
      },
      "execution_count": null,
      "outputs": []
    },
    {
      "cell_type": "markdown",
      "source": [
        "## Data statistics"
      ],
      "metadata": {
        "id": "QfFeQ-OMTKhc"
      }
    },
    {
      "cell_type": "code",
      "source": [
        "data.info()"
      ],
      "metadata": {
        "id": "M68M2IIISuV2"
      },
      "execution_count": null,
      "outputs": []
    },
    {
      "cell_type": "code",
      "source": [
        "## numeric attributes\n",
        "data.describe()"
      ],
      "metadata": {
        "id": "vR5RHkRvTPVk"
      },
      "execution_count": null,
      "outputs": []
    },
    {
      "cell_type": "code",
      "source": [
        "data['quality'].value_counts()"
      ],
      "metadata": {
        "id": "cZ-a5nIZTerb"
      },
      "execution_count": null,
      "outputs": []
    },
    {
      "cell_type": "code",
      "source": [
        "sns.set()\n",
        "data.quality.hist()\n",
        "plt.xlabel('Wine Quality')\n",
        "plt.ylabel('Count')\n",
        "\n",
        "data.total_sulfur_dioxide.hist()"
      ],
      "metadata": {
        "id": "GaITBd9uTvLI"
      },
      "execution_count": null,
      "outputs": []
    },
    {
      "cell_type": "markdown",
      "source": [
        "## Create test set"
      ],
      "metadata": {
        "id": "HeJEVVblVeDA"
      }
    },
    {
      "cell_type": "code",
      "source": [
        "def split_train_test(data, test_ratio):\n",
        "    # Set the random seed.\n",
        "    np.random.seed(42)\n",
        "\n",
        "    # Shuffle the dataset\n",
        "    shuffled_indices = np.random.permutation(len(data))\n",
        "\n",
        "    # Calculate the size of the test set.\n",
        "    test_set_size = int(len(data) * test_ratio)\n",
        "\n",
        "    # split dataset to get training and test sets.\n",
        "    test_indices = shuffled_indices[:test_set_size]\n",
        "    train_indices = shuffled_indices[test_set_size:]\n",
        "    return data.iloc[train_indices], data.iloc[test_indices]"
      ],
      "metadata": {
        "id": "GJlnDqHtT_H9"
      },
      "execution_count": null,
      "outputs": []
    },
    {
      "cell_type": "code",
      "source": [
        "train_set, test_set = split_train_test(data, 0.2)"
      ],
      "metadata": {
        "id": "2vGyT5vTWsEe"
      },
      "execution_count": null,
      "outputs": []
    },
    {
      "cell_type": "code",
      "source": [
        "from sklearn.model_selection import train_test_split"
      ],
      "metadata": {
        "id": "l8GgZlOiW_Al"
      },
      "execution_count": null,
      "outputs": []
    },
    {
      "cell_type": "code",
      "source": [
        "# Perform random sampling on our dataset:\n",
        "train_set, test_set = train_test_split(data, test_size=0.2, random_state=42)"
      ],
      "metadata": {
        "id": "m7IEYOPKXkGT"
      },
      "execution_count": null,
      "outputs": []
    },
    {
      "cell_type": "markdown",
      "source": [
        "## Stratified sampling"
      ],
      "metadata": {
        "id": "p--wIgTnYAhY"
      }
    },
    {
      "cell_type": "code",
      "source": [
        "from sklearn.model_selection import StratifiedShuffleSplit\n",
        "split = StratifiedShuffleSplit(n_splits=1, test_size=0.2, random_state=42)\n",
        "for train_index, test_index in split.split(data, data[\"quality\"]):\n",
        "    strat_train_set = data.loc[train_index]\n",
        "    strat_test_set = data.loc[test_index]"
      ],
      "metadata": {
        "id": "zaLSwg-iX72P"
      },
      "execution_count": null,
      "outputs": []
    },
    {
      "cell_type": "code",
      "source": [
        "strat_dist = strat_test_set[\"quality\"].value_counts() / len(strat_test_set)"
      ],
      "metadata": {
        "id": "VzasG7YQZbEX"
      },
      "execution_count": null,
      "outputs": []
    },
    {
      "cell_type": "code",
      "source": [
        "overall_dist = data[\"quality\"].value_counts() / len(data)"
      ],
      "metadata": {
        "id": "VLBBu4HvZqeS"
      },
      "execution_count": null,
      "outputs": []
    },
    {
      "cell_type": "code",
      "source": [
        "# Let's look at them side-by-side\n",
        "dist_comparison = pd.DataFrame({'overall': overall_dist, 'stratified': strat_dist})\n",
        "dist_comparison['diff(s-o)'] = dist_comparison['stratified'] - dist_comparison['overall']\n",
        "dist_comparison['diff(s-o)_pct'] = 100*(dist_comparison['diff(s-o)']/dist_comparison['overall'])"
      ],
      "metadata": {
        "id": "GS4JRq47a7Zt"
      },
      "execution_count": null,
      "outputs": []
    },
    {
      "cell_type": "code",
      "source": [
        "dist_comparison"
      ],
      "metadata": {
        "id": "zrHca5IHcGKY"
      },
      "execution_count": null,
      "outputs": []
    },
    {
      "cell_type": "code",
      "source": [
        "# Let's contrast this with random sampling:\n",
        "random_dist = test_set[\"quality\"].value_counts() / len(test_set)\n",
        "random_dist"
      ],
      "metadata": {
        "id": "V9FtJkilcWEM"
      },
      "execution_count": null,
      "outputs": []
    },
    {
      "cell_type": "code",
      "source": [
        "# Sampling bias comparison\n",
        "dist_comparison.loc[:, ['diff(s-o)_pct', 'diff(r-o)_pct']]"
      ],
      "metadata": {
        "id": "lnWRCiV3dBKe"
      },
      "execution_count": null,
      "outputs": []
    },
    {
      "cell_type": "markdown",
      "source": [
        "## Data Visualization"
      ],
      "metadata": {
        "id": "dfit0YVurxRo"
      }
    },
    {
      "cell_type": "code",
      "source": [
        "exploration_set = strat_train_set.copy()"
      ],
      "metadata": {
        "id": "bg4omzF2dR04"
      },
      "execution_count": null,
      "outputs": []
    },
    {
      "cell_type": "markdown",
      "source": [
        "### Scatter Visualization"
      ],
      "metadata": {
        "id": "8yyAs6D7tSBz"
      }
    },
    {
      "cell_type": "code",
      "source": [
        "sns.scatterplot(x='fixed acidity', y='density', hue='quality',\n",
        "                data=exploration_set)"
      ],
      "metadata": {
        "id": "MoVyyR8GtOyN"
      },
      "execution_count": null,
      "outputs": []
    },
    {
      "cell_type": "code",
      "source": [
        "## with matplotlib\n",
        "exploration_set.plot(kind='scatter', x='fixed acidity',\n",
        "                     y='density', alpha=0.5,\n",
        "                     c=\"quality\", cmap=plt.get_cmap(\"jet\"))"
      ],
      "metadata": {
        "id": "HTdB1gxotOuj"
      },
      "execution_count": null,
      "outputs": []
    },
    {
      "cell_type": "code",
      "source": [
        "corr_matrix = exploration_set.corr() # corr funcn to calculate correlation"
      ],
      "metadata": {
        "id": "9tlFzKx8tOi_"
      },
      "execution_count": null,
      "outputs": []
    },
    {
      "cell_type": "code",
      "source": [
        "corr_matrix['quality']"
      ],
      "metadata": {
        "id": "JeeocOfpu19c"
      },
      "execution_count": null,
      "outputs": []
    },
    {
      "cell_type": "code",
      "source": [
        "# correlation matrix with heatmap\n",
        "plt.figure(figsize=(14, 7))\n",
        "sns.heatmap(corr_matrix, annot=True)"
      ],
      "metadata": {
        "id": "eCwKrGz3u7hi"
      },
      "execution_count": null,
      "outputs": []
    },
    {
      "cell_type": "code",
      "source": [
        "from pandas.plotting import scatter_matrix\n",
        "attribute_list = ['citric acid', 'pH', 'alcohol', 'sulphates', 'quality']\n",
        "scatter_matrix(exploration_set[attribute_list])"
      ],
      "metadata": {
        "id": "kMLetbixvqC3"
      },
      "execution_count": null,
      "outputs": []
    },
    {
      "cell_type": "markdown",
      "source": [
        "# Prepare data for ML algorithm"
      ],
      "metadata": {
        "id": "QDJZnZnd03EH"
      }
    },
    {
      "cell_type": "markdown",
      "source": [
        "## Separate features and labels from the training set."
      ],
      "metadata": {
        "id": "c8ZBr-EC2gCL"
      }
    },
    {
      "cell_type": "code",
      "source": [
        "# Copy all features leaving aside the label.\n",
        "wine_features = strat_train_set.drop(\"quality\", axis=1) \n",
        "\n",
        "# Copy the label list\n",
        "wine_labels = strat_train_set['quality'].copy()"
      ],
      "metadata": {
        "id": "uLkd4iKxzwGt"
      },
      "execution_count": null,
      "outputs": []
    },
    {
      "cell_type": "markdown",
      "source": [
        "## Data cleaning"
      ],
      "metadata": {
        "id": "wuwuvBhl3A4L"
      }
    },
    {
      "cell_type": "code",
      "source": [
        "wine_features.isna().sum() # counts the no. of NaN in each column of wine_feature\n"
      ],
      "metadata": {
        "id": "lAWCZw-524-R"
      },
      "execution_count": null,
      "outputs": []
    },
    {
      "cell_type": "code",
      "source": [
        "from sklearn.impute import SimpleImputer\n",
        "imputer = SimpleImputer(strategy=\"median\")"
      ],
      "metadata": {
        "id": "TYApWKHb3Rtq"
      },
      "execution_count": null,
      "outputs": []
    },
    {
      "cell_type": "code",
      "source": [
        "imputer.fit(wine_features)"
      ],
      "metadata": {
        "id": "zwqyhKk74PFq"
      },
      "execution_count": null,
      "outputs": []
    },
    {
      "cell_type": "code",
      "source": [
        "# Let's check the statistics learnt by the imputer on the training set\n",
        "imputer.statistics_"
      ],
      "metadata": {
        "id": "cbDL4D5Q4PEB"
      },
      "execution_count": null,
      "outputs": []
    },
    {
      "cell_type": "code",
      "source": [
        "wine_features.median()"
      ],
      "metadata": {
        "id": "Mc_cVDeJ4PB3"
      },
      "execution_count": null,
      "outputs": []
    },
    {
      "cell_type": "code",
      "source": [
        "tr_features = imputer.transform(wine_features)"
      ],
      "metadata": {
        "id": "3iPZDKtJ4O-s"
      },
      "execution_count": null,
      "outputs": []
    },
    {
      "cell_type": "code",
      "source": [
        "tr_features.shape"
      ],
      "metadata": {
        "id": "6j417yBj4O8m"
      },
      "execution_count": null,
      "outputs": []
    },
    {
      "cell_type": "code",
      "source": [
        "wine_features_tr = pd.DataFrame(tr_features, columns=wine_features.columns)"
      ],
      "metadata": {
        "id": "cmjsboWB4O6V"
      },
      "execution_count": null,
      "outputs": []
    },
    {
      "cell_type": "markdown",
      "source": [
        "## Handling text and categorical attributes"
      ],
      "metadata": {
        "id": "lmU4R2NZ6gIn"
      }
    },
    {
      "cell_type": "code",
      "source": [
        ""
      ],
      "metadata": {
        "id": "RZbePmIr4O2s"
      },
      "execution_count": null,
      "outputs": []
    },
    {
      "cell_type": "code",
      "source": [
        ""
      ],
      "metadata": {
        "id": "7A8yhwIF4Oxz"
      },
      "execution_count": null,
      "outputs": []
    },
    {
      "cell_type": "code",
      "source": [
        ""
      ],
      "metadata": {
        "id": "sS55b4Zu4Ore"
      },
      "execution_count": null,
      "outputs": []
    },
    {
      "cell_type": "code",
      "source": [
        ""
      ],
      "metadata": {
        "id": "-rf-SzpK4OoU"
      },
      "execution_count": null,
      "outputs": []
    },
    {
      "cell_type": "code",
      "source": [
        ""
      ],
      "metadata": {
        "id": "O5nWJGQH4OSs"
      },
      "execution_count": null,
      "outputs": []
    }
  ]
}