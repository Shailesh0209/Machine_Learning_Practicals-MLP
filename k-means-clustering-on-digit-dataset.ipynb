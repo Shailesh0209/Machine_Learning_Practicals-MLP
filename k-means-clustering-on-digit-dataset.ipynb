{
 "cells": [
  {
   "cell_type": "code",
   "execution_count": 1,
   "id": "129a5219",
   "metadata": {
    "_cell_guid": "b1076dfc-b9ad-4769-8c92-a6c4dae69d19",
    "_uuid": "8f2839f25d086af736a60e9eeb907d3b93b6e0e5",
    "execution": {
     "iopub.execute_input": "2022-07-24T07:30:44.238117Z",
     "iopub.status.busy": "2022-07-24T07:30:44.237637Z",
     "iopub.status.idle": "2022-07-24T07:30:44.255409Z",
     "shell.execute_reply": "2022-07-24T07:30:44.254230Z"
    },
    "papermill": {
     "duration": 0.031604,
     "end_time": "2022-07-24T07:30:44.258615",
     "exception": false,
     "start_time": "2022-07-24T07:30:44.227011",
     "status": "completed"
    },
    "tags": []
   },
   "outputs": [],
   "source": [
    "# This Python 3 environment comes with many helpful analytics libraries installed\n",
    "# It is defined by the kaggle/python Docker image: https://github.com/kaggle/docker-python\n",
    "# For example, here's several helpful packages to load\n",
    "\n",
    "import numpy as np # linear algebra\n",
    "import pandas as pd # data processing, CSV file I/O (e.g. pd.read_csv)\n",
    "\n",
    "# Input data files are available in the read-only \"../input/\" directory\n",
    "# For example, running this (by clicking run or pressing Shift+Enter) will list all files under the input directory\n",
    "\n",
    "import os\n",
    "for dirname, _, filenames in os.walk('/kaggle/input'):\n",
    "    for filename in filenames:\n",
    "        print(os.path.join(dirname, filename))\n",
    "\n",
    "# You can write up to 20GB to the current directory (/kaggle/working/) that gets preserved as output when you create a version using \"Save & Run All\" \n",
    "# You can also write temporary files to /kaggle/temp/, but they won't be saved outside of the current session\n"
   ]
  },
  {
   "cell_type": "markdown",
   "id": "b9ebe7a8",
   "metadata": {
    "papermill": {
     "duration": 0.007497,
     "end_time": "2022-07-24T07:30:44.274033",
     "exception": false,
     "start_time": "2022-07-24T07:30:44.266536",
     "status": "completed"
    },
    "tags": []
   },
   "source": [
    "###### X_MLP/W11_L1-dip-iitm: [K-means clustering on digit dataset](https://www.youtube.com/watch?v=-tPSKI9nUf0&list=PLyGVjd4KQp13HB4vo0f_ztrpR8dPrDNKP&index=77)"
   ]
  },
  {
   "cell_type": "markdown",
   "id": "d9dbd438",
   "metadata": {
    "papermill": {
     "duration": 0.007476,
     "end_time": "2022-07-24T07:30:44.289873",
     "exception": false,
     "start_time": "2022-07-24T07:30:44.282397",
     "status": "completed"
    },
    "tags": []
   },
   "source": [
    "# K-means clustering on digit dataset"
   ]
  },
  {
   "cell_type": "markdown",
   "id": "cd2dc25b",
   "metadata": {
    "papermill": {
     "duration": 0.007541,
     "end_time": "2022-07-24T07:30:44.305173",
     "exception": false,
     "start_time": "2022-07-24T07:30:44.297632",
     "status": "completed"
    },
    "tags": []
   },
   "source": [
    "In this notebook, we will implement k-means algorithm using `sklearn`."
   ]
  },
  {
   "cell_type": "markdown",
   "id": "01e7dac5",
   "metadata": {
    "papermill": {
     "duration": 0.007567,
     "end_time": "2022-07-24T07:30:44.321104",
     "exception": false,
     "start_time": "2022-07-24T07:30:44.313537",
     "status": "completed"
    },
    "tags": []
   },
   "source": [
    "## Imports"
   ]
  },
  {
   "cell_type": "code",
   "execution_count": 2,
   "id": "cb0a0b7b",
   "metadata": {
    "execution": {
     "iopub.execute_input": "2022-07-24T07:30:44.338481Z",
     "iopub.status.busy": "2022-07-24T07:30:44.337842Z",
     "iopub.status.idle": "2022-07-24T07:30:45.898059Z",
     "shell.execute_reply": "2022-07-24T07:30:45.896882Z"
    },
    "papermill": {
     "duration": 1.572051,
     "end_time": "2022-07-24T07:30:45.900746",
     "exception": false,
     "start_time": "2022-07-24T07:30:44.328695",
     "status": "completed"
    },
    "tags": []
   },
   "outputs": [],
   "source": [
    "import matplotlib.pyplot as plt\n",
    "\n",
    "# KMeans clustering\n",
    "from sklearn.cluster import KMeans\n",
    "\n",
    "# Loading the digit dataset\n",
    "from sklearn.datasets import load_digits\n",
    "\n",
    "# Selecting k through silhoutte score.\n",
    "from sklearn.metrics import silhouette_score\n",
    "\n",
    "# Normalization through MinMaxScaler\n",
    "from sklearn.preprocessing import MinMaxScaler\n",
    "\n",
    "from sklearn.pipeline import Pipeline"
   ]
  },
  {
   "cell_type": "markdown",
   "id": "e6a8efdb",
   "metadata": {
    "papermill": {
     "duration": 0.007733,
     "end_time": "2022-07-24T07:30:45.917380",
     "exception": false,
     "start_time": "2022-07-24T07:30:45.909647",
     "status": "completed"
    },
    "tags": []
   },
   "source": [
    "## Clustering of digits\n",
    "\n",
    "We will use digit dataset for clustering, which is loaded through `load_digit` API.\n",
    "- It loads 8x8 digit images with approx. 180 samples per class.\n",
    "- From 10 classes, it has total of 1797 images.\n",
    "- Each pixel has value between 0 and 16."
   ]
  },
  {
   "cell_type": "code",
   "execution_count": 3,
   "id": "8a732563",
   "metadata": {
    "execution": {
     "iopub.execute_input": "2022-07-24T07:30:45.934913Z",
     "iopub.status.busy": "2022-07-24T07:30:45.934263Z",
     "iopub.status.idle": "2022-07-24T07:30:46.063123Z",
     "shell.execute_reply": "2022-07-24T07:30:46.061984Z"
    },
    "papermill": {
     "duration": 0.14097,
     "end_time": "2022-07-24T07:30:46.065824",
     "exception": false,
     "start_time": "2022-07-24T07:30:45.924854",
     "status": "completed"
    },
    "tags": []
   },
   "outputs": [],
   "source": [
    "digits = load_digits()"
   ]
  },
  {
   "cell_type": "markdown",
   "id": "d9416e66",
   "metadata": {
    "papermill": {
     "duration": 0.007242,
     "end_time": "2022-07-24T07:30:46.080685",
     "exception": false,
     "start_time": "2022-07-24T07:30:46.073443",
     "status": "completed"
    },
    "tags": []
   },
   "source": [
    "Some of the important parameters are as follows:\n",
    "- init\n",
    "- n_init\n",
    "- max_iter\n",
    "- random_state\n",
    "\n",
    "\n",
    "Since `KMeans` algorithm is susceptible to local minima, we perform multiple `KMeans` fit and select the ones with the lowest value of sum of squared error.\n",
    "\n",
    "The total number of times, we would like to run KMeans algorithm is specified through `n_init` parameter.\n",
    "\n",
    "`max_iter` specifies total number of iterations to perform before declaring the convergence.\n",
    "\n",
    "Let's define parameters of KMeans clustering algorithm in a dictionary object:"
   ]
  },
  {
   "cell_type": "code",
   "execution_count": 4,
   "id": "5a5bef0d",
   "metadata": {
    "execution": {
     "iopub.execute_input": "2022-07-24T07:30:46.097924Z",
     "iopub.status.busy": "2022-07-24T07:30:46.097235Z",
     "iopub.status.idle": "2022-07-24T07:30:46.102678Z",
     "shell.execute_reply": "2022-07-24T07:30:46.101523Z"
    },
    "papermill": {
     "duration": 0.016922,
     "end_time": "2022-07-24T07:30:46.105306",
     "exception": false,
     "start_time": "2022-07-24T07:30:46.088384",
     "status": "completed"
    },
    "tags": []
   },
   "outputs": [],
   "source": [
    "kmeans_kwargs = {\n",
    "    \"init\": \"random\",\n",
    "    \"n_init\": 50, \n",
    "    \"max_iter\": 500, \n",
    "    \"random_state\": 0,\n",
    "}"
   ]
  },
  {
   "cell_type": "markdown",
   "id": "58dbeefa",
   "metadata": {
    "papermill": {
     "duration": 0.007475,
     "end_time": "2022-07-24T07:30:46.120798",
     "exception": false,
     "start_time": "2022-07-24T07:30:46.113323",
     "status": "completed"
    },
    "tags": []
   },
   "source": [
    "Let's define a `pipeline` with two stages:\n",
    "- preprocessing for feature scaling with `MinMaxScaler`\n",
    "- clustering with `KMeans` clstering algorithm."
   ]
  },
  {
   "cell_type": "code",
   "execution_count": 5,
   "id": "c9a7e669",
   "metadata": {
    "execution": {
     "iopub.execute_input": "2022-07-24T07:30:46.138538Z",
     "iopub.status.busy": "2022-07-24T07:30:46.137884Z",
     "iopub.status.idle": "2022-07-24T07:30:46.762988Z",
     "shell.execute_reply": "2022-07-24T07:30:46.762058Z"
    },
    "papermill": {
     "duration": 0.636558,
     "end_time": "2022-07-24T07:30:46.765247",
     "exception": false,
     "start_time": "2022-07-24T07:30:46.128689",
     "status": "completed"
    },
    "tags": []
   },
   "outputs": [
    {
     "data": {
      "text/plain": [
       "Pipeline(steps=[('preprocessing', MinMaxScaler()),\n",
       "                ('clustering',\n",
       "                 KMeans(init='random', max_iter=500, n_clusters=10, n_init=50,\n",
       "                        random_state=0))])"
      ]
     },
     "execution_count": 5,
     "metadata": {},
     "output_type": "execute_result"
    }
   ],
   "source": [
    "pipeline = Pipeline([(\"preprocessing\", MinMaxScaler()),\n",
    "                     (\"clustering\", KMeans(n_clusters=10, **kmeans_kwargs))])\n",
    "pipeline.fit(digits.data)"
   ]
  },
  {
   "cell_type": "markdown",
   "id": "3e195770",
   "metadata": {
    "papermill": {
     "duration": 0.007533,
     "end_time": "2022-07-24T07:30:46.780974",
     "exception": false,
     "start_time": "2022-07-24T07:30:46.773441",
     "status": "completed"
    },
    "tags": []
   },
   "source": [
    "The cluster centroids can be accessed via `cluster_centres_` member variable of `KMeans` class"
   ]
  },
  {
   "cell_type": "code",
   "execution_count": 6,
   "id": "673576f9",
   "metadata": {
    "execution": {
     "iopub.execute_input": "2022-07-24T07:30:46.799738Z",
     "iopub.status.busy": "2022-07-24T07:30:46.799324Z",
     "iopub.status.idle": "2022-07-24T07:30:46.804538Z",
     "shell.execute_reply": "2022-07-24T07:30:46.803111Z"
    },
    "papermill": {
     "duration": 0.018244,
     "end_time": "2022-07-24T07:30:46.808049",
     "exception": false,
     "start_time": "2022-07-24T07:30:46.789805",
     "status": "completed"
    },
    "tags": []
   },
   "outputs": [],
   "source": [
    "cluster_centers = pipeline[-1].cluster_centers_"
   ]
  },
  {
   "cell_type": "markdown",
   "id": "15cf556d",
   "metadata": {
    "papermill": {
     "duration": 0.007714,
     "end_time": "2022-07-24T07:30:46.823729",
     "exception": false,
     "start_time": "2022-07-24T07:30:46.816015",
     "status": "completed"
    },
    "tags": []
   },
   "source": [
    "Let's display cluster centroids:"
   ]
  },
  {
   "cell_type": "code",
   "execution_count": 7,
   "id": "64f08e5e",
   "metadata": {
    "execution": {
     "iopub.execute_input": "2022-07-24T07:30:46.840845Z",
     "iopub.status.busy": "2022-07-24T07:30:46.840500Z",
     "iopub.status.idle": "2022-07-24T07:30:47.567681Z",
     "shell.execute_reply": "2022-07-24T07:30:47.566531Z"
    },
    "papermill": {
     "duration": 0.738394,
     "end_time": "2022-07-24T07:30:47.570017",
     "exception": false,
     "start_time": "2022-07-24T07:30:46.831623",
     "status": "completed"
    },
    "tags": []
   },
   "outputs": [
    {
     "data": {
      "image/png": "[encoded data removed]",
      "text/plain": [
       "<Figure size 288x288 with 10 Axes>"
      ]
     },
     "metadata": {
      "needs_background": "light"
     },
     "output_type": "display_data"
    }
   ],
   "source": [
    "# displaying centroids\n",
    "fig, ax = plt.subplots(5, 2, figsize=(4,4))\n",
    "for i, j in zip(ax.flat, cluster_centers.reshape(10,8,8)):\n",
    "    i.imshow(j)"
   ]
  },
  {
   "cell_type": "markdown",
   "id": "62d75841",
   "metadata": {
    "papermill": {
     "duration": 0.007692,
     "end_time": "2022-07-24T07:30:47.585845",
     "exception": false,
     "start_time": "2022-07-24T07:30:47.578153",
     "status": "completed"
    },
    "tags": []
   },
   "source": [
    "in this case, the number of clusters were known. Hence we set k=10 and got the clusters.\n",
    "\n",
    "For deciding the optimal number of clusters through elbow and silhouette, we will pretend that we do not know the number of clusters in the data and we will try to discover the optimal number of clusters through these methods one by one:"
   ]
  },
  {
   "cell_type": "markdown",
   "id": "4733573e",
   "metadata": {
    "papermill": {
     "duration": 0.007865,
     "end_time": "2022-07-24T07:30:47.601700",
     "exception": false,
     "start_time": "2022-07-24T07:30:47.593835",
     "status": "completed"
    },
    "tags": []
   },
   "source": [
    "## Elbow method"
   ]
  },
  {
   "cell_type": "markdown",
   "id": "76e11853",
   "metadata": {
    "papermill": {
     "duration": 0.007822,
     "end_time": "2022-07-24T07:30:47.617741",
     "exception": false,
     "start_time": "2022-07-24T07:30:47.609919",
     "status": "completed"
    },
    "tags": []
   },
   "source": [
    "ere we keep track of sum-of-squared error (SSE) in a list for each value of k."
   ]
  },
  {
   "cell_type": "code",
   "execution_count": 8,
   "id": "0e060e22",
   "metadata": {
    "execution": {
     "iopub.execute_input": "2022-07-24T07:30:47.635676Z",
     "iopub.status.busy": "2022-07-24T07:30:47.635281Z",
     "iopub.status.idle": "2022-07-24T07:30:53.681725Z",
     "shell.execute_reply": "2022-07-24T07:30:53.680429Z"
    },
    "papermill": {
     "duration": 6.058934,
     "end_time": "2022-07-24T07:30:53.684776",
     "exception": false,
     "start_time": "2022-07-24T07:30:47.625842",
     "status": "completed"
    },
    "tags": []
   },
   "outputs": [],
   "source": [
    "# Identifying the correct number of clusters\n",
    "sse_digit = []\n",
    "\n",
    "scaled_digits = MinMaxScaler().fit_transform(digits.data)\n",
    "for k in range(1, 12):\n",
    "    kmeans = KMeans(n_clusters=k, **kmeans_kwargs)\n",
    "    kmeans.fit(scaled_digits)\n",
    "    sse_digit.append(kmeans.inertia_)"
   ]
  },
  {
   "cell_type": "markdown",
   "id": "c99267f6",
   "metadata": {
    "papermill": {
     "duration": 0.007869,
     "end_time": "2022-07-24T07:30:53.701755",
     "exception": false,
     "start_time": "2022-07-24T07:30:53.693886",
     "status": "completed"
    },
    "tags": []
   },
   "source": [
    "Note that the SSE for a given clustering output is obtained through `inertia_` member variable."
   ]
  },
  {
   "cell_type": "code",
   "execution_count": 9,
   "id": "ff0b53c4",
   "metadata": {
    "execution": {
     "iopub.execute_input": "2022-07-24T07:30:53.720122Z",
     "iopub.status.busy": "2022-07-24T07:30:53.719762Z",
     "iopub.status.idle": "2022-07-24T07:30:53.892472Z",
     "shell.execute_reply": "2022-07-24T07:30:53.891487Z"
    },
    "papermill": {
     "duration": 0.184894,
     "end_time": "2022-07-24T07:30:53.894677",
     "exception": false,
     "start_time": "2022-07-24T07:30:53.709783",
     "status": "completed"
    },
    "tags": []
   },
   "outputs": [
    {
     "data": {
      "image/png": "[encoded data removed]",
      "text/plain": [
       "<Figure size 432x288 with 1 Axes>"
      ]
     },
     "metadata": {
      "needs_background": "light"
     },
     "output_type": "display_data"
    }
   ],
   "source": [
    "plt.plot(range(1, 12), sse_digit)\n",
    "plt.xticks(range(1, 12))\n",
    "plt.xlabel(\"Number of clusters\")\n",
    "plt.ylabel(\"SSE\");"
   ]
  },
  {
   "cell_type": "markdown",
   "id": "1fa8ca67",
   "metadata": {
    "papermill": {
     "duration": 0.007984,
     "end_time": "2022-07-24T07:30:53.911228",
     "exception": false,
     "start_time": "2022-07-24T07:30:53.903244",
     "status": "completed"
    },
    "tags": []
   },
   "source": [
    "## Silhouette"
   ]
  },
  {
   "cell_type": "code",
   "execution_count": 10,
   "id": "6ae6e70d",
   "metadata": {
    "execution": {
     "iopub.execute_input": "2022-07-24T07:30:53.930490Z",
     "iopub.status.busy": "2022-07-24T07:30:53.929133Z",
     "iopub.status.idle": "2022-07-24T07:31:02.302927Z",
     "shell.execute_reply": "2022-07-24T07:31:02.302135Z"
    },
    "papermill": {
     "duration": 8.3861,
     "end_time": "2022-07-24T07:31:02.305656",
     "exception": false,
     "start_time": "2022-07-24T07:30:53.919556",
     "status": "completed"
    },
    "tags": []
   },
   "outputs": [],
   "source": [
    "sil_coef_digits = []\n",
    "for k in range(2, 15):\n",
    "    kmeans = KMeans(n_clusters=k, **kmeans_kwargs)\n",
    "    kmeans.fit(scaled_digits)\n",
    "    score = silhouette_score(digits.data, kmeans.labels_)\n",
    "    sil_coef_digits.append(score)"
   ]
  },
  {
   "cell_type": "code",
   "execution_count": 11,
   "id": "a6fb1453",
   "metadata": {
    "execution": {
     "iopub.execute_input": "2022-07-24T07:31:02.330083Z",
     "iopub.status.busy": "2022-07-24T07:31:02.329735Z",
     "iopub.status.idle": "2022-07-24T07:31:02.495006Z",
     "shell.execute_reply": "2022-07-24T07:31:02.493749Z"
    },
    "papermill": {
     "duration": 0.180864,
     "end_time": "2022-07-24T07:31:02.498097",
     "exception": false,
     "start_time": "2022-07-24T07:31:02.317233",
     "status": "completed"
    },
    "tags": []
   },
   "outputs": [
    {
     "data": {
      "image/png": "[encoded data removed]",
      "text/plain": [
       "<Figure size 432x288 with 1 Axes>"
      ]
     },
     "metadata": {
      "needs_background": "light"
     },
     "output_type": "display_data"
    }
   ],
   "source": [
    "plt.plot(range(2, 15), sil_coef_digits)\n",
    "plt.xticks(range(2, 15))\n",
    "plt.xlabel(\"Number of Clusters\")\n",
    "plt.ylabel(\"silhouette score\")\n",
    "plt.grid(True);"
   ]
  },
  {
   "cell_type": "code",
   "execution_count": 12,
   "id": "3ae5cc95",
   "metadata": {
    "execution": {
     "iopub.execute_input": "2022-07-24T07:31:02.518873Z",
     "iopub.status.busy": "2022-07-24T07:31:02.518285Z",
     "iopub.status.idle": "2022-07-24T07:31:02.524195Z",
     "shell.execute_reply": "2022-07-24T07:31:02.522881Z"
    },
    "papermill": {
     "duration": 0.019525,
     "end_time": "2022-07-24T07:31:02.527177",
     "exception": false,
     "start_time": "2022-07-24T07:31:02.507652",
     "status": "completed"
    },
    "tags": []
   },
   "outputs": [
    {
     "name": "stdout",
     "output_type": "stream",
     "text": [
      "9\n"
     ]
    }
   ],
   "source": [
    "# get the value of K for which\n",
    "# silhouette coefficient is highest\n",
    "print(np.argmax(sil_coef_digits)+2)"
   ]
  },
  {
   "cell_type": "code",
   "execution_count": null,
   "id": "31c444a1",
   "metadata": {
    "papermill": {
     "duration": 0.008501,
     "end_time": "2022-07-24T07:31:02.545334",
     "exception": false,
     "start_time": "2022-07-24T07:31:02.536833",
     "status": "completed"
    },
    "tags": []
   },
   "outputs": [],
   "source": []
  }
 ],
 "metadata": {
  "kernelspec": {
   "display_name": "Python 3",
   "language": "python",
   "name": "python3"
  },
  "language_info": {
   "codemirror_mode": {
    "name": "ipython",
    "version": 3
   },
   "file_extension": ".py",
   "mimetype": "text/x-python",
   "name": "python",
   "nbconvert_exporter": "python",
   "pygments_lexer": "ipython3",
   "version": "3.7.12"
  },
  "papermill": {
   "default_parameters": {},
   "duration": 30.369593,
   "end_time": "2022-07-24T07:31:03.577453",
   "environment_variables": {},
   "exception": null,
   "input_path": "__notebook__.ipynb",
   "output_path": "__notebook__.ipynb",
   "parameters": {},
   "start_time": "2022-07-24T07:30:33.207860",
   "version": "2.3.4"
  }
 },
 "nbformat": 4,
 "nbformat_minor": 5
}
