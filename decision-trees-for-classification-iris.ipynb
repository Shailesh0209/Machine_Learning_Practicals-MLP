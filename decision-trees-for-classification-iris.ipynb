{
 "cells": [
  {
   "cell_type": "code",
   "execution_count": 1,
   "id": "b323c4fb",
   "metadata": {
    "_cell_guid": "b1076dfc-b9ad-4769-8c92-a6c4dae69d19",
    "_uuid": "8f2839f25d086af736a60e9eeb907d3b93b6e0e5",
    "execution": {
     "iopub.execute_input": "2022-07-23T13:12:47.088418Z",
     "iopub.status.busy": "2022-07-23T13:12:47.087700Z",
     "iopub.status.idle": "2022-07-23T13:12:47.099921Z",
     "shell.execute_reply": "2022-07-23T13:12:47.099108Z"
    },
    "papermill": {
     "duration": 0.02362,
     "end_time": "2022-07-23T13:12:47.102070",
     "exception": false,
     "start_time": "2022-07-23T13:12:47.078450",
     "status": "completed"
    },
    "tags": []
   },
   "outputs": [],
   "source": [
    "# This Python 3 environment comes with many helpful analytics libraries installed\n",
    "# It is defined by the kaggle/python Docker image: https://github.com/kaggle/docker-python\n",
    "# For example, here's several helpful packages to load\n",
    "\n",
    "import numpy as np # linear algebra\n",
    "import pandas as pd # data processing, CSV file I/O (e.g. pd.read_csv)\n",
    "\n",
    "# Input data files are available in the read-only \"../input/\" directory\n",
    "# For example, running this (by clicking run or pressing Shift+Enter) will list all files under the input directory\n",
    "\n",
    "import os\n",
    "for dirname, _, filenames in os.walk('/kaggle/input'):\n",
    "    for filename in filenames:\n",
    "        print(os.path.join(dirname, filename))\n",
    "\n",
    "# You can write up to 20GB to the current directory (/kaggle/working/) that gets preserved as output when you create a version using \"Save & Run All\" \n",
    "# You can also write temporary files to /kaggle/temp/, but they won't be saved outside of the current session"
   ]
  },
  {
   "cell_type": "markdown",
   "id": "cabc4694",
   "metadata": {
    "papermill": {
     "duration": 0.005796,
     "end_time": "2022-07-23T13:12:47.114232",
     "exception": false,
     "start_time": "2022-07-23T13:12:47.108436",
     "status": "completed"
    },
    "tags": []
   },
   "source": [
    "###### x_MLP/W9_L4(lastlec.)-dip-iitm: [Decision Trees for classification - Iris](https://www.youtube.com/watch?v=3Lc7sD1Dj4Q&list=PLyGVjd4KQp13HB4vo0f_ztrpR8dPrDNKP&index=70)"
   ]
  },
  {
   "cell_type": "markdown",
   "id": "45493fbe",
   "metadata": {
    "papermill": {
     "duration": 0.005737,
     "end_time": "2022-07-23T13:12:47.125936",
     "exception": false,
     "start_time": "2022-07-23T13:12:47.120199",
     "status": "completed"
    },
    "tags": []
   },
   "source": [
    "# Decision Trees for Classification"
   ]
  },
  {
   "cell_type": "markdown",
   "id": "6eca672b",
   "metadata": {
    "papermill": {
     "duration": 0.005725,
     "end_time": "2022-07-23T13:12:47.137709",
     "exception": false,
     "start_time": "2022-07-23T13:12:47.131984",
     "status": "completed"
    },
    "tags": []
   },
   "source": [
    "In this notebook, we will demonstrate `decision tree` in `classification` set up with `Iris dataset`"
   ]
  },
  {
   "cell_type": "markdown",
   "id": "4244e28e",
   "metadata": {
    "papermill": {
     "duration": 0.005993,
     "end_time": "2022-07-23T13:12:47.150121",
     "exception": false,
     "start_time": "2022-07-23T13:12:47.144128",
     "status": "completed"
    },
    "tags": []
   },
   "source": [
    "## Imports"
   ]
  },
  {
   "cell_type": "code",
   "execution_count": 2,
   "id": "a481f11c",
   "metadata": {
    "execution": {
     "iopub.execute_input": "2022-07-23T13:12:47.164223Z",
     "iopub.status.busy": "2022-07-23T13:12:47.163566Z",
     "iopub.status.idle": "2022-07-23T13:12:48.271132Z",
     "shell.execute_reply": "2022-07-23T13:12:48.269947Z"
    },
    "papermill": {
     "duration": 1.117891,
     "end_time": "2022-07-23T13:12:48.274031",
     "exception": false,
     "start_time": "2022-07-23T13:12:47.156140",
     "status": "completed"
    },
    "tags": []
   },
   "outputs": [],
   "source": [
    "import matplotlib.pyplot as plt\n",
    "\n",
    "from sklearn import tree\n",
    "\n",
    "from sklearn.datasets import load_iris\n",
    "\n",
    "from sklearn.model_selection import train_test_split,\\\n",
    "GridSearchCV\n",
    "\n",
    "from sklearn.metrics import classification_report,\\\n",
    "confusion_matrix, ConfusionMatrixDisplay\n",
    "\n",
    "from sklearn.pipeline import Pipeline\n",
    "\n",
    "from sklearn.preprocessing import MinMaxScaler\n",
    "\n",
    "from sklearn.tree import DecisionTreeClassifier, export_text\n"
   ]
  },
  {
   "cell_type": "markdown",
   "id": "eda0b2bc",
   "metadata": {
    "papermill": {
     "duration": 0.006255,
     "end_time": "2022-07-23T13:12:48.287051",
     "exception": false,
     "start_time": "2022-07-23T13:12:48.280796",
     "status": "completed"
    },
    "tags": []
   },
   "source": [
    "## Data Loading"
   ]
  },
  {
   "cell_type": "code",
   "execution_count": 3,
   "id": "1ce25792",
   "metadata": {
    "execution": {
     "iopub.execute_input": "2022-07-23T13:12:48.302095Z",
     "iopub.status.busy": "2022-07-23T13:12:48.301393Z",
     "iopub.status.idle": "2022-07-23T13:12:48.327131Z",
     "shell.execute_reply": "2022-07-23T13:12:48.326058Z"
    },
    "papermill": {
     "duration": 0.036447,
     "end_time": "2022-07-23T13:12:48.329859",
     "exception": false,
     "start_time": "2022-07-23T13:12:48.293412",
     "status": "completed"
    },
    "tags": []
   },
   "outputs": [],
   "source": [
    "# let's load iris dataset with load_iris API.\n",
    "features, labels = load_iris(return_X_y=True, as_frame=True)"
   ]
  },
  {
   "cell_type": "markdown",
   "id": "97975bd4",
   "metadata": {
    "papermill": {
     "duration": 0.007911,
     "end_time": "2022-07-23T13:12:48.345885",
     "exception": false,
     "start_time": "2022-07-23T13:12:48.337974",
     "status": "completed"
    },
    "tags": []
   },
   "source": [
    "Let's split the data into train and test"
   ]
  },
  {
   "cell_type": "code",
   "execution_count": 4,
   "id": "4a67232a",
   "metadata": {
    "execution": {
     "iopub.execute_input": "2022-07-23T13:12:48.363864Z",
     "iopub.status.busy": "2022-07-23T13:12:48.362703Z",
     "iopub.status.idle": "2022-07-23T13:12:48.369941Z",
     "shell.execute_reply": "2022-07-23T13:12:48.369176Z"
    },
    "papermill": {
     "duration": 0.017829,
     "end_time": "2022-07-23T13:12:48.372115",
     "exception": false,
     "start_time": "2022-07-23T13:12:48.354286",
     "status": "completed"
    },
    "tags": []
   },
   "outputs": [],
   "source": [
    "train_features, test_features, train_labels, test_labels =\\\n",
    "train_test_split(features, labels, test_size=0.2, random_state=42)"
   ]
  },
  {
   "cell_type": "markdown",
   "id": "3f55ad4f",
   "metadata": {
    "papermill": {
     "duration": 0.005838,
     "end_time": "2022-07-23T13:12:48.384069",
     "exception": false,
     "start_time": "2022-07-23T13:12:48.378231",
     "status": "completed"
    },
    "tags": []
   },
   "source": [
    "Define the decision tree classifier as part of `pipeline`"
   ]
  },
  {
   "cell_type": "code",
   "execution_count": 5,
   "id": "9482aa8c",
   "metadata": {
    "execution": {
     "iopub.execute_input": "2022-07-23T13:12:48.398415Z",
     "iopub.status.busy": "2022-07-23T13:12:48.397424Z",
     "iopub.status.idle": "2022-07-23T13:12:48.402993Z",
     "shell.execute_reply": "2022-07-23T13:12:48.402241Z"
    },
    "papermill": {
     "duration": 0.014977,
     "end_time": "2022-07-23T13:12:48.405154",
     "exception": false,
     "start_time": "2022-07-23T13:12:48.390177",
     "status": "completed"
    },
    "tags": []
   },
   "outputs": [],
   "source": [
    "dt_pipeline = Pipeline(steps=[(\"feature_scaling\", MinMaxScaler()),\n",
    "                              (\"dt_classifier\",\n",
    "                              DecisionTreeClassifier(max_depth=3,\\\n",
    "                                                    random_state=42))])"
   ]
  },
  {
   "cell_type": "markdown",
   "id": "81ad56cb",
   "metadata": {
    "papermill": {
     "duration": 0.005803,
     "end_time": "2022-07-23T13:12:48.417067",
     "exception": false,
     "start_time": "2022-07-23T13:12:48.411264",
     "status": "completed"
    },
    "tags": []
   },
   "source": [
    "Train the classifier"
   ]
  },
  {
   "cell_type": "code",
   "execution_count": 6,
   "id": "b324f0d6",
   "metadata": {
    "execution": {
     "iopub.execute_input": "2022-07-23T13:12:48.432170Z",
     "iopub.status.busy": "2022-07-23T13:12:48.431458Z",
     "iopub.status.idle": "2022-07-23T13:12:48.449159Z",
     "shell.execute_reply": "2022-07-23T13:12:48.448070Z"
    },
    "papermill": {
     "duration": 0.027666,
     "end_time": "2022-07-23T13:12:48.451452",
     "exception": false,
     "start_time": "2022-07-23T13:12:48.423786",
     "status": "completed"
    },
    "tags": []
   },
   "outputs": [
    {
     "data": {
      "text/plain": [
       "Pipeline(steps=[('feature_scaling', MinMaxScaler()),\n",
       "                ('dt_classifier',\n",
       "                 DecisionTreeClassifier(max_depth=3, random_state=42))])"
      ]
     },
     "execution_count": 6,
     "metadata": {},
     "output_type": "execute_result"
    }
   ],
   "source": [
    "dt_pipeline.fit(train_features, train_labels)"
   ]
  },
  {
   "cell_type": "markdown",
   "id": "ef93a1e0",
   "metadata": {
    "papermill": {
     "duration": 0.005922,
     "end_time": "2022-07-23T13:12:48.463648",
     "exception": false,
     "start_time": "2022-07-23T13:12:48.457726",
     "status": "completed"
    },
    "tags": []
   },
   "source": [
    "Now that the clasifier is trained, let's evaluate it on the test set with\n",
    "- Confusion matrix\n",
    "- Classification report"
   ]
  },
  {
   "cell_type": "code",
   "execution_count": 7,
   "id": "b5bce344",
   "metadata": {
    "execution": {
     "iopub.execute_input": "2022-07-23T13:12:48.477783Z",
     "iopub.status.busy": "2022-07-23T13:12:48.477399Z",
     "iopub.status.idle": "2022-07-23T13:12:48.677936Z",
     "shell.execute_reply": "2022-07-23T13:12:48.676819Z"
    },
    "papermill": {
     "duration": 0.210374,
     "end_time": "2022-07-23T13:12:48.680258",
     "exception": false,
     "start_time": "2022-07-23T13:12:48.469884",
     "status": "completed"
    },
    "tags": []
   },
   "outputs": [
    {
     "data": {
      "image/png": "[encoded data removed]",
      "text/plain": [
       "<Figure size 432x288 with 2 Axes>"
      ]
     },
     "metadata": {
      "needs_background": "light"
     },
     "output_type": "display_data"
    }
   ],
   "source": [
    "ConfusionMatrixDisplay.from_estimator(dt_pipeline, test_features, test_labels);"
   ]
  },
  {
   "cell_type": "code",
   "execution_count": 8,
   "id": "17ce7f8d",
   "metadata": {
    "execution": {
     "iopub.execute_input": "2022-07-23T13:12:48.695275Z",
     "iopub.status.busy": "2022-07-23T13:12:48.694642Z",
     "iopub.status.idle": "2022-07-23T13:12:48.709351Z",
     "shell.execute_reply": "2022-07-23T13:12:48.708023Z"
    },
    "papermill": {
     "duration": 0.026255,
     "end_time": "2022-07-23T13:12:48.712943",
     "exception": false,
     "start_time": "2022-07-23T13:12:48.686688",
     "status": "completed"
    },
    "tags": []
   },
   "outputs": [
    {
     "name": "stdout",
     "output_type": "stream",
     "text": [
      "              precision    recall  f1-score   support\n",
      "\n",
      "           0       1.00      1.00      1.00        10\n",
      "           1       1.00      1.00      1.00         9\n",
      "           2       1.00      1.00      1.00        11\n",
      "\n",
      "    accuracy                           1.00        30\n",
      "   macro avg       1.00      1.00      1.00        30\n",
      "weighted avg       1.00      1.00      1.00        30\n",
      "\n"
     ]
    }
   ],
   "source": [
    "print(classification_report(test_labels, dt_pipeline.predict(test_features)))"
   ]
  },
  {
   "cell_type": "markdown",
   "id": "3063ec92",
   "metadata": {
    "papermill": {
     "duration": 0.006863,
     "end_time": "2022-07-23T13:12:48.727778",
     "exception": false,
     "start_time": "2022-07-23T13:12:48.720915",
     "status": "completed"
    },
    "tags": []
   },
   "source": [
    "As a next step, let's visualize the trained decision tree model."
   ]
  },
  {
   "cell_type": "code",
   "execution_count": 9,
   "id": "c7957722",
   "metadata": {
    "execution": {
     "iopub.execute_input": "2022-07-23T13:12:48.744179Z",
     "iopub.status.busy": "2022-07-23T13:12:48.743770Z",
     "iopub.status.idle": "2022-07-23T13:12:48.749474Z",
     "shell.execute_reply": "2022-07-23T13:12:48.748697Z"
    },
    "papermill": {
     "duration": 0.015414,
     "end_time": "2022-07-23T13:12:48.751579",
     "exception": false,
     "start_time": "2022-07-23T13:12:48.736165",
     "status": "completed"
    },
    "tags": []
   },
   "outputs": [],
   "source": [
    "data = load_iris()"
   ]
  },
  {
   "cell_type": "code",
   "execution_count": 10,
   "id": "6407d8a9",
   "metadata": {
    "execution": {
     "iopub.execute_input": "2022-07-23T13:12:48.766130Z",
     "iopub.status.busy": "2022-07-23T13:12:48.765779Z",
     "iopub.status.idle": "2022-07-23T13:12:49.295485Z",
     "shell.execute_reply": "2022-07-23T13:12:49.294335Z"
    },
    "papermill": {
     "duration": 0.540514,
     "end_time": "2022-07-23T13:12:49.298677",
     "exception": false,
     "start_time": "2022-07-23T13:12:48.758163",
     "status": "completed"
    },
    "tags": []
   },
   "outputs": [
    {
     "data": {
      "image/png": "[encoded data removed]",
      "text/plain": [
       "<Figure size 1440x576 with 1 Axes>"
      ]
     },
     "metadata": {},
     "output_type": "display_data"
    }
   ],
   "source": [
    "# plt the figure, setting a black background\n",
    "plt.figure(figsize=(20,8), facecolor='w')\n",
    "# create the tree plot\n",
    "a = tree.plot_tree(dt_pipeline[-1],\n",
    "                  # use the feature names stored\n",
    "                   feature_names = features.columns,\n",
    "                   # use the class names stored\n",
    "                   class_names = data.target_names,\n",
    "                   rounded=True,\n",
    "                   filled=True,\n",
    "                   fontsize=12\n",
    "                  );"
   ]
  },
  {
   "cell_type": "markdown",
   "id": "60dd24df",
   "metadata": {
    "papermill": {
     "duration": 0.00756,
     "end_time": "2022-07-23T13:12:49.314070",
     "exception": false,
     "start_time": "2022-07-23T13:12:49.306510",
     "status": "completed"
    },
    "tags": []
   },
   "source": [
    "Let's convert this tree representation into if-else rule set."
   ]
  },
  {
   "cell_type": "code",
   "execution_count": 11,
   "id": "da7d7ae1",
   "metadata": {
    "execution": {
     "iopub.execute_input": "2022-07-23T13:12:49.330705Z",
     "iopub.status.busy": "2022-07-23T13:12:49.330360Z",
     "iopub.status.idle": "2022-07-23T13:12:49.336748Z",
     "shell.execute_reply": "2022-07-23T13:12:49.335504Z"
    },
    "papermill": {
     "duration": 0.017498,
     "end_time": "2022-07-23T13:12:49.339255",
     "exception": false,
     "start_time": "2022-07-23T13:12:49.321757",
     "status": "completed"
    },
    "tags": []
   },
   "outputs": [
    {
     "name": "stdout",
     "output_type": "stream",
     "text": [
      "|--- petal length (cm) <= 0.25\n",
      "|   |--- class: 0\n",
      "|--- petal length (cm) >  0.25\n",
      "|   |--- petal length (cm) <= 0.66\n",
      "|   |   |--- petal width (cm) <= 0.65\n",
      "|   |   |   |--- class: 1\n",
      "|   |   |--- petal width (cm) >  0.65\n",
      "|   |   |   |--- class: 2\n",
      "|   |--- petal length (cm) >  0.66\n",
      "|   |   |--- petal width (cm) <= 0.69\n",
      "|   |   |   |--- class: 1\n",
      "|   |   |--- petal width (cm) >  0.69\n",
      "|   |   |   |--- class: 2\n",
      "\n"
     ]
    }
   ],
   "source": [
    "# export the decision rules\n",
    "tree_rules = export_text(dt_pipeline[-1],\n",
    "                        feature_names=list(features.columns))\n",
    "# print the result\n",
    "print(tree_rules)"
   ]
  },
  {
   "cell_type": "markdown",
   "id": "98f6a4c7",
   "metadata": {
    "papermill": {
     "duration": 0.0071,
     "end_time": "2022-07-23T13:12:49.354151",
     "exception": false,
     "start_time": "2022-07-23T13:12:49.347051",
     "status": "completed"
    },
    "tags": []
   },
   "source": [
    "Let's get the feature importance from the trained decision tree model."
   ]
  },
  {
   "cell_type": "code",
   "execution_count": 12,
   "id": "43ba5ec5",
   "metadata": {
    "execution": {
     "iopub.execute_input": "2022-07-23T13:12:49.370783Z",
     "iopub.status.busy": "2022-07-23T13:12:49.369688Z",
     "iopub.status.idle": "2022-07-23T13:12:49.382683Z",
     "shell.execute_reply": "2022-07-23T13:12:49.381349Z"
    },
    "papermill": {
     "duration": 0.023782,
     "end_time": "2022-07-23T13:12:49.385223",
     "exception": false,
     "start_time": "2022-07-23T13:12:49.361441",
     "status": "completed"
    },
    "tags": []
   },
   "outputs": [
    {
     "name": "stdout",
     "output_type": "stream",
     "text": [
      "             feature  importance\n",
      "2  petal length (cm)       0.935\n",
      "3   petal width (cm)       0.065\n",
      "0  sepal length (cm)       0.000\n",
      "1   sepal width (cm)       0.000\n"
     ]
    }
   ],
   "source": [
    "# extract importance\n",
    "importance = pd.DataFrame({'feature': features.columns,\n",
    "                           'importance': np.round(\n",
    "                              dt_pipeline[-1].feature_importances_, 3)})\n",
    "importance.sort_values('importance', ascending=False, inplace=True)\n",
    "print(importance)"
   ]
  },
  {
   "cell_type": "markdown",
   "id": "8ea62b32",
   "metadata": {
    "papermill": {
     "duration": 0.007201,
     "end_time": "2022-07-23T13:12:49.400451",
     "exception": false,
     "start_time": "2022-07-23T13:12:49.393250",
     "status": "completed"
    },
    "tags": []
   },
   "source": [
    "There are two configurable parameters in tree classifier:\n",
    "- `max-depth`\n",
    "- `min_samples_split`"
   ]
  },
  {
   "cell_type": "code",
   "execution_count": 13,
   "id": "c2a127b1",
   "metadata": {
    "execution": {
     "iopub.execute_input": "2022-07-23T13:12:49.417353Z",
     "iopub.status.busy": "2022-07-23T13:12:49.416557Z",
     "iopub.status.idle": "2022-07-23T13:12:50.273995Z",
     "shell.execute_reply": "2022-07-23T13:12:50.272674Z"
    },
    "papermill": {
     "duration": 0.868406,
     "end_time": "2022-07-23T13:12:50.276402",
     "exception": false,
     "start_time": "2022-07-23T13:12:49.407996",
     "status": "completed"
    },
    "tags": []
   },
   "outputs": [
    {
     "name": "stdout",
     "output_type": "stream",
     "text": [
      "Best parameters:\n",
      "\n",
      "{'dt_classifier__max_depth': 4, 'dt_classifier__min_samples_split': 2}\n",
      "\n",
      "Grid scores:\n",
      "0.559 (+/-0.014) for {'dt_classifier__max_depth': 1, 'dt_classifier__min_samples_split': 2}\n",
      "0.559 (+/-0.014) for {'dt_classifier__max_depth': 1, 'dt_classifier__min_samples_split': 4}\n",
      "0.559 (+/-0.014) for {'dt_classifier__max_depth': 1, 'dt_classifier__min_samples_split': 6}\n",
      "0.559 (+/-0.014) for {'dt_classifier__max_depth': 1, 'dt_classifier__min_samples_split': 8}\n",
      "0.559 (+/-0.014) for {'dt_classifier__max_depth': 1, 'dt_classifier__min_samples_split': 10}\n",
      "0.916 (+/-0.091) for {'dt_classifier__max_depth': 2, 'dt_classifier__min_samples_split': 2}\n",
      "0.916 (+/-0.091) for {'dt_classifier__max_depth': 2, 'dt_classifier__min_samples_split': 4}\n",
      "0.916 (+/-0.091) for {'dt_classifier__max_depth': 2, 'dt_classifier__min_samples_split': 6}\n",
      "0.916 (+/-0.091) for {'dt_classifier__max_depth': 2, 'dt_classifier__min_samples_split': 8}\n",
      "0.916 (+/-0.091) for {'dt_classifier__max_depth': 2, 'dt_classifier__min_samples_split': 10}\n",
      "0.932 (+/-0.115) for {'dt_classifier__max_depth': 3, 'dt_classifier__min_samples_split': 2}\n",
      "0.932 (+/-0.115) for {'dt_classifier__max_depth': 3, 'dt_classifier__min_samples_split': 4}\n",
      "0.932 (+/-0.115) for {'dt_classifier__max_depth': 3, 'dt_classifier__min_samples_split': 6}\n",
      "0.932 (+/-0.115) for {'dt_classifier__max_depth': 3, 'dt_classifier__min_samples_split': 8}\n",
      "0.932 (+/-0.115) for {'dt_classifier__max_depth': 3, 'dt_classifier__min_samples_split': 10}\n",
      "0.941 (+/-0.115) for {'dt_classifier__max_depth': 4, 'dt_classifier__min_samples_split': 2}\n",
      "0.932 (+/-0.115) for {'dt_classifier__max_depth': 4, 'dt_classifier__min_samples_split': 4}\n",
      "0.941 (+/-0.115) for {'dt_classifier__max_depth': 4, 'dt_classifier__min_samples_split': 6}\n",
      "0.932 (+/-0.115) for {'dt_classifier__max_depth': 4, 'dt_classifier__min_samples_split': 8}\n",
      "0.932 (+/-0.115) for {'dt_classifier__max_depth': 4, 'dt_classifier__min_samples_split': 10}\n",
      "0.932 (+/-0.115) for {'dt_classifier__max_depth': 5, 'dt_classifier__min_samples_split': 2}\n",
      "0.924 (+/-0.112) for {'dt_classifier__max_depth': 5, 'dt_classifier__min_samples_split': 4}\n",
      "0.941 (+/-0.115) for {'dt_classifier__max_depth': 5, 'dt_classifier__min_samples_split': 6}\n",
      "0.932 (+/-0.115) for {'dt_classifier__max_depth': 5, 'dt_classifier__min_samples_split': 8}\n",
      "0.932 (+/-0.115) for {'dt_classifier__max_depth': 5, 'dt_classifier__min_samples_split': 10}\n"
     ]
    }
   ],
   "source": [
    "hp_grid = [{'dt_classifier__max_depth': [1,2,3,4,5],\n",
    "            'dt_classifier__min_samples_split': [2,4,6,8,10]}]\n",
    "gs_clf = GridSearchCV(dt_pipeline, hp_grid, scoring='f1_macro')\n",
    "gs_clf.fit(train_features, train_labels)\n",
    "\n",
    "print(\"Best parameters:\")\n",
    "print()\n",
    "print(gs_clf.best_params_)\n",
    "print()\n",
    "print(\"Grid scores:\")\n",
    "means = gs_clf.cv_results_[\"mean_test_score\"]\n",
    "stds = gs_clf.cv_results_[\"std_test_score\"]\n",
    "for mean, std, params in zip(means, stds,\n",
    "                            gs_clf.cv_results_['params']):\n",
    "    print(f\"{mean:0.3} (+/-{std*2:0.03f}) for {params}\")"
   ]
  },
  {
   "cell_type": "markdown",
   "id": "90ec61bc",
   "metadata": {
    "papermill": {
     "duration": 0.007905,
     "end_time": "2022-07-23T13:12:50.292446",
     "exception": false,
     "start_time": "2022-07-23T13:12:50.284541",
     "status": "completed"
    },
    "tags": []
   },
   "source": [
    "Confusion matrix for the best estimator obtained through the `GridSearchCv`."
   ]
  },
  {
   "cell_type": "code",
   "execution_count": 14,
   "id": "d0041f39",
   "metadata": {
    "execution": {
     "iopub.execute_input": "2022-07-23T13:12:50.310587Z",
     "iopub.status.busy": "2022-07-23T13:12:50.309909Z",
     "iopub.status.idle": "2022-07-23T13:12:50.479959Z",
     "shell.execute_reply": "2022-07-23T13:12:50.478863Z"
    },
    "papermill": {
     "duration": 0.182506,
     "end_time": "2022-07-23T13:12:50.483074",
     "exception": false,
     "start_time": "2022-07-23T13:12:50.300568",
     "status": "completed"
    },
    "tags": []
   },
   "outputs": [
    {
     "data": {
      "image/png": "[encoded data removed]",
      "text/plain": [
       "<Figure size 432x288 with 2 Axes>"
      ]
     },
     "metadata": {
      "needs_background": "light"
     },
     "output_type": "display_data"
    }
   ],
   "source": [
    "ConfusionMatrixDisplay.from_estimator(gs_clf.best_estimator_, test_features, test_labels);"
   ]
  },
  {
   "cell_type": "code",
   "execution_count": null,
   "id": "c145abb5",
   "metadata": {
    "papermill": {
     "duration": 0.008591,
     "end_time": "2022-07-23T13:12:50.500038",
     "exception": false,
     "start_time": "2022-07-23T13:12:50.491447",
     "status": "completed"
    },
    "tags": []
   },
   "outputs": [],
   "source": []
  }
 ],
 "metadata": {
  "kernelspec": {
   "display_name": "Python 3",
   "language": "python",
   "name": "python3"
  },
  "language_info": {
   "codemirror_mode": {
    "name": "ipython",
    "version": 3
   },
   "file_extension": ".py",
   "mimetype": "text/x-python",
   "name": "python",
   "nbconvert_exporter": "python",
   "pygments_lexer": "ipython3",
   "version": "3.7.12"
  },
  "papermill": {
   "default_parameters": {},
   "duration": 12.397588,
   "end_time": "2022-07-23T13:12:51.229582",
   "environment_variables": {},
   "exception": null,
   "input_path": "__notebook__.ipynb",
   "output_path": "__notebook__.ipynb",
   "parameters": {},
   "start_time": "2022-07-23T13:12:38.831994",
   "version": "2.3.4"
  }
 },
 "nbformat": 4,
 "nbformat_minor": 5
}
