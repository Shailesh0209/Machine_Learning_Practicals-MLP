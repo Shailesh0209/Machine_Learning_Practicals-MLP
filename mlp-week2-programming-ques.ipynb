{
 "cells": [
  {
   "cell_type": "code",
   "execution_count": 1,
   "id": "700cb116",
   "metadata": {
    "_cell_guid": "b1076dfc-b9ad-4769-8c92-a6c4dae69d19",
    "_uuid": "8f2839f25d086af736a60e9eeb907d3b93b6e0e5",
    "execution": {
     "iopub.execute_input": "2022-05-14T06:17:41.767906Z",
     "iopub.status.busy": "2022-05-14T06:17:41.767356Z",
     "iopub.status.idle": "2022-05-14T06:17:41.786075Z",
     "shell.execute_reply": "2022-05-14T06:17:41.785209Z"
    },
    "papermill": {
     "duration": 0.03306,
     "end_time": "2022-05-14T06:17:41.788510",
     "exception": false,
     "start_time": "2022-05-14T06:17:41.755450",
     "status": "completed"
    },
    "tags": []
   },
   "outputs": [
    {
     "name": "stdout",
     "output_type": "stream",
     "text": [
      "/kaggle/input/datapreprocessingpracticeassignmentdataset/DataPreprocessingGraded_dataset.csv\n"
     ]
    }
   ],
   "source": [
    "# This Python 3 environment comes with many helpful analytics libraries installed\n",
    "# It is defined by the kaggle/python Docker image: https://github.com/kaggle/docker-python\n",
    "# For example, here's several helpful packages to load\n",
    "\n",
    "import numpy as np # linear algebra\n",
    "import pandas as pd # data processing, CSV file I/O (e.g. pd.read_csv)\n",
    "\n",
    "# Input data files are available in the read-only \"../input/\" directory\n",
    "# For example, running this (by clicking run or pressing Shift+Enter) will list all files under the input directory\n",
    "\n",
    "import os\n",
    "for dirname, _, filenames in os.walk('/kaggle/input'):\n",
    "    for filename in filenames:\n",
    "        print(os.path.join(dirname, filename))\n",
    "\n",
    "# You can write up to 20GB to the current directory (/kaggle/working/) that gets preserved as output when you create a version using \"Save & Run All\" \n",
    "# You can also write temporary files to /kaggle/temp/, but they won't be saved outside of the current session"
   ]
  },
  {
   "cell_type": "markdown",
   "id": "1b574cde",
   "metadata": {
    "papermill": {
     "duration": 0.008742,
     "end_time": "2022-05-14T06:17:41.807097",
     "exception": false,
     "start_time": "2022-05-14T06:17:41.798355",
     "status": "completed"
    },
    "tags": []
   },
   "source": [
    "Importing the libraries"
   ]
  },
  {
   "cell_type": "code",
   "execution_count": 2,
   "id": "71c161ef",
   "metadata": {
    "execution": {
     "iopub.execute_input": "2022-05-14T06:17:41.826976Z",
     "iopub.status.busy": "2022-05-14T06:17:41.826452Z",
     "iopub.status.idle": "2022-05-14T06:17:43.424867Z",
     "shell.execute_reply": "2022-05-14T06:17:43.423999Z"
    },
    "papermill": {
     "duration": 1.61141,
     "end_time": "2022-05-14T06:17:43.427622",
     "exception": false,
     "start_time": "2022-05-14T06:17:41.816212",
     "status": "completed"
    },
    "tags": []
   },
   "outputs": [],
   "source": [
    "import seaborn as sns\n",
    "\n",
    "# Importing libraries and modules\n",
    "import os\n",
    "import requests\n",
    "\n",
    "from sklearn.datasets import fetch_openml\n",
    "from sklearn.preprocessing import StandardScaler, OneHotEncoder, OrdinalEncoder, MinMaxScaler\n",
    "from sklearn.compose import ColumnTransformer\n",
    "from sklearn.pipeline import Pipeline, FeatureUnion\n",
    "from sklearn.impute import SimpleImputer, KNNImputer\n",
    "from sklearn.linear_model import LogisticRegression\n",
    "from sklearn.feature_selection import RFE\n",
    "from sklearn.feature_selection import SequentialFeatureSelector\n",
    "from sklearn import set_config"
   ]
  },
  {
   "cell_type": "code",
   "execution_count": 3,
   "id": "44abf02e",
   "metadata": {
    "execution": {
     "iopub.execute_input": "2022-05-14T06:17:43.447060Z",
     "iopub.status.busy": "2022-05-14T06:17:43.446754Z",
     "iopub.status.idle": "2022-05-14T06:17:43.465985Z",
     "shell.execute_reply": "2022-05-14T06:17:43.465034Z"
    },
    "papermill": {
     "duration": 0.031592,
     "end_time": "2022-05-14T06:17:43.468265",
     "exception": false,
     "start_time": "2022-05-14T06:17:43.436673",
     "status": "completed"
    },
    "tags": []
   },
   "outputs": [],
   "source": [
    "data = pd.read_csv(\"../input/datapreprocessingpracticeassignmentdataset/DataPreprocessingGraded_dataset.csv\")"
   ]
  },
  {
   "cell_type": "code",
   "execution_count": 4,
   "id": "88bc953f",
   "metadata": {
    "execution": {
     "iopub.execute_input": "2022-05-14T06:17:43.488158Z",
     "iopub.status.busy": "2022-05-14T06:17:43.487848Z",
     "iopub.status.idle": "2022-05-14T06:17:43.496197Z",
     "shell.execute_reply": "2022-05-14T06:17:43.495327Z"
    },
    "papermill": {
     "duration": 0.021007,
     "end_time": "2022-05-14T06:17:43.498527",
     "exception": false,
     "start_time": "2022-05-14T06:17:43.477520",
     "status": "completed"
    },
    "tags": []
   },
   "outputs": [
    {
     "data": {
      "text/plain": [
       "748"
      ]
     },
     "execution_count": 4,
     "metadata": {},
     "output_type": "execute_result"
    }
   ],
   "source": [
    "data.shape[0]"
   ]
  },
  {
   "cell_type": "code",
   "execution_count": null,
   "id": "03197ba3",
   "metadata": {
    "papermill": {
     "duration": 0.008697,
     "end_time": "2022-05-14T06:17:43.516521",
     "exception": false,
     "start_time": "2022-05-14T06:17:43.507824",
     "status": "completed"
    },
    "tags": []
   },
   "outputs": [],
   "source": []
  },
  {
   "cell_type": "markdown",
   "id": "b5039d00",
   "metadata": {
    "papermill": {
     "duration": 0.008724,
     "end_time": "2022-05-14T06:17:43.534677",
     "exception": false,
     "start_time": "2022-05-14T06:17:43.525953",
     "status": "completed"
    },
    "tags": []
   },
   "source": [
    "# MLP week 2 Solve with US"
   ]
  },
  {
   "cell_type": "code",
   "execution_count": null,
   "id": "2e7f84f7",
   "metadata": {
    "papermill": {
     "duration": 0.008621,
     "end_time": "2022-05-14T06:17:43.552292",
     "exception": false,
     "start_time": "2022-05-14T06:17:43.543671",
     "status": "completed"
    },
    "tags": []
   },
   "outputs": [],
   "source": []
  }
 ],
 "metadata": {
  "kernelspec": {
   "display_name": "Python 3",
   "language": "python",
   "name": "python3"
  },
  "language_info": {
   "codemirror_mode": {
    "name": "ipython",
    "version": 3
   },
   "file_extension": ".py",
   "mimetype": "text/x-python",
   "name": "python",
   "nbconvert_exporter": "python",
   "pygments_lexer": "ipython3",
   "version": "3.7.12"
  },
  "papermill": {
   "default_parameters": {},
   "duration": 14.637528,
   "end_time": "2022-05-14T06:17:46.299079",
   "environment_variables": {},
   "exception": null,
   "input_path": "__notebook__.ipynb",
   "output_path": "__notebook__.ipynb",
   "parameters": {},
   "start_time": "2022-05-14T06:17:31.661551",
   "version": "2.3.4"
  }
 },
 "nbformat": 4,
 "nbformat_minor": 5
}
