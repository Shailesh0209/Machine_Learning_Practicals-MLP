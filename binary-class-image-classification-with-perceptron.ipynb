{
 "cells": [
  {
   "cell_type": "code",
   "execution_count": 1,
   "id": "18f71fa2",
   "metadata": {
    "_cell_guid": "b1076dfc-b9ad-4769-8c92-a6c4dae69d19",
    "_uuid": "8f2839f25d086af736a60e9eeb907d3b93b6e0e5",
    "execution": {
     "iopub.execute_input": "2022-07-22T09:45:14.361597Z",
     "iopub.status.busy": "2022-07-22T09:45:14.361157Z",
     "iopub.status.idle": "2022-07-22T09:45:14.373964Z",
     "shell.execute_reply": "2022-07-22T09:45:14.373126Z"
    },
    "papermill": {
     "duration": 0.04073,
     "end_time": "2022-07-22T09:45:14.376492",
     "exception": false,
     "start_time": "2022-07-22T09:45:14.335762",
     "status": "completed"
    },
    "tags": []
   },
   "outputs": [],
   "source": [
    "# This Python 3 environment comes with many helpful analytics libraries installed\n",
    "# It is defined by the kaggle/python Docker image: https://github.com/kaggle/docker-python\n",
    "# For example, here's several helpful packages to load\n",
    "\n",
    "import numpy as np # linear algebra\n",
    "import pandas as pd # data processing, CSV file I/O (e.g. pd.read_csv)\n",
    "\n",
    "# Input data files are available in the read-only \"../input/\" directory\n",
    "# For example, running this (by clicking run or pressing Shift+Enter) will list all files under the input directory\n",
    "\n",
    "import os\n",
    "for dirname, _, filenames in os.walk('/kaggle/input'):\n",
    "    for filename in filenames:\n",
    "        print(os.path.join(dirname, filename))\n",
    "\n",
    "# You can write up to 20GB to the current directory (/kaggle/working/) that gets preserved as output when you create a version using \"Save & Run All\" \n",
    "# You can also write temporary files to /kaggle/temp/, but they won't be saved outside of the current session"
   ]
  },
  {
   "cell_type": "markdown",
   "id": "191f7060",
   "metadata": {
    "papermill": {
     "duration": 0.021764,
     "end_time": "2022-07-22T09:45:14.421946",
     "exception": false,
     "start_time": "2022-07-22T09:45:14.400182",
     "status": "completed"
    },
    "tags": []
   },
   "source": [
    "##### x/W5/L4/mlp-dip-iitm"
   ]
  },
  {
   "cell_type": "markdown",
   "id": "622df3e8",
   "metadata": {
    "papermill": {
     "duration": 0.021051,
     "end_time": "2022-07-22T09:45:14.465112",
     "exception": false,
     "start_time": "2022-07-22T09:45:14.444061",
     "status": "completed"
    },
    "tags": []
   },
   "source": [
    "# Image Classification: Supervised Learning"
   ]
  },
  {
   "cell_type": "markdown",
   "id": "4aa4e503",
   "metadata": {
    "papermill": {
     "duration": 0.021251,
     "end_time": "2022-07-22T09:45:14.507698",
     "exception": false,
     "start_time": "2022-07-22T09:45:14.486447",
     "status": "completed"
    },
    "tags": []
   },
   "source": [
    "## Imports"
   ]
  },
  {
   "cell_type": "code",
   "execution_count": 2,
   "id": "0833b269",
   "metadata": {
    "execution": {
     "iopub.execute_input": "2022-07-22T09:45:14.552395Z",
     "iopub.status.busy": "2022-07-22T09:45:14.551999Z",
     "iopub.status.idle": "2022-07-22T09:45:15.993825Z",
     "shell.execute_reply": "2022-07-22T09:45:15.992751Z"
    },
    "papermill": {
     "duration": 1.467313,
     "end_time": "2022-07-22T09:45:15.996374",
     "exception": false,
     "start_time": "2022-07-22T09:45:14.529061",
     "status": "completed"
    },
    "tags": []
   },
   "outputs": [],
   "source": [
    "import numpy as np\n",
    "import pandas as pd\n",
    "import matplotlib.pyplot as plt\n",
    "import seaborn as sns\n",
    "import os \n",
    "import io\n",
    "import warnings\n",
    "\n",
    "from scipy.stats import loguniform\n",
    "from scipy.stats import uniform\n",
    "\n",
    "from sklearn.datasets import fetch_california_housing\n",
    "from sklearn.dummy import DummyRegressor\n",
    "from sklearn.linear_model import LinearRegression\n",
    "from sklearn.linear_model import Lasso\n",
    "from sklearn.linear_model import LassoCV\n",
    "from sklearn.linear_model import Ridge\n",
    "from sklearn.linear_model import RidgeCV\n",
    "from sklearn.linear_model import SGDRegressor\n",
    "\n",
    "from sklearn.metrics import mean_squared_error\n",
    "from sklearn.metrics import mean_absolute_error\n",
    "from sklearn.metrics import mean_absolute_percentage_error\n",
    "\n",
    "from sklearn.model_selection import cross_validate\n",
    "from sklearn.model_selection import cross_val_score\n",
    "from sklearn.model_selection import train_test_split\n",
    "from sklearn.model_selection import ShuffleSplit\n",
    "from sklearn.model_selection import validation_curve\n",
    "from sklearn.model_selection import GridSearchCV\n",
    "from sklearn.model_selection import RandomizedSearchCV\n",
    "\n",
    "from sklearn.preprocessing import PolynomialFeatures\n",
    "from sklearn.preprocessing import StandardScaler\n",
    "from sklearn.pipeline import Pipeline"
   ]
  },
  {
   "cell_type": "code",
   "execution_count": 3,
   "id": "622bb44c",
   "metadata": {
    "execution": {
     "iopub.execute_input": "2022-07-22T09:45:16.042403Z",
     "iopub.status.busy": "2022-07-22T09:45:16.041983Z",
     "iopub.status.idle": "2022-07-22T09:45:16.080372Z",
     "shell.execute_reply": "2022-07-22T09:45:16.079503Z"
    },
    "papermill": {
     "duration": 0.06429,
     "end_time": "2022-07-22T09:45:16.082642",
     "exception": false,
     "start_time": "2022-07-22T09:45:16.018352",
     "status": "completed"
    },
    "tags": []
   },
   "outputs": [],
   "source": [
    "# Common imports \n",
    "import numpy as np\n",
    "import os\n",
    "import io\n",
    "import warnings\n",
    "\n",
    "# sklearn specific imports\n",
    "from sklearn.datasets import fetch_openml\n",
    "\n",
    "from sklearn.preprocessing import MinMaxScaler\n",
    "\n",
    "from sklearn.pipeline import Pipeline\n",
    "\n",
    "from sklearn.dummy import DummyClassifier\n",
    "\n",
    "from sklearn.linear_model import Perceptron\n",
    "\n",
    "from sklearn.metrics import hinge_loss\n",
    "from sklearn.metrics import ConfusionMatrixDisplay, confusion_matrix, precision_recall_curve\n",
    "from sklearn.metrics import precision_score, recall_score, classification_report\n",
    "from sklearn.metrics import make_scorer\n",
    "\n",
    "from sklearn.model_selection import cross_validate, cross_val_predict, GridSearchCV\n",
    "\n",
    "from pprint import pprint\n",
    "from sklearn.decomposition import PCA\n",
    "\n",
    "# To plot pretty figures\n",
    "%matplotlib inline\n",
    "import matplotlib as mpl\n",
    "import matplotlib.pyplot as plt\n",
    "import seaborn as sns\n",
    "\n",
    "# global matplotlib settings\n",
    "mpl.rc('figure', figsize=(8,6))\n",
    "mpl.rc('axes', labelsize=14)\n",
    "mpl.rc('xtick', labelsize=12)\n",
    "mpl.rc('ytick', labelsize=12)\n",
    "\n",
    "# to make this notebook's "
   ]
  },
  {
   "cell_type": "markdown",
   "id": "cb22f480",
   "metadata": {
    "papermill": {
     "duration": 0.021238,
     "end_time": "2022-07-22T09:45:16.128097",
     "exception": false,
     "start_time": "2022-07-22T09:45:16.106859",
     "status": "completed"
    },
    "tags": []
   },
   "source": [
    "# Handwritten Digit Classification"
   ]
  },
  {
   "cell_type": "markdown",
   "id": "9da1217b",
   "metadata": {
    "papermill": {
     "duration": 0.022073,
     "end_time": "2022-07-22T09:45:16.172100",
     "exception": false,
     "start_time": "2022-07-22T09:45:16.150027",
     "status": "completed"
    },
    "tags": []
   },
   "source": [
    "## Data Loading and Splitting"
   ]
  },
  {
   "cell_type": "code",
   "execution_count": 4,
   "id": "338f3c22",
   "metadata": {
    "execution": {
     "iopub.execute_input": "2022-07-22T09:45:16.218958Z",
     "iopub.status.busy": "2022-07-22T09:45:16.218439Z",
     "iopub.status.idle": "2022-07-22T09:46:36.048772Z",
     "shell.execute_reply": "2022-07-22T09:46:36.047939Z"
    },
    "papermill": {
     "duration": 79.856114,
     "end_time": "2022-07-22T09:46:36.051246",
     "exception": false,
     "start_time": "2022-07-22T09:45:16.195132",
     "status": "completed"
    },
    "tags": []
   },
   "outputs": [],
   "source": [
    "X, y = fetch_openml('mnist_784', version=1, return_X_y=True)\n",
    "# it returns Data and label as a pandas dataframe"
   ]
  },
  {
   "cell_type": "markdown",
   "id": "2ad50ad4",
   "metadata": {
    "papermill": {
     "duration": 0.021369,
     "end_time": "2022-07-22T09:46:36.094242",
     "exception": false,
     "start_time": "2022-07-22T09:46:36.072873",
     "status": "completed"
    },
    "tags": []
   },
   "source": [
    "The data matrix X and the respective label vector y need to be converted to the numpy array by calling a `to_numpy` method."
   ]
  },
  {
   "cell_type": "code",
   "execution_count": 5,
   "id": "cd7ecb93",
   "metadata": {
    "execution": {
     "iopub.execute_input": "2022-07-22T09:46:36.139696Z",
     "iopub.status.busy": "2022-07-22T09:46:36.139119Z",
     "iopub.status.idle": "2022-07-22T09:46:36.148929Z",
     "shell.execute_reply": "2022-07-22T09:46:36.148294Z"
    },
    "papermill": {
     "duration": 0.035094,
     "end_time": "2022-07-22T09:46:36.150795",
     "exception": false,
     "start_time": "2022-07-22T09:46:36.115701",
     "status": "completed"
    },
    "tags": []
   },
   "outputs": [],
   "source": [
    "X = X.to_numpy()\n",
    "y = y.to_numpy()"
   ]
  },
  {
   "cell_type": "markdown",
   "id": "bca94cf6",
   "metadata": {
    "papermill": {
     "duration": 0.02098,
     "end_time": "2022-07-22T09:46:36.193107",
     "exception": false,
     "start_time": "2022-07-22T09:46:36.172127",
     "status": "completed"
    },
    "tags": []
   },
   "source": [
    "- Let's get some information like number of features, number of classes about the dataset.\n",
    "- Observe that the labels are of string data type not integers."
   ]
  },
  {
   "cell_type": "code",
   "execution_count": 6,
   "id": "035d15ee",
   "metadata": {
    "execution": {
     "iopub.execute_input": "2022-07-22T09:46:36.237151Z",
     "iopub.status.busy": "2022-07-22T09:46:36.236744Z",
     "iopub.status.idle": "2022-07-22T09:46:36.394109Z",
     "shell.execute_reply": "2022-07-22T09:46:36.393446Z"
    },
    "papermill": {
     "duration": 0.182695,
     "end_time": "2022-07-22T09:46:36.397040",
     "exception": false,
     "start_time": "2022-07-22T09:46:36.214345",
     "status": "completed"
    },
    "tags": []
   },
   "outputs": [
    {
     "name": "stdout",
     "output_type": "stream",
     "text": [
      "Number of samples: 70000, type:<class 'numpy.ndarray'>\n",
      "Number of features: 784\n",
      "Minimum: 0.0, Maximum:255.0\n",
      "Number of classes: 10, type:object\n",
      "Labels: ['0' '1' '2' '3' '4' '5' '6' '7' '8' '9']\n"
     ]
    }
   ],
   "source": [
    "target_names = np.unique(y)\n",
    "print('Number of samples: {0}, type:{1}'.format(X.shape[0], type(X)))\n",
    "print('Number of features: {0}'.format(X.shape[1]))\n",
    "print('Minimum: {0}, Maximum:{1}'.format(np.min(X), np.max(X)))\n",
    "print('Number of classes: {0}, type:{1}'.format(len(target_names), y.dtype))\n",
    "print('Labels: {0}'.format(target_names))"
   ]
  },
  {
   "cell_type": "markdown",
   "id": "513e8fe9",
   "metadata": {
    "papermill": {
     "duration": 0.020876,
     "end_time": "2022-07-22T09:46:36.439560",
     "exception": false,
     "start_time": "2022-07-22T09:46:36.418684",
     "status": "completed"
    },
    "tags": []
   },
   "source": [
    "- The MNIST dataset is clean and the range of values that each feature can take is also known. Therefore, the samples in the dataset may not require many data preprocessing techniques.\n",
    "- However, it is often to scale the range of features between 0 to 1.\n",
    "- So, we can either use `MinMaxScaler` or `MaxAbsScaler`. They don't make any differences as the image pixels can takes only positive values from 0 to 255."
   ]
  },
  {
   "cell_type": "code",
   "execution_count": 7,
   "id": "9d10f1cc",
   "metadata": {
    "execution": {
     "iopub.execute_input": "2022-07-22T09:46:36.484048Z",
     "iopub.status.busy": "2022-07-22T09:46:36.483429Z",
     "iopub.status.idle": "2022-07-22T09:46:37.093342Z",
     "shell.execute_reply": "2022-07-22T09:46:37.092630Z"
    },
    "papermill": {
     "duration": 0.634782,
     "end_time": "2022-07-22T09:46:37.095532",
     "exception": false,
     "start_time": "2022-07-22T09:46:36.460750",
     "status": "completed"
    },
    "tags": []
   },
   "outputs": [
    {
     "name": "stdout",
     "output_type": "stream",
     "text": [
      "Minimum:0.0, Maximum:1.0\n"
     ]
    }
   ],
   "source": [
    "X = MinMaxScaler().fit_transform(X)\n",
    "print(\"Minimum:{0}, Maximum:{1}\".format(np.min(X), np.max(X)))"
   ]
  },
  {
   "cell_type": "markdown",
   "id": "c1bae5af",
   "metadata": {
    "papermill": {
     "duration": 0.021137,
     "end_time": "2022-07-22T09:46:37.138338",
     "exception": false,
     "start_time": "2022-07-22T09:46:37.117201",
     "status": "completed"
    },
    "tags": []
   },
   "source": [
    "## Data Visualization"
   ]
  },
  {
   "cell_type": "markdown",
   "id": "b6497ab1",
   "metadata": {
    "papermill": {
     "duration": 0.021002,
     "end_time": "2022-07-22T09:46:37.180784",
     "exception": false,
     "start_time": "2022-07-22T09:46:37.159782",
     "status": "completed"
    },
    "tags": []
   },
   "source": [
    "the images are stacked as a row vector of size 1 X 784 and therefore must be reshaped to the matrix of size 28 X 28 to display them properly."
   ]
  },
  {
   "cell_type": "code",
   "execution_count": 8,
   "id": "1cb55997",
   "metadata": {
    "execution": {
     "iopub.execute_input": "2022-07-22T09:46:37.224994Z",
     "iopub.status.busy": "2022-07-22T09:46:37.224592Z",
     "iopub.status.idle": "2022-07-22T09:46:37.584820Z",
     "shell.execute_reply": "2022-07-22T09:46:37.583889Z"
    },
    "papermill": {
     "duration": 0.384898,
     "end_time": "2022-07-22T09:46:37.586939",
     "exception": false,
     "start_time": "2022-07-22T09:46:37.202041",
     "status": "completed"
    },
    "tags": []
   },
   "outputs": [
    {
     "name": "stderr",
     "output_type": "stream",
     "text": [
      "/opt/conda/lib/python3.7/site-packages/ipykernel_launcher.py:2: DeprecationWarning: `np.int` is a deprecated alias for the builtin `int`. To silence this warning, use `int` by itself. Doing this will not modify any behavior and is safe. When replacing `np.int`, you may wish to use e.g. `np.int64` or `np.int32` to specify the precision. If you wish to review your current use, check the release note link for additional information.\n",
      "Deprecated in NumPy 1.20; for more details and guidance: https://numpy.org/devdocs/release/1.20.0-notes.html#deprecations\n",
      "  \n"
     ]
    },
    {
     "data": {
      "image/png": "[encoded data removed]",
      "text/plain": [
       "<Figure size 576x432 with 9 Axes>"
      ]
     },
     "metadata": {
      "needs_background": "light"
     },
     "output_type": "display_data"
    }
   ],
   "source": [
    "num_images = 9 # Choose a square number\n",
    "factor = np.int(np.sqrt(num_images))\n",
    "fig, ax = plt.subplots(nrows=factor, ncols=factor, figsize=(8, 6))\n",
    "idx_offset = 0 # take \"num_images\" starting from the index \"idx_offset\"\n",
    "for i in range(factor):\n",
    "    index = idx_offset+i*(factor)\n",
    "    for j in range(factor):\n",
    "        ax[i, j].imshow(X[index+j].reshape(28, 28), cmap='gray')\n",
    "        ax[i, j].set_title('Label:{0}'.format(str(y[index+j])))\n",
    "        ax[i, j].set_axis_off()"
   ]
  },
  {
   "cell_type": "markdown",
   "id": "2f7ef04c",
   "metadata": {
    "papermill": {
     "duration": 0.021647,
     "end_time": "2022-07-22T09:46:37.630297",
     "exception": false,
     "start_time": "2022-07-22T09:46:37.608650",
     "status": "completed"
    },
    "tags": []
   },
   "source": [
    "These matrices are also close to sparse (that is, there are lots of 0(black pixels) in the matrix than non-zero pixels)."
   ]
  },
  {
   "cell_type": "markdown",
   "id": "71bf4544",
   "metadata": {
    "papermill": {
     "duration": 0.021586,
     "end_time": "2022-07-22T09:46:37.673618",
     "exception": false,
     "start_time": "2022-07-22T09:46:37.652032",
     "status": "completed"
    },
    "tags": []
   },
   "source": [
    "## Data Splitting"
   ]
  },
  {
   "cell_type": "markdown",
   "id": "1a69f9f7",
   "metadata": {
    "papermill": {
     "duration": 0.021839,
     "end_time": "2022-07-22T09:46:37.717951",
     "exception": false,
     "start_time": "2022-07-22T09:46:37.696112",
     "status": "completed"
    },
    "tags": []
   },
   "source": [
    "- Since the samples in the dataset are already shuffled, we need not to shuffle ti again. Therefore using `train_test_split`() may be skipped."
   ]
  },
  {
   "cell_type": "code",
   "execution_count": 9,
   "id": "edf5a0e5",
   "metadata": {
    "execution": {
     "iopub.execute_input": "2022-07-22T09:46:37.764318Z",
     "iopub.status.busy": "2022-07-22T09:46:37.763526Z",
     "iopub.status.idle": "2022-07-22T09:46:37.768192Z",
     "shell.execute_reply": "2022-07-22T09:46:37.767427Z"
    },
    "papermill": {
     "duration": 0.03008,
     "end_time": "2022-07-22T09:46:37.770144",
     "exception": false,
     "start_time": "2022-07-22T09:46:37.740064",
     "status": "completed"
    },
    "tags": []
   },
   "outputs": [],
   "source": [
    "X_train, X_test, y_train, y_test = X[:60000], X[60000:], y[:60000], y[60000:]"
   ]
  },
  {
   "cell_type": "markdown",
   "id": "b47a747b",
   "metadata": {
    "papermill": {
     "duration": 0.021457,
     "end_time": "2022-07-22T09:46:37.813519",
     "exception": false,
     "start_time": "2022-07-22T09:46:37.792062",
     "status": "completed"
    },
    "tags": []
   },
   "source": [
    "Before proceeding further, we need to check whether the dataset is balanced or imbalanced. We can do it bpy plotting the distribution of samples in each classes."
   ]
  },
  {
   "cell_type": "code",
   "execution_count": 10,
   "id": "b43c732d",
   "metadata": {
    "execution": {
     "iopub.execute_input": "2022-07-22T09:46:37.859901Z",
     "iopub.status.busy": "2022-07-22T09:46:37.859298Z",
     "iopub.status.idle": "2022-07-22T09:46:38.110759Z",
     "shell.execute_reply": "2022-07-22T09:46:38.109803Z"
    },
    "papermill": {
     "duration": 0.276693,
     "end_time": "2022-07-22T09:46:38.112956",
     "exception": false,
     "start_time": "2022-07-22T09:46:37.836263",
     "status": "completed"
    },
    "tags": []
   },
   "outputs": [
    {
     "data": {
      "image/png": "[encoded data removed]",
      "text/plain": [
       "<Figure size 720x288 with 1 Axes>"
      ]
     },
     "metadata": {
      "needs_background": "light"
     },
     "output_type": "display_data"
    }
   ],
   "source": [
    "plt.figure(figsize=(10,4))\n",
    "sns.histplot(data=np.int8(y_train), binwidth=0.45, bins=11)\n",
    "plt.xticks(ticks=[0,1,2, 3, 4, 5, 6, 7, 8, 9], labels=[0, 1, 2, 3, 4, 5, 6, 7, 8, 9])\n",
    "plt.xlabel('Class')\n",
    "plt.title('Distribution of Samples')\n",
    "plt.show()"
   ]
  },
  {
   "cell_type": "markdown",
   "id": "e57de398",
   "metadata": {
    "papermill": {
     "duration": 0.022,
     "end_time": "2022-07-22T09:46:38.157388",
     "exception": false,
     "start_time": "2022-07-22T09:46:38.135388",
     "status": "completed"
    },
    "tags": []
   },
   "source": [
    "## Binary Classification: 0-Detector"
   ]
  },
  {
   "cell_type": "markdown",
   "id": "f52d0a99",
   "metadata": {
    "papermill": {
     "duration": 0.021846,
     "end_time": "2022-07-22T09:46:38.201575",
     "exception": false,
     "start_time": "2022-07-22T09:46:38.179729",
     "status": "completed"
    },
    "tags": []
   },
   "source": [
    "### Modifying Labels"
   ]
  },
  {
   "cell_type": "markdown",
   "id": "0707c1b8",
   "metadata": {
    "papermill": {
     "duration": 0.022686,
     "end_time": "2022-07-22T09:46:38.246365",
     "exception": false,
     "start_time": "2022-07-22T09:46:38.223679",
     "status": "completed"
    },
    "tags": []
   },
   "source": []
  },
  {
   "cell_type": "markdown",
   "id": "f55f4892",
   "metadata": {
    "papermill": {
     "duration": 0.021762,
     "end_time": "2022-07-22T09:46:38.290206",
     "exception": false,
     "start_time": "2022-07-22T09:46:38.268444",
     "status": "completed"
    },
    "tags": []
   },
   "source": [
    "- Let us start with a simple classification problem, that is, binary classification.\n",
    "- Since the original label vector contains 10 classes, we need to modify the number of classes to 2.\n",
    "- Therefore, the label 0 will be changed to 1 and all other labels(1-9) will be changed to -1.\n",
    "- We name the label vectors as `y_train_0` and `y_test_0`."
   ]
  },
  {
   "cell_type": "code",
   "execution_count": 11,
   "id": "be2f206f",
   "metadata": {
    "execution": {
     "iopub.execute_input": "2022-07-22T09:46:38.336879Z",
     "iopub.status.busy": "2022-07-22T09:46:38.336093Z",
     "iopub.status.idle": "2022-07-22T09:46:38.345925Z",
     "shell.execute_reply": "2022-07-22T09:46:38.345296Z"
    },
    "papermill": {
     "duration": 0.035456,
     "end_time": "2022-07-22T09:46:38.347830",
     "exception": false,
     "start_time": "2022-07-22T09:46:38.312374",
     "status": "completed"
    },
    "tags": []
   },
   "outputs": [],
   "source": [
    "# Initialize new variable names with all -1\n",
    "y_train_0 = -1*np.ones((len(y_train)))\n",
    "y_test_0 = -1*np.ones((len(y_test)))\n",
    "\n",
    "# find indices of digit 0 image\n",
    "indx_0 = np.where(y_train == '0') # remember original labels are of type str not int\n",
    "# use those indices to modify y_train_0 & y_test_0\n",
    "y_train_0[indx_0] =1\n",
    "indx_0 = np.where(y_test=='0')\n",
    "y_test_0[indx_0] = 1"
   ]
  },
  {
   "cell_type": "markdown",
   "id": "87742065",
   "metadata": {
    "papermill": {
     "duration": 0.022511,
     "end_time": "2022-07-22T09:46:38.392779",
     "exception": false,
     "start_time": "2022-07-22T09:46:38.370268",
     "status": "completed"
    },
    "tags": []
   },
   "source": [
    "### Sanity Check\n",
    "- Let's display the elements of y_train and y_train_0 to verify whether the labels are properly modified. Of course, we can't verify all the 60000 labels by inspection."
   ]
  },
  {
   "cell_type": "code",
   "execution_count": 12,
   "id": "7ec6024d",
   "metadata": {
    "execution": {
     "iopub.execute_input": "2022-07-22T09:46:38.439756Z",
     "iopub.status.busy": "2022-07-22T09:46:38.439353Z",
     "iopub.status.idle": "2022-07-22T09:46:38.444459Z",
     "shell.execute_reply": "2022-07-22T09:46:38.443526Z"
    },
    "papermill": {
     "duration": 0.031158,
     "end_time": "2022-07-22T09:46:38.446607",
     "exception": false,
     "start_time": "2022-07-22T09:46:38.415449",
     "status": "completed"
    },
    "tags": []
   },
   "outputs": [
    {
     "name": "stdout",
     "output_type": "stream",
     "text": [
      "['5' '0' '4' '1' '9' '2' '1' '3' '1' '4']\n"
     ]
    }
   ],
   "source": [
    "print(y_train[:10]) # 10 class labels"
   ]
  },
  {
   "cell_type": "code",
   "execution_count": 13,
   "id": "1cd6ea87",
   "metadata": {
    "execution": {
     "iopub.execute_input": "2022-07-22T09:46:38.492741Z",
     "iopub.status.busy": "2022-07-22T09:46:38.492333Z",
     "iopub.status.idle": "2022-07-22T09:46:38.826428Z",
     "shell.execute_reply": "2022-07-22T09:46:38.825776Z"
    },
    "papermill": {
     "duration": 0.359221,
     "end_time": "2022-07-22T09:46:38.828207",
     "exception": false,
     "start_time": "2022-07-22T09:46:38.468986",
     "status": "completed"
    },
    "tags": []
   },
   "outputs": [
    {
     "name": "stderr",
     "output_type": "stream",
     "text": [
      "/opt/conda/lib/python3.7/site-packages/ipykernel_launcher.py:2: DeprecationWarning: `np.int` is a deprecated alias for the builtin `int`. To silence this warning, use `int` by itself. Doing this will not modify any behavior and is safe. When replacing `np.int`, you may wish to use e.g. `np.int64` or `np.int32` to specify the precision. If you wish to review your current use, check the release note link for additional information.\n",
      "Deprecated in NumPy 1.20; for more details and guidance: https://numpy.org/devdocs/release/1.20.0-notes.html#deprecations\n",
      "  \n"
     ]
    },
    {
     "data": {
      "image/png": "[encoded data removed]",
      "text/plain": [
       "<Figure size 576x432 with 9 Axes>"
      ]
     },
     "metadata": {
      "needs_background": "light"
     },
     "output_type": "display_data"
    }
   ],
   "source": [
    "num_images = 9 # Choose a square number\n",
    "factor = np.int(np.sqrt(num_images))\n",
    "fig, ax = plt.subplots(nrows=factor, ncols=factor, figsize=(8, 6))\n",
    "idx_offset = 0 # take \"num_images\" starting from the index \"idx_offset\"\n",
    "for i in range(factor):\n",
    "    index = idx_offset+i*(factor)\n",
    "    for j in range(factor):\n",
    "        ax[i, j].imshow(X[index+j].reshape(28, 28), cmap='gray')\n",
    "        ax[i, j].set_title('Label:{0}'.format(str(y_train_0[index+j])))\n",
    "        ax[i, j].set_axis_off()"
   ]
  },
  {
   "cell_type": "markdown",
   "id": "02b0fcd4",
   "metadata": {
    "papermill": {
     "duration": 0.022967,
     "end_time": "2022-07-22T09:46:38.874185",
     "exception": false,
     "start_time": "2022-07-22T09:46:38.851218",
     "status": "completed"
    },
    "tags": []
   },
   "source": [
    "## Baseline Models"
   ]
  },
  {
   "cell_type": "markdown",
   "id": "cc448f5a",
   "metadata": {
    "papermill": {
     "duration": 0.022727,
     "end_time": "2022-07-22T09:46:38.919783",
     "exception": false,
     "start_time": "2022-07-22T09:46:38.897056",
     "status": "completed"
    },
    "tags": []
   },
   "source": [
    "Enough about data!\n",
    "\n",
    "Let us quickly. construct a baseline model with the following rule (you are free to choose different rule)\n",
    " 1. Cont number of samples per class\n",
    " 2. The model **always outputs** the class which has highest number of samples.\n",
    " 3. Then calculate the accuracy of the baseline model."
   ]
  },
  {
   "cell_type": "code",
   "execution_count": 14,
   "id": "a8de6012",
   "metadata": {
    "execution": {
     "iopub.execute_input": "2022-07-22T09:46:38.967831Z",
     "iopub.status.busy": "2022-07-22T09:46:38.966768Z",
     "iopub.status.idle": "2022-07-22T09:46:38.973521Z",
     "shell.execute_reply": "2022-07-22T09:46:38.972294Z"
    },
    "papermill": {
     "duration": 0.033108,
     "end_time": "2022-07-22T09:46:38.975777",
     "exception": false,
     "start_time": "2022-07-22T09:46:38.942669",
     "status": "completed"
    },
    "tags": []
   },
   "outputs": [
    {
     "name": "stdout",
     "output_type": "stream",
     "text": [
      "5923 54077\n"
     ]
    }
   ],
   "source": [
    "num_pos = len(np.where(y_train_0==1)[0])\n",
    "num_neg = len(np.where(y_train_0==-1)[0])\n",
    "print(num_pos, num_neg)"
   ]
  },
  {
   "cell_type": "code",
   "execution_count": 15,
   "id": "185d4527",
   "metadata": {
    "execution": {
     "iopub.execute_input": "2022-07-22T09:46:39.025329Z",
     "iopub.status.busy": "2022-07-22T09:46:39.024458Z",
     "iopub.status.idle": "2022-07-22T09:46:39.028432Z",
     "shell.execute_reply": "2022-07-22T09:46:39.027813Z"
    },
    "papermill": {
     "duration": 0.030744,
     "end_time": "2022-07-22T09:46:39.030154",
     "exception": false,
     "start_time": "2022-07-22T09:46:38.999410",
     "status": "completed"
    },
    "tags": []
   },
   "outputs": [],
   "source": [
    "base_clf = DummyClassifier(strategy='most_frequent') # there are other strategies\n"
   ]
  },
  {
   "cell_type": "code",
   "execution_count": 16,
   "id": "41da88fa",
   "metadata": {
    "execution": {
     "iopub.execute_input": "2022-07-22T09:46:39.077853Z",
     "iopub.status.busy": "2022-07-22T09:46:39.077206Z",
     "iopub.status.idle": "2022-07-22T09:46:39.094390Z",
     "shell.execute_reply": "2022-07-22T09:46:39.093290Z"
    },
    "papermill": {
     "duration": 0.043537,
     "end_time": "2022-07-22T09:46:39.096567",
     "exception": false,
     "start_time": "2022-07-22T09:46:39.053030",
     "status": "completed"
    },
    "tags": []
   },
   "outputs": [
    {
     "name": "stdout",
     "output_type": "stream",
     "text": [
      "Training accuracy: 0.90\n",
      "Testing accuracy: 0.90\n"
     ]
    }
   ],
   "source": [
    "base_clf.fit(X_train, y_train_0)\n",
    "print('Training accuracy: {0:.2f}'.format(base_clf.score(X_train, y_train_0)))\n",
    "print('Testing accuracy: {0:.2f}'.format(base_clf.score(X_test, y_test_0)))"
   ]
  },
  {
   "cell_type": "markdown",
   "id": "4f57a42b",
   "metadata": {
    "papermill": {
     "duration": 0.022864,
     "end_time": "2022-07-22T09:46:39.142259",
     "exception": false,
     "start_time": "2022-07-22T09:46:39.119395",
     "status": "completed"
    },
    "tags": []
   },
   "source": [
    "- Now the reason is obvious. The model would have predicted 54077 sample correctly just by outputing -1 for all the input samples. Therefore the accuracy will be 54000/60000 = 90.12%\n",
    "- This is the reason why \"accuracy\" alone is not always a good measure!"
   ]
  },
  {
   "cell_type": "markdown",
   "id": "27c0cc3c",
   "metadata": {
    "papermill": {
     "duration": 0.022858,
     "end_time": "2022-07-22T09:46:39.188024",
     "exception": false,
     "start_time": "2022-07-22T09:46:39.165166",
     "status": "completed"
    },
    "tags": []
   },
   "source": [
    "## Perceptron model"
   ]
  },
  {
   "cell_type": "markdown",
   "id": "cb4b2336",
   "metadata": {
    "papermill": {
     "duration": 0.022617,
     "end_time": "2022-07-22T09:46:39.233618",
     "exception": false,
     "start_time": "2022-07-22T09:46:39.211001",
     "status": "completed"
    },
    "tags": []
   },
   "source": [
    "1. Training data: (feature, label) or (X, y), where label y is a discrete number from a finite set. Features in this case are pixel value of an image.\n",
    "\n",
    "> Linearly separable examples lead to convergence of the alforithm ith zero training loss, else it oscillates."
   ]
  },
  {
   "cell_type": "markdown",
   "id": "d01411d5",
   "metadata": {
    "papermill": {
     "duration": 0.022516,
     "end_time": "2022-07-22T09:46:39.279089",
     "exception": false,
     "start_time": "2022-07-22T09:46:39.256573",
     "status": "completed"
    },
    "tags": []
   },
   "source": [
    "### Parameters of Perceptron class"
   ]
  },
  {
   "cell_type": "markdown",
   "id": "688c034f",
   "metadata": {
    "papermill": {
     "duration": 0.022426,
     "end_time": "2022-07-22T09:46:39.324399",
     "exception": false,
     "start_time": "2022-07-22T09:46:39.301973",
     "status": "completed"
    },
    "tags": []
   },
   "source": [
    "`class sklearn.linear_model.Perceptron(*, penalty=None, alpha=0.0001, l1_ratio=0.15, fit_intercept=True, max_iter=1000, tol=0.001, shuffle=True, verbose=0, eta0=1.0, n_jobs=None, random_state=0, early_stopping=False, validation_fraction=0.1, n_iter_no_change=5, class_weight=None, warm_start=False`"
   ]
  },
  {
   "cell_type": "markdown",
   "id": "ce173a72",
   "metadata": {
    "papermill": {
     "duration": 0.022431,
     "end_time": "2022-07-22T09:46:39.369468",
     "exception": false,
     "start_time": "2022-07-22T09:46:39.347037",
     "status": "completed"
    },
    "tags": []
   },
   "source": [
    "- Need not to pay attention to all the arguments and their default values.\n",
    "- Internally, the API uses the perceptron loss(i.e. it calls Hinge(0,0), where 0.0 is a threshold) and uses SGD to update the weights.\n",
    "- The other way of deploying perceptron is to use the general `linear_model.SGDClassifier` with `loss='perceptron'`\n",
    "- The above loss is termed as hard Hinge-loss(as scores pass through the sign function) and hence we can't use SGD.\n",
    "- Whereas, Sklear implements hinge-loss with the following definition: max(0, -w$x^i$$y^i$) and by default calls sgd to minimize the loss."
   ]
  },
  {
   "cell_type": "markdown",
   "id": "f01a86c1",
   "metadata": {
    "papermill": {
     "duration": 0.022309,
     "end_time": "2022-07-22T09:46:39.414578",
     "exception": false,
     "start_time": "2022-07-22T09:46:39.392269",
     "status": "completed"
    },
    "tags": []
   },
   "source": [
    "### Instantiation\n",
    " - Create an instance of binary classifier(bin_clf) and call the `fit` method to train the model."
   ]
  },
  {
   "cell_type": "code",
   "execution_count": 17,
   "id": "086f3cf5",
   "metadata": {
    "execution": {
     "iopub.execute_input": "2022-07-22T09:46:39.462146Z",
     "iopub.status.busy": "2022-07-22T09:46:39.461125Z",
     "iopub.status.idle": "2022-07-22T09:46:39.465438Z",
     "shell.execute_reply": "2022-07-22T09:46:39.464838Z"
    },
    "papermill": {
     "duration": 0.029857,
     "end_time": "2022-07-22T09:46:39.467171",
     "exception": false,
     "start_time": "2022-07-22T09:46:39.437314",
     "status": "completed"
    },
    "tags": []
   },
   "outputs": [],
   "source": [
    "bin_clf = Perceptron(max_iter=1000, random_state=1729)"
   ]
  },
  {
   "cell_type": "markdown",
   "id": "84798a43",
   "metadata": {
    "papermill": {
     "duration": 0.022426,
     "end_time": "2022-07-22T09:46:39.512533",
     "exception": false,
     "start_time": "2022-07-22T09:46:39.490107",
     "status": "completed"
    },
    "tags": []
   },
   "source": [
    "### Training and Prediction\n",
    "\n",
    "- Call the `fit` method to train the model.\n",
    "- It would be nice to plot the iteration vs loss curve for the training. However, Sklearn does not have a direct function to plot it.\n",
    "- Neverthless, we can workaround this using `partial_fit` method (Which will be demonstrated at the end of the lecture.)"
   ]
  },
  {
   "cell_type": "code",
   "execution_count": 18,
   "id": "38660e2a",
   "metadata": {
    "execution": {
     "iopub.execute_input": "2022-07-22T09:46:39.559789Z",
     "iopub.status.busy": "2022-07-22T09:46:39.558768Z",
     "iopub.status.idle": "2022-07-22T09:46:41.495923Z",
     "shell.execute_reply": "2022-07-22T09:46:41.494788Z"
    },
    "papermill": {
     "duration": 1.963432,
     "end_time": "2022-07-22T09:46:41.498597",
     "exception": false,
     "start_time": "2022-07-22T09:46:39.535165",
     "status": "completed"
    },
    "tags": []
   },
   "outputs": [
    {
     "name": "stdout",
     "output_type": "stream",
     "text": [
      "Dimension of weights w: (1, 784)\n",
      "Bias :[-108.]\n",
      "The loss function: <sklearn.linear_model._sgd_fast.Hinge object at 0x7f2a069dcc30>\n"
     ]
    }
   ],
   "source": [
    "bin_clf.fit(X_train, y_train_0)\n",
    "print('Dimension of weights w: {0}'.format(bin_clf.coef_.shape))\n",
    "print('Bias :{0}'.format(bin_clf.intercept_))\n",
    "print('The loss function: {0}'.format(bin_clf.loss_function_))"
   ]
  },
  {
   "cell_type": "markdown",
   "id": "3f5e9a3d",
   "metadata": {
    "papermill": {
     "duration": 0.028555,
     "end_time": "2022-07-22T09:46:41.550436",
     "exception": false,
     "start_time": "2022-07-22T09:46:41.521881",
     "status": "completed"
    },
    "tags": []
   },
   "source": [
    "Let's make predictions on the train set and then calculate the training accuracy."
   ]
  },
  {
   "cell_type": "code",
   "execution_count": 19,
   "id": "ec27c23c",
   "metadata": {
    "execution": {
     "iopub.execute_input": "2022-07-22T09:46:41.598176Z",
     "iopub.status.busy": "2022-07-22T09:46:41.597790Z",
     "iopub.status.idle": "2022-07-22T09:46:41.749007Z",
     "shell.execute_reply": "2022-07-22T09:46:41.747874Z"
    },
    "papermill": {
     "duration": 0.179102,
     "end_time": "2022-07-22T09:46:41.752823",
     "exception": false,
     "start_time": "2022-07-22T09:46:41.573721",
     "status": "completed"
    },
    "tags": []
   },
   "outputs": [
    {
     "name": "stdout",
     "output_type": "stream",
     "text": [
      "Training Accuracy:  0.99095\n"
     ]
    }
   ],
   "source": [
    "y_hat_train_0 = bin_clf.predict(X_train)\n",
    "print('Training Accuracy: ', bin_clf.score(X_train, y_train_0))"
   ]
  },
  {
   "cell_type": "markdown",
   "id": "f5e56662",
   "metadata": {
    "papermill": {
     "duration": 0.042081,
     "end_time": "2022-07-22T09:46:41.837875",
     "exception": false,
     "start_time": "2022-07-22T09:46:41.795794",
     "status": "completed"
    },
    "tags": []
   },
   "source": [
    "let's make the predictions on the test set and then calculate the testing accuracy."
   ]
  },
  {
   "cell_type": "code",
   "execution_count": 20,
   "id": "8b117aca",
   "metadata": {
    "execution": {
     "iopub.execute_input": "2022-07-22T09:46:41.893376Z",
     "iopub.status.busy": "2022-07-22T09:46:41.892941Z",
     "iopub.status.idle": "2022-07-22T09:46:41.914471Z",
     "shell.execute_reply": "2022-07-22T09:46:41.913426Z"
    },
    "papermill": {
     "duration": 0.049366,
     "end_time": "2022-07-22T09:46:41.918008",
     "exception": false,
     "start_time": "2022-07-22T09:46:41.868642",
     "status": "completed"
    },
    "tags": []
   },
   "outputs": [
    {
     "name": "stdout",
     "output_type": "stream",
     "text": [
      "Test accuracy:  0.989\n"
     ]
    }
   ],
   "source": [
    "print('Test accuracy: ', bin_clf.score(X_test, y_test_0))"
   ]
  },
  {
   "cell_type": "markdown",
   "id": "fa1af154",
   "metadata": {
    "papermill": {
     "duration": 0.04301,
     "end_time": "2022-07-22T09:46:42.004525",
     "exception": false,
     "start_time": "2022-07-22T09:46:41.961515",
     "status": "completed"
    },
    "tags": []
   },
   "source": [
    "### Displaying predictions"
   ]
  },
  {
   "cell_type": "markdown",
   "id": "0478134c",
   "metadata": {
    "papermill": {
     "duration": 0.022843,
     "end_time": "2022-07-22T09:46:42.062247",
     "exception": false,
     "start_time": "2022-07-22T09:46:42.039404",
     "status": "completed"
    },
    "tags": []
   },
   "source": [
    "- Take few images from the testset at random and display it with the corresponding predictions.\n",
    "- plot a few images in a single figure window along with their respective predictions."
   ]
  },
  {
   "cell_type": "code",
   "execution_count": 21,
   "id": "a85a08ea",
   "metadata": {
    "execution": {
     "iopub.execute_input": "2022-07-22T09:46:42.109805Z",
     "iopub.status.busy": "2022-07-22T09:46:42.109409Z",
     "iopub.status.idle": "2022-07-22T09:46:42.684236Z",
     "shell.execute_reply": "2022-07-22T09:46:42.683203Z"
    },
    "papermill": {
     "duration": 0.60187,
     "end_time": "2022-07-22T09:46:42.687153",
     "exception": false,
     "start_time": "2022-07-22T09:46:42.085283",
     "status": "completed"
    },
    "tags": []
   },
   "outputs": [
    {
     "name": "stderr",
     "output_type": "stream",
     "text": [
      "/opt/conda/lib/python3.7/site-packages/ipykernel_launcher.py:3: DeprecationWarning: `np.int` is a deprecated alias for the builtin `int`. To silence this warning, use `int` by itself. Doing this will not modify any behavior and is safe. When replacing `np.int`, you may wish to use e.g. `np.int64` or `np.int32` to specify the precision. If you wish to review your current use, check the release note link for additional information.\n",
      "Deprecated in NumPy 1.20; for more details and guidance: https://numpy.org/devdocs/release/1.20.0-notes.html#deprecations\n",
      "  This is separate from the ipykernel package so we can avoid doing imports until\n"
     ]
    },
    {
     "data": {
      "image/png": "[encoded data removed]",
      "text/plain": [
       "<Figure size 576x432 with 9 Axes>"
      ]
     },
     "metadata": {
      "needs_background": "light"
     },
     "output_type": "display_data"
    }
   ],
   "source": [
    "y_hat_test_0 = bin_clf.predict(X_test)\n",
    "num_images = 9 # Choose a square number\n",
    "factor = np.int(np.sqrt(num_images))\n",
    "fig, ax = plt.subplots(nrows=factor, ncols=factor, figsize=(8, 6))\n",
    "idx_offset = 0 # display \"num_inages\" starting from idx_offset\n",
    "for i in range(factor):\n",
    "    index = idx_offset+i*(factor)\n",
    "    for j in range(factor):\n",
    "        ax[i, j].imshow(X_test[index+j].reshape(28, 28), cmap='gray')\n",
    "        ax[i, j].set_title('Prediction:{0}'.format(str(y_hat_test_0[index+j])))\n",
    "        ax[i, j].set_axis_off()"
   ]
  },
  {
   "cell_type": "markdown",
   "id": "7aa30c3c",
   "metadata": {
    "papermill": {
     "duration": 0.026243,
     "end_time": "2022-07-22T09:46:42.744666",
     "exception": false,
     "start_time": "2022-07-22T09:46:42.718423",
     "status": "completed"
    },
    "tags": []
   },
   "source": [
    "- Display images of positive classes from testset along with their predictions."
   ]
  },
  {
   "cell_type": "code",
   "execution_count": 22,
   "id": "4e500e6f",
   "metadata": {
    "execution": {
     "iopub.execute_input": "2022-07-22T09:46:42.800103Z",
     "iopub.status.busy": "2022-07-22T09:46:42.799407Z",
     "iopub.status.idle": "2022-07-22T09:46:42.803466Z",
     "shell.execute_reply": "2022-07-22T09:46:42.802759Z"
    },
    "papermill": {
     "duration": 0.030768,
     "end_time": "2022-07-22T09:46:42.805376",
     "exception": false,
     "start_time": "2022-07-22T09:46:42.774608",
     "status": "completed"
    },
    "tags": []
   },
   "outputs": [],
   "source": [
    "indx_0 = np.where(y_test_0 == 1)"
   ]
  },
  {
   "cell_type": "code",
   "execution_count": 23,
   "id": "4c6f8b0d",
   "metadata": {
    "execution": {
     "iopub.execute_input": "2022-07-22T09:46:42.854233Z",
     "iopub.status.busy": "2022-07-22T09:46:42.853606Z",
     "iopub.status.idle": "2022-07-22T09:46:43.225676Z",
     "shell.execute_reply": "2022-07-22T09:46:43.224580Z"
    },
    "papermill": {
     "duration": 0.398726,
     "end_time": "2022-07-22T09:46:43.227669",
     "exception": false,
     "start_time": "2022-07-22T09:46:42.828943",
     "status": "completed"
    },
    "tags": []
   },
   "outputs": [
    {
     "name": "stderr",
     "output_type": "stream",
     "text": [
      "/opt/conda/lib/python3.7/site-packages/ipykernel_launcher.py:4: DeprecationWarning: `np.int` is a deprecated alias for the builtin `int`. To silence this warning, use `int` by itself. Doing this will not modify any behavior and is safe. When replacing `np.int`, you may wish to use e.g. `np.int64` or `np.int32` to specify the precision. If you wish to review your current use, check the release note link for additional information.\n",
      "Deprecated in NumPy 1.20; for more details and guidance: https://numpy.org/devdocs/release/1.20.0-notes.html#deprecations\n",
      "  after removing the cwd from sys.path.\n"
     ]
    },
    {
     "data": {
      "image/png": "[encoded data removed]",
      "text/plain": [
       "<Figure size 576x432 with 9 Axes>"
      ]
     },
     "metadata": {
      "needs_background": "light"
     },
     "output_type": "display_data"
    }
   ],
   "source": [
    "zeroImgs = X_test[indx_0[0]]\n",
    "zeroLabels = y_hat_test_0[indx_0[0]]\n",
    "num_images = 9 # choose a square number\n",
    "factor = np.int(np.sqrt(num_images))\n",
    "fig, ax = plt.subplots(nrows=factor, ncols=factor, figsize=(8, 6))\n",
    "idx_offset = 0 # display \"num_images\" starting from idx_offset\n",
    "for i in range(factor):\n",
    "    index = idx_offset+i*(factor)\n",
    "    for j in range(factor):\n",
    "        ax[i, j].imshow(zeroImgs[index+j].reshape(28,28),cmap='gray') \n",
    "        ax[i, j].set_title('Prediction:{0}'.format(str(zeroLabels[index+j])))\n",
    "        ax[i, j].set_axis_off()"
   ]
  },
  {
   "cell_type": "markdown",
   "id": "5831c735",
   "metadata": {
    "papermill": {
     "duration": 0.02384,
     "end_time": "2022-07-22T09:46:43.275551",
     "exception": false,
     "start_time": "2022-07-22T09:46:43.251711",
     "status": "completed"
    },
    "tags": []
   },
   "source": [
    "It seems that there are a significant number of images that are correctly classified. Let's see how many?\n"
   ]
  },
  {
   "cell_type": "code",
   "execution_count": 24,
   "id": "84b9e2cc",
   "metadata": {
    "execution": {
     "iopub.execute_input": "2022-07-22T09:46:43.325951Z",
     "iopub.status.busy": "2022-07-22T09:46:43.324871Z",
     "iopub.status.idle": "2022-07-22T09:46:43.331659Z",
     "shell.execute_reply": "2022-07-22T09:46:43.330569Z"
    },
    "papermill": {
     "duration": 0.033737,
     "end_time": "2022-07-22T09:46:43.333406",
     "exception": false,
     "start_time": "2022-07-22T09:46:43.299669",
     "status": "completed"
    },
    "tags": []
   },
   "outputs": [
    {
     "name": "stdout",
     "output_type": "stream",
     "text": [
      "0.9193877551020408\n"
     ]
    }
   ],
   "source": [
    "num_misclassified = np.count_nonzero(zeroLabels == -1)\n",
    "num_correctpred = len(zeroLabels) - num_misclassified\n",
    "accuracy = num_correctpred/len(zeroLabels)\n",
    "print(accuracy)"
   ]
  },
  {
   "cell_type": "markdown",
   "id": "a23d5ba8",
   "metadata": {
    "papermill": {
     "duration": 0.023631,
     "end_time": "2022-07-22T09:46:43.380882",
     "exception": false,
     "start_time": "2022-07-22T09:46:43.357251",
     "status": "completed"
    },
    "tags": []
   },
   "source": [
    "- This above score (guess the name of the metric) is less than the accuracy score of the model but it seems pretty descent!.\n",
    "\n"
   ]
  },
  {
   "cell_type": "markdown",
   "id": "d8d47734",
   "metadata": {
    "papermill": {
     "duration": 0.023509,
     "end_time": "2022-07-22T09:46:43.428258",
     "exception": false,
     "start_time": "2022-07-22T09:46:43.404749",
     "status": "completed"
    },
    "tags": []
   },
   "source": [
    "### Better Evaluation metrics\n",
    "- We now know that using the accuracy alone to measure the performance of the model is not suitable (especially for imbalanced datasets), so which are the more suitabel metrics then?"
   ]
  },
  {
   "cell_type": "markdown",
   "id": "3472793a",
   "metadata": {
    "papermill": {
     "duration": 0.023446,
     "end_time": "2022-07-22T09:46:43.475641",
     "exception": false,
     "start_time": "2022-07-22T09:46:43.452195",
     "status": "completed"
    },
    "tags": []
   },
   "source": [
    "#### Confusion Matrix"
   ]
  },
  {
   "cell_type": "code",
   "execution_count": 25,
   "id": "21db3dc6",
   "metadata": {
    "execution": {
     "iopub.execute_input": "2022-07-22T09:46:43.524953Z",
     "iopub.status.busy": "2022-07-22T09:46:43.524274Z",
     "iopub.status.idle": "2022-07-22T09:46:43.925045Z",
     "shell.execute_reply": "2022-07-22T09:46:43.924041Z"
    },
    "papermill": {
     "duration": 0.427826,
     "end_time": "2022-07-22T09:46:43.927201",
     "exception": false,
     "start_time": "2022-07-22T09:46:43.499375",
     "status": "completed"
    },
    "tags": []
   },
   "outputs": [
    {
     "data": {
      "image/png": "[encoded data removed]",
      "text/plain": [
       "<Figure size 576x432 with 2 Axes>"
      ]
     },
     "metadata": {
      "needs_background": "light"
     },
     "output_type": "display_data"
    }
   ],
   "source": [
    "y_hat_train_0 = bin_clf.predict(X_train)\n",
    "cm_display = ConfusionMatrixDisplay.from_predictions(y_train_0, y_hat_train_0, values_format='.5g')\n",
    "plt.show()"
   ]
  },
  {
   "cell_type": "markdown",
   "id": "904e6a7a",
   "metadata": {
    "papermill": {
     "duration": 0.023738,
     "end_time": "2022-07-22T09:46:43.975238",
     "exception": false,
     "start_time": "2022-07-22T09:46:43.951500",
     "status": "completed"
    },
    "tags": []
   },
   "source": [
    "- Pay attention to the number of FPs and FNs. Suppose for some reasons, we want the classifier to avoid FPs to a good extent irrespective of FNs, how can we achieve it?.\n",
    "- To answer it, let's compute the other metrics which take FPs and FNs into account.\n"
   ]
  },
  {
   "cell_type": "markdown",
   "id": "ebc504a5",
   "metadata": {
    "papermill": {
     "duration": 0.023934,
     "end_time": "2022-07-22T09:46:44.023398",
     "exception": false,
     "start_time": "2022-07-22T09:46:43.999464",
     "status": "completed"
    },
    "tags": []
   },
   "source": [
    "#### Precision and Recall\n",
    "- We can use the function `classification_report` to compute these parameters. However, for the time being let's compute these parameters using the data from the confusion matrix manually."
   ]
  },
  {
   "cell_type": "code",
   "execution_count": 26,
   "id": "b705a7e3",
   "metadata": {
    "execution": {
     "iopub.execute_input": "2022-07-22T09:46:44.074642Z",
     "iopub.status.busy": "2022-07-22T09:46:44.074264Z",
     "iopub.status.idle": "2022-07-22T09:46:44.079203Z",
     "shell.execute_reply": "2022-07-22T09:46:44.078532Z"
    },
    "papermill": {
     "duration": 0.032,
     "end_time": "2022-07-22T09:46:44.080897",
     "exception": false,
     "start_time": "2022-07-22T09:46:44.048897",
     "status": "completed"
    },
    "tags": []
   },
   "outputs": [],
   "source": [
    "cf_matrix = cm_display.confusion_matrix\n",
    "tn = cf_matrix[0, 0]\n",
    "fn = cf_matrix[1, 0]\n",
    "fp = cf_matrix[0, 1]\n",
    "tp = cf_matrix[1,1]"
   ]
  },
  {
   "cell_type": "code",
   "execution_count": 27,
   "id": "59adf605",
   "metadata": {
    "execution": {
     "iopub.execute_input": "2022-07-22T09:46:44.130654Z",
     "iopub.status.busy": "2022-07-22T09:46:44.130099Z",
     "iopub.status.idle": "2022-07-22T09:46:44.136064Z",
     "shell.execute_reply": "2022-07-22T09:46:44.135273Z"
    },
    "papermill": {
     "duration": 0.034198,
     "end_time": "2022-07-22T09:46:44.139385",
     "exception": false,
     "start_time": "2022-07-22T09:46:44.105187",
     "status": "completed"
    },
    "tags": []
   },
   "outputs": [
    {
     "name": "stdout",
     "output_type": "stream",
     "text": [
      "Precision:  0.9783072546230441\n",
      "Recall:  0.9289211548201924\n",
      "Accuracy:  0.99095\n"
     ]
    }
   ],
   "source": [
    "precision = tp/(tp + fp)\n",
    "print('Precision: ', precision)\n",
    "recall = tp/(tp + fn)\n",
    "print('Recall: ', recall)\n",
    "accuracy = (tp + tn)/(tp + fp+ fn + tn)\n",
    "print('Accuracy: ', accuracy)"
   ]
  },
  {
   "cell_type": "markdown",
   "id": "a16c4aa4",
   "metadata": {
    "papermill": {
     "duration": 0.024095,
     "end_time": "2022-07-22T09:46:44.188062",
     "exception": false,
     "start_time": "2022-07-22T09:46:44.163967",
     "status": "completed"
    },
    "tags": []
   },
   "source": [
    "- The precision is close to 0.98. Despite it , we still want to increase the precision. Let's come back to this later.\n",
    "- In general, we would like to know whether the model under consideration with the set hyper-parameters is a good one for a given problem."
   ]
  },
  {
   "cell_type": "markdown",
   "id": "5560e44a",
   "metadata": {
    "papermill": {
     "duration": 0.023978,
     "end_time": "2022-07-22T09:46:44.236247",
     "exception": false,
     "start_time": "2022-07-22T09:46:44.212269",
     "status": "completed"
    },
    "tags": []
   },
   "source": [
    "### Cross Validation\n",
    "- Well, to address this, we have to use cross-validation folds and measure the same metrics across these folds for different values of hyper-parameters.\n",
    "- However, perceptron does not have many hyperparameters other than the learning rate.\n",
    "- For the moment, we set the learning rate to its default value. Later, we use `GridSearchCV` to find the better value for the learning rate."
   ]
  },
  {
   "cell_type": "code",
   "execution_count": 28,
   "id": "385e7a15",
   "metadata": {
    "execution": {
     "iopub.execute_input": "2022-07-22T09:46:44.286453Z",
     "iopub.status.busy": "2022-07-22T09:46:44.286048Z",
     "iopub.status.idle": "2022-07-22T09:46:51.967258Z",
     "shell.execute_reply": "2022-07-22T09:46:51.963224Z"
    },
    "papermill": {
     "duration": 7.710553,
     "end_time": "2022-07-22T09:46:51.970955",
     "exception": false,
     "start_time": "2022-07-22T09:46:44.260402",
     "status": "completed"
    },
    "tags": []
   },
   "outputs": [
    {
     "name": "stdout",
     "output_type": "stream",
     "text": [
      "{'estimator': [Perceptron(max_iter=100, random_state=1729),\n",
      "               Perceptron(max_iter=100, random_state=1729),\n",
      "               Perceptron(max_iter=100, random_state=1729),\n",
      "               Perceptron(max_iter=100, random_state=1729),\n",
      "               Perceptron(max_iter=100, random_state=1729)],\n",
      " 'fit_time': array([0.98513937, 2.00713849, 1.43842673, 1.30856156, 1.672328  ]),\n",
      " 'score_time': array([0.04473472, 0.04310369, 0.04265881, 0.04843354, 0.04701853]),\n",
      " 'test_f1': array([0.95238095, 0.91666667, 0.94915254, 0.94117647, 0.95091763]),\n",
      " 'test_precision': array([0.95890411, 0.98828125, 0.95319149, 0.95090439, 0.96200345]),\n",
      " 'test_recall': array([0.94594595, 0.85472973, 0.94514768, 0.93164557, 0.94008439])}\n"
     ]
    }
   ],
   "source": [
    "bin_clf = Perceptron(max_iter=100, random_state=1729) # repeating for readability\n",
    "scores = cross_validate(bin_clf, X_train, y_train_0, cv=5,\n",
    "                       scoring=['precision', 'recall', 'f1'],\n",
    "                       return_estimator=True)\n",
    "pprint(scores)"
   ]
  },
  {
   "cell_type": "markdown",
   "id": "dd1de575",
   "metadata": {
    "papermill": {
     "duration": 0.030774,
     "end_time": "2022-07-22T09:46:52.049343",
     "exception": false,
     "start_time": "2022-07-22T09:46:52.018569",
     "status": "completed"
    },
    "tags": []
   },
   "source": [
    "- **Note:**\n",
    "    The perceptron estimator passed as an argument to the function `cross_validate` is internally cloned `num_fold` `(cv=5)` times and fitted independently on each fold.(you can check this by setting `warm_start=True`)\n",
    "\n",
    "- Compute the average and standard deviation of scores for all three metrics on (k=5) folds to measure the generalization!."
   ]
  },
  {
   "cell_type": "code",
   "execution_count": 29,
   "id": "feafeff3",
   "metadata": {
    "execution": {
     "iopub.execute_input": "2022-07-22T09:46:52.100978Z",
     "iopub.status.busy": "2022-07-22T09:46:52.100596Z",
     "iopub.status.idle": "2022-07-22T09:46:52.107747Z",
     "shell.execute_reply": "2022-07-22T09:46:52.106734Z"
    },
    "papermill": {
     "duration": 0.036676,
     "end_time": "2022-07-22T09:46:52.111163",
     "exception": false,
     "start_time": "2022-07-22T09:46:52.074487",
     "status": "completed"
    },
    "tags": []
   },
   "outputs": [
    {
     "name": "stdout",
     "output_type": "stream",
     "text": [
      "f1,         avg:0.94, std:0.013\n",
      "precision,  avg:0.96, std:0.013\n",
      "recall,     avg:0.92, std:0.035\n"
     ]
    }
   ],
   "source": [
    "print('f1,         avg:{0:.2f}, std:{1:.3f}'.format(scores['test_f1'].mean(), scores['test_f1'].std()))\n",
    "print('precision,  avg:{0:.2f}, std:{1:.3f}'.format(scores['test_precision'].mean(), scores['test_precision'].std()))\n",
    "print('recall,     avg:{0:.2f}, std:{1:.3f}'.format(scores['test_recall'].mean(), scores['test_recall'].std()))"
   ]
  },
  {
   "cell_type": "markdown",
   "id": "74fbb5d4",
   "metadata": {
    "papermill": {
     "duration": 0.024459,
     "end_time": "2022-07-22T09:46:52.161136",
     "exception": false,
     "start_time": "2022-07-22T09:46:52.136677",
     "status": "completed"
    },
    "tags": []
   },
   "source": [
    "- Let us pick the first estimator returned by the cross-validate function.\n",
    "- So we can hope that the model might also perform well on test data. Let's check out."
   ]
  },
  {
   "cell_type": "code",
   "execution_count": 30,
   "id": "21ed309a",
   "metadata": {
    "execution": {
     "iopub.execute_input": "2022-07-22T09:46:52.212048Z",
     "iopub.status.busy": "2022-07-22T09:46:52.211649Z",
     "iopub.status.idle": "2022-07-22T09:46:52.505958Z",
     "shell.execute_reply": "2022-07-22T09:46:52.505001Z"
    },
    "papermill": {
     "duration": 0.322222,
     "end_time": "2022-07-22T09:46:52.508129",
     "exception": false,
     "start_time": "2022-07-22T09:46:52.185907",
     "status": "completed"
    },
    "tags": []
   },
   "outputs": [
    {
     "data": {
      "image/png": "[encoded data removed]",
      "text/plain": [
       "<Figure size 576x432 with 2 Axes>"
      ]
     },
     "metadata": {
      "needs_background": "light"
     },
     "output_type": "display_data"
    }
   ],
   "source": [
    "bin_clf = scores['estimator'][0]\n",
    "y_hat_test_0 = bin_clf.predict(X_test)\n",
    "cm_display = ConfusionMatrixDisplay.from_predictions(y_test_0, y_hat_test_0, values_format='.5g')"
   ]
  },
  {
   "cell_type": "code",
   "execution_count": 31,
   "id": "8983153e",
   "metadata": {
    "execution": {
     "iopub.execute_input": "2022-07-22T09:46:52.560671Z",
     "iopub.status.busy": "2022-07-22T09:46:52.560119Z",
     "iopub.status.idle": "2022-07-22T09:46:52.577316Z",
     "shell.execute_reply": "2022-07-22T09:46:52.575967Z"
    },
    "papermill": {
     "duration": 0.046305,
     "end_time": "2022-07-22T09:46:52.579750",
     "exception": false,
     "start_time": "2022-07-22T09:46:52.533445",
     "status": "completed"
    },
    "tags": []
   },
   "outputs": [
    {
     "name": "stdout",
     "output_type": "stream",
     "text": [
      "Precision 0.95\n",
      "Recall 0.95\n"
     ]
    }
   ],
   "source": [
    "print('Precision %.2f'%precision_score(y_test_0, y_hat_test_0))\n",
    "print('Recall %.2f'%recall_score(y_test_0, y_hat_test_0))"
   ]
  },
  {
   "cell_type": "markdown",
   "id": "9f5e9704",
   "metadata": {
    "papermill": {
     "duration": 0.024772,
     "end_time": "2022-07-22T09:46:52.629733",
     "exception": false,
     "start_time": "2022-07-22T09:46:52.604961",
     "status": "completed"
    },
    "tags": []
   },
   "source": [
    "this is good!."
   ]
  },
  {
   "cell_type": "markdown",
   "id": "b2885dcf",
   "metadata": {
    "papermill": {
     "duration": 0.026844,
     "end_time": "2022-07-22T09:46:52.683840",
     "exception": false,
     "start_time": "2022-07-22T09:46:52.656996",
     "status": "completed"
    },
    "tags": []
   },
   "source": [
    "#### Way-2 for Generalization:\n",
    "(optional)\n",
    "- There is an another approach of getting predicted labels via cross-validation and using it to measure the generalization.\n",
    "- In this case, each sample in the dataset will be part of only one test set in splited folds."
   ]
  },
  {
   "cell_type": "code",
   "execution_count": 32,
   "id": "8b1dbbfc",
   "metadata": {
    "execution": {
     "iopub.execute_input": "2022-07-22T09:46:52.738548Z",
     "iopub.status.busy": "2022-07-22T09:46:52.737846Z",
     "iopub.status.idle": "2022-07-22T09:47:00.310840Z",
     "shell.execute_reply": "2022-07-22T09:47:00.309707Z"
    },
    "papermill": {
     "duration": 7.604359,
     "end_time": "2022-07-22T09:47:00.314627",
     "exception": false,
     "start_time": "2022-07-22T09:46:52.710268",
     "status": "completed"
    },
    "tags": []
   },
   "outputs": [],
   "source": [
    "y_hat_train_0 = cross_val_predict(bin_clf, X_train, y_train_0, cv=5)\n"
   ]
  },
  {
   "cell_type": "code",
   "execution_count": 33,
   "id": "d904eb53",
   "metadata": {
    "execution": {
     "iopub.execute_input": "2022-07-22T09:47:00.412228Z",
     "iopub.status.busy": "2022-07-22T09:47:00.411148Z",
     "iopub.status.idle": "2022-07-22T09:47:00.709601Z",
     "shell.execute_reply": "2022-07-22T09:47:00.708455Z"
    },
    "papermill": {
     "duration": 0.350868,
     "end_time": "2022-07-22T09:47:00.711884",
     "exception": false,
     "start_time": "2022-07-22T09:47:00.361016",
     "status": "completed"
    },
    "tags": []
   },
   "outputs": [
    {
     "data": {
      "image/png": "[encoded data removed]",
      "text/plain": [
       "<Figure size 576x432 with 2 Axes>"
      ]
     },
     "metadata": {
      "needs_background": "light"
     },
     "output_type": "display_data"
    }
   ],
   "source": [
    "cm_display = ConfusionMatrixDisplay.from_predictions(y_train_0, y_hat_train_0, values_format='.5g')\n",
    "plt.show()"
   ]
  },
  {
   "cell_type": "code",
   "execution_count": 34,
   "id": "76b671f0",
   "metadata": {
    "execution": {
     "iopub.execute_input": "2022-07-22T09:47:00.765768Z",
     "iopub.status.busy": "2022-07-22T09:47:00.765374Z",
     "iopub.status.idle": "2022-07-22T09:47:00.770345Z",
     "shell.execute_reply": "2022-07-22T09:47:00.769413Z"
    },
    "papermill": {
     "duration": 0.033796,
     "end_time": "2022-07-22T09:47:00.772234",
     "exception": false,
     "start_time": "2022-07-22T09:47:00.738438",
     "status": "completed"
    },
    "tags": []
   },
   "outputs": [],
   "source": [
    "cf_matrix = cm_display.confusion_matrix\n",
    "tn = cf_matrix[0, 0]\n",
    "fn = cf_matrix[1, 0]\n",
    "fp = cf_matrix[0, 1]\n",
    "tp = cf_matrix[1,1]"
   ]
  },
  {
   "cell_type": "code",
   "execution_count": 35,
   "id": "ea920dbe",
   "metadata": {
    "execution": {
     "iopub.execute_input": "2022-07-22T09:47:00.825760Z",
     "iopub.status.busy": "2022-07-22T09:47:00.825122Z",
     "iopub.status.idle": "2022-07-22T09:47:00.831326Z",
     "shell.execute_reply": "2022-07-22T09:47:00.830222Z"
    },
    "papermill": {
     "duration": 0.036231,
     "end_time": "2022-07-22T09:47:00.833858",
     "exception": false,
     "start_time": "2022-07-22T09:47:00.797627",
     "status": "completed"
    },
    "tags": []
   },
   "outputs": [
    {
     "name": "stdout",
     "output_type": "stream",
     "text": [
      "Precision: 0.96\n",
      "Recall: 0.92\n",
      "Accuracy: 0.99\n"
     ]
    }
   ],
   "source": [
    "  precision = tp/(tp + fp)\n",
    "print('Precision: %.2f'%precision)\n",
    "recall = tp/(tp + fn)\n",
    "print('Recall: %.2f'%recall)\n",
    "accuracy = (tp + tn)/(tp + fp+ fn + tn)\n",
    "print('Accuracy: %.2f'%accuracy)"
   ]
  },
  {
   "cell_type": "markdown",
   "id": "b4ea99fe",
   "metadata": {
    "papermill": {
     "duration": 0.025274,
     "end_time": "2022-07-22T09:47:00.885238",
     "exception": false,
     "start_time": "2022-07-22T09:47:00.859964",
     "status": "completed"
    },
    "tags": []
   },
   "source": [
    "- Compare the precision and recall score obtained by the above method with that of the previous method(i.e. using `cross_validate`)\n",
    "\n",
    "- Finally, we can print all these scores as a report using the `classification_report` function"
   ]
  },
  {
   "cell_type": "code",
   "execution_count": 36,
   "id": "78321788",
   "metadata": {
    "execution": {
     "iopub.execute_input": "2022-07-22T09:47:00.938375Z",
     "iopub.status.busy": "2022-07-22T09:47:00.937702Z",
     "iopub.status.idle": "2022-07-22T09:47:01.140225Z",
     "shell.execute_reply": "2022-07-22T09:47:01.139217Z"
    },
    "papermill": {
     "duration": 0.231484,
     "end_time": "2022-07-22T09:47:01.142252",
     "exception": false,
     "start_time": "2022-07-22T09:47:00.910768",
     "status": "completed"
    },
    "tags": []
   },
   "outputs": [
    {
     "name": "stdout",
     "output_type": "stream",
     "text": [
      "Precision 0.96\n",
      "Recall 0.92\n",
      "--------------------------------------------------\n",
      "              precision    recall  f1-score   support\n",
      "\n",
      "        -1.0       0.99      1.00      0.99     54077\n",
      "         1.0       0.96      0.92      0.94      5923\n",
      "\n",
      "    accuracy                           0.99     60000\n",
      "   macro avg       0.98      0.96      0.97     60000\n",
      "weighted avg       0.99      0.99      0.99     60000\n",
      "\n"
     ]
    }
   ],
   "source": [
    "print('Precision %.2f'%precision_score(y_train_0, y_hat_train_0))\n",
    "print('Recall %.2f'%recall_score(y_train_0, y_hat_train_0))\n",
    "print('-'*50)\n",
    "print(classification_report(y_train_0, y_hat_train_0))\n"
   ]
  },
  {
   "cell_type": "markdown",
   "id": "163a77cb",
   "metadata": {
    "papermill": {
     "duration": 0.025408,
     "end_time": "2022-07-22T09:47:01.193447",
     "exception": false,
     "start_time": "2022-07-22T09:47:01.168039",
     "status": "completed"
    },
    "tags": []
   },
   "source": [
    "#### Precision/Recall Tradeoff\n",
    "- Often time we need to make a trade off between precision and recall scores of a model.\n",
    "- It depends on the problem at hand.\n",
    "- It is important to note that we should not pass the predicted labels as input to `precision_recall_curve` function, instead we need to pass the probability scores or the output from the decision function!.\n",
    "- The `Perceptron()` class contains a `decision_function` method, therefore, we can make use of it.\n",
    "- Then, internally the decision scores are sorted, tps and fps will be computed by changing the threshold from index[0] to index[-1].\n",
    "- Let us compute the scores from the decision function."
   ]
  },
  {
   "cell_type": "code",
   "execution_count": 37,
   "id": "3a8a621f",
   "metadata": {
    "execution": {
     "iopub.execute_input": "2022-07-22T09:47:01.248107Z",
     "iopub.status.busy": "2022-07-22T09:47:01.247511Z",
     "iopub.status.idle": "2022-07-22T09:47:03.774016Z",
     "shell.execute_reply": "2022-07-22T09:47:03.773115Z"
    },
    "papermill": {
     "duration": 2.556004,
     "end_time": "2022-07-22T09:47:03.776029",
     "exception": false,
     "start_time": "2022-07-22T09:47:01.220025",
     "status": "completed"
    },
    "tags": []
   },
   "outputs": [
    {
     "data": {
      "image/png": "[encoded data removed]",
      "text/plain": [
       "<Figure size 576x432 with 1 Axes>"
      ]
     },
     "metadata": {
      "needs_background": "light"
     },
     "output_type": "display_data"
    }
   ],
   "source": [
    "bin_clf = Perceptron(random_state=1729)\n",
    "bin_clf.fit(X_train, y_train_0)\n",
    "y_scores = bin_clf.decision_function(X_train)\n",
    "sns.histplot(np.sort(y_scores))\n",
    "plt.show()"
   ]
  },
  {
   "cell_type": "markdown",
   "id": "6a796556",
   "metadata": {
    "papermill": {
     "duration": 0.025831,
     "end_time": "2022-07-22T09:47:03.827949",
     "exception": false,
     "start_time": "2022-07-22T09:47:03.802118",
     "status": "completed"
    },
    "tags": []
   },
   "source": [
    "There are so many negative values than the positives? bcoz of Class-Imbalance\n",
    "\n",
    "- Suppose threshold takes teh value of -600, then all the samples having score greater than -600 is set to 1(Positive label) and less than it is set to -1 (neg label).\n",
    "- Therefore, the number of False Positives will be increased. This will in turn reduce the precision score to a greater extent.\n",
    "- On the otherhand, if the threshold takes teh value of, say, 400. Then, the number of false negatives will be increase and hence the recall will reduce to a greater extent.\n",
    "- Let's see it in action."
   ]
  },
  {
   "cell_type": "code",
   "execution_count": 38,
   "id": "79c0ad6a",
   "metadata": {
    "execution": {
     "iopub.execute_input": "2022-07-22T09:47:03.882138Z",
     "iopub.status.busy": "2022-07-22T09:47:03.881061Z",
     "iopub.status.idle": "2022-07-22T09:47:03.899297Z",
     "shell.execute_reply": "2022-07-22T09:47:03.898296Z"
    },
    "papermill": {
     "duration": 0.047982,
     "end_time": "2022-07-22T09:47:03.901675",
     "exception": false,
     "start_time": "2022-07-22T09:47:03.853693",
     "status": "completed"
    },
    "tags": []
   },
   "outputs": [],
   "source": [
    "precisions, recalls, thresholds = precision_recall_curve(y_train_0, y_scores, pos_label=1)"
   ]
  },
  {
   "cell_type": "code",
   "execution_count": 39,
   "id": "e9f43df8",
   "metadata": {
    "execution": {
     "iopub.execute_input": "2022-07-22T09:47:03.955588Z",
     "iopub.status.busy": "2022-07-22T09:47:03.955202Z",
     "iopub.status.idle": "2022-07-22T09:47:04.136001Z",
     "shell.execute_reply": "2022-07-22T09:47:04.135122Z"
    },
    "papermill": {
     "duration": 0.209883,
     "end_time": "2022-07-22T09:47:04.138042",
     "exception": false,
     "start_time": "2022-07-22T09:47:03.928159",
     "status": "completed"
    },
    "tags": []
   },
   "outputs": [
    {
     "data": {
      "image/png": "[encoded data removed]",
      "text/plain": [
       "<Figure size 720x288 with 1 Axes>"
      ]
     },
     "metadata": {
      "needs_background": "light"
     },
     "output_type": "display_data"
    }
   ],
   "source": [
    "plt.figure(figsize=(10, 4))\n",
    "plt.plot(precisions[:-1], recalls[:-1], \"b--\")\n",
    "plt.xlabel('Precision')\n",
    "plt.ylabel('Recall')\n",
    "plt.grid(True)\n",
    "plt.show()"
   ]
  },
  {
   "cell_type": "code",
   "execution_count": 40,
   "id": "260e21d0",
   "metadata": {
    "execution": {
     "iopub.execute_input": "2022-07-22T09:47:04.191786Z",
     "iopub.status.busy": "2022-07-22T09:47:04.191206Z",
     "iopub.status.idle": "2022-07-22T09:47:04.573552Z",
     "shell.execute_reply": "2022-07-22T09:47:04.572461Z"
    },
    "papermill": {
     "duration": 0.411814,
     "end_time": "2022-07-22T09:47:04.575842",
     "exception": false,
     "start_time": "2022-07-22T09:47:04.164028",
     "status": "completed"
    },
    "tags": []
   },
   "outputs": [
    {
     "data": {
      "image/png": "[encoded data removed]",
      "text/plain": [
       "<Figure size 720x288 with 1 Axes>"
      ]
     },
     "metadata": {
      "needs_background": "light"
     },
     "output_type": "display_data"
    }
   ],
   "source": [
    "plt.figure(figsize=(10, 4))\n",
    "plt.plot(thresholds, precisions[:-1], \"b--\", label=\"Precision\")\n",
    "plt.plot(thresholds, recalls[:-1], \"g--\", label=\"Recall\")\n",
    "plt.xlabel('Threshold')\n",
    "# plt.ylabel('Recall')\n",
    "plt.legend(loc='best')\n",
    "plt.grid(True)\n",
    "plt.show()"
   ]
  },
  {
   "cell_type": "code",
   "execution_count": 41,
   "id": "51872ad9",
   "metadata": {
    "execution": {
     "iopub.execute_input": "2022-07-22T09:47:04.634442Z",
     "iopub.status.busy": "2022-07-22T09:47:04.633849Z",
     "iopub.status.idle": "2022-07-22T09:47:04.640570Z",
     "shell.execute_reply": "2022-07-22T09:47:04.639614Z"
    },
    "papermill": {
     "duration": 0.040101,
     "end_time": "2022-07-22T09:47:04.642687",
     "exception": false,
     "start_time": "2022-07-22T09:47:04.602586",
     "status": "completed"
    },
    "tags": []
   },
   "outputs": [
    {
     "name": "stdout",
     "output_type": "stream",
     "text": [
      "precision for zero threshold:  0.9783072546230441\n"
     ]
    }
   ],
   "source": [
    "# get the index of threshold around zero\n",
    "idx_th = np.where(np.logical_and(thresholds>0, thresholds<1))\n",
    "print('precision for zero threshold: ', precisions[idx_th[0][0]])"
   ]
  },
  {
   "cell_type": "markdown",
   "id": "ac5d8842",
   "metadata": {
    "papermill": {
     "duration": 0.044083,
     "end_time": "2022-07-22T09:47:04.724437",
     "exception": false,
     "start_time": "2022-07-22T09:47:04.680354",
     "status": "completed"
    },
    "tags": []
   },
   "source": [
    "- **Here  is the solution** to the question how can we increase the precision of the classifier by compromising the recall. We can make use of the above plot.\n",
    "- Let's see how."
   ]
  },
  {
   "cell_type": "markdown",
   "id": "32be1312",
   "metadata": {
    "papermill": {
     "duration": 0.035935,
     "end_time": "2022-07-22T09:47:04.803941",
     "exception": false,
     "start_time": "2022-07-22T09:47:04.768006",
     "status": "completed"
    },
    "tags": []
   },
   "source": [
    "#### The ROC Curve"
   ]
  },
  {
   "cell_type": "code",
   "execution_count": 42,
   "id": "d4a8f98a",
   "metadata": {
    "execution": {
     "iopub.execute_input": "2022-07-22T09:47:04.859713Z",
     "iopub.status.busy": "2022-07-22T09:47:04.858776Z",
     "iopub.status.idle": "2022-07-22T09:47:04.864275Z",
     "shell.execute_reply": "2022-07-22T09:47:04.863626Z"
    },
    "papermill": {
     "duration": 0.035332,
     "end_time": "2022-07-22T09:47:04.866113",
     "exception": false,
     "start_time": "2022-07-22T09:47:04.830781",
     "status": "completed"
    },
    "tags": []
   },
   "outputs": [],
   "source": [
    "from sklearn.metrics import roc_curve"
   ]
  },
  {
   "cell_type": "code",
   "execution_count": 43,
   "id": "d89a7fa0",
   "metadata": {
    "execution": {
     "iopub.execute_input": "2022-07-22T09:47:04.921117Z",
     "iopub.status.busy": "2022-07-22T09:47:04.920172Z",
     "iopub.status.idle": "2022-07-22T09:47:05.144981Z",
     "shell.execute_reply": "2022-07-22T09:47:05.144055Z"
    },
    "papermill": {
     "duration": 0.2548,
     "end_time": "2022-07-22T09:47:05.147268",
     "exception": false,
     "start_time": "2022-07-22T09:47:04.892468",
     "status": "completed"
    },
    "tags": []
   },
   "outputs": [
    {
     "data": {
      "image/png": "[encoded data removed]",
      "text/plain": [
       "<Figure size 720x288 with 1 Axes>"
      ]
     },
     "metadata": {
      "needs_background": "light"
     },
     "output_type": "display_data"
    }
   ],
   "source": [
    "fpr, tpr, thresholds = roc_curve(y_train_0, y_scores)\n",
    "plt.figure(figsize=(10, 4))\n",
    "plt.plot(fpr, tpr, linewidth=2, label=\"Perceptron\")\n",
    "plt.plot([0, 1], [0, 1], 'k--', label='baseEstimator')\n",
    "\n",
    "plt.xlabel('False Positive Rate')\n",
    "plt.ylabel('True Positive Rate')\n",
    "plt.legend(loc='best')\n",
    "plt.grid(True)\n",
    "plt.show()"
   ]
  },
  {
   "cell_type": "markdown",
   "id": "94a0641e",
   "metadata": {
    "papermill": {
     "duration": 0.026438,
     "end_time": "2022-07-22T09:47:05.200972",
     "exception": false,
     "start_time": "2022-07-22T09:47:05.174534",
     "status": "completed"
    },
    "tags": []
   },
   "source": [
    "### Warm Start vs Cold Start"
   ]
  },
  {
   "cell_type": "markdown",
   "id": "10a42042",
   "metadata": {
    "papermill": {
     "duration": 0.026493,
     "end_time": "2022-07-22T09:47:05.254145",
     "exception": false,
     "start_time": "2022-07-22T09:47:05.227652",
     "status": "completed"
    },
    "tags": []
   },
   "source": [
    "#### Cold Start\n",
    "- If we execute the `fit` method of `bin_clf` repeatedly, we get the same score for both trainig and testing accuracy.\n",
    "- This because every time the fit method is called, the model weights are initialized to the same values. Therefore, we obtain the same score.\n",
    "- This is termed as **cold start**. Let's execute the following cell 4 times and observe the score."
   ]
  },
  {
   "cell_type": "code",
   "execution_count": 44,
   "id": "f3735040",
   "metadata": {
    "execution": {
     "iopub.execute_input": "2022-07-22T09:47:05.312816Z",
     "iopub.status.busy": "2022-07-22T09:47:05.312328Z",
     "iopub.status.idle": "2022-07-22T09:47:07.399254Z",
     "shell.execute_reply": "2022-07-22T09:47:07.395853Z"
    },
    "papermill": {
     "duration": 2.121443,
     "end_time": "2022-07-22T09:47:07.404453",
     "exception": false,
     "start_time": "2022-07-22T09:47:05.283010",
     "status": "completed"
    },
    "tags": []
   },
   "outputs": [
    {
     "name": "stdout",
     "output_type": "stream",
     "text": [
      "Training Accuracy:  0.99095\n",
      "Test Accuracy:  0.989\n"
     ]
    }
   ],
   "source": [
    "bin_clf.fit(X_train, y_train_0)\n",
    "y_hat_train_0 = bin_clf.predict(X_train)\n",
    "print('Training Accuracy: ', bin_clf.score(X_train, y_train_0))\n",
    "print('Test Accuracy: ', bin_clf.score(X_test,y_test_0))"
   ]
  },
  {
   "cell_type": "markdown",
   "id": "43e39760",
   "metadata": {
    "papermill": {
     "duration": 0.049434,
     "end_time": "2022-07-22T09:47:07.504675",
     "exception": false,
     "start_time": "2022-07-22T09:47:07.455241",
     "status": "completed"
    },
    "tags": []
   },
   "source": [
    "#### Warm Start\n",
    "- Setting `warm_start=True` retains the weight values of the model after `max_iter` and hence produce different results for each execution.\n",
    "- Warm starting is useful in many ways. It helps us train the model by initializing the weight values from the previous state. So we can pause the training and resume it whenever we get the resource for computation.\n",
    "\n",
    "- Of course, it is not required for simple models like perceptron and for a small dataset like MNIST.\n",
    "- in this notebook, we use this feature to plot the iteration vs loss curve.\n",
    "- Let us execute the following lines of code 4 times and observe how the training accuracy changes for each execution."
   ]
  },
  {
   "cell_type": "code",
   "execution_count": 45,
   "id": "0d819edf",
   "metadata": {
    "execution": {
     "iopub.execute_input": "2022-07-22T09:47:07.563699Z",
     "iopub.status.busy": "2022-07-22T09:47:07.563329Z",
     "iopub.status.idle": "2022-07-22T09:47:07.567697Z",
     "shell.execute_reply": "2022-07-22T09:47:07.566740Z"
    },
    "papermill": {
     "duration": 0.034369,
     "end_time": "2022-07-22T09:47:07.569787",
     "exception": false,
     "start_time": "2022-07-22T09:47:07.535418",
     "status": "completed"
    },
    "tags": []
   },
   "outputs": [],
   "source": [
    "bin_clf_warm = Perceptron(max_iter=1000,random_state=1729,warm_start=True)"
   ]
  },
  {
   "cell_type": "code",
   "execution_count": 46,
   "id": "522cf338",
   "metadata": {
    "execution": {
     "iopub.execute_input": "2022-07-22T09:47:07.625566Z",
     "iopub.status.busy": "2022-07-22T09:47:07.624864Z",
     "iopub.status.idle": "2022-07-22T09:47:09.622685Z",
     "shell.execute_reply": "2022-07-22T09:47:09.621403Z"
    },
    "papermill": {
     "duration": 2.029194,
     "end_time": "2022-07-22T09:47:09.626022",
     "exception": false,
     "start_time": "2022-07-22T09:47:07.596828",
     "status": "completed"
    },
    "tags": []
   },
   "outputs": [
    {
     "name": "stdout",
     "output_type": "stream",
     "text": [
      "Training Accuracy: 0.99095\n"
     ]
    }
   ],
   "source": [
    "bin_clf_warm.fit(X_train, y_train_0)\n",
    "print('Training Accuracy:', bin_clf_warm.score(X_train, y_train_0))"
   ]
  },
  {
   "cell_type": "code",
   "execution_count": null,
   "id": "84bdc502",
   "metadata": {
    "papermill": {
     "duration": 0.049233,
     "end_time": "2022-07-22T09:47:09.725059",
     "exception": false,
     "start_time": "2022-07-22T09:47:09.675826",
     "status": "completed"
    },
    "tags": []
   },
   "outputs": [],
   "source": []
  },
  {
   "cell_type": "markdown",
   "id": "d229e45a",
   "metadata": {
    "papermill": {
     "duration": 0.027246,
     "end_time": "2022-07-22T09:47:09.779530",
     "exception": false,
     "start_time": "2022-07-22T09:47:09.752284",
     "status": "completed"
    },
    "tags": []
   },
   "source": []
  },
  {
   "cell_type": "code",
   "execution_count": null,
   "id": "0110094c",
   "metadata": {
    "papermill": {
     "duration": 0.02708,
     "end_time": "2022-07-22T09:47:09.833737",
     "exception": false,
     "start_time": "2022-07-22T09:47:09.806657",
     "status": "completed"
    },
    "tags": []
   },
   "outputs": [],
   "source": []
  }
 ],
 "metadata": {
  "kernelspec": {
   "display_name": "Python 3",
   "language": "python",
   "name": "python3"
  },
  "language_info": {
   "codemirror_mode": {
    "name": "ipython",
    "version": 3
   },
   "file_extension": ".py",
   "mimetype": "text/x-python",
   "name": "python",
   "nbconvert_exporter": "python",
   "pygments_lexer": "ipython3",
   "version": "3.7.12"
  },
  "papermill": {
   "default_parameters": {},
   "duration": 126.256399,
   "end_time": "2022-07-22T09:47:10.681967",
   "environment_variables": {},
   "exception": null,
   "input_path": "__notebook__.ipynb",
   "output_path": "__notebook__.ipynb",
   "parameters": {},
   "start_time": "2022-07-22T09:45:04.425568",
   "version": "2.3.4"
  }
 },
 "nbformat": 4,
 "nbformat_minor": 5
}
