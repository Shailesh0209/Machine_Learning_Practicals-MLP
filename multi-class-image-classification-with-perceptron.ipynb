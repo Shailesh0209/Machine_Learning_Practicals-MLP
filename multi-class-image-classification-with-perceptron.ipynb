{
 "cells": [
  {
   "cell_type": "code",
   "execution_count": 1,
   "id": "1962e2eb",
   "metadata": {
    "_cell_guid": "b1076dfc-b9ad-4769-8c92-a6c4dae69d19",
    "_uuid": "8f2839f25d086af736a60e9eeb907d3b93b6e0e5",
    "execution": {
     "iopub.execute_input": "2022-06-01T20:14:03.057724Z",
     "iopub.status.busy": "2022-06-01T20:14:03.057006Z",
     "iopub.status.idle": "2022-06-01T20:14:03.087430Z",
     "shell.execute_reply": "2022-06-01T20:14:03.083350Z"
    },
    "papermill": {
     "duration": 0.059993,
     "end_time": "2022-06-01T20:14:03.093228",
     "exception": false,
     "start_time": "2022-06-01T20:14:03.033235",
     "status": "completed"
    },
    "tags": []
   },
   "outputs": [],
   "source": [
    "# This Python 3 environment comes with many helpful analytics libraries installed\n",
    "# It is defined by the kaggle/python Docker image: https://github.com/kaggle/docker-python\n",
    "# For example, here's several helpful packages to load\n",
    "\n",
    "import numpy as np # linear algebra\n",
    "import pandas as pd # data processing, CSV file I/O (e.g. pd.read_csv)\n",
    "\n",
    "# Input data files are available in the read-only \"../input/\" directory\n",
    "# For example, running this (by clicking run or pressing Shift+Enter) will list all files under the input directory\n",
    "\n",
    "import os\n",
    "for dirname, _, filenames in os.walk('/kaggle/input'):\n",
    "    for filename in filenames:\n",
    "        print(os.path.join(dirname, filename))\n",
    "\n",
    "# You can write up to 20GB to the current directory (/kaggle/working/) that gets preserved as output when you create a version using \"Save & Run All\" \n",
    "# You can also write temporary files to /kaggle/temp/, but they won't be saved outside of the current session"
   ]
  },
  {
   "cell_type": "markdown",
   "id": "36e9f36d",
   "metadata": {
    "papermill": {
     "duration": 0.027032,
     "end_time": "2022-06-01T20:14:03.150962",
     "exception": false,
     "start_time": "2022-06-01T20:14:03.123930",
     "status": "completed"
    },
    "tags": []
   },
   "source": [
    "#### x/w5/L5-mlp-dip-iitm"
   ]
  },
  {
   "cell_type": "markdown",
   "id": "f7a781f9",
   "metadata": {
    "papermill": {
     "duration": 0.02972,
     "end_time": "2022-06-01T20:14:03.212173",
     "exception": false,
     "start_time": "2022-06-01T20:14:03.182453",
     "status": "completed"
    },
    "tags": []
   },
   "source": [
    "# Multiclass Classifier (OneVsAll)\n",
    "- We know that the perceptron is a binary classifier. However, MNIST dataset contains 10 classes. Then how can we extend the idea to handle multi-class problems?\n",
    "- **Solution**: Combine multiple binary classifiers and devise a suitable scoring metric.\n",
    "- Sklearn makes it extremely easy without modifying a single line of code that we have written for the binary classifier.\n",
    "- Sklearn does this by counting a number of unique elements (10 in this case) in the label vector y_train and converting labels using LabelBinarizer to fit each binary classifier(Remember binary classifier requires binary labels, Tautology:-))\n"
   ]
  },
  {
   "cell_type": "code",
   "execution_count": 2,
   "id": "fcf8cb98",
   "metadata": {
    "execution": {
     "iopub.execute_input": "2022-06-01T20:14:03.265425Z",
     "iopub.status.busy": "2022-06-01T20:14:03.264747Z",
     "iopub.status.idle": "2022-06-01T20:14:04.529934Z",
     "shell.execute_reply": "2022-06-01T20:14:04.528848Z"
    },
    "papermill": {
     "duration": 1.292749,
     "end_time": "2022-06-01T20:14:04.532635",
     "exception": false,
     "start_time": "2022-06-01T20:14:03.239886",
     "status": "completed"
    },
    "tags": []
   },
   "outputs": [],
   "source": [
    "# Common imports \n",
    "import numpy as np\n",
    "import os\n",
    "import io\n",
    "import warnings\n",
    "\n",
    "# sklearn specific imports\n",
    "from sklearn.datasets import fetch_openml\n",
    "\n",
    "from sklearn.preprocessing import MinMaxScaler\n",
    "\n",
    "from sklearn.pipeline import Pipeline\n",
    "\n",
    "from sklearn.dummy import DummyClassifier\n",
    "\n",
    "from sklearn.linear_model import Perceptron\n",
    "\n",
    "from sklearn.metrics import hinge_loss\n",
    "from sklearn.metrics import ConfusionMatrixDisplay, confusion_matrix, precision_recall_curve\n",
    "from sklearn.metrics import precision_score, recall_score, classification_report\n",
    "from sklearn.metrics import make_scorer\n",
    "\n",
    "from sklearn.model_selection import cross_validate, cross_val_predict, GridSearchCV\n",
    "\n",
    "from pprint import pprint"
   ]
  },
  {
   "cell_type": "code",
   "execution_count": 3,
   "id": "9911683f",
   "metadata": {
    "execution": {
     "iopub.execute_input": "2022-06-01T20:14:04.564068Z",
     "iopub.status.busy": "2022-06-01T20:14:04.563664Z",
     "iopub.status.idle": "2022-06-01T20:14:04.742760Z",
     "shell.execute_reply": "2022-06-01T20:14:04.741746Z"
    },
    "papermill": {
     "duration": 0.197434,
     "end_time": "2022-06-01T20:14:04.745420",
     "exception": false,
     "start_time": "2022-06-01T20:14:04.547986",
     "status": "completed"
    },
    "tags": []
   },
   "outputs": [],
   "source": [
    "import matplotlib.pyplot as plt\n",
    "import seaborn as sns"
   ]
  },
  {
   "cell_type": "code",
   "execution_count": 4,
   "id": "8ece09f4",
   "metadata": {
    "execution": {
     "iopub.execute_input": "2022-06-01T20:14:04.775264Z",
     "iopub.status.busy": "2022-06-01T20:14:04.774901Z",
     "iopub.status.idle": "2022-06-01T20:15:06.111206Z",
     "shell.execute_reply": "2022-06-01T20:15:06.110129Z"
    },
    "papermill": {
     "duration": 61.35397,
     "end_time": "2022-06-01T20:15:06.113886",
     "exception": false,
     "start_time": "2022-06-01T20:14:04.759916",
     "status": "completed"
    },
    "tags": []
   },
   "outputs": [],
   "source": [
    "X, y = fetch_openml('mnist_784', version=1, return_X_y=True)\n",
    "# it returns Data and label as a pandas dataframe"
   ]
  },
  {
   "cell_type": "code",
   "execution_count": 5,
   "id": "7faaa2d6",
   "metadata": {
    "execution": {
     "iopub.execute_input": "2022-06-01T20:15:06.144514Z",
     "iopub.status.busy": "2022-06-01T20:15:06.144094Z",
     "iopub.status.idle": "2022-06-01T20:15:06.150326Z",
     "shell.execute_reply": "2022-06-01T20:15:06.149225Z"
    },
    "papermill": {
     "duration": 0.02397,
     "end_time": "2022-06-01T20:15:06.152578",
     "exception": false,
     "start_time": "2022-06-01T20:15:06.128608",
     "status": "completed"
    },
    "tags": []
   },
   "outputs": [],
   "source": [
    "X = X.to_numpy()\n",
    "y = y.to_numpy()"
   ]
  },
  {
   "cell_type": "code",
   "execution_count": 6,
   "id": "ce8e621c",
   "metadata": {
    "execution": {
     "iopub.execute_input": "2022-06-01T20:15:06.184318Z",
     "iopub.status.busy": "2022-06-01T20:15:06.183182Z",
     "iopub.status.idle": "2022-06-01T20:15:06.341951Z",
     "shell.execute_reply": "2022-06-01T20:15:06.340836Z"
    },
    "papermill": {
     "duration": 0.178656,
     "end_time": "2022-06-01T20:15:06.345775",
     "exception": false,
     "start_time": "2022-06-01T20:15:06.167119",
     "status": "completed"
    },
    "tags": []
   },
   "outputs": [
    {
     "name": "stdout",
     "output_type": "stream",
     "text": [
      "Number of samples: 70000, type:<class 'numpy.ndarray'>\n",
      "Number of features: 784\n",
      "Minimum: 0.0, Maximum:255.0\n",
      "Number of classes: 10, type:object\n",
      "Labels: ['0' '1' '2' '3' '4' '5' '6' '7' '8' '9']\n"
     ]
    }
   ],
   "source": [
    "target_names = np.unique(y)\n",
    "print('Number of samples: {0}, type:{1}'.format(X.shape[0], type(X)))\n",
    "print('Number of features: {0}'.format(X.shape[1]))\n",
    "print('Minimum: {0}, Maximum:{1}'.format(np.min(X), np.max(X)))\n",
    "print('Number of classes: {0}, type:{1}'.format(len(target_names), y.dtype))\n",
    "print('Labels: {0}'.format(target_names))"
   ]
  },
  {
   "cell_type": "code",
   "execution_count": 7,
   "id": "319c926c",
   "metadata": {
    "execution": {
     "iopub.execute_input": "2022-06-01T20:15:06.378531Z",
     "iopub.status.busy": "2022-06-01T20:15:06.378104Z",
     "iopub.status.idle": "2022-06-01T20:15:06.972440Z",
     "shell.execute_reply": "2022-06-01T20:15:06.971243Z"
    },
    "papermill": {
     "duration": 0.612166,
     "end_time": "2022-06-01T20:15:06.974757",
     "exception": false,
     "start_time": "2022-06-01T20:15:06.362591",
     "status": "completed"
    },
    "tags": []
   },
   "outputs": [
    {
     "name": "stdout",
     "output_type": "stream",
     "text": [
      "Minimum:0.0, Maximum:1.0\n"
     ]
    }
   ],
   "source": [
    "X = MinMaxScaler().fit_transform(X)\n",
    "print(\"Minimum:{0}, Maximum:{1}\".format(np.min(X), np.max(X)))"
   ]
  },
  {
   "cell_type": "code",
   "execution_count": 8,
   "id": "29a0055b",
   "metadata": {
    "execution": {
     "iopub.execute_input": "2022-06-01T20:15:07.010070Z",
     "iopub.status.busy": "2022-06-01T20:15:07.009679Z",
     "iopub.status.idle": "2022-06-01T20:15:07.015797Z",
     "shell.execute_reply": "2022-06-01T20:15:07.014542Z"
    },
    "papermill": {
     "duration": 0.025654,
     "end_time": "2022-06-01T20:15:07.018409",
     "exception": false,
     "start_time": "2022-06-01T20:15:06.992755",
     "status": "completed"
    },
    "tags": []
   },
   "outputs": [],
   "source": [
    "X_train, X_test, y_train, y_test = X[:60000], X[60000:], y[:60000], y[60000:]"
   ]
  },
  {
   "cell_type": "code",
   "execution_count": 9,
   "id": "3bef6e53",
   "metadata": {
    "execution": {
     "iopub.execute_input": "2022-06-01T20:15:07.052289Z",
     "iopub.status.busy": "2022-06-01T20:15:07.051867Z",
     "iopub.status.idle": "2022-06-01T20:15:07.455406Z",
     "shell.execute_reply": "2022-06-01T20:15:07.454294Z"
    },
    "papermill": {
     "duration": 0.42356,
     "end_time": "2022-06-01T20:15:07.457915",
     "exception": false,
     "start_time": "2022-06-01T20:15:07.034355",
     "status": "completed"
    },
    "tags": []
   },
   "outputs": [
    {
     "data": {
      "image/png": "[encoded data removed]",
      "text/plain": [
       "<Figure size 720x288 with 1 Axes>"
      ]
     },
     "metadata": {
      "needs_background": "light"
     },
     "output_type": "display_data"
    }
   ],
   "source": [
    "plt.figure(figsize=(10,4))\n",
    "sns.histplot(data=np.int8(y_train), binwidth=0.45, bins=11)\n",
    "plt.xticks(ticks=[0,1,2, 3, 4, 5, 6, 7, 8, 9], labels=[0, 1, 2, 3, 4, 5, 6, 7, 8, 9])\n",
    "plt.xlabel('Class')\n",
    "plt.title('Distribution of Samples')\n",
    "plt.show()"
   ]
  },
  {
   "cell_type": "markdown",
   "id": "be5a4b66",
   "metadata": {
    "papermill": {
     "duration": 0.01673,
     "end_time": "2022-06-01T20:15:07.491224",
     "exception": false,
     "start_time": "2022-06-01T20:15:07.474494",
     "status": "completed"
    },
    "tags": []
   },
   "source": [
    "### Modifying labels"
   ]
  },
  {
   "cell_type": "markdown",
   "id": "1441f941",
   "metadata": {
    "papermill": {
     "duration": 0.015332,
     "end_time": "2022-06-01T20:15:07.522825",
     "exception": false,
     "start_time": "2022-06-01T20:15:07.507493",
     "status": "completed"
    },
    "tags": []
   },
   "source": [
    "- Let us start with a simple classification problem, that is, binary classification.\n",
    "- Since the original label vector contains 10 classes, we need to modify the number of classes to 2.\n",
    "- Therefore, the label 0 will be changed to 1 and all other labels(1-9) will be changed to -1.\n",
    "- We name the label vectors as `y_train_0` and `y_test_0`."
   ]
  },
  {
   "cell_type": "code",
   "execution_count": 10,
   "id": "10d56b9e",
   "metadata": {
    "execution": {
     "iopub.execute_input": "2022-06-01T20:15:07.557686Z",
     "iopub.status.busy": "2022-06-01T20:15:07.556596Z",
     "iopub.status.idle": "2022-06-01T20:15:07.570071Z",
     "shell.execute_reply": "2022-06-01T20:15:07.568923Z"
    },
    "papermill": {
     "duration": 0.033624,
     "end_time": "2022-06-01T20:15:07.572643",
     "exception": false,
     "start_time": "2022-06-01T20:15:07.539019",
     "status": "completed"
    },
    "tags": []
   },
   "outputs": [],
   "source": [
    "# Initialize new variable names with all -1\n",
    "y_train_0 = -1*np.ones((len(y_train)))\n",
    "y_test_0 = -1*np.ones((len(y_test)))\n",
    "\n",
    "# find indices of digit 0 image\n",
    "indx_0 = np.where(y_train == '0') # remember original labels are of type str not int\n",
    "# use those indices to modify y_train_0 & y_test_0\n",
    "y_train_0[indx_0] =1\n",
    "indx_0 = np.where(y_test=='0')\n",
    "y_test_0[indx_0] = 1"
   ]
  },
  {
   "cell_type": "code",
   "execution_count": 11,
   "id": "0d132e55",
   "metadata": {
    "execution": {
     "iopub.execute_input": "2022-06-01T20:15:07.607280Z",
     "iopub.status.busy": "2022-06-01T20:15:07.606526Z",
     "iopub.status.idle": "2022-06-01T20:15:07.611759Z",
     "shell.execute_reply": "2022-06-01T20:15:07.610592Z"
    },
    "papermill": {
     "duration": 0.02532,
     "end_time": "2022-06-01T20:15:07.614323",
     "exception": false,
     "start_time": "2022-06-01T20:15:07.589003",
     "status": "completed"
    },
    "tags": []
   },
   "outputs": [],
   "source": [
    "from sklearn.linear_model import Perceptron\n",
    "from sklearn.preprocessing import LabelBinarizer"
   ]
  },
  {
   "cell_type": "code",
   "execution_count": 12,
   "id": "be0462d1",
   "metadata": {
    "execution": {
     "iopub.execute_input": "2022-06-01T20:15:07.648061Z",
     "iopub.status.busy": "2022-06-01T20:15:07.647375Z",
     "iopub.status.idle": "2022-06-01T20:15:07.652534Z",
     "shell.execute_reply": "2022-06-01T20:15:07.651301Z"
    },
    "papermill": {
     "duration": 0.024784,
     "end_time": "2022-06-01T20:15:07.655086",
     "exception": false,
     "start_time": "2022-06-01T20:15:07.630302",
     "status": "completed"
    },
    "tags": []
   },
   "outputs": [],
   "source": [
    "clf = Perceptron(random_state=1729)"
   ]
  },
  {
   "cell_type": "code",
   "execution_count": 13,
   "id": "4cfa9fa9",
   "metadata": {
    "execution": {
     "iopub.execute_input": "2022-06-01T20:15:07.689858Z",
     "iopub.status.busy": "2022-06-01T20:15:07.688920Z",
     "iopub.status.idle": "2022-06-01T20:15:08.030743Z",
     "shell.execute_reply": "2022-06-01T20:15:08.028571Z"
    },
    "papermill": {
     "duration": 0.363444,
     "end_time": "2022-06-01T20:15:08.034802",
     "exception": false,
     "start_time": "2022-06-01T20:15:07.671358",
     "status": "completed"
    },
    "tags": []
   },
   "outputs": [
    {
     "name": "stdout",
     "output_type": "stream",
     "text": [
      "5:[0 0 0 0 0 1 0 0 0 0]\n",
      "0:[1 0 0 0 0 0 0 0 0 0]\n",
      "4:[0 0 0 0 1 0 0 0 0 0]\n",
      "1:[0 1 0 0 0 0 0 0 0 0]\n",
      "9:[0 0 0 0 0 0 0 0 0 1]\n",
      "2:[0 0 1 0 0 0 0 0 0 0]\n",
      "1:[0 1 0 0 0 0 0 0 0 0]\n",
      "3:[0 0 0 1 0 0 0 0 0 0]\n",
      "1:[0 1 0 0 0 0 0 0 0 0]\n",
      "4:[0 0 0 0 1 0 0 0 0 0]\n"
     ]
    }
   ],
   "source": [
    "# Let's use label binarizer just to see the encoding\n",
    "y_train_ovr = LabelBinarizer().fit_transform(y_train) # setting sparse_output=True in LabelBinarizer() improves efficiency\n",
    "for i in range(10):\n",
    "    print('{0}:{1}'.format(y_train[i], y_train_ovr[i]))"
   ]
  },
  {
   "cell_type": "markdown",
   "id": "d358de92",
   "metadata": {
    "papermill": {
     "duration": 0.017675,
     "end_time": "2022-06-01T20:15:08.070589",
     "exception": false,
     "start_time": "2022-06-01T20:15:08.052914",
     "status": "completed"
    },
    "tags": []
   },
   "source": [
    "- The `y_train_ovr` will be of size of size 60000 x 10.\n",
    "- The first column will be a (binary) label vector for 0-detector and the next one for 1-detector and so on."
   ]
  },
  {
   "cell_type": "code",
   "execution_count": 14,
   "id": "0fbfcbfe",
   "metadata": {
    "execution": {
     "iopub.execute_input": "2022-06-01T20:15:08.106965Z",
     "iopub.status.busy": "2022-06-01T20:15:08.106567Z",
     "iopub.status.idle": "2022-06-01T20:15:20.759380Z",
     "shell.execute_reply": "2022-06-01T20:15:20.758276Z"
    },
    "papermill": {
     "duration": 12.67314,
     "end_time": "2022-06-01T20:15:20.761677",
     "exception": false,
     "start_time": "2022-06-01T20:15:08.088537",
     "status": "completed"
    },
    "tags": []
   },
   "outputs": [
    {
     "data": {
      "text/plain": [
       "Perceptron(random_state=1729)"
      ]
     },
     "execution_count": 14,
     "metadata": {},
     "output_type": "execute_result"
    }
   ],
   "source": [
    "clf.fit(X_train, y_train)"
   ]
  },
  {
   "cell_type": "markdown",
   "id": "2d80925a",
   "metadata": {
    "papermill": {
     "duration": 0.014197,
     "end_time": "2022-06-01T20:15:20.791278",
     "exception": false,
     "start_time": "2022-06-01T20:15:20.777081",
     "status": "completed"
    },
    "tags": []
   },
   "source": [
    "- What had actually happened internally was the API automatically created 10 binary classifiers, converted labels to binary sparse matrix and trained them with the binarized labels!\n",
    "- During the inference time, the input will be passed through all these 10 classifiers and the highest score among the output from the classifiers will be considered as the predicted class.\n",
    "- To see it in action, let us execute the following lines of code."
   ]
  },
  {
   "cell_type": "code",
   "execution_count": 15,
   "id": "7abb97ef",
   "metadata": {
    "execution": {
     "iopub.execute_input": "2022-06-01T20:15:20.821610Z",
     "iopub.status.busy": "2022-06-01T20:15:20.821230Z",
     "iopub.status.idle": "2022-06-01T20:15:20.826818Z",
     "shell.execute_reply": "2022-06-01T20:15:20.825786Z"
    },
    "papermill": {
     "duration": 0.024467,
     "end_time": "2022-06-01T20:15:20.830158",
     "exception": false,
     "start_time": "2022-06-01T20:15:20.805691",
     "status": "completed"
    },
    "tags": []
   },
   "outputs": [
    {
     "name": "stdout",
     "output_type": "stream",
     "text": [
      "Shape of Weight matrix:(10, 784) and bias vector:(10,)\n"
     ]
    }
   ],
   "source": [
    "print('Shape of Weight matrix:{0} and bias vector:{1}'.format(clf.coef_.shape, clf.intercept_.shape))"
   ]
  },
  {
   "cell_type": "markdown",
   "id": "0c484b4d",
   "metadata": {
    "papermill": {
     "duration": 0.014657,
     "end_time": "2022-06-01T20:15:20.860968",
     "exception": false,
     "start_time": "2022-06-01T20:15:20.846311",
     "status": "completed"
    },
    "tags": []
   },
   "source": [
    "- So it is a matrix of size 10 X 784 where each row represents the weights for a single binary classifier.\n",
    "- Important difference to note is that there is no signum function associated with the perceptron.\n",
    "- The class of a perceptron that outputs the maximum score for the input sample is considered as the predicted class."
   ]
  },
  {
   "cell_type": "code",
   "execution_count": 16,
   "id": "89252ddb",
   "metadata": {
    "execution": {
     "iopub.execute_input": "2022-06-01T20:15:20.892212Z",
     "iopub.status.busy": "2022-06-01T20:15:20.891782Z",
     "iopub.status.idle": "2022-06-01T20:15:20.899668Z",
     "shell.execute_reply": "2022-06-01T20:15:20.898594Z"
    },
    "papermill": {
     "duration": 0.027516,
     "end_time": "2022-06-01T20:15:20.903126",
     "exception": false,
     "start_time": "2022-06-01T20:15:20.875610",
     "status": "completed"
    },
    "tags": []
   },
   "outputs": [
    {
     "name": "stdout",
     "output_type": "stream",
     "text": [
      "[[-631.88492118  154.366213    -65.23234141  -90.95338716 -189.29568627\n",
      "  -137.14385236  -99.64604383 -159.09859285 -136.86391388 -199.26120723]]\n",
      "The predicted class:  1\n"
     ]
    }
   ],
   "source": [
    "scores = clf.decision_function(X_train[6].reshape(1, -1))\n",
    "print(scores)\n",
    "print('The predicted class: ', np.argmax(scores))"
   ]
  },
  {
   "cell_type": "code",
   "execution_count": 17,
   "id": "e418e08a",
   "metadata": {
    "execution": {
     "iopub.execute_input": "2022-06-01T20:15:20.935943Z",
     "iopub.status.busy": "2022-06-01T20:15:20.935414Z",
     "iopub.status.idle": "2022-06-01T20:15:20.944192Z",
     "shell.execute_reply": "2022-06-01T20:15:20.942880Z"
    },
    "papermill": {
     "duration": 0.027936,
     "end_time": "2022-06-01T20:15:20.947357",
     "exception": false,
     "start_time": "2022-06-01T20:15:20.919421",
     "status": "completed"
    },
    "tags": []
   },
   "outputs": [
    {
     "name": "stdout",
     "output_type": "stream",
     "text": [
      "Predicted output:\n",
      "\n",
      "['5']\n"
     ]
    }
   ],
   "source": [
    "print('Predicted output:\\n')\n",
    "print(clf.predict(X_train[0].reshape(1,-1)))"
   ]
  },
  {
   "cell_type": "code",
   "execution_count": 18,
   "id": "b85e63ee",
   "metadata": {
    "execution": {
     "iopub.execute_input": "2022-06-01T20:15:20.979464Z",
     "iopub.status.busy": "2022-06-01T20:15:20.978694Z",
     "iopub.status.idle": "2022-06-01T20:15:21.340118Z",
     "shell.execute_reply": "2022-06-01T20:15:21.338837Z"
    },
    "papermill": {
     "duration": 0.381821,
     "end_time": "2022-06-01T20:15:21.344309",
     "exception": false,
     "start_time": "2022-06-01T20:15:20.962488",
     "status": "completed"
    },
    "tags": []
   },
   "outputs": [],
   "source": [
    "# get the prediction for all training samples\n",
    "y_hat = clf.predict(X_train)"
   ]
  },
  {
   "cell_type": "code",
   "execution_count": 19,
   "id": "af353339",
   "metadata": {
    "execution": {
     "iopub.execute_input": "2022-06-01T20:15:21.405833Z",
     "iopub.status.busy": "2022-06-01T20:15:21.405097Z",
     "iopub.status.idle": "2022-06-01T20:15:23.176732Z",
     "shell.execute_reply": "2022-06-01T20:15:23.174152Z"
    },
    "papermill": {
     "duration": 1.805866,
     "end_time": "2022-06-01T20:15:23.179903",
     "exception": false,
     "start_time": "2022-06-01T20:15:21.374037",
     "status": "completed"
    },
    "tags": []
   },
   "outputs": [
    {
     "name": "stdout",
     "output_type": "stream",
     "text": [
      "              precision    recall  f1-score   support\n",
      "\n",
      "           0       0.98      0.95      0.97      5923\n",
      "           1       0.94      0.98      0.96      6742\n",
      "           2       0.89      0.90      0.90      5958\n",
      "           3       0.86      0.87      0.87      6131\n",
      "           4       0.89      0.94      0.91      5842\n",
      "           5       0.81      0.88      0.85      5421\n",
      "           6       0.92      0.97      0.94      5918\n",
      "           7       0.91      0.94      0.92      6265\n",
      "           8       0.92      0.77      0.84      5851\n",
      "           9       0.92      0.82      0.87      5949\n",
      "\n",
      "    accuracy                           0.90     60000\n",
      "   macro avg       0.90      0.90      0.90     60000\n",
      "weighted avg       0.91      0.90      0.90     60000\n",
      "\n"
     ]
    }
   ],
   "source": [
    "print(classification_report(y_train, y_hat))"
   ]
  },
  {
   "cell_type": "markdown",
   "id": "61fe7a79",
   "metadata": {
    "papermill": {
     "duration": 0.014799,
     "end_time": "2022-06-01T20:15:23.210283",
     "exception": false,
     "start_time": "2022-06-01T20:15:23.195484",
     "status": "completed"
    },
    "tags": []
   },
   "source": [
    "Let's display the confusion matrix and relate it with the report above."
   ]
  },
  {
   "cell_type": "code",
   "execution_count": 20,
   "id": "dd792c65",
   "metadata": {
    "execution": {
     "iopub.execute_input": "2022-06-01T20:15:23.241695Z",
     "iopub.status.busy": "2022-06-01T20:15:23.241289Z",
     "iopub.status.idle": "2022-06-01T20:15:24.255478Z",
     "shell.execute_reply": "2022-06-01T20:15:24.254282Z"
    },
    "papermill": {
     "duration": 1.032673,
     "end_time": "2022-06-01T20:15:24.257832",
     "exception": false,
     "start_time": "2022-06-01T20:15:23.225159",
     "status": "completed"
    },
    "tags": []
   },
   "outputs": [
    {
     "data": {
      "image/png": "[encoded data removed]",
      "text/plain": [
       "<Figure size 432x288 with 2 Axes>"
      ]
     },
     "metadata": {
      "needs_background": "light"
     },
     "output_type": "display_data"
    }
   ],
   "source": [
    "cm_display = ConfusionMatrixDisplay.from_predictions(y_train, y_hat,\n",
    "                                            values_format='.5g') # it returns matplotlib plot object"
   ]
  },
  {
   "cell_type": "markdown",
   "id": "a79319c2",
   "metadata": {
    "papermill": {
     "duration": 0.015435,
     "end_time": "2022-06-01T20:15:24.289259",
     "exception": false,
     "start_time": "2022-06-01T20:15:24.273824",
     "status": "completed"
    },
    "tags": []
   },
   "source": [
    "- Digit 2 is often confused with digit 3 (Reasonable)."
   ]
  },
  {
   "cell_type": "markdown",
   "id": "ede7e2b3",
   "metadata": {
    "papermill": {
     "duration": 0.015415,
     "end_time": "2022-06-01T20:15:24.320108",
     "exception": false,
     "start_time": "2022-06-01T20:15:24.304693",
     "status": "completed"
    },
    "tags": []
   },
   "source": [
    "## Making a Pipeline"
   ]
  },
  {
   "cell_type": "markdown",
   "id": "b877de0e",
   "metadata": {
    "papermill": {
     "duration": 0.015407,
     "end_time": "2022-06-01T20:15:24.350799",
     "exception": false,
     "start_time": "2022-06-01T20:15:24.335392",
     "status": "completed"
    },
    "tags": []
   },
   "source": [
    "- Let's create a pipeline to keep the code compact.\n",
    "- Recall that, the MNIST dataset is clean and hence doesn't require preprocessing.\n",
    "- The one potential preprocessing technique we may use is to scale the features within the range(0, 1).\n",
    "- It is not similiar to scaling down the range values between 0 and 1."
   ]
  },
  {
   "cell_type": "code",
   "execution_count": 21,
   "id": "94bc7b04",
   "metadata": {
    "execution": {
     "iopub.execute_input": "2022-06-01T20:15:24.384039Z",
     "iopub.status.busy": "2022-06-01T20:15:24.383058Z",
     "iopub.status.idle": "2022-06-01T20:15:24.389124Z",
     "shell.execute_reply": "2022-06-01T20:15:24.388151Z"
    },
    "papermill": {
     "duration": 0.025079,
     "end_time": "2022-06-01T20:15:24.391276",
     "exception": false,
     "start_time": "2022-06-01T20:15:24.366197",
     "status": "completed"
    },
    "tags": []
   },
   "outputs": [],
   "source": [
    "# create a list with named tuples\n",
    "estimators = [('std_scaler', MinMaxScaler()), ('bin_clf', Perceptron())]\n",
    "pipe = Pipeline(estimators)"
   ]
  },
  {
   "cell_type": "code",
   "execution_count": 22,
   "id": "67e29eba",
   "metadata": {
    "execution": {
     "iopub.execute_input": "2022-06-01T20:15:24.424104Z",
     "iopub.status.busy": "2022-06-01T20:15:24.423184Z",
     "iopub.status.idle": "2022-06-01T20:15:26.456258Z",
     "shell.execute_reply": "2022-06-01T20:15:26.455237Z"
    },
    "papermill": {
     "duration": 2.051627,
     "end_time": "2022-06-01T20:15:26.458481",
     "exception": false,
     "start_time": "2022-06-01T20:15:24.406854",
     "status": "completed"
    },
    "tags": []
   },
   "outputs": [
    {
     "data": {
      "text/plain": [
       "Pipeline(steps=[('std_scaler', MinMaxScaler()), ('bin_clf', Perceptron())])"
      ]
     },
     "execution_count": 22,
     "metadata": {},
     "output_type": "execute_result"
    }
   ],
   "source": [
    "pipe.fit(X_train, y_train_0)"
   ]
  },
  {
   "cell_type": "code",
   "execution_count": 23,
   "id": "b102278f",
   "metadata": {
    "execution": {
     "iopub.execute_input": "2022-06-01T20:15:26.491884Z",
     "iopub.status.busy": "2022-06-01T20:15:26.491516Z",
     "iopub.status.idle": "2022-06-01T20:15:27.161312Z",
     "shell.execute_reply": "2022-06-01T20:15:27.160271Z"
    },
    "papermill": {
     "duration": 0.688673,
     "end_time": "2022-06-01T20:15:27.163427",
     "exception": false,
     "start_time": "2022-06-01T20:15:26.474754",
     "status": "completed"
    },
    "tags": []
   },
   "outputs": [
    {
     "data": {
      "image/png": "[encoded data removed]",
      "text/plain": [
       "<Figure size 432x288 with 2 Axes>"
      ]
     },
     "metadata": {
      "needs_background": "light"
     },
     "output_type": "display_data"
    }
   ],
   "source": [
    "y_hat_train_0 = pipe.predict(X_train)\n",
    "cm_display = ConfusionMatrixDisplay.from_predictions(y_train_0,\n",
    "                                    y_hat_train_0, values_format='.5g')\n",
    "plt.show()"
   ]
  },
  {
   "cell_type": "markdown",
   "id": "e78fa12a",
   "metadata": {
    "papermill": {
     "duration": 0.015814,
     "end_time": "2022-06-01T20:15:27.195967",
     "exception": false,
     "start_time": "2022-06-01T20:15:27.180153",
     "status": "completed"
    },
    "tags": []
   },
   "source": [
    "## Iteration vs Loss curve\n",
    "The other way of Plotting Iteration Vs Loss curve with the `Partial_fit` method."
   ]
  },
  {
   "cell_type": "code",
   "execution_count": 24,
   "id": "9bdfe3b1",
   "metadata": {
    "execution": {
     "iopub.execute_input": "2022-06-01T20:15:27.229044Z",
     "iopub.status.busy": "2022-06-01T20:15:27.228558Z",
     "iopub.status.idle": "2022-06-01T20:16:08.982998Z",
     "shell.execute_reply": "2022-06-01T20:16:08.981605Z"
    },
    "papermill": {
     "duration": 41.775258,
     "end_time": "2022-06-01T20:16:08.986925",
     "exception": false,
     "start_time": "2022-06-01T20:15:27.211667",
     "status": "completed"
    },
    "tags": []
   },
   "outputs": [],
   "source": [
    "iterations = 100\n",
    "bin_clf1 = Perceptron(max_iter=1000,random_state=2094)\n",
    "Loss_clf1 = []\n",
    "for i in range(iterations):\n",
    "    bin_clf1.partial_fit(X_train, y_train_0, classes=np.array([1,-1]))\n",
    "    y_hat_0 = bin_clf1.decision_function(X_train)\n",
    "    Loss_clf1.append(hinge_loss(y_train_0, y_hat_0))"
   ]
  },
  {
   "cell_type": "code",
   "execution_count": 25,
   "id": "41eb67e8",
   "metadata": {
    "execution": {
     "iopub.execute_input": "2022-06-01T20:16:09.052353Z",
     "iopub.status.busy": "2022-06-01T20:16:09.051747Z",
     "iopub.status.idle": "2022-06-01T20:16:09.281289Z",
     "shell.execute_reply": "2022-06-01T20:16:09.280283Z"
    },
    "papermill": {
     "duration": 0.2639,
     "end_time": "2022-06-01T20:16:09.283490",
     "exception": false,
     "start_time": "2022-06-01T20:16:09.019590",
     "status": "completed"
    },
    "tags": []
   },
   "outputs": [
    {
     "data": {
      "image/png": "[encoded data removed]",
      "text/plain": [
       "<Figure size 432x288 with 1 Axes>"
      ]
     },
     "metadata": {
      "needs_background": "light"
     },
     "output_type": "display_data"
    }
   ],
   "source": [
    "plt.figure()\n",
    "plt.plot(np.arange(iterations), Loss_clf1)\n",
    "plt.grid(True)\n",
    "plt.xlabel('Iteration')\n",
    "plt.ylabel('Training Loss')\n",
    "plt.show()"
   ]
  },
  {
   "cell_type": "markdown",
   "id": "75080c07",
   "metadata": {
    "papermill": {
     "duration": 0.016995,
     "end_time": "2022-06-01T20:16:09.317610",
     "exception": false,
     "start_time": "2022-06-01T20:16:09.300615",
     "status": "completed"
    },
    "tags": []
   },
   "source": [
    "## GridSearchCV\n",
    "- So far we didn't do any hyperparameter tuning. We accepted the default value for learning rate of the Perceptron class.\n",
    "- Now, let us search for a better learning rate using `GridSearchCV'.\n",
    "- No matter what the learning rate is, the loss will never converge to zero as the classes are not linearly separable."
   ]
  },
  {
   "cell_type": "code",
   "execution_count": 26,
   "id": "59a34b1b",
   "metadata": {
    "execution": {
     "iopub.execute_input": "2022-06-01T20:16:09.353005Z",
     "iopub.status.busy": "2022-06-01T20:16:09.352604Z",
     "iopub.status.idle": "2022-06-01T20:16:35.102458Z",
     "shell.execute_reply": "2022-06-01T20:16:35.101400Z"
    },
    "papermill": {
     "duration": 25.770495,
     "end_time": "2022-06-01T20:16:35.104812",
     "exception": false,
     "start_time": "2022-06-01T20:16:09.334317",
     "status": "completed"
    },
    "tags": []
   },
   "outputs": [
    {
     "data": {
      "text/plain": [
       "GridSearchCV(cv=5, estimator=Perceptron(),\n",
       "             param_grid={'eta0': [0.5, 0.25, 0.125, 0.0625, 0.03125]},\n",
       "             scoring=make_scorer(hinge_loss, greater_is_better=False))"
      ]
     },
     "execution_count": 26,
     "metadata": {},
     "output_type": "execute_result"
    }
   ],
   "source": [
    "scoring = make_scorer(hinge_loss, greater_is_better=False)\n",
    "lr_grid = [1/2**n for n in range(1, 6)]\n",
    "bin_clf_gscv = GridSearchCV(Perceptron(), param_grid={\"eta0\":lr_grid}, scoring=scoring, cv=5)\n",
    "bin_clf_gscv.fit(X_train, y_train_0)"
   ]
  },
  {
   "cell_type": "code",
   "execution_count": 27,
   "id": "d794eb2c",
   "metadata": {
    "execution": {
     "iopub.execute_input": "2022-06-01T20:16:35.140784Z",
     "iopub.status.busy": "2022-06-01T20:16:35.140344Z",
     "iopub.status.idle": "2022-06-01T20:16:35.151233Z",
     "shell.execute_reply": "2022-06-01T20:16:35.150172Z"
    },
    "papermill": {
     "duration": 0.03274,
     "end_time": "2022-06-01T20:16:35.154866",
     "exception": false,
     "start_time": "2022-06-01T20:16:35.122126",
     "status": "completed"
    },
    "tags": []
   },
   "outputs": [
    {
     "name": "stdout",
     "output_type": "stream",
     "text": [
      "{'mean_fit_time': array([1.02429075, 1.07795815, 0.97945514, 0.89156446, 0.7794827 ]),\n",
      " 'mean_score_time': array([0.02239485, 0.0212173 , 0.02105165, 0.02184625, 0.02104607]),\n",
      " 'mean_test_score': array([-0.0285    , -0.0285    , -0.02643333, -0.03066667, -0.0421    ]),\n",
      " 'param_eta0': masked_array(data=[0.5, 0.25, 0.125, 0.0625, 0.03125],\n",
      "             mask=[False, False, False, False, False],\n",
      "       fill_value='?',\n",
      "            dtype=object),\n",
      " 'params': [{'eta0': 0.5},\n",
      "            {'eta0': 0.25},\n",
      "            {'eta0': 0.125},\n",
      "            {'eta0': 0.0625},\n",
      "            {'eta0': 0.03125}],\n",
      " 'rank_test_score': array([2, 2, 1, 4, 5], dtype=int32),\n",
      " 'split0_test_score': array([-0.02166667, -0.02166667, -0.02166667, -0.02166667, -0.02166667]),\n",
      " 'split1_test_score': array([-0.0395, -0.0395, -0.0395, -0.0395, -0.0395]),\n",
      " 'split2_test_score': array([-0.02816667, -0.02816667, -0.02816667, -0.02816667, -0.02816667]),\n",
      " 'split3_test_score': array([-0.023     , -0.023     , -0.023     , -0.04416667, -0.04416667]),\n",
      " 'split4_test_score': array([-0.03016667, -0.03016667, -0.01983333, -0.01983333, -0.077     ]),\n",
      " 'std_fit_time': array([0.25400087, 0.23829242, 0.22410043, 0.10896253, 0.0800605 ]),\n",
      " 'std_score_time': array([0.00347846, 0.00090214, 0.00055614, 0.00184713, 0.00042674]),\n",
      " 'std_test_score': array([0.00633772, 0.00633772, 0.00709663, 0.0096425 , 0.01918697])}\n"
     ]
    }
   ],
   "source": [
    "pprint(bin_clf_gscv.cv_results_)"
   ]
  },
  {
   "cell_type": "markdown",
   "id": "09614aca",
   "metadata": {
    "papermill": {
     "duration": 0.01699,
     "end_time": "2022-06-01T20:16:35.190669",
     "exception": false,
     "start_time": "2022-06-01T20:16:35.173679",
     "status": "completed"
    },
    "tags": []
   },
   "source": [
    "As we can see, the best learning rate is 0.125"
   ]
  },
  {
   "cell_type": "code",
   "execution_count": 28,
   "id": "dec2f28e",
   "metadata": {
    "execution": {
     "iopub.execute_input": "2022-06-01T20:16:35.227249Z",
     "iopub.status.busy": "2022-06-01T20:16:35.226499Z",
     "iopub.status.idle": "2022-06-01T20:17:17.115869Z",
     "shell.execute_reply": "2022-06-01T20:17:17.114611Z"
    },
    "papermill": {
     "duration": 41.911623,
     "end_time": "2022-06-01T20:17:17.119685",
     "exception": false,
     "start_time": "2022-06-01T20:16:35.208062",
     "status": "completed"
    },
    "tags": []
   },
   "outputs": [],
   "source": [
    "iterations = 100\n",
    "Loss = []\n",
    "best_bin_clf = Perceptron(max_iter=1000,random_state=2094,eta0=0.125)\n",
    "for i in range(iterations):\n",
    "    best_bin_clf.partial_fit(X_train, y_train_0, classes=np.array([1, -1]))\n",
    "    y_hat_0 = best_bin_clf.decision_function(X_train)\n",
    "    Loss.append(hinge_loss(y_train_0, y_hat_0))\n",
    "    "
   ]
  },
  {
   "cell_type": "code",
   "execution_count": 29,
   "id": "08e4f78a",
   "metadata": {
    "execution": {
     "iopub.execute_input": "2022-06-01T20:17:17.188574Z",
     "iopub.status.busy": "2022-06-01T20:17:17.187914Z",
     "iopub.status.idle": "2022-06-01T20:17:17.432232Z",
     "shell.execute_reply": "2022-06-01T20:17:17.431256Z"
    },
    "papermill": {
     "duration": 0.281013,
     "end_time": "2022-06-01T20:17:17.434498",
     "exception": false,
     "start_time": "2022-06-01T20:17:17.153485",
     "status": "completed"
    },
    "tags": []
   },
   "outputs": [
    {
     "data": {
      "image/png": "[encoded data removed]",
      "text/plain": [
       "<Figure size 432x288 with 1 Axes>"
      ]
     },
     "metadata": {
      "needs_background": "light"
     },
     "output_type": "display_data"
    }
   ],
   "source": [
    "plt.figure()\n",
    "plt.plot(np.arange(iterations), Loss_clf1,label='eta0=1')\n",
    "plt.plot(np.arange(iterations),Loss,label='eta0=0.125')\n",
    "plt.grid(True)\n",
    "plt.legend()\n",
    "plt.xlabel('Iteration')\n",
    "plt.ylabel('Training Loss')\n",
    "plt.show()"
   ]
  },
  {
   "cell_type": "markdown",
   "id": "043c755f",
   "metadata": {
    "papermill": {
     "duration": 0.017116,
     "end_time": "2022-06-01T20:17:17.469088",
     "exception": false,
     "start_time": "2022-06-01T20:17:17.451972",
     "status": "completed"
    },
    "tags": []
   },
   "source": [
    "Well, instead of instantiating a Perceptron class with a new learning rate and re-train the model, we could get the best_estimator from `GridSearchCV` as follows."
   ]
  },
  {
   "cell_type": "code",
   "execution_count": 30,
   "id": "1096aa39",
   "metadata": {
    "execution": {
     "iopub.execute_input": "2022-06-01T20:17:17.506394Z",
     "iopub.status.busy": "2022-06-01T20:17:17.505960Z",
     "iopub.status.idle": "2022-06-01T20:17:17.510692Z",
     "shell.execute_reply": "2022-06-01T20:17:17.509687Z"
    },
    "papermill": {
     "duration": 0.025687,
     "end_time": "2022-06-01T20:17:17.512845",
     "exception": false,
     "start_time": "2022-06-01T20:17:17.487158",
     "status": "completed"
    },
    "tags": []
   },
   "outputs": [],
   "source": [
    "best_bin_clf = bin_clf_gscv.best_estimator_"
   ]
  },
  {
   "cell_type": "code",
   "execution_count": 31,
   "id": "34e19484",
   "metadata": {
    "execution": {
     "iopub.execute_input": "2022-06-01T20:17:17.550164Z",
     "iopub.status.busy": "2022-06-01T20:17:17.549261Z",
     "iopub.status.idle": "2022-06-01T20:17:17.814668Z",
     "shell.execute_reply": "2022-06-01T20:17:17.813586Z"
    },
    "papermill": {
     "duration": 0.287303,
     "end_time": "2022-06-01T20:17:17.817287",
     "exception": false,
     "start_time": "2022-06-01T20:17:17.529984",
     "status": "completed"
    },
    "tags": []
   },
   "outputs": [
    {
     "name": "stdout",
     "output_type": "stream",
     "text": [
      "              precision    recall  f1-score   support\n",
      "\n",
      "        -1.0       0.99      0.99      0.99     54077\n",
      "         1.0       0.95      0.95      0.95      5923\n",
      "\n",
      "    accuracy                           0.99     60000\n",
      "   macro avg       0.97      0.97      0.97     60000\n",
      "weighted avg       0.99      0.99      0.99     60000\n",
      "\n"
     ]
    }
   ],
   "source": [
    "y_hat_train_0 = best_bin_clf.predict(X_train)\n",
    "print(classification_report(y_train_0, y_hat_train_0))"
   ]
  },
  {
   "cell_type": "markdown",
   "id": "9fe46f5a",
   "metadata": {
    "papermill": {
     "duration": 0.017463,
     "end_time": "2022-06-01T20:17:17.852538",
     "exception": false,
     "start_time": "2022-06-01T20:17:17.835075",
     "status": "completed"
    },
    "tags": []
   },
   "source": [
    "Compare the classification report when eta0=1"
   ]
  },
  {
   "cell_type": "markdown",
   "id": "8081a842",
   "metadata": {
    "papermill": {
     "duration": 0.017441,
     "end_time": "2022-06-01T20:17:17.887861",
     "exception": false,
     "start_time": "2022-06-01T20:17:17.870420",
     "status": "completed"
    },
    "tags": []
   },
   "source": [
    "## Visualizing weight vectors"
   ]
  },
  {
   "cell_type": "markdown",
   "id": "ca31c23f",
   "metadata": {
    "papermill": {
     "duration": 0.017241,
     "end_time": "2022-06-01T20:17:17.922938",
     "exception": false,
     "start_time": "2022-06-01T20:17:17.905697",
     "status": "completed"
    },
    "tags": []
   },
   "source": [
    "It will be interesting to look into the samples which are misclassified as False Positives(that is, images that are not zero but classified as zero), and come up with some possible reasons, Shall we do it?"
   ]
  },
  {
   "cell_type": "code",
   "execution_count": 32,
   "id": "a2138d6e",
   "metadata": {
    "execution": {
     "iopub.execute_input": "2022-06-01T20:17:17.959929Z",
     "iopub.status.busy": "2022-06-01T20:17:17.959071Z",
     "iopub.status.idle": "2022-06-01T20:17:19.690636Z",
     "shell.execute_reply": "2022-06-01T20:17:19.689228Z"
    },
    "papermill": {
     "duration": 1.754359,
     "end_time": "2022-06-01T20:17:19.694629",
     "exception": false,
     "start_time": "2022-06-01T20:17:17.940270",
     "status": "completed"
    },
    "tags": []
   },
   "outputs": [],
   "source": [
    "# repeating the code for readability\n",
    "bin_clf = Perceptron(max_iter=100)\n",
    "bin_clf.fit(X_train, y_train_0)\n",
    "y_hat_train_0 = bin_clf.predict(X_train)"
   ]
  },
  {
   "cell_type": "code",
   "execution_count": 33,
   "id": "79eeafe0",
   "metadata": {
    "execution": {
     "iopub.execute_input": "2022-06-01T20:17:19.766010Z",
     "iopub.status.busy": "2022-06-01T20:17:19.765328Z",
     "iopub.status.idle": "2022-06-01T20:17:19.792489Z",
     "shell.execute_reply": "2022-06-01T20:17:19.791228Z"
    },
    "papermill": {
     "duration": 0.066602,
     "end_time": "2022-06-01T20:17:19.796231",
     "exception": false,
     "start_time": "2022-06-01T20:17:19.729629",
     "status": "completed"
    },
    "tags": []
   },
   "outputs": [],
   "source": [
    "# find the index of false positive samples\n",
    "idx_n = np.where(y_train_0 == -1) # index of true -ve samples\n",
    "idx_pred_p = np.where(y_hat_train_0==1) # index of predicted positive samples\n",
    "idx_pred_n = np.where(y_hat_train_0==-1) # index of predicted negative samples\n",
    "idx_fp = np.intersect1d(idx_n, idx_pred_p)\n",
    "idx_tn = np.intersect1d(idx_n, idx_pred_n)"
   ]
  },
  {
   "cell_type": "code",
   "execution_count": 34,
   "id": "3fbae2a7",
   "metadata": {
    "execution": {
     "iopub.execute_input": "2022-06-01T20:17:19.839403Z",
     "iopub.status.busy": "2022-06-01T20:17:19.838917Z",
     "iopub.status.idle": "2022-06-01T20:17:20.276445Z",
     "shell.execute_reply": "2022-06-01T20:17:20.275297Z"
    },
    "papermill": {
     "duration": 0.45849,
     "end_time": "2022-06-01T20:17:20.278740",
     "exception": false,
     "start_time": "2022-06-01T20:17:19.820250",
     "status": "completed"
    },
    "tags": []
   },
   "outputs": [
    {
     "data": {
      "image/png": "[encoded data removed]",
      "text/plain": [
       "<Figure size 576x432 with 9 Axes>"
      ]
     },
     "metadata": {
      "needs_background": "light"
     },
     "output_type": "display_data"
    }
   ],
   "source": [
    "factor = 3\n",
    "fig, ax = plt.subplots(nrows=factor,ncols=factor,figsize=(8, 6))\n",
    "idx_offset=0\n",
    "for i in range(3):\n",
    "    index = idx_offset+i\n",
    "    for j in range(3):\n",
    "        ax[i, j].imshow(X_train[idx_fp[index+j]].reshape(28,28),cmap='gray') # we should not use x_train_with_dummy\n",
    "        ax[i, j].set_title('GT:{0}, Pr:{1}'.format(str(y_train_0[idx_fp[index+j]]),str(y_hat_train_0[idx_fp[index+j]])))\n",
    "        ax[i, j].set_axis_off()"
   ]
  },
  {
   "cell_type": "markdown",
   "id": "93b5baea",
   "metadata": {
    "papermill": {
     "duration": 0.017315,
     "end_time": "2022-06-01T20:17:20.314322",
     "exception": false,
     "start_time": "2022-06-01T20:17:20.297007",
     "status": "completed"
    },
    "tags": []
   },
   "source": [
    "We can do some reasoning if we look into what the perceptron is actually learning about the digit 0 by visualizing the weight values after that training!"
   ]
  },
  {
   "cell_type": "code",
   "execution_count": 35,
   "id": "38dcc303",
   "metadata": {
    "execution": {
     "iopub.execute_input": "2022-06-01T20:17:20.351682Z",
     "iopub.status.busy": "2022-06-01T20:17:20.350695Z",
     "iopub.status.idle": "2022-06-01T20:17:20.356033Z",
     "shell.execute_reply": "2022-06-01T20:17:20.354799Z"
    },
    "papermill": {
     "duration": 0.02709,
     "end_time": "2022-06-01T20:17:20.358831",
     "exception": false,
     "start_time": "2022-06-01T20:17:20.331741",
     "status": "completed"
    },
    "tags": []
   },
   "outputs": [],
   "source": [
    "from matplotlib.colors import Normalize"
   ]
  },
  {
   "cell_type": "code",
   "execution_count": 36,
   "id": "6e04d5f3",
   "metadata": {
    "execution": {
     "iopub.execute_input": "2022-06-01T20:17:20.396069Z",
     "iopub.status.busy": "2022-06-01T20:17:20.395647Z",
     "iopub.status.idle": "2022-06-01T20:17:20.601144Z",
     "shell.execute_reply": "2022-06-01T20:17:20.600149Z"
    },
    "papermill": {
     "duration": 0.226629,
     "end_time": "2022-06-01T20:17:20.603319",
     "exception": false,
     "start_time": "2022-06-01T20:17:20.376690",
     "status": "completed"
    },
    "tags": []
   },
   "outputs": [
    {
     "data": {
      "image/png": "[encoded data removed]",
      "text/plain": [
       "<Figure size 432x288 with 2 Axes>"
      ]
     },
     "metadata": {
      "needs_background": "light"
     },
     "output_type": "display_data"
    }
   ],
   "source": [
    "w = bin_clf.coef_\n",
    "w_matrix = w.reshape(28, 28)\n",
    "fig = plt.figure()\n",
    "plt.imshow(w_matrix, cmap='gray')\n",
    "plt.grid(False)\n",
    "plt.axis(False)\n",
    "plt.colorbar()\n",
    "plt.show()"
   ]
  },
  {
   "cell_type": "code",
   "execution_count": 37,
   "id": "44db2faa",
   "metadata": {
    "execution": {
     "iopub.execute_input": "2022-06-01T20:17:20.641168Z",
     "iopub.status.busy": "2022-06-01T20:17:20.640783Z",
     "iopub.status.idle": "2022-06-01T20:17:21.326629Z",
     "shell.execute_reply": "2022-06-01T20:17:21.325404Z"
    },
    "papermill": {
     "duration": 0.708343,
     "end_time": "2022-06-01T20:17:21.329851",
     "exception": false,
     "start_time": "2022-06-01T20:17:20.621508",
     "status": "completed"
    },
    "tags": []
   },
   "outputs": [
    {
     "data": {
      "image/png": "[encoded data removed]",
      "text/plain": [
       "<Figure size 432x288 with 4 Axes>"
      ]
     },
     "metadata": {
      "needs_background": "light"
     },
     "output_type": "display_data"
    }
   ],
   "source": [
    "activation = w * X_train[idx_fp[0]].reshape(1, -1)\n",
    "lin_out = activation.reshape(28, 28)\n",
    "plt.subplot(1,2,1)\n",
    "plt.imshow(X_train[idx_fp[0]].reshape(28,28),cmap='gray')\n",
    "plt.colorbar()\n",
    "# lin_out[lin_out<0]=0 # just set the value less than zero to zero\n",
    "plt.subplot(1,2,2)\n",
    "plt.imshow(lin_out,cmap='gray')\n",
    "plt.colorbar()\n",
    "plt.grid(False)\n",
    "plt.axis(False)\n",
    "plt.show()"
   ]
  },
  {
   "cell_type": "code",
   "execution_count": 38,
   "id": "2fb2a574",
   "metadata": {
    "execution": {
     "iopub.execute_input": "2022-06-01T20:17:21.405426Z",
     "iopub.status.busy": "2022-06-01T20:17:21.404250Z",
     "iopub.status.idle": "2022-06-01T20:17:21.411406Z",
     "shell.execute_reply": "2022-06-01T20:17:21.410331Z"
    },
    "papermill": {
     "duration": 0.051926,
     "end_time": "2022-06-01T20:17:21.420172",
     "exception": false,
     "start_time": "2022-06-01T20:17:21.368246",
     "status": "completed"
    },
    "tags": []
   },
   "outputs": [
    {
     "name": "stdout",
     "output_type": "stream",
     "text": [
      "[22.90520569]\n"
     ]
    }
   ],
   "source": [
    "# input to the signum\n",
    "print(np.sum(lin_out) + bin_clf.intercept_)"
   ]
  },
  {
   "cell_type": "code",
   "execution_count": 39,
   "id": "ceed02bc",
   "metadata": {
    "execution": {
     "iopub.execute_input": "2022-06-01T20:17:21.491499Z",
     "iopub.status.busy": "2022-06-01T20:17:21.490952Z",
     "iopub.status.idle": "2022-06-01T20:17:21.974315Z",
     "shell.execute_reply": "2022-06-01T20:17:21.973297Z"
    },
    "papermill": {
     "duration": 0.520584,
     "end_time": "2022-06-01T20:17:21.976545",
     "exception": false,
     "start_time": "2022-06-01T20:17:21.455961",
     "status": "completed"
    },
    "tags": []
   },
   "outputs": [
    {
     "data": {
      "image/png": "[encoded data removed]",
      "text/plain": [
       "<Figure size 432x288 with 4 Axes>"
      ]
     },
     "metadata": {
      "needs_background": "light"
     },
     "output_type": "display_data"
    }
   ],
   "source": [
    "activation = w*X_train[idx_tn[0]].reshape(1, -1)\n",
    "lin_out = activation.reshape(28, 28)\n",
    "plt.subplot(1, 2, 1)\n",
    "plt.imshow(X_train[idx_tn[0]].reshape(28,28),cmap='gray')\n",
    "plt.colorbar()\n",
    "# lin_out[lin_out<0]=0 # just set the value less than zero to zero\n",
    "plt.subplot(1,2,2)\n",
    "plt.imshow(lin_out,cmap='gray')\n",
    "plt.colorbar()\n",
    "plt.grid(False)\n",
    "plt.axis(False)\n",
    "plt.show()"
   ]
  },
  {
   "cell_type": "code",
   "execution_count": 40,
   "id": "8bc70e83",
   "metadata": {
    "execution": {
     "iopub.execute_input": "2022-06-01T20:17:22.015485Z",
     "iopub.status.busy": "2022-06-01T20:17:22.015062Z",
     "iopub.status.idle": "2022-06-01T20:17:22.020806Z",
     "shell.execute_reply": "2022-06-01T20:17:22.019763Z"
    },
    "papermill": {
     "duration": 0.028811,
     "end_time": "2022-06-01T20:17:22.024130",
     "exception": false,
     "start_time": "2022-06-01T20:17:21.995319",
     "status": "completed"
    },
    "tags": []
   },
   "outputs": [
    {
     "name": "stdout",
     "output_type": "stream",
     "text": [
      "[-293.33960784]\n"
     ]
    }
   ],
   "source": [
    "# input to signum\n",
    "print(np.sum(lin_out) + bin_clf.intercept_)"
   ]
  },
  {
   "cell_type": "code",
   "execution_count": null,
   "id": "720c5b92",
   "metadata": {
    "papermill": {
     "duration": 0.01883,
     "end_time": "2022-06-01T20:17:22.062872",
     "exception": false,
     "start_time": "2022-06-01T20:17:22.044042",
     "status": "completed"
    },
    "tags": []
   },
   "outputs": [],
   "source": []
  }
 ],
 "metadata": {
  "kernelspec": {
   "display_name": "Python 3",
   "language": "python",
   "name": "python3"
  },
  "language_info": {
   "codemirror_mode": {
    "name": "ipython",
    "version": 3
   },
   "file_extension": ".py",
   "mimetype": "text/x-python",
   "name": "python",
   "nbconvert_exporter": "python",
   "pygments_lexer": "ipython3",
   "version": "3.7.12"
  },
  "papermill": {
   "default_parameters": {},
   "duration": 209.513958,
   "end_time": "2022-06-01T20:17:22.803256",
   "environment_variables": {},
   "exception": null,
   "input_path": "__notebook__.ipynb",
   "output_path": "__notebook__.ipynb",
   "parameters": {},
   "start_time": "2022-06-01T20:13:53.289298",
   "version": "2.3.4"
  }
 },
 "nbformat": 4,
 "nbformat_minor": 5
}
