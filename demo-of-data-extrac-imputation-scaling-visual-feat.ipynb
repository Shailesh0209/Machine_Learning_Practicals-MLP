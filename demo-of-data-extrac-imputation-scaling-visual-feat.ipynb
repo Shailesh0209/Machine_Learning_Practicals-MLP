{
 "cells": [
  {
   "cell_type": "code",
   "execution_count": 1,
   "id": "a121df23",
   "metadata": {
    "_cell_guid": "b1076dfc-b9ad-4769-8c92-a6c4dae69d19",
    "_uuid": "8f2839f25d086af736a60e9eeb907d3b93b6e0e5",
    "execution": {
     "iopub.execute_input": "2022-05-17T17:05:13.600434Z",
     "iopub.status.busy": "2022-05-17T17:05:13.600021Z",
     "iopub.status.idle": "2022-05-17T17:05:13.628830Z",
     "shell.execute_reply": "2022-05-17T17:05:13.627657Z"
    },
    "papermill": {
     "duration": 0.244998,
     "end_time": "2022-05-17T17:05:13.633463",
     "exception": false,
     "start_time": "2022-05-17T17:05:13.388465",
     "status": "completed"
    },
    "tags": []
   },
   "outputs": [
    {
     "name": "stdout",
     "output_type": "stream",
     "text": [
      "/kaggle/input/red-wine-quality-cortez-et-al-2009/winequality-red.csv\n",
      "/kaggle/input/heart-disease-cleveland-uci/heart_cleveland_upload.csv\n"
     ]
    }
   ],
   "source": [
    "# This Python 3 environment comes with many helpful analytics libraries installed\n",
    "# It is defined by the kaggle/python Docker image: https://github.com/kaggle/docker-python\n",
    "# For example, here's several helpful packages to load\n",
    "\n",
    "import numpy as np # linear algebra\n",
    "import pandas as pd # data processing, CSV file I/O (e.g. pd.read_csv)\n",
    "\n",
    "# Input data files are available in the read-only \"../input/\" directory\n",
    "# For example, running this (by clicking run or pressing Shift+Enter) will list all files under the input directory\n",
    "\n",
    "import os\n",
    "for dirname, _, filenames in os.walk('/kaggle/input'):\n",
    "    for filename in filenames:\n",
    "        print(os.path.join(dirname, filename))\n",
    "\n",
    "# You can write up to 20GB to the current directory (/kaggle/working/) that gets preserved as output when you create a version using \"Save & Run All\" \n",
    "# You can also write temporary files to /kaggle/temp/, but they won't be saved outside of the current session"
   ]
  },
  {
   "cell_type": "markdown",
   "id": "40f62144",
   "metadata": {
    "papermill": {
     "duration": 0.210307,
     "end_time": "2022-05-17T17:05:14.056340",
     "exception": false,
     "start_time": "2022-05-17T17:05:13.846033",
     "status": "completed"
    },
    "tags": []
   },
   "source": [
    "# Demonstration of Data extraction, imputation, scaling, visualizing feature Distribution\n",
    "\n",
    "week2/lec9-machine-learning-practice-diploma-iitm"
   ]
  },
  {
   "cell_type": "markdown",
   "id": "c6f039b5",
   "metadata": {
    "papermill": {
     "duration": 0.207579,
     "end_time": "2022-05-17T17:05:14.473685",
     "exception": false,
     "start_time": "2022-05-17T17:05:14.266106",
     "status": "completed"
    },
    "tags": []
   },
   "source": [
    "## Importing basic libraries"
   ]
  },
  {
   "cell_type": "code",
   "execution_count": 2,
   "id": "e54ccbcb",
   "metadata": {
    "execution": {
     "iopub.execute_input": "2022-05-17T17:05:14.898993Z",
     "iopub.status.busy": "2022-05-17T17:05:14.898717Z",
     "iopub.status.idle": "2022-05-17T17:05:16.176956Z",
     "shell.execute_reply": "2022-05-17T17:05:16.176145Z"
    },
    "papermill": {
     "duration": 1.495712,
     "end_time": "2022-05-17T17:05:16.179523",
     "exception": false,
     "start_time": "2022-05-17T17:05:14.683811",
     "status": "completed"
    },
    "tags": []
   },
   "outputs": [],
   "source": [
    "import numpy as np\n",
    "import matplotlib.pyplot as plt\n",
    "import pandas as pd\n",
    "import seaborn as sns\n",
    "sns.set_theme(style=\"whitegrid\")"
   ]
  },
  {
   "cell_type": "markdown",
   "id": "2dd9b4bc",
   "metadata": {
    "papermill": {
     "duration": 0.207019,
     "end_time": "2022-05-17T17:05:16.594636",
     "exception": false,
     "start_time": "2022-05-17T17:05:16.387617",
     "status": "completed"
    },
    "tags": []
   },
   "source": [
    "# 1. Feature Extraction"
   ]
  },
  {
   "cell_type": "markdown",
   "id": "ac251a27",
   "metadata": {
    "papermill": {
     "duration": 0.207737,
     "end_time": "2022-05-17T17:05:17.008026",
     "exception": false,
     "start_time": "2022-05-17T17:05:16.800289",
     "status": "completed"
    },
    "tags": []
   },
   "source": [
    "## DictVectorizer\n",
    "\n",
    "DictVectorizer converts a list of dictionary objects to feature matrix"
   ]
  },
  {
   "cell_type": "code",
   "execution_count": 3,
   "id": "87d769d3",
   "metadata": {
    "execution": {
     "iopub.execute_input": "2022-05-17T17:05:17.421816Z",
     "iopub.status.busy": "2022-05-17T17:05:17.421327Z",
     "iopub.status.idle": "2022-05-17T17:05:17.425770Z",
     "shell.execute_reply": "2022-05-17T17:05:17.425188Z"
    },
    "papermill": {
     "duration": 0.21389,
     "end_time": "2022-05-17T17:05:17.427590",
     "exception": false,
     "start_time": "2022-05-17T17:05:17.213700",
     "status": "completed"
    },
    "tags": []
   },
   "outputs": [],
   "source": [
    "data = [{'age': 4, 'height':96.0},\n",
    "        {'age': 1, 'height':73.9},\n",
    "        {'age': 3, 'height':88.9},\n",
    "        {'age': 2, 'height':81.6}]"
   ]
  },
  {
   "cell_type": "markdown",
   "id": "9e131c4c",
   "metadata": {
    "papermill": {
     "duration": 0.206202,
     "end_time": "2022-05-17T17:05:17.840180",
     "exception": false,
     "start_time": "2022-05-17T17:05:17.633978",
     "status": "completed"
    },
    "tags": []
   },
   "source": [
    "Let's make use of DictVectorizer to convert the list of dictionary objects to the feature matrix."
   ]
  },
  {
   "cell_type": "code",
   "execution_count": 4,
   "id": "96adc2c6",
   "metadata": {
    "execution": {
     "iopub.execute_input": "2022-05-17T17:05:18.243136Z",
     "iopub.status.busy": "2022-05-17T17:05:18.242890Z",
     "iopub.status.idle": "2022-05-17T17:05:18.408653Z",
     "shell.execute_reply": "2022-05-17T17:05:18.407657Z"
    },
    "papermill": {
     "duration": 0.364156,
     "end_time": "2022-05-17T17:05:18.410784",
     "exception": false,
     "start_time": "2022-05-17T17:05:18.046628",
     "status": "completed"
    },
    "tags": []
   },
   "outputs": [
    {
     "data": {
      "text/plain": [
       "array([[ 4. , 96. ],\n",
       "       [ 1. , 73.9],\n",
       "       [ 3. , 88.9],\n",
       "       [ 2. , 81.6]])"
      ]
     },
     "execution_count": 4,
     "metadata": {},
     "output_type": "execute_result"
    }
   ],
   "source": [
    "from sklearn.feature_extraction import DictVectorizer\n",
    "dv = DictVectorizer(sparse=False)\n",
    "data_transformed = dv.fit_transform(data)\n",
    "data_transformed"
   ]
  },
  {
   "cell_type": "code",
   "execution_count": 5,
   "id": "0decf092",
   "metadata": {
    "execution": {
     "iopub.execute_input": "2022-05-17T17:05:18.828171Z",
     "iopub.status.busy": "2022-05-17T17:05:18.827414Z",
     "iopub.status.idle": "2022-05-17T17:05:18.834883Z",
     "shell.execute_reply": "2022-05-17T17:05:18.834278Z"
    },
    "papermill": {
     "duration": 0.2199,
     "end_time": "2022-05-17T17:05:18.836705",
     "exception": false,
     "start_time": "2022-05-17T17:05:18.616805",
     "status": "completed"
    },
    "tags": []
   },
   "outputs": [
    {
     "data": {
      "text/plain": [
       "(4, 2)"
      ]
     },
     "execution_count": 5,
     "metadata": {},
     "output_type": "execute_result"
    }
   ],
   "source": [
    "data_transformed.shape"
   ]
  },
  {
   "cell_type": "markdown",
   "id": "27a2e219",
   "metadata": {
    "papermill": {
     "duration": 0.135352,
     "end_time": "2022-05-17T17:05:19.102815",
     "exception": false,
     "start_time": "2022-05-17T17:05:18.967463",
     "status": "completed"
    },
    "tags": []
   },
   "source": [
    "# 2. Data Imputation\n",
    "\n",
    "SkLearn library provides sklearn.impute.SimpleImputer class for this purpose"
   ]
  },
  {
   "cell_type": "code",
   "execution_count": 6,
   "id": "6c152542",
   "metadata": {
    "execution": {
     "iopub.execute_input": "2022-05-17T17:05:19.376333Z",
     "iopub.status.busy": "2022-05-17T17:05:19.375895Z",
     "iopub.status.idle": "2022-05-17T17:05:19.582772Z",
     "shell.execute_reply": "2022-05-17T17:05:19.581597Z"
    },
    "papermill": {
     "duration": 0.347585,
     "end_time": "2022-05-17T17:05:19.584986",
     "exception": false,
     "start_time": "2022-05-17T17:05:19.237401",
     "status": "completed"
    },
    "tags": []
   },
   "outputs": [],
   "source": [
    "from sklearn.impute import SimpleImputer"
   ]
  },
  {
   "cell_type": "markdown",
   "id": "29e890cb",
   "metadata": {
    "papermill": {
     "duration": 0.132788,
     "end_time": "2022-05-17T17:05:19.851272",
     "exception": false,
     "start_time": "2022-05-17T17:05:19.718484",
     "status": "completed"
    },
    "tags": []
   },
   "source": [
    "## Data Imputation on real world dataset"
   ]
  },
  {
   "cell_type": "code",
   "execution_count": 7,
   "id": "c5a456bc",
   "metadata": {
    "execution": {
     "iopub.execute_input": "2022-05-17T17:05:20.122093Z",
     "iopub.status.busy": "2022-05-17T17:05:20.121802Z",
     "iopub.status.idle": "2022-05-17T17:05:20.638348Z",
     "shell.execute_reply": "2022-05-17T17:05:20.637410Z"
    },
    "papermill": {
     "duration": 0.655709,
     "end_time": "2022-05-17T17:05:20.640281",
     "exception": false,
     "start_time": "2022-05-17T17:05:19.984572",
     "status": "completed"
    },
    "tags": []
   },
   "outputs": [],
   "source": [
    "cols = ['age', 'sex', 'cp', 'trestbps', 'chol', \n",
    "        'fbs', 'restecg', 'thalach', 'exang', 'oldpeak',\n",
    "       'slope', 'ca', 'thal', 'num']\n",
    "heart_data = pd.read_csv('https://archive.ics.uci.edu/ml/machine-learning-databases/heart-disease/processed.cleveland.data',\n",
    "                         header=None, names=cols)"
   ]
  },
  {
   "cell_type": "markdown",
   "id": "1f85d3b1",
   "metadata": {
    "papermill": {
     "duration": 0.134823,
     "end_time": "2022-05-17T17:05:20.908086",
     "exception": false,
     "start_time": "2022-05-17T17:05:20.773263",
     "status": "completed"
    },
    "tags": []
   },
   "source": [
    "The dataset has the following features:\n",
    "1. Age(in years)\n",
    "2. Sex (1 = male; 0 = female)\n",
    "3. cp - chest pain type\n",
    "4. trestbps - resting blood pressure (anything above 130-140 is typically cause for concern)\n",
    "5. chol - serum cholestrol in mg/dl (above 200 is cause for concern)\n",
    "6. fbs - fasting blood sugar (> 120 mg/dl) (1 = true; 0 =false)\n",
    "7. restecg - resting electrocardiographic results\n",
    "8. thalach - maximum heart rate achieved\n",
    "9. exang - exercise induced angina\n",
    "    * 1 = yes;\n",
    "    * 0 = no\n",
    "10. oldpeak - depression induced by exercise relative to rest\n",
    "11. slope = slope of the peak exercise ST segment\n",
    "    * 1 = upsloping;\n",
    "    * 2 = flat Value;\n",
    "    * 3 = downsloping\n",
    "12. ca - number of major vessels (0-3) colored by flourosopy\n",
    "13. thal - (3 = normal; 6 = fixed defect; 7 = reversable defect)\n",
    "`Labels`\n",
    "14. num - diagnosis of heart disease (angiographic disease status) \n",
    "    * 0: < 50% diameter narrowing\n",
    "    * 1: > 50% diamete narrowing"
   ]
  },
  {
   "cell_type": "code",
   "execution_count": 8,
   "id": "4f225944",
   "metadata": {
    "execution": {
     "iopub.execute_input": "2022-05-17T17:05:21.180936Z",
     "iopub.status.busy": "2022-05-17T17:05:21.180491Z",
     "iopub.status.idle": "2022-05-17T17:05:21.203406Z",
     "shell.execute_reply": "2022-05-17T17:05:21.202836Z"
    },
    "papermill": {
     "duration": 0.162625,
     "end_time": "2022-05-17T17:05:21.205468",
     "exception": false,
     "start_time": "2022-05-17T17:05:21.042843",
     "status": "completed"
    },
    "tags": []
   },
   "outputs": [
    {
     "name": "stdout",
     "output_type": "stream",
     "text": [
      "<class 'pandas.core.frame.DataFrame'>\n",
      "RangeIndex: 303 entries, 0 to 302\n",
      "Data columns (total 14 columns):\n",
      " #   Column    Non-Null Count  Dtype  \n",
      "---  ------    --------------  -----  \n",
      " 0   age       303 non-null    float64\n",
      " 1   sex       303 non-null    float64\n",
      " 2   cp        303 non-null    float64\n",
      " 3   trestbps  303 non-null    float64\n",
      " 4   chol      303 non-null    float64\n",
      " 5   fbs       303 non-null    float64\n",
      " 6   restecg   303 non-null    float64\n",
      " 7   thalach   303 non-null    float64\n",
      " 8   exang     303 non-null    float64\n",
      " 9   oldpeak   303 non-null    float64\n",
      " 10  slope     303 non-null    float64\n",
      " 11  ca        303 non-null    object \n",
      " 12  thal      303 non-null    object \n",
      " 13  num       303 non-null    int64  \n",
      "dtypes: float64(11), int64(1), object(2)\n",
      "memory usage: 33.3+ KB\n"
     ]
    }
   ],
   "source": [
    "heart_data.info()"
   ]
  },
  {
   "cell_type": "code",
   "execution_count": 9,
   "id": "2abe5067",
   "metadata": {
    "execution": {
     "iopub.execute_input": "2022-05-17T17:05:21.480371Z",
     "iopub.status.busy": "2022-05-17T17:05:21.479924Z",
     "iopub.status.idle": "2022-05-17T17:05:21.487294Z",
     "shell.execute_reply": "2022-05-17T17:05:21.486769Z"
    },
    "papermill": {
     "duration": 0.144566,
     "end_time": "2022-05-17T17:05:21.488637",
     "exception": false,
     "start_time": "2022-05-17T17:05:21.344071",
     "status": "completed"
    },
    "tags": []
   },
   "outputs": [
    {
     "data": {
      "text/plain": [
       "age         0\n",
       "sex         0\n",
       "cp          0\n",
       "trestbps    0\n",
       "chol        0\n",
       "fbs         0\n",
       "restecg     0\n",
       "thalach     0\n",
       "exang       0\n",
       "oldpeak     0\n",
       "slope       0\n",
       "ca          0\n",
       "thal        0\n",
       "num         0\n",
       "dtype: int64"
      ]
     },
     "execution_count": 9,
     "metadata": {},
     "output_type": "execute_result"
    }
   ],
   "source": [
    "(heart_data.isnull().sum())"
   ]
  },
  {
   "cell_type": "markdown",
   "id": "7d21ff63",
   "metadata": {
    "papermill": {
     "duration": 0.136,
     "end_time": "2022-05-17T17:05:21.758836",
     "exception": false,
     "start_time": "2022-05-17T17:05:21.622836",
     "status": "completed"
    },
    "tags": []
   },
   "source": [
    "There are two non-numerical features: `ca` and `thal`\n",
    "\n",
    "    * List their unique values"
   ]
  },
  {
   "cell_type": "code",
   "execution_count": 10,
   "id": "74db0a26",
   "metadata": {
    "execution": {
     "iopub.execute_input": "2022-05-17T17:05:22.027211Z",
     "iopub.status.busy": "2022-05-17T17:05:22.026760Z",
     "iopub.status.idle": "2022-05-17T17:05:22.032311Z",
     "shell.execute_reply": "2022-05-17T17:05:22.031404Z"
    },
    "papermill": {
     "duration": 0.141533,
     "end_time": "2022-05-17T17:05:22.034656",
     "exception": false,
     "start_time": "2022-05-17T17:05:21.893123",
     "status": "completed"
    },
    "tags": []
   },
   "outputs": [
    {
     "name": "stdout",
     "output_type": "stream",
     "text": [
      "Unique values in ca: ['0.0' '3.0' '2.0' '1.0' '?']\n",
      "Unique values n thal: ['6.0' '3.0' '7.0' '?']\n"
     ]
    }
   ],
   "source": [
    "print(\"Unique values in ca:\", heart_data.ca.unique())\n",
    "print(\"Unique values n thal:\", heart_data.thal.unique())"
   ]
  },
  {
   "cell_type": "markdown",
   "id": "8e36dab9",
   "metadata": {
    "papermill": {
     "duration": 0.221504,
     "end_time": "2022-05-17T17:05:22.461326",
     "exception": false,
     "start_time": "2022-05-17T17:05:22.239822",
     "status": "completed"
    },
    "tags": []
   },
   "source": [
    "Both of them contain ?, which is a missing values. Let's count the number of missing values."
   ]
  },
  {
   "cell_type": "code",
   "execution_count": 11,
   "id": "063aeec2",
   "metadata": {
    "execution": {
     "iopub.execute_input": "2022-05-17T17:05:22.886727Z",
     "iopub.status.busy": "2022-05-17T17:05:22.886450Z",
     "iopub.status.idle": "2022-05-17T17:05:22.893663Z",
     "shell.execute_reply": "2022-05-17T17:05:22.892818Z"
    },
    "papermill": {
     "duration": 0.219827,
     "end_time": "2022-05-17T17:05:22.895395",
     "exception": false,
     "start_time": "2022-05-17T17:05:22.675568",
     "status": "completed"
    },
    "tags": []
   },
   "outputs": [
    {
     "name": "stdout",
     "output_type": "stream",
     "text": [
      "# minssing values in ca: 4\n",
      "# missing values in thal: 2\n"
     ]
    }
   ],
   "source": [
    "print(\"# minssing values in ca:\", \n",
    "     heart_data.loc[heart_data.ca == '?', 'ca'].count())\n",
    "print(\"# missing values in thal:\",\n",
    "     heart_data.loc[heart_data.thal == '?', 'thal'].count())"
   ]
  },
  {
   "cell_type": "markdown",
   "id": "26801f93",
   "metadata": {
    "papermill": {
     "duration": 0.197248,
     "end_time": "2022-05-17T17:05:23.300074",
     "exception": false,
     "start_time": "2022-05-17T17:05:23.102826",
     "status": "completed"
    },
    "tags": []
   },
   "source": [
    "### STEP 2: Replace '?' with nan."
   ]
  },
  {
   "cell_type": "code",
   "execution_count": 12,
   "id": "a19171d9",
   "metadata": {
    "execution": {
     "iopub.execute_input": "2022-05-17T17:05:23.665500Z",
     "iopub.status.busy": "2022-05-17T17:05:23.665237Z",
     "iopub.status.idle": "2022-05-17T17:05:23.669819Z",
     "shell.execute_reply": "2022-05-17T17:05:23.669059Z"
    },
    "papermill": {
     "duration": 0.217077,
     "end_time": "2022-05-17T17:05:23.671271",
     "exception": false,
     "start_time": "2022-05-17T17:05:23.454194",
     "status": "completed"
    },
    "tags": []
   },
   "outputs": [],
   "source": [
    "heart_data.replace('?', np.nan, inplace=True)"
   ]
  },
  {
   "cell_type": "markdown",
   "id": "c32f88c1",
   "metadata": {
    "papermill": {
     "duration": 0.136079,
     "end_time": "2022-05-17T17:05:23.944344",
     "exception": false,
     "start_time": "2022-05-17T17:05:23.808265",
     "status": "completed"
    },
    "tags": []
   },
   "source": [
    "### Step3: Fill missing values with sklearn missing value imputation utilities\n",
    "\n",
    "Here, we use SimpleImputer with mean strategy.\n",
    "\n",
    "We will try to variations-\n",
    "    * add_indicator = False: Default choice that only imputes missing values"
   ]
  },
  {
   "cell_type": "code",
   "execution_count": 13,
   "id": "9bc0a517",
   "metadata": {
    "execution": {
     "iopub.execute_input": "2022-05-17T17:05:24.235900Z",
     "iopub.status.busy": "2022-05-17T17:05:24.225663Z",
     "iopub.status.idle": "2022-05-17T17:05:24.249593Z",
     "shell.execute_reply": "2022-05-17T17:05:24.248760Z"
    },
    "papermill": {
     "duration": 0.170259,
     "end_time": "2022-05-17T17:05:24.251155",
     "exception": false,
     "start_time": "2022-05-17T17:05:24.080896",
     "status": "completed"
    },
    "tags": []
   },
   "outputs": [
    {
     "name": "stdout",
     "output_type": "stream",
     "text": [
      "(303, 14)\n"
     ]
    }
   ],
   "source": [
    "imputer = SimpleImputer(missing_values = np.nan, strategy='mean')\n",
    "imputer = imputer.fit(heart_data)\n",
    "heart_data_imputed = imputer.transform(heart_data)\n",
    "print(heart_data_imputed.shape)"
   ]
  },
  {
   "cell_type": "markdown",
   "id": "0e2d77dd",
   "metadata": {
    "papermill": {
     "duration": 0.139922,
     "end_time": "2022-05-17T17:05:24.545016",
     "exception": false,
     "start_time": "2022-05-17T17:05:24.405094",
     "status": "completed"
    },
    "tags": []
   },
   "source": [
    "- add_indicator = True: Adds additional column for each column containing missing values. In our case, thsi adds two columns one for ca and other for thal. It indicates if the sample has a missing value."
   ]
  },
  {
   "cell_type": "code",
   "execution_count": 14,
   "id": "687fe816",
   "metadata": {
    "execution": {
     "iopub.execute_input": "2022-05-17T17:05:24.910120Z",
     "iopub.status.busy": "2022-05-17T17:05:24.909842Z",
     "iopub.status.idle": "2022-05-17T17:05:24.923042Z",
     "shell.execute_reply": "2022-05-17T17:05:24.922430Z"
    },
    "papermill": {
     "duration": 0.229495,
     "end_time": "2022-05-17T17:05:24.924929",
     "exception": false,
     "start_time": "2022-05-17T17:05:24.695434",
     "status": "completed"
    },
    "tags": []
   },
   "outputs": [
    {
     "name": "stdout",
     "output_type": "stream",
     "text": [
      "(303, 16)\n"
     ]
    }
   ],
   "source": [
    "imputer = SimpleImputer(missing_values = np.nan,\n",
    "                        strategy='mean', add_indicator=True)\n",
    "imputer = imputer.fit(heart_data)\n",
    "heart_data_imputed_with_indicator = imputer.transform(heart_data)\n",
    "print(heart_data_imputed_with_indicator.shape)"
   ]
  },
  {
   "cell_type": "markdown",
   "id": "4bcc29c5",
   "metadata": {
    "papermill": {
     "duration": 0.207037,
     "end_time": "2022-05-17T17:05:25.332894",
     "exception": false,
     "start_time": "2022-05-17T17:05:25.125857",
     "status": "completed"
    },
    "tags": []
   },
   "source": [
    "# 3. Feature Scaling"
   ]
  },
  {
   "cell_type": "markdown",
   "id": "8b80c81a",
   "metadata": {
    "papermill": {
     "duration": 0.208181,
     "end_time": "2022-05-17T17:05:25.750551",
     "exception": false,
     "start_time": "2022-05-17T17:05:25.542370",
     "status": "completed"
    },
    "tags": []
   },
   "source": [
    "Tree based ML algorithms are not affected by feature-scaling. In other words, feature scaling is not required for tree based ML algorithms.\n",
    "\n",
    "Feature scaling can be performed with the following methods:\n",
    "- Standardization\n",
    "- Normalization\n",
    "- MaxAbsScaler"
   ]
  },
  {
   "cell_type": "markdown",
   "id": "526604c0",
   "metadata": {
    "papermill": {
     "duration": 0.209196,
     "end_time": "2022-05-17T17:05:26.170820",
     "exception": false,
     "start_time": "2022-05-17T17:05:25.961624",
     "status": "completed"
    },
    "tags": []
   },
   "source": [
    "Let's demonstrate feature scaling on a real world dataset. For this purpose we will be using `ablone dataaset`. We wil use different scaling utilities in sklearn library."
   ]
  },
  {
   "cell_type": "code",
   "execution_count": 15,
   "id": "0540baf4",
   "metadata": {
    "execution": {
     "iopub.execute_input": "2022-05-17T17:05:26.492531Z",
     "iopub.status.busy": "2022-05-17T17:05:26.492265Z",
     "iopub.status.idle": "2022-05-17T17:05:27.047844Z",
     "shell.execute_reply": "2022-05-17T17:05:27.046564Z"
    },
    "papermill": {
     "duration": 0.694628,
     "end_time": "2022-05-17T17:05:27.049923",
     "exception": false,
     "start_time": "2022-05-17T17:05:26.355295",
     "status": "completed"
    },
    "tags": []
   },
   "outputs": [],
   "source": [
    "cols = ['Sex', 'Length', 'Diameter', 'Height', 'Whole weight', 'Shucked weight', \n",
    "       'Viscera weight', 'Shell weight', 'Rings']\n",
    "abalone_data = pd.read_csv('https://archive.ics.uci.edu/ml/machine-learning-databases/abalone/abalone.data', header=None, names=cols)"
   ]
  },
  {
   "cell_type": "markdown",
   "id": "3e242d08",
   "metadata": {
    "papermill": {
     "duration": 0.141003,
     "end_time": "2022-05-17T17:05:27.331158",
     "exception": false,
     "start_time": "2022-05-17T17:05:27.190155",
     "status": "completed"
    },
    "tags": []
   },
   "source": [
    "**Abalone is an edible snell.** data is collected, in order to estimate their age based on their physical characteristic."
   ]
  },
  {
   "cell_type": "markdown",
   "id": "c60d4ea0",
   "metadata": {
    "papermill": {
     "duration": 0.134433,
     "end_time": "2022-05-17T17:05:27.601466",
     "exception": false,
     "start_time": "2022-05-17T17:05:27.467033",
     "status": "completed"
    },
    "tags": []
   },
   "source": [
    "`Abalone dataset` has the following columns\n",
    "1. sex-nominal(M, F, and I(infant))\n",
    "2. Length (mm-Longest shell measurement)\n",
    "3. Diameter (mm - perpendicular to length)\n",
    "4. height (mm - with meat in shell)\n",
    "5. Whole weight (grams  - whole abalone)\n",
    "6. Shucked weight (grams - weight of meat)\n",
    "7. Viscera weight ("
   ]
  },
  {
   "cell_type": "markdown",
   "id": "562704b5",
   "metadata": {
    "papermill": {
     "duration": 0.136087,
     "end_time": "2022-05-17T17:05:27.871802",
     "exception": false,
     "start_time": "2022-05-17T17:05:27.735715",
     "status": "completed"
    },
    "tags": []
   },
   "source": [
    "**Step1:** Examine the dataset\n",
    "\n",
    "Feature scaling is performed only on numerical attributes. Let's check which are numerical attributes in this dataset. WE can get that via info() method."
   ]
  },
  {
   "cell_type": "code",
   "execution_count": 16,
   "id": "6a6cf2da",
   "metadata": {
    "execution": {
     "iopub.execute_input": "2022-05-17T17:05:28.143073Z",
     "iopub.status.busy": "2022-05-17T17:05:28.142586Z",
     "iopub.status.idle": "2022-05-17T17:05:28.155294Z",
     "shell.execute_reply": "2022-05-17T17:05:28.153924Z"
    },
    "papermill": {
     "duration": 0.151934,
     "end_time": "2022-05-17T17:05:28.158499",
     "exception": false,
     "start_time": "2022-05-17T17:05:28.006565",
     "status": "completed"
    },
    "tags": []
   },
   "outputs": [
    {
     "name": "stdout",
     "output_type": "stream",
     "text": [
      "<class 'pandas.core.frame.DataFrame'>\n",
      "RangeIndex: 4177 entries, 0 to 4176\n",
      "Data columns (total 9 columns):\n",
      " #   Column          Non-Null Count  Dtype  \n",
      "---  ------          --------------  -----  \n",
      " 0   Sex             4177 non-null   object \n",
      " 1   Length          4177 non-null   float64\n",
      " 2   Diameter        4177 non-null   float64\n",
      " 3   Height          4177 non-null   float64\n",
      " 4   Whole weight    4177 non-null   float64\n",
      " 5   Shucked weight  4177 non-null   float64\n",
      " 6   Viscera weight  4177 non-null   float64\n",
      " 7   Shell weight    4177 non-null   float64\n",
      " 8   Rings           4177 non-null   int64  \n",
      "dtypes: float64(7), int64(1), object(1)\n",
      "memory usage: 293.8+ KB\n"
     ]
    }
   ],
   "source": [
    "abalone_data.info()"
   ]
  },
  {
   "cell_type": "markdown",
   "id": "e4a95273",
   "metadata": {
    "papermill": {
     "duration": 0.213615,
     "end_time": "2022-05-17T17:05:28.580055",
     "exception": false,
     "start_time": "2022-05-17T17:05:28.366440",
     "status": "completed"
    },
    "tags": []
   },
   "source": [
    "**STEp1a:** [optional]: convert non-numerical attributes to numerical ones.\n",
    "\n",
    "In this dataset, sex is a non-numeric columns in this dataset. Let's examine it and see if we can convert it to numeric representation."
   ]
  },
  {
   "cell_type": "code",
   "execution_count": 17,
   "id": "3988545f",
   "metadata": {
    "execution": {
     "iopub.execute_input": "2022-05-17T17:05:29.005757Z",
     "iopub.status.busy": "2022-05-17T17:05:29.005348Z",
     "iopub.status.idle": "2022-05-17T17:05:29.011497Z",
     "shell.execute_reply": "2022-05-17T17:05:29.010579Z"
    },
    "papermill": {
     "duration": 0.221326,
     "end_time": "2022-05-17T17:05:29.013318",
     "exception": false,
     "start_time": "2022-05-17T17:05:28.791992",
     "status": "completed"
    },
    "tags": []
   },
   "outputs": [
    {
     "data": {
      "text/plain": [
       "array(['M', 'F', 'I'], dtype=object)"
      ]
     },
     "execution_count": 17,
     "metadata": {},
     "output_type": "execute_result"
    }
   ],
   "source": [
    "abalone_data.Sex.unique()"
   ]
  },
  {
   "cell_type": "code",
   "execution_count": 18,
   "id": "a589200c",
   "metadata": {
    "execution": {
     "iopub.execute_input": "2022-05-17T17:05:29.438244Z",
     "iopub.status.busy": "2022-05-17T17:05:29.437964Z",
     "iopub.status.idle": "2022-05-17T17:05:29.455585Z",
     "shell.execute_reply": "2022-05-17T17:05:29.454339Z"
    },
    "papermill": {
     "duration": 0.2349,
     "end_time": "2022-05-17T17:05:29.458580",
     "exception": false,
     "start_time": "2022-05-17T17:05:29.223680",
     "status": "completed"
    },
    "tags": []
   },
   "outputs": [
    {
     "name": "stdout",
     "output_type": "stream",
     "text": [
      "<class 'pandas.core.frame.DataFrame'>\n",
      "RangeIndex: 4177 entries, 0 to 4176\n",
      "Data columns (total 9 columns):\n",
      " #   Column          Non-Null Count  Dtype  \n",
      "---  ------          --------------  -----  \n",
      " 0   Sex             4177 non-null   int64  \n",
      " 1   Length          4177 non-null   float64\n",
      " 2   Diameter        4177 non-null   float64\n",
      " 3   Height          4177 non-null   float64\n",
      " 4   Whole weight    4177 non-null   float64\n",
      " 5   Shucked weight  4177 non-null   float64\n",
      " 6   Viscera weight  4177 non-null   float64\n",
      " 7   Shell weight    4177 non-null   float64\n",
      " 8   Rings           4177 non-null   int64  \n",
      "dtypes: float64(7), int64(2)\n",
      "memory usage: 293.8 KB\n"
     ]
    }
   ],
   "source": [
    "# Assign numerical value to sex.\n",
    "abalone_data = abalone_data.replace({\"Sex\": {\"M\":1,\"F\":2, \"I\":3}})\n",
    "abalone_data.info()"
   ]
  },
  {
   "cell_type": "markdown",
   "id": "7a14ad40",
   "metadata": {
    "papermill": {
     "duration": 0.212185,
     "end_time": "2022-05-17T17:05:29.882731",
     "exception": false,
     "start_time": "2022-05-17T17:05:29.670546",
     "status": "completed"
    },
    "tags": []
   },
   "source": [
    "### Step2: Separate labels from features."
   ]
  },
  {
   "cell_type": "code",
   "execution_count": 19,
   "id": "52e76300",
   "metadata": {
    "execution": {
     "iopub.execute_input": "2022-05-17T17:05:30.308390Z",
     "iopub.status.busy": "2022-05-17T17:05:30.307992Z",
     "iopub.status.idle": "2022-05-17T17:05:30.318975Z",
     "shell.execute_reply": "2022-05-17T17:05:30.318437Z"
    },
    "papermill": {
     "duration": 0.225701,
     "end_time": "2022-05-17T17:05:30.321061",
     "exception": false,
     "start_time": "2022-05-17T17:05:30.095360",
     "status": "completed"
    },
    "tags": []
   },
   "outputs": [
    {
     "name": "stdout",
     "output_type": "stream",
     "text": [
      "The DataFrame object after deleting the column\n",
      "<class 'pandas.core.frame.DataFrame'>\n",
      "RangeIndex: 4177 entries, 0 to 4176\n",
      "Data columns (total 8 columns):\n",
      " #   Column          Non-Null Count  Dtype  \n",
      "---  ------          --------------  -----  \n",
      " 0   Sex             4177 non-null   int64  \n",
      " 1   Length          4177 non-null   float64\n",
      " 2   Diameter        4177 non-null   float64\n",
      " 3   Height          4177 non-null   float64\n",
      " 4   Whole weight    4177 non-null   float64\n",
      " 5   Shucked weight  4177 non-null   float64\n",
      " 6   Viscera weight  4177 non-null   float64\n",
      " 7   Shell weight    4177 non-null   float64\n",
      "dtypes: float64(7), int64(1)\n",
      "memory usage: 261.2 KB\n"
     ]
    }
   ],
   "source": [
    "y = abalone_data.pop(\"Rings\")\n",
    "print(\"The DataFrame object after deleting the column\")\n",
    "abalone_data.info()"
   ]
  },
  {
   "cell_type": "markdown",
   "id": "107ea251",
   "metadata": {
    "papermill": {
     "duration": 0.212753,
     "end_time": "2022-05-17T17:05:30.746681",
     "exception": false,
     "start_time": "2022-05-17T17:05:30.533928",
     "status": "completed"
    },
    "tags": []
   },
   "source": [
    "##### STEp 3: Examine feature scales"
   ]
  },
  {
   "cell_type": "markdown",
   "id": "6b1f9de5",
   "metadata": {
    "papermill": {
     "duration": 0.208128,
     "end_time": "2022-05-17T17:05:31.168440",
     "exception": false,
     "start_time": "2022-05-17T17:05:30.960312",
     "status": "completed"
    },
    "tags": []
   },
   "source": [
    "### Statistical method\n",
    "\n",
    "Check the scale so different feature with describe() method of dataframe."
   ]
  },
  {
   "cell_type": "code",
   "execution_count": 20,
   "id": "44e80f0a",
   "metadata": {
    "execution": {
     "iopub.execute_input": "2022-05-17T17:05:31.593774Z",
     "iopub.status.busy": "2022-05-17T17:05:31.593160Z",
     "iopub.status.idle": "2022-05-17T17:05:31.639004Z",
     "shell.execute_reply": "2022-05-17T17:05:31.638320Z"
    },
    "papermill": {
     "duration": 0.262535,
     "end_time": "2022-05-17T17:05:31.641233",
     "exception": false,
     "start_time": "2022-05-17T17:05:31.378698",
     "status": "completed"
    },
    "tags": []
   },
   "outputs": [
    {
     "data": {
      "text/html": [
       "<div>\n",
       "<style scoped>\n",
       "    .dataframe tbody tr th:only-of-type {\n",
       "        vertical-align: middle;\n",
       "    }\n",
       "\n",
       "    .dataframe tbody tr th {\n",
       "        vertical-align: top;\n",
       "    }\n",
       "\n",
       "    .dataframe thead th {\n",
       "        text-align: right;\n",
       "    }\n",
       "</style>\n",
       "<table border=\"1\" class=\"dataframe\">\n",
       "  <thead>\n",
       "    <tr style=\"text-align: right;\">\n",
       "      <th></th>\n",
       "      <th>count</th>\n",
       "      <th>mean</th>\n",
       "      <th>std</th>\n",
       "      <th>min</th>\n",
       "      <th>25%</th>\n",
       "      <th>50%</th>\n",
       "      <th>75%</th>\n",
       "      <th>max</th>\n",
       "    </tr>\n",
       "  </thead>\n",
       "  <tbody>\n",
       "    <tr>\n",
       "      <th>Sex</th>\n",
       "      <td>4177.0</td>\n",
       "      <td>1.955470</td>\n",
       "      <td>0.827815</td>\n",
       "      <td>1.0000</td>\n",
       "      <td>1.0000</td>\n",
       "      <td>2.0000</td>\n",
       "      <td>3.000</td>\n",
       "      <td>3.0000</td>\n",
       "    </tr>\n",
       "    <tr>\n",
       "      <th>Length</th>\n",
       "      <td>4177.0</td>\n",
       "      <td>0.523992</td>\n",
       "      <td>0.120093</td>\n",
       "      <td>0.0750</td>\n",
       "      <td>0.4500</td>\n",
       "      <td>0.5450</td>\n",
       "      <td>0.615</td>\n",
       "      <td>0.8150</td>\n",
       "    </tr>\n",
       "    <tr>\n",
       "      <th>Diameter</th>\n",
       "      <td>4177.0</td>\n",
       "      <td>0.407881</td>\n",
       "      <td>0.099240</td>\n",
       "      <td>0.0550</td>\n",
       "      <td>0.3500</td>\n",
       "      <td>0.4250</td>\n",
       "      <td>0.480</td>\n",
       "      <td>0.6500</td>\n",
       "    </tr>\n",
       "    <tr>\n",
       "      <th>Height</th>\n",
       "      <td>4177.0</td>\n",
       "      <td>0.139516</td>\n",
       "      <td>0.041827</td>\n",
       "      <td>0.0000</td>\n",
       "      <td>0.1150</td>\n",
       "      <td>0.1400</td>\n",
       "      <td>0.165</td>\n",
       "      <td>1.1300</td>\n",
       "    </tr>\n",
       "    <tr>\n",
       "      <th>Whole weight</th>\n",
       "      <td>4177.0</td>\n",
       "      <td>0.828742</td>\n",
       "      <td>0.490389</td>\n",
       "      <td>0.0020</td>\n",
       "      <td>0.4415</td>\n",
       "      <td>0.7995</td>\n",
       "      <td>1.153</td>\n",
       "      <td>2.8255</td>\n",
       "    </tr>\n",
       "    <tr>\n",
       "      <th>Shucked weight</th>\n",
       "      <td>4177.0</td>\n",
       "      <td>0.359367</td>\n",
       "      <td>0.221963</td>\n",
       "      <td>0.0010</td>\n",
       "      <td>0.1860</td>\n",
       "      <td>0.3360</td>\n",
       "      <td>0.502</td>\n",
       "      <td>1.4880</td>\n",
       "    </tr>\n",
       "    <tr>\n",
       "      <th>Viscera weight</th>\n",
       "      <td>4177.0</td>\n",
       "      <td>0.180594</td>\n",
       "      <td>0.109614</td>\n",
       "      <td>0.0005</td>\n",
       "      <td>0.0935</td>\n",
       "      <td>0.1710</td>\n",
       "      <td>0.253</td>\n",
       "      <td>0.7600</td>\n",
       "    </tr>\n",
       "    <tr>\n",
       "      <th>Shell weight</th>\n",
       "      <td>4177.0</td>\n",
       "      <td>0.238831</td>\n",
       "      <td>0.139203</td>\n",
       "      <td>0.0015</td>\n",
       "      <td>0.1300</td>\n",
       "      <td>0.2340</td>\n",
       "      <td>0.329</td>\n",
       "      <td>1.0050</td>\n",
       "    </tr>\n",
       "  </tbody>\n",
       "</table>\n",
       "</div>"
      ],
      "text/plain": [
       "                 count      mean       std     min     25%     50%    75%  \\\n",
       "Sex             4177.0  1.955470  0.827815  1.0000  1.0000  2.0000  3.000   \n",
       "Length          4177.0  0.523992  0.120093  0.0750  0.4500  0.5450  0.615   \n",
       "Diameter        4177.0  0.407881  0.099240  0.0550  0.3500  0.4250  0.480   \n",
       "Height          4177.0  0.139516  0.041827  0.0000  0.1150  0.1400  0.165   \n",
       "Whole weight    4177.0  0.828742  0.490389  0.0020  0.4415  0.7995  1.153   \n",
       "Shucked weight  4177.0  0.359367  0.221963  0.0010  0.1860  0.3360  0.502   \n",
       "Viscera weight  4177.0  0.180594  0.109614  0.0005  0.0935  0.1710  0.253   \n",
       "Shell weight    4177.0  0.238831  0.139203  0.0015  0.1300  0.2340  0.329   \n",
       "\n",
       "                   max  \n",
       "Sex             3.0000  \n",
       "Length          0.8150  \n",
       "Diameter        0.6500  \n",
       "Height          1.1300  \n",
       "Whole weight    2.8255  \n",
       "Shucked weight  1.4880  \n",
       "Viscera weight  0.7600  \n",
       "Shell weight    1.0050  "
      ]
     },
     "execution_count": 20,
     "metadata": {},
     "output_type": "execute_result"
    }
   ],
   "source": [
    "abalone_data.describe().T"
   ]
  },
  {
   "cell_type": "markdown",
   "id": "2a1da53d",
   "metadata": {
    "papermill": {
     "duration": 0.214311,
     "end_time": "2022-05-17T17:05:32.075803",
     "exception": false,
     "start_time": "2022-05-17T17:05:31.861492",
     "status": "completed"
    },
    "tags": []
   },
   "source": [
    "Note that\n",
    "    - There are 4177 examples or rows in this dataset.\n",
    "    - The mean and std. dev. of features are quite different from one another.\n",
    "    \n",
    "- We can confirm that with a variety fo visualization techinques and plots."
   ]
  },
  {
   "cell_type": "markdown",
   "id": "44b7bb18",
   "metadata": {
    "papermill": {
     "duration": 0.21732,
     "end_time": "2022-05-17T17:05:32.508232",
     "exception": false,
     "start_time": "2022-05-17T17:05:32.290912",
     "status": "completed"
    },
    "tags": []
   },
   "source": [
    "### Visualization of feature distributions\n",
    "\n",
    "Visualize feature distributions\n",
    "\n",
    "    - Histogram \n",
    "    - Kernel density estimation (KDE) plot\n",
    "    - Box\n",
    "    - Violin"
   ]
  },
  {
   "cell_type": "markdown",
   "id": "95c02296",
   "metadata": {
    "papermill": {
     "duration": 0.213351,
     "end_time": "2022-05-17T17:05:32.936252",
     "exception": false,
     "start_time": "2022-05-17T17:05:32.722901",
     "status": "completed"
    },
    "tags": []
   },
   "source": [
    "Histogram"
   ]
  },
  {
   "cell_type": "code",
   "execution_count": 21,
   "id": "85f657a3",
   "metadata": {
    "execution": {
     "iopub.execute_input": "2022-05-17T17:05:33.368257Z",
     "iopub.status.busy": "2022-05-17T17:05:33.367990Z",
     "iopub.status.idle": "2022-05-17T17:05:33.759698Z",
     "shell.execute_reply": "2022-05-17T17:05:33.758675Z"
    },
    "papermill": {
     "duration": 0.611526,
     "end_time": "2022-05-17T17:05:33.761617",
     "exception": false,
     "start_time": "2022-05-17T17:05:33.150091",
     "status": "completed"
    },
    "tags": []
   },
   "outputs": [
    {
     "data": {
      "text/plain": [
       "<AxesSubplot:xlabel='Sex', ylabel='Count'>"
      ]
     },
     "execution_count": 21,
     "metadata": {},
     "output_type": "execute_result"
    },
    {
     "data": {
      "image/png": "[encoded data removed]",
      "text/plain": [
       "<Figure size 432x288 with 1 Axes>"
      ]
     },
     "metadata": {},
     "output_type": "display_data"
    }
   ],
   "source": [
    "import seaborn as sns\n",
    "sns.histplot(data=abalone_data, x='Sex')\n",
    "sns.histplot(data=abalone_data, x='Shucked weight')"
   ]
  },
  {
   "cell_type": "code",
   "execution_count": 22,
   "id": "5a2c2b23",
   "metadata": {
    "execution": {
     "iopub.execute_input": "2022-05-17T17:05:34.046998Z",
     "iopub.status.busy": "2022-05-17T17:05:34.046167Z",
     "iopub.status.idle": "2022-05-17T17:05:34.506424Z",
     "shell.execute_reply": "2022-05-17T17:05:34.505331Z"
    },
    "papermill": {
     "duration": 0.605724,
     "end_time": "2022-05-17T17:05:34.508803",
     "exception": false,
     "start_time": "2022-05-17T17:05:33.903079",
     "status": "completed"
    },
    "tags": []
   },
   "outputs": [
    {
     "data": {
      "image/png": "[encoded data removed]",
      "text/plain": [
       "<Figure size 432x288 with 1 Axes>"
      ]
     },
     "metadata": {},
     "output_type": "display_data"
    }
   ],
   "source": [
    "ax = abalone_data.plot.hist()"
   ]
  },
  {
   "cell_type": "markdown",
   "id": "7fc02704",
   "metadata": {
    "papermill": {
     "duration": 0.140383,
     "end_time": "2022-05-17T17:05:34.787903",
     "exception": false,
     "start_time": "2022-05-17T17:05:34.647520",
     "status": "completed"
    },
    "tags": []
   },
   "source": [
    "KDE plot"
   ]
  },
  {
   "cell_type": "code",
   "execution_count": 23,
   "id": "cd382193",
   "metadata": {
    "execution": {
     "iopub.execute_input": "2022-05-17T17:05:35.067404Z",
     "iopub.status.busy": "2022-05-17T17:05:35.067101Z",
     "iopub.status.idle": "2022-05-17T17:05:36.546514Z",
     "shell.execute_reply": "2022-05-17T17:05:36.545452Z"
    },
    "papermill": {
     "duration": 1.620845,
     "end_time": "2022-05-17T17:05:36.548056",
     "exception": false,
     "start_time": "2022-05-17T17:05:34.927211",
     "status": "completed"
    },
    "tags": []
   },
   "outputs": [
    {
     "data": {
      "image/png": "[encoded data removed]",
      "text/plain": [
       "<Figure size 432x288 with 1 Axes>"
      ]
     },
     "metadata": {},
     "output_type": "display_data"
    }
   ],
   "source": [
    "#@title [KDE plots - combined]\n",
    "ax = abalone_data.plot.kde()"
   ]
  },
  {
   "cell_type": "code",
   "execution_count": 24,
   "id": "77ee4d15",
   "metadata": {
    "execution": {
     "iopub.execute_input": "2022-05-17T17:05:36.831148Z",
     "iopub.status.busy": "2022-05-17T17:05:36.830886Z",
     "iopub.status.idle": "2022-05-17T17:05:37.095735Z",
     "shell.execute_reply": "2022-05-17T17:05:37.094655Z"
    },
    "papermill": {
     "duration": 0.411568,
     "end_time": "2022-05-17T17:05:37.097360",
     "exception": false,
     "start_time": "2022-05-17T17:05:36.685792",
     "status": "completed"
    },
    "tags": []
   },
   "outputs": [
    {
     "data": {
      "image/png": "[encoded data removed]",
      "text/plain": [
       "<Figure size 432x288 with 1 Axes>"
      ]
     },
     "metadata": {},
     "output_type": "display_data"
    }
   ],
   "source": [
    "ax = abalone_data.plot.box()"
   ]
  },
  {
   "cell_type": "code",
   "execution_count": 25,
   "id": "e3bca754",
   "metadata": {
    "execution": {
     "iopub.execute_input": "2022-05-17T17:05:37.382005Z",
     "iopub.status.busy": "2022-05-17T17:05:37.381723Z",
     "iopub.status.idle": "2022-05-17T17:05:37.386218Z",
     "shell.execute_reply": "2022-05-17T17:05:37.384875Z"
    },
    "papermill": {
     "duration": 0.150015,
     "end_time": "2022-05-17T17:05:37.388656",
     "exception": false,
     "start_time": "2022-05-17T17:05:37.238641",
     "status": "completed"
    },
    "tags": []
   },
   "outputs": [],
   "source": [
    "#ax = abalone_data.plot.violin()"
   ]
  },
  {
   "cell_type": "markdown",
   "id": "2ed5ce9e",
   "metadata": {
    "papermill": {
     "duration": 0.218449,
     "end_time": "2022-05-17T17:05:37.823577",
     "exception": false,
     "start_time": "2022-05-17T17:05:37.605128",
     "status": "completed"
    },
    "tags": []
   },
   "source": [
    "# Step4: Scaling"
   ]
  },
  {
   "cell_type": "code",
   "execution_count": 26,
   "id": "e80afc03",
   "metadata": {
    "execution": {
     "iopub.execute_input": "2022-05-17T17:05:38.262594Z",
     "iopub.status.busy": "2022-05-17T17:05:38.261114Z",
     "iopub.status.idle": "2022-05-17T17:05:38.267486Z",
     "shell.execute_reply": "2022-05-17T17:05:38.266728Z"
    },
    "papermill": {
     "duration": 0.228469,
     "end_time": "2022-05-17T17:05:38.269999",
     "exception": false,
     "start_time": "2022-05-17T17:05:38.041530",
     "status": "completed"
    },
    "tags": []
   },
   "outputs": [
    {
     "name": "stdout",
     "output_type": "stream",
     "text": [
      "[[   4]\n",
      " [   2]\n",
      " [   5]\n",
      " [  -2]\n",
      " [-100]]\n"
     ]
    }
   ],
   "source": [
    "x = np.array([4, 2, 5, -2, -100]).reshape(-1, 1)\n",
    "print(x)"
   ]
  },
  {
   "cell_type": "code",
   "execution_count": 27,
   "id": "027789ae",
   "metadata": {
    "execution": {
     "iopub.execute_input": "2022-05-17T17:05:38.710636Z",
     "iopub.status.busy": "2022-05-17T17:05:38.710338Z",
     "iopub.status.idle": "2022-05-17T17:05:38.716757Z",
     "shell.execute_reply": "2022-05-17T17:05:38.715776Z"
    },
    "papermill": {
     "duration": 0.229057,
     "end_time": "2022-05-17T17:05:38.719023",
     "exception": false,
     "start_time": "2022-05-17T17:05:38.489966",
     "status": "completed"
    },
    "tags": []
   },
   "outputs": [
    {
     "name": "stdout",
     "output_type": "stream",
     "text": [
      "[[ 0.04]\n",
      " [ 0.02]\n",
      " [ 0.05]\n",
      " [-0.02]\n",
      " [-1.  ]]\n"
     ]
    }
   ],
   "source": [
    "from sklearn.preprocessing import MaxAbsScaler\n",
    "\n",
    "mas = MaxAbsScaler()\n",
    "x_new = mas.fit_transform(x)\n",
    "print(x_new)"
   ]
  },
  {
   "cell_type": "markdown",
   "id": "4a68208e",
   "metadata": {
    "papermill": {
     "duration": 0.217204,
     "end_time": "2022-05-17T17:05:39.152066",
     "exception": false,
     "start_time": "2022-05-17T17:05:38.934862",
     "status": "completed"
    },
    "tags": []
   },
   "source": [
    "### MinMaxScalre"
   ]
  },
  {
   "cell_type": "code",
   "execution_count": 28,
   "id": "e00f96cf",
   "metadata": {
    "execution": {
     "iopub.execute_input": "2022-05-17T17:05:39.586496Z",
     "iopub.status.busy": "2022-05-17T17:05:39.586040Z",
     "iopub.status.idle": "2022-05-17T17:05:39.596622Z",
     "shell.execute_reply": "2022-05-17T17:05:39.595951Z"
    },
    "papermill": {
     "duration": 0.231318,
     "end_time": "2022-05-17T17:05:39.598449",
     "exception": false,
     "start_time": "2022-05-17T17:05:39.367131",
     "status": "completed"
    },
    "tags": []
   },
   "outputs": [
    {
     "data": {
      "text/plain": [
       "array([[0.        , 0.51351351, 0.5210084 , 0.0840708 , 0.18133522,\n",
       "        0.15030262, 0.1323239 , 0.14798206],\n",
       "       [0.        , 0.37162162, 0.35294118, 0.07964602, 0.07915707,\n",
       "        0.06624075, 0.06319947, 0.06826109],\n",
       "       [0.5       , 0.61486486, 0.61344538, 0.11946903, 0.23906499,\n",
       "        0.17182246, 0.18564845, 0.2077728 ],\n",
       "       [0.        , 0.49324324, 0.5210084 , 0.11061947, 0.18204356,\n",
       "        0.14425017, 0.14944042, 0.15296462],\n",
       "       [1.        , 0.34459459, 0.33613445, 0.07079646, 0.07189658,\n",
       "        0.0595158 , 0.05134957, 0.0533134 ]])"
      ]
     },
     "execution_count": 28,
     "metadata": {},
     "output_type": "execute_result"
    }
   ],
   "source": [
    "from sklearn.preprocessing import MinMaxScaler\n",
    "x = abalone_data\n",
    "mm = MinMaxScaler()\n",
    "x_normalized = mm.fit_transform(x)\n",
    "x_normalized[:5]"
   ]
  },
  {
   "cell_type": "code",
   "execution_count": 29,
   "id": "31a56362",
   "metadata": {
    "execution": {
     "iopub.execute_input": "2022-05-17T17:05:40.048540Z",
     "iopub.status.busy": "2022-05-17T17:05:40.047500Z",
     "iopub.status.idle": "2022-05-17T17:05:40.054304Z",
     "shell.execute_reply": "2022-05-17T17:05:40.053447Z"
    },
    "papermill": {
     "duration": 0.232965,
     "end_time": "2022-05-17T17:05:40.056136",
     "exception": false,
     "start_time": "2022-05-17T17:05:39.823171",
     "status": "completed"
    },
    "tags": []
   },
   "outputs": [
    {
     "data": {
      "text/plain": [
       "array([0.47773522, 0.60674608, 0.59307774, 0.12346584, 0.29280756,\n",
       "       0.24100033, 0.23712127, 0.2365031 ])"
      ]
     },
     "execution_count": 29,
     "metadata": {},
     "output_type": "execute_result"
    }
   ],
   "source": [
    "x_normalized.mean(axis=0)"
   ]
  },
  {
   "cell_type": "code",
   "execution_count": 30,
   "id": "a9ebc03a",
   "metadata": {
    "execution": {
     "iopub.execute_input": "2022-05-17T17:05:40.500504Z",
     "iopub.status.busy": "2022-05-17T17:05:40.500208Z",
     "iopub.status.idle": "2022-05-17T17:05:40.505096Z",
     "shell.execute_reply": "2022-05-17T17:05:40.504613Z"
    },
    "papermill": {
     "duration": 0.229643,
     "end_time": "2022-05-17T17:05:40.506900",
     "exception": false,
     "start_time": "2022-05-17T17:05:40.277257",
     "status": "completed"
    },
    "tags": []
   },
   "outputs": [
    {
     "data": {
      "text/plain": [
       "array([0.4138578 , 0.16226829, 0.16676972, 0.03701066, 0.17366046,\n",
       "       0.14925109, 0.14430695, 0.13870055])"
      ]
     },
     "execution_count": 30,
     "metadata": {},
     "output_type": "execute_result"
    }
   ],
   "source": [
    "x_normalized.std(axis=0)"
   ]
  },
  {
   "cell_type": "code",
   "execution_count": 31,
   "id": "0c7208ca",
   "metadata": {
    "execution": {
     "iopub.execute_input": "2022-05-17T17:05:40.951766Z",
     "iopub.status.busy": "2022-05-17T17:05:40.951394Z",
     "iopub.status.idle": "2022-05-17T17:05:41.388034Z",
     "shell.execute_reply": "2022-05-17T17:05:41.387195Z"
    },
    "papermill": {
     "duration": 0.660343,
     "end_time": "2022-05-17T17:05:41.390013",
     "exception": false,
     "start_time": "2022-05-17T17:05:40.729670",
     "status": "completed"
    },
    "tags": []
   },
   "outputs": [
    {
     "data": {
      "image/png": "[encoded data removed]",
      "text/plain": [
       "<Figure size 432x288 with 1 Axes>"
      ]
     },
     "metadata": {},
     "output_type": "display_data"
    }
   ],
   "source": [
    "ax = abalone_data.plot.hist()"
   ]
  },
  {
   "cell_type": "code",
   "execution_count": null,
   "id": "66fe371e",
   "metadata": {
    "papermill": {
     "duration": 0.223658,
     "end_time": "2022-05-17T17:05:41.833458",
     "exception": false,
     "start_time": "2022-05-17T17:05:41.609800",
     "status": "completed"
    },
    "tags": []
   },
   "outputs": [],
   "source": []
  },
  {
   "cell_type": "markdown",
   "id": "6badf092",
   "metadata": {
    "papermill": {
     "duration": 0.225457,
     "end_time": "2022-05-17T17:05:42.284109",
     "exception": false,
     "start_time": "2022-05-17T17:05:42.058652",
     "status": "completed"
    },
    "tags": []
   },
   "source": [
    "### STandardization"
   ]
  },
  {
   "cell_type": "code",
   "execution_count": 32,
   "id": "e41eba4d",
   "metadata": {
    "execution": {
     "iopub.execute_input": "2022-05-17T17:05:42.731266Z",
     "iopub.status.busy": "2022-05-17T17:05:42.730732Z",
     "iopub.status.idle": "2022-05-17T17:05:42.741764Z",
     "shell.execute_reply": "2022-05-17T17:05:42.740905Z"
    },
    "papermill": {
     "duration": 0.234304,
     "end_time": "2022-05-17T17:05:42.743670",
     "exception": false,
     "start_time": "2022-05-17T17:05:42.509366",
     "status": "completed"
    },
    "tags": []
   },
   "outputs": [
    {
     "data": {
      "text/plain": [
       "array([[-1.15434629, -0.57455813, -0.43214879, -1.06442415, -0.64189823,\n",
       "        -0.60768536, -0.72621157, -0.63821689],\n",
       "       [-1.15434629, -1.44898585, -1.439929  , -1.18397831, -1.23027711,\n",
       "        -1.17090984, -1.20522124, -1.21298732],\n",
       "       [ 0.05379815,  0.05003309,  0.12213032, -0.10799087, -0.30946926,\n",
       "        -0.4634999 , -0.35668983, -0.20713907],\n",
       "       [-1.15434629, -0.69947638, -0.43214879, -0.34709919, -0.63781934,\n",
       "        -0.64823753, -0.60759966, -0.60229374],\n",
       "       [ 1.26194258, -1.61554351, -1.54070702, -1.42308663, -1.27208566,\n",
       "        -1.2159678 , -1.28733718, -1.32075677]])"
      ]
     },
     "execution_count": 32,
     "metadata": {},
     "output_type": "execute_result"
    }
   ],
   "source": [
    "from sklearn.preprocessing import StandardScaler\n",
    "ss = StandardScaler()\n",
    "X_standardized = ss.fit_transform(x)\n",
    "X_standardized[:5]"
   ]
  },
  {
   "cell_type": "code",
   "execution_count": 33,
   "id": "a5a9f208",
   "metadata": {
    "execution": {
     "iopub.execute_input": "2022-05-17T17:05:43.141994Z",
     "iopub.status.busy": "2022-05-17T17:05:43.141732Z",
     "iopub.status.idle": "2022-05-17T17:05:43.147148Z",
     "shell.execute_reply": "2022-05-17T17:05:43.146672Z"
    },
    "papermill": {
     "duration": 0.180518,
     "end_time": "2022-05-17T17:05:43.148499",
     "exception": false,
     "start_time": "2022-05-17T17:05:42.967981",
     "status": "completed"
    },
    "tags": []
   },
   "outputs": [
    {
     "data": {
      "text/plain": [
       "array([-1.19075871e-17, -5.83471770e-16, -3.02792930e-16,  3.91249292e-16,\n",
       "        9.18585294e-17, -1.02065033e-17,  2.70472337e-16,  2.97689679e-16])"
      ]
     },
     "execution_count": 33,
     "metadata": {},
     "output_type": "execute_result"
    }
   ],
   "source": [
    "X_standardized.mean(axis=0)"
   ]
  },
  {
   "cell_type": "code",
   "execution_count": 34,
   "id": "779e83e2",
   "metadata": {
    "execution": {
     "iopub.execute_input": "2022-05-17T17:05:43.452300Z",
     "iopub.status.busy": "2022-05-17T17:05:43.451860Z",
     "iopub.status.idle": "2022-05-17T17:05:43.457559Z",
     "shell.execute_reply": "2022-05-17T17:05:43.457063Z"
    },
    "papermill": {
     "duration": 0.160924,
     "end_time": "2022-05-17T17:05:43.459278",
     "exception": false,
     "start_time": "2022-05-17T17:05:43.298354",
     "status": "completed"
    },
    "tags": []
   },
   "outputs": [
    {
     "data": {
      "text/plain": [
       "array([1., 1., 1., 1., 1., 1., 1., 1.])"
      ]
     },
     "execution_count": 34,
     "metadata": {},
     "output_type": "execute_result"
    }
   ],
   "source": [
    "X_standardized.std(axis=0)"
   ]
  },
  {
   "cell_type": "code",
   "execution_count": 35,
   "id": "3c7ef24e",
   "metadata": {
    "execution": {
     "iopub.execute_input": "2022-05-17T17:05:43.763497Z",
     "iopub.status.busy": "2022-05-17T17:05:43.762977Z",
     "iopub.status.idle": "2022-05-17T17:05:43.766312Z",
     "shell.execute_reply": "2022-05-17T17:05:43.765823Z"
    },
    "papermill": {
     "duration": 0.160539,
     "end_time": "2022-05-17T17:05:43.768099",
     "exception": false,
     "start_time": "2022-05-17T17:05:43.607560",
     "status": "completed"
    },
    "tags": []
   },
   "outputs": [],
   "source": [
    "# #@title [Histogram - combined]\n",
    "# # create a new plot\n",
    "# plt.figure(figsize=(15, 8))\n",
    "# data=pd.DataFrame(X_standardized, columns=in_cols)\n",
    "# for colname in abalone_data:\n",
    "#     plt.hist(data[colname].values, alpha=0.4)\n",
    "    \n",
    "# plt.legend(in_cols, fontsize=18, loc=\"upper right\", frameon=True)\n",
    "# plt.title('Distribution of features across samples after standardization')\n",
    "# plt.xlabel('Range', fontsize=16)\n",
    "# plt.ylabel('Frequencey', fontsize-16)"
   ]
  },
  {
   "cell_type": "markdown",
   "id": "cdbad4d2",
   "metadata": {
    "papermill": {
     "duration": 0.227154,
     "end_time": "2022-05-17T17:05:44.227578",
     "exception": false,
     "start_time": "2022-05-17T17:05:44.000424",
     "status": "completed"
    },
    "tags": []
   },
   "source": []
  },
  {
   "cell_type": "code",
   "execution_count": 36,
   "id": "1e674245",
   "metadata": {
    "execution": {
     "iopub.execute_input": "2022-05-17T17:05:44.691855Z",
     "iopub.status.busy": "2022-05-17T17:05:44.690697Z",
     "iopub.status.idle": "2022-05-17T17:05:44.695755Z",
     "shell.execute_reply": "2022-05-17T17:05:44.694812Z"
    },
    "papermill": {
     "duration": 0.234453,
     "end_time": "2022-05-17T17:05:44.698123",
     "exception": false,
     "start_time": "2022-05-17T17:05:44.463670",
     "status": "completed"
    },
    "tags": []
   },
   "outputs": [],
   "source": [
    "#ax=sns.boxplot(data=data, orient=\"h\", palette=\"Set2\")"
   ]
  },
  {
   "cell_type": "markdown",
   "id": "609833c5",
   "metadata": {
    "papermill": {
     "duration": 0.221051,
     "end_time": "2022-05-17T17:05:45.144144",
     "exception": false,
     "start_time": "2022-05-17T17:05:44.923093",
     "status": "completed"
    },
    "tags": []
   },
   "source": [
    "# Dmonstration of Data transformation, Composite transformers"
   ]
  },
  {
   "cell_type": "markdown",
   "id": "9bd2cf9a",
   "metadata": {
    "papermill": {
     "duration": 0.184499,
     "end_time": "2022-05-17T17:05:45.551851",
     "exception": false,
     "start_time": "2022-05-17T17:05:45.367352",
     "status": "completed"
    },
    "tags": []
   },
   "source": [
    "# 4. add_dummy_feature\n",
    "\n",
    "augments dataset with a column vector, each value in the column vector is 1. This is useful for adding a prameter for bias term in the model"
   ]
  },
  {
   "cell_type": "code",
   "execution_count": 37,
   "id": "7285a8ad",
   "metadata": {
    "execution": {
     "iopub.execute_input": "2022-05-17T17:05:45.845522Z",
     "iopub.status.busy": "2022-05-17T17:05:45.845047Z",
     "iopub.status.idle": "2022-05-17T17:05:45.851620Z",
     "shell.execute_reply": "2022-05-17T17:05:45.850792Z"
    },
    "papermill": {
     "duration": 0.155629,
     "end_time": "2022-05-17T17:05:45.853680",
     "exception": false,
     "start_time": "2022-05-17T17:05:45.698051",
     "status": "completed"
    },
    "tags": []
   },
   "outputs": [
    {
     "name": "stdout",
     "output_type": "stream",
     "text": [
      "[[1. 7. 1.]\n",
      " [1. 1. 8.]\n",
      " [1. 2. 0.]\n",
      " [1. 9. 6.]]\n"
     ]
    }
   ],
   "source": [
    "x = np.array(\n",
    "    [[7, 1],\n",
    "    [1, 8],\n",
    "    [2, 0],\n",
    "    [9, 6]])\n",
    "\n",
    "from sklearn.preprocessing import add_dummy_feature\n",
    "\n",
    "x_new = add_dummy_feature(x)\n",
    "print(x_new)"
   ]
  },
  {
   "cell_type": "markdown",
   "id": "537f053f",
   "metadata": {
    "papermill": {
     "duration": 0.221795,
     "end_time": "2022-05-17T17:05:46.300910",
     "exception": false,
     "start_time": "2022-05-17T17:05:46.079115",
     "status": "completed"
    },
    "tags": []
   },
   "source": [
    "# 5. Custom transformers"
   ]
  },
  {
   "cell_type": "code",
   "execution_count": 38,
   "id": "81005b2a",
   "metadata": {
    "execution": {
     "iopub.execute_input": "2022-05-17T17:05:46.750883Z",
     "iopub.status.busy": "2022-05-17T17:05:46.750392Z",
     "iopub.status.idle": "2022-05-17T17:05:46.754412Z",
     "shell.execute_reply": "2022-05-17T17:05:46.753585Z"
    },
    "papermill": {
     "duration": 0.233775,
     "end_time": "2022-05-17T17:05:46.757078",
     "exception": false,
     "start_time": "2022-05-17T17:05:46.523303",
     "status": "completed"
    },
    "tags": []
   },
   "outputs": [],
   "source": [
    "from sklearn.preprocessing import FunctionTransformer"
   ]
  },
  {
   "cell_type": "code",
   "execution_count": 39,
   "id": "c8d1b1e5",
   "metadata": {
    "execution": {
     "iopub.execute_input": "2022-05-17T17:05:47.206668Z",
     "iopub.status.busy": "2022-05-17T17:05:47.206188Z",
     "iopub.status.idle": "2022-05-17T17:05:47.225624Z",
     "shell.execute_reply": "2022-05-17T17:05:47.224645Z"
    },
    "papermill": {
     "duration": 0.248691,
     "end_time": "2022-05-17T17:05:47.228529",
     "exception": false,
     "start_time": "2022-05-17T17:05:46.979838",
     "status": "completed"
    },
    "tags": []
   },
   "outputs": [],
   "source": [
    "wine_data = pd.read_csv(\"../input/red-wine-quality-cortez-et-al-2009/winequality-red.csv\", sep=\";\")"
   ]
  },
  {
   "cell_type": "code",
   "execution_count": 40,
   "id": "e5521a47",
   "metadata": {
    "execution": {
     "iopub.execute_input": "2022-05-17T17:05:47.682856Z",
     "iopub.status.busy": "2022-05-17T17:05:47.682397Z",
     "iopub.status.idle": "2022-05-17T17:05:47.726007Z",
     "shell.execute_reply": "2022-05-17T17:05:47.724941Z"
    },
    "papermill": {
     "duration": 0.273982,
     "end_time": "2022-05-17T17:05:47.728039",
     "exception": false,
     "start_time": "2022-05-17T17:05:47.454057",
     "status": "completed"
    },
    "tags": []
   },
   "outputs": [
    {
     "data": {
      "text/html": [
       "<div>\n",
       "<style scoped>\n",
       "    .dataframe tbody tr th:only-of-type {\n",
       "        vertical-align: middle;\n",
       "    }\n",
       "\n",
       "    .dataframe tbody tr th {\n",
       "        vertical-align: top;\n",
       "    }\n",
       "\n",
       "    .dataframe thead th {\n",
       "        text-align: right;\n",
       "    }\n",
       "</style>\n",
       "<table border=\"1\" class=\"dataframe\">\n",
       "  <thead>\n",
       "    <tr style=\"text-align: right;\">\n",
       "      <th></th>\n",
       "      <th>count</th>\n",
       "      <th>mean</th>\n",
       "      <th>std</th>\n",
       "      <th>min</th>\n",
       "      <th>25%</th>\n",
       "      <th>50%</th>\n",
       "      <th>75%</th>\n",
       "      <th>max</th>\n",
       "    </tr>\n",
       "  </thead>\n",
       "  <tbody>\n",
       "    <tr>\n",
       "      <th>fixed acidity</th>\n",
       "      <td>1599.0</td>\n",
       "      <td>8.319637</td>\n",
       "      <td>1.741096</td>\n",
       "      <td>4.60000</td>\n",
       "      <td>7.1000</td>\n",
       "      <td>7.90000</td>\n",
       "      <td>9.200000</td>\n",
       "      <td>15.90000</td>\n",
       "    </tr>\n",
       "    <tr>\n",
       "      <th>volatile acidity</th>\n",
       "      <td>1599.0</td>\n",
       "      <td>0.527821</td>\n",
       "      <td>0.179060</td>\n",
       "      <td>0.12000</td>\n",
       "      <td>0.3900</td>\n",
       "      <td>0.52000</td>\n",
       "      <td>0.640000</td>\n",
       "      <td>1.58000</td>\n",
       "    </tr>\n",
       "    <tr>\n",
       "      <th>citric acid</th>\n",
       "      <td>1599.0</td>\n",
       "      <td>0.270976</td>\n",
       "      <td>0.194801</td>\n",
       "      <td>0.00000</td>\n",
       "      <td>0.0900</td>\n",
       "      <td>0.26000</td>\n",
       "      <td>0.420000</td>\n",
       "      <td>1.00000</td>\n",
       "    </tr>\n",
       "    <tr>\n",
       "      <th>residual sugar</th>\n",
       "      <td>1599.0</td>\n",
       "      <td>2.538806</td>\n",
       "      <td>1.409928</td>\n",
       "      <td>0.90000</td>\n",
       "      <td>1.9000</td>\n",
       "      <td>2.20000</td>\n",
       "      <td>2.600000</td>\n",
       "      <td>15.50000</td>\n",
       "    </tr>\n",
       "    <tr>\n",
       "      <th>chlorides</th>\n",
       "      <td>1599.0</td>\n",
       "      <td>0.087467</td>\n",
       "      <td>0.047065</td>\n",
       "      <td>0.01200</td>\n",
       "      <td>0.0700</td>\n",
       "      <td>0.07900</td>\n",
       "      <td>0.090000</td>\n",
       "      <td>0.61100</td>\n",
       "    </tr>\n",
       "    <tr>\n",
       "      <th>free sulfur dioxide</th>\n",
       "      <td>1599.0</td>\n",
       "      <td>15.874922</td>\n",
       "      <td>10.460157</td>\n",
       "      <td>1.00000</td>\n",
       "      <td>7.0000</td>\n",
       "      <td>14.00000</td>\n",
       "      <td>21.000000</td>\n",
       "      <td>72.00000</td>\n",
       "    </tr>\n",
       "    <tr>\n",
       "      <th>total sulfur dioxide</th>\n",
       "      <td>1599.0</td>\n",
       "      <td>46.467792</td>\n",
       "      <td>32.895324</td>\n",
       "      <td>6.00000</td>\n",
       "      <td>22.0000</td>\n",
       "      <td>38.00000</td>\n",
       "      <td>62.000000</td>\n",
       "      <td>289.00000</td>\n",
       "    </tr>\n",
       "    <tr>\n",
       "      <th>density</th>\n",
       "      <td>1599.0</td>\n",
       "      <td>0.996747</td>\n",
       "      <td>0.001887</td>\n",
       "      <td>0.99007</td>\n",
       "      <td>0.9956</td>\n",
       "      <td>0.99675</td>\n",
       "      <td>0.997835</td>\n",
       "      <td>1.00369</td>\n",
       "    </tr>\n",
       "    <tr>\n",
       "      <th>pH</th>\n",
       "      <td>1599.0</td>\n",
       "      <td>3.311113</td>\n",
       "      <td>0.154386</td>\n",
       "      <td>2.74000</td>\n",
       "      <td>3.2100</td>\n",
       "      <td>3.31000</td>\n",
       "      <td>3.400000</td>\n",
       "      <td>4.01000</td>\n",
       "    </tr>\n",
       "    <tr>\n",
       "      <th>sulphates</th>\n",
       "      <td>1599.0</td>\n",
       "      <td>0.658149</td>\n",
       "      <td>0.169507</td>\n",
       "      <td>0.33000</td>\n",
       "      <td>0.5500</td>\n",
       "      <td>0.62000</td>\n",
       "      <td>0.730000</td>\n",
       "      <td>2.00000</td>\n",
       "    </tr>\n",
       "    <tr>\n",
       "      <th>alcohol</th>\n",
       "      <td>1599.0</td>\n",
       "      <td>10.422983</td>\n",
       "      <td>1.065668</td>\n",
       "      <td>8.40000</td>\n",
       "      <td>9.5000</td>\n",
       "      <td>10.20000</td>\n",
       "      <td>11.100000</td>\n",
       "      <td>14.90000</td>\n",
       "    </tr>\n",
       "    <tr>\n",
       "      <th>quality</th>\n",
       "      <td>1599.0</td>\n",
       "      <td>5.636023</td>\n",
       "      <td>0.807569</td>\n",
       "      <td>3.00000</td>\n",
       "      <td>5.0000</td>\n",
       "      <td>6.00000</td>\n",
       "      <td>6.000000</td>\n",
       "      <td>8.00000</td>\n",
       "    </tr>\n",
       "  </tbody>\n",
       "</table>\n",
       "</div>"
      ],
      "text/plain": [
       "                       count       mean        std      min      25%  \\\n",
       "fixed acidity         1599.0   8.319637   1.741096  4.60000   7.1000   \n",
       "volatile acidity      1599.0   0.527821   0.179060  0.12000   0.3900   \n",
       "citric acid           1599.0   0.270976   0.194801  0.00000   0.0900   \n",
       "residual sugar        1599.0   2.538806   1.409928  0.90000   1.9000   \n",
       "chlorides             1599.0   0.087467   0.047065  0.01200   0.0700   \n",
       "free sulfur dioxide   1599.0  15.874922  10.460157  1.00000   7.0000   \n",
       "total sulfur dioxide  1599.0  46.467792  32.895324  6.00000  22.0000   \n",
       "density               1599.0   0.996747   0.001887  0.99007   0.9956   \n",
       "pH                    1599.0   3.311113   0.154386  2.74000   3.2100   \n",
       "sulphates             1599.0   0.658149   0.169507  0.33000   0.5500   \n",
       "alcohol               1599.0  10.422983   1.065668  8.40000   9.5000   \n",
       "quality               1599.0   5.636023   0.807569  3.00000   5.0000   \n",
       "\n",
       "                           50%        75%        max  \n",
       "fixed acidity          7.90000   9.200000   15.90000  \n",
       "volatile acidity       0.52000   0.640000    1.58000  \n",
       "citric acid            0.26000   0.420000    1.00000  \n",
       "residual sugar         2.20000   2.600000   15.50000  \n",
       "chlorides              0.07900   0.090000    0.61100  \n",
       "free sulfur dioxide   14.00000  21.000000   72.00000  \n",
       "total sulfur dioxide  38.00000  62.000000  289.00000  \n",
       "density                0.99675   0.997835    1.00369  \n",
       "pH                     3.31000   3.400000    4.01000  \n",
       "sulphates              0.62000   0.730000    2.00000  \n",
       "alcohol               10.20000  11.100000   14.90000  \n",
       "quality                6.00000   6.000000    8.00000  "
      ]
     },
     "execution_count": 40,
     "metadata": {},
     "output_type": "execute_result"
    }
   ],
   "source": [
    "wine_data.describe().T"
   ]
  },
  {
   "cell_type": "markdown",
   "id": "a610a42e",
   "metadata": {
    "papermill": {
     "duration": 0.224407,
     "end_time": "2022-05-17T17:05:48.175939",
     "exception": false,
     "start_time": "2022-05-17T17:05:47.951532",
     "status": "completed"
    },
    "tags": []
   },
   "source": [
    "Let's use np.log1p which returns natural logarithm of (1 + the feature value)"
   ]
  },
  {
   "cell_type": "code",
   "execution_count": 41,
   "id": "eb5b58c6",
   "metadata": {
    "execution": {
     "iopub.execute_input": "2022-05-17T17:05:48.623977Z",
     "iopub.status.busy": "2022-05-17T17:05:48.623719Z",
     "iopub.status.idle": "2022-05-17T17:05:48.670589Z",
     "shell.execute_reply": "2022-05-17T17:05:48.669924Z"
    },
    "papermill": {
     "duration": 0.273848,
     "end_time": "2022-05-17T17:05:48.672368",
     "exception": false,
     "start_time": "2022-05-17T17:05:48.398520",
     "status": "completed"
    },
    "tags": []
   },
   "outputs": [
    {
     "data": {
      "text/html": [
       "<div>\n",
       "<style scoped>\n",
       "    .dataframe tbody tr th:only-of-type {\n",
       "        vertical-align: middle;\n",
       "    }\n",
       "\n",
       "    .dataframe tbody tr th {\n",
       "        vertical-align: top;\n",
       "    }\n",
       "\n",
       "    .dataframe thead th {\n",
       "        text-align: right;\n",
       "    }\n",
       "</style>\n",
       "<table border=\"1\" class=\"dataframe\">\n",
       "  <thead>\n",
       "    <tr style=\"text-align: right;\">\n",
       "      <th></th>\n",
       "      <th>count</th>\n",
       "      <th>mean</th>\n",
       "      <th>std</th>\n",
       "      <th>min</th>\n",
       "      <th>25%</th>\n",
       "      <th>50%</th>\n",
       "      <th>75%</th>\n",
       "      <th>max</th>\n",
       "    </tr>\n",
       "  </thead>\n",
       "  <tbody>\n",
       "    <tr>\n",
       "      <th>fixed acidity</th>\n",
       "      <td>1599.0</td>\n",
       "      <td>2.215842</td>\n",
       "      <td>0.178100</td>\n",
       "      <td>1.722767</td>\n",
       "      <td>2.091864</td>\n",
       "      <td>2.186051</td>\n",
       "      <td>2.322388</td>\n",
       "      <td>2.827314</td>\n",
       "    </tr>\n",
       "    <tr>\n",
       "      <th>volatile acidity</th>\n",
       "      <td>1599.0</td>\n",
       "      <td>0.417173</td>\n",
       "      <td>0.114926</td>\n",
       "      <td>0.113329</td>\n",
       "      <td>0.329304</td>\n",
       "      <td>0.418710</td>\n",
       "      <td>0.494696</td>\n",
       "      <td>0.947789</td>\n",
       "    </tr>\n",
       "    <tr>\n",
       "      <th>citric acid</th>\n",
       "      <td>1599.0</td>\n",
       "      <td>0.228147</td>\n",
       "      <td>0.152423</td>\n",
       "      <td>0.000000</td>\n",
       "      <td>0.086178</td>\n",
       "      <td>0.231112</td>\n",
       "      <td>0.350657</td>\n",
       "      <td>0.693147</td>\n",
       "    </tr>\n",
       "    <tr>\n",
       "      <th>residual sugar</th>\n",
       "      <td>1599.0</td>\n",
       "      <td>1.218131</td>\n",
       "      <td>0.269969</td>\n",
       "      <td>0.641854</td>\n",
       "      <td>1.064711</td>\n",
       "      <td>1.163151</td>\n",
       "      <td>1.280934</td>\n",
       "      <td>2.803360</td>\n",
       "    </tr>\n",
       "    <tr>\n",
       "      <th>chlorides</th>\n",
       "      <td>1599.0</td>\n",
       "      <td>0.083038</td>\n",
       "      <td>0.038991</td>\n",
       "      <td>0.011929</td>\n",
       "      <td>0.067659</td>\n",
       "      <td>0.076035</td>\n",
       "      <td>0.086178</td>\n",
       "      <td>0.476855</td>\n",
       "    </tr>\n",
       "    <tr>\n",
       "      <th>free sulfur dioxide</th>\n",
       "      <td>1599.0</td>\n",
       "      <td>2.639013</td>\n",
       "      <td>0.623790</td>\n",
       "      <td>0.693147</td>\n",
       "      <td>2.079442</td>\n",
       "      <td>2.708050</td>\n",
       "      <td>3.091042</td>\n",
       "      <td>4.290459</td>\n",
       "    </tr>\n",
       "    <tr>\n",
       "      <th>total sulfur dioxide</th>\n",
       "      <td>1599.0</td>\n",
       "      <td>3.634750</td>\n",
       "      <td>0.682575</td>\n",
       "      <td>1.945910</td>\n",
       "      <td>3.135494</td>\n",
       "      <td>3.663562</td>\n",
       "      <td>4.143135</td>\n",
       "      <td>5.669881</td>\n",
       "    </tr>\n",
       "    <tr>\n",
       "      <th>density</th>\n",
       "      <td>1599.0</td>\n",
       "      <td>0.691519</td>\n",
       "      <td>0.000945</td>\n",
       "      <td>0.688170</td>\n",
       "      <td>0.690945</td>\n",
       "      <td>0.691521</td>\n",
       "      <td>0.692064</td>\n",
       "      <td>0.694990</td>\n",
       "    </tr>\n",
       "    <tr>\n",
       "      <th>pH</th>\n",
       "      <td>1599.0</td>\n",
       "      <td>1.460557</td>\n",
       "      <td>0.035760</td>\n",
       "      <td>1.319086</td>\n",
       "      <td>1.437463</td>\n",
       "      <td>1.460938</td>\n",
       "      <td>1.481605</td>\n",
       "      <td>1.611436</td>\n",
       "    </tr>\n",
       "    <tr>\n",
       "      <th>sulphates</th>\n",
       "      <td>1599.0</td>\n",
       "      <td>0.501073</td>\n",
       "      <td>0.093731</td>\n",
       "      <td>0.285179</td>\n",
       "      <td>0.438255</td>\n",
       "      <td>0.482426</td>\n",
       "      <td>0.548121</td>\n",
       "      <td>1.098612</td>\n",
       "    </tr>\n",
       "    <tr>\n",
       "      <th>alcohol</th>\n",
       "      <td>1599.0</td>\n",
       "      <td>2.431458</td>\n",
       "      <td>0.090434</td>\n",
       "      <td>2.240710</td>\n",
       "      <td>2.351375</td>\n",
       "      <td>2.415914</td>\n",
       "      <td>2.493205</td>\n",
       "      <td>2.766319</td>\n",
       "    </tr>\n",
       "    <tr>\n",
       "      <th>quality</th>\n",
       "      <td>1599.0</td>\n",
       "      <td>1.885054</td>\n",
       "      <td>0.122749</td>\n",
       "      <td>1.386294</td>\n",
       "      <td>1.791759</td>\n",
       "      <td>1.945910</td>\n",
       "      <td>1.945910</td>\n",
       "      <td>2.197225</td>\n",
       "    </tr>\n",
       "  </tbody>\n",
       "</table>\n",
       "</div>"
      ],
      "text/plain": [
       "                       count      mean       std       min       25%  \\\n",
       "fixed acidity         1599.0  2.215842  0.178100  1.722767  2.091864   \n",
       "volatile acidity      1599.0  0.417173  0.114926  0.113329  0.329304   \n",
       "citric acid           1599.0  0.228147  0.152423  0.000000  0.086178   \n",
       "residual sugar        1599.0  1.218131  0.269969  0.641854  1.064711   \n",
       "chlorides             1599.0  0.083038  0.038991  0.011929  0.067659   \n",
       "free sulfur dioxide   1599.0  2.639013  0.623790  0.693147  2.079442   \n",
       "total sulfur dioxide  1599.0  3.634750  0.682575  1.945910  3.135494   \n",
       "density               1599.0  0.691519  0.000945  0.688170  0.690945   \n",
       "pH                    1599.0  1.460557  0.035760  1.319086  1.437463   \n",
       "sulphates             1599.0  0.501073  0.093731  0.285179  0.438255   \n",
       "alcohol               1599.0  2.431458  0.090434  2.240710  2.351375   \n",
       "quality               1599.0  1.885054  0.122749  1.386294  1.791759   \n",
       "\n",
       "                           50%       75%       max  \n",
       "fixed acidity         2.186051  2.322388  2.827314  \n",
       "volatile acidity      0.418710  0.494696  0.947789  \n",
       "citric acid           0.231112  0.350657  0.693147  \n",
       "residual sugar        1.163151  1.280934  2.803360  \n",
       "chlorides             0.076035  0.086178  0.476855  \n",
       "free sulfur dioxide   2.708050  3.091042  4.290459  \n",
       "total sulfur dioxide  3.663562  4.143135  5.669881  \n",
       "density               0.691521  0.692064  0.694990  \n",
       "pH                    1.460938  1.481605  1.611436  \n",
       "sulphates             0.482426  0.548121  1.098612  \n",
       "alcohol               2.415914  2.493205  2.766319  \n",
       "quality               1.945910  1.945910  2.197225  "
      ]
     },
     "execution_count": 41,
     "metadata": {},
     "output_type": "execute_result"
    }
   ],
   "source": [
    "transformer = FunctionTransformer(np.log1p, validate=True)\n",
    "wine_data_transformed = transformer.transform(np.array(wine_data))\n",
    "pd.DataFrame(wine_data_transformed, columns=wine_data.columns).describe().T"
   ]
  },
  {
   "cell_type": "markdown",
   "id": "5da92af4",
   "metadata": {
    "papermill": {
     "duration": 0.223399,
     "end_time": "2022-05-17T17:05:49.119312",
     "exception": false,
     "start_time": "2022-05-17T17:05:48.895913",
     "status": "completed"
    },
    "tags": []
   },
   "source": [
    "# 6. Polynomial Features"
   ]
  },
  {
   "cell_type": "code",
   "execution_count": 42,
   "id": "f3541104",
   "metadata": {
    "execution": {
     "iopub.execute_input": "2022-05-17T17:05:49.572265Z",
     "iopub.status.busy": "2022-05-17T17:05:49.571810Z",
     "iopub.status.idle": "2022-05-17T17:05:49.590290Z",
     "shell.execute_reply": "2022-05-17T17:05:49.589592Z"
    },
    "papermill": {
     "duration": 0.245508,
     "end_time": "2022-05-17T17:05:49.592249",
     "exception": false,
     "start_time": "2022-05-17T17:05:49.346741",
     "status": "completed"
    },
    "tags": []
   },
   "outputs": [
    {
     "name": "stdout",
     "output_type": "stream",
     "text": [
      "Number of features after transformation= (1599, 11)\n",
      "Number of features after transformation =  (1599, 78)\n"
     ]
    }
   ],
   "source": [
    "from sklearn.preprocessing import PolynomialFeatures\n",
    "\n",
    "wine_data = pd.read_csv(\"../input/red-wine-quality-cortez-et-al-2009/winequality-red.csv\", sep=\";\")\n",
    "wine_data_copy = wine_data.copy()\n",
    "wine_data = wine_data.drop(['quality'], axis=1)\n",
    "print('Number of features after transformation=', wine_data.shape)\n",
    "\n",
    "# Let us fit a polynomial of degree 2 to wine_data\n",
    "poly = PolynomialFeatures(degree=2)\n",
    "poly_wine_data = poly.fit_transform(wine_data)\n",
    "print('Number of features after transformation = ', poly_wine_data.shape)"
   ]
  },
  {
   "cell_type": "markdown",
   "id": "2eac546f",
   "metadata": {
    "papermill": {
     "duration": 0.222075,
     "end_time": "2022-05-17T17:05:50.039841",
     "exception": false,
     "start_time": "2022-05-17T17:05:49.817766",
     "status": "completed"
    },
    "tags": []
   },
   "source": [
    "Note that after transormation, we hae 78 features. Let's list out these features:"
   ]
  },
  {
   "cell_type": "code",
   "execution_count": 43,
   "id": "f67febf6",
   "metadata": {
    "execution": {
     "iopub.execute_input": "2022-05-17T17:05:50.491141Z",
     "iopub.status.busy": "2022-05-17T17:05:50.490739Z",
     "iopub.status.idle": "2022-05-17T17:05:50.496050Z",
     "shell.execute_reply": "2022-05-17T17:05:50.495339Z"
    },
    "papermill": {
     "duration": 0.236011,
     "end_time": "2022-05-17T17:05:50.498493",
     "exception": false,
     "start_time": "2022-05-17T17:05:50.262482",
     "status": "completed"
    },
    "tags": []
   },
   "outputs": [
    {
     "data": {
      "text/plain": [
       "array(['1', 'fixed acidity', 'volatile acidity', 'citric acid',\n",
       "       'residual sugar', 'chlorides', 'free sulfur dioxide',\n",
       "       'total sulfur dioxide', 'density', 'pH', 'sulphates', 'alcohol',\n",
       "       'fixed acidity^2', 'fixed acidity volatile acidity',\n",
       "       'fixed acidity citric acid', 'fixed acidity residual sugar',\n",
       "       'fixed acidity chlorides', 'fixed acidity free sulfur dioxide',\n",
       "       'fixed acidity total sulfur dioxide', 'fixed acidity density',\n",
       "       'fixed acidity pH', 'fixed acidity sulphates',\n",
       "       'fixed acidity alcohol', 'volatile acidity^2',\n",
       "       'volatile acidity citric acid', 'volatile acidity residual sugar',\n",
       "       'volatile acidity chlorides',\n",
       "       'volatile acidity free sulfur dioxide',\n",
       "       'volatile acidity total sulfur dioxide',\n",
       "       'volatile acidity density', 'volatile acidity pH',\n",
       "       'volatile acidity sulphates', 'volatile acidity alcohol',\n",
       "       'citric acid^2', 'citric acid residual sugar',\n",
       "       'citric acid chlorides', 'citric acid free sulfur dioxide',\n",
       "       'citric acid total sulfur dioxide', 'citric acid density',\n",
       "       'citric acid pH', 'citric acid sulphates', 'citric acid alcohol',\n",
       "       'residual sugar^2', 'residual sugar chlorides',\n",
       "       'residual sugar free sulfur dioxide',\n",
       "       'residual sugar total sulfur dioxide', 'residual sugar density',\n",
       "       'residual sugar pH', 'residual sugar sulphates',\n",
       "       'residual sugar alcohol', 'chlorides^2',\n",
       "       'chlorides free sulfur dioxide', 'chlorides total sulfur dioxide',\n",
       "       'chlorides density', 'chlorides pH', 'chlorides sulphates',\n",
       "       'chlorides alcohol', 'free sulfur dioxide^2',\n",
       "       'free sulfur dioxide total sulfur dioxide',\n",
       "       'free sulfur dioxide density', 'free sulfur dioxide pH',\n",
       "       'free sulfur dioxide sulphates', 'free sulfur dioxide alcohol',\n",
       "       'total sulfur dioxide^2', 'total sulfur dioxide density',\n",
       "       'total sulfur dioxide pH', 'total sulfur dioxide sulphates',\n",
       "       'total sulfur dioxide alcohol', 'density^2', 'density pH',\n",
       "       'density sulphates', 'density alcohol', 'pH^2', 'pH sulphates',\n",
       "       'pH alcohol', 'sulphates^2', 'sulphates alcohol', 'alcohol^2'],\n",
       "      dtype=object)"
      ]
     },
     "execution_count": 43,
     "metadata": {},
     "output_type": "execute_result"
    }
   ],
   "source": [
    "poly.get_feature_names_out()"
   ]
  },
  {
   "cell_type": "code",
   "execution_count": null,
   "id": "bee61ade",
   "metadata": {
    "papermill": {
     "duration": 0.227161,
     "end_time": "2022-05-17T17:05:50.956611",
     "exception": false,
     "start_time": "2022-05-17T17:05:50.729450",
     "status": "completed"
    },
    "tags": []
   },
   "outputs": [],
   "source": []
  },
  {
   "cell_type": "markdown",
   "id": "3471c8a4",
   "metadata": {
    "papermill": {
     "duration": 0.22439,
     "end_time": "2022-05-17T17:05:51.405446",
     "exception": false,
     "start_time": "2022-05-17T17:05:51.181056",
     "status": "completed"
    },
    "tags": []
   },
   "source": [
    "# 7. Discretization"
   ]
  },
  {
   "cell_type": "code",
   "execution_count": 44,
   "id": "a13baa51",
   "metadata": {
    "execution": {
     "iopub.execute_input": "2022-05-17T17:05:51.861787Z",
     "iopub.status.busy": "2022-05-17T17:05:51.861317Z",
     "iopub.status.idle": "2022-05-17T17:05:51.864815Z",
     "shell.execute_reply": "2022-05-17T17:05:51.864276Z"
    },
    "papermill": {
     "duration": 0.232191,
     "end_time": "2022-05-17T17:05:51.866541",
     "exception": false,
     "start_time": "2022-05-17T17:05:51.634350",
     "status": "completed"
    },
    "tags": []
   },
   "outputs": [],
   "source": [
    "# KBinDiscretizer discretizes features into k bins\n",
    "from sklearn.preprocessing import KBinsDiscretizer"
   ]
  },
  {
   "cell_type": "markdown",
   "id": "e7e2eb6e",
   "metadata": {
    "papermill": {
     "duration": 0.221828,
     "end_time": "2022-05-17T17:05:52.311333",
     "exception": false,
     "start_time": "2022-05-17T17:05:52.089505",
     "status": "completed"
    },
    "tags": []
   },
   "source": [
    "Let us demonstrate KBinsDiscretizer using Wine quality dataset"
   ]
  },
  {
   "cell_type": "code",
   "execution_count": 45,
   "id": "81d31d08",
   "metadata": {
    "execution": {
     "iopub.execute_input": "2022-05-17T17:05:52.772459Z",
     "iopub.status.busy": "2022-05-17T17:05:52.772196Z",
     "iopub.status.idle": "2022-05-17T17:05:52.780046Z",
     "shell.execute_reply": "2022-05-17T17:05:52.779135Z"
    },
    "papermill": {
     "duration": 0.242926,
     "end_time": "2022-05-17T17:05:52.782116",
     "exception": false,
     "start_time": "2022-05-17T17:05:52.539190",
     "status": "completed"
    },
    "tags": []
   },
   "outputs": [],
   "source": [
    "wine_data = wine_data_copy.copy()\n",
    "\n",
    "# transform the dataset with KBinsDiscretizeer\n",
    "enc = KBinsDiscretizer(n_bins=10, encode=\"onehot\")\n",
    "x = np.array(wine_data['chlorides']).reshape(-1, 1)\n",
    "x_binned = enc.fit_transform(x)"
   ]
  },
  {
   "cell_type": "code",
   "execution_count": 46,
   "id": "a0682cb8",
   "metadata": {
    "execution": {
     "iopub.execute_input": "2022-05-17T17:05:53.234705Z",
     "iopub.status.busy": "2022-05-17T17:05:53.234446Z",
     "iopub.status.idle": "2022-05-17T17:05:53.239749Z",
     "shell.execute_reply": "2022-05-17T17:05:53.238953Z"
    },
    "papermill": {
     "duration": 0.234133,
     "end_time": "2022-05-17T17:05:53.242270",
     "exception": false,
     "start_time": "2022-05-17T17:05:53.008137",
     "status": "completed"
    },
    "tags": []
   },
   "outputs": [
    {
     "data": {
      "text/plain": [
       "<1599x10 sparse matrix of type '<class 'numpy.float64'>'\n",
       "\twith 1599 stored elements in Compressed Sparse Row format>"
      ]
     },
     "execution_count": 46,
     "metadata": {},
     "output_type": "execute_result"
    }
   ],
   "source": [
    "x_binned"
   ]
  },
  {
   "cell_type": "code",
   "execution_count": 47,
   "id": "ed442ce3",
   "metadata": {
    "execution": {
     "iopub.execute_input": "2022-05-17T17:05:53.703490Z",
     "iopub.status.busy": "2022-05-17T17:05:53.702605Z",
     "iopub.status.idle": "2022-05-17T17:05:53.709661Z",
     "shell.execute_reply": "2022-05-17T17:05:53.708822Z"
    },
    "papermill": {
     "duration": 0.240249,
     "end_time": "2022-05-17T17:05:53.711606",
     "exception": false,
     "start_time": "2022-05-17T17:05:53.471357",
     "status": "completed"
    },
    "tags": []
   },
   "outputs": [
    {
     "data": {
      "text/plain": [
       "array([[0., 0., 0., 0., 1., 0., 0., 0., 0., 0.],\n",
       "       [0., 0., 0., 0., 0., 0., 0., 0., 1., 0.],\n",
       "       [0., 0., 0., 0., 0., 0., 0., 1., 0., 0.],\n",
       "       [0., 0., 0., 1., 0., 0., 0., 0., 0., 0.],\n",
       "       [0., 0., 0., 0., 1., 0., 0., 0., 0., 0.]])"
      ]
     },
     "execution_count": 47,
     "metadata": {},
     "output_type": "execute_result"
    }
   ],
   "source": [
    "# Since output is sparse, use to_array() to expand it.\n",
    "x_binned.toarray()[:5]"
   ]
  },
  {
   "cell_type": "markdown",
   "id": "28490060",
   "metadata": {
    "papermill": {
     "duration": 0.222761,
     "end_time": "2022-05-17T17:05:54.163121",
     "exception": false,
     "start_time": "2022-05-17T17:05:53.940360",
     "status": "completed"
    },
    "tags": []
   },
   "source": [
    "# 8. Handling Categorical Features"
   ]
  },
  {
   "cell_type": "markdown",
   "id": "f6f560b8",
   "metadata": {
    "papermill": {
     "duration": 0.226354,
     "end_time": "2022-05-17T17:05:54.614694",
     "exception": false,
     "start_time": "2022-05-17T17:05:54.388340",
     "status": "completed"
    },
    "tags": []
   },
   "source": [
    "We need to convert the categorical fetures into numeric features\n",
    "\n",
    "1. Ordinal encoding\n",
    "2. One-hot encoding\n",
    "3. Label encoder\n",
    "4. Using dummy variables"
   ]
  },
  {
   "cell_type": "code",
   "execution_count": 48,
   "id": "4242b504",
   "metadata": {
    "execution": {
     "iopub.execute_input": "2022-05-17T17:05:55.068712Z",
     "iopub.status.busy": "2022-05-17T17:05:55.068258Z",
     "iopub.status.idle": "2022-05-17T17:05:55.071563Z",
     "shell.execute_reply": "2022-05-17T17:05:55.071015Z"
    },
    "papermill": {
     "duration": 0.232405,
     "end_time": "2022-05-17T17:05:55.073342",
     "exception": false,
     "start_time": "2022-05-17T17:05:54.840937",
     "status": "completed"
    },
    "tags": []
   },
   "outputs": [],
   "source": [
    "from sklearn.preprocessing import OrdinalEncoder\n",
    "from sklearn.preprocessing import OneHotEncoder"
   ]
  },
  {
   "cell_type": "code",
   "execution_count": 49,
   "id": "19e6ef83",
   "metadata": {
    "execution": {
     "iopub.execute_input": "2022-05-17T17:05:55.544115Z",
     "iopub.status.busy": "2022-05-17T17:05:55.543686Z",
     "iopub.status.idle": "2022-05-17T17:05:55.864429Z",
     "shell.execute_reply": "2022-05-17T17:05:55.863641Z"
    },
    "papermill": {
     "duration": 0.566339,
     "end_time": "2022-05-17T17:05:55.866928",
     "exception": false,
     "start_time": "2022-05-17T17:05:55.300589",
     "status": "completed"
    },
    "tags": []
   },
   "outputs": [
    {
     "data": {
      "text/html": [
       "<div>\n",
       "<style scoped>\n",
       "    .dataframe tbody tr th:only-of-type {\n",
       "        vertical-align: middle;\n",
       "    }\n",
       "\n",
       "    .dataframe tbody tr th {\n",
       "        vertical-align: top;\n",
       "    }\n",
       "\n",
       "    .dataframe thead th {\n",
       "        text-align: right;\n",
       "    }\n",
       "</style>\n",
       "<table border=\"1\" class=\"dataframe\">\n",
       "  <thead>\n",
       "    <tr style=\"text-align: right;\">\n",
       "      <th></th>\n",
       "      <th>sepal length</th>\n",
       "      <th>sepal width</th>\n",
       "      <th>petal length</th>\n",
       "      <th>petal width</th>\n",
       "      <th>label</th>\n",
       "    </tr>\n",
       "  </thead>\n",
       "  <tbody>\n",
       "    <tr>\n",
       "      <th>0</th>\n",
       "      <td>5.1</td>\n",
       "      <td>3.5</td>\n",
       "      <td>1.4</td>\n",
       "      <td>0.2</td>\n",
       "      <td>Iris-setosa</td>\n",
       "    </tr>\n",
       "    <tr>\n",
       "      <th>1</th>\n",
       "      <td>4.9</td>\n",
       "      <td>3.0</td>\n",
       "      <td>1.4</td>\n",
       "      <td>0.2</td>\n",
       "      <td>Iris-setosa</td>\n",
       "    </tr>\n",
       "    <tr>\n",
       "      <th>2</th>\n",
       "      <td>4.7</td>\n",
       "      <td>3.2</td>\n",
       "      <td>1.3</td>\n",
       "      <td>0.2</td>\n",
       "      <td>Iris-setosa</td>\n",
       "    </tr>\n",
       "    <tr>\n",
       "      <th>3</th>\n",
       "      <td>4.6</td>\n",
       "      <td>3.1</td>\n",
       "      <td>1.5</td>\n",
       "      <td>0.2</td>\n",
       "      <td>Iris-setosa</td>\n",
       "    </tr>\n",
       "    <tr>\n",
       "      <th>4</th>\n",
       "      <td>5.0</td>\n",
       "      <td>3.6</td>\n",
       "      <td>1.4</td>\n",
       "      <td>0.2</td>\n",
       "      <td>Iris-setosa</td>\n",
       "    </tr>\n",
       "  </tbody>\n",
       "</table>\n",
       "</div>"
      ],
      "text/plain": [
       "   sepal length  sepal width  petal length  petal width        label\n",
       "0           5.1          3.5           1.4          0.2  Iris-setosa\n",
       "1           4.9          3.0           1.4          0.2  Iris-setosa\n",
       "2           4.7          3.2           1.3          0.2  Iris-setosa\n",
       "3           4.6          3.1           1.5          0.2  Iris-setosa\n",
       "4           5.0          3.6           1.4          0.2  Iris-setosa"
      ]
     },
     "execution_count": 49,
     "metadata": {},
     "output_type": "execute_result"
    }
   ],
   "source": [
    "cols = ['sepal length', 'sepal width','petal length',  'petal width', 'label']\n",
    "iris_data = pd.read_csv('https://archive.ics.uci.edu/ml/machine-learning-databases/iris/iris.data', header=None, names=cols)\n",
    "iris_data.head()"
   ]
  },
  {
   "cell_type": "markdown",
   "id": "2eeefcf3",
   "metadata": {
    "papermill": {
     "duration": 0.227284,
     "end_time": "2022-05-17T17:05:56.322846",
     "exception": false,
     "start_time": "2022-05-17T17:05:56.095562",
     "status": "completed"
    },
    "tags": []
   },
   "source": [
    "The label is categorical attribute"
   ]
  },
  {
   "cell_type": "code",
   "execution_count": 50,
   "id": "b3a94bc7",
   "metadata": {
    "execution": {
     "iopub.execute_input": "2022-05-17T17:05:56.784977Z",
     "iopub.status.busy": "2022-05-17T17:05:56.783869Z",
     "iopub.status.idle": "2022-05-17T17:05:56.791883Z",
     "shell.execute_reply": "2022-05-17T17:05:56.790733Z"
    },
    "papermill": {
     "duration": 0.242827,
     "end_time": "2022-05-17T17:05:56.794274",
     "exception": false,
     "start_time": "2022-05-17T17:05:56.551447",
     "status": "completed"
    },
    "tags": []
   },
   "outputs": [
    {
     "data": {
      "text/plain": [
       "array(['Iris-setosa', 'Iris-versicolor', 'Iris-virginica'], dtype=object)"
      ]
     },
     "execution_count": 50,
     "metadata": {},
     "output_type": "execute_result"
    }
   ],
   "source": [
    "iris_data.label.unique()"
   ]
  },
  {
   "cell_type": "markdown",
   "id": "161c9148",
   "metadata": {
    "papermill": {
     "duration": 0.24209,
     "end_time": "2022-05-17T17:05:57.287947",
     "exception": false,
     "start_time": "2022-05-17T17:05:57.045857",
     "status": "completed"
    },
    "tags": []
   },
   "source": [
    "There are three class labels. Let's convert them to one hot vectors."
   ]
  },
  {
   "cell_type": "markdown",
   "id": "fbfa5e2a",
   "metadata": {
    "papermill": {
     "duration": 0.232774,
     "end_time": "2022-05-17T17:05:57.752899",
     "exception": false,
     "start_time": "2022-05-17T17:05:57.520125",
     "status": "completed"
    },
    "tags": []
   },
   "source": [
    "### onehotencoder"
   ]
  },
  {
   "cell_type": "code",
   "execution_count": 51,
   "id": "d2ccc071",
   "metadata": {
    "execution": {
     "iopub.execute_input": "2022-05-17T17:05:58.082697Z",
     "iopub.status.busy": "2022-05-17T17:05:58.082325Z",
     "iopub.status.idle": "2022-05-17T17:05:58.094502Z",
     "shell.execute_reply": "2022-05-17T17:05:58.093061Z"
    },
    "papermill": {
     "duration": 0.167523,
     "end_time": "2022-05-17T17:05:58.097326",
     "exception": false,
     "start_time": "2022-05-17T17:05:57.929803",
     "status": "completed"
    },
    "tags": []
   },
   "outputs": [
    {
     "name": "stdout",
     "output_type": "stream",
     "text": [
      "Shape of y before encoding (150,)\n",
      "Shape of y after encoding (150, 3)\n",
      "First 5 labes:\n",
      "[[1. 0. 0.]\n",
      " [1. 0. 0.]\n",
      " [1. 0. 0.]\n",
      " [1. 0. 0.]\n",
      " [1. 0. 0.]]\n"
     ]
    }
   ],
   "source": [
    "onehotencoder = OneHotEncoder(categories='auto')\n",
    "print('Shape of y before encoding', iris_data.label.shape)\n",
    "\n",
    "'''\n",
    "Passing 1d arrays as data to onehotencoder is deprecated in verssion,\n",
    "hence reshape to (-1, 1) to have two dimensions.\n",
    "Input of onehotencoder fit_transform must not be 1-rank array\n",
    "'''\n",
    "\n",
    "iris_labels = onehotencoder.fit_transform(iris_data.label.values.reshape(-1, 1))\n",
    "\n",
    "# y.reshape(-1, 1) is a 450*1 sparse matrix of type '<class 'numpy.float64'>'\n",
    "# with 150 stored elements in Coordinate format.'\n",
    "# y is a150x3 sparse matrix of type '<class 'numpy.float64'> with 150 stored\n",
    "# elements in compressed sparse row format.\n",
    "print('Shape of y after encoding', iris_labels .shape)\n",
    "\n",
    "# since output is sparse use to _array() to expand it.\n",
    "\n",
    "print(\"First 5 labes:\")\n",
    "print(iris_labels.toarray()[:5])"
   ]
  },
  {
   "cell_type": "markdown",
   "id": "3d93c387",
   "metadata": {
    "papermill": {
     "duration": 0.231731,
     "end_time": "2022-05-17T17:05:58.561539",
     "exception": false,
     "start_time": "2022-05-17T17:05:58.329808",
     "status": "completed"
    },
    "tags": []
   },
   "source": [
    "Let us observe the diff. b/w one hot encoding and ordinal encoding."
   ]
  },
  {
   "cell_type": "markdown",
   "id": "21b672da",
   "metadata": {
    "papermill": {
     "duration": 0.230821,
     "end_time": "2022-05-17T17:05:59.025680",
     "exception": false,
     "start_time": "2022-05-17T17:05:58.794859",
     "status": "completed"
    },
    "tags": []
   },
   "source": [
    "### ordinal Encoder"
   ]
  },
  {
   "cell_type": "code",
   "execution_count": 52,
   "id": "4efbc4e8",
   "metadata": {
    "execution": {
     "iopub.execute_input": "2022-05-17T17:05:59.491491Z",
     "iopub.status.busy": "2022-05-17T17:05:59.491010Z",
     "iopub.status.idle": "2022-05-17T17:05:59.506674Z",
     "shell.execute_reply": "2022-05-17T17:05:59.498207Z"
    },
    "papermill": {
     "duration": 0.253864,
     "end_time": "2022-05-17T17:05:59.510090",
     "exception": false,
     "start_time": "2022-05-17T17:05:59.256226",
     "status": "completed"
    },
    "tags": []
   },
   "outputs": [
    {
     "name": "stdout",
     "output_type": "stream",
     "text": [
      "Unique labels: [0. 1. 2.]\n",
      "\n",
      "First 5 labels:\n",
      "[[0.]\n",
      " [0.]\n",
      " [0.]\n",
      " [0.]\n",
      " [0.]]\n"
     ]
    }
   ],
   "source": [
    "enc = OrdinalEncoder()\n",
    "iris_labels = np.array(iris_data['label'])\n",
    "\n",
    "iris_labels_transformed = enc.fit_transform(iris_labels.reshape(-1, 1))\n",
    "print(\"Unique labels:\", np.unique(iris_labels_transformed))\n",
    "\n",
    "print(\"\\nFirst 5 labels:\")\n",
    "print(iris_labels_transformed[:5])"
   ]
  },
  {
   "cell_type": "markdown",
   "id": "8e129b11",
   "metadata": {
    "papermill": {
     "duration": 0.226741,
     "end_time": "2022-05-17T17:05:59.896693",
     "exception": false,
     "start_time": "2022-05-17T17:05:59.669952",
     "status": "completed"
    },
    "tags": []
   },
   "source": [
    "### LabelEncoder"
   ]
  },
  {
   "cell_type": "code",
   "execution_count": 53,
   "id": "ed9cd884",
   "metadata": {
    "execution": {
     "iopub.execute_input": "2022-05-17T17:06:00.373319Z",
     "iopub.status.busy": "2022-05-17T17:06:00.373019Z",
     "iopub.status.idle": "2022-05-17T17:06:00.377545Z",
     "shell.execute_reply": "2022-05-17T17:06:00.376589Z"
    },
    "papermill": {
     "duration": 0.242292,
     "end_time": "2022-05-17T17:06:00.379917",
     "exception": false,
     "start_time": "2022-05-17T17:06:00.137625",
     "status": "completed"
    },
    "tags": []
   },
   "outputs": [],
   "source": [
    "from sklearn.preprocessing import LabelEncoder"
   ]
  },
  {
   "cell_type": "code",
   "execution_count": 54,
   "id": "3729ff95",
   "metadata": {
    "execution": {
     "iopub.execute_input": "2022-05-17T17:06:00.869708Z",
     "iopub.status.busy": "2022-05-17T17:06:00.869153Z",
     "iopub.status.idle": "2022-05-17T17:06:00.878254Z",
     "shell.execute_reply": "2022-05-17T17:06:00.877077Z"
    },
    "papermill": {
     "duration": 0.257566,
     "end_time": "2022-05-17T17:06:00.880591",
     "exception": false,
     "start_time": "2022-05-17T17:06:00.623025",
     "status": "completed"
    },
    "tags": []
   },
   "outputs": [
    {
     "data": {
      "text/plain": [
       "array([0, 0, 0, 0, 0, 0, 0, 0, 0, 0, 0, 0, 0, 0, 0, 0, 0, 0, 0, 0, 0, 0,\n",
       "       0, 0, 0, 0, 0, 0, 0, 0, 0, 0, 0, 0, 0, 0, 0, 0, 0, 0, 0, 0, 0, 0,\n",
       "       0, 0, 0, 0, 0, 0, 1, 1, 1, 1, 1, 1, 1, 1, 1, 1, 1, 1, 1, 1, 1, 1,\n",
       "       1, 1, 1, 1, 1, 1, 1, 1, 1, 1, 1, 1, 1, 1, 1, 1, 1, 1, 1, 1, 1, 1,\n",
       "       1, 1, 1, 1, 1, 1, 1, 1, 1, 1, 1, 1, 2, 2, 2, 2, 2, 2, 2, 2, 2, 2,\n",
       "       2, 2, 2, 2, 2, 2, 2, 2, 2, 2, 2, 2, 2, 2, 2, 2, 2, 2, 2, 2, 2, 2,\n",
       "       2, 2, 2, 2, 2, 2, 2, 2, 2, 2, 2, 2, 2, 2, 2, 2, 2, 2])"
      ]
     },
     "execution_count": 54,
     "metadata": {},
     "output_type": "execute_result"
    }
   ],
   "source": [
    "# get the class column in a new variable\n",
    "iris_labels = np.array(iris_data['label'])\n",
    "\n",
    "# encode the class names to integers\n",
    "le = LabelEncoder()\n",
    "label_integer = le.fit_transform(iris_labels)\n",
    "label_integer"
   ]
  },
  {
   "cell_type": "markdown",
   "id": "ccd2fc14",
   "metadata": {
    "papermill": {
     "duration": 0.246629,
     "end_time": "2022-05-17T17:06:01.371329",
     "exception": false,
     "start_time": "2022-05-17T17:06:01.124700",
     "status": "completed"
    },
    "tags": []
   },
   "source": [
    "### MultilabelBinarizer"
   ]
  },
  {
   "cell_type": "markdown",
   "id": "868b130b",
   "metadata": {
    "papermill": {
     "duration": 0.240963,
     "end_time": "2022-05-17T17:06:01.853514",
     "exception": false,
     "start_time": "2022-05-17T17:06:01.612551",
     "status": "completed"
    },
    "tags": []
   },
   "source": [
    "Encodes categorical features with value between 0 and k-1, where k is number of classes."
   ]
  },
  {
   "cell_type": "code",
   "execution_count": 55,
   "id": "85450b58",
   "metadata": {
    "execution": {
     "iopub.execute_input": "2022-05-17T17:06:02.410788Z",
     "iopub.status.busy": "2022-05-17T17:06:02.410281Z",
     "iopub.status.idle": "2022-05-17T17:06:02.415043Z",
     "shell.execute_reply": "2022-05-17T17:06:02.414074Z"
    },
    "papermill": {
     "duration": 0.324362,
     "end_time": "2022-05-17T17:06:02.417282",
     "exception": false,
     "start_time": "2022-05-17T17:06:02.092920",
     "status": "completed"
    },
    "tags": []
   },
   "outputs": [],
   "source": [
    "movie_genres = [{'action', 'comedy'},\n",
    "                {'comedy'}, \n",
    "                {'action', 'thriller'},\n",
    "                {'science-fiction', 'action', 'thriller'}]"
   ]
  },
  {
   "cell_type": "code",
   "execution_count": 56,
   "id": "65d4c3a1",
   "metadata": {
    "execution": {
     "iopub.execute_input": "2022-05-17T17:06:02.883519Z",
     "iopub.status.busy": "2022-05-17T17:06:02.883133Z",
     "iopub.status.idle": "2022-05-17T17:06:02.890126Z",
     "shell.execute_reply": "2022-05-17T17:06:02.889238Z"
    },
    "papermill": {
     "duration": 0.24701,
     "end_time": "2022-05-17T17:06:02.892150",
     "exception": false,
     "start_time": "2022-05-17T17:06:02.645140",
     "status": "completed"
    },
    "tags": []
   },
   "outputs": [
    {
     "data": {
      "text/plain": [
       "array([[1, 1, 0, 0],\n",
       "       [0, 1, 0, 0],\n",
       "       [1, 0, 0, 1],\n",
       "       [1, 0, 1, 1]])"
      ]
     },
     "execution_count": 56,
     "metadata": {},
     "output_type": "execute_result"
    }
   ],
   "source": [
    "from sklearn.preprocessing import MultiLabelBinarizer\n",
    "mlb = MultiLabelBinarizer()\n",
    "mlb.fit_transform(movie_genres)"
   ]
  },
  {
   "cell_type": "markdown",
   "id": "b6a9859c",
   "metadata": {
    "papermill": {
     "duration": 0.236504,
     "end_time": "2022-05-17T17:06:03.355473",
     "exception": false,
     "start_time": "2022-05-17T17:06:03.118969",
     "status": "completed"
    },
    "tags": []
   },
   "source": [
    "### Using dummy variables"
   ]
  },
  {
   "cell_type": "code",
   "execution_count": 57,
   "id": "bf3cf8f4",
   "metadata": {
    "execution": {
     "iopub.execute_input": "2022-05-17T17:06:03.833968Z",
     "iopub.status.busy": "2022-05-17T17:06:03.832926Z",
     "iopub.status.idle": "2022-05-17T17:06:03.855155Z",
     "shell.execute_reply": "2022-05-17T17:06:03.854144Z"
    },
    "papermill": {
     "duration": 0.264294,
     "end_time": "2022-05-17T17:06:03.857621",
     "exception": false,
     "start_time": "2022-05-17T17:06:03.593327",
     "status": "completed"
    },
    "tags": []
   },
   "outputs": [
    {
     "data": {
      "text/html": [
       "<div>\n",
       "<style scoped>\n",
       "    .dataframe tbody tr th:only-of-type {\n",
       "        vertical-align: middle;\n",
       "    }\n",
       "\n",
       "    .dataframe tbody tr th {\n",
       "        vertical-align: top;\n",
       "    }\n",
       "\n",
       "    .dataframe thead th {\n",
       "        text-align: right;\n",
       "    }\n",
       "</style>\n",
       "<table border=\"1\" class=\"dataframe\">\n",
       "  <thead>\n",
       "    <tr style=\"text-align: right;\">\n",
       "      <th></th>\n",
       "      <th>sepal length</th>\n",
       "      <th>sepal width</th>\n",
       "      <th>petal length</th>\n",
       "      <th>petal width</th>\n",
       "      <th>one_hot_Iris-setosa</th>\n",
       "      <th>one_hot_Iris-versicolor</th>\n",
       "      <th>one_hot_Iris-virginica</th>\n",
       "    </tr>\n",
       "  </thead>\n",
       "  <tbody>\n",
       "    <tr>\n",
       "      <th>0</th>\n",
       "      <td>5.1</td>\n",
       "      <td>3.5</td>\n",
       "      <td>1.4</td>\n",
       "      <td>0.2</td>\n",
       "      <td>1</td>\n",
       "      <td>0</td>\n",
       "      <td>0</td>\n",
       "    </tr>\n",
       "    <tr>\n",
       "      <th>1</th>\n",
       "      <td>4.9</td>\n",
       "      <td>3.0</td>\n",
       "      <td>1.4</td>\n",
       "      <td>0.2</td>\n",
       "      <td>1</td>\n",
       "      <td>0</td>\n",
       "      <td>0</td>\n",
       "    </tr>\n",
       "    <tr>\n",
       "      <th>2</th>\n",
       "      <td>4.7</td>\n",
       "      <td>3.2</td>\n",
       "      <td>1.3</td>\n",
       "      <td>0.2</td>\n",
       "      <td>1</td>\n",
       "      <td>0</td>\n",
       "      <td>0</td>\n",
       "    </tr>\n",
       "    <tr>\n",
       "      <th>3</th>\n",
       "      <td>4.6</td>\n",
       "      <td>3.1</td>\n",
       "      <td>1.5</td>\n",
       "      <td>0.2</td>\n",
       "      <td>1</td>\n",
       "      <td>0</td>\n",
       "      <td>0</td>\n",
       "    </tr>\n",
       "    <tr>\n",
       "      <th>4</th>\n",
       "      <td>5.0</td>\n",
       "      <td>3.6</td>\n",
       "      <td>1.4</td>\n",
       "      <td>0.2</td>\n",
       "      <td>1</td>\n",
       "      <td>0</td>\n",
       "      <td>0</td>\n",
       "    </tr>\n",
       "    <tr>\n",
       "      <th>...</th>\n",
       "      <td>...</td>\n",
       "      <td>...</td>\n",
       "      <td>...</td>\n",
       "      <td>...</td>\n",
       "      <td>...</td>\n",
       "      <td>...</td>\n",
       "      <td>...</td>\n",
       "    </tr>\n",
       "    <tr>\n",
       "      <th>145</th>\n",
       "      <td>6.7</td>\n",
       "      <td>3.0</td>\n",
       "      <td>5.2</td>\n",
       "      <td>2.3</td>\n",
       "      <td>0</td>\n",
       "      <td>0</td>\n",
       "      <td>1</td>\n",
       "    </tr>\n",
       "    <tr>\n",
       "      <th>146</th>\n",
       "      <td>6.3</td>\n",
       "      <td>2.5</td>\n",
       "      <td>5.0</td>\n",
       "      <td>1.9</td>\n",
       "      <td>0</td>\n",
       "      <td>0</td>\n",
       "      <td>1</td>\n",
       "    </tr>\n",
       "    <tr>\n",
       "      <th>147</th>\n",
       "      <td>6.5</td>\n",
       "      <td>3.0</td>\n",
       "      <td>5.2</td>\n",
       "      <td>2.0</td>\n",
       "      <td>0</td>\n",
       "      <td>0</td>\n",
       "      <td>1</td>\n",
       "    </tr>\n",
       "    <tr>\n",
       "      <th>148</th>\n",
       "      <td>6.2</td>\n",
       "      <td>3.4</td>\n",
       "      <td>5.4</td>\n",
       "      <td>2.3</td>\n",
       "      <td>0</td>\n",
       "      <td>0</td>\n",
       "      <td>1</td>\n",
       "    </tr>\n",
       "    <tr>\n",
       "      <th>149</th>\n",
       "      <td>5.9</td>\n",
       "      <td>3.0</td>\n",
       "      <td>5.1</td>\n",
       "      <td>1.8</td>\n",
       "      <td>0</td>\n",
       "      <td>0</td>\n",
       "      <td>1</td>\n",
       "    </tr>\n",
       "  </tbody>\n",
       "</table>\n",
       "<p>150 rows × 7 columns</p>\n",
       "</div>"
      ],
      "text/plain": [
       "     sepal length  sepal width  petal length  petal width  \\\n",
       "0             5.1          3.5           1.4          0.2   \n",
       "1             4.9          3.0           1.4          0.2   \n",
       "2             4.7          3.2           1.3          0.2   \n",
       "3             4.6          3.1           1.5          0.2   \n",
       "4             5.0          3.6           1.4          0.2   \n",
       "..            ...          ...           ...          ...   \n",
       "145           6.7          3.0           5.2          2.3   \n",
       "146           6.3          2.5           5.0          1.9   \n",
       "147           6.5          3.0           5.2          2.0   \n",
       "148           6.2          3.4           5.4          2.3   \n",
       "149           5.9          3.0           5.1          1.8   \n",
       "\n",
       "     one_hot_Iris-setosa  one_hot_Iris-versicolor  one_hot_Iris-virginica  \n",
       "0                      1                        0                       0  \n",
       "1                      1                        0                       0  \n",
       "2                      1                        0                       0  \n",
       "3                      1                        0                       0  \n",
       "4                      1                        0                       0  \n",
       "..                   ...                      ...                     ...  \n",
       "145                    0                        0                       1  \n",
       "146                    0                        0                       1  \n",
       "147                    0                        0                       1  \n",
       "148                    0                        0                       1  \n",
       "149                    0                        0                       1  \n",
       "\n",
       "[150 rows x 7 columns]"
      ]
     },
     "execution_count": 57,
     "metadata": {},
     "output_type": "execute_result"
    }
   ],
   "source": [
    "# use get_dummies to create a one-hot encoding for each unique categorical\n",
    "# values in the 'class' column\n",
    "\n",
    "# convert categorical class variable to one-hot encoding:\n",
    "iris_data_onehot = pd.get_dummies(iris_data, columns=['label'], prefix=['one_hot'])\n",
    "iris_data_onehot"
   ]
  },
  {
   "cell_type": "markdown",
   "id": "1e95aafe",
   "metadata": {
    "papermill": {
     "duration": 0.160974,
     "end_time": "2022-05-17T17:06:04.175249",
     "exception": false,
     "start_time": "2022-05-17T17:06:04.014275",
     "status": "completed"
    },
    "tags": []
   },
   "source": [
    "# 9. Composite Transformers"
   ]
  },
  {
   "cell_type": "code",
   "execution_count": 58,
   "id": "873fb26e",
   "metadata": {
    "execution": {
     "iopub.execute_input": "2022-05-17T17:06:04.493760Z",
     "iopub.status.busy": "2022-05-17T17:06:04.492649Z",
     "iopub.status.idle": "2022-05-17T17:06:04.499279Z",
     "shell.execute_reply": "2022-05-17T17:06:04.498504Z"
    },
    "papermill": {
     "duration": 0.167886,
     "end_time": "2022-05-17T17:06:04.501518",
     "exception": false,
     "start_time": "2022-05-17T17:06:04.333632",
     "status": "completed"
    },
    "tags": []
   },
   "outputs": [],
   "source": [
    "x = [\n",
    "    [20.0, 'male',],\n",
    "    [11.2, 'female',],\n",
    "    [15.6, 'female',],\n",
    "    [13.0, 'male',],\n",
    "    [18.6, 'male',],\n",
    "    [16.4, 'female',]\n",
    "]\n",
    "x = np.array(x)"
   ]
  },
  {
   "cell_type": "code",
   "execution_count": 59,
   "id": "94d06f64",
   "metadata": {
    "execution": {
     "iopub.execute_input": "2022-05-17T17:06:04.890589Z",
     "iopub.status.busy": "2022-05-17T17:06:04.890316Z",
     "iopub.status.idle": "2022-05-17T17:06:04.909991Z",
     "shell.execute_reply": "2022-05-17T17:06:04.908976Z"
    },
    "papermill": {
     "duration": 0.253137,
     "end_time": "2022-05-17T17:06:04.911610",
     "exception": false,
     "start_time": "2022-05-17T17:06:04.658473",
     "status": "completed"
    },
    "tags": []
   },
   "outputs": [
    {
     "data": {
      "text/plain": [
       "array([['1.0', '20.0', '0.0', '1.0'],\n",
       "       ['0.5599999999999999', '11.2', '1.0', '0.0'],\n",
       "       ['0.78', '15.6', '1.0', '0.0'],\n",
       "       ['0.65', '13.0', '0.0', '1.0'],\n",
       "       ['0.93', '18.6', '0.0', '1.0'],\n",
       "       ['0.82', '16.4', '1.0', '0.0']], dtype='<U32')"
      ]
     },
     "execution_count": 59,
     "metadata": {},
     "output_type": "execute_result"
    }
   ],
   "source": [
    "from sklearn.compose import ColumnTransformer\n",
    "from sklearn.preprocessing import MaxAbsScaler, OneHotEncoder\n",
    "\n",
    "ct = ColumnTransformer([('scaler', MaxAbsScaler(), [0]),\n",
    "                        ('pass', 'passthrough', [0]),\n",
    "                        ('encoder', OneHotEncoder(), [1])\n",
    "                       ])\n",
    "ct.fit_transform(x)"
   ]
  },
  {
   "cell_type": "markdown",
   "id": "c2d79782",
   "metadata": {
    "papermill": {
     "duration": 0.158113,
     "end_time": "2022-05-17T17:06:05.227020",
     "exception": false,
     "start_time": "2022-05-17T17:06:05.068907",
     "status": "completed"
    },
    "tags": []
   },
   "source": [
    "# TransformedTargetRegressor"
   ]
  },
  {
   "cell_type": "markdown",
   "id": "38f14c8c",
   "metadata": {
    "papermill": {
     "duration": 0.158137,
     "end_time": "2022-05-17T17:06:05.537046",
     "exception": false,
     "start_time": "2022-05-17T17:06:05.378909",
     "status": "completed"
    },
    "tags": []
   },
   "source": [
    "Transforms the target variable y before fitting a regression model.\n",
    "- The predicted values are mapped back to the original space via an inverse transform.\n",
    "- It takes regressor and transformer to be applied to the target variable as arguments"
   ]
  },
  {
   "cell_type": "code",
   "execution_count": 60,
   "id": "4480a62a",
   "metadata": {
    "execution": {
     "iopub.execute_input": "2022-05-17T17:06:05.846347Z",
     "iopub.status.busy": "2022-05-17T17:06:05.845915Z",
     "iopub.status.idle": "2022-05-17T17:06:07.691109Z",
     "shell.execute_reply": "2022-05-17T17:06:07.688873Z"
    },
    "papermill": {
     "duration": 2.003077,
     "end_time": "2022-05-17T17:06:07.693668",
     "exception": false,
     "start_time": "2022-05-17T17:06:05.690591",
     "status": "completed"
    },
    "tags": []
   },
   "outputs": [
    {
     "name": "stdout",
     "output_type": "stream",
     "text": [
      "R2 score of raw label regression: 0.59\n",
      "R2 score of transformed label regression: 0.59\n"
     ]
    }
   ],
   "source": [
    "from sklearn.compose import TransformedTargetRegressor\n",
    "from sklearn.preprocessing import MaxAbsScaler\n",
    "from sklearn.linear_model import LinearRegression\n",
    "from sklearn.model_selection import train_test_split\n",
    "from sklearn.datasets import fetch_california_housing\n",
    "\n",
    "X, y = fetch_california_housing(return_X_y=True)\n",
    "X, y = X[:2000, :], y[:2000] # select a subset fo data\n",
    "\n",
    "transformer = MaxAbsScaler()\n",
    "\n",
    "# Two regressor - one based on the original label.\n",
    "regressor = LinearRegression()\n",
    "\n",
    "# Second regressor with transformed labels.\n",
    "regr = TransformedTargetRegressor(regressor=regressor, transformer=transformer)\n",
    "\n",
    "X_train, X_test, y_train, y_test = train_test_split(X, y, random_state=0)\n",
    "regr.fit(X_train, y_train)\n",
    "print('R2 score of raw label regression: {0:.2f}'.format(\n",
    "        regr.score(X_test, y_test)))\n",
    "\n",
    "raw_target_regr = LinearRegression().fit(X_train, y_train)\n",
    "print('R2 score of transformed label regression: {0:.2f}'.format(\n",
    "        raw_target_regr.score(X_test, y_test)))"
   ]
  },
  {
   "cell_type": "markdown",
   "id": "76193f36",
   "metadata": {
    "papermill": {
     "duration": 0.231918,
     "end_time": "2022-05-17T17:06:08.159218",
     "exception": false,
     "start_time": "2022-05-17T17:06:07.927300",
     "status": "completed"
    },
    "tags": []
   },
   "source": [
    "# Demonstration of Feature Selection, PCA, Pipelines, Handling class"
   ]
  },
  {
   "cell_type": "markdown",
   "id": "2813548c",
   "metadata": {
    "papermill": {
     "duration": 0.234575,
     "end_time": "2022-05-17T17:06:08.626360",
     "exception": false,
     "start_time": "2022-05-17T17:06:08.391785",
     "status": "completed"
    },
    "tags": []
   },
   "source": [
    "# Feature Selection"
   ]
  },
  {
   "cell_type": "markdown",
   "id": "e0d270bd",
   "metadata": {
    "papermill": {
     "duration": 0.233325,
     "end_time": "2022-05-17T17:06:09.094751",
     "exception": false,
     "start_time": "2022-05-17T17:06:08.861426",
     "status": "completed"
    },
    "tags": []
   },
   "source": [
    "sklearn.feature_selection module has useful APIs to select features/ reduce dimesionality, either to improve estimator's accuracy scores or to boost their performance on very high-dimensional datsets."
   ]
  },
  {
   "cell_type": "markdown",
   "id": "b79f005e",
   "metadata": {
    "papermill": {
     "duration": 0.240572,
     "end_time": "2022-05-17T17:06:09.568211",
     "exception": false,
     "start_time": "2022-05-17T17:06:09.327639",
     "status": "completed"
    },
    "tags": []
   },
   "source": [
    "## Filter based methods"
   ]
  },
  {
   "cell_type": "markdown",
   "id": "3f82bf82",
   "metadata": {
    "papermill": {
     "duration": 0.234983,
     "end_time": "2022-05-17T17:06:10.041412",
     "exception": false,
     "start_time": "2022-05-17T17:06:09.806429",
     "status": "completed"
    },
    "tags": []
   },
   "source": [
    "#### variance threshold"
   ]
  },
  {
   "cell_type": "code",
   "execution_count": 61,
   "id": "f6ff72cc",
   "metadata": {
    "execution": {
     "iopub.execute_input": "2022-05-17T17:06:10.517089Z",
     "iopub.status.busy": "2022-05-17T17:06:10.516589Z",
     "iopub.status.idle": "2022-05-17T17:06:10.525362Z",
     "shell.execute_reply": "2022-05-17T17:06:10.524055Z"
    },
    "papermill": {
     "duration": 0.25069,
     "end_time": "2022-05-17T17:06:10.528103",
     "exception": false,
     "start_time": "2022-05-17T17:06:10.277413",
     "status": "completed"
    },
    "tags": []
   },
   "outputs": [
    {
     "data": {
      "text/plain": [
       "array([ 1.25 , 67.735])"
      ]
     },
     "execution_count": 61,
     "metadata": {},
     "output_type": "execute_result"
    }
   ],
   "source": [
    "data = [{'age': 4, 'height': 96.0}, \n",
    "        {'age': 1, 'height': 73.9},\n",
    "        {'age': 3, 'height': 88.9},\n",
    "        {'age': 2, 'height': 81.6}]\n",
    "\n",
    "dv = DictVectorizer(sparse=False)\n",
    "data_transformed = dv.fit_transform(data)\n",
    "np.var(data_transformed, axis=0)"
   ]
  },
  {
   "cell_type": "code",
   "execution_count": 62,
   "id": "a6e6f2c2",
   "metadata": {
    "execution": {
     "iopub.execute_input": "2022-05-17T17:06:11.002510Z",
     "iopub.status.busy": "2022-05-17T17:06:11.002048Z",
     "iopub.status.idle": "2022-05-17T17:06:11.020958Z",
     "shell.execute_reply": "2022-05-17T17:06:11.019952Z"
    },
    "papermill": {
     "duration": 0.255173,
     "end_time": "2022-05-17T17:06:11.023103",
     "exception": false,
     "start_time": "2022-05-17T17:06:10.767930",
     "status": "completed"
    },
    "tags": []
   },
   "outputs": [
    {
     "data": {
      "text/plain": [
       "array([[96. ],\n",
       "       [73.9],\n",
       "       [88.9],\n",
       "       [81.6]])"
      ]
     },
     "execution_count": 62,
     "metadata": {},
     "output_type": "execute_result"
    }
   ],
   "source": [
    "from sklearn.feature_selection import VarianceThreshold\n",
    "\n",
    "vt = VarianceThreshold(threshold=9)\n",
    "data_new = vt.fit_transform(data_transformed)\n",
    "data_new"
   ]
  },
  {
   "cell_type": "markdown",
   "id": "b5aa5197",
   "metadata": {
    "papermill": {
     "duration": 0.23565,
     "end_time": "2022-05-17T17:06:11.487127",
     "exception": false,
     "start_time": "2022-05-17T17:06:11.251477",
     "status": "completed"
    },
    "tags": []
   },
   "source": [
    "#### SelectKBest"
   ]
  },
  {
   "cell_type": "code",
   "execution_count": 63,
   "id": "d3aa65a6",
   "metadata": {
    "execution": {
     "iopub.execute_input": "2022-05-17T17:06:11.959414Z",
     "iopub.status.busy": "2022-05-17T17:06:11.959147Z",
     "iopub.status.idle": "2022-05-17T17:06:11.973421Z",
     "shell.execute_reply": "2022-05-17T17:06:11.972959Z"
    },
    "papermill": {
     "duration": 0.251595,
     "end_time": "2022-05-17T17:06:11.975239",
     "exception": false,
     "start_time": "2022-05-17T17:06:11.723644",
     "status": "completed"
    },
    "tags": []
   },
   "outputs": [
    {
     "name": "stdout",
     "output_type": "stream",
     "text": [
      "Shape fo feature matrix before fature selection:(2000, 8)\n"
     ]
    }
   ],
   "source": [
    "import numpy as np\n",
    "from sklearn.datasets import fetch_california_housing\n",
    "from sklearn.model_selection import train_test_split\n",
    "from sklearn.feature_selection import SelectKBest, mutual_info_regression\n",
    "\n",
    "# download data\n",
    "X_california, y_california = fetch_california_housing(return_X_y=True)\n",
    "\n",
    "# Select a subset of data\n",
    "X, y = X_california[:2000, :], y_california[:2000]\n",
    "\n",
    "print(f'Shape fo feature matrix before fature selection:{X.shape}')"
   ]
  },
  {
   "cell_type": "markdown",
   "id": "8ce5bd48",
   "metadata": {
    "papermill": {
     "duration": 0.235337,
     "end_time": "2022-05-17T17:06:12.444008",
     "exception": false,
     "start_time": "2022-05-17T17:06:12.208671",
     "status": "completed"
    },
    "tags": []
   },
   "source": [
    "Let's select 3 most important features, since it is a regression problem, we can use only mutual_info_regression or f_regression scoring functions only."
   ]
  },
  {
   "cell_type": "code",
   "execution_count": 64,
   "id": "282c56a5",
   "metadata": {
    "execution": {
     "iopub.execute_input": "2022-05-17T17:06:12.916527Z",
     "iopub.status.busy": "2022-05-17T17:06:12.916161Z",
     "iopub.status.idle": "2022-05-17T17:06:12.994397Z",
     "shell.execute_reply": "2022-05-17T17:06:12.993810Z"
    },
    "papermill": {
     "duration": 0.31749,
     "end_time": "2022-05-17T17:06:12.996667",
     "exception": false,
     "start_time": "2022-05-17T17:06:12.679177",
     "status": "completed"
    },
    "tags": []
   },
   "outputs": [
    {
     "name": "stdout",
     "output_type": "stream",
     "text": [
      "Shape of feature matrix after feature selection:(2000, 3)\n"
     ]
    }
   ],
   "source": [
    "skb = SelectKBest(mutual_info_regression, k=3)\n",
    "x_new = skb.fit_transform(X, y)\n",
    "print(f'Shape of feature matrix after feature selection:{x_new.shape}')"
   ]
  },
  {
   "cell_type": "code",
   "execution_count": 65,
   "id": "101aab26",
   "metadata": {
    "execution": {
     "iopub.execute_input": "2022-05-17T17:06:13.307181Z",
     "iopub.status.busy": "2022-05-17T17:06:13.306958Z",
     "iopub.status.idle": "2022-05-17T17:06:13.311143Z",
     "shell.execute_reply": "2022-05-17T17:06:13.310708Z"
    },
    "papermill": {
     "duration": 0.163966,
     "end_time": "2022-05-17T17:06:13.313773",
     "exception": false,
     "start_time": "2022-05-17T17:06:13.149807",
     "status": "completed"
    },
    "tags": []
   },
   "outputs": [
    {
     "data": {
      "text/plain": [
       "array(['x0', 'x6', 'x7'], dtype=object)"
      ]
     },
     "execution_count": 65,
     "metadata": {},
     "output_type": "execute_result"
    }
   ],
   "source": [
    "skb.get_feature_names_out()"
   ]
  },
  {
   "cell_type": "markdown",
   "id": "b0f5f3f0",
   "metadata": {
    "papermill": {
     "duration": 0.237996,
     "end_time": "2022-05-17T17:06:13.791912",
     "exception": false,
     "start_time": "2022-05-17T17:06:13.553916",
     "status": "completed"
    },
    "tags": []
   },
   "source": [
    "#### SelectPercentile"
   ]
  },
  {
   "cell_type": "code",
   "execution_count": 66,
   "id": "a8f2ae19",
   "metadata": {
    "execution": {
     "iopub.execute_input": "2022-05-17T17:06:14.263050Z",
     "iopub.status.busy": "2022-05-17T17:06:14.262616Z",
     "iopub.status.idle": "2022-05-17T17:06:14.339904Z",
     "shell.execute_reply": "2022-05-17T17:06:14.339415Z"
    },
    "papermill": {
     "duration": 0.315433,
     "end_time": "2022-05-17T17:06:14.342073",
     "exception": false,
     "start_time": "2022-05-17T17:06:14.026640",
     "status": "completed"
    },
    "tags": []
   },
   "outputs": [
    {
     "name": "stdout",
     "output_type": "stream",
     "text": [
      "Shape of feature matrix after feature selection:(2000, 3)\n"
     ]
    }
   ],
   "source": [
    "from sklearn.feature_selection import SelectPercentile\n",
    "sp = SelectPercentile(mutual_info_regression, percentile=30)\n",
    "X_new = sp.fit_transform(X, y)\n",
    "print(f'Shape of feature matrix after feature selection:{X_new.shape}')"
   ]
  },
  {
   "cell_type": "code",
   "execution_count": 67,
   "id": "fd6eaa45",
   "metadata": {
    "execution": {
     "iopub.execute_input": "2022-05-17T17:06:14.823872Z",
     "iopub.status.busy": "2022-05-17T17:06:14.823398Z",
     "iopub.status.idle": "2022-05-17T17:06:14.829505Z",
     "shell.execute_reply": "2022-05-17T17:06:14.828644Z"
    },
    "papermill": {
     "duration": 0.254766,
     "end_time": "2022-05-17T17:06:14.831815",
     "exception": false,
     "start_time": "2022-05-17T17:06:14.577049",
     "status": "completed"
    },
    "tags": []
   },
   "outputs": [
    {
     "data": {
      "text/plain": [
       "array(['x0', 'x6', 'x7'], dtype=object)"
      ]
     },
     "execution_count": 67,
     "metadata": {},
     "output_type": "execute_result"
    }
   ],
   "source": [
    "sp.get_feature_names_out()"
   ]
  },
  {
   "cell_type": "markdown",
   "id": "24a0fd84",
   "metadata": {
    "papermill": {
     "duration": 0.238516,
     "end_time": "2022-05-17T17:06:15.310070",
     "exception": false,
     "start_time": "2022-05-17T17:06:15.071554",
     "status": "completed"
    },
    "tags": []
   },
   "source": [
    "#### GenericUnivariateSelect\n"
   ]
  },
  {
   "cell_type": "code",
   "execution_count": 68,
   "id": "0ca7b00a",
   "metadata": {
    "execution": {
     "iopub.execute_input": "2022-05-17T17:06:15.791849Z",
     "iopub.status.busy": "2022-05-17T17:06:15.791405Z",
     "iopub.status.idle": "2022-05-17T17:06:15.982911Z",
     "shell.execute_reply": "2022-05-17T17:06:15.981568Z"
    },
    "papermill": {
     "duration": 0.434605,
     "end_time": "2022-05-17T17:06:15.984999",
     "exception": false,
     "start_time": "2022-05-17T17:06:15.550394",
     "status": "completed"
    },
    "tags": []
   },
   "outputs": [
    {
     "name": "stdout",
     "output_type": "stream",
     "text": [
      "Shape of feature matrix before selection:(2000, 8)\n",
      "Shape of feature matrix after feature selction:(2000, 3)\n"
     ]
    }
   ],
   "source": [
    "from sklearn.feature_selection import GenericUnivariateSelect\n",
    "gus = GenericUnivariateSelect(mutual_info_regression, mode='k_best', param=3)\n",
    "X_new = gus.fit_transform(X, y)\n",
    "print(f'Shape of feature matrix before selection:{X.shape}')\n",
    "print(f'Shape of feature matrix after feature selction:{X_new.shape}')"
   ]
  },
  {
   "cell_type": "markdown",
   "id": "46606de2",
   "metadata": {
    "papermill": {
     "duration": 0.236328,
     "end_time": "2022-05-17T17:06:16.454123",
     "exception": false,
     "start_time": "2022-05-17T17:06:16.217795",
     "status": "completed"
    },
    "tags": []
   },
   "source": [
    "## Wrapper based methods"
   ]
  },
  {
   "cell_type": "markdown",
   "id": "ba2ab2dd",
   "metadata": {
    "papermill": {
     "duration": 0.241846,
     "end_time": "2022-05-17T17:06:16.933987",
     "exception": false,
     "start_time": "2022-05-17T17:06:16.692141",
     "status": "completed"
    },
    "tags": []
   },
   "source": [
    "#### RFE(Recursive Feature Elimination)\n",
    "- **Step1**: Fits a model and\n",
    "- **Step2**: Ranks the features, afterwards it removes one or more features (depending upon `step` parameter).\n",
    "\n",
    "These two steps are repeated until desired number of features are selected.\n"
   ]
  },
  {
   "cell_type": "code",
   "execution_count": 69,
   "id": "44af4b29",
   "metadata": {
    "execution": {
     "iopub.execute_input": "2022-05-17T17:06:17.419437Z",
     "iopub.status.busy": "2022-05-17T17:06:17.418229Z",
     "iopub.status.idle": "2022-05-17T17:06:17.436329Z",
     "shell.execute_reply": "2022-05-17T17:06:17.435509Z"
    },
    "papermill": {
     "duration": 0.26484,
     "end_time": "2022-05-17T17:06:17.439507",
     "exception": false,
     "start_time": "2022-05-17T17:06:17.174667",
     "status": "completed"
    },
    "tags": []
   },
   "outputs": [
    {
     "name": "stdout",
     "output_type": "stream",
     "text": [
      "[ True False False False False False  True  True]\n",
      "Rank of each feature is: [1 5 4 3 6 2 1 1]\n"
     ]
    }
   ],
   "source": [
    "from sklearn.datasets import make_friedman1\n",
    "from sklearn.feature_selection import RFE\n",
    "from sklearn.linear_model import LinearRegression\n",
    "\n",
    "estimator = LinearRegression()\n",
    "selector = RFE(estimator, n_features_to_select=3, step=1)\n",
    "selector = selector.fit(X, y)\n",
    "\n",
    "# support_ attribute is a boolean array\n",
    "# marking which features are selected\n",
    "print(selector.support_)\n",
    "\n",
    "# rank of each feature\n",
    "# if it's value is '1', then it is selected\n",
    "# features with rank 2 and onwards are ranked least.\n",
    "print(f'Rank of each feature is: {selector.ranking_}')\n"
   ]
  },
  {
   "cell_type": "code",
   "execution_count": 70,
   "id": "c835eea7",
   "metadata": {
    "execution": {
     "iopub.execute_input": "2022-05-17T17:06:17.931732Z",
     "iopub.status.busy": "2022-05-17T17:06:17.931480Z",
     "iopub.status.idle": "2022-05-17T17:06:17.936053Z",
     "shell.execute_reply": "2022-05-17T17:06:17.935520Z"
    },
    "papermill": {
     "duration": 0.246632,
     "end_time": "2022-05-17T17:06:17.938931",
     "exception": false,
     "start_time": "2022-05-17T17:06:17.692299",
     "status": "completed"
    },
    "tags": []
   },
   "outputs": [
    {
     "name": "stdout",
     "output_type": "stream",
     "text": [
      "Shape of feature matrix after feature selection: (2000, 3)\n"
     ]
    }
   ],
   "source": [
    "X_new = selector.transform(X)\n",
    "print(f'Shape of feature matrix after feature selection: {X_new.shape}')"
   ]
  },
  {
   "cell_type": "markdown",
   "id": "b4b3c30a",
   "metadata": {
    "papermill": {
     "duration": 0.239297,
     "end_time": "2022-05-17T17:06:18.416799",
     "exception": false,
     "start_time": "2022-05-17T17:06:18.177502",
     "status": "completed"
    },
    "tags": []
   },
   "source": [
    "### RFE-CV\n",
    "this adds another layer of corsss validation to RFE\n"
   ]
  },
  {
   "cell_type": "markdown",
   "id": "06a81963",
   "metadata": {
    "papermill": {
     "duration": 0.236985,
     "end_time": "2022-05-17T17:06:18.889746",
     "exception": false,
     "start_time": "2022-05-17T17:06:18.652761",
     "status": "completed"
    },
    "tags": []
   },
   "source": [
    "### SelectFromModel\n",
    "\n",
    "Selects desired no. of important features (as specified with max_features parameter) above certain threshold of feature importance as obtained from the trained estimator.\n",
    "\n",
    "- The feature importance is obtained via coef_, feature_importances_ or an importance_getter callable from the trainded estimator.\n",
    "\n",
    "- The feature importance threshold can be specified either numerically or through string argument based on built in heuristics such as mean, median and float multiples of these like 0.1*mean"
   ]
  },
  {
   "cell_type": "code",
   "execution_count": 71,
   "id": "bbdcba83",
   "metadata": {
    "execution": {
     "iopub.execute_input": "2022-05-17T17:06:19.358523Z",
     "iopub.status.busy": "2022-05-17T17:06:19.358251Z",
     "iopub.status.idle": "2022-05-17T17:06:19.367948Z",
     "shell.execute_reply": "2022-05-17T17:06:19.367339Z"
    },
    "papermill": {
     "duration": 0.245974,
     "end_time": "2022-05-17T17:06:19.370108",
     "exception": false,
     "start_time": "2022-05-17T17:06:19.124134",
     "status": "completed"
    },
    "tags": []
   },
   "outputs": [
    {
     "name": "stdout",
     "output_type": "stream",
     "text": [
      "Coefficients of features: [ 3.64048292e-01  5.56221906e-03  5.13591243e-02 -1.64474348e-01\n",
      "  5.90411479e-05 -1.64573915e-01 -2.17724525e-01 -1.85343265e-01]\n",
      "Indices of top 3 features: [1 2 0]\n",
      "shape of feature matrix after feature selection: (2000, 3)\n"
     ]
    }
   ],
   "source": [
    "from sklearn.feature_selection import SelectFromModel\n",
    "\n",
    "estimator = LinearRegression()\n",
    "estimator.fit(X, y)\n",
    "\n",
    "print(f'Coefficients of features: {estimator.coef_}')\n",
    "print(f'Indices of top {3} features: {np.argsort(estimator.coef_)[-3:]}')\n",
    "t = np.argsort(np.abs(estimator.coef_))[-3:]\n",
    "model = SelectFromModel(estimator, max_features=3, prefit=True)\n",
    "X_new = model.transform(X)\n",
    "print(f'shape of feature matrix after feature selection: {X_new.shape}')"
   ]
  },
  {
   "cell_type": "markdown",
   "id": "fd99250b",
   "metadata": {
    "papermill": {
     "duration": 0.155564,
     "end_time": "2022-05-17T17:06:19.698013",
     "exception": false,
     "start_time": "2022-05-17T17:06:19.542449",
     "status": "completed"
    },
    "tags": []
   },
   "source": [
    "### SequentialFeatureSelection\n",
    "It performs feature selection by selecting or deselecting features one by one in greedy manner"
   ]
  },
  {
   "cell_type": "code",
   "execution_count": 72,
   "id": "9e16ca28",
   "metadata": {
    "execution": {
     "iopub.execute_input": "2022-05-17T17:06:20.012558Z",
     "iopub.status.busy": "2022-05-17T17:06:20.012327Z",
     "iopub.status.idle": "2022-05-17T17:06:20.015962Z",
     "shell.execute_reply": "2022-05-17T17:06:20.015403Z"
    },
    "papermill": {
     "duration": 0.163049,
     "end_time": "2022-05-17T17:06:20.017824",
     "exception": false,
     "start_time": "2022-05-17T17:06:19.854775",
     "status": "completed"
    },
    "tags": []
   },
   "outputs": [],
   "source": [
    "from sklearn.feature_selection import SequentialFeatureSelector"
   ]
  },
  {
   "cell_type": "code",
   "execution_count": 73,
   "id": "b75aff04",
   "metadata": {
    "execution": {
     "iopub.execute_input": "2022-05-17T17:06:20.444021Z",
     "iopub.status.busy": "2022-05-17T17:06:20.443779Z",
     "iopub.status.idle": "2022-05-17T17:06:20.561138Z",
     "shell.execute_reply": "2022-05-17T17:06:20.560562Z"
    },
    "papermill": {
     "duration": 0.307502,
     "end_time": "2022-05-17T17:06:20.563175",
     "exception": false,
     "start_time": "2022-05-17T17:06:20.255673",
     "status": "completed"
    },
    "tags": []
   },
   "outputs": [
    {
     "name": "stdout",
     "output_type": "stream",
     "text": [
      "[ True False False False False  True  True False]\n",
      "CPU times: user 113 ms, sys: 0 ns, total: 113 ms\n",
      "Wall time: 113 ms\n"
     ]
    }
   ],
   "source": [
    "%%time\n",
    "estimator = LinearRegression()\n",
    "\n",
    "sfs = SequentialFeatureSelector(estimator, n_features_to_select=3)\n",
    "sfs.fit_transform(X, y)\n",
    "print(sfs.get_support())"
   ]
  },
  {
   "cell_type": "markdown",
   "id": "14b0f932",
   "metadata": {
    "papermill": {
     "duration": 0.158564,
     "end_time": "2022-05-17T17:06:20.918027",
     "exception": false,
     "start_time": "2022-05-17T17:06:20.759463",
     "status": "completed"
    },
    "tags": []
   },
   "source": [
    "The features corrsponding to True in the output sfs.get_support() are selected. In this case, feature 1, 6 and 7 are selected."
   ]
  },
  {
   "cell_type": "code",
   "execution_count": 74,
   "id": "746b2114",
   "metadata": {
    "execution": {
     "iopub.execute_input": "2022-05-17T17:06:21.233841Z",
     "iopub.status.busy": "2022-05-17T17:06:21.233640Z",
     "iopub.status.idle": "2022-05-17T17:06:21.416432Z",
     "shell.execute_reply": "2022-05-17T17:06:21.415791Z"
    },
    "papermill": {
     "duration": 0.341625,
     "end_time": "2022-05-17T17:06:21.418674",
     "exception": false,
     "start_time": "2022-05-17T17:06:21.077049",
     "status": "completed"
    },
    "tags": []
   },
   "outputs": [
    {
     "name": "stdout",
     "output_type": "stream",
     "text": [
      "[ True False False False False  True  True False]\n",
      "CPU times: user 204 ms, sys: 144 ms, total: 347 ms\n",
      "Wall time: 179 ms\n"
     ]
    }
   ],
   "source": [
    "%%time\n",
    "estimator = LinearRegression()\n",
    "sfs = SequentialFeatureSelector(estimator, n_features_to_select=3, \n",
    "                               direction='backward')\n",
    "sfs.fit_transform(X, y)\n",
    "print(sfs.get_support())"
   ]
  },
  {
   "cell_type": "markdown",
   "id": "c8a3eeaf",
   "metadata": {
    "papermill": {
     "duration": 0.242366,
     "end_time": "2022-05-17T17:06:21.903846",
     "exception": false,
     "start_time": "2022-05-17T17:06:21.661480",
     "status": "completed"
    },
    "tags": []
   },
   "source": [
    "A couple of observations:\n",
    " - Both forward and backward selection methods select the same features.\n",
    " - The backward selection method takes longer than forward selection method.\n",
    " \n",
    "From above examples, we can observe that depending upon number of features, SFS can accomplish feature selection in different periods forward and backward."
   ]
  },
  {
   "cell_type": "markdown",
   "id": "5c3f3daf",
   "metadata": {
    "papermill": {
     "duration": 0.320567,
     "end_time": "2022-05-17T17:06:22.463867",
     "exception": false,
     "start_time": "2022-05-17T17:06:22.143300",
     "status": "completed"
    },
    "tags": []
   },
   "source": [
    "# 11. PCA"
   ]
  },
  {
   "cell_type": "markdown",
   "id": "332d878b",
   "metadata": {
    "papermill": {
     "duration": 0.240512,
     "end_time": "2022-05-17T17:06:22.945449",
     "exception": false,
     "start_time": "2022-05-17T17:06:22.704937",
     "status": "completed"
    },
    "tags": []
   },
   "source": [
    "PCA is used to decompose a multivariate dataset in a set of successive orthogonal components that capture maximum amount of the variance.\n",
    "\n",
    "It helps in reducing dimensions of a dataset, thus computational cost of next steps e.g. training model, cross validation etc. \n",
    "\n",
    "Lets generate some artificial data to better understand PCA:"
   ]
  },
  {
   "cell_type": "code",
   "execution_count": null,
   "id": "f3adeeff",
   "metadata": {
    "papermill": {
     "duration": 0.243198,
     "end_time": "2022-05-17T17:06:23.421561",
     "exception": false,
     "start_time": "2022-05-17T17:06:23.178363",
     "status": "completed"
    },
    "tags": []
   },
   "outputs": [],
   "source": []
  },
  {
   "cell_type": "markdown",
   "id": "61c8c00f",
   "metadata": {
    "papermill": {
     "duration": 0.242286,
     "end_time": "2022-05-17T17:06:23.909625",
     "exception": false,
     "start_time": "2022-05-17T17:06:23.667339",
     "status": "completed"
    },
    "tags": []
   },
   "source": [
    "Let's fit a PCA transformer on this data and compute its two principal components:\n"
   ]
  },
  {
   "cell_type": "code",
   "execution_count": 75,
   "id": "a4af9efc",
   "metadata": {
    "execution": {
     "iopub.execute_input": "2022-05-17T17:06:24.390149Z",
     "iopub.status.busy": "2022-05-17T17:06:24.389662Z",
     "iopub.status.idle": "2022-05-17T17:06:24.392609Z",
     "shell.execute_reply": "2022-05-17T17:06:24.392172Z"
    },
    "papermill": {
     "duration": 0.243493,
     "end_time": "2022-05-17T17:06:24.394360",
     "exception": false,
     "start_time": "2022-05-17T17:06:24.150867",
     "status": "completed"
    },
    "tags": []
   },
   "outputs": [],
   "source": [
    "# from sklearn.decomposition import PCA\n",
    "# pca = PCA(n_components=2)\n",
    "# pca.fit(x)"
   ]
  },
  {
   "cell_type": "markdown",
   "id": "ee018340",
   "metadata": {
    "papermill": {
     "duration": 0.24075,
     "end_time": "2022-05-17T17:06:24.875075",
     "exception": false,
     "start_time": "2022-05-17T17:06:24.634325",
     "status": "completed"
    },
    "tags": []
   },
   "source": [
    "Let's print the pricipal axes, they are two 2D vectors for this example. The PCA object returns them in the form of a matrix, where each column represents a principal component."
   ]
  },
  {
   "cell_type": "code",
   "execution_count": 76,
   "id": "7ef60d51",
   "metadata": {
    "execution": {
     "iopub.execute_input": "2022-05-17T17:06:25.358938Z",
     "iopub.status.busy": "2022-05-17T17:06:25.358563Z",
     "iopub.status.idle": "2022-05-17T17:06:25.361679Z",
     "shell.execute_reply": "2022-05-17T17:06:25.361138Z"
    },
    "papermill": {
     "duration": 0.247839,
     "end_time": "2022-05-17T17:06:25.363412",
     "exception": false,
     "start_time": "2022-05-17T17:06:25.115573",
     "status": "completed"
    },
    "tags": []
   },
   "outputs": [],
   "source": [
    "# print(f'The {pca.n_components_} principal axes are\\n', pca.components_)"
   ]
  },
  {
   "cell_type": "markdown",
   "id": "5f67d37b",
   "metadata": {
    "papermill": {
     "duration": 0.237451,
     "end_time": "2022-05-17T17:06:25.841883",
     "exception": false,
     "start_time": "2022-05-17T17:06:25.604432",
     "status": "completed"
    },
    "tags": []
   },
   "source": [
    "Let's also look at the explained variance corresponding to each principal axes."
   ]
  },
  {
   "cell_type": "code",
   "execution_count": 77,
   "id": "efe5efe5",
   "metadata": {
    "execution": {
     "iopub.execute_input": "2022-05-17T17:06:26.317457Z",
     "iopub.status.busy": "2022-05-17T17:06:26.317017Z",
     "iopub.status.idle": "2022-05-17T17:06:26.319856Z",
     "shell.execute_reply": "2022-05-17T17:06:26.319442Z"
    },
    "papermill": {
     "duration": 0.242487,
     "end_time": "2022-05-17T17:06:26.321655",
     "exception": false,
     "start_time": "2022-05-17T17:06:26.079168",
     "status": "completed"
    },
    "tags": []
   },
   "outputs": [],
   "source": [
    "# print('Explained variance by each component', pca.explained_variance_)\n"
   ]
  },
  {
   "cell_type": "code",
   "execution_count": 78,
   "id": "ee99abee",
   "metadata": {
    "execution": {
     "iopub.execute_input": "2022-05-17T17:06:26.800015Z",
     "iopub.status.busy": "2022-05-17T17:06:26.799526Z",
     "iopub.status.idle": "2022-05-17T17:06:26.802719Z",
     "shell.execute_reply": "2022-05-17T17:06:26.802189Z"
    },
    "papermill": {
     "duration": 0.245774,
     "end_time": "2022-05-17T17:06:26.804640",
     "exception": false,
     "start_time": "2022-05-17T17:06:26.558866",
     "status": "completed"
    },
    "tags": []
   },
   "outputs": [],
   "source": [
    "# print('Mean across x1 and x2 dimensions is:', pca.mean_)"
   ]
  },
  {
   "cell_type": "markdown",
   "id": "25a08141",
   "metadata": {
    "papermill": {
     "duration": 0.244217,
     "end_time": "2022-05-17T17:06:27.297408",
     "exception": false,
     "start_time": "2022-05-17T17:06:27.053191",
     "status": "completed"
    },
    "tags": []
   },
   "source": [
    "To better understand PCA, lets visualize these principal axes.\n",
    "   - There are two principal axes C1 and C2. They are orthogonal to each other. An additional vector C3 is also mentioned for comparison.\n",
    "   - The lengths of C1 and C2 are taken as square root of respective explained variance. the length of the vector implies how important that vector is.\n",
    "    "
   ]
  },
  {
   "cell_type": "code",
   "execution_count": null,
   "id": "a7410a46",
   "metadata": {
    "papermill": {
     "duration": 0.240474,
     "end_time": "2022-05-17T17:06:27.781060",
     "exception": false,
     "start_time": "2022-05-17T17:06:27.540586",
     "status": "completed"
    },
    "tags": []
   },
   "outputs": [],
   "source": []
  },
  {
   "cell_type": "code",
   "execution_count": 79,
   "id": "d60a508d",
   "metadata": {
    "execution": {
     "iopub.execute_input": "2022-05-17T17:06:28.261473Z",
     "iopub.status.busy": "2022-05-17T17:06:28.261070Z",
     "iopub.status.idle": "2022-05-17T17:06:28.264228Z",
     "shell.execute_reply": "2022-05-17T17:06:28.263542Z"
    },
    "papermill": {
     "duration": 0.245286,
     "end_time": "2022-05-17T17:06:28.266460",
     "exception": false,
     "start_time": "2022-05-17T17:06:28.021174",
     "status": "completed"
    },
    "tags": []
   },
   "outputs": [],
   "source": [
    "# # draw projections of data points on different vectors\n",
    "# projections = x@pca.components_\n",
    "# print(projections.shape)\n",
    "\n",
    "# arbitrary_projections = x@c3\n",
    "# print(arbitrary_projection.shape)\n"
   ]
  },
  {
   "cell_type": "code",
   "execution_count": 80,
   "id": "a5040d1c",
   "metadata": {
    "execution": {
     "iopub.execute_input": "2022-05-17T17:06:28.765028Z",
     "iopub.status.busy": "2022-05-17T17:06:28.764639Z",
     "iopub.status.idle": "2022-05-17T17:06:28.768233Z",
     "shell.execute_reply": "2022-05-17T17:06:28.767537Z"
    },
    "papermill": {
     "duration": 0.24996,
     "end_time": "2022-05-17T17:06:28.770563",
     "exception": false,
     "start_time": "2022-05-17T17:06:28.520603",
     "status": "completed"
    },
    "tags": []
   },
   "outputs": [],
   "source": [
    "# # plt.figure(figsize=(8, 6))\n",
    "# plt.scatter(projections[:, 0], 1+np.zeros((200, 1)), alpha=0.3, color='r')\n",
    "# plt.scatter(projections[:, 1], -1+np.zeros((200, 1)), alpha=0.3, color='b')\n",
    "# plt.scatter(arbitrary_projection, np.zeros((200,)), alpha=0.3, color='grey')\n",
    "# plt.legend(['$\\mathbf{c_1}$', '$\\mathbf{c_2}$', '$\\mathbf{c_3}'], prop={'size': 16})\n",
    "# plt.title(\"Variance covered by different vectors\", size=20)\n",
    "# plt.ylim([-1.5, 1.5])\n",
    "# plt.axis('equal')\n",
    "# plt.grid(True)\n",
    "# plt.yticks([], [])\n",
    "# plt.xlabel('$z$', size = 20)\n",
    "# plt.show()"
   ]
  },
  {
   "cell_type": "markdown",
   "id": "7d758f9a",
   "metadata": {
    "papermill": {
     "duration": 0.243795,
     "end_time": "2022-05-17T17:06:29.253141",
     "exception": false,
     "start_time": "2022-05-17T17:06:29.009346",
     "status": "completed"
    },
    "tags": []
   },
   "source": [
    "## Reducing Dimensions"
   ]
  },
  {
   "cell_type": "code",
   "execution_count": 81,
   "id": "4bd00325",
   "metadata": {
    "execution": {
     "iopub.execute_input": "2022-05-17T17:06:29.620747Z",
     "iopub.status.busy": "2022-05-17T17:06:29.620446Z",
     "iopub.status.idle": "2022-05-17T17:06:29.624210Z",
     "shell.execute_reply": "2022-05-17T17:06:29.623304Z"
    },
    "papermill": {
     "duration": 0.162635,
     "end_time": "2022-05-17T17:06:29.626202",
     "exception": false,
     "start_time": "2022-05-17T17:06:29.463567",
     "status": "completed"
    },
    "tags": []
   },
   "outputs": [],
   "source": [
    "# pca = PCA(n_components=1)\n",
    "# pca.fit(x)\n",
    "# x_pca = pca.transform(x)\n",
    "# print(\"original shape: \", x.shape )\n",
    "# print(\"transformed shape: \", x_pca.shape)"
   ]
  },
  {
   "cell_type": "code",
   "execution_count": null,
   "id": "558815ed",
   "metadata": {
    "papermill": {
     "duration": 0.241974,
     "end_time": "2022-05-17T17:06:30.111922",
     "exception": false,
     "start_time": "2022-05-17T17:06:29.869948",
     "status": "completed"
    },
    "tags": []
   },
   "outputs": [],
   "source": []
  },
  {
   "cell_type": "code",
   "execution_count": null,
   "id": "31bfa065",
   "metadata": {
    "papermill": {
     "duration": 0.252044,
     "end_time": "2022-05-17T17:06:30.600650",
     "exception": false,
     "start_time": "2022-05-17T17:06:30.348606",
     "status": "completed"
    },
    "tags": []
   },
   "outputs": [],
   "source": []
  },
  {
   "cell_type": "markdown",
   "id": "75df4b56",
   "metadata": {
    "papermill": {
     "duration": 0.283316,
     "end_time": "2022-05-17T17:06:31.132345",
     "exception": false,
     "start_time": "2022-05-17T17:06:30.849029",
     "status": "completed"
    },
    "tags": []
   },
   "source": [
    "# 12. Chaining Transformers"
   ]
  },
  {
   "cell_type": "markdown",
   "id": "ecb36149",
   "metadata": {
    "papermill": {
     "duration": 0.253578,
     "end_time": "2022-05-17T17:06:31.649018",
     "exception": false,
     "start_time": "2022-05-17T17:06:31.395440",
     "status": "completed"
    },
    "tags": []
   },
   "source": [
    "The preprocessing transformations are applied one after another on the input feature matrix.\n",
    "    - It's important to apply exactly same transformation on training, evaluation and test set in the same order.\n",
    "    \n",
    "Failing to do so would lead to incorrect predictions from model due to distribution shift and hence incorrect performance evaluation.\n",
    "\n",
    "sklearn.pipeline module provides utilities to build a composite estimator, as a chain of transformers and estimators."
   ]
  },
  {
   "cell_type": "markdown",
   "id": "02ee7f5d",
   "metadata": {
    "papermill": {
     "duration": 0.246833,
     "end_time": "2022-05-17T17:06:32.146066",
     "exception": false,
     "start_time": "2022-05-17T17:06:31.899233",
     "status": "completed"
    },
    "tags": []
   },
   "source": [
    "## Pipeline"
   ]
  },
  {
   "cell_type": "markdown",
   "id": "c2a2c1ba",
   "metadata": {
    "papermill": {
     "duration": 0.24729,
     "end_time": "2022-05-17T17:06:32.641204",
     "exception": false,
     "start_time": "2022-05-17T17:06:32.393914",
     "status": "completed"
    },
    "tags": []
   },
   "source": [
    "Sequentially apply a list of transformers and estimators.\n",
    "   - Intermediate steps of the pipeline must be 'transformers' that is , they must implement fit and transform methods.\n",
    "   - The final estimator only needs to implement fit.\n",
    "\n",
    "The purpose of the pipeline is to assemble several steps that can be cross-validated together while setting different parameters."
   ]
  },
  {
   "cell_type": "markdown",
   "id": "e3c7fdac",
   "metadata": {
    "papermill": {
     "duration": 0.242898,
     "end_time": "2022-05-17T17:06:33.131428",
     "exception": false,
     "start_time": "2022-05-17T17:06:32.888530",
     "status": "completed"
    },
    "tags": []
   },
   "source": [
    "### Creating pipelines"
   ]
  },
  {
   "cell_type": "code",
   "execution_count": 82,
   "id": "4c6171a1",
   "metadata": {
    "execution": {
     "iopub.execute_input": "2022-05-17T17:06:33.627170Z",
     "iopub.status.busy": "2022-05-17T17:06:33.626926Z",
     "iopub.status.idle": "2022-05-17T17:06:33.632978Z",
     "shell.execute_reply": "2022-05-17T17:06:33.631940Z"
    },
    "papermill": {
     "duration": 0.257377,
     "end_time": "2022-05-17T17:06:33.635026",
     "exception": false,
     "start_time": "2022-05-17T17:06:33.377649",
     "status": "completed"
    },
    "tags": []
   },
   "outputs": [],
   "source": [
    "from sklearn.pipeline import Pipeline\n",
    "from sklearn.impute import SimpleImputer\n",
    "from sklearn.preprocessing import StandardScaler\n",
    "estimators = [\n",
    "    ('simpleImputer', SimpleImputer()),\n",
    "    ('standardScaler', StandardScaler()),\n",
    "]\n",
    "pipe = Pipeline(steps=estimators)"
   ]
  },
  {
   "cell_type": "markdown",
   "id": "a1c2e26e",
   "metadata": {
    "papermill": {
     "duration": 0.168172,
     "end_time": "2022-05-17T17:06:33.977955",
     "exception": false,
     "start_time": "2022-05-17T17:06:33.809783",
     "status": "completed"
    },
    "tags": []
   },
   "source": [
    "The same pipeline can also be reated vai make_pipeline() helper function, which doesn't take names of teh steps and assigns them generic names based on their steps."
   ]
  },
  {
   "cell_type": "code",
   "execution_count": 83,
   "id": "d24d1f2e",
   "metadata": {
    "execution": {
     "iopub.execute_input": "2022-05-17T17:06:34.309170Z",
     "iopub.status.busy": "2022-05-17T17:06:34.308900Z",
     "iopub.status.idle": "2022-05-17T17:06:34.313328Z",
     "shell.execute_reply": "2022-05-17T17:06:34.312172Z"
    },
    "papermill": {
     "duration": 0.172182,
     "end_time": "2022-05-17T17:06:34.315143",
     "exception": false,
     "start_time": "2022-05-17T17:06:34.142961",
     "status": "completed"
    },
    "tags": []
   },
   "outputs": [],
   "source": [
    "from sklearn.pipeline import make_pipeline\n",
    "pipe = make_pipeline(SimpleImputer(), StandardScaler())"
   ]
  },
  {
   "cell_type": "markdown",
   "id": "cfcec050",
   "metadata": {
    "papermill": {
     "duration": 0.153621,
     "end_time": "2022-05-17T17:06:34.622117",
     "exception": false,
     "start_time": "2022-05-17T17:06:34.468496",
     "status": "completed"
    },
    "tags": []
   },
   "source": [
    "### Accessing individual steps in a pipeline"
   ]
  },
  {
   "cell_type": "code",
   "execution_count": 84,
   "id": "89ff8cbc",
   "metadata": {
    "execution": {
     "iopub.execute_input": "2022-05-17T17:06:34.936752Z",
     "iopub.status.busy": "2022-05-17T17:06:34.936475Z",
     "iopub.status.idle": "2022-05-17T17:06:34.941896Z",
     "shell.execute_reply": "2022-05-17T17:06:34.940961Z"
    },
    "papermill": {
     "duration": 0.164488,
     "end_time": "2022-05-17T17:06:34.943760",
     "exception": false,
     "start_time": "2022-05-17T17:06:34.779272",
     "status": "completed"
    },
    "tags": []
   },
   "outputs": [],
   "source": [
    "from sklearn.decomposition import PCA\n",
    "estimators = [\n",
    "    ('simpleImputer', SimpleImputer()),\n",
    "    ('pca', PCA()),\n",
    "    ('regressor', LinearRegression())\n",
    "]\n",
    "pipe = Pipeline(steps=estimators)"
   ]
  },
  {
   "cell_type": "code",
   "execution_count": 85,
   "id": "12d2afa4",
   "metadata": {
    "execution": {
     "iopub.execute_input": "2022-05-17T17:06:35.425457Z",
     "iopub.status.busy": "2022-05-17T17:06:35.424802Z",
     "iopub.status.idle": "2022-05-17T17:06:35.429821Z",
     "shell.execute_reply": "2022-05-17T17:06:35.429080Z"
    },
    "papermill": {
     "duration": 0.248672,
     "end_time": "2022-05-17T17:06:35.431885",
     "exception": false,
     "start_time": "2022-05-17T17:06:35.183213",
     "status": "completed"
    },
    "tags": []
   },
   "outputs": [
    {
     "name": "stdout",
     "output_type": "stream",
     "text": [
      "3\n"
     ]
    }
   ],
   "source": [
    "# Let's print no. of steps in this pipeline:\n",
    "print(len(pipe.steps))"
   ]
  },
  {
   "cell_type": "code",
   "execution_count": 86,
   "id": "690e3276",
   "metadata": {
    "execution": {
     "iopub.execute_input": "2022-05-17T17:06:35.916741Z",
     "iopub.status.busy": "2022-05-17T17:06:35.916506Z",
     "iopub.status.idle": "2022-05-17T17:06:35.924773Z",
     "shell.execute_reply": "2022-05-17T17:06:35.922952Z"
    },
    "papermill": {
     "duration": 0.253426,
     "end_time": "2022-05-17T17:06:35.926902",
     "exception": false,
     "start_time": "2022-05-17T17:06:35.673476",
     "status": "completed"
    },
    "tags": []
   },
   "outputs": [
    {
     "name": "stdout",
     "output_type": "stream",
     "text": [
      "[('simpleImputer', SimpleImputer()), ('pca', PCA()), ('regressor', LinearRegression())]\n"
     ]
    }
   ],
   "source": [
    "# Let's look at each of the steps:\n",
    "print(pipe.steps)"
   ]
  },
  {
   "cell_type": "markdown",
   "id": "2aa5181b",
   "metadata": {
    "papermill": {
     "duration": 0.236619,
     "end_time": "2022-05-17T17:06:36.402176",
     "exception": false,
     "start_time": "2022-05-17T17:06:36.165557",
     "status": "completed"
    },
    "tags": []
   },
   "source": [
    "The second estimator can be accesed in following 4 ways:"
   ]
  },
  {
   "cell_type": "code",
   "execution_count": 87,
   "id": "2510ac28",
   "metadata": {
    "execution": {
     "iopub.execute_input": "2022-05-17T17:06:36.882085Z",
     "iopub.status.busy": "2022-05-17T17:06:36.881558Z",
     "iopub.status.idle": "2022-05-17T17:06:36.886977Z",
     "shell.execute_reply": "2022-05-17T17:06:36.886046Z"
    },
    "papermill": {
     "duration": 0.247184,
     "end_time": "2022-05-17T17:06:36.888979",
     "exception": false,
     "start_time": "2022-05-17T17:06:36.641795",
     "status": "completed"
    },
    "tags": []
   },
   "outputs": [
    {
     "name": "stdout",
     "output_type": "stream",
     "text": [
      "PCA()\n"
     ]
    }
   ],
   "source": [
    "print(pipe.named_steps.pca)"
   ]
  },
  {
   "cell_type": "code",
   "execution_count": 88,
   "id": "9d9b4ad8",
   "metadata": {
    "execution": {
     "iopub.execute_input": "2022-05-17T17:06:37.363672Z",
     "iopub.status.busy": "2022-05-17T17:06:37.363193Z",
     "iopub.status.idle": "2022-05-17T17:06:37.370047Z",
     "shell.execute_reply": "2022-05-17T17:06:37.369183Z"
    },
    "papermill": {
     "duration": 0.244815,
     "end_time": "2022-05-17T17:06:37.371735",
     "exception": false,
     "start_time": "2022-05-17T17:06:37.126920",
     "status": "completed"
    },
    "tags": []
   },
   "outputs": [
    {
     "data": {
      "text/plain": [
       "('pca', PCA())"
      ]
     },
     "execution_count": 88,
     "metadata": {},
     "output_type": "execute_result"
    }
   ],
   "source": [
    "pipe.steps[1]"
   ]
  },
  {
   "cell_type": "code",
   "execution_count": 89,
   "id": "8395309f",
   "metadata": {
    "execution": {
     "iopub.execute_input": "2022-05-17T17:06:37.850214Z",
     "iopub.status.busy": "2022-05-17T17:06:37.849900Z",
     "iopub.status.idle": "2022-05-17T17:06:37.854108Z",
     "shell.execute_reply": "2022-05-17T17:06:37.853704Z"
    },
    "papermill": {
     "duration": 0.248317,
     "end_time": "2022-05-17T17:06:37.856825",
     "exception": false,
     "start_time": "2022-05-17T17:06:37.608508",
     "status": "completed"
    },
    "tags": []
   },
   "outputs": [
    {
     "data": {
      "text/plain": [
       "PCA()"
      ]
     },
     "execution_count": 89,
     "metadata": {},
     "output_type": "execute_result"
    }
   ],
   "source": [
    "pipe[1]"
   ]
  },
  {
   "cell_type": "code",
   "execution_count": 90,
   "id": "efe4bb52",
   "metadata": {
    "execution": {
     "iopub.execute_input": "2022-05-17T17:06:38.346695Z",
     "iopub.status.busy": "2022-05-17T17:06:38.346480Z",
     "iopub.status.idle": "2022-05-17T17:06:38.351290Z",
     "shell.execute_reply": "2022-05-17T17:06:38.350434Z"
    },
    "papermill": {
     "duration": 0.253513,
     "end_time": "2022-05-17T17:06:38.354285",
     "exception": false,
     "start_time": "2022-05-17T17:06:38.100772",
     "status": "completed"
    },
    "tags": []
   },
   "outputs": [
    {
     "data": {
      "text/plain": [
       "PCA()"
      ]
     },
     "execution_count": 90,
     "metadata": {},
     "output_type": "execute_result"
    }
   ],
   "source": [
    "pipe['pca']"
   ]
  },
  {
   "cell_type": "markdown",
   "id": "9d5567e3",
   "metadata": {
    "papermill": {
     "duration": 0.241761,
     "end_time": "2022-05-17T17:06:38.839100",
     "exception": false,
     "start_time": "2022-05-17T17:06:38.597339",
     "status": "completed"
    },
    "tags": []
   },
   "source": [
    "### Accessing parameters of a step in pipeline\n",
    "\n",
    "Parameters of the estimators in the pipeline can be accessedd usnig the__syntax, note that there are two underscores b/w and"
   ]
  },
  {
   "cell_type": "code",
   "execution_count": 91,
   "id": "7eaf1057",
   "metadata": {
    "execution": {
     "iopub.execute_input": "2022-05-17T17:06:39.318838Z",
     "iopub.status.busy": "2022-05-17T17:06:39.318321Z",
     "iopub.status.idle": "2022-05-17T17:06:39.326584Z",
     "shell.execute_reply": "2022-05-17T17:06:39.325881Z"
    },
    "papermill": {
     "duration": 0.249793,
     "end_time": "2022-05-17T17:06:39.328152",
     "exception": false,
     "start_time": "2022-05-17T17:06:39.078359",
     "status": "completed"
    },
    "tags": []
   },
   "outputs": [
    {
     "data": {
      "text/plain": [
       "Pipeline(steps=[('simpleImputer', SimpleImputer()),\n",
       "                ('pca', PCA(n_components=2)),\n",
       "                ('regressor', LinearRegression())])"
      ]
     },
     "execution_count": 91,
     "metadata": {},
     "output_type": "execute_result"
    }
   ],
   "source": [
    "estimators = [\n",
    "    ('simpleImputer', SimpleImputer()),\n",
    "    ('pca', PCA()),\n",
    "    ('regressor', LinearRegression())\n",
    "]\n",
    "pipe = Pipeline(steps=estimators)\n",
    "\n",
    "pipe.set_params(pca__n_components=2)"
   ]
  },
  {
   "cell_type": "markdown",
   "id": "b7ad2cbd",
   "metadata": {
    "papermill": {
     "duration": 0.163123,
     "end_time": "2022-05-17T17:06:39.670485",
     "exception": false,
     "start_time": "2022-05-17T17:06:39.507362",
     "status": "completed"
    },
    "tags": []
   },
   "source": [
    "In above example n_components of PCA() step is set after the pipeline is created."
   ]
  },
  {
   "cell_type": "markdown",
   "id": "a6bdbee2",
   "metadata": {
    "papermill": {
     "duration": 0.157216,
     "end_time": "2022-05-17T17:06:39.987416",
     "exception": false,
     "start_time": "2022-05-17T17:06:39.830200",
     "status": "completed"
    },
    "tags": []
   },
   "source": [
    "### GridSearch with pipeline\n",
    "\n",
    "By using nameing convention of nested parameters, grid search can implemented."
   ]
  },
  {
   "cell_type": "code",
   "execution_count": 92,
   "id": "a4dcb024",
   "metadata": {
    "execution": {
     "iopub.execute_input": "2022-05-17T17:06:40.308417Z",
     "iopub.status.busy": "2022-05-17T17:06:40.308112Z",
     "iopub.status.idle": "2022-05-17T17:06:40.315239Z",
     "shell.execute_reply": "2022-05-17T17:06:40.314442Z"
    },
    "papermill": {
     "duration": 0.168432,
     "end_time": "2022-05-17T17:06:40.317858",
     "exception": false,
     "start_time": "2022-05-17T17:06:40.149426",
     "status": "completed"
    },
    "tags": []
   },
   "outputs": [],
   "source": [
    "from sklearn.impute import KNNImputer\n",
    "from sklearn.linear_model import LogisticRegression\n",
    "from sklearn.svm import SVC\n",
    "from sklearn.model_selection import GridSearchCV\n",
    "\n",
    "param_grid = dict(imputer=['passthrough',\n",
    "                          SimpleImputer(),\n",
    "                          KNNImputer()],\n",
    "                 clf=[SVC(), LogisticRegression()],\n",
    "                 clf__c=[0.1, 10, 100])\n",
    "\n",
    "grid_search = GridSearchCV(pipe, param_grid=param_grid)"
   ]
  },
  {
   "cell_type": "markdown",
   "id": "8f7ffa83",
   "metadata": {
    "papermill": {
     "duration": 0.246364,
     "end_time": "2022-05-17T17:06:40.808156",
     "exception": false,
     "start_time": "2022-05-17T17:06:40.561792",
     "status": "completed"
    },
    "tags": []
   },
   "source": [
    "* c is an inverse of regularization, lower its value stronger the regularization is.\n",
    "* in the example above clf__c provides a set of values for grid search."
   ]
  },
  {
   "cell_type": "markdown",
   "id": "477af86f",
   "metadata": {
    "papermill": {
     "duration": 0.240766,
     "end_time": "2022-05-17T17:06:41.287958",
     "exception": false,
     "start_time": "2022-05-17T17:06:41.047192",
     "status": "completed"
    },
    "tags": []
   },
   "source": [
    "### Caching Transformers\n",
    "\n",
    "Transforming data is computationally expensive step.\n",
    "   * For grid search, transformers need not be applied for every parameter configuration. They can be applied only once, and then transformed data can reused.\n",
    "\n",
    "this can be achieved by setting memory parameter of a pipeline object."
   ]
  },
  {
   "cell_type": "code",
   "execution_count": 93,
   "id": "06818647",
   "metadata": {
    "execution": {
     "iopub.execute_input": "2022-05-17T17:06:41.781952Z",
     "iopub.status.busy": "2022-05-17T17:06:41.781585Z",
     "iopub.status.idle": "2022-05-17T17:06:41.786491Z",
     "shell.execute_reply": "2022-05-17T17:06:41.785474Z"
    },
    "papermill": {
     "duration": 0.253865,
     "end_time": "2022-05-17T17:06:41.788414",
     "exception": false,
     "start_time": "2022-05-17T17:06:41.534549",
     "status": "completed"
    },
    "tags": []
   },
   "outputs": [],
   "source": [
    "import tempfile\n",
    "tempDirPath = tempfile.TemporaryDirectory()"
   ]
  },
  {
   "cell_type": "code",
   "execution_count": 94,
   "id": "8211845a",
   "metadata": {
    "execution": {
     "iopub.execute_input": "2022-05-17T17:06:42.273601Z",
     "iopub.status.busy": "2022-05-17T17:06:42.273325Z",
     "iopub.status.idle": "2022-05-17T17:06:42.277593Z",
     "shell.execute_reply": "2022-05-17T17:06:42.276714Z"
    },
    "papermill": {
     "duration": 0.253214,
     "end_time": "2022-05-17T17:06:42.280794",
     "exception": false,
     "start_time": "2022-05-17T17:06:42.027580",
     "status": "completed"
    },
    "tags": []
   },
   "outputs": [],
   "source": [
    "estimators = [\n",
    "    ('simpleImputer', SimpleImputer()),\n",
    "    ('pca', PCA(2)),\n",
    "    ('regressor', LinearRegression())\n",
    "]\n",
    "pipe = Pipeline(steps=estimators, memory=tempDirPath)"
   ]
  },
  {
   "cell_type": "markdown",
   "id": "6e505908",
   "metadata": {
    "papermill": {
     "duration": 0.240408,
     "end_time": "2022-05-17T17:06:42.762162",
     "exception": false,
     "start_time": "2022-05-17T17:06:42.521754",
     "status": "completed"
    },
    "tags": []
   },
   "source": [
    "FeatureUnion\n",
    "\n",
    "Concatenates results of multiple transformer objects.\n",
    " * Applies a list of transformer objects in parallel, and their outputs are concatenated side-by-side into a larger matrix.\n",
    "FeatureUnion and Pipeline can be used to create complex transformers."
   ]
  },
  {
   "cell_type": "markdown",
   "id": "10da9561",
   "metadata": {
    "papermill": {
     "duration": 0.238331,
     "end_time": "2022-05-17T17:06:43.239583",
     "exception": false,
     "start_time": "2022-05-17T17:06:43.001252",
     "status": "completed"
    },
    "tags": []
   },
   "source": [
    "# 13. Visualizing Pipelines"
   ]
  },
  {
   "cell_type": "code",
   "execution_count": 95,
   "id": "fca23783",
   "metadata": {
    "execution": {
     "iopub.execute_input": "2022-05-17T17:06:43.723942Z",
     "iopub.status.busy": "2022-05-17T17:06:43.723722Z",
     "iopub.status.idle": "2022-05-17T17:06:43.729537Z",
     "shell.execute_reply": "2022-05-17T17:06:43.728858Z"
    },
    "papermill": {
     "duration": 0.252665,
     "end_time": "2022-05-17T17:06:43.731226",
     "exception": false,
     "start_time": "2022-05-17T17:06:43.478561",
     "status": "completed"
    },
    "tags": []
   },
   "outputs": [],
   "source": [
    "from sklearn.preprocessing import StandardScaler, LabelBinarizer\n",
    "from sklearn.pipeline import Pipeline, FeatureUnion\n",
    "from sklearn.compose import ColumnTransformer\n",
    "from sklearn.impute import SimpleImputer\n",
    "\n",
    "num_pipeline = Pipeline([('selector', ColumnTransformer([('select_first_4',\n",
    "                                                         'passthrough',\n",
    "                                                         slice(0, 4))])),\n",
    "                        ('imputer', SimpleImputer(strategy=\"median\")),\n",
    "                        ('std_scaler', StandardScaler()),\n",
    "                        ])\n",
    "\n",
    "cat_pipeline = ColumnTransformer([('label_binarizer', LabelBinarizer(), [4]),])\n",
    "\n",
    "full_pipeline = FeatureUnion(transformer_list=\n",
    "                            [(\"num_pipeline\", num_pipeline),\n",
    "                             (\"cat_pipeline\", cat_pipeline),\n",
    "                            ])"
   ]
  },
  {
   "cell_type": "code",
   "execution_count": 96,
   "id": "cdbcb3ac",
   "metadata": {
    "execution": {
     "iopub.execute_input": "2022-05-17T17:06:44.219969Z",
     "iopub.status.busy": "2022-05-17T17:06:44.219552Z",
     "iopub.status.idle": "2022-05-17T17:06:44.245457Z",
     "shell.execute_reply": "2022-05-17T17:06:44.244749Z"
    },
    "papermill": {
     "duration": 0.273915,
     "end_time": "2022-05-17T17:06:44.247026",
     "exception": false,
     "start_time": "2022-05-17T17:06:43.973111",
     "status": "completed"
    },
    "tags": []
   },
   "outputs": [
    {
     "data": {
      "text/html": [
       "<style>#sk-a7b47b76-8b6c-407b-984b-447907368d58 {color: black;background-color: white;}#sk-a7b47b76-8b6c-407b-984b-447907368d58 pre{padding: 0;}#sk-a7b47b76-8b6c-407b-984b-447907368d58 div.sk-toggleable {background-color: white;}#sk-a7b47b76-8b6c-407b-984b-447907368d58 label.sk-toggleable__label {cursor: pointer;display: block;width: 100%;margin-bottom: 0;padding: 0.3em;box-sizing: border-box;text-align: center;}#sk-a7b47b76-8b6c-407b-984b-447907368d58 label.sk-toggleable__label-arrow:before {content: \"▸\";float: left;margin-right: 0.25em;color: #696969;}#sk-a7b47b76-8b6c-407b-984b-447907368d58 label.sk-toggleable__label-arrow:hover:before {color: black;}#sk-a7b47b76-8b6c-407b-984b-447907368d58 div.sk-estimator:hover label.sk-toggleable__label-arrow:before {color: black;}#sk-a7b47b76-8b6c-407b-984b-447907368d58 div.sk-toggleable__content {max-height: 0;max-width: 0;overflow: hidden;text-align: left;background-color: #f0f8ff;}#sk-a7b47b76-8b6c-407b-984b-447907368d58 div.sk-toggleable__content pre {margin: 0.2em;color: black;border-radius: 0.25em;background-color: #f0f8ff;}#sk-a7b47b76-8b6c-407b-984b-447907368d58 input.sk-toggleable__control:checked~div.sk-toggleable__content {max-height: 200px;max-width: 100%;overflow: auto;}#sk-a7b47b76-8b6c-407b-984b-447907368d58 input.sk-toggleable__control:checked~label.sk-toggleable__label-arrow:before {content: \"▾\";}#sk-a7b47b76-8b6c-407b-984b-447907368d58 div.sk-estimator input.sk-toggleable__control:checked~label.sk-toggleable__label {background-color: #d4ebff;}#sk-a7b47b76-8b6c-407b-984b-447907368d58 div.sk-label input.sk-toggleable__control:checked~label.sk-toggleable__label {background-color: #d4ebff;}#sk-a7b47b76-8b6c-407b-984b-447907368d58 input.sk-hidden--visually {border: 0;clip: rect(1px 1px 1px 1px);clip: rect(1px, 1px, 1px, 1px);height: 1px;margin: -1px;overflow: hidden;padding: 0;position: absolute;width: 1px;}#sk-a7b47b76-8b6c-407b-984b-447907368d58 div.sk-estimator {font-family: monospace;background-color: #f0f8ff;border: 1px dotted black;border-radius: 0.25em;box-sizing: border-box;margin-bottom: 0.5em;}#sk-a7b47b76-8b6c-407b-984b-447907368d58 div.sk-estimator:hover {background-color: #d4ebff;}#sk-a7b47b76-8b6c-407b-984b-447907368d58 div.sk-parallel-item::after {content: \"\";width: 100%;border-bottom: 1px solid gray;flex-grow: 1;}#sk-a7b47b76-8b6c-407b-984b-447907368d58 div.sk-label:hover label.sk-toggleable__label {background-color: #d4ebff;}#sk-a7b47b76-8b6c-407b-984b-447907368d58 div.sk-serial::before {content: \"\";position: absolute;border-left: 1px solid gray;box-sizing: border-box;top: 2em;bottom: 0;left: 50%;}#sk-a7b47b76-8b6c-407b-984b-447907368d58 div.sk-serial {display: flex;flex-direction: column;align-items: center;background-color: white;padding-right: 0.2em;padding-left: 0.2em;}#sk-a7b47b76-8b6c-407b-984b-447907368d58 div.sk-item {z-index: 1;}#sk-a7b47b76-8b6c-407b-984b-447907368d58 div.sk-parallel {display: flex;align-items: stretch;justify-content: center;background-color: white;}#sk-a7b47b76-8b6c-407b-984b-447907368d58 div.sk-parallel::before {content: \"\";position: absolute;border-left: 1px solid gray;box-sizing: border-box;top: 2em;bottom: 0;left: 50%;}#sk-a7b47b76-8b6c-407b-984b-447907368d58 div.sk-parallel-item {display: flex;flex-direction: column;position: relative;background-color: white;}#sk-a7b47b76-8b6c-407b-984b-447907368d58 div.sk-parallel-item:first-child::after {align-self: flex-end;width: 50%;}#sk-a7b47b76-8b6c-407b-984b-447907368d58 div.sk-parallel-item:last-child::after {align-self: flex-start;width: 50%;}#sk-a7b47b76-8b6c-407b-984b-447907368d58 div.sk-parallel-item:only-child::after {width: 0;}#sk-a7b47b76-8b6c-407b-984b-447907368d58 div.sk-dashed-wrapped {border: 1px dashed gray;margin: 0 0.4em 0.5em 0.4em;box-sizing: border-box;padding-bottom: 0.4em;background-color: white;position: relative;}#sk-a7b47b76-8b6c-407b-984b-447907368d58 div.sk-label label {font-family: monospace;font-weight: bold;background-color: white;display: inline-block;line-height: 1.2em;}#sk-a7b47b76-8b6c-407b-984b-447907368d58 div.sk-label-container {position: relative;z-index: 2;text-align: center;}#sk-a7b47b76-8b6c-407b-984b-447907368d58 div.sk-container {/* jupyter's `normalize.less` sets `[hidden] { display: none; }` but bootstrap.min.css set `[hidden] { display: none !important; }` so we also need the `!important` here to be able to override the default hidden behavior on the sphinx rendered scikit-learn.org. See: https://github.com/scikit-learn/scikit-learn/issues/21755 */display: inline-block !important;position: relative;}#sk-a7b47b76-8b6c-407b-984b-447907368d58 div.sk-text-repr-fallback {display: none;}</style><div id=\"sk-a7b47b76-8b6c-407b-984b-447907368d58\" class=\"sk-top-container\"><div class=\"sk-text-repr-fallback\"><pre>FeatureUnion(transformer_list=[(&#x27;num_pipeline&#x27;,\n",
       "                                Pipeline(steps=[(&#x27;selector&#x27;,\n",
       "                                                 ColumnTransformer(transformers=[(&#x27;select_first_4&#x27;,\n",
       "                                                                                  &#x27;passthrough&#x27;,\n",
       "                                                                                  slice(0, 4, None))])),\n",
       "                                                (&#x27;imputer&#x27;,\n",
       "                                                 SimpleImputer(strategy=&#x27;median&#x27;)),\n",
       "                                                (&#x27;std_scaler&#x27;,\n",
       "                                                 StandardScaler())])),\n",
       "                               (&#x27;cat_pipeline&#x27;,\n",
       "                                ColumnTransformer(transformers=[(&#x27;label_binarizer&#x27;,\n",
       "                                                                 LabelBinarizer(),\n",
       "                                                                 [4])]))])</pre><b>Please rerun this cell to show the HTML repr or trust the notebook.</b></div><div class=\"sk-container\" hidden><div class=\"sk-item sk-dashed-wrapped\"><div class=\"sk-label-container\"><div class=\"sk-label sk-toggleable\"><input class=\"sk-toggleable__control sk-hidden--visually\" id=\"a6e379b3-e4de-4bf4-97f7-9429d585e16c\" type=\"checkbox\" ><label for=\"a6e379b3-e4de-4bf4-97f7-9429d585e16c\" class=\"sk-toggleable__label sk-toggleable__label-arrow\">FeatureUnion</label><div class=\"sk-toggleable__content\"><pre>FeatureUnion(transformer_list=[(&#x27;num_pipeline&#x27;,\n",
       "                                Pipeline(steps=[(&#x27;selector&#x27;,\n",
       "                                                 ColumnTransformer(transformers=[(&#x27;select_first_4&#x27;,\n",
       "                                                                                  &#x27;passthrough&#x27;,\n",
       "                                                                                  slice(0, 4, None))])),\n",
       "                                                (&#x27;imputer&#x27;,\n",
       "                                                 SimpleImputer(strategy=&#x27;median&#x27;)),\n",
       "                                                (&#x27;std_scaler&#x27;,\n",
       "                                                 StandardScaler())])),\n",
       "                               (&#x27;cat_pipeline&#x27;,\n",
       "                                ColumnTransformer(transformers=[(&#x27;label_binarizer&#x27;,\n",
       "                                                                 LabelBinarizer(),\n",
       "                                                                 [4])]))])</pre></div></div></div><div class=\"sk-parallel\"><div class=\"sk-parallel-item\"><div class=\"sk-item\"><div class=\"sk-label-container\"><div class=\"sk-label sk-toggleable\"><label>num_pipeline</label></div></div><div class=\"sk-serial\"><div class=\"sk-item\"><div class=\"sk-serial\"><div class=\"sk-item sk-dashed-wrapped\"><div class=\"sk-label-container\"><div class=\"sk-label sk-toggleable\"><input class=\"sk-toggleable__control sk-hidden--visually\" id=\"ff3817bd-ed97-4591-b660-d97be7557c40\" type=\"checkbox\" ><label for=\"ff3817bd-ed97-4591-b660-d97be7557c40\" class=\"sk-toggleable__label sk-toggleable__label-arrow\">selector: ColumnTransformer</label><div class=\"sk-toggleable__content\"><pre>ColumnTransformer(transformers=[(&#x27;select_first_4&#x27;, &#x27;passthrough&#x27;,\n",
       "                                 slice(0, 4, None))])</pre></div></div></div><div class=\"sk-parallel\"><div class=\"sk-parallel-item\"><div class=\"sk-item\"><div class=\"sk-label-container\"><div class=\"sk-label sk-toggleable\"><input class=\"sk-toggleable__control sk-hidden--visually\" id=\"fefecb06-f8eb-4a29-9c29-cfff76021eb3\" type=\"checkbox\" ><label for=\"fefecb06-f8eb-4a29-9c29-cfff76021eb3\" class=\"sk-toggleable__label sk-toggleable__label-arrow\">select_first_4</label><div class=\"sk-toggleable__content\"><pre>slice(0, 4, None)</pre></div></div></div><div class=\"sk-serial\"><div class=\"sk-item\"><div class=\"sk-estimator sk-toggleable\"><input class=\"sk-toggleable__control sk-hidden--visually\" id=\"404f1d70-92e7-40e1-b23e-c43298dc8c81\" type=\"checkbox\" ><label for=\"404f1d70-92e7-40e1-b23e-c43298dc8c81\" class=\"sk-toggleable__label sk-toggleable__label-arrow\">passthrough</label><div class=\"sk-toggleable__content\"><pre>passthrough</pre></div></div></div></div></div></div></div></div><div class=\"sk-item\"><div class=\"sk-estimator sk-toggleable\"><input class=\"sk-toggleable__control sk-hidden--visually\" id=\"d3f1a144-d9cf-4cbc-97e2-42f66052520d\" type=\"checkbox\" ><label for=\"d3f1a144-d9cf-4cbc-97e2-42f66052520d\" class=\"sk-toggleable__label sk-toggleable__label-arrow\">SimpleImputer</label><div class=\"sk-toggleable__content\"><pre>SimpleImputer(strategy=&#x27;median&#x27;)</pre></div></div></div><div class=\"sk-item\"><div class=\"sk-estimator sk-toggleable\"><input class=\"sk-toggleable__control sk-hidden--visually\" id=\"401bed0b-f889-4074-b03d-49f99d63111c\" type=\"checkbox\" ><label for=\"401bed0b-f889-4074-b03d-49f99d63111c\" class=\"sk-toggleable__label sk-toggleable__label-arrow\">StandardScaler</label><div class=\"sk-toggleable__content\"><pre>StandardScaler()</pre></div></div></div></div></div></div></div></div><div class=\"sk-parallel-item\"><div class=\"sk-item\"><div class=\"sk-label-container\"><div class=\"sk-label sk-toggleable\"><label>cat_pipeline</label></div></div><div class=\"sk-serial\"><div class=\"sk-item sk-dashed-wrapped\"><div class=\"sk-parallel\"><div class=\"sk-parallel-item\"><div class=\"sk-item\"><div class=\"sk-label-container\"><div class=\"sk-label sk-toggleable\"><input class=\"sk-toggleable__control sk-hidden--visually\" id=\"8e666323-0e5a-402d-9ff6-b5a328af25a8\" type=\"checkbox\" ><label for=\"8e666323-0e5a-402d-9ff6-b5a328af25a8\" class=\"sk-toggleable__label sk-toggleable__label-arrow\">label_binarizer</label><div class=\"sk-toggleable__content\"><pre>[4]</pre></div></div></div><div class=\"sk-serial\"><div class=\"sk-item\"><div class=\"sk-estimator sk-toggleable\"><input class=\"sk-toggleable__control sk-hidden--visually\" id=\"f4bc9291-7526-4d77-a45f-fe46034146db\" type=\"checkbox\" ><label for=\"f4bc9291-7526-4d77-a45f-fe46034146db\" class=\"sk-toggleable__label sk-toggleable__label-arrow\">LabelBinarizer</label><div class=\"sk-toggleable__content\"><pre>LabelBinarizer()</pre></div></div></div></div></div></div></div></div></div></div></div></div></div></div></div>"
      ],
      "text/plain": [
       "FeatureUnion(transformer_list=[('num_pipeline',\n",
       "                                Pipeline(steps=[('selector',\n",
       "                                                 ColumnTransformer(transformers=[('select_first_4',\n",
       "                                                                                  'passthrough',\n",
       "                                                                                  slice(0, 4, None))])),\n",
       "                                                ('imputer',\n",
       "                                                 SimpleImputer(strategy='median')),\n",
       "                                                ('std_scaler',\n",
       "                                                 StandardScaler())])),\n",
       "                               ('cat_pipeline',\n",
       "                                ColumnTransformer(transformers=[('label_binarizer',\n",
       "                                                                 LabelBinarizer(),\n",
       "                                                                 [4])]))])"
      ]
     },
     "execution_count": 96,
     "metadata": {},
     "output_type": "execute_result"
    }
   ],
   "source": [
    "from sklearn import set_config\n",
    "set_config(display='diagram')\n",
    "# displays HTML representation in a jupyter context\n",
    "full_pipeline"
   ]
  },
  {
   "cell_type": "markdown",
   "id": "424678d9",
   "metadata": {
    "papermill": {
     "duration": 0.159895,
     "end_time": "2022-05-17T17:06:44.567479",
     "exception": false,
     "start_time": "2022-05-17T17:06:44.407584",
     "status": "completed"
    },
    "tags": []
   },
   "source": [
    "# 14. Handling imbalanced data"
   ]
  },
  {
   "cell_type": "markdown",
   "id": "39d763bb",
   "metadata": {
    "papermill": {
     "duration": 0.212999,
     "end_time": "2022-05-17T17:06:44.940554",
     "exception": false,
     "start_time": "2022-05-17T17:06:44.727555",
     "status": "completed"
    },
    "tags": []
   },
   "source": [
    "Imbalanced datasets are those where one class is vey less represented than the other class. This. kind of data results in less efficient ML algorithms\n",
    "\n",
    "There are two main approaches to handle imbalanced data:\n",
    "   * Undersampling\n",
    "   * OverSampling"
   ]
  },
  {
   "cell_type": "markdown",
   "id": "c25a1670",
   "metadata": {
    "papermill": {
     "duration": 0.156129,
     "end_time": "2022-05-17T17:06:45.255184",
     "exception": false,
     "start_time": "2022-05-17T17:06:45.099055",
     "status": "completed"
    },
    "tags": []
   },
   "source": [
    "### handling imbalance dataset with help of `Wine quality dataset`"
   ]
  },
  {
   "cell_type": "code",
   "execution_count": 97,
   "id": "c3bb293f",
   "metadata": {
    "execution": {
     "iopub.execute_input": "2022-05-17T17:06:45.573020Z",
     "iopub.status.busy": "2022-05-17T17:06:45.572565Z",
     "iopub.status.idle": "2022-05-17T17:06:46.280925Z",
     "shell.execute_reply": "2022-05-17T17:06:46.279954Z"
    },
    "papermill": {
     "duration": 0.87199,
     "end_time": "2022-05-17T17:06:46.283794",
     "exception": false,
     "start_time": "2022-05-17T17:06:45.411804",
     "status": "completed"
    },
    "tags": []
   },
   "outputs": [
    {
     "data": {
      "image/png": "[encoded data removed]",
      "text/plain": [
       "<Figure size 432x288 with 1 Axes>"
      ]
     },
     "metadata": {},
     "output_type": "display_data"
    }
   ],
   "source": [
    "wine_data = pd.read_csv(\n",
    "        \"https://archive.ics.uci.edu/ml/machine-learning-databases/wine-quality/\"\n",
    "        \"winequality-red.csv\",\n",
    "        sep=\";\")\n",
    "\n",
    "# display the histogram of the targetd variable 'quality'\n",
    "wine_data['quality'].hist(bins=50)\n",
    "plt.xlabel('Quality')\n",
    "plt.ylabel('No. of samples')\n",
    "plt.show()"
   ]
  },
  {
   "cell_type": "code",
   "execution_count": 98,
   "id": "484dda9c",
   "metadata": {
    "execution": {
     "iopub.execute_input": "2022-05-17T17:06:46.606364Z",
     "iopub.status.busy": "2022-05-17T17:06:46.605907Z",
     "iopub.status.idle": "2022-05-17T17:06:46.611392Z",
     "shell.execute_reply": "2022-05-17T17:06:46.610632Z"
    },
    "papermill": {
     "duration": 0.167691,
     "end_time": "2022-05-17T17:06:46.613190",
     "exception": false,
     "start_time": "2022-05-17T17:06:46.445499",
     "status": "completed"
    },
    "tags": []
   },
   "outputs": [
    {
     "data": {
      "text/plain": [
       "(1599, 12)"
      ]
     },
     "execution_count": 98,
     "metadata": {},
     "output_type": "execute_result"
    }
   ],
   "source": [
    "wine_data.shape"
   ]
  },
  {
   "cell_type": "markdown",
   "id": "1e5233c0",
   "metadata": {
    "papermill": {
     "duration": 0.241636,
     "end_time": "2022-05-17T17:06:47.102210",
     "exception": false,
     "start_time": "2022-05-17T17:06:46.860574",
     "status": "completed"
    },
    "tags": []
   },
   "source": [
    "## Undersampling"
   ]
  },
  {
   "cell_type": "markdown",
   "id": "b042dbf6",
   "metadata": {
    "papermill": {
     "duration": 0.245227,
     "end_time": "2022-05-17T17:06:47.587800",
     "exception": false,
     "start_time": "2022-05-17T17:06:47.342573",
     "status": "completed"
    },
    "tags": []
   },
   "source": [
    "Undersampling refers to sampling from the majority class in order to keep only a part of these data points.\n",
    "\n",
    "It may be carried out using RandomUnderSampler class from imblearn library"
   ]
  },
  {
   "cell_type": "code",
   "execution_count": 99,
   "id": "3a97d406",
   "metadata": {
    "execution": {
     "iopub.execute_input": "2022-05-17T17:06:48.002248Z",
     "iopub.status.busy": "2022-05-17T17:06:48.001695Z",
     "iopub.status.idle": "2022-05-17T17:06:48.234189Z",
     "shell.execute_reply": "2022-05-17T17:06:48.233288Z"
    },
    "papermill": {
     "duration": 0.39971,
     "end_time": "2022-05-17T17:06:48.236622",
     "exception": false,
     "start_time": "2022-05-17T17:06:47.836912",
     "status": "completed"
    },
    "tags": []
   },
   "outputs": [],
   "source": [
    "from imblearn.under_sampling import RandomUnderSampler\n"
   ]
  },
  {
   "cell_type": "code",
   "execution_count": 100,
   "id": "5baad028",
   "metadata": {
    "execution": {
     "iopub.execute_input": "2022-05-17T17:06:48.729705Z",
     "iopub.status.busy": "2022-05-17T17:06:48.729464Z",
     "iopub.status.idle": "2022-05-17T17:06:48.743356Z",
     "shell.execute_reply": "2022-05-17T17:06:48.742291Z"
    },
    "papermill": {
     "duration": 0.26273,
     "end_time": "2022-05-17T17:06:48.745667",
     "exception": false,
     "start_time": "2022-05-17T17:06:48.482937",
     "status": "completed"
    },
    "tags": []
   },
   "outputs": [
    {
     "name": "stdout",
     "output_type": "stream",
     "text": [
      "class 3: (10, 12)\n",
      "class 4: (53, 12)\n",
      "class 5: (681, 12)\n",
      "class 6: (638, 12)\n",
      "class 7: (199, 12)\n",
      "class 8: (18, 12)\n"
     ]
    }
   ],
   "source": [
    "# class count\n",
    "class_count_3, class_count_4, class_count_5, class_count_6, class_count_7, class_count_8 = wine_data['quality'].value_counts()\n",
    "\n",
    "# separate class\n",
    "class_3 = wine_data[wine_data['quality'] == 3]\n",
    "class_4 = wine_data[wine_data['quality'] == 4]\n",
    "class_5 = wine_data[wine_data['quality'] == 5]\n",
    "class_6 = wine_data[wine_data['quality'] == 6]\n",
    "class_7 = wine_data[wine_data['quality'] == 7]\n",
    "class_8 = wine_data[wine_data['quality'] == 8]\n",
    "\n",
    "# print the shape of the class\n",
    "print('class 3:', class_3.shape)\n",
    "print('class 4:', class_4.shape)\n",
    "print('class 5:', class_5.shape)\n",
    "print('class 6:', class_6.shape)\n",
    "print('class 7:', class_7.shape)\n",
    "print('class 8:', class_8.shape)\n"
   ]
  },
  {
   "cell_type": "code",
   "execution_count": 101,
   "id": "a59dfb3f",
   "metadata": {
    "execution": {
     "iopub.execute_input": "2022-05-17T17:06:49.237802Z",
     "iopub.status.busy": "2022-05-17T17:06:49.237547Z",
     "iopub.status.idle": "2022-05-17T17:06:49.254228Z",
     "shell.execute_reply": "2022-05-17T17:06:49.252893Z"
    },
    "papermill": {
     "duration": 0.265978,
     "end_time": "2022-05-17T17:06:49.256898",
     "exception": false,
     "start_time": "2022-05-17T17:06:48.990920",
     "status": "completed"
    },
    "tags": []
   },
   "outputs": [
    {
     "name": "stdout",
     "output_type": "stream",
     "text": [
      "original dataset shape: Counter({5: 681, 6: 638, 7: 199, 4: 53, 8: 18, 3: 10})\n",
      "Resample dataset shape: Counter({3: 10, 4: 10, 5: 10, 6: 10, 7: 10, 8: 10})\n"
     ]
    }
   ],
   "source": [
    "from collections import Counter # it allows us to count the items in an iterable list.\n",
    "\n",
    "x = wine_data.drop(['quality'], axis=1)\n",
    "y = wine_data['quality']\n",
    "\n",
    "undersample = RandomUnderSampler(random_state=0)\n",
    "x_rus, y_rus = undersample.fit_resample(x, y)\n",
    "\n",
    "print('original dataset shape:', Counter(y))\n",
    "print('Resample dataset shape:', Counter(y_rus))"
   ]
  },
  {
   "cell_type": "markdown",
   "id": "d61f0dcf",
   "metadata": {
    "papermill": {
     "duration": 0.247656,
     "end_time": "2022-05-17T17:06:49.754737",
     "exception": false,
     "start_time": "2022-05-17T17:06:49.507081",
     "status": "completed"
    },
    "tags": []
   },
   "source": [
    "### OverSampling"
   ]
  },
  {
   "cell_type": "markdown",
   "id": "2dc05292",
   "metadata": {
    "papermill": {
     "duration": 0.233599,
     "end_time": "2022-05-17T17:06:50.225013",
     "exception": false,
     "start_time": "2022-05-17T17:06:49.991414",
     "status": "completed"
    },
    "tags": []
   },
   "source": [
    "Oversampling refers to replicating some points from the minority class in order to increase the cardinality of the minority class. This might consist of either replicating or generating synthetic data for the minority class.\n",
    "\n",
    "It may be carried out using **RandomOverSampler** class from **imblearn** library"
   ]
  },
  {
   "cell_type": "code",
   "execution_count": 102,
   "id": "fa07fa4d",
   "metadata": {
    "execution": {
     "iopub.execute_input": "2022-05-17T17:06:50.734630Z",
     "iopub.status.busy": "2022-05-17T17:06:50.733095Z",
     "iopub.status.idle": "2022-05-17T17:06:50.747202Z",
     "shell.execute_reply": "2022-05-17T17:06:50.746359Z"
    },
    "papermill": {
     "duration": 0.266183,
     "end_time": "2022-05-17T17:06:50.749131",
     "exception": false,
     "start_time": "2022-05-17T17:06:50.482948",
     "status": "completed"
    },
    "tags": []
   },
   "outputs": [
    {
     "name": "stdout",
     "output_type": "stream",
     "text": [
      "original dataset shape: Counter({5: 681, 6: 638, 7: 199, 4: 53, 8: 18, 3: 10})\n",
      "Resample dataset shape Counter({5: 681, 6: 681, 7: 681, 4: 681, 8: 681, 3: 681})\n"
     ]
    }
   ],
   "source": [
    "from imblearn.over_sampling import RandomOverSampler\n",
    "\n",
    "ros = RandomOverSampler()\n",
    "x_ros, y_ros = ros.fit_resample(x, y)\n",
    "\n",
    "print('original dataset shape:', Counter(y))\n",
    "print('Resample dataset shape', Counter(y_ros))"
   ]
  },
  {
   "cell_type": "code",
   "execution_count": 103,
   "id": "70dbfc67",
   "metadata": {
    "execution": {
     "iopub.execute_input": "2022-05-17T17:06:51.237091Z",
     "iopub.status.busy": "2022-05-17T17:06:51.236709Z",
     "iopub.status.idle": "2022-05-17T17:06:51.242530Z",
     "shell.execute_reply": "2022-05-17T17:06:51.241024Z"
    },
    "papermill": {
     "duration": 0.252315,
     "end_time": "2022-05-17T17:06:51.244522",
     "exception": false,
     "start_time": "2022-05-17T17:06:50.992207",
     "status": "completed"
    },
    "tags": []
   },
   "outputs": [
    {
     "name": "stdout",
     "output_type": "stream",
     "text": [
      "2487 New random points generated with RamdomOverSampler\n"
     ]
    }
   ],
   "source": [
    "print(x_ros.shape[0] - x.shape[0], 'New random points generated with RamdomOverSampler')"
   ]
  },
  {
   "cell_type": "markdown",
   "id": "d9de6d4d",
   "metadata": {
    "papermill": {
     "duration": 0.24578,
     "end_time": "2022-05-17T17:06:51.736420",
     "exception": false,
     "start_time": "2022-05-17T17:06:51.490640",
     "status": "completed"
    },
    "tags": []
   },
   "source": [
    "The class with the majority no. of sample is '5'. Hence all the other class samples that are lesser than this class count are newly sampled to the no. of smapler in the majority class"
   ]
  },
  {
   "cell_type": "markdown",
   "id": "d855119a",
   "metadata": {
    "papermill": {
     "duration": 0.248511,
     "end_time": "2022-05-17T17:06:52.234422",
     "exception": false,
     "start_time": "2022-05-17T17:06:51.985911",
     "status": "completed"
    },
    "tags": []
   },
   "source": [
    "### 4.2 Oversampling using SMOTE\n"
   ]
  },
  {
   "cell_type": "markdown",
   "id": "21cea84f",
   "metadata": {
    "papermill": {
     "duration": 0.243978,
     "end_time": "2022-05-17T17:06:52.724848",
     "exception": false,
     "start_time": "2022-05-17T17:06:52.480870",
     "status": "completed"
    },
    "tags": []
   },
   "source": [
    "SMOTE(Synthetic Minority Oversampling Technique) is a popular technique for oversmapling. It is available under imblearn library."
   ]
  },
  {
   "cell_type": "code",
   "execution_count": 104,
   "id": "20610aa1",
   "metadata": {
    "execution": {
     "iopub.execute_input": "2022-05-17T17:06:53.229740Z",
     "iopub.status.busy": "2022-05-17T17:06:53.229421Z",
     "iopub.status.idle": "2022-05-17T17:06:53.233735Z",
     "shell.execute_reply": "2022-05-17T17:06:53.232849Z"
    },
    "papermill": {
     "duration": 0.262076,
     "end_time": "2022-05-17T17:06:53.235720",
     "exception": false,
     "start_time": "2022-05-17T17:06:52.973644",
     "status": "completed"
    },
    "tags": []
   },
   "outputs": [],
   "source": [
    "from imblearn.over_sampling import SMOTE\n"
   ]
  },
  {
   "cell_type": "code",
   "execution_count": 105,
   "id": "5adb5211",
   "metadata": {
    "execution": {
     "iopub.execute_input": "2022-05-17T17:06:53.568414Z",
     "iopub.status.busy": "2022-05-17T17:06:53.568114Z",
     "iopub.status.idle": "2022-05-17T17:06:53.598946Z",
     "shell.execute_reply": "2022-05-17T17:06:53.598351Z"
    },
    "papermill": {
     "duration": 0.199879,
     "end_time": "2022-05-17T17:06:53.600911",
     "exception": false,
     "start_time": "2022-05-17T17:06:53.401032",
     "status": "completed"
    },
    "tags": []
   },
   "outputs": [
    {
     "data": {
      "text/plain": [
       "Counter({5: 681, 6: 681, 7: 681, 4: 681, 8: 681, 3: 681})"
      ]
     },
     "execution_count": 105,
     "metadata": {},
     "output_type": "execute_result"
    }
   ],
   "source": [
    "oversample = SMOTE()\n",
    "x_sm, y_sm = oversample.fit_resample(x, y)\n",
    "counter = Counter(y_sm)\n",
    "counter"
   ]
  },
  {
   "cell_type": "code",
   "execution_count": 106,
   "id": "3f43deb3",
   "metadata": {
    "execution": {
     "iopub.execute_input": "2022-05-17T17:06:54.001935Z",
     "iopub.status.busy": "2022-05-17T17:06:54.001450Z",
     "iopub.status.idle": "2022-05-17T17:06:54.006528Z",
     "shell.execute_reply": "2022-05-17T17:06:54.005418Z"
    },
    "papermill": {
     "duration": 0.244535,
     "end_time": "2022-05-17T17:06:54.008661",
     "exception": false,
     "start_time": "2022-05-17T17:06:53.764126",
     "status": "completed"
    },
    "tags": []
   },
   "outputs": [
    {
     "name": "stdout",
     "output_type": "stream",
     "text": [
      "2487 New random points generated with SMOTE\n"
     ]
    }
   ],
   "source": [
    "print(x_sm.shape[0] - x.shape[0], 'New random points generated with SMOTE')"
   ]
  },
  {
   "cell_type": "markdown",
   "id": "85e61e5b",
   "metadata": {
    "papermill": {
     "duration": 0.1615,
     "end_time": "2022-05-17T17:06:54.338785",
     "exception": false,
     "start_time": "2022-05-17T17:06:54.177285",
     "status": "completed"
    },
    "tags": []
   },
   "source": [
    "TYPES OF SMOTE\n",
    "* Borderline SMOTE\n",
    "* Borderline-SMOTE SVM\n",
    "* Adaptive Synthetic Sampling(ADASYN)"
   ]
  },
  {
   "cell_type": "code",
   "execution_count": null,
   "id": "5133867d",
   "metadata": {
    "papermill": {
     "duration": 0.166054,
     "end_time": "2022-05-17T17:06:54.668860",
     "exception": false,
     "start_time": "2022-05-17T17:06:54.502806",
     "status": "completed"
    },
    "tags": []
   },
   "outputs": [],
   "source": []
  }
 ],
 "metadata": {
  "kernelspec": {
   "display_name": "Python 3",
   "language": "python",
   "name": "python3"
  },
  "language_info": {
   "codemirror_mode": {
    "name": "ipython",
    "version": 3
   },
   "file_extension": ".py",
   "mimetype": "text/x-python",
   "name": "python",
   "nbconvert_exporter": "python",
   "pygments_lexer": "ipython3",
   "version": "3.7.12"
  },
  "papermill": {
   "default_parameters": {},
   "duration": 113.366741,
   "end_time": "2022-05-17T17:06:55.758422",
   "environment_variables": {},
   "exception": null,
   "input_path": "__notebook__.ipynb",
   "output_path": "__notebook__.ipynb",
   "parameters": {},
   "start_time": "2022-05-17T17:05:02.391681",
   "version": "2.3.4"
  }
 },
 "nbformat": 4,
 "nbformat_minor": 5
}
