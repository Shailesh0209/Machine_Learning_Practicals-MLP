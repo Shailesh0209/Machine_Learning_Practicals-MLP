{
 "cells": [
  {
   "cell_type": "code",
   "execution_count": 1,
   "id": "a1a4ef6a",
   "metadata": {
    "_cell_guid": "b1076dfc-b9ad-4769-8c92-a6c4dae69d19",
    "_uuid": "8f2839f25d086af736a60e9eeb907d3b93b6e0e5",
    "execution": {
     "iopub.execute_input": "2022-05-18T11:48:17.189065Z",
     "iopub.status.busy": "2022-05-18T11:48:17.188206Z",
     "iopub.status.idle": "2022-05-18T11:48:17.210057Z",
     "shell.execute_reply": "2022-05-18T11:48:17.209400Z"
    },
    "papermill": {
     "duration": 0.194511,
     "end_time": "2022-05-18T11:48:17.212992",
     "exception": false,
     "start_time": "2022-05-18T11:48:17.018481",
     "status": "completed"
    },
    "tags": []
   },
   "outputs": [
    {
     "name": "stdout",
     "output_type": "stream",
     "text": [
      "/kaggle/input/red-wine-quality-cortez-et-al-2009/winequality-red.csv\n",
      "/kaggle/input/heart-disease-cleveland-uci/heart_cleveland_upload.csv\n"
     ]
    }
   ],
   "source": [
    "# This Python 3 environment comes with many helpful analytics libraries installed\n",
    "# It is defined by the kaggle/python Docker image: https://github.com/kaggle/docker-python\n",
    "# For example, here's several helpful packages to load\n",
    "\n",
    "import numpy as np # linear algebra\n",
    "import pandas as pd # data processing, CSV file I/O (e.g. pd.read_csv)\n",
    "\n",
    "# Input data files are available in the read-only \"../input/\" directory\n",
    "# For example, running this (by clicking run or pressing Shift+Enter) will list all files under the input directory\n",
    "\n",
    "import os\n",
    "for dirname, _, filenames in os.walk('/kaggle/input'):\n",
    "    for filename in filenames:\n",
    "        print(os.path.join(dirname, filename))\n",
    "\n",
    "# You can write up to 20GB to the current directory (/kaggle/working/) that gets preserved as output when you create a version using \"Save & Run All\" \n",
    "# You can also write temporary files to /kaggle/temp/, but they won't be saved outside of the current session"
   ]
  },
  {
   "cell_type": "markdown",
   "id": "6b9163f3",
   "metadata": {
    "papermill": {
     "duration": 0.167599,
     "end_time": "2022-05-18T11:48:17.548911",
     "exception": false,
     "start_time": "2022-05-18T11:48:17.381312",
     "status": "completed"
    },
    "tags": []
   },
   "source": [
    "# Demonstration of Data extraction, imputation, scaling, visualizing feature Distribution\n",
    "\n",
    "week2/lec9-machine-learning-practice-diploma-iitm"
   ]
  },
  {
   "cell_type": "markdown",
   "id": "beb6bf95",
   "metadata": {
    "papermill": {
     "duration": 0.166416,
     "end_time": "2022-05-18T11:48:17.883504",
     "exception": false,
     "start_time": "2022-05-18T11:48:17.717088",
     "status": "completed"
    },
    "tags": []
   },
   "source": [
    "## Importing basic libraries"
   ]
  },
  {
   "cell_type": "code",
   "execution_count": 2,
   "id": "2c47b275",
   "metadata": {
    "execution": {
     "iopub.execute_input": "2022-05-18T11:48:18.219706Z",
     "iopub.status.busy": "2022-05-18T11:48:18.219281Z",
     "iopub.status.idle": "2022-05-18T11:48:19.320892Z",
     "shell.execute_reply": "2022-05-18T11:48:19.319795Z"
    },
    "papermill": {
     "duration": 1.273419,
     "end_time": "2022-05-18T11:48:19.324927",
     "exception": false,
     "start_time": "2022-05-18T11:48:18.051508",
     "status": "completed"
    },
    "tags": []
   },
   "outputs": [],
   "source": [
    "import numpy as np\n",
    "import matplotlib.pyplot as plt\n",
    "import pandas as pd\n",
    "import seaborn as sns\n",
    "sns.set_theme(style=\"whitegrid\")"
   ]
  },
  {
   "cell_type": "markdown",
   "id": "d29d25be",
   "metadata": {
    "papermill": {
     "duration": 0.170998,
     "end_time": "2022-05-18T11:48:19.669787",
     "exception": false,
     "start_time": "2022-05-18T11:48:19.498789",
     "status": "completed"
    },
    "tags": []
   },
   "source": [
    "# 1. Feature Extraction"
   ]
  },
  {
   "cell_type": "markdown",
   "id": "26bbbbad",
   "metadata": {
    "papermill": {
     "duration": 0.163618,
     "end_time": "2022-05-18T11:48:20.005749",
     "exception": false,
     "start_time": "2022-05-18T11:48:19.842131",
     "status": "completed"
    },
    "tags": []
   },
   "source": [
    "## DictVectorizer\n",
    "\n",
    "DictVectorizer converts a list of dictionary objects to feature matrix"
   ]
  },
  {
   "cell_type": "code",
   "execution_count": 3,
   "id": "382bf053",
   "metadata": {
    "execution": {
     "iopub.execute_input": "2022-05-18T11:48:20.342229Z",
     "iopub.status.busy": "2022-05-18T11:48:20.341700Z",
     "iopub.status.idle": "2022-05-18T11:48:20.345845Z",
     "shell.execute_reply": "2022-05-18T11:48:20.345251Z"
    },
    "papermill": {
     "duration": 0.173277,
     "end_time": "2022-05-18T11:48:20.347690",
     "exception": false,
     "start_time": "2022-05-18T11:48:20.174413",
     "status": "completed"
    },
    "tags": []
   },
   "outputs": [],
   "source": [
    "data = [{'age': 4, 'height':96.0},\n",
    "        {'age': 1, 'height':73.9},\n",
    "        {'age': 3, 'height':88.9},\n",
    "        {'age': 2, 'height':81.6}]"
   ]
  },
  {
   "cell_type": "markdown",
   "id": "a2502f2b",
   "metadata": {
    "papermill": {
     "duration": 0.16328,
     "end_time": "2022-05-18T11:48:20.675414",
     "exception": false,
     "start_time": "2022-05-18T11:48:20.512134",
     "status": "completed"
    },
    "tags": []
   },
   "source": [
    "Let's make use of DictVectorizer to convert the list of dictionary objects to the feature matrix."
   ]
  },
  {
   "cell_type": "code",
   "execution_count": 4,
   "id": "6cee8991",
   "metadata": {
    "execution": {
     "iopub.execute_input": "2022-05-18T11:48:21.004820Z",
     "iopub.status.busy": "2022-05-18T11:48:21.004474Z",
     "iopub.status.idle": "2022-05-18T11:48:21.169157Z",
     "shell.execute_reply": "2022-05-18T11:48:21.168101Z"
    },
    "papermill": {
     "duration": 0.332999,
     "end_time": "2022-05-18T11:48:21.171529",
     "exception": false,
     "start_time": "2022-05-18T11:48:20.838530",
     "status": "completed"
    },
    "tags": []
   },
   "outputs": [
    {
     "data": {
      "text/plain": [
       "array([[ 4. , 96. ],\n",
       "       [ 1. , 73.9],\n",
       "       [ 3. , 88.9],\n",
       "       [ 2. , 81.6]])"
      ]
     },
     "execution_count": 4,
     "metadata": {},
     "output_type": "execute_result"
    }
   ],
   "source": [
    "from sklearn.feature_extraction import DictVectorizer\n",
    "dv = DictVectorizer(sparse=False)\n",
    "data_transformed = dv.fit_transform(data)\n",
    "data_transformed"
   ]
  },
  {
   "cell_type": "code",
   "execution_count": 5,
   "id": "d1fa6df9",
   "metadata": {
    "execution": {
     "iopub.execute_input": "2022-05-18T11:48:21.509334Z",
     "iopub.status.busy": "2022-05-18T11:48:21.509055Z",
     "iopub.status.idle": "2022-05-18T11:48:21.515206Z",
     "shell.execute_reply": "2022-05-18T11:48:21.514373Z"
    },
    "papermill": {
     "duration": 0.17921,
     "end_time": "2022-05-18T11:48:21.517487",
     "exception": false,
     "start_time": "2022-05-18T11:48:21.338277",
     "status": "completed"
    },
    "tags": []
   },
   "outputs": [
    {
     "data": {
      "text/plain": [
       "(4, 2)"
      ]
     },
     "execution_count": 5,
     "metadata": {},
     "output_type": "execute_result"
    }
   ],
   "source": [
    "data_transformed.shape"
   ]
  },
  {
   "cell_type": "markdown",
   "id": "91c1c6a0",
   "metadata": {
    "papermill": {
     "duration": 0.167076,
     "end_time": "2022-05-18T11:48:21.853276",
     "exception": false,
     "start_time": "2022-05-18T11:48:21.686200",
     "status": "completed"
    },
    "tags": []
   },
   "source": [
    "# 2. Data Imputation\n",
    "\n",
    "SkLearn library provides sklearn.impute.SimpleImputer class for this purpose"
   ]
  },
  {
   "cell_type": "code",
   "execution_count": 6,
   "id": "f8041c9e",
   "metadata": {
    "execution": {
     "iopub.execute_input": "2022-05-18T11:48:22.193209Z",
     "iopub.status.busy": "2022-05-18T11:48:22.192283Z",
     "iopub.status.idle": "2022-05-18T11:48:22.389190Z",
     "shell.execute_reply": "2022-05-18T11:48:22.388301Z"
    },
    "papermill": {
     "duration": 0.371223,
     "end_time": "2022-05-18T11:48:22.391663",
     "exception": false,
     "start_time": "2022-05-18T11:48:22.020440",
     "status": "completed"
    },
    "tags": []
   },
   "outputs": [],
   "source": [
    "from sklearn.impute import SimpleImputer"
   ]
  },
  {
   "cell_type": "markdown",
   "id": "c1655b23",
   "metadata": {
    "papermill": {
     "duration": 0.167095,
     "end_time": "2022-05-18T11:48:22.729568",
     "exception": false,
     "start_time": "2022-05-18T11:48:22.562473",
     "status": "completed"
    },
    "tags": []
   },
   "source": [
    "## Data Imputation on real world dataset"
   ]
  },
  {
   "cell_type": "code",
   "execution_count": 7,
   "id": "f82e82c7",
   "metadata": {
    "execution": {
     "iopub.execute_input": "2022-05-18T11:48:23.069230Z",
     "iopub.status.busy": "2022-05-18T11:48:23.068685Z",
     "iopub.status.idle": "2022-05-18T11:48:23.516351Z",
     "shell.execute_reply": "2022-05-18T11:48:23.515259Z"
    },
    "papermill": {
     "duration": 0.623016,
     "end_time": "2022-05-18T11:48:23.519353",
     "exception": false,
     "start_time": "2022-05-18T11:48:22.896337",
     "status": "completed"
    },
    "tags": []
   },
   "outputs": [],
   "source": [
    "cols = ['age', 'sex', 'cp', 'trestbps', 'chol', \n",
    "        'fbs', 'restecg', 'thalach', 'exang', 'oldpeak',\n",
    "       'slope', 'ca', 'thal', 'num']\n",
    "heart_data = pd.read_csv('https://archive.ics.uci.edu/ml/machine-learning-databases/heart-disease/processed.cleveland.data',\n",
    "                         header=None, names=cols)"
   ]
  },
  {
   "cell_type": "markdown",
   "id": "c22ed8a4",
   "metadata": {
    "papermill": {
     "duration": 0.168472,
     "end_time": "2022-05-18T11:48:23.865754",
     "exception": false,
     "start_time": "2022-05-18T11:48:23.697282",
     "status": "completed"
    },
    "tags": []
   },
   "source": [
    "The dataset has the following features:\n",
    "1. Age(in years)\n",
    "2. Sex (1 = male; 0 = female)\n",
    "3. cp - chest pain type\n",
    "4. trestbps - resting blood pressure (anything above 130-140 is typically cause for concern)\n",
    "5. chol - serum cholestrol in mg/dl (above 200 is cause for concern)\n",
    "6. fbs - fasting blood sugar (> 120 mg/dl) (1 = true; 0 =false)\n",
    "7. restecg - resting electrocardiographic results\n",
    "8. thalach - maximum heart rate achieved\n",
    "9. exang - exercise induced angina\n",
    "    * 1 = yes;\n",
    "    * 0 = no\n",
    "10. oldpeak - depression induced by exercise relative to rest\n",
    "11. slope = slope of the peak exercise ST segment\n",
    "    * 1 = upsloping;\n",
    "    * 2 = flat Value;\n",
    "    * 3 = downsloping\n",
    "12. ca - number of major vessels (0-3) colored by flourosopy\n",
    "13. thal - (3 = normal; 6 = fixed defect; 7 = reversable defect)\n",
    "`Labels`\n",
    "14. num - diagnosis of heart disease (angiographic disease status) \n",
    "    * 0: < 50% diameter narrowing\n",
    "    * 1: > 50% diamete narrowing"
   ]
  },
  {
   "cell_type": "code",
   "execution_count": 8,
   "id": "49e37abc",
   "metadata": {
    "execution": {
     "iopub.execute_input": "2022-05-18T11:48:24.202496Z",
     "iopub.status.busy": "2022-05-18T11:48:24.201571Z",
     "iopub.status.idle": "2022-05-18T11:48:24.227089Z",
     "shell.execute_reply": "2022-05-18T11:48:24.226207Z"
    },
    "papermill": {
     "duration": 0.197468,
     "end_time": "2022-05-18T11:48:24.230791",
     "exception": false,
     "start_time": "2022-05-18T11:48:24.033323",
     "status": "completed"
    },
    "tags": []
   },
   "outputs": [
    {
     "name": "stdout",
     "output_type": "stream",
     "text": [
      "<class 'pandas.core.frame.DataFrame'>\n",
      "RangeIndex: 303 entries, 0 to 302\n",
      "Data columns (total 14 columns):\n",
      " #   Column    Non-Null Count  Dtype  \n",
      "---  ------    --------------  -----  \n",
      " 0   age       303 non-null    float64\n",
      " 1   sex       303 non-null    float64\n",
      " 2   cp        303 non-null    float64\n",
      " 3   trestbps  303 non-null    float64\n",
      " 4   chol      303 non-null    float64\n",
      " 5   fbs       303 non-null    float64\n",
      " 6   restecg   303 non-null    float64\n",
      " 7   thalach   303 non-null    float64\n",
      " 8   exang     303 non-null    float64\n",
      " 9   oldpeak   303 non-null    float64\n",
      " 10  slope     303 non-null    float64\n",
      " 11  ca        303 non-null    object \n",
      " 12  thal      303 non-null    object \n",
      " 13  num       303 non-null    int64  \n",
      "dtypes: float64(11), int64(1), object(2)\n",
      "memory usage: 33.3+ KB\n"
     ]
    }
   ],
   "source": [
    "heart_data.info()"
   ]
  },
  {
   "cell_type": "code",
   "execution_count": 9,
   "id": "cd9c9c11",
   "metadata": {
    "execution": {
     "iopub.execute_input": "2022-05-18T11:48:24.569943Z",
     "iopub.status.busy": "2022-05-18T11:48:24.569485Z",
     "iopub.status.idle": "2022-05-18T11:48:24.577854Z",
     "shell.execute_reply": "2022-05-18T11:48:24.577095Z"
    },
    "papermill": {
     "duration": 0.1798,
     "end_time": "2022-05-18T11:48:24.579818",
     "exception": false,
     "start_time": "2022-05-18T11:48:24.400018",
     "status": "completed"
    },
    "tags": []
   },
   "outputs": [
    {
     "data": {
      "text/plain": [
       "age         0\n",
       "sex         0\n",
       "cp          0\n",
       "trestbps    0\n",
       "chol        0\n",
       "fbs         0\n",
       "restecg     0\n",
       "thalach     0\n",
       "exang       0\n",
       "oldpeak     0\n",
       "slope       0\n",
       "ca          0\n",
       "thal        0\n",
       "num         0\n",
       "dtype: int64"
      ]
     },
     "execution_count": 9,
     "metadata": {},
     "output_type": "execute_result"
    }
   ],
   "source": [
    "(heart_data.isnull().sum())"
   ]
  },
  {
   "cell_type": "markdown",
   "id": "c038b80f",
   "metadata": {
    "papermill": {
     "duration": 0.16572,
     "end_time": "2022-05-18T11:48:24.912603",
     "exception": false,
     "start_time": "2022-05-18T11:48:24.746883",
     "status": "completed"
    },
    "tags": []
   },
   "source": [
    "There are two non-numerical features: `ca` and `thal`\n",
    "\n",
    "    * List their unique values"
   ]
  },
  {
   "cell_type": "code",
   "execution_count": 10,
   "id": "cf73206f",
   "metadata": {
    "execution": {
     "iopub.execute_input": "2022-05-18T11:48:25.251619Z",
     "iopub.status.busy": "2022-05-18T11:48:25.251266Z",
     "iopub.status.idle": "2022-05-18T11:48:25.257237Z",
     "shell.execute_reply": "2022-05-18T11:48:25.256340Z"
    },
    "papermill": {
     "duration": 0.176608,
     "end_time": "2022-05-18T11:48:25.259209",
     "exception": false,
     "start_time": "2022-05-18T11:48:25.082601",
     "status": "completed"
    },
    "tags": []
   },
   "outputs": [
    {
     "name": "stdout",
     "output_type": "stream",
     "text": [
      "Unique values in ca: ['0.0' '3.0' '2.0' '1.0' '?']\n",
      "Unique values n thal: ['6.0' '3.0' '7.0' '?']\n"
     ]
    }
   ],
   "source": [
    "print(\"Unique values in ca:\", heart_data.ca.unique())\n",
    "print(\"Unique values n thal:\", heart_data.thal.unique())"
   ]
  },
  {
   "cell_type": "markdown",
   "id": "ebe42649",
   "metadata": {
    "papermill": {
     "duration": 0.168834,
     "end_time": "2022-05-18T11:48:25.596878",
     "exception": false,
     "start_time": "2022-05-18T11:48:25.428044",
     "status": "completed"
    },
    "tags": []
   },
   "source": [
    "Both of them contain ?, which is a missing values. Let's count the number of missing values."
   ]
  },
  {
   "cell_type": "code",
   "execution_count": 11,
   "id": "3f9c15b1",
   "metadata": {
    "execution": {
     "iopub.execute_input": "2022-05-18T11:48:25.933079Z",
     "iopub.status.busy": "2022-05-18T11:48:25.932751Z",
     "iopub.status.idle": "2022-05-18T11:48:25.939794Z",
     "shell.execute_reply": "2022-05-18T11:48:25.939190Z"
    },
    "papermill": {
     "duration": 0.177847,
     "end_time": "2022-05-18T11:48:25.942043",
     "exception": false,
     "start_time": "2022-05-18T11:48:25.764196",
     "status": "completed"
    },
    "tags": []
   },
   "outputs": [
    {
     "name": "stdout",
     "output_type": "stream",
     "text": [
      "# minssing values in ca: 4\n",
      "# missing values in thal: 2\n"
     ]
    }
   ],
   "source": [
    "print(\"# minssing values in ca:\", \n",
    "     heart_data.loc[heart_data.ca == '?', 'ca'].count())\n",
    "print(\"# missing values in thal:\",\n",
    "     heart_data.loc[heart_data.thal == '?', 'thal'].count())"
   ]
  },
  {
   "cell_type": "markdown",
   "id": "786411b9",
   "metadata": {
    "papermill": {
     "duration": 0.167677,
     "end_time": "2022-05-18T11:48:26.280307",
     "exception": false,
     "start_time": "2022-05-18T11:48:26.112630",
     "status": "completed"
    },
    "tags": []
   },
   "source": [
    "### STEP 2: Replace '?' with nan."
   ]
  },
  {
   "cell_type": "code",
   "execution_count": 12,
   "id": "de410c38",
   "metadata": {
    "execution": {
     "iopub.execute_input": "2022-05-18T11:48:26.636743Z",
     "iopub.status.busy": "2022-05-18T11:48:26.635759Z",
     "iopub.status.idle": "2022-05-18T11:48:26.641266Z",
     "shell.execute_reply": "2022-05-18T11:48:26.640458Z"
    },
    "papermill": {
     "duration": 0.195084,
     "end_time": "2022-05-18T11:48:26.643368",
     "exception": false,
     "start_time": "2022-05-18T11:48:26.448284",
     "status": "completed"
    },
    "tags": []
   },
   "outputs": [],
   "source": [
    "heart_data.replace('?', np.nan, inplace=True)"
   ]
  },
  {
   "cell_type": "markdown",
   "id": "437714dc",
   "metadata": {
    "papermill": {
     "duration": 0.168861,
     "end_time": "2022-05-18T11:48:26.989447",
     "exception": false,
     "start_time": "2022-05-18T11:48:26.820586",
     "status": "completed"
    },
    "tags": []
   },
   "source": [
    "### Step3: Fill missing values with sklearn missing value imputation utilities\n",
    "\n",
    "Here, we use SimpleImputer with mean strategy.\n",
    "\n",
    "We will try to variations-\n",
    "    * add_indicator = False: Default choice that only imputes missing values"
   ]
  },
  {
   "cell_type": "code",
   "execution_count": 13,
   "id": "fd50878f",
   "metadata": {
    "execution": {
     "iopub.execute_input": "2022-05-18T11:48:27.327956Z",
     "iopub.status.busy": "2022-05-18T11:48:27.327394Z",
     "iopub.status.idle": "2022-05-18T11:48:27.340684Z",
     "shell.execute_reply": "2022-05-18T11:48:27.339200Z"
    },
    "papermill": {
     "duration": 0.18434,
     "end_time": "2022-05-18T11:48:27.342834",
     "exception": false,
     "start_time": "2022-05-18T11:48:27.158494",
     "status": "completed"
    },
    "tags": []
   },
   "outputs": [
    {
     "name": "stdout",
     "output_type": "stream",
     "text": [
      "(303, 14)\n"
     ]
    }
   ],
   "source": [
    "imputer = SimpleImputer(missing_values = np.nan, strategy='mean')\n",
    "imputer = imputer.fit(heart_data)\n",
    "heart_data_imputed = imputer.transform(heart_data)\n",
    "print(heart_data_imputed.shape)"
   ]
  },
  {
   "cell_type": "markdown",
   "id": "996a11bc",
   "metadata": {
    "papermill": {
     "duration": 0.169925,
     "end_time": "2022-05-18T11:48:27.683375",
     "exception": false,
     "start_time": "2022-05-18T11:48:27.513450",
     "status": "completed"
    },
    "tags": []
   },
   "source": [
    "- add_indicator = True: Adds additional column for each column containing missing values. In our case, thsi adds two columns one for ca and other for thal. It indicates if the sample has a missing value."
   ]
  },
  {
   "cell_type": "code",
   "execution_count": 14,
   "id": "657e4cf4",
   "metadata": {
    "execution": {
     "iopub.execute_input": "2022-05-18T11:48:28.024623Z",
     "iopub.status.busy": "2022-05-18T11:48:28.024162Z",
     "iopub.status.idle": "2022-05-18T11:48:28.037084Z",
     "shell.execute_reply": "2022-05-18T11:48:28.035763Z"
    },
    "papermill": {
     "duration": 0.185892,
     "end_time": "2022-05-18T11:48:28.039228",
     "exception": false,
     "start_time": "2022-05-18T11:48:27.853336",
     "status": "completed"
    },
    "tags": []
   },
   "outputs": [
    {
     "name": "stdout",
     "output_type": "stream",
     "text": [
      "(303, 16)\n"
     ]
    }
   ],
   "source": [
    "imputer = SimpleImputer(missing_values = np.nan,\n",
    "                        strategy='mean', add_indicator=True)\n",
    "imputer = imputer.fit(heart_data)\n",
    "heart_data_imputed_with_indicator = imputer.transform(heart_data)\n",
    "print(heart_data_imputed_with_indicator.shape)"
   ]
  },
  {
   "cell_type": "markdown",
   "id": "e19b43c3",
   "metadata": {
    "papermill": {
     "duration": 0.167664,
     "end_time": "2022-05-18T11:48:28.374647",
     "exception": false,
     "start_time": "2022-05-18T11:48:28.206983",
     "status": "completed"
    },
    "tags": []
   },
   "source": [
    "# 3. Feature Scaling"
   ]
  },
  {
   "cell_type": "markdown",
   "id": "5f7ef1af",
   "metadata": {
    "papermill": {
     "duration": 0.168571,
     "end_time": "2022-05-18T11:48:28.711688",
     "exception": false,
     "start_time": "2022-05-18T11:48:28.543117",
     "status": "completed"
    },
    "tags": []
   },
   "source": [
    "Tree based ML algorithms are not affected by feature-scaling. In other words, feature scaling is not required for tree based ML algorithms.\n",
    "\n",
    "Feature scaling can be performed with the following methods:\n",
    "- Standardization\n",
    "- Normalization\n",
    "- MaxAbsScaler"
   ]
  },
  {
   "cell_type": "markdown",
   "id": "0b9dabc5",
   "metadata": {
    "papermill": {
     "duration": 0.167475,
     "end_time": "2022-05-18T11:48:29.046954",
     "exception": false,
     "start_time": "2022-05-18T11:48:28.879479",
     "status": "completed"
    },
    "tags": []
   },
   "source": [
    "Let's demonstrate feature scaling on a real world dataset. For this purpose we will be using `ablone dataaset`. We wil use different scaling utilities in sklearn library."
   ]
  },
  {
   "cell_type": "code",
   "execution_count": 15,
   "id": "785140ce",
   "metadata": {
    "execution": {
     "iopub.execute_input": "2022-05-18T11:48:29.390699Z",
     "iopub.status.busy": "2022-05-18T11:48:29.390140Z",
     "iopub.status.idle": "2022-05-18T11:48:29.874333Z",
     "shell.execute_reply": "2022-05-18T11:48:29.873191Z"
    },
    "papermill": {
     "duration": 0.658627,
     "end_time": "2022-05-18T11:48:29.876919",
     "exception": false,
     "start_time": "2022-05-18T11:48:29.218292",
     "status": "completed"
    },
    "tags": []
   },
   "outputs": [],
   "source": [
    "cols = ['Sex', 'Length', 'Diameter', 'Height', 'Whole weight', 'Shucked weight', \n",
    "       'Viscera weight', 'Shell weight', 'Rings']\n",
    "abalone_data = pd.read_csv('https://archive.ics.uci.edu/ml/machine-learning-databases/abalone/abalone.data', header=None, names=cols)"
   ]
  },
  {
   "cell_type": "markdown",
   "id": "7cd5c9f8",
   "metadata": {
    "papermill": {
     "duration": 0.16888,
     "end_time": "2022-05-18T11:48:30.216217",
     "exception": false,
     "start_time": "2022-05-18T11:48:30.047337",
     "status": "completed"
    },
    "tags": []
   },
   "source": [
    "**Abalone is an edible snell.** data is collected, in order to estimate their age based on their physical characteristic."
   ]
  },
  {
   "cell_type": "markdown",
   "id": "68b898dd",
   "metadata": {
    "papermill": {
     "duration": 0.166398,
     "end_time": "2022-05-18T11:48:30.552612",
     "exception": false,
     "start_time": "2022-05-18T11:48:30.386214",
     "status": "completed"
    },
    "tags": []
   },
   "source": [
    "`Abalone dataset` has the following columns\n",
    "1. sex-nominal(M, F, and I(infant))\n",
    "2. Length (mm-Longest shell measurement)\n",
    "3. Diameter (mm - perpendicular to length)\n",
    "4. height (mm - with meat in shell)\n",
    "5. Whole weight (grams  - whole abalone)\n",
    "6. Shucked weight (grams - weight of meat)\n",
    "7. Viscera weight ("
   ]
  },
  {
   "cell_type": "markdown",
   "id": "aea16c10",
   "metadata": {
    "papermill": {
     "duration": 0.166223,
     "end_time": "2022-05-18T11:48:30.885897",
     "exception": false,
     "start_time": "2022-05-18T11:48:30.719674",
     "status": "completed"
    },
    "tags": []
   },
   "source": [
    "**Step1:** Examine the dataset\n",
    "\n",
    "Feature scaling is performed only on numerical attributes. Let's check which are numerical attributes in this dataset. WE can get that via info() method."
   ]
  },
  {
   "cell_type": "code",
   "execution_count": 16,
   "id": "c8110ac6",
   "metadata": {
    "execution": {
     "iopub.execute_input": "2022-05-18T11:48:31.223127Z",
     "iopub.status.busy": "2022-05-18T11:48:31.222826Z",
     "iopub.status.idle": "2022-05-18T11:48:31.236936Z",
     "shell.execute_reply": "2022-05-18T11:48:31.236291Z"
    },
    "papermill": {
     "duration": 0.186217,
     "end_time": "2022-05-18T11:48:31.239200",
     "exception": false,
     "start_time": "2022-05-18T11:48:31.052983",
     "status": "completed"
    },
    "tags": []
   },
   "outputs": [
    {
     "name": "stdout",
     "output_type": "stream",
     "text": [
      "<class 'pandas.core.frame.DataFrame'>\n",
      "RangeIndex: 4177 entries, 0 to 4176\n",
      "Data columns (total 9 columns):\n",
      " #   Column          Non-Null Count  Dtype  \n",
      "---  ------          --------------  -----  \n",
      " 0   Sex             4177 non-null   object \n",
      " 1   Length          4177 non-null   float64\n",
      " 2   Diameter        4177 non-null   float64\n",
      " 3   Height          4177 non-null   float64\n",
      " 4   Whole weight    4177 non-null   float64\n",
      " 5   Shucked weight  4177 non-null   float64\n",
      " 6   Viscera weight  4177 non-null   float64\n",
      " 7   Shell weight    4177 non-null   float64\n",
      " 8   Rings           4177 non-null   int64  \n",
      "dtypes: float64(7), int64(1), object(1)\n",
      "memory usage: 293.8+ KB\n"
     ]
    }
   ],
   "source": [
    "abalone_data.info()"
   ]
  },
  {
   "cell_type": "markdown",
   "id": "8b96dba4",
   "metadata": {
    "papermill": {
     "duration": 0.168596,
     "end_time": "2022-05-18T11:48:31.579696",
     "exception": false,
     "start_time": "2022-05-18T11:48:31.411100",
     "status": "completed"
    },
    "tags": []
   },
   "source": [
    "**STEp1a:** [optional]: convert non-numerical attributes to numerical ones.\n",
    "\n",
    "In this dataset, sex is a non-numeric columns in this dataset. Let's examine it and see if we can convert it to numeric representation."
   ]
  },
  {
   "cell_type": "code",
   "execution_count": 17,
   "id": "12b776f9",
   "metadata": {
    "execution": {
     "iopub.execute_input": "2022-05-18T11:48:31.918148Z",
     "iopub.status.busy": "2022-05-18T11:48:31.917221Z",
     "iopub.status.idle": "2022-05-18T11:48:31.924699Z",
     "shell.execute_reply": "2022-05-18T11:48:31.923768Z"
    },
    "papermill": {
     "duration": 0.179166,
     "end_time": "2022-05-18T11:48:31.926782",
     "exception": false,
     "start_time": "2022-05-18T11:48:31.747616",
     "status": "completed"
    },
    "tags": []
   },
   "outputs": [
    {
     "data": {
      "text/plain": [
       "array(['M', 'F', 'I'], dtype=object)"
      ]
     },
     "execution_count": 17,
     "metadata": {},
     "output_type": "execute_result"
    }
   ],
   "source": [
    "abalone_data.Sex.unique()"
   ]
  },
  {
   "cell_type": "code",
   "execution_count": 18,
   "id": "b766fc9f",
   "metadata": {
    "execution": {
     "iopub.execute_input": "2022-05-18T11:48:32.266866Z",
     "iopub.status.busy": "2022-05-18T11:48:32.266556Z",
     "iopub.status.idle": "2022-05-18T11:48:32.285255Z",
     "shell.execute_reply": "2022-05-18T11:48:32.283534Z"
    },
    "papermill": {
     "duration": 0.191715,
     "end_time": "2022-05-18T11:48:32.288625",
     "exception": false,
     "start_time": "2022-05-18T11:48:32.096910",
     "status": "completed"
    },
    "tags": []
   },
   "outputs": [
    {
     "name": "stdout",
     "output_type": "stream",
     "text": [
      "<class 'pandas.core.frame.DataFrame'>\n",
      "RangeIndex: 4177 entries, 0 to 4176\n",
      "Data columns (total 9 columns):\n",
      " #   Column          Non-Null Count  Dtype  \n",
      "---  ------          --------------  -----  \n",
      " 0   Sex             4177 non-null   int64  \n",
      " 1   Length          4177 non-null   float64\n",
      " 2   Diameter        4177 non-null   float64\n",
      " 3   Height          4177 non-null   float64\n",
      " 4   Whole weight    4177 non-null   float64\n",
      " 5   Shucked weight  4177 non-null   float64\n",
      " 6   Viscera weight  4177 non-null   float64\n",
      " 7   Shell weight    4177 non-null   float64\n",
      " 8   Rings           4177 non-null   int64  \n",
      "dtypes: float64(7), int64(2)\n",
      "memory usage: 293.8 KB\n"
     ]
    }
   ],
   "source": [
    "# Assign numerical value to sex.\n",
    "abalone_data = abalone_data.replace({\"Sex\": {\"M\":1,\"F\":2, \"I\":3}})\n",
    "abalone_data.info()"
   ]
  },
  {
   "cell_type": "markdown",
   "id": "fd51e2fa",
   "metadata": {
    "papermill": {
     "duration": 0.170555,
     "end_time": "2022-05-18T11:48:32.631177",
     "exception": false,
     "start_time": "2022-05-18T11:48:32.460622",
     "status": "completed"
    },
    "tags": []
   },
   "source": [
    "### Step2: Separate labels from features."
   ]
  },
  {
   "cell_type": "code",
   "execution_count": 19,
   "id": "e4852b81",
   "metadata": {
    "execution": {
     "iopub.execute_input": "2022-05-18T11:48:32.974109Z",
     "iopub.status.busy": "2022-05-18T11:48:32.972526Z",
     "iopub.status.idle": "2022-05-18T11:48:32.985485Z",
     "shell.execute_reply": "2022-05-18T11:48:32.984599Z"
    },
    "papermill": {
     "duration": 0.188818,
     "end_time": "2022-05-18T11:48:32.989423",
     "exception": false,
     "start_time": "2022-05-18T11:48:32.800605",
     "status": "completed"
    },
    "tags": []
   },
   "outputs": [
    {
     "name": "stdout",
     "output_type": "stream",
     "text": [
      "The DataFrame object after deleting the column\n",
      "<class 'pandas.core.frame.DataFrame'>\n",
      "RangeIndex: 4177 entries, 0 to 4176\n",
      "Data columns (total 8 columns):\n",
      " #   Column          Non-Null Count  Dtype  \n",
      "---  ------          --------------  -----  \n",
      " 0   Sex             4177 non-null   int64  \n",
      " 1   Length          4177 non-null   float64\n",
      " 2   Diameter        4177 non-null   float64\n",
      " 3   Height          4177 non-null   float64\n",
      " 4   Whole weight    4177 non-null   float64\n",
      " 5   Shucked weight  4177 non-null   float64\n",
      " 6   Viscera weight  4177 non-null   float64\n",
      " 7   Shell weight    4177 non-null   float64\n",
      "dtypes: float64(7), int64(1)\n",
      "memory usage: 261.2 KB\n"
     ]
    }
   ],
   "source": [
    "y = abalone_data.pop(\"Rings\")\n",
    "print(\"The DataFrame object after deleting the column\")\n",
    "abalone_data.info()"
   ]
  },
  {
   "cell_type": "markdown",
   "id": "7aa84517",
   "metadata": {
    "papermill": {
     "duration": 0.168962,
     "end_time": "2022-05-18T11:48:33.330581",
     "exception": false,
     "start_time": "2022-05-18T11:48:33.161619",
     "status": "completed"
    },
    "tags": []
   },
   "source": [
    "##### STEp 3: Examine feature scales"
   ]
  },
  {
   "cell_type": "markdown",
   "id": "9b6c779e",
   "metadata": {
    "papermill": {
     "duration": 0.179742,
     "end_time": "2022-05-18T11:48:33.680128",
     "exception": false,
     "start_time": "2022-05-18T11:48:33.500386",
     "status": "completed"
    },
    "tags": []
   },
   "source": [
    "### Statistical method\n",
    "\n",
    "Check the scale so different feature with describe() method of dataframe."
   ]
  },
  {
   "cell_type": "code",
   "execution_count": 20,
   "id": "041fa716",
   "metadata": {
    "execution": {
     "iopub.execute_input": "2022-05-18T11:48:34.025707Z",
     "iopub.status.busy": "2022-05-18T11:48:34.025213Z",
     "iopub.status.idle": "2022-05-18T11:48:34.071748Z",
     "shell.execute_reply": "2022-05-18T11:48:34.070913Z"
    },
    "papermill": {
     "duration": 0.222016,
     "end_time": "2022-05-18T11:48:34.073995",
     "exception": false,
     "start_time": "2022-05-18T11:48:33.851979",
     "status": "completed"
    },
    "tags": []
   },
   "outputs": [
    {
     "data": {
      "text/html": [
       "<div>\n",
       "<style scoped>\n",
       "    .dataframe tbody tr th:only-of-type {\n",
       "        vertical-align: middle;\n",
       "    }\n",
       "\n",
       "    .dataframe tbody tr th {\n",
       "        vertical-align: top;\n",
       "    }\n",
       "\n",
       "    .dataframe thead th {\n",
       "        text-align: right;\n",
       "    }\n",
       "</style>\n",
       "<table border=\"1\" class=\"dataframe\">\n",
       "  <thead>\n",
       "    <tr style=\"text-align: right;\">\n",
       "      <th></th>\n",
       "      <th>count</th>\n",
       "      <th>mean</th>\n",
       "      <th>std</th>\n",
       "      <th>min</th>\n",
       "      <th>25%</th>\n",
       "      <th>50%</th>\n",
       "      <th>75%</th>\n",
       "      <th>max</th>\n",
       "    </tr>\n",
       "  </thead>\n",
       "  <tbody>\n",
       "    <tr>\n",
       "      <th>Sex</th>\n",
       "      <td>4177.0</td>\n",
       "      <td>1.955470</td>\n",
       "      <td>0.827815</td>\n",
       "      <td>1.0000</td>\n",
       "      <td>1.0000</td>\n",
       "      <td>2.0000</td>\n",
       "      <td>3.000</td>\n",
       "      <td>3.0000</td>\n",
       "    </tr>\n",
       "    <tr>\n",
       "      <th>Length</th>\n",
       "      <td>4177.0</td>\n",
       "      <td>0.523992</td>\n",
       "      <td>0.120093</td>\n",
       "      <td>0.0750</td>\n",
       "      <td>0.4500</td>\n",
       "      <td>0.5450</td>\n",
       "      <td>0.615</td>\n",
       "      <td>0.8150</td>\n",
       "    </tr>\n",
       "    <tr>\n",
       "      <th>Diameter</th>\n",
       "      <td>4177.0</td>\n",
       "      <td>0.407881</td>\n",
       "      <td>0.099240</td>\n",
       "      <td>0.0550</td>\n",
       "      <td>0.3500</td>\n",
       "      <td>0.4250</td>\n",
       "      <td>0.480</td>\n",
       "      <td>0.6500</td>\n",
       "    </tr>\n",
       "    <tr>\n",
       "      <th>Height</th>\n",
       "      <td>4177.0</td>\n",
       "      <td>0.139516</td>\n",
       "      <td>0.041827</td>\n",
       "      <td>0.0000</td>\n",
       "      <td>0.1150</td>\n",
       "      <td>0.1400</td>\n",
       "      <td>0.165</td>\n",
       "      <td>1.1300</td>\n",
       "    </tr>\n",
       "    <tr>\n",
       "      <th>Whole weight</th>\n",
       "      <td>4177.0</td>\n",
       "      <td>0.828742</td>\n",
       "      <td>0.490389</td>\n",
       "      <td>0.0020</td>\n",
       "      <td>0.4415</td>\n",
       "      <td>0.7995</td>\n",
       "      <td>1.153</td>\n",
       "      <td>2.8255</td>\n",
       "    </tr>\n",
       "    <tr>\n",
       "      <th>Shucked weight</th>\n",
       "      <td>4177.0</td>\n",
       "      <td>0.359367</td>\n",
       "      <td>0.221963</td>\n",
       "      <td>0.0010</td>\n",
       "      <td>0.1860</td>\n",
       "      <td>0.3360</td>\n",
       "      <td>0.502</td>\n",
       "      <td>1.4880</td>\n",
       "    </tr>\n",
       "    <tr>\n",
       "      <th>Viscera weight</th>\n",
       "      <td>4177.0</td>\n",
       "      <td>0.180594</td>\n",
       "      <td>0.109614</td>\n",
       "      <td>0.0005</td>\n",
       "      <td>0.0935</td>\n",
       "      <td>0.1710</td>\n",
       "      <td>0.253</td>\n",
       "      <td>0.7600</td>\n",
       "    </tr>\n",
       "    <tr>\n",
       "      <th>Shell weight</th>\n",
       "      <td>4177.0</td>\n",
       "      <td>0.238831</td>\n",
       "      <td>0.139203</td>\n",
       "      <td>0.0015</td>\n",
       "      <td>0.1300</td>\n",
       "      <td>0.2340</td>\n",
       "      <td>0.329</td>\n",
       "      <td>1.0050</td>\n",
       "    </tr>\n",
       "  </tbody>\n",
       "</table>\n",
       "</div>"
      ],
      "text/plain": [
       "                 count      mean       std     min     25%     50%    75%  \\\n",
       "Sex             4177.0  1.955470  0.827815  1.0000  1.0000  2.0000  3.000   \n",
       "Length          4177.0  0.523992  0.120093  0.0750  0.4500  0.5450  0.615   \n",
       "Diameter        4177.0  0.407881  0.099240  0.0550  0.3500  0.4250  0.480   \n",
       "Height          4177.0  0.139516  0.041827  0.0000  0.1150  0.1400  0.165   \n",
       "Whole weight    4177.0  0.828742  0.490389  0.0020  0.4415  0.7995  1.153   \n",
       "Shucked weight  4177.0  0.359367  0.221963  0.0010  0.1860  0.3360  0.502   \n",
       "Viscera weight  4177.0  0.180594  0.109614  0.0005  0.0935  0.1710  0.253   \n",
       "Shell weight    4177.0  0.238831  0.139203  0.0015  0.1300  0.2340  0.329   \n",
       "\n",
       "                   max  \n",
       "Sex             3.0000  \n",
       "Length          0.8150  \n",
       "Diameter        0.6500  \n",
       "Height          1.1300  \n",
       "Whole weight    2.8255  \n",
       "Shucked weight  1.4880  \n",
       "Viscera weight  0.7600  \n",
       "Shell weight    1.0050  "
      ]
     },
     "execution_count": 20,
     "metadata": {},
     "output_type": "execute_result"
    }
   ],
   "source": [
    "abalone_data.describe().T"
   ]
  },
  {
   "cell_type": "markdown",
   "id": "ab06901c",
   "metadata": {
    "papermill": {
     "duration": 0.171487,
     "end_time": "2022-05-18T11:48:34.420574",
     "exception": false,
     "start_time": "2022-05-18T11:48:34.249087",
     "status": "completed"
    },
    "tags": []
   },
   "source": [
    "Note that\n",
    "    - There are 4177 examples or rows in this dataset.\n",
    "    - The mean and std. dev. of features are quite different from one another.\n",
    "    \n",
    "- We can confirm that with a variety fo visualization techinques and plots."
   ]
  },
  {
   "cell_type": "markdown",
   "id": "e60afda7",
   "metadata": {
    "papermill": {
     "duration": 0.170389,
     "end_time": "2022-05-18T11:48:34.760836",
     "exception": false,
     "start_time": "2022-05-18T11:48:34.590447",
     "status": "completed"
    },
    "tags": []
   },
   "source": [
    "### Visualization of feature distributions\n",
    "\n",
    "Visualize feature distributions\n",
    "\n",
    "    - Histogram \n",
    "    - Kernel density estimation (KDE) plot\n",
    "    - Box\n",
    "    - Violin"
   ]
  },
  {
   "cell_type": "markdown",
   "id": "8d94a288",
   "metadata": {
    "papermill": {
     "duration": 0.17385,
     "end_time": "2022-05-18T11:48:35.104564",
     "exception": false,
     "start_time": "2022-05-18T11:48:34.930714",
     "status": "completed"
    },
    "tags": []
   },
   "source": [
    "Histogram"
   ]
  },
  {
   "cell_type": "code",
   "execution_count": 21,
   "id": "de622d20",
   "metadata": {
    "execution": {
     "iopub.execute_input": "2022-05-18T11:48:35.446507Z",
     "iopub.status.busy": "2022-05-18T11:48:35.446068Z",
     "iopub.status.idle": "2022-05-18T11:48:35.799101Z",
     "shell.execute_reply": "2022-05-18T11:48:35.798092Z"
    },
    "papermill": {
     "duration": 0.526378,
     "end_time": "2022-05-18T11:48:35.801042",
     "exception": false,
     "start_time": "2022-05-18T11:48:35.274664",
     "status": "completed"
    },
    "tags": []
   },
   "outputs": [
    {
     "data": {
      "text/plain": [
       "<AxesSubplot:xlabel='Sex', ylabel='Count'>"
      ]
     },
     "execution_count": 21,
     "metadata": {},
     "output_type": "execute_result"
    },
    {
     "data": {
      "image/png": "[encoded data removed]",
      "text/plain": [
       "<Figure size 432x288 with 1 Axes>"
      ]
     },
     "metadata": {},
     "output_type": "display_data"
    }
   ],
   "source": [
    "import seaborn as sns\n",
    "sns.histplot(data=abalone_data, x='Sex')\n",
    "sns.histplot(data=abalone_data, x='Shucked weight')"
   ]
  },
  {
   "cell_type": "code",
   "execution_count": 22,
   "id": "c3af0176",
   "metadata": {
    "execution": {
     "iopub.execute_input": "2022-05-18T11:48:36.146852Z",
     "iopub.status.busy": "2022-05-18T11:48:36.146268Z",
     "iopub.status.idle": "2022-05-18T11:48:36.640884Z",
     "shell.execute_reply": "2022-05-18T11:48:36.640098Z"
    },
    "papermill": {
     "duration": 0.670925,
     "end_time": "2022-05-18T11:48:36.643184",
     "exception": false,
     "start_time": "2022-05-18T11:48:35.972259",
     "status": "completed"
    },
    "tags": []
   },
   "outputs": [
    {
     "data": {
      "image/png": "[encoded data removed]",
      "text/plain": [
       "<Figure size 432x288 with 1 Axes>"
      ]
     },
     "metadata": {},
     "output_type": "display_data"
    }
   ],
   "source": [
    "ax = abalone_data.plot.hist()"
   ]
  },
  {
   "cell_type": "markdown",
   "id": "9652b826",
   "metadata": {
    "papermill": {
     "duration": 0.17739,
     "end_time": "2022-05-18T11:48:36.993789",
     "exception": false,
     "start_time": "2022-05-18T11:48:36.816399",
     "status": "completed"
    },
    "tags": []
   },
   "source": [
    "KDE plot"
   ]
  },
  {
   "cell_type": "code",
   "execution_count": 23,
   "id": "da3f2978",
   "metadata": {
    "execution": {
     "iopub.execute_input": "2022-05-18T11:48:37.341168Z",
     "iopub.status.busy": "2022-05-18T11:48:37.340862Z",
     "iopub.status.idle": "2022-05-18T11:48:38.194803Z",
     "shell.execute_reply": "2022-05-18T11:48:38.193815Z"
    },
    "papermill": {
     "duration": 1.030449,
     "end_time": "2022-05-18T11:48:38.197351",
     "exception": false,
     "start_time": "2022-05-18T11:48:37.166902",
     "status": "completed"
    },
    "tags": []
   },
   "outputs": [
    {
     "data": {
      "image/png": "[encoded data removed]",
      "text/plain": [
       "<Figure size 432x288 with 1 Axes>"
      ]
     },
     "metadata": {},
     "output_type": "display_data"
    }
   ],
   "source": [
    "#@title [KDE plots - combined]\n",
    "ax = abalone_data.plot.kde()"
   ]
  },
  {
   "cell_type": "code",
   "execution_count": 24,
   "id": "d4163106",
   "metadata": {
    "execution": {
     "iopub.execute_input": "2022-05-18T11:48:38.551843Z",
     "iopub.status.busy": "2022-05-18T11:48:38.550981Z",
     "iopub.status.idle": "2022-05-18T11:48:38.840458Z",
     "shell.execute_reply": "2022-05-18T11:48:38.839510Z"
    },
    "papermill": {
     "duration": 0.469664,
     "end_time": "2022-05-18T11:48:38.842793",
     "exception": false,
     "start_time": "2022-05-18T11:48:38.373129",
     "status": "completed"
    },
    "tags": []
   },
   "outputs": [
    {
     "data": {
      "image/png": "[encoded data removed]",
      "text/plain": [
       "<Figure size 432x288 with 1 Axes>"
      ]
     },
     "metadata": {},
     "output_type": "display_data"
    }
   ],
   "source": [
    "ax = abalone_data.plot.box()"
   ]
  },
  {
   "cell_type": "code",
   "execution_count": 25,
   "id": "54e56926",
   "metadata": {
    "execution": {
     "iopub.execute_input": "2022-05-18T11:48:39.197857Z",
     "iopub.status.busy": "2022-05-18T11:48:39.197560Z",
     "iopub.status.idle": "2022-05-18T11:48:39.201374Z",
     "shell.execute_reply": "2022-05-18T11:48:39.200426Z"
    },
    "papermill": {
     "duration": 0.182337,
     "end_time": "2022-05-18T11:48:39.203218",
     "exception": false,
     "start_time": "2022-05-18T11:48:39.020881",
     "status": "completed"
    },
    "tags": []
   },
   "outputs": [],
   "source": [
    "#ax = abalone_data.plot.violin()"
   ]
  },
  {
   "cell_type": "markdown",
   "id": "59c4dfda",
   "metadata": {
    "papermill": {
     "duration": 0.175293,
     "end_time": "2022-05-18T11:48:39.552437",
     "exception": false,
     "start_time": "2022-05-18T11:48:39.377144",
     "status": "completed"
    },
    "tags": []
   },
   "source": [
    "# Step4: Scaling"
   ]
  },
  {
   "cell_type": "code",
   "execution_count": 26,
   "id": "a6e2bf89",
   "metadata": {
    "execution": {
     "iopub.execute_input": "2022-05-18T11:48:39.906713Z",
     "iopub.status.busy": "2022-05-18T11:48:39.906391Z",
     "iopub.status.idle": "2022-05-18T11:48:39.912157Z",
     "shell.execute_reply": "2022-05-18T11:48:39.911243Z"
    },
    "papermill": {
     "duration": 0.185405,
     "end_time": "2022-05-18T11:48:39.913998",
     "exception": false,
     "start_time": "2022-05-18T11:48:39.728593",
     "status": "completed"
    },
    "tags": []
   },
   "outputs": [
    {
     "name": "stdout",
     "output_type": "stream",
     "text": [
      "[[   4]\n",
      " [   2]\n",
      " [   5]\n",
      " [  -2]\n",
      " [-100]]\n"
     ]
    }
   ],
   "source": [
    "x = np.array([4, 2, 5, -2, -100]).reshape(-1, 1)\n",
    "print(x)"
   ]
  },
  {
   "cell_type": "code",
   "execution_count": 27,
   "id": "f5eb025b",
   "metadata": {
    "execution": {
     "iopub.execute_input": "2022-05-18T11:48:40.270481Z",
     "iopub.status.busy": "2022-05-18T11:48:40.269967Z",
     "iopub.status.idle": "2022-05-18T11:48:40.275730Z",
     "shell.execute_reply": "2022-05-18T11:48:40.274843Z"
    },
    "papermill": {
     "duration": 0.18553,
     "end_time": "2022-05-18T11:48:40.277879",
     "exception": false,
     "start_time": "2022-05-18T11:48:40.092349",
     "status": "completed"
    },
    "tags": []
   },
   "outputs": [
    {
     "name": "stdout",
     "output_type": "stream",
     "text": [
      "[[ 0.04]\n",
      " [ 0.02]\n",
      " [ 0.05]\n",
      " [-0.02]\n",
      " [-1.  ]]\n"
     ]
    }
   ],
   "source": [
    "from sklearn.preprocessing import MaxAbsScaler\n",
    "\n",
    "mas = MaxAbsScaler()\n",
    "x_new = mas.fit_transform(x)\n",
    "print(x_new)"
   ]
  },
  {
   "cell_type": "markdown",
   "id": "9703788a",
   "metadata": {
    "papermill": {
     "duration": 0.176875,
     "end_time": "2022-05-18T11:48:40.634060",
     "exception": false,
     "start_time": "2022-05-18T11:48:40.457185",
     "status": "completed"
    },
    "tags": []
   },
   "source": [
    "### MinMaxScalre"
   ]
  },
  {
   "cell_type": "code",
   "execution_count": 28,
   "id": "5e03600d",
   "metadata": {
    "execution": {
     "iopub.execute_input": "2022-05-18T11:48:40.991763Z",
     "iopub.status.busy": "2022-05-18T11:48:40.991204Z",
     "iopub.status.idle": "2022-05-18T11:48:41.002044Z",
     "shell.execute_reply": "2022-05-18T11:48:41.001342Z"
    },
    "papermill": {
     "duration": 0.1926,
     "end_time": "2022-05-18T11:48:41.003957",
     "exception": false,
     "start_time": "2022-05-18T11:48:40.811357",
     "status": "completed"
    },
    "tags": []
   },
   "outputs": [
    {
     "data": {
      "text/plain": [
       "array([[0.        , 0.51351351, 0.5210084 , 0.0840708 , 0.18133522,\n",
       "        0.15030262, 0.1323239 , 0.14798206],\n",
       "       [0.        , 0.37162162, 0.35294118, 0.07964602, 0.07915707,\n",
       "        0.06624075, 0.06319947, 0.06826109],\n",
       "       [0.5       , 0.61486486, 0.61344538, 0.11946903, 0.23906499,\n",
       "        0.17182246, 0.18564845, 0.2077728 ],\n",
       "       [0.        , 0.49324324, 0.5210084 , 0.11061947, 0.18204356,\n",
       "        0.14425017, 0.14944042, 0.15296462],\n",
       "       [1.        , 0.34459459, 0.33613445, 0.07079646, 0.07189658,\n",
       "        0.0595158 , 0.05134957, 0.0533134 ]])"
      ]
     },
     "execution_count": 28,
     "metadata": {},
     "output_type": "execute_result"
    }
   ],
   "source": [
    "from sklearn.preprocessing import MinMaxScaler\n",
    "x = abalone_data\n",
    "mm = MinMaxScaler()\n",
    "x_normalized = mm.fit_transform(x)\n",
    "x_normalized[:5]"
   ]
  },
  {
   "cell_type": "code",
   "execution_count": 29,
   "id": "4394607e",
   "metadata": {
    "execution": {
     "iopub.execute_input": "2022-05-18T11:48:41.359531Z",
     "iopub.status.busy": "2022-05-18T11:48:41.359223Z",
     "iopub.status.idle": "2022-05-18T11:48:41.365264Z",
     "shell.execute_reply": "2022-05-18T11:48:41.364584Z"
    },
    "papermill": {
     "duration": 0.184661,
     "end_time": "2022-05-18T11:48:41.367101",
     "exception": false,
     "start_time": "2022-05-18T11:48:41.182440",
     "status": "completed"
    },
    "tags": []
   },
   "outputs": [
    {
     "data": {
      "text/plain": [
       "array([0.47773522, 0.60674608, 0.59307774, 0.12346584, 0.29280756,\n",
       "       0.24100033, 0.23712127, 0.2365031 ])"
      ]
     },
     "execution_count": 29,
     "metadata": {},
     "output_type": "execute_result"
    }
   ],
   "source": [
    "x_normalized.mean(axis=0)"
   ]
  },
  {
   "cell_type": "code",
   "execution_count": 30,
   "id": "ae5c4b4b",
   "metadata": {
    "execution": {
     "iopub.execute_input": "2022-05-18T11:48:41.722896Z",
     "iopub.status.busy": "2022-05-18T11:48:41.722419Z",
     "iopub.status.idle": "2022-05-18T11:48:41.727741Z",
     "shell.execute_reply": "2022-05-18T11:48:41.727175Z"
    },
    "papermill": {
     "duration": 0.185553,
     "end_time": "2022-05-18T11:48:41.729629",
     "exception": false,
     "start_time": "2022-05-18T11:48:41.544076",
     "status": "completed"
    },
    "tags": []
   },
   "outputs": [
    {
     "data": {
      "text/plain": [
       "array([0.4138578 , 0.16226829, 0.16676972, 0.03701066, 0.17366046,\n",
       "       0.14925109, 0.14430695, 0.13870055])"
      ]
     },
     "execution_count": 30,
     "metadata": {},
     "output_type": "execute_result"
    }
   ],
   "source": [
    "x_normalized.std(axis=0)"
   ]
  },
  {
   "cell_type": "code",
   "execution_count": 31,
   "id": "1f8ee317",
   "metadata": {
    "execution": {
     "iopub.execute_input": "2022-05-18T11:48:42.088705Z",
     "iopub.status.busy": "2022-05-18T11:48:42.088119Z",
     "iopub.status.idle": "2022-05-18T11:48:42.680815Z",
     "shell.execute_reply": "2022-05-18T11:48:42.679858Z"
    },
    "papermill": {
     "duration": 0.776164,
     "end_time": "2022-05-18T11:48:42.682927",
     "exception": false,
     "start_time": "2022-05-18T11:48:41.906763",
     "status": "completed"
    },
    "tags": []
   },
   "outputs": [
    {
     "data": {
      "image/png": "[encoded data removed]",
      "text/plain": [
       "<Figure size 432x288 with 1 Axes>"
      ]
     },
     "metadata": {},
     "output_type": "display_data"
    }
   ],
   "source": [
    "ax = abalone_data.plot.hist()"
   ]
  },
  {
   "cell_type": "code",
   "execution_count": null,
   "id": "f61753a7",
   "metadata": {
    "papermill": {
     "duration": 0.176751,
     "end_time": "2022-05-18T11:48:43.037367",
     "exception": false,
     "start_time": "2022-05-18T11:48:42.860616",
     "status": "completed"
    },
    "tags": []
   },
   "outputs": [],
   "source": []
  },
  {
   "cell_type": "markdown",
   "id": "5194c294",
   "metadata": {
    "papermill": {
     "duration": 0.178101,
     "end_time": "2022-05-18T11:48:43.395515",
     "exception": false,
     "start_time": "2022-05-18T11:48:43.217414",
     "status": "completed"
    },
    "tags": []
   },
   "source": [
    "### STandardization"
   ]
  },
  {
   "cell_type": "code",
   "execution_count": 32,
   "id": "f4168c60",
   "metadata": {
    "execution": {
     "iopub.execute_input": "2022-05-18T11:48:43.756641Z",
     "iopub.status.busy": "2022-05-18T11:48:43.756138Z",
     "iopub.status.idle": "2022-05-18T11:48:43.767710Z",
     "shell.execute_reply": "2022-05-18T11:48:43.767142Z"
    },
    "papermill": {
     "duration": 0.194444,
     "end_time": "2022-05-18T11:48:43.769544",
     "exception": false,
     "start_time": "2022-05-18T11:48:43.575100",
     "status": "completed"
    },
    "tags": []
   },
   "outputs": [
    {
     "data": {
      "text/plain": [
       "array([[-1.15434629, -0.57455813, -0.43214879, -1.06442415, -0.64189823,\n",
       "        -0.60768536, -0.72621157, -0.63821689],\n",
       "       [-1.15434629, -1.44898585, -1.439929  , -1.18397831, -1.23027711,\n",
       "        -1.17090984, -1.20522124, -1.21298732],\n",
       "       [ 0.05379815,  0.05003309,  0.12213032, -0.10799087, -0.30946926,\n",
       "        -0.4634999 , -0.35668983, -0.20713907],\n",
       "       [-1.15434629, -0.69947638, -0.43214879, -0.34709919, -0.63781934,\n",
       "        -0.64823753, -0.60759966, -0.60229374],\n",
       "       [ 1.26194258, -1.61554351, -1.54070702, -1.42308663, -1.27208566,\n",
       "        -1.2159678 , -1.28733718, -1.32075677]])"
      ]
     },
     "execution_count": 32,
     "metadata": {},
     "output_type": "execute_result"
    }
   ],
   "source": [
    "from sklearn.preprocessing import StandardScaler\n",
    "ss = StandardScaler()\n",
    "X_standardized = ss.fit_transform(x)\n",
    "X_standardized[:5]"
   ]
  },
  {
   "cell_type": "code",
   "execution_count": 33,
   "id": "aceade7d",
   "metadata": {
    "execution": {
     "iopub.execute_input": "2022-05-18T11:48:44.138169Z",
     "iopub.status.busy": "2022-05-18T11:48:44.137639Z",
     "iopub.status.idle": "2022-05-18T11:48:44.143061Z",
     "shell.execute_reply": "2022-05-18T11:48:44.142459Z"
    },
    "papermill": {
     "duration": 0.191299,
     "end_time": "2022-05-18T11:48:44.144981",
     "exception": false,
     "start_time": "2022-05-18T11:48:43.953682",
     "status": "completed"
    },
    "tags": []
   },
   "outputs": [
    {
     "data": {
      "text/plain": [
       "array([-1.19075871e-17, -5.83471770e-16, -3.02792930e-16,  3.91249292e-16,\n",
       "        9.18585294e-17, -1.02065033e-17,  2.70472337e-16,  2.97689679e-16])"
      ]
     },
     "execution_count": 33,
     "metadata": {},
     "output_type": "execute_result"
    }
   ],
   "source": [
    "X_standardized.mean(axis=0)"
   ]
  },
  {
   "cell_type": "code",
   "execution_count": 34,
   "id": "03c16a8f",
   "metadata": {
    "execution": {
     "iopub.execute_input": "2022-05-18T11:48:44.505102Z",
     "iopub.status.busy": "2022-05-18T11:48:44.504473Z",
     "iopub.status.idle": "2022-05-18T11:48:44.510779Z",
     "shell.execute_reply": "2022-05-18T11:48:44.509871Z"
    },
    "papermill": {
     "duration": 0.188962,
     "end_time": "2022-05-18T11:48:44.512930",
     "exception": false,
     "start_time": "2022-05-18T11:48:44.323968",
     "status": "completed"
    },
    "tags": []
   },
   "outputs": [
    {
     "data": {
      "text/plain": [
       "array([1., 1., 1., 1., 1., 1., 1., 1.])"
      ]
     },
     "execution_count": 34,
     "metadata": {},
     "output_type": "execute_result"
    }
   ],
   "source": [
    "X_standardized.std(axis=0)"
   ]
  },
  {
   "cell_type": "code",
   "execution_count": 35,
   "id": "fd4cedd7",
   "metadata": {
    "execution": {
     "iopub.execute_input": "2022-05-18T11:48:44.876460Z",
     "iopub.status.busy": "2022-05-18T11:48:44.875869Z",
     "iopub.status.idle": "2022-05-18T11:48:44.879497Z",
     "shell.execute_reply": "2022-05-18T11:48:44.878838Z"
    },
    "papermill": {
     "duration": 0.187577,
     "end_time": "2022-05-18T11:48:44.881492",
     "exception": false,
     "start_time": "2022-05-18T11:48:44.693915",
     "status": "completed"
    },
    "tags": []
   },
   "outputs": [],
   "source": [
    "# #@title [Histogram - combined]\n",
    "# # create a new plot\n",
    "# plt.figure(figsize=(15, 8))\n",
    "# data=pd.DataFrame(X_standardized, columns=in_cols)\n",
    "# for colname in abalone_data:\n",
    "#     plt.hist(data[colname].values, alpha=0.4)\n",
    "    \n",
    "# plt.legend(in_cols, fontsize=18, loc=\"upper right\", frameon=True)\n",
    "# plt.title('Distribution of features across samples after standardization')\n",
    "# plt.xlabel('Range', fontsize=16)\n",
    "# plt.ylabel('Frequencey', fontsize-16)"
   ]
  },
  {
   "cell_type": "markdown",
   "id": "e0b0adca",
   "metadata": {
    "papermill": {
     "duration": 0.178384,
     "end_time": "2022-05-18T11:48:45.243432",
     "exception": false,
     "start_time": "2022-05-18T11:48:45.065048",
     "status": "completed"
    },
    "tags": []
   },
   "source": []
  },
  {
   "cell_type": "code",
   "execution_count": 36,
   "id": "00d785df",
   "metadata": {
    "execution": {
     "iopub.execute_input": "2022-05-18T11:48:45.607158Z",
     "iopub.status.busy": "2022-05-18T11:48:45.606680Z",
     "iopub.status.idle": "2022-05-18T11:48:45.609740Z",
     "shell.execute_reply": "2022-05-18T11:48:45.609153Z"
    },
    "papermill": {
     "duration": 0.185779,
     "end_time": "2022-05-18T11:48:45.611711",
     "exception": false,
     "start_time": "2022-05-18T11:48:45.425932",
     "status": "completed"
    },
    "tags": []
   },
   "outputs": [],
   "source": [
    "#ax=sns.boxplot(data=data, orient=\"h\", palette=\"Set2\")"
   ]
  },
  {
   "cell_type": "markdown",
   "id": "81dff486",
   "metadata": {
    "papermill": {
     "duration": 0.183392,
     "end_time": "2022-05-18T11:48:45.978136",
     "exception": false,
     "start_time": "2022-05-18T11:48:45.794744",
     "status": "completed"
    },
    "tags": []
   },
   "source": [
    "# Dmonstration of Data transformation, Composite transformers"
   ]
  },
  {
   "cell_type": "markdown",
   "id": "70de8794",
   "metadata": {
    "papermill": {
     "duration": 0.18017,
     "end_time": "2022-05-18T11:48:46.338682",
     "exception": false,
     "start_time": "2022-05-18T11:48:46.158512",
     "status": "completed"
    },
    "tags": []
   },
   "source": [
    "# 4. add_dummy_feature\n",
    "\n",
    "augments dataset with a column vector, each value in the column vector is 1. This is useful for adding a prameter for bias term in the model"
   ]
  },
  {
   "cell_type": "code",
   "execution_count": 37,
   "id": "d7d6b40e",
   "metadata": {
    "execution": {
     "iopub.execute_input": "2022-05-18T11:48:46.700738Z",
     "iopub.status.busy": "2022-05-18T11:48:46.700242Z",
     "iopub.status.idle": "2022-05-18T11:48:46.706474Z",
     "shell.execute_reply": "2022-05-18T11:48:46.705332Z"
    },
    "papermill": {
     "duration": 0.190114,
     "end_time": "2022-05-18T11:48:46.708922",
     "exception": false,
     "start_time": "2022-05-18T11:48:46.518808",
     "status": "completed"
    },
    "tags": []
   },
   "outputs": [
    {
     "name": "stdout",
     "output_type": "stream",
     "text": [
      "[[1. 7. 1.]\n",
      " [1. 1. 8.]\n",
      " [1. 2. 0.]\n",
      " [1. 9. 6.]]\n"
     ]
    }
   ],
   "source": [
    "x = np.array(\n",
    "    [[7, 1],\n",
    "    [1, 8],\n",
    "    [2, 0],\n",
    "    [9, 6]])\n",
    "\n",
    "from sklearn.preprocessing import add_dummy_feature\n",
    "\n",
    "x_new = add_dummy_feature(x)\n",
    "print(x_new)"
   ]
  },
  {
   "cell_type": "markdown",
   "id": "a2cde19e",
   "metadata": {
    "papermill": {
     "duration": 0.183075,
     "end_time": "2022-05-18T11:48:47.072617",
     "exception": false,
     "start_time": "2022-05-18T11:48:46.889542",
     "status": "completed"
    },
    "tags": []
   },
   "source": [
    "# 5. Custom transformers"
   ]
  },
  {
   "cell_type": "code",
   "execution_count": 38,
   "id": "5b6e7954",
   "metadata": {
    "execution": {
     "iopub.execute_input": "2022-05-18T11:48:47.436589Z",
     "iopub.status.busy": "2022-05-18T11:48:47.435963Z",
     "iopub.status.idle": "2022-05-18T11:48:47.439516Z",
     "shell.execute_reply": "2022-05-18T11:48:47.438848Z"
    },
    "papermill": {
     "duration": 0.187773,
     "end_time": "2022-05-18T11:48:47.441474",
     "exception": false,
     "start_time": "2022-05-18T11:48:47.253701",
     "status": "completed"
    },
    "tags": []
   },
   "outputs": [],
   "source": [
    "from sklearn.preprocessing import FunctionTransformer"
   ]
  },
  {
   "cell_type": "code",
   "execution_count": 39,
   "id": "085e6493",
   "metadata": {
    "execution": {
     "iopub.execute_input": "2022-05-18T11:48:47.808097Z",
     "iopub.status.busy": "2022-05-18T11:48:47.807486Z",
     "iopub.status.idle": "2022-05-18T11:48:47.823406Z",
     "shell.execute_reply": "2022-05-18T11:48:47.822539Z"
    },
    "papermill": {
     "duration": 0.20207,
     "end_time": "2022-05-18T11:48:47.825612",
     "exception": false,
     "start_time": "2022-05-18T11:48:47.623542",
     "status": "completed"
    },
    "tags": []
   },
   "outputs": [],
   "source": [
    "wine_data = pd.read_csv(\"../input/red-wine-quality-cortez-et-al-2009/winequality-red.csv\", sep=\";\")"
   ]
  },
  {
   "cell_type": "code",
   "execution_count": 40,
   "id": "f502a42c",
   "metadata": {
    "execution": {
     "iopub.execute_input": "2022-05-18T11:48:48.195942Z",
     "iopub.status.busy": "2022-05-18T11:48:48.195416Z",
     "iopub.status.idle": "2022-05-18T11:48:48.240557Z",
     "shell.execute_reply": "2022-05-18T11:48:48.239640Z"
    },
    "papermill": {
     "duration": 0.233137,
     "end_time": "2022-05-18T11:48:48.242837",
     "exception": false,
     "start_time": "2022-05-18T11:48:48.009700",
     "status": "completed"
    },
    "tags": []
   },
   "outputs": [
    {
     "data": {
      "text/html": [
       "<div>\n",
       "<style scoped>\n",
       "    .dataframe tbody tr th:only-of-type {\n",
       "        vertical-align: middle;\n",
       "    }\n",
       "\n",
       "    .dataframe tbody tr th {\n",
       "        vertical-align: top;\n",
       "    }\n",
       "\n",
       "    .dataframe thead th {\n",
       "        text-align: right;\n",
       "    }\n",
       "</style>\n",
       "<table border=\"1\" class=\"dataframe\">\n",
       "  <thead>\n",
       "    <tr style=\"text-align: right;\">\n",
       "      <th></th>\n",
       "      <th>count</th>\n",
       "      <th>mean</th>\n",
       "      <th>std</th>\n",
       "      <th>min</th>\n",
       "      <th>25%</th>\n",
       "      <th>50%</th>\n",
       "      <th>75%</th>\n",
       "      <th>max</th>\n",
       "    </tr>\n",
       "  </thead>\n",
       "  <tbody>\n",
       "    <tr>\n",
       "      <th>fixed acidity</th>\n",
       "      <td>1599.0</td>\n",
       "      <td>8.319637</td>\n",
       "      <td>1.741096</td>\n",
       "      <td>4.60000</td>\n",
       "      <td>7.1000</td>\n",
       "      <td>7.90000</td>\n",
       "      <td>9.200000</td>\n",
       "      <td>15.90000</td>\n",
       "    </tr>\n",
       "    <tr>\n",
       "      <th>volatile acidity</th>\n",
       "      <td>1599.0</td>\n",
       "      <td>0.527821</td>\n",
       "      <td>0.179060</td>\n",
       "      <td>0.12000</td>\n",
       "      <td>0.3900</td>\n",
       "      <td>0.52000</td>\n",
       "      <td>0.640000</td>\n",
       "      <td>1.58000</td>\n",
       "    </tr>\n",
       "    <tr>\n",
       "      <th>citric acid</th>\n",
       "      <td>1599.0</td>\n",
       "      <td>0.270976</td>\n",
       "      <td>0.194801</td>\n",
       "      <td>0.00000</td>\n",
       "      <td>0.0900</td>\n",
       "      <td>0.26000</td>\n",
       "      <td>0.420000</td>\n",
       "      <td>1.00000</td>\n",
       "    </tr>\n",
       "    <tr>\n",
       "      <th>residual sugar</th>\n",
       "      <td>1599.0</td>\n",
       "      <td>2.538806</td>\n",
       "      <td>1.409928</td>\n",
       "      <td>0.90000</td>\n",
       "      <td>1.9000</td>\n",
       "      <td>2.20000</td>\n",
       "      <td>2.600000</td>\n",
       "      <td>15.50000</td>\n",
       "    </tr>\n",
       "    <tr>\n",
       "      <th>chlorides</th>\n",
       "      <td>1599.0</td>\n",
       "      <td>0.087467</td>\n",
       "      <td>0.047065</td>\n",
       "      <td>0.01200</td>\n",
       "      <td>0.0700</td>\n",
       "      <td>0.07900</td>\n",
       "      <td>0.090000</td>\n",
       "      <td>0.61100</td>\n",
       "    </tr>\n",
       "    <tr>\n",
       "      <th>free sulfur dioxide</th>\n",
       "      <td>1599.0</td>\n",
       "      <td>15.874922</td>\n",
       "      <td>10.460157</td>\n",
       "      <td>1.00000</td>\n",
       "      <td>7.0000</td>\n",
       "      <td>14.00000</td>\n",
       "      <td>21.000000</td>\n",
       "      <td>72.00000</td>\n",
       "    </tr>\n",
       "    <tr>\n",
       "      <th>total sulfur dioxide</th>\n",
       "      <td>1599.0</td>\n",
       "      <td>46.467792</td>\n",
       "      <td>32.895324</td>\n",
       "      <td>6.00000</td>\n",
       "      <td>22.0000</td>\n",
       "      <td>38.00000</td>\n",
       "      <td>62.000000</td>\n",
       "      <td>289.00000</td>\n",
       "    </tr>\n",
       "    <tr>\n",
       "      <th>density</th>\n",
       "      <td>1599.0</td>\n",
       "      <td>0.996747</td>\n",
       "      <td>0.001887</td>\n",
       "      <td>0.99007</td>\n",
       "      <td>0.9956</td>\n",
       "      <td>0.99675</td>\n",
       "      <td>0.997835</td>\n",
       "      <td>1.00369</td>\n",
       "    </tr>\n",
       "    <tr>\n",
       "      <th>pH</th>\n",
       "      <td>1599.0</td>\n",
       "      <td>3.311113</td>\n",
       "      <td>0.154386</td>\n",
       "      <td>2.74000</td>\n",
       "      <td>3.2100</td>\n",
       "      <td>3.31000</td>\n",
       "      <td>3.400000</td>\n",
       "      <td>4.01000</td>\n",
       "    </tr>\n",
       "    <tr>\n",
       "      <th>sulphates</th>\n",
       "      <td>1599.0</td>\n",
       "      <td>0.658149</td>\n",
       "      <td>0.169507</td>\n",
       "      <td>0.33000</td>\n",
       "      <td>0.5500</td>\n",
       "      <td>0.62000</td>\n",
       "      <td>0.730000</td>\n",
       "      <td>2.00000</td>\n",
       "    </tr>\n",
       "    <tr>\n",
       "      <th>alcohol</th>\n",
       "      <td>1599.0</td>\n",
       "      <td>10.422983</td>\n",
       "      <td>1.065668</td>\n",
       "      <td>8.40000</td>\n",
       "      <td>9.5000</td>\n",
       "      <td>10.20000</td>\n",
       "      <td>11.100000</td>\n",
       "      <td>14.90000</td>\n",
       "    </tr>\n",
       "    <tr>\n",
       "      <th>quality</th>\n",
       "      <td>1599.0</td>\n",
       "      <td>5.636023</td>\n",
       "      <td>0.807569</td>\n",
       "      <td>3.00000</td>\n",
       "      <td>5.0000</td>\n",
       "      <td>6.00000</td>\n",
       "      <td>6.000000</td>\n",
       "      <td>8.00000</td>\n",
       "    </tr>\n",
       "  </tbody>\n",
       "</table>\n",
       "</div>"
      ],
      "text/plain": [
       "                       count       mean        std      min      25%  \\\n",
       "fixed acidity         1599.0   8.319637   1.741096  4.60000   7.1000   \n",
       "volatile acidity      1599.0   0.527821   0.179060  0.12000   0.3900   \n",
       "citric acid           1599.0   0.270976   0.194801  0.00000   0.0900   \n",
       "residual sugar        1599.0   2.538806   1.409928  0.90000   1.9000   \n",
       "chlorides             1599.0   0.087467   0.047065  0.01200   0.0700   \n",
       "free sulfur dioxide   1599.0  15.874922  10.460157  1.00000   7.0000   \n",
       "total sulfur dioxide  1599.0  46.467792  32.895324  6.00000  22.0000   \n",
       "density               1599.0   0.996747   0.001887  0.99007   0.9956   \n",
       "pH                    1599.0   3.311113   0.154386  2.74000   3.2100   \n",
       "sulphates             1599.0   0.658149   0.169507  0.33000   0.5500   \n",
       "alcohol               1599.0  10.422983   1.065668  8.40000   9.5000   \n",
       "quality               1599.0   5.636023   0.807569  3.00000   5.0000   \n",
       "\n",
       "                           50%        75%        max  \n",
       "fixed acidity          7.90000   9.200000   15.90000  \n",
       "volatile acidity       0.52000   0.640000    1.58000  \n",
       "citric acid            0.26000   0.420000    1.00000  \n",
       "residual sugar         2.20000   2.600000   15.50000  \n",
       "chlorides              0.07900   0.090000    0.61100  \n",
       "free sulfur dioxide   14.00000  21.000000   72.00000  \n",
       "total sulfur dioxide  38.00000  62.000000  289.00000  \n",
       "density                0.99675   0.997835    1.00369  \n",
       "pH                     3.31000   3.400000    4.01000  \n",
       "sulphates              0.62000   0.730000    2.00000  \n",
       "alcohol               10.20000  11.100000   14.90000  \n",
       "quality                6.00000   6.000000    8.00000  "
      ]
     },
     "execution_count": 40,
     "metadata": {},
     "output_type": "execute_result"
    }
   ],
   "source": [
    "wine_data.describe().T"
   ]
  },
  {
   "cell_type": "markdown",
   "id": "e3cc9c26",
   "metadata": {
    "papermill": {
     "duration": 0.19396,
     "end_time": "2022-05-18T11:48:48.629326",
     "exception": false,
     "start_time": "2022-05-18T11:48:48.435366",
     "status": "completed"
    },
    "tags": []
   },
   "source": [
    "Let's use np.log1p which returns natural logarithm of (1 + the feature value)"
   ]
  },
  {
   "cell_type": "code",
   "execution_count": 41,
   "id": "0aa404e1",
   "metadata": {
    "execution": {
     "iopub.execute_input": "2022-05-18T11:48:48.999818Z",
     "iopub.status.busy": "2022-05-18T11:48:48.999518Z",
     "iopub.status.idle": "2022-05-18T11:48:49.045735Z",
     "shell.execute_reply": "2022-05-18T11:48:49.045126Z"
    },
    "papermill": {
     "duration": 0.230438,
     "end_time": "2022-05-18T11:48:49.047609",
     "exception": false,
     "start_time": "2022-05-18T11:48:48.817171",
     "status": "completed"
    },
    "tags": []
   },
   "outputs": [
    {
     "data": {
      "text/html": [
       "<div>\n",
       "<style scoped>\n",
       "    .dataframe tbody tr th:only-of-type {\n",
       "        vertical-align: middle;\n",
       "    }\n",
       "\n",
       "    .dataframe tbody tr th {\n",
       "        vertical-align: top;\n",
       "    }\n",
       "\n",
       "    .dataframe thead th {\n",
       "        text-align: right;\n",
       "    }\n",
       "</style>\n",
       "<table border=\"1\" class=\"dataframe\">\n",
       "  <thead>\n",
       "    <tr style=\"text-align: right;\">\n",
       "      <th></th>\n",
       "      <th>count</th>\n",
       "      <th>mean</th>\n",
       "      <th>std</th>\n",
       "      <th>min</th>\n",
       "      <th>25%</th>\n",
       "      <th>50%</th>\n",
       "      <th>75%</th>\n",
       "      <th>max</th>\n",
       "    </tr>\n",
       "  </thead>\n",
       "  <tbody>\n",
       "    <tr>\n",
       "      <th>fixed acidity</th>\n",
       "      <td>1599.0</td>\n",
       "      <td>2.215842</td>\n",
       "      <td>0.178100</td>\n",
       "      <td>1.722767</td>\n",
       "      <td>2.091864</td>\n",
       "      <td>2.186051</td>\n",
       "      <td>2.322388</td>\n",
       "      <td>2.827314</td>\n",
       "    </tr>\n",
       "    <tr>\n",
       "      <th>volatile acidity</th>\n",
       "      <td>1599.0</td>\n",
       "      <td>0.417173</td>\n",
       "      <td>0.114926</td>\n",
       "      <td>0.113329</td>\n",
       "      <td>0.329304</td>\n",
       "      <td>0.418710</td>\n",
       "      <td>0.494696</td>\n",
       "      <td>0.947789</td>\n",
       "    </tr>\n",
       "    <tr>\n",
       "      <th>citric acid</th>\n",
       "      <td>1599.0</td>\n",
       "      <td>0.228147</td>\n",
       "      <td>0.152423</td>\n",
       "      <td>0.000000</td>\n",
       "      <td>0.086178</td>\n",
       "      <td>0.231112</td>\n",
       "      <td>0.350657</td>\n",
       "      <td>0.693147</td>\n",
       "    </tr>\n",
       "    <tr>\n",
       "      <th>residual sugar</th>\n",
       "      <td>1599.0</td>\n",
       "      <td>1.218131</td>\n",
       "      <td>0.269969</td>\n",
       "      <td>0.641854</td>\n",
       "      <td>1.064711</td>\n",
       "      <td>1.163151</td>\n",
       "      <td>1.280934</td>\n",
       "      <td>2.803360</td>\n",
       "    </tr>\n",
       "    <tr>\n",
       "      <th>chlorides</th>\n",
       "      <td>1599.0</td>\n",
       "      <td>0.083038</td>\n",
       "      <td>0.038991</td>\n",
       "      <td>0.011929</td>\n",
       "      <td>0.067659</td>\n",
       "      <td>0.076035</td>\n",
       "      <td>0.086178</td>\n",
       "      <td>0.476855</td>\n",
       "    </tr>\n",
       "    <tr>\n",
       "      <th>free sulfur dioxide</th>\n",
       "      <td>1599.0</td>\n",
       "      <td>2.639013</td>\n",
       "      <td>0.623790</td>\n",
       "      <td>0.693147</td>\n",
       "      <td>2.079442</td>\n",
       "      <td>2.708050</td>\n",
       "      <td>3.091042</td>\n",
       "      <td>4.290459</td>\n",
       "    </tr>\n",
       "    <tr>\n",
       "      <th>total sulfur dioxide</th>\n",
       "      <td>1599.0</td>\n",
       "      <td>3.634750</td>\n",
       "      <td>0.682575</td>\n",
       "      <td>1.945910</td>\n",
       "      <td>3.135494</td>\n",
       "      <td>3.663562</td>\n",
       "      <td>4.143135</td>\n",
       "      <td>5.669881</td>\n",
       "    </tr>\n",
       "    <tr>\n",
       "      <th>density</th>\n",
       "      <td>1599.0</td>\n",
       "      <td>0.691519</td>\n",
       "      <td>0.000945</td>\n",
       "      <td>0.688170</td>\n",
       "      <td>0.690945</td>\n",
       "      <td>0.691521</td>\n",
       "      <td>0.692064</td>\n",
       "      <td>0.694990</td>\n",
       "    </tr>\n",
       "    <tr>\n",
       "      <th>pH</th>\n",
       "      <td>1599.0</td>\n",
       "      <td>1.460557</td>\n",
       "      <td>0.035760</td>\n",
       "      <td>1.319086</td>\n",
       "      <td>1.437463</td>\n",
       "      <td>1.460938</td>\n",
       "      <td>1.481605</td>\n",
       "      <td>1.611436</td>\n",
       "    </tr>\n",
       "    <tr>\n",
       "      <th>sulphates</th>\n",
       "      <td>1599.0</td>\n",
       "      <td>0.501073</td>\n",
       "      <td>0.093731</td>\n",
       "      <td>0.285179</td>\n",
       "      <td>0.438255</td>\n",
       "      <td>0.482426</td>\n",
       "      <td>0.548121</td>\n",
       "      <td>1.098612</td>\n",
       "    </tr>\n",
       "    <tr>\n",
       "      <th>alcohol</th>\n",
       "      <td>1599.0</td>\n",
       "      <td>2.431458</td>\n",
       "      <td>0.090434</td>\n",
       "      <td>2.240710</td>\n",
       "      <td>2.351375</td>\n",
       "      <td>2.415914</td>\n",
       "      <td>2.493205</td>\n",
       "      <td>2.766319</td>\n",
       "    </tr>\n",
       "    <tr>\n",
       "      <th>quality</th>\n",
       "      <td>1599.0</td>\n",
       "      <td>1.885054</td>\n",
       "      <td>0.122749</td>\n",
       "      <td>1.386294</td>\n",
       "      <td>1.791759</td>\n",
       "      <td>1.945910</td>\n",
       "      <td>1.945910</td>\n",
       "      <td>2.197225</td>\n",
       "    </tr>\n",
       "  </tbody>\n",
       "</table>\n",
       "</div>"
      ],
      "text/plain": [
       "                       count      mean       std       min       25%  \\\n",
       "fixed acidity         1599.0  2.215842  0.178100  1.722767  2.091864   \n",
       "volatile acidity      1599.0  0.417173  0.114926  0.113329  0.329304   \n",
       "citric acid           1599.0  0.228147  0.152423  0.000000  0.086178   \n",
       "residual sugar        1599.0  1.218131  0.269969  0.641854  1.064711   \n",
       "chlorides             1599.0  0.083038  0.038991  0.011929  0.067659   \n",
       "free sulfur dioxide   1599.0  2.639013  0.623790  0.693147  2.079442   \n",
       "total sulfur dioxide  1599.0  3.634750  0.682575  1.945910  3.135494   \n",
       "density               1599.0  0.691519  0.000945  0.688170  0.690945   \n",
       "pH                    1599.0  1.460557  0.035760  1.319086  1.437463   \n",
       "sulphates             1599.0  0.501073  0.093731  0.285179  0.438255   \n",
       "alcohol               1599.0  2.431458  0.090434  2.240710  2.351375   \n",
       "quality               1599.0  1.885054  0.122749  1.386294  1.791759   \n",
       "\n",
       "                           50%       75%       max  \n",
       "fixed acidity         2.186051  2.322388  2.827314  \n",
       "volatile acidity      0.418710  0.494696  0.947789  \n",
       "citric acid           0.231112  0.350657  0.693147  \n",
       "residual sugar        1.163151  1.280934  2.803360  \n",
       "chlorides             0.076035  0.086178  0.476855  \n",
       "free sulfur dioxide   2.708050  3.091042  4.290459  \n",
       "total sulfur dioxide  3.663562  4.143135  5.669881  \n",
       "density               0.691521  0.692064  0.694990  \n",
       "pH                    1.460938  1.481605  1.611436  \n",
       "sulphates             0.482426  0.548121  1.098612  \n",
       "alcohol               2.415914  2.493205  2.766319  \n",
       "quality               1.945910  1.945910  2.197225  "
      ]
     },
     "execution_count": 41,
     "metadata": {},
     "output_type": "execute_result"
    }
   ],
   "source": [
    "transformer = FunctionTransformer(np.log1p, validate=True)\n",
    "wine_data_transformed = transformer.transform(np.array(wine_data))\n",
    "pd.DataFrame(wine_data_transformed, columns=wine_data.columns).describe().T"
   ]
  },
  {
   "cell_type": "markdown",
   "id": "66eb23d8",
   "metadata": {
    "papermill": {
     "duration": 0.182269,
     "end_time": "2022-05-18T11:48:49.412046",
     "exception": false,
     "start_time": "2022-05-18T11:48:49.229777",
     "status": "completed"
    },
    "tags": []
   },
   "source": [
    "# 6. Polynomial Features"
   ]
  },
  {
   "cell_type": "code",
   "execution_count": 42,
   "id": "5cbd61a7",
   "metadata": {
    "execution": {
     "iopub.execute_input": "2022-05-18T11:48:49.777973Z",
     "iopub.status.busy": "2022-05-18T11:48:49.777414Z",
     "iopub.status.idle": "2022-05-18T11:48:49.794618Z",
     "shell.execute_reply": "2022-05-18T11:48:49.793597Z"
    },
    "papermill": {
     "duration": 0.204094,
     "end_time": "2022-05-18T11:48:49.798185",
     "exception": false,
     "start_time": "2022-05-18T11:48:49.594091",
     "status": "completed"
    },
    "tags": []
   },
   "outputs": [
    {
     "name": "stdout",
     "output_type": "stream",
     "text": [
      "Number of features after transformation= (1599, 11)\n",
      "Number of features after transformation =  (1599, 78)\n"
     ]
    }
   ],
   "source": [
    "from sklearn.preprocessing import PolynomialFeatures\n",
    "\n",
    "wine_data = pd.read_csv(\"../input/red-wine-quality-cortez-et-al-2009/winequality-red.csv\", sep=\";\")\n",
    "wine_data_copy = wine_data.copy()\n",
    "wine_data = wine_data.drop(['quality'], axis=1)\n",
    "print('Number of features after transformation=', wine_data.shape)\n",
    "\n",
    "# Let us fit a polynomial of degree 2 to wine_data\n",
    "poly = PolynomialFeatures(degree=2)\n",
    "poly_wine_data = poly.fit_transform(wine_data)\n",
    "print('Number of features after transformation = ', poly_wine_data.shape)"
   ]
  },
  {
   "cell_type": "markdown",
   "id": "33571c79",
   "metadata": {
    "papermill": {
     "duration": 0.231694,
     "end_time": "2022-05-18T11:48:50.240499",
     "exception": false,
     "start_time": "2022-05-18T11:48:50.008805",
     "status": "completed"
    },
    "tags": []
   },
   "source": [
    "Note that after transormation, we hae 78 features. Let's list out these features:"
   ]
  },
  {
   "cell_type": "code",
   "execution_count": 43,
   "id": "637e1723",
   "metadata": {
    "execution": {
     "iopub.execute_input": "2022-05-18T11:48:50.628444Z",
     "iopub.status.busy": "2022-05-18T11:48:50.628064Z",
     "iopub.status.idle": "2022-05-18T11:48:50.637595Z",
     "shell.execute_reply": "2022-05-18T11:48:50.636788Z"
    },
    "papermill": {
     "duration": 0.201333,
     "end_time": "2022-05-18T11:48:50.640312",
     "exception": false,
     "start_time": "2022-05-18T11:48:50.438979",
     "status": "completed"
    },
    "tags": []
   },
   "outputs": [
    {
     "data": {
      "text/plain": [
       "array(['1', 'fixed acidity', 'volatile acidity', 'citric acid',\n",
       "       'residual sugar', 'chlorides', 'free sulfur dioxide',\n",
       "       'total sulfur dioxide', 'density', 'pH', 'sulphates', 'alcohol',\n",
       "       'fixed acidity^2', 'fixed acidity volatile acidity',\n",
       "       'fixed acidity citric acid', 'fixed acidity residual sugar',\n",
       "       'fixed acidity chlorides', 'fixed acidity free sulfur dioxide',\n",
       "       'fixed acidity total sulfur dioxide', 'fixed acidity density',\n",
       "       'fixed acidity pH', 'fixed acidity sulphates',\n",
       "       'fixed acidity alcohol', 'volatile acidity^2',\n",
       "       'volatile acidity citric acid', 'volatile acidity residual sugar',\n",
       "       'volatile acidity chlorides',\n",
       "       'volatile acidity free sulfur dioxide',\n",
       "       'volatile acidity total sulfur dioxide',\n",
       "       'volatile acidity density', 'volatile acidity pH',\n",
       "       'volatile acidity sulphates', 'volatile acidity alcohol',\n",
       "       'citric acid^2', 'citric acid residual sugar',\n",
       "       'citric acid chlorides', 'citric acid free sulfur dioxide',\n",
       "       'citric acid total sulfur dioxide', 'citric acid density',\n",
       "       'citric acid pH', 'citric acid sulphates', 'citric acid alcohol',\n",
       "       'residual sugar^2', 'residual sugar chlorides',\n",
       "       'residual sugar free sulfur dioxide',\n",
       "       'residual sugar total sulfur dioxide', 'residual sugar density',\n",
       "       'residual sugar pH', 'residual sugar sulphates',\n",
       "       'residual sugar alcohol', 'chlorides^2',\n",
       "       'chlorides free sulfur dioxide', 'chlorides total sulfur dioxide',\n",
       "       'chlorides density', 'chlorides pH', 'chlorides sulphates',\n",
       "       'chlorides alcohol', 'free sulfur dioxide^2',\n",
       "       'free sulfur dioxide total sulfur dioxide',\n",
       "       'free sulfur dioxide density', 'free sulfur dioxide pH',\n",
       "       'free sulfur dioxide sulphates', 'free sulfur dioxide alcohol',\n",
       "       'total sulfur dioxide^2', 'total sulfur dioxide density',\n",
       "       'total sulfur dioxide pH', 'total sulfur dioxide sulphates',\n",
       "       'total sulfur dioxide alcohol', 'density^2', 'density pH',\n",
       "       'density sulphates', 'density alcohol', 'pH^2', 'pH sulphates',\n",
       "       'pH alcohol', 'sulphates^2', 'sulphates alcohol', 'alcohol^2'],\n",
       "      dtype=object)"
      ]
     },
     "execution_count": 43,
     "metadata": {},
     "output_type": "execute_result"
    }
   ],
   "source": [
    "poly.get_feature_names_out()"
   ]
  },
  {
   "cell_type": "code",
   "execution_count": null,
   "id": "11b5f9a0",
   "metadata": {
    "papermill": {
     "duration": 0.183729,
     "end_time": "2022-05-18T11:48:51.011157",
     "exception": false,
     "start_time": "2022-05-18T11:48:50.827428",
     "status": "completed"
    },
    "tags": []
   },
   "outputs": [],
   "source": []
  },
  {
   "cell_type": "markdown",
   "id": "7e76d174",
   "metadata": {
    "papermill": {
     "duration": 0.181809,
     "end_time": "2022-05-18T11:48:51.377162",
     "exception": false,
     "start_time": "2022-05-18T11:48:51.195353",
     "status": "completed"
    },
    "tags": []
   },
   "source": [
    "# 7. Discretization"
   ]
  },
  {
   "cell_type": "code",
   "execution_count": 44,
   "id": "57050faa",
   "metadata": {
    "execution": {
     "iopub.execute_input": "2022-05-18T11:48:51.742569Z",
     "iopub.status.busy": "2022-05-18T11:48:51.742080Z",
     "iopub.status.idle": "2022-05-18T11:48:51.746648Z",
     "shell.execute_reply": "2022-05-18T11:48:51.745809Z"
    },
    "papermill": {
     "duration": 0.188752,
     "end_time": "2022-05-18T11:48:51.748431",
     "exception": false,
     "start_time": "2022-05-18T11:48:51.559679",
     "status": "completed"
    },
    "tags": []
   },
   "outputs": [],
   "source": [
    "# KBinDiscretizer discretizes features into k bins\n",
    "from sklearn.preprocessing import KBinsDiscretizer"
   ]
  },
  {
   "cell_type": "markdown",
   "id": "786fbd7e",
   "metadata": {
    "papermill": {
     "duration": 0.182805,
     "end_time": "2022-05-18T11:48:52.112954",
     "exception": false,
     "start_time": "2022-05-18T11:48:51.930149",
     "status": "completed"
    },
    "tags": []
   },
   "source": [
    "Let us demonstrate KBinsDiscretizer using Wine quality dataset"
   ]
  },
  {
   "cell_type": "code",
   "execution_count": 45,
   "id": "17506a57",
   "metadata": {
    "execution": {
     "iopub.execute_input": "2022-05-18T11:48:52.478992Z",
     "iopub.status.busy": "2022-05-18T11:48:52.478323Z",
     "iopub.status.idle": "2022-05-18T11:48:52.485740Z",
     "shell.execute_reply": "2022-05-18T11:48:52.485121Z"
    },
    "papermill": {
     "duration": 0.192487,
     "end_time": "2022-05-18T11:48:52.487892",
     "exception": false,
     "start_time": "2022-05-18T11:48:52.295405",
     "status": "completed"
    },
    "tags": []
   },
   "outputs": [],
   "source": [
    "wine_data = wine_data_copy.copy()\n",
    "\n",
    "# transform the dataset with KBinsDiscretizeer\n",
    "enc = KBinsDiscretizer(n_bins=10, encode=\"onehot\")\n",
    "x = np.array(wine_data['chlorides']).reshape(-1, 1)\n",
    "x_binned = enc.fit_transform(x)"
   ]
  },
  {
   "cell_type": "code",
   "execution_count": 46,
   "id": "6706034a",
   "metadata": {
    "execution": {
     "iopub.execute_input": "2022-05-18T11:48:52.855205Z",
     "iopub.status.busy": "2022-05-18T11:48:52.854660Z",
     "iopub.status.idle": "2022-05-18T11:48:52.861118Z",
     "shell.execute_reply": "2022-05-18T11:48:52.859928Z"
    },
    "papermill": {
     "duration": 0.192516,
     "end_time": "2022-05-18T11:48:52.863255",
     "exception": false,
     "start_time": "2022-05-18T11:48:52.670739",
     "status": "completed"
    },
    "tags": []
   },
   "outputs": [
    {
     "data": {
      "text/plain": [
       "<1599x10 sparse matrix of type '<class 'numpy.float64'>'\n",
       "\twith 1599 stored elements in Compressed Sparse Row format>"
      ]
     },
     "execution_count": 46,
     "metadata": {},
     "output_type": "execute_result"
    }
   ],
   "source": [
    "x_binned"
   ]
  },
  {
   "cell_type": "code",
   "execution_count": 47,
   "id": "a47ef54b",
   "metadata": {
    "execution": {
     "iopub.execute_input": "2022-05-18T11:48:53.237803Z",
     "iopub.status.busy": "2022-05-18T11:48:53.237513Z",
     "iopub.status.idle": "2022-05-18T11:48:53.243605Z",
     "shell.execute_reply": "2022-05-18T11:48:53.243069Z"
    },
    "papermill": {
     "duration": 0.192794,
     "end_time": "2022-05-18T11:48:53.245580",
     "exception": false,
     "start_time": "2022-05-18T11:48:53.052786",
     "status": "completed"
    },
    "tags": []
   },
   "outputs": [
    {
     "data": {
      "text/plain": [
       "array([[0., 0., 0., 0., 1., 0., 0., 0., 0., 0.],\n",
       "       [0., 0., 0., 0., 0., 0., 0., 0., 1., 0.],\n",
       "       [0., 0., 0., 0., 0., 0., 0., 1., 0., 0.],\n",
       "       [0., 0., 0., 1., 0., 0., 0., 0., 0., 0.],\n",
       "       [0., 0., 0., 0., 1., 0., 0., 0., 0., 0.]])"
      ]
     },
     "execution_count": 47,
     "metadata": {},
     "output_type": "execute_result"
    }
   ],
   "source": [
    "# Since output is sparse, use to_array() to expand it.\n",
    "x_binned.toarray()[:5]"
   ]
  },
  {
   "cell_type": "markdown",
   "id": "59642c59",
   "metadata": {
    "papermill": {
     "duration": 0.18536,
     "end_time": "2022-05-18T11:48:53.614718",
     "exception": false,
     "start_time": "2022-05-18T11:48:53.429358",
     "status": "completed"
    },
    "tags": []
   },
   "source": [
    "# 8. Handling Categorical Features"
   ]
  },
  {
   "cell_type": "markdown",
   "id": "0ec44d81",
   "metadata": {
    "papermill": {
     "duration": 0.185546,
     "end_time": "2022-05-18T11:48:53.987607",
     "exception": false,
     "start_time": "2022-05-18T11:48:53.802061",
     "status": "completed"
    },
    "tags": []
   },
   "source": [
    "We need to convert the categorical fetures into numeric features\n",
    "\n",
    "1. Ordinal encoding\n",
    "2. One-hot encoding\n",
    "3. Label encoder\n",
    "4. Using dummy variables"
   ]
  },
  {
   "cell_type": "code",
   "execution_count": 48,
   "id": "45b009fd",
   "metadata": {
    "execution": {
     "iopub.execute_input": "2022-05-18T11:48:54.360928Z",
     "iopub.status.busy": "2022-05-18T11:48:54.360255Z",
     "iopub.status.idle": "2022-05-18T11:48:54.364143Z",
     "shell.execute_reply": "2022-05-18T11:48:54.363411Z"
    },
    "papermill": {
     "duration": 0.192576,
     "end_time": "2022-05-18T11:48:54.366109",
     "exception": false,
     "start_time": "2022-05-18T11:48:54.173533",
     "status": "completed"
    },
    "tags": []
   },
   "outputs": [],
   "source": [
    "from sklearn.preprocessing import OrdinalEncoder\n",
    "from sklearn.preprocessing import OneHotEncoder"
   ]
  },
  {
   "cell_type": "code",
   "execution_count": 49,
   "id": "4bb5d59a",
   "metadata": {
    "execution": {
     "iopub.execute_input": "2022-05-18T11:48:54.738476Z",
     "iopub.status.busy": "2022-05-18T11:48:54.738179Z",
     "iopub.status.idle": "2022-05-18T11:48:55.027618Z",
     "shell.execute_reply": "2022-05-18T11:48:55.026881Z"
    },
    "papermill": {
     "duration": 0.478664,
     "end_time": "2022-05-18T11:48:55.029824",
     "exception": false,
     "start_time": "2022-05-18T11:48:54.551160",
     "status": "completed"
    },
    "tags": []
   },
   "outputs": [
    {
     "data": {
      "text/html": [
       "<div>\n",
       "<style scoped>\n",
       "    .dataframe tbody tr th:only-of-type {\n",
       "        vertical-align: middle;\n",
       "    }\n",
       "\n",
       "    .dataframe tbody tr th {\n",
       "        vertical-align: top;\n",
       "    }\n",
       "\n",
       "    .dataframe thead th {\n",
       "        text-align: right;\n",
       "    }\n",
       "</style>\n",
       "<table border=\"1\" class=\"dataframe\">\n",
       "  <thead>\n",
       "    <tr style=\"text-align: right;\">\n",
       "      <th></th>\n",
       "      <th>sepal length</th>\n",
       "      <th>sepal width</th>\n",
       "      <th>petal length</th>\n",
       "      <th>petal width</th>\n",
       "      <th>label</th>\n",
       "    </tr>\n",
       "  </thead>\n",
       "  <tbody>\n",
       "    <tr>\n",
       "      <th>0</th>\n",
       "      <td>5.1</td>\n",
       "      <td>3.5</td>\n",
       "      <td>1.4</td>\n",
       "      <td>0.2</td>\n",
       "      <td>Iris-setosa</td>\n",
       "    </tr>\n",
       "    <tr>\n",
       "      <th>1</th>\n",
       "      <td>4.9</td>\n",
       "      <td>3.0</td>\n",
       "      <td>1.4</td>\n",
       "      <td>0.2</td>\n",
       "      <td>Iris-setosa</td>\n",
       "    </tr>\n",
       "    <tr>\n",
       "      <th>2</th>\n",
       "      <td>4.7</td>\n",
       "      <td>3.2</td>\n",
       "      <td>1.3</td>\n",
       "      <td>0.2</td>\n",
       "      <td>Iris-setosa</td>\n",
       "    </tr>\n",
       "    <tr>\n",
       "      <th>3</th>\n",
       "      <td>4.6</td>\n",
       "      <td>3.1</td>\n",
       "      <td>1.5</td>\n",
       "      <td>0.2</td>\n",
       "      <td>Iris-setosa</td>\n",
       "    </tr>\n",
       "    <tr>\n",
       "      <th>4</th>\n",
       "      <td>5.0</td>\n",
       "      <td>3.6</td>\n",
       "      <td>1.4</td>\n",
       "      <td>0.2</td>\n",
       "      <td>Iris-setosa</td>\n",
       "    </tr>\n",
       "  </tbody>\n",
       "</table>\n",
       "</div>"
      ],
      "text/plain": [
       "   sepal length  sepal width  petal length  petal width        label\n",
       "0           5.1          3.5           1.4          0.2  Iris-setosa\n",
       "1           4.9          3.0           1.4          0.2  Iris-setosa\n",
       "2           4.7          3.2           1.3          0.2  Iris-setosa\n",
       "3           4.6          3.1           1.5          0.2  Iris-setosa\n",
       "4           5.0          3.6           1.4          0.2  Iris-setosa"
      ]
     },
     "execution_count": 49,
     "metadata": {},
     "output_type": "execute_result"
    }
   ],
   "source": [
    "cols = ['sepal length', 'sepal width','petal length',  'petal width', 'label']\n",
    "iris_data = pd.read_csv('https://archive.ics.uci.edu/ml/machine-learning-databases/iris/iris.data', header=None, names=cols)\n",
    "iris_data.head()"
   ]
  },
  {
   "cell_type": "markdown",
   "id": "358fcf48",
   "metadata": {
    "papermill": {
     "duration": 0.188505,
     "end_time": "2022-05-18T11:48:55.406570",
     "exception": false,
     "start_time": "2022-05-18T11:48:55.218065",
     "status": "completed"
    },
    "tags": []
   },
   "source": [
    "The label is categorical attribute"
   ]
  },
  {
   "cell_type": "code",
   "execution_count": 50,
   "id": "cf4d63a3",
   "metadata": {
    "execution": {
     "iopub.execute_input": "2022-05-18T11:48:55.775019Z",
     "iopub.status.busy": "2022-05-18T11:48:55.774113Z",
     "iopub.status.idle": "2022-05-18T11:48:55.780453Z",
     "shell.execute_reply": "2022-05-18T11:48:55.779584Z"
    },
    "papermill": {
     "duration": 0.193187,
     "end_time": "2022-05-18T11:48:55.782872",
     "exception": false,
     "start_time": "2022-05-18T11:48:55.589685",
     "status": "completed"
    },
    "tags": []
   },
   "outputs": [
    {
     "data": {
      "text/plain": [
       "array(['Iris-setosa', 'Iris-versicolor', 'Iris-virginica'], dtype=object)"
      ]
     },
     "execution_count": 50,
     "metadata": {},
     "output_type": "execute_result"
    }
   ],
   "source": [
    "iris_data.label.unique()"
   ]
  },
  {
   "cell_type": "markdown",
   "id": "7ee293dd",
   "metadata": {
    "papermill": {
     "duration": 0.185376,
     "end_time": "2022-05-18T11:48:56.152748",
     "exception": false,
     "start_time": "2022-05-18T11:48:55.967372",
     "status": "completed"
    },
    "tags": []
   },
   "source": [
    "There are three class labels. Let's convert them to one hot vectors."
   ]
  },
  {
   "cell_type": "markdown",
   "id": "64bcf086",
   "metadata": {
    "papermill": {
     "duration": 0.185264,
     "end_time": "2022-05-18T11:48:56.522048",
     "exception": false,
     "start_time": "2022-05-18T11:48:56.336784",
     "status": "completed"
    },
    "tags": []
   },
   "source": [
    "### onehotencoder"
   ]
  },
  {
   "cell_type": "code",
   "execution_count": 51,
   "id": "2a5d5ab0",
   "metadata": {
    "execution": {
     "iopub.execute_input": "2022-05-18T11:48:56.893848Z",
     "iopub.status.busy": "2022-05-18T11:48:56.892984Z",
     "iopub.status.idle": "2022-05-18T11:48:56.903562Z",
     "shell.execute_reply": "2022-05-18T11:48:56.902479Z"
    },
    "papermill": {
     "duration": 0.199637,
     "end_time": "2022-05-18T11:48:56.905782",
     "exception": false,
     "start_time": "2022-05-18T11:48:56.706145",
     "status": "completed"
    },
    "tags": []
   },
   "outputs": [
    {
     "name": "stdout",
     "output_type": "stream",
     "text": [
      "Shape of y before encoding (150,)\n",
      "Shape of y after encoding (150, 3)\n",
      "First 5 labes:\n",
      "[[1. 0. 0.]\n",
      " [1. 0. 0.]\n",
      " [1. 0. 0.]\n",
      " [1. 0. 0.]\n",
      " [1. 0. 0.]]\n"
     ]
    }
   ],
   "source": [
    "onehotencoder = OneHotEncoder(categories='auto')\n",
    "print('Shape of y before encoding', iris_data.label.shape)\n",
    "\n",
    "'''\n",
    "Passing 1d arrays as data to onehotencoder is deprecated in verssion,\n",
    "hence reshape to (-1, 1) to have two dimensions.\n",
    "Input of onehotencoder fit_transform must not be 1-rank array\n",
    "'''\n",
    "\n",
    "iris_labels = onehotencoder.fit_transform(iris_data.label.values.reshape(-1, 1))\n",
    "\n",
    "# y.reshape(-1, 1) is a 450*1 sparse matrix of type '<class 'numpy.float64'>'\n",
    "# with 150 stored elements in Coordinate format.'\n",
    "# y is a150x3 sparse matrix of type '<class 'numpy.float64'> with 150 stored\n",
    "# elements in compressed sparse row format.\n",
    "print('Shape of y after encoding', iris_labels .shape)\n",
    "\n",
    "# since output is sparse use to _array() to expand it.\n",
    "\n",
    "print(\"First 5 labes:\")\n",
    "print(iris_labels.toarray()[:5])"
   ]
  },
  {
   "cell_type": "markdown",
   "id": "28df4d67",
   "metadata": {
    "papermill": {
     "duration": 0.183882,
     "end_time": "2022-05-18T11:48:57.275953",
     "exception": false,
     "start_time": "2022-05-18T11:48:57.092071",
     "status": "completed"
    },
    "tags": []
   },
   "source": [
    "Let us observe the diff. b/w one hot encoding and ordinal encoding."
   ]
  },
  {
   "cell_type": "markdown",
   "id": "65dc5239",
   "metadata": {
    "papermill": {
     "duration": 0.184624,
     "end_time": "2022-05-18T11:48:57.645827",
     "exception": false,
     "start_time": "2022-05-18T11:48:57.461203",
     "status": "completed"
    },
    "tags": []
   },
   "source": [
    "### ordinal Encoder"
   ]
  },
  {
   "cell_type": "code",
   "execution_count": 52,
   "id": "4d721571",
   "metadata": {
    "execution": {
     "iopub.execute_input": "2022-05-18T11:48:58.021818Z",
     "iopub.status.busy": "2022-05-18T11:48:58.020946Z",
     "iopub.status.idle": "2022-05-18T11:48:58.029628Z",
     "shell.execute_reply": "2022-05-18T11:48:58.028744Z"
    },
    "papermill": {
     "duration": 0.198521,
     "end_time": "2022-05-18T11:48:58.031693",
     "exception": false,
     "start_time": "2022-05-18T11:48:57.833172",
     "status": "completed"
    },
    "tags": []
   },
   "outputs": [
    {
     "name": "stdout",
     "output_type": "stream",
     "text": [
      "Unique labels: [0. 1. 2.]\n",
      "\n",
      "First 5 labels:\n",
      "[[0.]\n",
      " [0.]\n",
      " [0.]\n",
      " [0.]\n",
      " [0.]]\n"
     ]
    }
   ],
   "source": [
    "enc = OrdinalEncoder()\n",
    "iris_labels = np.array(iris_data['label'])\n",
    "\n",
    "iris_labels_transformed = enc.fit_transform(iris_labels.reshape(-1, 1))\n",
    "print(\"Unique labels:\", np.unique(iris_labels_transformed))\n",
    "\n",
    "print(\"\\nFirst 5 labels:\")\n",
    "print(iris_labels_transformed[:5])"
   ]
  },
  {
   "cell_type": "markdown",
   "id": "0b39984b",
   "metadata": {
    "papermill": {
     "duration": 0.18823,
     "end_time": "2022-05-18T11:48:58.404714",
     "exception": false,
     "start_time": "2022-05-18T11:48:58.216484",
     "status": "completed"
    },
    "tags": []
   },
   "source": [
    "### LabelEncoder"
   ]
  },
  {
   "cell_type": "code",
   "execution_count": 53,
   "id": "de368994",
   "metadata": {
    "execution": {
     "iopub.execute_input": "2022-05-18T11:48:58.779355Z",
     "iopub.status.busy": "2022-05-18T11:48:58.779080Z",
     "iopub.status.idle": "2022-05-18T11:48:58.782756Z",
     "shell.execute_reply": "2022-05-18T11:48:58.781923Z"
    },
    "papermill": {
     "duration": 0.194376,
     "end_time": "2022-05-18T11:48:58.784987",
     "exception": false,
     "start_time": "2022-05-18T11:48:58.590611",
     "status": "completed"
    },
    "tags": []
   },
   "outputs": [],
   "source": [
    "from sklearn.preprocessing import LabelEncoder"
   ]
  },
  {
   "cell_type": "code",
   "execution_count": 54,
   "id": "2de5afae",
   "metadata": {
    "execution": {
     "iopub.execute_input": "2022-05-18T11:48:59.165158Z",
     "iopub.status.busy": "2022-05-18T11:48:59.164484Z",
     "iopub.status.idle": "2022-05-18T11:48:59.171575Z",
     "shell.execute_reply": "2022-05-18T11:48:59.170958Z"
    },
    "papermill": {
     "duration": 0.198907,
     "end_time": "2022-05-18T11:48:59.173617",
     "exception": false,
     "start_time": "2022-05-18T11:48:58.974710",
     "status": "completed"
    },
    "tags": []
   },
   "outputs": [
    {
     "data": {
      "text/plain": [
       "array([0, 0, 0, 0, 0, 0, 0, 0, 0, 0, 0, 0, 0, 0, 0, 0, 0, 0, 0, 0, 0, 0,\n",
       "       0, 0, 0, 0, 0, 0, 0, 0, 0, 0, 0, 0, 0, 0, 0, 0, 0, 0, 0, 0, 0, 0,\n",
       "       0, 0, 0, 0, 0, 0, 1, 1, 1, 1, 1, 1, 1, 1, 1, 1, 1, 1, 1, 1, 1, 1,\n",
       "       1, 1, 1, 1, 1, 1, 1, 1, 1, 1, 1, 1, 1, 1, 1, 1, 1, 1, 1, 1, 1, 1,\n",
       "       1, 1, 1, 1, 1, 1, 1, 1, 1, 1, 1, 1, 2, 2, 2, 2, 2, 2, 2, 2, 2, 2,\n",
       "       2, 2, 2, 2, 2, 2, 2, 2, 2, 2, 2, 2, 2, 2, 2, 2, 2, 2, 2, 2, 2, 2,\n",
       "       2, 2, 2, 2, 2, 2, 2, 2, 2, 2, 2, 2, 2, 2, 2, 2, 2, 2])"
      ]
     },
     "execution_count": 54,
     "metadata": {},
     "output_type": "execute_result"
    }
   ],
   "source": [
    "# get the class column in a new variable\n",
    "iris_labels = np.array(iris_data['label'])\n",
    "\n",
    "# encode the class names to integers\n",
    "le = LabelEncoder()\n",
    "label_integer = le.fit_transform(iris_labels)\n",
    "label_integer"
   ]
  },
  {
   "cell_type": "markdown",
   "id": "38f49fac",
   "metadata": {
    "papermill": {
     "duration": 0.18495,
     "end_time": "2022-05-18T11:48:59.544460",
     "exception": false,
     "start_time": "2022-05-18T11:48:59.359510",
     "status": "completed"
    },
    "tags": []
   },
   "source": [
    "### MultilabelBinarizer"
   ]
  },
  {
   "cell_type": "markdown",
   "id": "da6c17b1",
   "metadata": {
    "papermill": {
     "duration": 0.18818,
     "end_time": "2022-05-18T11:48:59.941583",
     "exception": false,
     "start_time": "2022-05-18T11:48:59.753403",
     "status": "completed"
    },
    "tags": []
   },
   "source": [
    "Encodes categorical features with value between 0 and k-1, where k is number of classes."
   ]
  },
  {
   "cell_type": "code",
   "execution_count": 55,
   "id": "28997f82",
   "metadata": {
    "execution": {
     "iopub.execute_input": "2022-05-18T11:49:00.317778Z",
     "iopub.status.busy": "2022-05-18T11:49:00.317505Z",
     "iopub.status.idle": "2022-05-18T11:49:00.321719Z",
     "shell.execute_reply": "2022-05-18T11:49:00.320894Z"
    },
    "papermill": {
     "duration": 0.192455,
     "end_time": "2022-05-18T11:49:00.323712",
     "exception": false,
     "start_time": "2022-05-18T11:49:00.131257",
     "status": "completed"
    },
    "tags": []
   },
   "outputs": [],
   "source": [
    "movie_genres = [{'action', 'comedy'},\n",
    "                {'comedy'}, \n",
    "                {'action', 'thriller'},\n",
    "                {'science-fiction', 'action', 'thriller'}]"
   ]
  },
  {
   "cell_type": "code",
   "execution_count": 56,
   "id": "59b8e538",
   "metadata": {
    "execution": {
     "iopub.execute_input": "2022-05-18T11:49:00.700716Z",
     "iopub.status.busy": "2022-05-18T11:49:00.700149Z",
     "iopub.status.idle": "2022-05-18T11:49:00.707213Z",
     "shell.execute_reply": "2022-05-18T11:49:00.706372Z"
    },
    "papermill": {
     "duration": 0.198971,
     "end_time": "2022-05-18T11:49:00.709135",
     "exception": false,
     "start_time": "2022-05-18T11:49:00.510164",
     "status": "completed"
    },
    "tags": []
   },
   "outputs": [
    {
     "data": {
      "text/plain": [
       "array([[1, 1, 0, 0],\n",
       "       [0, 1, 0, 0],\n",
       "       [1, 0, 0, 1],\n",
       "       [1, 0, 1, 1]])"
      ]
     },
     "execution_count": 56,
     "metadata": {},
     "output_type": "execute_result"
    }
   ],
   "source": [
    "from sklearn.preprocessing import MultiLabelBinarizer\n",
    "mlb = MultiLabelBinarizer()\n",
    "mlb.fit_transform(movie_genres)"
   ]
  },
  {
   "cell_type": "markdown",
   "id": "9a415659",
   "metadata": {
    "papermill": {
     "duration": 0.252125,
     "end_time": "2022-05-18T11:49:01.149231",
     "exception": false,
     "start_time": "2022-05-18T11:49:00.897106",
     "status": "completed"
    },
    "tags": []
   },
   "source": [
    "### Using dummy variables"
   ]
  },
  {
   "cell_type": "code",
   "execution_count": 57,
   "id": "45285dbb",
   "metadata": {
    "execution": {
     "iopub.execute_input": "2022-05-18T11:49:01.524998Z",
     "iopub.status.busy": "2022-05-18T11:49:01.524448Z",
     "iopub.status.idle": "2022-05-18T11:49:01.545752Z",
     "shell.execute_reply": "2022-05-18T11:49:01.544936Z"
    },
    "papermill": {
     "duration": 0.211809,
     "end_time": "2022-05-18T11:49:01.547922",
     "exception": false,
     "start_time": "2022-05-18T11:49:01.336113",
     "status": "completed"
    },
    "tags": []
   },
   "outputs": [
    {
     "data": {
      "text/html": [
       "<div>\n",
       "<style scoped>\n",
       "    .dataframe tbody tr th:only-of-type {\n",
       "        vertical-align: middle;\n",
       "    }\n",
       "\n",
       "    .dataframe tbody tr th {\n",
       "        vertical-align: top;\n",
       "    }\n",
       "\n",
       "    .dataframe thead th {\n",
       "        text-align: right;\n",
       "    }\n",
       "</style>\n",
       "<table border=\"1\" class=\"dataframe\">\n",
       "  <thead>\n",
       "    <tr style=\"text-align: right;\">\n",
       "      <th></th>\n",
       "      <th>sepal length</th>\n",
       "      <th>sepal width</th>\n",
       "      <th>petal length</th>\n",
       "      <th>petal width</th>\n",
       "      <th>one_hot_Iris-setosa</th>\n",
       "      <th>one_hot_Iris-versicolor</th>\n",
       "      <th>one_hot_Iris-virginica</th>\n",
       "    </tr>\n",
       "  </thead>\n",
       "  <tbody>\n",
       "    <tr>\n",
       "      <th>0</th>\n",
       "      <td>5.1</td>\n",
       "      <td>3.5</td>\n",
       "      <td>1.4</td>\n",
       "      <td>0.2</td>\n",
       "      <td>1</td>\n",
       "      <td>0</td>\n",
       "      <td>0</td>\n",
       "    </tr>\n",
       "    <tr>\n",
       "      <th>1</th>\n",
       "      <td>4.9</td>\n",
       "      <td>3.0</td>\n",
       "      <td>1.4</td>\n",
       "      <td>0.2</td>\n",
       "      <td>1</td>\n",
       "      <td>0</td>\n",
       "      <td>0</td>\n",
       "    </tr>\n",
       "    <tr>\n",
       "      <th>2</th>\n",
       "      <td>4.7</td>\n",
       "      <td>3.2</td>\n",
       "      <td>1.3</td>\n",
       "      <td>0.2</td>\n",
       "      <td>1</td>\n",
       "      <td>0</td>\n",
       "      <td>0</td>\n",
       "    </tr>\n",
       "    <tr>\n",
       "      <th>3</th>\n",
       "      <td>4.6</td>\n",
       "      <td>3.1</td>\n",
       "      <td>1.5</td>\n",
       "      <td>0.2</td>\n",
       "      <td>1</td>\n",
       "      <td>0</td>\n",
       "      <td>0</td>\n",
       "    </tr>\n",
       "    <tr>\n",
       "      <th>4</th>\n",
       "      <td>5.0</td>\n",
       "      <td>3.6</td>\n",
       "      <td>1.4</td>\n",
       "      <td>0.2</td>\n",
       "      <td>1</td>\n",
       "      <td>0</td>\n",
       "      <td>0</td>\n",
       "    </tr>\n",
       "    <tr>\n",
       "      <th>...</th>\n",
       "      <td>...</td>\n",
       "      <td>...</td>\n",
       "      <td>...</td>\n",
       "      <td>...</td>\n",
       "      <td>...</td>\n",
       "      <td>...</td>\n",
       "      <td>...</td>\n",
       "    </tr>\n",
       "    <tr>\n",
       "      <th>145</th>\n",
       "      <td>6.7</td>\n",
       "      <td>3.0</td>\n",
       "      <td>5.2</td>\n",
       "      <td>2.3</td>\n",
       "      <td>0</td>\n",
       "      <td>0</td>\n",
       "      <td>1</td>\n",
       "    </tr>\n",
       "    <tr>\n",
       "      <th>146</th>\n",
       "      <td>6.3</td>\n",
       "      <td>2.5</td>\n",
       "      <td>5.0</td>\n",
       "      <td>1.9</td>\n",
       "      <td>0</td>\n",
       "      <td>0</td>\n",
       "      <td>1</td>\n",
       "    </tr>\n",
       "    <tr>\n",
       "      <th>147</th>\n",
       "      <td>6.5</td>\n",
       "      <td>3.0</td>\n",
       "      <td>5.2</td>\n",
       "      <td>2.0</td>\n",
       "      <td>0</td>\n",
       "      <td>0</td>\n",
       "      <td>1</td>\n",
       "    </tr>\n",
       "    <tr>\n",
       "      <th>148</th>\n",
       "      <td>6.2</td>\n",
       "      <td>3.4</td>\n",
       "      <td>5.4</td>\n",
       "      <td>2.3</td>\n",
       "      <td>0</td>\n",
       "      <td>0</td>\n",
       "      <td>1</td>\n",
       "    </tr>\n",
       "    <tr>\n",
       "      <th>149</th>\n",
       "      <td>5.9</td>\n",
       "      <td>3.0</td>\n",
       "      <td>5.1</td>\n",
       "      <td>1.8</td>\n",
       "      <td>0</td>\n",
       "      <td>0</td>\n",
       "      <td>1</td>\n",
       "    </tr>\n",
       "  </tbody>\n",
       "</table>\n",
       "<p>150 rows × 7 columns</p>\n",
       "</div>"
      ],
      "text/plain": [
       "     sepal length  sepal width  petal length  petal width  \\\n",
       "0             5.1          3.5           1.4          0.2   \n",
       "1             4.9          3.0           1.4          0.2   \n",
       "2             4.7          3.2           1.3          0.2   \n",
       "3             4.6          3.1           1.5          0.2   \n",
       "4             5.0          3.6           1.4          0.2   \n",
       "..            ...          ...           ...          ...   \n",
       "145           6.7          3.0           5.2          2.3   \n",
       "146           6.3          2.5           5.0          1.9   \n",
       "147           6.5          3.0           5.2          2.0   \n",
       "148           6.2          3.4           5.4          2.3   \n",
       "149           5.9          3.0           5.1          1.8   \n",
       "\n",
       "     one_hot_Iris-setosa  one_hot_Iris-versicolor  one_hot_Iris-virginica  \n",
       "0                      1                        0                       0  \n",
       "1                      1                        0                       0  \n",
       "2                      1                        0                       0  \n",
       "3                      1                        0                       0  \n",
       "4                      1                        0                       0  \n",
       "..                   ...                      ...                     ...  \n",
       "145                    0                        0                       1  \n",
       "146                    0                        0                       1  \n",
       "147                    0                        0                       1  \n",
       "148                    0                        0                       1  \n",
       "149                    0                        0                       1  \n",
       "\n",
       "[150 rows x 7 columns]"
      ]
     },
     "execution_count": 57,
     "metadata": {},
     "output_type": "execute_result"
    }
   ],
   "source": [
    "# use get_dummies to create a one-hot encoding for each unique categorical\n",
    "# values in the 'class' column\n",
    "\n",
    "# convert categorical class variable to one-hot encoding:\n",
    "iris_data_onehot = pd.get_dummies(iris_data, columns=['label'], prefix=['one_hot'])\n",
    "iris_data_onehot"
   ]
  },
  {
   "cell_type": "markdown",
   "id": "90025f66",
   "metadata": {
    "papermill": {
     "duration": 0.186854,
     "end_time": "2022-05-18T11:49:01.921854",
     "exception": false,
     "start_time": "2022-05-18T11:49:01.735000",
     "status": "completed"
    },
    "tags": []
   },
   "source": [
    "# 9. Composite Transformers"
   ]
  },
  {
   "cell_type": "code",
   "execution_count": 58,
   "id": "b10eda08",
   "metadata": {
    "execution": {
     "iopub.execute_input": "2022-05-18T11:49:02.305238Z",
     "iopub.status.busy": "2022-05-18T11:49:02.304775Z",
     "iopub.status.idle": "2022-05-18T11:49:02.310383Z",
     "shell.execute_reply": "2022-05-18T11:49:02.309539Z"
    },
    "papermill": {
     "duration": 0.201389,
     "end_time": "2022-05-18T11:49:02.312635",
     "exception": false,
     "start_time": "2022-05-18T11:49:02.111246",
     "status": "completed"
    },
    "tags": []
   },
   "outputs": [],
   "source": [
    "x = [\n",
    "    [20.0, 'male',],\n",
    "    [11.2, 'female',],\n",
    "    [15.6, 'female',],\n",
    "    [13.0, 'male',],\n",
    "    [18.6, 'male',],\n",
    "    [16.4, 'female',]\n",
    "]\n",
    "x = np.array(x)"
   ]
  },
  {
   "cell_type": "code",
   "execution_count": 59,
   "id": "072b27c3",
   "metadata": {
    "execution": {
     "iopub.execute_input": "2022-05-18T11:49:02.691318Z",
     "iopub.status.busy": "2022-05-18T11:49:02.690877Z",
     "iopub.status.idle": "2022-05-18T11:49:02.708746Z",
     "shell.execute_reply": "2022-05-18T11:49:02.707925Z"
    },
    "papermill": {
     "duration": 0.209404,
     "end_time": "2022-05-18T11:49:02.710813",
     "exception": false,
     "start_time": "2022-05-18T11:49:02.501409",
     "status": "completed"
    },
    "tags": []
   },
   "outputs": [
    {
     "data": {
      "text/plain": [
       "array([['1.0', '20.0', '0.0', '1.0'],\n",
       "       ['0.5599999999999999', '11.2', '1.0', '0.0'],\n",
       "       ['0.78', '15.6', '1.0', '0.0'],\n",
       "       ['0.65', '13.0', '0.0', '1.0'],\n",
       "       ['0.93', '18.6', '0.0', '1.0'],\n",
       "       ['0.82', '16.4', '1.0', '0.0']], dtype='<U32')"
      ]
     },
     "execution_count": 59,
     "metadata": {},
     "output_type": "execute_result"
    }
   ],
   "source": [
    "from sklearn.compose import ColumnTransformer\n",
    "from sklearn.preprocessing import MaxAbsScaler, OneHotEncoder\n",
    "\n",
    "ct = ColumnTransformer([('scaler', MaxAbsScaler(), [0]),\n",
    "                        ('pass', 'passthrough', [0]),\n",
    "                        ('encoder', OneHotEncoder(), [1])\n",
    "                       ])\n",
    "ct.fit_transform(x)"
   ]
  },
  {
   "cell_type": "markdown",
   "id": "40351b4f",
   "metadata": {
    "papermill": {
     "duration": 0.187291,
     "end_time": "2022-05-18T11:49:03.091514",
     "exception": false,
     "start_time": "2022-05-18T11:49:02.904223",
     "status": "completed"
    },
    "tags": []
   },
   "source": [
    "# TransformedTargetRegressor"
   ]
  },
  {
   "cell_type": "markdown",
   "id": "2d1f0298",
   "metadata": {
    "papermill": {
     "duration": 0.188554,
     "end_time": "2022-05-18T11:49:03.473943",
     "exception": false,
     "start_time": "2022-05-18T11:49:03.285389",
     "status": "completed"
    },
    "tags": []
   },
   "source": [
    "Transforms the target variable y before fitting a regression model.\n",
    "- The predicted values are mapped back to the original space via an inverse transform.\n",
    "- It takes regressor and transformer to be applied to the target variable as arguments"
   ]
  },
  {
   "cell_type": "code",
   "execution_count": 60,
   "id": "242fc98d",
   "metadata": {
    "execution": {
     "iopub.execute_input": "2022-05-18T11:49:03.856693Z",
     "iopub.status.busy": "2022-05-18T11:49:03.856401Z",
     "iopub.status.idle": "2022-05-18T11:49:05.629226Z",
     "shell.execute_reply": "2022-05-18T11:49:05.627811Z"
    },
    "papermill": {
     "duration": 1.966702,
     "end_time": "2022-05-18T11:49:05.632697",
     "exception": false,
     "start_time": "2022-05-18T11:49:03.665995",
     "status": "completed"
    },
    "tags": []
   },
   "outputs": [
    {
     "name": "stdout",
     "output_type": "stream",
     "text": [
      "R2 score of raw label regression: 0.59\n",
      "R2 score of transformed label regression: 0.59\n"
     ]
    }
   ],
   "source": [
    "from sklearn.compose import TransformedTargetRegressor\n",
    "from sklearn.preprocessing import MaxAbsScaler\n",
    "from sklearn.linear_model import LinearRegression\n",
    "from sklearn.model_selection import train_test_split\n",
    "from sklearn.datasets import fetch_california_housing\n",
    "\n",
    "X, y = fetch_california_housing(return_X_y=True)\n",
    "X, y = X[:2000, :], y[:2000] # select a subset fo data\n",
    "\n",
    "transformer = MaxAbsScaler()\n",
    "\n",
    "# Two regressor - one based on the original label.\n",
    "regressor = LinearRegression()\n",
    "\n",
    "# Second regressor with transformed labels.\n",
    "regr = TransformedTargetRegressor(regressor=regressor, transformer=transformer)\n",
    "\n",
    "X_train, X_test, y_train, y_test = train_test_split(X, y, random_state=0)\n",
    "regr.fit(X_train, y_train)\n",
    "print('R2 score of raw label regression: {0:.2f}'.format(\n",
    "        regr.score(X_test, y_test)))\n",
    "\n",
    "raw_target_regr = LinearRegression().fit(X_train, y_train)\n",
    "print('R2 score of transformed label regression: {0:.2f}'.format(\n",
    "        raw_target_regr.score(X_test, y_test)))"
   ]
  },
  {
   "cell_type": "markdown",
   "id": "05741393",
   "metadata": {
    "papermill": {
     "duration": 0.189749,
     "end_time": "2022-05-18T11:49:06.011857",
     "exception": false,
     "start_time": "2022-05-18T11:49:05.822108",
     "status": "completed"
    },
    "tags": []
   },
   "source": [
    "# Demonstration of Feature Selection, PCA, Pipelines, Handling class"
   ]
  },
  {
   "cell_type": "markdown",
   "id": "ae7a4a6d",
   "metadata": {
    "papermill": {
     "duration": 0.187274,
     "end_time": "2022-05-18T11:49:06.388759",
     "exception": false,
     "start_time": "2022-05-18T11:49:06.201485",
     "status": "completed"
    },
    "tags": []
   },
   "source": [
    "# Feature Selection"
   ]
  },
  {
   "cell_type": "markdown",
   "id": "3b635723",
   "metadata": {
    "papermill": {
     "duration": 0.190999,
     "end_time": "2022-05-18T11:49:06.766682",
     "exception": false,
     "start_time": "2022-05-18T11:49:06.575683",
     "status": "completed"
    },
    "tags": []
   },
   "source": [
    "sklearn.feature_selection module has useful APIs to select features/ reduce dimesionality, either to improve estimator's accuracy scores or to boost their performance on very high-dimensional datsets."
   ]
  },
  {
   "cell_type": "markdown",
   "id": "b5395734",
   "metadata": {
    "papermill": {
     "duration": 0.190188,
     "end_time": "2022-05-18T11:49:07.145779",
     "exception": false,
     "start_time": "2022-05-18T11:49:06.955591",
     "status": "completed"
    },
    "tags": []
   },
   "source": [
    "## Filter based methods"
   ]
  },
  {
   "cell_type": "markdown",
   "id": "569f2868",
   "metadata": {
    "papermill": {
     "duration": 0.186392,
     "end_time": "2022-05-18T11:49:07.519730",
     "exception": false,
     "start_time": "2022-05-18T11:49:07.333338",
     "status": "completed"
    },
    "tags": []
   },
   "source": [
    "#### variance threshold"
   ]
  },
  {
   "cell_type": "code",
   "execution_count": 61,
   "id": "9a556b6c",
   "metadata": {
    "execution": {
     "iopub.execute_input": "2022-05-18T11:49:07.899270Z",
     "iopub.status.busy": "2022-05-18T11:49:07.898831Z",
     "iopub.status.idle": "2022-05-18T11:49:07.907227Z",
     "shell.execute_reply": "2022-05-18T11:49:07.906447Z"
    },
    "papermill": {
     "duration": 0.200014,
     "end_time": "2022-05-18T11:49:07.909060",
     "exception": false,
     "start_time": "2022-05-18T11:49:07.709046",
     "status": "completed"
    },
    "tags": []
   },
   "outputs": [
    {
     "data": {
      "text/plain": [
       "array([ 1.25 , 67.735])"
      ]
     },
     "execution_count": 61,
     "metadata": {},
     "output_type": "execute_result"
    }
   ],
   "source": [
    "data = [{'age': 4, 'height': 96.0}, \n",
    "        {'age': 1, 'height': 73.9},\n",
    "        {'age': 3, 'height': 88.9},\n",
    "        {'age': 2, 'height': 81.6}]\n",
    "\n",
    "dv = DictVectorizer(sparse=False)\n",
    "data_transformed = dv.fit_transform(data)\n",
    "np.var(data_transformed, axis=0)"
   ]
  },
  {
   "cell_type": "code",
   "execution_count": 62,
   "id": "9d761271",
   "metadata": {
    "execution": {
     "iopub.execute_input": "2022-05-18T11:49:08.290196Z",
     "iopub.status.busy": "2022-05-18T11:49:08.289759Z",
     "iopub.status.idle": "2022-05-18T11:49:08.307221Z",
     "shell.execute_reply": "2022-05-18T11:49:08.306382Z"
    },
    "papermill": {
     "duration": 0.21016,
     "end_time": "2022-05-18T11:49:08.309321",
     "exception": false,
     "start_time": "2022-05-18T11:49:08.099161",
     "status": "completed"
    },
    "tags": []
   },
   "outputs": [
    {
     "data": {
      "text/plain": [
       "array([[96. ],\n",
       "       [73.9],\n",
       "       [88.9],\n",
       "       [81.6]])"
      ]
     },
     "execution_count": 62,
     "metadata": {},
     "output_type": "execute_result"
    }
   ],
   "source": [
    "from sklearn.feature_selection import VarianceThreshold\n",
    "\n",
    "vt = VarianceThreshold(threshold=9)\n",
    "data_new = vt.fit_transform(data_transformed)\n",
    "data_new"
   ]
  },
  {
   "cell_type": "markdown",
   "id": "8231f1f9",
   "metadata": {
    "papermill": {
     "duration": 0.189645,
     "end_time": "2022-05-18T11:49:08.690089",
     "exception": false,
     "start_time": "2022-05-18T11:49:08.500444",
     "status": "completed"
    },
    "tags": []
   },
   "source": [
    "#### SelectKBest"
   ]
  },
  {
   "cell_type": "code",
   "execution_count": 63,
   "id": "50a2f396",
   "metadata": {
    "execution": {
     "iopub.execute_input": "2022-05-18T11:49:09.075192Z",
     "iopub.status.busy": "2022-05-18T11:49:09.074497Z",
     "iopub.status.idle": "2022-05-18T11:49:09.089705Z",
     "shell.execute_reply": "2022-05-18T11:49:09.089105Z"
    },
    "papermill": {
     "duration": 0.212616,
     "end_time": "2022-05-18T11:49:09.091916",
     "exception": false,
     "start_time": "2022-05-18T11:49:08.879300",
     "status": "completed"
    },
    "tags": []
   },
   "outputs": [
    {
     "name": "stdout",
     "output_type": "stream",
     "text": [
      "Shape fo feature matrix before fature selection:(2000, 8)\n"
     ]
    }
   ],
   "source": [
    "import numpy as np\n",
    "from sklearn.datasets import fetch_california_housing\n",
    "from sklearn.model_selection import train_test_split\n",
    "from sklearn.feature_selection import SelectKBest, mutual_info_regression\n",
    "\n",
    "# download data\n",
    "X_california, y_california = fetch_california_housing(return_X_y=True)\n",
    "\n",
    "# Select a subset of data\n",
    "X, y = X_california[:2000, :], y_california[:2000]\n",
    "\n",
    "print(f'Shape fo feature matrix before fature selection:{X.shape}')"
   ]
  },
  {
   "cell_type": "markdown",
   "id": "6e5d3c76",
   "metadata": {
    "papermill": {
     "duration": 0.188994,
     "end_time": "2022-05-18T11:49:09.471600",
     "exception": false,
     "start_time": "2022-05-18T11:49:09.282606",
     "status": "completed"
    },
    "tags": []
   },
   "source": [
    "Let's select 3 most important features, since it is a regression problem, we can use only mutual_info_regression or f_regression scoring functions only."
   ]
  },
  {
   "cell_type": "code",
   "execution_count": 64,
   "id": "af257d5d",
   "metadata": {
    "execution": {
     "iopub.execute_input": "2022-05-18T11:49:09.854120Z",
     "iopub.status.busy": "2022-05-18T11:49:09.853770Z",
     "iopub.status.idle": "2022-05-18T11:49:09.953250Z",
     "shell.execute_reply": "2022-05-18T11:49:09.952082Z"
    },
    "papermill": {
     "duration": 0.294861,
     "end_time": "2022-05-18T11:49:09.955704",
     "exception": false,
     "start_time": "2022-05-18T11:49:09.660843",
     "status": "completed"
    },
    "tags": []
   },
   "outputs": [
    {
     "name": "stdout",
     "output_type": "stream",
     "text": [
      "Shape of feature matrix after feature selection:(2000, 3)\n"
     ]
    }
   ],
   "source": [
    "skb = SelectKBest(mutual_info_regression, k=3)\n",
    "x_new = skb.fit_transform(X, y)\n",
    "print(f'Shape of feature matrix after feature selection:{x_new.shape}')"
   ]
  },
  {
   "cell_type": "code",
   "execution_count": 65,
   "id": "52813836",
   "metadata": {
    "execution": {
     "iopub.execute_input": "2022-05-18T11:49:10.342311Z",
     "iopub.status.busy": "2022-05-18T11:49:10.341544Z",
     "iopub.status.idle": "2022-05-18T11:49:10.347851Z",
     "shell.execute_reply": "2022-05-18T11:49:10.347090Z"
    },
    "papermill": {
     "duration": 0.200519,
     "end_time": "2022-05-18T11:49:10.349822",
     "exception": false,
     "start_time": "2022-05-18T11:49:10.149303",
     "status": "completed"
    },
    "tags": []
   },
   "outputs": [
    {
     "data": {
      "text/plain": [
       "array(['x0', 'x6', 'x7'], dtype=object)"
      ]
     },
     "execution_count": 65,
     "metadata": {},
     "output_type": "execute_result"
    }
   ],
   "source": [
    "skb.get_feature_names_out()"
   ]
  },
  {
   "cell_type": "markdown",
   "id": "fa8dedd4",
   "metadata": {
    "papermill": {
     "duration": 0.217035,
     "end_time": "2022-05-18T11:49:10.754995",
     "exception": false,
     "start_time": "2022-05-18T11:49:10.537960",
     "status": "completed"
    },
    "tags": []
   },
   "source": [
    "#### SelectPercentile"
   ]
  },
  {
   "cell_type": "code",
   "execution_count": 66,
   "id": "17ce524a",
   "metadata": {
    "execution": {
     "iopub.execute_input": "2022-05-18T11:49:11.143555Z",
     "iopub.status.busy": "2022-05-18T11:49:11.142957Z",
     "iopub.status.idle": "2022-05-18T11:49:11.240569Z",
     "shell.execute_reply": "2022-05-18T11:49:11.239522Z"
    },
    "papermill": {
     "duration": 0.29614,
     "end_time": "2022-05-18T11:49:11.243365",
     "exception": false,
     "start_time": "2022-05-18T11:49:10.947225",
     "status": "completed"
    },
    "tags": []
   },
   "outputs": [
    {
     "name": "stdout",
     "output_type": "stream",
     "text": [
      "Shape of feature matrix after feature selection:(2000, 3)\n"
     ]
    }
   ],
   "source": [
    "from sklearn.feature_selection import SelectPercentile\n",
    "sp = SelectPercentile(mutual_info_regression, percentile=30)\n",
    "X_new = sp.fit_transform(X, y)\n",
    "print(f'Shape of feature matrix after feature selection:{X_new.shape}')"
   ]
  },
  {
   "cell_type": "code",
   "execution_count": 67,
   "id": "ef936742",
   "metadata": {
    "execution": {
     "iopub.execute_input": "2022-05-18T11:49:11.628545Z",
     "iopub.status.busy": "2022-05-18T11:49:11.627965Z",
     "iopub.status.idle": "2022-05-18T11:49:11.634072Z",
     "shell.execute_reply": "2022-05-18T11:49:11.633302Z"
    },
    "papermill": {
     "duration": 0.202864,
     "end_time": "2022-05-18T11:49:11.635954",
     "exception": false,
     "start_time": "2022-05-18T11:49:11.433090",
     "status": "completed"
    },
    "tags": []
   },
   "outputs": [
    {
     "data": {
      "text/plain": [
       "array(['x0', 'x6', 'x7'], dtype=object)"
      ]
     },
     "execution_count": 67,
     "metadata": {},
     "output_type": "execute_result"
    }
   ],
   "source": [
    "sp.get_feature_names_out()"
   ]
  },
  {
   "cell_type": "markdown",
   "id": "8b6e760c",
   "metadata": {
    "papermill": {
     "duration": 0.19237,
     "end_time": "2022-05-18T11:49:12.021885",
     "exception": false,
     "start_time": "2022-05-18T11:49:11.829515",
     "status": "completed"
    },
    "tags": []
   },
   "source": [
    "#### GenericUnivariateSelect\n"
   ]
  },
  {
   "cell_type": "code",
   "execution_count": 68,
   "id": "323b53ff",
   "metadata": {
    "execution": {
     "iopub.execute_input": "2022-05-18T11:49:12.405346Z",
     "iopub.status.busy": "2022-05-18T11:49:12.405074Z",
     "iopub.status.idle": "2022-05-18T11:49:12.503577Z",
     "shell.execute_reply": "2022-05-18T11:49:12.502639Z"
    },
    "papermill": {
     "duration": 0.293481,
     "end_time": "2022-05-18T11:49:12.507499",
     "exception": false,
     "start_time": "2022-05-18T11:49:12.214018",
     "status": "completed"
    },
    "tags": []
   },
   "outputs": [
    {
     "name": "stdout",
     "output_type": "stream",
     "text": [
      "Shape of feature matrix before selection:(2000, 8)\n",
      "Shape of feature matrix after feature selction:(2000, 3)\n"
     ]
    }
   ],
   "source": [
    "from sklearn.feature_selection import GenericUnivariateSelect\n",
    "gus = GenericUnivariateSelect(mutual_info_regression, mode='k_best', param=3)\n",
    "X_new = gus.fit_transform(X, y)\n",
    "print(f'Shape of feature matrix before selection:{X.shape}')\n",
    "print(f'Shape of feature matrix after feature selction:{X_new.shape}')"
   ]
  },
  {
   "cell_type": "markdown",
   "id": "6c6841ce",
   "metadata": {
    "papermill": {
     "duration": 0.192031,
     "end_time": "2022-05-18T11:49:12.889905",
     "exception": false,
     "start_time": "2022-05-18T11:49:12.697874",
     "status": "completed"
    },
    "tags": []
   },
   "source": [
    "## Wrapper based methods"
   ]
  },
  {
   "cell_type": "markdown",
   "id": "3e0c41eb",
   "metadata": {
    "papermill": {
     "duration": 0.191717,
     "end_time": "2022-05-18T11:49:13.274888",
     "exception": false,
     "start_time": "2022-05-18T11:49:13.083171",
     "status": "completed"
    },
    "tags": []
   },
   "source": [
    "#### RFE(Recursive Feature Elimination)\n",
    "- **Step1**: Fits a model and\n",
    "- **Step2**: Ranks the features, afterwards it removes one or more features (depending upon `step` parameter).\n",
    "\n",
    "These two steps are repeated until desired number of features are selected.\n"
   ]
  },
  {
   "cell_type": "code",
   "execution_count": 69,
   "id": "b129c2e5",
   "metadata": {
    "execution": {
     "iopub.execute_input": "2022-05-18T11:49:13.664472Z",
     "iopub.status.busy": "2022-05-18T11:49:13.664189Z",
     "iopub.status.idle": "2022-05-18T11:49:13.684428Z",
     "shell.execute_reply": "2022-05-18T11:49:13.683599Z"
    },
    "papermill": {
     "duration": 0.220217,
     "end_time": "2022-05-18T11:49:13.687164",
     "exception": false,
     "start_time": "2022-05-18T11:49:13.466947",
     "status": "completed"
    },
    "tags": []
   },
   "outputs": [
    {
     "name": "stdout",
     "output_type": "stream",
     "text": [
      "[ True False False False False False  True  True]\n",
      "Rank of each feature is: [1 5 4 3 6 2 1 1]\n"
     ]
    }
   ],
   "source": [
    "from sklearn.datasets import make_friedman1\n",
    "from sklearn.feature_selection import RFE\n",
    "from sklearn.linear_model import LinearRegression\n",
    "\n",
    "estimator = LinearRegression()\n",
    "selector = RFE(estimator, n_features_to_select=3, step=1)\n",
    "selector = selector.fit(X, y)\n",
    "\n",
    "# support_ attribute is a boolean array\n",
    "# marking which features are selected\n",
    "print(selector.support_)\n",
    "\n",
    "# rank of each feature\n",
    "# if it's value is '1', then it is selected\n",
    "# features with rank 2 and onwards are ranked least.\n",
    "print(f'Rank of each feature is: {selector.ranking_}')\n"
   ]
  },
  {
   "cell_type": "code",
   "execution_count": 70,
   "id": "64df72bb",
   "metadata": {
    "execution": {
     "iopub.execute_input": "2022-05-18T11:49:14.089435Z",
     "iopub.status.busy": "2022-05-18T11:49:14.088674Z",
     "iopub.status.idle": "2022-05-18T11:49:14.094404Z",
     "shell.execute_reply": "2022-05-18T11:49:14.093179Z"
    },
    "papermill": {
     "duration": 0.20854,
     "end_time": "2022-05-18T11:49:14.096774",
     "exception": false,
     "start_time": "2022-05-18T11:49:13.888234",
     "status": "completed"
    },
    "tags": []
   },
   "outputs": [
    {
     "name": "stdout",
     "output_type": "stream",
     "text": [
      "Shape of feature matrix after feature selection: (2000, 3)\n"
     ]
    }
   ],
   "source": [
    "X_new = selector.transform(X)\n",
    "print(f'Shape of feature matrix after feature selection: {X_new.shape}')"
   ]
  },
  {
   "cell_type": "markdown",
   "id": "eb3df5f7",
   "metadata": {
    "papermill": {
     "duration": 0.191904,
     "end_time": "2022-05-18T11:49:14.483441",
     "exception": false,
     "start_time": "2022-05-18T11:49:14.291537",
     "status": "completed"
    },
    "tags": []
   },
   "source": [
    "### RFE-CV\n",
    "this adds another layer of corsss validation to RFE\n"
   ]
  },
  {
   "cell_type": "markdown",
   "id": "de58993e",
   "metadata": {
    "papermill": {
     "duration": 0.193943,
     "end_time": "2022-05-18T11:49:14.871151",
     "exception": false,
     "start_time": "2022-05-18T11:49:14.677208",
     "status": "completed"
    },
    "tags": []
   },
   "source": [
    "### SelectFromModel\n",
    "\n",
    "Selects desired no. of important features (as specified with max_features parameter) above certain threshold of feature importance as obtained from the trained estimator.\n",
    "\n",
    "- The feature importance is obtained via coef_, feature_importances_ or an importance_getter callable from the trainded estimator.\n",
    "\n",
    "- The feature importance threshold can be specified either numerically or through string argument based on built in heuristics such as mean, median and float multiples of these like 0.1*mean"
   ]
  },
  {
   "cell_type": "code",
   "execution_count": 71,
   "id": "5ea92cbb",
   "metadata": {
    "execution": {
     "iopub.execute_input": "2022-05-18T11:49:15.261155Z",
     "iopub.status.busy": "2022-05-18T11:49:15.260430Z",
     "iopub.status.idle": "2022-05-18T11:49:15.271910Z",
     "shell.execute_reply": "2022-05-18T11:49:15.270554Z"
    },
    "papermill": {
     "duration": 0.20904,
     "end_time": "2022-05-18T11:49:15.274158",
     "exception": false,
     "start_time": "2022-05-18T11:49:15.065118",
     "status": "completed"
    },
    "tags": []
   },
   "outputs": [
    {
     "name": "stdout",
     "output_type": "stream",
     "text": [
      "Coefficients of features: [ 3.64048292e-01  5.56221906e-03  5.13591243e-02 -1.64474348e-01\n",
      "  5.90411479e-05 -1.64573915e-01 -2.17724525e-01 -1.85343265e-01]\n",
      "Indices of top 3 features: [1 2 0]\n",
      "shape of feature matrix after feature selection: (2000, 3)\n"
     ]
    }
   ],
   "source": [
    "from sklearn.feature_selection import SelectFromModel\n",
    "\n",
    "estimator = LinearRegression()\n",
    "estimator.fit(X, y)\n",
    "\n",
    "print(f'Coefficients of features: {estimator.coef_}')\n",
    "print(f'Indices of top {3} features: {np.argsort(estimator.coef_)[-3:]}')\n",
    "t = np.argsort(np.abs(estimator.coef_))[-3:]\n",
    "model = SelectFromModel(estimator, max_features=3, prefit=True)\n",
    "X_new = model.transform(X)\n",
    "print(f'shape of feature matrix after feature selection: {X_new.shape}')"
   ]
  },
  {
   "cell_type": "markdown",
   "id": "c6d05eb4",
   "metadata": {
    "papermill": {
     "duration": 0.198957,
     "end_time": "2022-05-18T11:49:15.668740",
     "exception": false,
     "start_time": "2022-05-18T11:49:15.469783",
     "status": "completed"
    },
    "tags": []
   },
   "source": [
    "### SequentialFeatureSelection\n",
    "It performs feature selection by selecting or deselecting features one by one in greedy manner"
   ]
  },
  {
   "cell_type": "code",
   "execution_count": 72,
   "id": "0b5891aa",
   "metadata": {
    "execution": {
     "iopub.execute_input": "2022-05-18T11:49:16.062784Z",
     "iopub.status.busy": "2022-05-18T11:49:16.062469Z",
     "iopub.status.idle": "2022-05-18T11:49:16.066429Z",
     "shell.execute_reply": "2022-05-18T11:49:16.065421Z"
    },
    "papermill": {
     "duration": 0.203514,
     "end_time": "2022-05-18T11:49:16.068346",
     "exception": false,
     "start_time": "2022-05-18T11:49:15.864832",
     "status": "completed"
    },
    "tags": []
   },
   "outputs": [],
   "source": [
    "from sklearn.feature_selection import SequentialFeatureSelector"
   ]
  },
  {
   "cell_type": "code",
   "execution_count": 73,
   "id": "719b3b2e",
   "metadata": {
    "execution": {
     "iopub.execute_input": "2022-05-18T11:49:16.455366Z",
     "iopub.status.busy": "2022-05-18T11:49:16.455069Z",
     "iopub.status.idle": "2022-05-18T11:49:16.624435Z",
     "shell.execute_reply": "2022-05-18T11:49:16.623199Z"
    },
    "papermill": {
     "duration": 0.365731,
     "end_time": "2022-05-18T11:49:16.627373",
     "exception": false,
     "start_time": "2022-05-18T11:49:16.261642",
     "status": "completed"
    },
    "tags": []
   },
   "outputs": [
    {
     "name": "stdout",
     "output_type": "stream",
     "text": [
      "[ True False False False False  True  True False]\n",
      "CPU times: user 164 ms, sys: 0 ns, total: 164 ms\n",
      "Wall time: 163 ms\n"
     ]
    }
   ],
   "source": [
    "%%time\n",
    "estimator = LinearRegression()\n",
    "\n",
    "sfs = SequentialFeatureSelector(estimator, n_features_to_select=3)\n",
    "sfs.fit_transform(X, y)\n",
    "print(sfs.get_support())"
   ]
  },
  {
   "cell_type": "markdown",
   "id": "938c6d21",
   "metadata": {
    "papermill": {
     "duration": 0.198283,
     "end_time": "2022-05-18T11:49:17.020416",
     "exception": false,
     "start_time": "2022-05-18T11:49:16.822133",
     "status": "completed"
    },
    "tags": []
   },
   "source": [
    "The features corrsponding to True in the output sfs.get_support() are selected. In this case, feature 1, 6 and 7 are selected."
   ]
  },
  {
   "cell_type": "code",
   "execution_count": 74,
   "id": "44a31216",
   "metadata": {
    "execution": {
     "iopub.execute_input": "2022-05-18T11:49:17.410087Z",
     "iopub.status.busy": "2022-05-18T11:49:17.409773Z",
     "iopub.status.idle": "2022-05-18T11:49:17.677190Z",
     "shell.execute_reply": "2022-05-18T11:49:17.676266Z"
    },
    "papermill": {
     "duration": 0.463788,
     "end_time": "2022-05-18T11:49:17.679683",
     "exception": false,
     "start_time": "2022-05-18T11:49:17.215895",
     "status": "completed"
    },
    "tags": []
   },
   "outputs": [
    {
     "name": "stdout",
     "output_type": "stream",
     "text": [
      "[ True False False False False  True  True False]\n",
      "CPU times: user 347 ms, sys: 114 ms, total: 461 ms\n",
      "Wall time: 262 ms\n"
     ]
    }
   ],
   "source": [
    "%%time\n",
    "estimator = LinearRegression()\n",
    "sfs = SequentialFeatureSelector(estimator, n_features_to_select=3, \n",
    "                               direction='backward')\n",
    "sfs.fit_transform(X, y)\n",
    "print(sfs.get_support())"
   ]
  },
  {
   "cell_type": "markdown",
   "id": "65b22015",
   "metadata": {
    "papermill": {
     "duration": 0.199118,
     "end_time": "2022-05-18T11:49:18.073490",
     "exception": false,
     "start_time": "2022-05-18T11:49:17.874372",
     "status": "completed"
    },
    "tags": []
   },
   "source": [
    "A couple of observations:\n",
    " - Both forward and backward selection methods select the same features.\n",
    " - The backward selection method takes longer than forward selection method.\n",
    " \n",
    "From above examples, we can observe that depending upon number of features, SFS can accomplish feature selection in different periods forward and backward."
   ]
  },
  {
   "cell_type": "markdown",
   "id": "2c51253f",
   "metadata": {
    "papermill": {
     "duration": 0.193685,
     "end_time": "2022-05-18T11:49:18.462744",
     "exception": false,
     "start_time": "2022-05-18T11:49:18.269059",
     "status": "completed"
    },
    "tags": []
   },
   "source": [
    "# 11. PCA"
   ]
  },
  {
   "cell_type": "markdown",
   "id": "79db118e",
   "metadata": {
    "papermill": {
     "duration": 0.193587,
     "end_time": "2022-05-18T11:49:18.848863",
     "exception": false,
     "start_time": "2022-05-18T11:49:18.655276",
     "status": "completed"
    },
    "tags": []
   },
   "source": [
    "PCA is used to decompose a multivariate dataset in a set of successive orthogonal components that capture maximum amount of the variance.\n",
    "\n",
    "It helps in reducing dimensions of a dataset, thus computational cost of next steps e.g. training model, cross validation etc. \n",
    "\n",
    "Lets generate some artificial data to better understand PCA:"
   ]
  },
  {
   "cell_type": "code",
   "execution_count": null,
   "id": "a352271c",
   "metadata": {
    "papermill": {
     "duration": 0.203232,
     "end_time": "2022-05-18T11:49:19.247453",
     "exception": false,
     "start_time": "2022-05-18T11:49:19.044221",
     "status": "completed"
    },
    "tags": []
   },
   "outputs": [],
   "source": []
  },
  {
   "cell_type": "markdown",
   "id": "f2ba79e0",
   "metadata": {
    "papermill": {
     "duration": 0.196318,
     "end_time": "2022-05-18T11:49:19.643381",
     "exception": false,
     "start_time": "2022-05-18T11:49:19.447063",
     "status": "completed"
    },
    "tags": []
   },
   "source": [
    "Let's fit a PCA transformer on this data and compute its two principal components:\n"
   ]
  },
  {
   "cell_type": "code",
   "execution_count": 75,
   "id": "531c1b4d",
   "metadata": {
    "execution": {
     "iopub.execute_input": "2022-05-18T11:49:20.040392Z",
     "iopub.status.busy": "2022-05-18T11:49:20.040104Z",
     "iopub.status.idle": "2022-05-18T11:49:20.043686Z",
     "shell.execute_reply": "2022-05-18T11:49:20.042731Z"
    },
    "papermill": {
     "duration": 0.203281,
     "end_time": "2022-05-18T11:49:20.045457",
     "exception": false,
     "start_time": "2022-05-18T11:49:19.842176",
     "status": "completed"
    },
    "tags": []
   },
   "outputs": [],
   "source": [
    "# from sklearn.decomposition import PCA\n",
    "# pca = PCA(n_components=2)\n",
    "# pca.fit(x)"
   ]
  },
  {
   "cell_type": "markdown",
   "id": "fcbe5b27",
   "metadata": {
    "papermill": {
     "duration": 0.193257,
     "end_time": "2022-05-18T11:49:20.432839",
     "exception": false,
     "start_time": "2022-05-18T11:49:20.239582",
     "status": "completed"
    },
    "tags": []
   },
   "source": [
    "Let's print the pricipal axes, they are two 2D vectors for this example. The PCA object returns them in the form of a matrix, where each column represents a principal component."
   ]
  },
  {
   "cell_type": "code",
   "execution_count": 76,
   "id": "ebfdfa6e",
   "metadata": {
    "execution": {
     "iopub.execute_input": "2022-05-18T11:49:20.823593Z",
     "iopub.status.busy": "2022-05-18T11:49:20.823072Z",
     "iopub.status.idle": "2022-05-18T11:49:20.826722Z",
     "shell.execute_reply": "2022-05-18T11:49:20.826089Z"
    },
    "papermill": {
     "duration": 0.198585,
     "end_time": "2022-05-18T11:49:20.828833",
     "exception": false,
     "start_time": "2022-05-18T11:49:20.630248",
     "status": "completed"
    },
    "tags": []
   },
   "outputs": [],
   "source": [
    "# print(f'The {pca.n_components_} principal axes are\\n', pca.components_)"
   ]
  },
  {
   "cell_type": "markdown",
   "id": "31fc3a1e",
   "metadata": {
    "papermill": {
     "duration": 0.193526,
     "end_time": "2022-05-18T11:49:21.216882",
     "exception": false,
     "start_time": "2022-05-18T11:49:21.023356",
     "status": "completed"
    },
    "tags": []
   },
   "source": [
    "Let's also look at the explained variance corresponding to each principal axes."
   ]
  },
  {
   "cell_type": "code",
   "execution_count": 77,
   "id": "65bceff4",
   "metadata": {
    "execution": {
     "iopub.execute_input": "2022-05-18T11:49:21.626108Z",
     "iopub.status.busy": "2022-05-18T11:49:21.625529Z",
     "iopub.status.idle": "2022-05-18T11:49:21.629950Z",
     "shell.execute_reply": "2022-05-18T11:49:21.629110Z"
    },
    "papermill": {
     "duration": 0.2239,
     "end_time": "2022-05-18T11:49:21.634654",
     "exception": false,
     "start_time": "2022-05-18T11:49:21.410754",
     "status": "completed"
    },
    "tags": []
   },
   "outputs": [],
   "source": [
    "# print('Explained variance by each component', pca.explained_variance_)\n"
   ]
  },
  {
   "cell_type": "code",
   "execution_count": 78,
   "id": "6f7f5f53",
   "metadata": {
    "execution": {
     "iopub.execute_input": "2022-05-18T11:49:22.049425Z",
     "iopub.status.busy": "2022-05-18T11:49:22.048753Z",
     "iopub.status.idle": "2022-05-18T11:49:22.051857Z",
     "shell.execute_reply": "2022-05-18T11:49:22.051304Z"
    },
    "papermill": {
     "duration": 0.204174,
     "end_time": "2022-05-18T11:49:22.053763",
     "exception": false,
     "start_time": "2022-05-18T11:49:21.849589",
     "status": "completed"
    },
    "tags": []
   },
   "outputs": [],
   "source": [
    "# print('Mean across x1 and x2 dimensions is:', pca.mean_)"
   ]
  },
  {
   "cell_type": "markdown",
   "id": "a97efb74",
   "metadata": {
    "papermill": {
     "duration": 0.206373,
     "end_time": "2022-05-18T11:49:22.457920",
     "exception": false,
     "start_time": "2022-05-18T11:49:22.251547",
     "status": "completed"
    },
    "tags": []
   },
   "source": [
    "To better understand PCA, lets visualize these principal axes.\n",
    "   - There are two principal axes C1 and C2. They are orthogonal to each other. An additional vector C3 is also mentioned for comparison.\n",
    "   - The lengths of C1 and C2 are taken as square root of respective explained variance. the length of the vector implies how important that vector is.\n",
    "    "
   ]
  },
  {
   "cell_type": "code",
   "execution_count": null,
   "id": "b9431e64",
   "metadata": {
    "papermill": {
     "duration": 0.211718,
     "end_time": "2022-05-18T11:49:22.891349",
     "exception": false,
     "start_time": "2022-05-18T11:49:22.679631",
     "status": "completed"
    },
    "tags": []
   },
   "outputs": [],
   "source": []
  },
  {
   "cell_type": "code",
   "execution_count": 79,
   "id": "59647941",
   "metadata": {
    "execution": {
     "iopub.execute_input": "2022-05-18T11:49:23.294420Z",
     "iopub.status.busy": "2022-05-18T11:49:23.294127Z",
     "iopub.status.idle": "2022-05-18T11:49:23.298226Z",
     "shell.execute_reply": "2022-05-18T11:49:23.297169Z"
    },
    "papermill": {
     "duration": 0.207012,
     "end_time": "2022-05-18T11:49:23.300286",
     "exception": false,
     "start_time": "2022-05-18T11:49:23.093274",
     "status": "completed"
    },
    "tags": []
   },
   "outputs": [],
   "source": [
    "# # draw projections of data points on different vectors\n",
    "# projections = x@pca.components_\n",
    "# print(projections.shape)\n",
    "\n",
    "# arbitrary_projections = x@c3\n",
    "# print(arbitrary_projection.shape)\n"
   ]
  },
  {
   "cell_type": "code",
   "execution_count": 80,
   "id": "6e441b84",
   "metadata": {
    "execution": {
     "iopub.execute_input": "2022-05-18T11:49:23.699497Z",
     "iopub.status.busy": "2022-05-18T11:49:23.698960Z",
     "iopub.status.idle": "2022-05-18T11:49:23.702697Z",
     "shell.execute_reply": "2022-05-18T11:49:23.702095Z"
    },
    "papermill": {
     "duration": 0.204233,
     "end_time": "2022-05-18T11:49:23.704591",
     "exception": false,
     "start_time": "2022-05-18T11:49:23.500358",
     "status": "completed"
    },
    "tags": []
   },
   "outputs": [],
   "source": [
    "# # plt.figure(figsize=(8, 6))\n",
    "# plt.scatter(projections[:, 0], 1+np.zeros((200, 1)), alpha=0.3, color='r')\n",
    "# plt.scatter(projections[:, 1], -1+np.zeros((200, 1)), alpha=0.3, color='b')\n",
    "# plt.scatter(arbitrary_projection, np.zeros((200,)), alpha=0.3, color='grey')\n",
    "# plt.legend(['$\\mathbf{c_1}$', '$\\mathbf{c_2}$', '$\\mathbf{c_3}'], prop={'size': 16})\n",
    "# plt.title(\"Variance covered by different vectors\", size=20)\n",
    "# plt.ylim([-1.5, 1.5])\n",
    "# plt.axis('equal')\n",
    "# plt.grid(True)\n",
    "# plt.yticks([], [])\n",
    "# plt.xlabel('$z$', size = 20)\n",
    "# plt.show()"
   ]
  },
  {
   "cell_type": "markdown",
   "id": "3870d11c",
   "metadata": {
    "papermill": {
     "duration": 0.19833,
     "end_time": "2022-05-18T11:49:24.094861",
     "exception": false,
     "start_time": "2022-05-18T11:49:23.896531",
     "status": "completed"
    },
    "tags": []
   },
   "source": [
    "## Reducing Dimensions"
   ]
  },
  {
   "cell_type": "code",
   "execution_count": 81,
   "id": "6cf8197e",
   "metadata": {
    "execution": {
     "iopub.execute_input": "2022-05-18T11:49:24.482228Z",
     "iopub.status.busy": "2022-05-18T11:49:24.481728Z",
     "iopub.status.idle": "2022-05-18T11:49:24.485094Z",
     "shell.execute_reply": "2022-05-18T11:49:24.484259Z"
    },
    "papermill": {
     "duration": 0.199411,
     "end_time": "2022-05-18T11:49:24.487304",
     "exception": false,
     "start_time": "2022-05-18T11:49:24.287893",
     "status": "completed"
    },
    "tags": []
   },
   "outputs": [],
   "source": [
    "# pca = PCA(n_components=1)\n",
    "# pca.fit(x)\n",
    "# x_pca = pca.transform(x)\n",
    "# print(\"original shape: \", x.shape )\n",
    "# print(\"transformed shape: \", x_pca.shape)"
   ]
  },
  {
   "cell_type": "code",
   "execution_count": null,
   "id": "0ba6b2ef",
   "metadata": {
    "papermill": {
     "duration": 0.192725,
     "end_time": "2022-05-18T11:49:24.872983",
     "exception": false,
     "start_time": "2022-05-18T11:49:24.680258",
     "status": "completed"
    },
    "tags": []
   },
   "outputs": [],
   "source": []
  },
  {
   "cell_type": "code",
   "execution_count": null,
   "id": "be53eb99",
   "metadata": {
    "papermill": {
     "duration": 0.191445,
     "end_time": "2022-05-18T11:49:25.263860",
     "exception": false,
     "start_time": "2022-05-18T11:49:25.072415",
     "status": "completed"
    },
    "tags": []
   },
   "outputs": [],
   "source": []
  },
  {
   "cell_type": "markdown",
   "id": "e242d408",
   "metadata": {
    "papermill": {
     "duration": 0.19111,
     "end_time": "2022-05-18T11:49:25.646832",
     "exception": false,
     "start_time": "2022-05-18T11:49:25.455722",
     "status": "completed"
    },
    "tags": []
   },
   "source": [
    "# 12. Chaining Transformers"
   ]
  },
  {
   "cell_type": "markdown",
   "id": "884d260f",
   "metadata": {
    "papermill": {
     "duration": 0.195226,
     "end_time": "2022-05-18T11:49:26.034924",
     "exception": false,
     "start_time": "2022-05-18T11:49:25.839698",
     "status": "completed"
    },
    "tags": []
   },
   "source": [
    "The preprocessing transformations are applied one after another on the input feature matrix.\n",
    "    - It's important to apply exactly same transformation on training, evaluation and test set in the same order.\n",
    "    \n",
    "Failing to do so would lead to incorrect predictions from model due to distribution shift and hence incorrect performance evaluation.\n",
    "\n",
    "sklearn.pipeline module provides utilities to build a composite estimator, as a chain of transformers and estimators."
   ]
  },
  {
   "cell_type": "markdown",
   "id": "2f505d2a",
   "metadata": {
    "papermill": {
     "duration": 0.192353,
     "end_time": "2022-05-18T11:49:26.420873",
     "exception": false,
     "start_time": "2022-05-18T11:49:26.228520",
     "status": "completed"
    },
    "tags": []
   },
   "source": [
    "## Pipeline"
   ]
  },
  {
   "cell_type": "markdown",
   "id": "bc644e03",
   "metadata": {
    "papermill": {
     "duration": 0.191915,
     "end_time": "2022-05-18T11:49:26.806089",
     "exception": false,
     "start_time": "2022-05-18T11:49:26.614174",
     "status": "completed"
    },
    "tags": []
   },
   "source": [
    "Sequentially apply a list of transformers and estimators.\n",
    "   - Intermediate steps of the pipeline must be 'transformers' that is , they must implement fit and transform methods.\n",
    "   - The final estimator only needs to implement fit.\n",
    "\n",
    "The purpose of the pipeline is to assemble several steps that can be cross-validated together while setting different parameters."
   ]
  },
  {
   "cell_type": "markdown",
   "id": "a1c69e98",
   "metadata": {
    "papermill": {
     "duration": 0.192997,
     "end_time": "2022-05-18T11:49:27.192869",
     "exception": false,
     "start_time": "2022-05-18T11:49:26.999872",
     "status": "completed"
    },
    "tags": []
   },
   "source": [
    "### Creating pipelines"
   ]
  },
  {
   "cell_type": "code",
   "execution_count": 82,
   "id": "762f16ab",
   "metadata": {
    "execution": {
     "iopub.execute_input": "2022-05-18T11:49:27.577907Z",
     "iopub.status.busy": "2022-05-18T11:49:27.577428Z",
     "iopub.status.idle": "2022-05-18T11:49:27.582553Z",
     "shell.execute_reply": "2022-05-18T11:49:27.581723Z"
    },
    "papermill": {
     "duration": 0.199908,
     "end_time": "2022-05-18T11:49:27.584488",
     "exception": false,
     "start_time": "2022-05-18T11:49:27.384580",
     "status": "completed"
    },
    "tags": []
   },
   "outputs": [],
   "source": [
    "from sklearn.pipeline import Pipeline\n",
    "from sklearn.impute import SimpleImputer\n",
    "from sklearn.preprocessing import StandardScaler\n",
    "estimators = [\n",
    "    ('simpleImputer', SimpleImputer()),\n",
    "    ('standardScaler', StandardScaler()),\n",
    "]\n",
    "pipe = Pipeline(steps=estimators)"
   ]
  },
  {
   "cell_type": "markdown",
   "id": "c0aed376",
   "metadata": {
    "papermill": {
     "duration": 0.192424,
     "end_time": "2022-05-18T11:49:27.971743",
     "exception": false,
     "start_time": "2022-05-18T11:49:27.779319",
     "status": "completed"
    },
    "tags": []
   },
   "source": [
    "The same pipeline can also be reated vai make_pipeline() helper function, which doesn't take names of teh steps and assigns them generic names based on their steps."
   ]
  },
  {
   "cell_type": "code",
   "execution_count": 83,
   "id": "3eda4586",
   "metadata": {
    "execution": {
     "iopub.execute_input": "2022-05-18T11:49:28.365237Z",
     "iopub.status.busy": "2022-05-18T11:49:28.364933Z",
     "iopub.status.idle": "2022-05-18T11:49:28.368907Z",
     "shell.execute_reply": "2022-05-18T11:49:28.368112Z"
    },
    "papermill": {
     "duration": 0.201236,
     "end_time": "2022-05-18T11:49:28.370927",
     "exception": false,
     "start_time": "2022-05-18T11:49:28.169691",
     "status": "completed"
    },
    "tags": []
   },
   "outputs": [],
   "source": [
    "from sklearn.pipeline import make_pipeline\n",
    "pipe = make_pipeline(SimpleImputer(), StandardScaler())"
   ]
  },
  {
   "cell_type": "markdown",
   "id": "d83aa4c9",
   "metadata": {
    "papermill": {
     "duration": 0.194844,
     "end_time": "2022-05-18T11:49:28.759072",
     "exception": false,
     "start_time": "2022-05-18T11:49:28.564228",
     "status": "completed"
    },
    "tags": []
   },
   "source": [
    "### Accessing individual steps in a pipeline"
   ]
  },
  {
   "cell_type": "code",
   "execution_count": 84,
   "id": "efcbf2b0",
   "metadata": {
    "execution": {
     "iopub.execute_input": "2022-05-18T11:49:29.153734Z",
     "iopub.status.busy": "2022-05-18T11:49:29.152730Z",
     "iopub.status.idle": "2022-05-18T11:49:29.158166Z",
     "shell.execute_reply": "2022-05-18T11:49:29.157482Z"
    },
    "papermill": {
     "duration": 0.207587,
     "end_time": "2022-05-18T11:49:29.160316",
     "exception": false,
     "start_time": "2022-05-18T11:49:28.952729",
     "status": "completed"
    },
    "tags": []
   },
   "outputs": [],
   "source": [
    "from sklearn.decomposition import PCA\n",
    "estimators = [\n",
    "    ('simpleImputer', SimpleImputer()),\n",
    "    ('pca', PCA()),\n",
    "    ('regressor', LinearRegression())\n",
    "]\n",
    "pipe = Pipeline(steps=estimators)"
   ]
  },
  {
   "cell_type": "code",
   "execution_count": 85,
   "id": "7dee340a",
   "metadata": {
    "execution": {
     "iopub.execute_input": "2022-05-18T11:49:29.550516Z",
     "iopub.status.busy": "2022-05-18T11:49:29.549721Z",
     "iopub.status.idle": "2022-05-18T11:49:29.554044Z",
     "shell.execute_reply": "2022-05-18T11:49:29.553422Z"
    },
    "papermill": {
     "duration": 0.199814,
     "end_time": "2022-05-18T11:49:29.556092",
     "exception": false,
     "start_time": "2022-05-18T11:49:29.356278",
     "status": "completed"
    },
    "tags": []
   },
   "outputs": [
    {
     "name": "stdout",
     "output_type": "stream",
     "text": [
      "3\n"
     ]
    }
   ],
   "source": [
    "# Let's print no. of steps in this pipeline:\n",
    "print(len(pipe.steps))"
   ]
  },
  {
   "cell_type": "code",
   "execution_count": 86,
   "id": "ed0de55d",
   "metadata": {
    "execution": {
     "iopub.execute_input": "2022-05-18T11:49:29.949719Z",
     "iopub.status.busy": "2022-05-18T11:49:29.949185Z",
     "iopub.status.idle": "2022-05-18T11:49:29.955820Z",
     "shell.execute_reply": "2022-05-18T11:49:29.954874Z"
    },
    "papermill": {
     "duration": 0.204376,
     "end_time": "2022-05-18T11:49:29.957878",
     "exception": false,
     "start_time": "2022-05-18T11:49:29.753502",
     "status": "completed"
    },
    "tags": []
   },
   "outputs": [
    {
     "name": "stdout",
     "output_type": "stream",
     "text": [
      "[('simpleImputer', SimpleImputer()), ('pca', PCA()), ('regressor', LinearRegression())]\n"
     ]
    }
   ],
   "source": [
    "# Let's look at each of the steps:\n",
    "print(pipe.steps)"
   ]
  },
  {
   "cell_type": "markdown",
   "id": "b639e5d7",
   "metadata": {
    "papermill": {
     "duration": 0.191582,
     "end_time": "2022-05-18T11:49:30.347006",
     "exception": false,
     "start_time": "2022-05-18T11:49:30.155424",
     "status": "completed"
    },
    "tags": []
   },
   "source": [
    "The second estimator can be accesed in following 4 ways:"
   ]
  },
  {
   "cell_type": "code",
   "execution_count": 87,
   "id": "ed7b916d",
   "metadata": {
    "execution": {
     "iopub.execute_input": "2022-05-18T11:49:30.731755Z",
     "iopub.status.busy": "2022-05-18T11:49:30.731466Z",
     "iopub.status.idle": "2022-05-18T11:49:30.735729Z",
     "shell.execute_reply": "2022-05-18T11:49:30.734961Z"
    },
    "papermill": {
     "duration": 0.199962,
     "end_time": "2022-05-18T11:49:30.738224",
     "exception": false,
     "start_time": "2022-05-18T11:49:30.538262",
     "status": "completed"
    },
    "tags": []
   },
   "outputs": [
    {
     "name": "stdout",
     "output_type": "stream",
     "text": [
      "PCA()\n"
     ]
    }
   ],
   "source": [
    "print(pipe.named_steps.pca)"
   ]
  },
  {
   "cell_type": "code",
   "execution_count": 88,
   "id": "0724c07d",
   "metadata": {
    "execution": {
     "iopub.execute_input": "2022-05-18T11:49:31.130047Z",
     "iopub.status.busy": "2022-05-18T11:49:31.129454Z",
     "iopub.status.idle": "2022-05-18T11:49:31.136000Z",
     "shell.execute_reply": "2022-05-18T11:49:31.135319Z"
    },
    "papermill": {
     "duration": 0.20672,
     "end_time": "2022-05-18T11:49:31.138078",
     "exception": false,
     "start_time": "2022-05-18T11:49:30.931358",
     "status": "completed"
    },
    "tags": []
   },
   "outputs": [
    {
     "data": {
      "text/plain": [
       "('pca', PCA())"
      ]
     },
     "execution_count": 88,
     "metadata": {},
     "output_type": "execute_result"
    }
   ],
   "source": [
    "pipe.steps[1]"
   ]
  },
  {
   "cell_type": "code",
   "execution_count": 89,
   "id": "36dd769a",
   "metadata": {
    "execution": {
     "iopub.execute_input": "2022-05-18T11:49:31.527766Z",
     "iopub.status.busy": "2022-05-18T11:49:31.527190Z",
     "iopub.status.idle": "2022-05-18T11:49:31.533210Z",
     "shell.execute_reply": "2022-05-18T11:49:31.532371Z"
    },
    "papermill": {
     "duration": 0.202658,
     "end_time": "2022-05-18T11:49:31.535152",
     "exception": false,
     "start_time": "2022-05-18T11:49:31.332494",
     "status": "completed"
    },
    "tags": []
   },
   "outputs": [
    {
     "data": {
      "text/plain": [
       "PCA()"
      ]
     },
     "execution_count": 89,
     "metadata": {},
     "output_type": "execute_result"
    }
   ],
   "source": [
    "pipe[1]"
   ]
  },
  {
   "cell_type": "code",
   "execution_count": 90,
   "id": "cea1fdbb",
   "metadata": {
    "execution": {
     "iopub.execute_input": "2022-05-18T11:49:31.930921Z",
     "iopub.status.busy": "2022-05-18T11:49:31.930251Z",
     "iopub.status.idle": "2022-05-18T11:49:31.936985Z",
     "shell.execute_reply": "2022-05-18T11:49:31.936182Z"
    },
    "papermill": {
     "duration": 0.206451,
     "end_time": "2022-05-18T11:49:31.939302",
     "exception": false,
     "start_time": "2022-05-18T11:49:31.732851",
     "status": "completed"
    },
    "tags": []
   },
   "outputs": [
    {
     "data": {
      "text/plain": [
       "PCA()"
      ]
     },
     "execution_count": 90,
     "metadata": {},
     "output_type": "execute_result"
    }
   ],
   "source": [
    "pipe['pca']"
   ]
  },
  {
   "cell_type": "markdown",
   "id": "f82b100c",
   "metadata": {
    "papermill": {
     "duration": 0.195889,
     "end_time": "2022-05-18T11:49:32.333686",
     "exception": false,
     "start_time": "2022-05-18T11:49:32.137797",
     "status": "completed"
    },
    "tags": []
   },
   "source": [
    "### Accessing parameters of a step in pipeline\n",
    "\n",
    "Parameters of the estimators in the pipeline can be accessedd usnig the__syntax, note that there are two underscores b/w and"
   ]
  },
  {
   "cell_type": "code",
   "execution_count": 91,
   "id": "7fac282a",
   "metadata": {
    "execution": {
     "iopub.execute_input": "2022-05-18T11:49:32.750920Z",
     "iopub.status.busy": "2022-05-18T11:49:32.750376Z",
     "iopub.status.idle": "2022-05-18T11:49:32.759876Z",
     "shell.execute_reply": "2022-05-18T11:49:32.759111Z"
    },
    "papermill": {
     "duration": 0.234368,
     "end_time": "2022-05-18T11:49:32.762599",
     "exception": false,
     "start_time": "2022-05-18T11:49:32.528231",
     "status": "completed"
    },
    "tags": []
   },
   "outputs": [
    {
     "data": {
      "text/plain": [
       "Pipeline(steps=[('simpleImputer', SimpleImputer()),\n",
       "                ('pca', PCA(n_components=2)),\n",
       "                ('regressor', LinearRegression())])"
      ]
     },
     "execution_count": 91,
     "metadata": {},
     "output_type": "execute_result"
    }
   ],
   "source": [
    "estimators = [\n",
    "    ('simpleImputer', SimpleImputer()),\n",
    "    ('pca', PCA()),\n",
    "    ('regressor', LinearRegression())\n",
    "]\n",
    "pipe = Pipeline(steps=estimators)\n",
    "\n",
    "pipe.set_params(pca__n_components=2)"
   ]
  },
  {
   "cell_type": "markdown",
   "id": "a29154d1",
   "metadata": {
    "papermill": {
     "duration": 0.200525,
     "end_time": "2022-05-18T11:49:33.159087",
     "exception": false,
     "start_time": "2022-05-18T11:49:32.958562",
     "status": "completed"
    },
    "tags": []
   },
   "source": [
    "In above example n_components of PCA() step is set after the pipeline is created."
   ]
  },
  {
   "cell_type": "markdown",
   "id": "8bc32d9a",
   "metadata": {
    "papermill": {
     "duration": 0.197222,
     "end_time": "2022-05-18T11:49:33.552397",
     "exception": false,
     "start_time": "2022-05-18T11:49:33.355175",
     "status": "completed"
    },
    "tags": []
   },
   "source": [
    "### GridSearch with pipeline\n",
    "\n",
    "By using nameing convention of nested parameters, grid search can implemented."
   ]
  },
  {
   "cell_type": "code",
   "execution_count": 92,
   "id": "a4bf2fa9",
   "metadata": {
    "execution": {
     "iopub.execute_input": "2022-05-18T11:49:33.952799Z",
     "iopub.status.busy": "2022-05-18T11:49:33.952537Z",
     "iopub.status.idle": "2022-05-18T11:49:33.958362Z",
     "shell.execute_reply": "2022-05-18T11:49:33.957560Z"
    },
    "papermill": {
     "duration": 0.2048,
     "end_time": "2022-05-18T11:49:33.960307",
     "exception": false,
     "start_time": "2022-05-18T11:49:33.755507",
     "status": "completed"
    },
    "tags": []
   },
   "outputs": [],
   "source": [
    "from sklearn.impute import KNNImputer\n",
    "from sklearn.linear_model import LogisticRegression\n",
    "from sklearn.svm import SVC\n",
    "from sklearn.model_selection import GridSearchCV\n",
    "\n",
    "param_grid = dict(imputer=['passthrough',\n",
    "                          SimpleImputer(),\n",
    "                          KNNImputer()],\n",
    "                 clf=[SVC(), LogisticRegression()],\n",
    "                 clf__c=[0.1, 10, 100])\n",
    "\n",
    "grid_search = GridSearchCV(pipe, param_grid=param_grid)"
   ]
  },
  {
   "cell_type": "markdown",
   "id": "9ad015b9",
   "metadata": {
    "papermill": {
     "duration": 0.203508,
     "end_time": "2022-05-18T11:49:34.367405",
     "exception": false,
     "start_time": "2022-05-18T11:49:34.163897",
     "status": "completed"
    },
    "tags": []
   },
   "source": [
    "* c is an inverse of regularization, lower its value stronger the regularization is.\n",
    "* in the example above clf__c provides a set of values for grid search."
   ]
  },
  {
   "cell_type": "markdown",
   "id": "399a3897",
   "metadata": {
    "papermill": {
     "duration": 0.202305,
     "end_time": "2022-05-18T11:49:34.764815",
     "exception": false,
     "start_time": "2022-05-18T11:49:34.562510",
     "status": "completed"
    },
    "tags": []
   },
   "source": [
    "### Caching Transformers\n",
    "\n",
    "Transforming data is computationally expensive step.\n",
    "   * For grid search, transformers need not be applied for every parameter configuration. They can be applied only once, and then transformed data can reused.\n",
    "\n",
    "this can be achieved by setting memory parameter of a pipeline object."
   ]
  },
  {
   "cell_type": "code",
   "execution_count": 93,
   "id": "5a675daf",
   "metadata": {
    "execution": {
     "iopub.execute_input": "2022-05-18T11:49:35.170629Z",
     "iopub.status.busy": "2022-05-18T11:49:35.170140Z",
     "iopub.status.idle": "2022-05-18T11:49:35.174366Z",
     "shell.execute_reply": "2022-05-18T11:49:35.173605Z"
    },
    "papermill": {
     "duration": 0.206489,
     "end_time": "2022-05-18T11:49:35.176476",
     "exception": false,
     "start_time": "2022-05-18T11:49:34.969987",
     "status": "completed"
    },
    "tags": []
   },
   "outputs": [],
   "source": [
    "import tempfile\n",
    "tempDirPath = tempfile.TemporaryDirectory()"
   ]
  },
  {
   "cell_type": "code",
   "execution_count": 94,
   "id": "e1eed654",
   "metadata": {
    "execution": {
     "iopub.execute_input": "2022-05-18T11:49:35.567813Z",
     "iopub.status.busy": "2022-05-18T11:49:35.567537Z",
     "iopub.status.idle": "2022-05-18T11:49:35.572749Z",
     "shell.execute_reply": "2022-05-18T11:49:35.571836Z"
    },
    "papermill": {
     "duration": 0.20253,
     "end_time": "2022-05-18T11:49:35.574798",
     "exception": false,
     "start_time": "2022-05-18T11:49:35.372268",
     "status": "completed"
    },
    "tags": []
   },
   "outputs": [],
   "source": [
    "estimators = [\n",
    "    ('simpleImputer', SimpleImputer()),\n",
    "    ('pca', PCA(2)),\n",
    "    ('regressor', LinearRegression())\n",
    "]\n",
    "pipe = Pipeline(steps=estimators, memory=tempDirPath)"
   ]
  },
  {
   "cell_type": "markdown",
   "id": "ef1bc8a7",
   "metadata": {
    "papermill": {
     "duration": 0.198125,
     "end_time": "2022-05-18T11:49:35.968593",
     "exception": false,
     "start_time": "2022-05-18T11:49:35.770468",
     "status": "completed"
    },
    "tags": []
   },
   "source": [
    "FeatureUnion\n",
    "\n",
    "Concatenates results of multiple transformer objects.\n",
    " * Applies a list of transformer objects in parallel, and their outputs are concatenated side-by-side into a larger matrix.\n",
    "FeatureUnion and Pipeline can be used to create complex transformers."
   ]
  },
  {
   "cell_type": "markdown",
   "id": "23f7e60e",
   "metadata": {
    "papermill": {
     "duration": 0.196564,
     "end_time": "2022-05-18T11:49:36.364216",
     "exception": false,
     "start_time": "2022-05-18T11:49:36.167652",
     "status": "completed"
    },
    "tags": []
   },
   "source": [
    "# 13. Visualizing Pipelines"
   ]
  },
  {
   "cell_type": "code",
   "execution_count": 95,
   "id": "4efbf7b6",
   "metadata": {
    "execution": {
     "iopub.execute_input": "2022-05-18T11:49:36.757921Z",
     "iopub.status.busy": "2022-05-18T11:49:36.757658Z",
     "iopub.status.idle": "2022-05-18T11:49:36.764799Z",
     "shell.execute_reply": "2022-05-18T11:49:36.763934Z"
    },
    "papermill": {
     "duration": 0.205123,
     "end_time": "2022-05-18T11:49:36.766777",
     "exception": false,
     "start_time": "2022-05-18T11:49:36.561654",
     "status": "completed"
    },
    "tags": []
   },
   "outputs": [],
   "source": [
    "from sklearn.preprocessing import StandardScaler, LabelBinarizer\n",
    "from sklearn.pipeline import Pipeline, FeatureUnion\n",
    "from sklearn.compose import ColumnTransformer\n",
    "from sklearn.impute import SimpleImputer\n",
    "\n",
    "num_pipeline = Pipeline([('selector', ColumnTransformer([('select_first_4',\n",
    "                                                         'passthrough',\n",
    "                                                         slice(0, 4))])),\n",
    "                        ('imputer', SimpleImputer(strategy=\"median\")),\n",
    "                        ('std_scaler', StandardScaler()),\n",
    "                        ])\n",
    "\n",
    "cat_pipeline = ColumnTransformer([('label_binarizer', LabelBinarizer(), [4]),])\n",
    "\n",
    "full_pipeline = FeatureUnion(transformer_list=\n",
    "                            [(\"num_pipeline\", num_pipeline),\n",
    "                             (\"cat_pipeline\", cat_pipeline),\n",
    "                            ])"
   ]
  },
  {
   "cell_type": "code",
   "execution_count": 96,
   "id": "0786e014",
   "metadata": {
    "execution": {
     "iopub.execute_input": "2022-05-18T11:49:37.166143Z",
     "iopub.status.busy": "2022-05-18T11:49:37.165682Z",
     "iopub.status.idle": "2022-05-18T11:49:37.197218Z",
     "shell.execute_reply": "2022-05-18T11:49:37.196391Z"
    },
    "papermill": {
     "duration": 0.235524,
     "end_time": "2022-05-18T11:49:37.199291",
     "exception": false,
     "start_time": "2022-05-18T11:49:36.963767",
     "status": "completed"
    },
    "tags": []
   },
   "outputs": [
    {
     "data": {
      "text/html": [
       "<style>#sk-7471508e-812c-4f1b-9e38-cab6e0e145bf {color: black;background-color: white;}#sk-7471508e-812c-4f1b-9e38-cab6e0e145bf pre{padding: 0;}#sk-7471508e-812c-4f1b-9e38-cab6e0e145bf div.sk-toggleable {background-color: white;}#sk-7471508e-812c-4f1b-9e38-cab6e0e145bf label.sk-toggleable__label {cursor: pointer;display: block;width: 100%;margin-bottom: 0;padding: 0.3em;box-sizing: border-box;text-align: center;}#sk-7471508e-812c-4f1b-9e38-cab6e0e145bf label.sk-toggleable__label-arrow:before {content: \"▸\";float: left;margin-right: 0.25em;color: #696969;}#sk-7471508e-812c-4f1b-9e38-cab6e0e145bf label.sk-toggleable__label-arrow:hover:before {color: black;}#sk-7471508e-812c-4f1b-9e38-cab6e0e145bf div.sk-estimator:hover label.sk-toggleable__label-arrow:before {color: black;}#sk-7471508e-812c-4f1b-9e38-cab6e0e145bf div.sk-toggleable__content {max-height: 0;max-width: 0;overflow: hidden;text-align: left;background-color: #f0f8ff;}#sk-7471508e-812c-4f1b-9e38-cab6e0e145bf div.sk-toggleable__content pre {margin: 0.2em;color: black;border-radius: 0.25em;background-color: #f0f8ff;}#sk-7471508e-812c-4f1b-9e38-cab6e0e145bf input.sk-toggleable__control:checked~div.sk-toggleable__content {max-height: 200px;max-width: 100%;overflow: auto;}#sk-7471508e-812c-4f1b-9e38-cab6e0e145bf input.sk-toggleable__control:checked~label.sk-toggleable__label-arrow:before {content: \"▾\";}#sk-7471508e-812c-4f1b-9e38-cab6e0e145bf div.sk-estimator input.sk-toggleable__control:checked~label.sk-toggleable__label {background-color: #d4ebff;}#sk-7471508e-812c-4f1b-9e38-cab6e0e145bf div.sk-label input.sk-toggleable__control:checked~label.sk-toggleable__label {background-color: #d4ebff;}#sk-7471508e-812c-4f1b-9e38-cab6e0e145bf input.sk-hidden--visually {border: 0;clip: rect(1px 1px 1px 1px);clip: rect(1px, 1px, 1px, 1px);height: 1px;margin: -1px;overflow: hidden;padding: 0;position: absolute;width: 1px;}#sk-7471508e-812c-4f1b-9e38-cab6e0e145bf div.sk-estimator {font-family: monospace;background-color: #f0f8ff;border: 1px dotted black;border-radius: 0.25em;box-sizing: border-box;margin-bottom: 0.5em;}#sk-7471508e-812c-4f1b-9e38-cab6e0e145bf div.sk-estimator:hover {background-color: #d4ebff;}#sk-7471508e-812c-4f1b-9e38-cab6e0e145bf div.sk-parallel-item::after {content: \"\";width: 100%;border-bottom: 1px solid gray;flex-grow: 1;}#sk-7471508e-812c-4f1b-9e38-cab6e0e145bf div.sk-label:hover label.sk-toggleable__label {background-color: #d4ebff;}#sk-7471508e-812c-4f1b-9e38-cab6e0e145bf div.sk-serial::before {content: \"\";position: absolute;border-left: 1px solid gray;box-sizing: border-box;top: 2em;bottom: 0;left: 50%;}#sk-7471508e-812c-4f1b-9e38-cab6e0e145bf div.sk-serial {display: flex;flex-direction: column;align-items: center;background-color: white;padding-right: 0.2em;padding-left: 0.2em;}#sk-7471508e-812c-4f1b-9e38-cab6e0e145bf div.sk-item {z-index: 1;}#sk-7471508e-812c-4f1b-9e38-cab6e0e145bf div.sk-parallel {display: flex;align-items: stretch;justify-content: center;background-color: white;}#sk-7471508e-812c-4f1b-9e38-cab6e0e145bf div.sk-parallel::before {content: \"\";position: absolute;border-left: 1px solid gray;box-sizing: border-box;top: 2em;bottom: 0;left: 50%;}#sk-7471508e-812c-4f1b-9e38-cab6e0e145bf div.sk-parallel-item {display: flex;flex-direction: column;position: relative;background-color: white;}#sk-7471508e-812c-4f1b-9e38-cab6e0e145bf div.sk-parallel-item:first-child::after {align-self: flex-end;width: 50%;}#sk-7471508e-812c-4f1b-9e38-cab6e0e145bf div.sk-parallel-item:last-child::after {align-self: flex-start;width: 50%;}#sk-7471508e-812c-4f1b-9e38-cab6e0e145bf div.sk-parallel-item:only-child::after {width: 0;}#sk-7471508e-812c-4f1b-9e38-cab6e0e145bf div.sk-dashed-wrapped {border: 1px dashed gray;margin: 0 0.4em 0.5em 0.4em;box-sizing: border-box;padding-bottom: 0.4em;background-color: white;position: relative;}#sk-7471508e-812c-4f1b-9e38-cab6e0e145bf div.sk-label label {font-family: monospace;font-weight: bold;background-color: white;display: inline-block;line-height: 1.2em;}#sk-7471508e-812c-4f1b-9e38-cab6e0e145bf div.sk-label-container {position: relative;z-index: 2;text-align: center;}#sk-7471508e-812c-4f1b-9e38-cab6e0e145bf div.sk-container {/* jupyter's `normalize.less` sets `[hidden] { display: none; }` but bootstrap.min.css set `[hidden] { display: none !important; }` so we also need the `!important` here to be able to override the default hidden behavior on the sphinx rendered scikit-learn.org. See: https://github.com/scikit-learn/scikit-learn/issues/21755 */display: inline-block !important;position: relative;}#sk-7471508e-812c-4f1b-9e38-cab6e0e145bf div.sk-text-repr-fallback {display: none;}</style><div id=\"sk-7471508e-812c-4f1b-9e38-cab6e0e145bf\" class=\"sk-top-container\"><div class=\"sk-text-repr-fallback\"><pre>FeatureUnion(transformer_list=[(&#x27;num_pipeline&#x27;,\n",
       "                                Pipeline(steps=[(&#x27;selector&#x27;,\n",
       "                                                 ColumnTransformer(transformers=[(&#x27;select_first_4&#x27;,\n",
       "                                                                                  &#x27;passthrough&#x27;,\n",
       "                                                                                  slice(0, 4, None))])),\n",
       "                                                (&#x27;imputer&#x27;,\n",
       "                                                 SimpleImputer(strategy=&#x27;median&#x27;)),\n",
       "                                                (&#x27;std_scaler&#x27;,\n",
       "                                                 StandardScaler())])),\n",
       "                               (&#x27;cat_pipeline&#x27;,\n",
       "                                ColumnTransformer(transformers=[(&#x27;label_binarizer&#x27;,\n",
       "                                                                 LabelBinarizer(),\n",
       "                                                                 [4])]))])</pre><b>Please rerun this cell to show the HTML repr or trust the notebook.</b></div><div class=\"sk-container\" hidden><div class=\"sk-item sk-dashed-wrapped\"><div class=\"sk-label-container\"><div class=\"sk-label sk-toggleable\"><input class=\"sk-toggleable__control sk-hidden--visually\" id=\"7f8b6a81-875f-4ad3-aa21-e4d9c2c9823d\" type=\"checkbox\" ><label for=\"7f8b6a81-875f-4ad3-aa21-e4d9c2c9823d\" class=\"sk-toggleable__label sk-toggleable__label-arrow\">FeatureUnion</label><div class=\"sk-toggleable__content\"><pre>FeatureUnion(transformer_list=[(&#x27;num_pipeline&#x27;,\n",
       "                                Pipeline(steps=[(&#x27;selector&#x27;,\n",
       "                                                 ColumnTransformer(transformers=[(&#x27;select_first_4&#x27;,\n",
       "                                                                                  &#x27;passthrough&#x27;,\n",
       "                                                                                  slice(0, 4, None))])),\n",
       "                                                (&#x27;imputer&#x27;,\n",
       "                                                 SimpleImputer(strategy=&#x27;median&#x27;)),\n",
       "                                                (&#x27;std_scaler&#x27;,\n",
       "                                                 StandardScaler())])),\n",
       "                               (&#x27;cat_pipeline&#x27;,\n",
       "                                ColumnTransformer(transformers=[(&#x27;label_binarizer&#x27;,\n",
       "                                                                 LabelBinarizer(),\n",
       "                                                                 [4])]))])</pre></div></div></div><div class=\"sk-parallel\"><div class=\"sk-parallel-item\"><div class=\"sk-item\"><div class=\"sk-label-container\"><div class=\"sk-label sk-toggleable\"><label>num_pipeline</label></div></div><div class=\"sk-serial\"><div class=\"sk-item\"><div class=\"sk-serial\"><div class=\"sk-item sk-dashed-wrapped\"><div class=\"sk-label-container\"><div class=\"sk-label sk-toggleable\"><input class=\"sk-toggleable__control sk-hidden--visually\" id=\"aee970e7-2989-41e6-ace6-bb74abf6ea98\" type=\"checkbox\" ><label for=\"aee970e7-2989-41e6-ace6-bb74abf6ea98\" class=\"sk-toggleable__label sk-toggleable__label-arrow\">selector: ColumnTransformer</label><div class=\"sk-toggleable__content\"><pre>ColumnTransformer(transformers=[(&#x27;select_first_4&#x27;, &#x27;passthrough&#x27;,\n",
       "                                 slice(0, 4, None))])</pre></div></div></div><div class=\"sk-parallel\"><div class=\"sk-parallel-item\"><div class=\"sk-item\"><div class=\"sk-label-container\"><div class=\"sk-label sk-toggleable\"><input class=\"sk-toggleable__control sk-hidden--visually\" id=\"9f6f517b-10b5-427e-bd06-fe6fe9b3ec08\" type=\"checkbox\" ><label for=\"9f6f517b-10b5-427e-bd06-fe6fe9b3ec08\" class=\"sk-toggleable__label sk-toggleable__label-arrow\">select_first_4</label><div class=\"sk-toggleable__content\"><pre>slice(0, 4, None)</pre></div></div></div><div class=\"sk-serial\"><div class=\"sk-item\"><div class=\"sk-estimator sk-toggleable\"><input class=\"sk-toggleable__control sk-hidden--visually\" id=\"63c73854-5989-42c4-ad0f-32bb88bfcc85\" type=\"checkbox\" ><label for=\"63c73854-5989-42c4-ad0f-32bb88bfcc85\" class=\"sk-toggleable__label sk-toggleable__label-arrow\">passthrough</label><div class=\"sk-toggleable__content\"><pre>passthrough</pre></div></div></div></div></div></div></div></div><div class=\"sk-item\"><div class=\"sk-estimator sk-toggleable\"><input class=\"sk-toggleable__control sk-hidden--visually\" id=\"843f605c-86b8-4904-b1cd-1211df20a345\" type=\"checkbox\" ><label for=\"843f605c-86b8-4904-b1cd-1211df20a345\" class=\"sk-toggleable__label sk-toggleable__label-arrow\">SimpleImputer</label><div class=\"sk-toggleable__content\"><pre>SimpleImputer(strategy=&#x27;median&#x27;)</pre></div></div></div><div class=\"sk-item\"><div class=\"sk-estimator sk-toggleable\"><input class=\"sk-toggleable__control sk-hidden--visually\" id=\"7795cf9b-ce73-41c8-9e07-24fa4340b750\" type=\"checkbox\" ><label for=\"7795cf9b-ce73-41c8-9e07-24fa4340b750\" class=\"sk-toggleable__label sk-toggleable__label-arrow\">StandardScaler</label><div class=\"sk-toggleable__content\"><pre>StandardScaler()</pre></div></div></div></div></div></div></div></div><div class=\"sk-parallel-item\"><div class=\"sk-item\"><div class=\"sk-label-container\"><div class=\"sk-label sk-toggleable\"><label>cat_pipeline</label></div></div><div class=\"sk-serial\"><div class=\"sk-item sk-dashed-wrapped\"><div class=\"sk-parallel\"><div class=\"sk-parallel-item\"><div class=\"sk-item\"><div class=\"sk-label-container\"><div class=\"sk-label sk-toggleable\"><input class=\"sk-toggleable__control sk-hidden--visually\" id=\"e731af64-e1cc-4796-9309-3298f0dfb2a8\" type=\"checkbox\" ><label for=\"e731af64-e1cc-4796-9309-3298f0dfb2a8\" class=\"sk-toggleable__label sk-toggleable__label-arrow\">label_binarizer</label><div class=\"sk-toggleable__content\"><pre>[4]</pre></div></div></div><div class=\"sk-serial\"><div class=\"sk-item\"><div class=\"sk-estimator sk-toggleable\"><input class=\"sk-toggleable__control sk-hidden--visually\" id=\"a5b47ad9-cfca-4457-afbd-9b3905ed6f79\" type=\"checkbox\" ><label for=\"a5b47ad9-cfca-4457-afbd-9b3905ed6f79\" class=\"sk-toggleable__label sk-toggleable__label-arrow\">LabelBinarizer</label><div class=\"sk-toggleable__content\"><pre>LabelBinarizer()</pre></div></div></div></div></div></div></div></div></div></div></div></div></div></div></div>"
      ],
      "text/plain": [
       "FeatureUnion(transformer_list=[('num_pipeline',\n",
       "                                Pipeline(steps=[('selector',\n",
       "                                                 ColumnTransformer(transformers=[('select_first_4',\n",
       "                                                                                  'passthrough',\n",
       "                                                                                  slice(0, 4, None))])),\n",
       "                                                ('imputer',\n",
       "                                                 SimpleImputer(strategy='median')),\n",
       "                                                ('std_scaler',\n",
       "                                                 StandardScaler())])),\n",
       "                               ('cat_pipeline',\n",
       "                                ColumnTransformer(transformers=[('label_binarizer',\n",
       "                                                                 LabelBinarizer(),\n",
       "                                                                 [4])]))])"
      ]
     },
     "execution_count": 96,
     "metadata": {},
     "output_type": "execute_result"
    }
   ],
   "source": [
    "from sklearn import set_config\n",
    "set_config(display='diagram')\n",
    "# displays HTML representation in a jupyter context\n",
    "full_pipeline"
   ]
  },
  {
   "cell_type": "markdown",
   "id": "7b0a1974",
   "metadata": {
    "papermill": {
     "duration": 0.195355,
     "end_time": "2022-05-18T11:49:37.591109",
     "exception": false,
     "start_time": "2022-05-18T11:49:37.395754",
     "status": "completed"
    },
    "tags": []
   },
   "source": [
    "# 14. Handling imbalanced data"
   ]
  },
  {
   "cell_type": "markdown",
   "id": "2c012a87",
   "metadata": {
    "papermill": {
     "duration": 0.1968,
     "end_time": "2022-05-18T11:49:37.984956",
     "exception": false,
     "start_time": "2022-05-18T11:49:37.788156",
     "status": "completed"
    },
    "tags": []
   },
   "source": [
    "Imbalanced datasets are those where one class is vey less represented than the other class. This. kind of data results in less efficient ML algorithms\n",
    "\n",
    "There are two main approaches to handle imbalanced data:\n",
    "   * Undersampling\n",
    "   * OverSampling"
   ]
  },
  {
   "cell_type": "markdown",
   "id": "5618062a",
   "metadata": {
    "papermill": {
     "duration": 0.196816,
     "end_time": "2022-05-18T11:49:38.378383",
     "exception": false,
     "start_time": "2022-05-18T11:49:38.181567",
     "status": "completed"
    },
    "tags": []
   },
   "source": [
    "### handling imbalance dataset with help of `Wine quality dataset`"
   ]
  },
  {
   "cell_type": "code",
   "execution_count": 97,
   "id": "a94ee775",
   "metadata": {
    "execution": {
     "iopub.execute_input": "2022-05-18T11:49:38.775582Z",
     "iopub.status.busy": "2022-05-18T11:49:38.774998Z",
     "iopub.status.idle": "2022-05-18T11:49:39.507768Z",
     "shell.execute_reply": "2022-05-18T11:49:39.506908Z"
    },
    "papermill": {
     "duration": 0.932994,
     "end_time": "2022-05-18T11:49:39.510166",
     "exception": false,
     "start_time": "2022-05-18T11:49:38.577172",
     "status": "completed"
    },
    "tags": []
   },
   "outputs": [
    {
     "data": {
      "image/png": "[encoded data removed]",
      "text/plain": [
       "<Figure size 432x288 with 1 Axes>"
      ]
     },
     "metadata": {},
     "output_type": "display_data"
    }
   ],
   "source": [
    "wine_data = pd.read_csv(\n",
    "        \"https://archive.ics.uci.edu/ml/machine-learning-databases/wine-quality/\"\n",
    "        \"winequality-red.csv\",\n",
    "        sep=\";\")\n",
    "\n",
    "# display the histogram of the targetd variable 'quality'\n",
    "wine_data['quality'].hist(bins=50)\n",
    "plt.xlabel('Quality')\n",
    "plt.ylabel('No. of samples')\n",
    "plt.show()"
   ]
  },
  {
   "cell_type": "code",
   "execution_count": 98,
   "id": "0faeb268",
   "metadata": {
    "execution": {
     "iopub.execute_input": "2022-05-18T11:49:39.907652Z",
     "iopub.status.busy": "2022-05-18T11:49:39.907095Z",
     "iopub.status.idle": "2022-05-18T11:49:39.913268Z",
     "shell.execute_reply": "2022-05-18T11:49:39.912421Z"
    },
    "papermill": {
     "duration": 0.208767,
     "end_time": "2022-05-18T11:49:39.915185",
     "exception": false,
     "start_time": "2022-05-18T11:49:39.706418",
     "status": "completed"
    },
    "tags": []
   },
   "outputs": [
    {
     "data": {
      "text/plain": [
       "(1599, 12)"
      ]
     },
     "execution_count": 98,
     "metadata": {},
     "output_type": "execute_result"
    }
   ],
   "source": [
    "wine_data.shape"
   ]
  },
  {
   "cell_type": "markdown",
   "id": "e56a696d",
   "metadata": {
    "papermill": {
     "duration": 0.199985,
     "end_time": "2022-05-18T11:49:40.317666",
     "exception": false,
     "start_time": "2022-05-18T11:49:40.117681",
     "status": "completed"
    },
    "tags": []
   },
   "source": [
    "## Undersampling"
   ]
  },
  {
   "cell_type": "markdown",
   "id": "7f41f99e",
   "metadata": {
    "papermill": {
     "duration": 0.199323,
     "end_time": "2022-05-18T11:49:40.718594",
     "exception": false,
     "start_time": "2022-05-18T11:49:40.519271",
     "status": "completed"
    },
    "tags": []
   },
   "source": [
    "Undersampling refers to sampling from the majority class in order to keep only a part of these data points.\n",
    "\n",
    "It may be carried out using RandomUnderSampler class from imblearn library"
   ]
  },
  {
   "cell_type": "code",
   "execution_count": 99,
   "id": "5519d0ff",
   "metadata": {
    "execution": {
     "iopub.execute_input": "2022-05-18T11:49:41.116432Z",
     "iopub.status.busy": "2022-05-18T11:49:41.115640Z",
     "iopub.status.idle": "2022-05-18T11:49:41.325579Z",
     "shell.execute_reply": "2022-05-18T11:49:41.324661Z"
    },
    "papermill": {
     "duration": 0.413134,
     "end_time": "2022-05-18T11:49:41.328050",
     "exception": false,
     "start_time": "2022-05-18T11:49:40.914916",
     "status": "completed"
    },
    "tags": []
   },
   "outputs": [],
   "source": [
    "from imblearn.under_sampling import RandomUnderSampler\n"
   ]
  },
  {
   "cell_type": "code",
   "execution_count": 100,
   "id": "3930488f",
   "metadata": {
    "execution": {
     "iopub.execute_input": "2022-05-18T11:49:41.724182Z",
     "iopub.status.busy": "2022-05-18T11:49:41.723733Z",
     "iopub.status.idle": "2022-05-18T11:49:41.739145Z",
     "shell.execute_reply": "2022-05-18T11:49:41.737679Z"
    },
    "papermill": {
     "duration": 0.21608,
     "end_time": "2022-05-18T11:49:41.741205",
     "exception": false,
     "start_time": "2022-05-18T11:49:41.525125",
     "status": "completed"
    },
    "tags": []
   },
   "outputs": [
    {
     "name": "stdout",
     "output_type": "stream",
     "text": [
      "class 3: (10, 12)\n",
      "class 4: (53, 12)\n",
      "class 5: (681, 12)\n",
      "class 6: (638, 12)\n",
      "class 7: (199, 12)\n",
      "class 8: (18, 12)\n"
     ]
    }
   ],
   "source": [
    "# class count\n",
    "class_count_3, class_count_4, class_count_5, class_count_6, class_count_7, class_count_8 = wine_data['quality'].value_counts()\n",
    "\n",
    "# separate class\n",
    "class_3 = wine_data[wine_data['quality'] == 3]\n",
    "class_4 = wine_data[wine_data['quality'] == 4]\n",
    "class_5 = wine_data[wine_data['quality'] == 5]\n",
    "class_6 = wine_data[wine_data['quality'] == 6]\n",
    "class_7 = wine_data[wine_data['quality'] == 7]\n",
    "class_8 = wine_data[wine_data['quality'] == 8]\n",
    "\n",
    "# print the shape of the class\n",
    "print('class 3:', class_3.shape)\n",
    "print('class 4:', class_4.shape)\n",
    "print('class 5:', class_5.shape)\n",
    "print('class 6:', class_6.shape)\n",
    "print('class 7:', class_7.shape)\n",
    "print('class 8:', class_8.shape)\n"
   ]
  },
  {
   "cell_type": "code",
   "execution_count": 101,
   "id": "cc04eb1f",
   "metadata": {
    "execution": {
     "iopub.execute_input": "2022-05-18T11:49:42.141434Z",
     "iopub.status.busy": "2022-05-18T11:49:42.140922Z",
     "iopub.status.idle": "2022-05-18T11:49:42.157716Z",
     "shell.execute_reply": "2022-05-18T11:49:42.156546Z"
    },
    "papermill": {
     "duration": 0.221204,
     "end_time": "2022-05-18T11:49:42.159936",
     "exception": false,
     "start_time": "2022-05-18T11:49:41.938732",
     "status": "completed"
    },
    "tags": []
   },
   "outputs": [
    {
     "name": "stdout",
     "output_type": "stream",
     "text": [
      "original dataset shape: Counter({5: 681, 6: 638, 7: 199, 4: 53, 8: 18, 3: 10})\n",
      "Resample dataset shape: Counter({3: 10, 4: 10, 5: 10, 6: 10, 7: 10, 8: 10})\n"
     ]
    }
   ],
   "source": [
    "from collections import Counter # it allows us to count the items in an iterable list.\n",
    "\n",
    "x = wine_data.drop(['quality'], axis=1)\n",
    "y = wine_data['quality']\n",
    "\n",
    "undersample = RandomUnderSampler(random_state=0)\n",
    "x_rus, y_rus = undersample.fit_resample(x, y)\n",
    "\n",
    "print('original dataset shape:', Counter(y))\n",
    "print('Resample dataset shape:', Counter(y_rus))"
   ]
  },
  {
   "cell_type": "markdown",
   "id": "8e760d69",
   "metadata": {
    "papermill": {
     "duration": 0.202327,
     "end_time": "2022-05-18T11:49:42.561917",
     "exception": false,
     "start_time": "2022-05-18T11:49:42.359590",
     "status": "completed"
    },
    "tags": []
   },
   "source": [
    "### OverSampling"
   ]
  },
  {
   "cell_type": "markdown",
   "id": "59fccd99",
   "metadata": {
    "papermill": {
     "duration": 0.203368,
     "end_time": "2022-05-18T11:49:42.963703",
     "exception": false,
     "start_time": "2022-05-18T11:49:42.760335",
     "status": "completed"
    },
    "tags": []
   },
   "source": [
    "Oversampling refers to replicating some points from the minority class in order to increase the cardinality of the minority class. This might consist of either replicating or generating synthetic data for the minority class.\n",
    "\n",
    "It may be carried out using **RandomOverSampler** class from **imblearn** library"
   ]
  },
  {
   "cell_type": "code",
   "execution_count": 102,
   "id": "5b9493b1",
   "metadata": {
    "execution": {
     "iopub.execute_input": "2022-05-18T11:49:43.368216Z",
     "iopub.status.busy": "2022-05-18T11:49:43.367387Z",
     "iopub.status.idle": "2022-05-18T11:49:43.383190Z",
     "shell.execute_reply": "2022-05-18T11:49:43.381933Z"
    },
    "papermill": {
     "duration": 0.219986,
     "end_time": "2022-05-18T11:49:43.385905",
     "exception": false,
     "start_time": "2022-05-18T11:49:43.165919",
     "status": "completed"
    },
    "tags": []
   },
   "outputs": [
    {
     "name": "stdout",
     "output_type": "stream",
     "text": [
      "original dataset shape: Counter({5: 681, 6: 638, 7: 199, 4: 53, 8: 18, 3: 10})\n",
      "Resample dataset shape Counter({5: 681, 6: 681, 7: 681, 4: 681, 8: 681, 3: 681})\n"
     ]
    }
   ],
   "source": [
    "from imblearn.over_sampling import RandomOverSampler\n",
    "\n",
    "ros = RandomOverSampler()\n",
    "x_ros, y_ros = ros.fit_resample(x, y)\n",
    "\n",
    "print('original dataset shape:', Counter(y))\n",
    "print('Resample dataset shape', Counter(y_ros))"
   ]
  },
  {
   "cell_type": "code",
   "execution_count": 103,
   "id": "93abd048",
   "metadata": {
    "execution": {
     "iopub.execute_input": "2022-05-18T11:49:43.810960Z",
     "iopub.status.busy": "2022-05-18T11:49:43.810569Z",
     "iopub.status.idle": "2022-05-18T11:49:43.815374Z",
     "shell.execute_reply": "2022-05-18T11:49:43.814654Z"
    },
    "papermill": {
     "duration": 0.225077,
     "end_time": "2022-05-18T11:49:43.817869",
     "exception": false,
     "start_time": "2022-05-18T11:49:43.592792",
     "status": "completed"
    },
    "tags": []
   },
   "outputs": [
    {
     "name": "stdout",
     "output_type": "stream",
     "text": [
      "2487 New random points generated with RamdomOverSampler\n"
     ]
    }
   ],
   "source": [
    "print(x_ros.shape[0] - x.shape[0], 'New random points generated with RamdomOverSampler')"
   ]
  },
  {
   "cell_type": "markdown",
   "id": "c1792cbf",
   "metadata": {
    "papermill": {
     "duration": 0.198908,
     "end_time": "2022-05-18T11:49:44.218247",
     "exception": false,
     "start_time": "2022-05-18T11:49:44.019339",
     "status": "completed"
    },
    "tags": []
   },
   "source": [
    "The class with the majority no. of sample is '5'. Hence all the other class samples that are lesser than this class count are newly sampled to the no. of smapler in the majority class"
   ]
  },
  {
   "cell_type": "markdown",
   "id": "cb2b8696",
   "metadata": {
    "papermill": {
     "duration": 0.197112,
     "end_time": "2022-05-18T11:49:44.614284",
     "exception": false,
     "start_time": "2022-05-18T11:49:44.417172",
     "status": "completed"
    },
    "tags": []
   },
   "source": [
    "### 4.2 Oversampling using SMOTE\n"
   ]
  },
  {
   "cell_type": "markdown",
   "id": "d4193844",
   "metadata": {
    "papermill": {
     "duration": 0.200989,
     "end_time": "2022-05-18T11:49:45.013120",
     "exception": false,
     "start_time": "2022-05-18T11:49:44.812131",
     "status": "completed"
    },
    "tags": []
   },
   "source": [
    "SMOTE(Synthetic Minority Oversampling Technique) is a popular technique for oversmapling. It is available under imblearn library."
   ]
  },
  {
   "cell_type": "code",
   "execution_count": 104,
   "id": "a9758271",
   "metadata": {
    "execution": {
     "iopub.execute_input": "2022-05-18T11:49:45.413519Z",
     "iopub.status.busy": "2022-05-18T11:49:45.412658Z",
     "iopub.status.idle": "2022-05-18T11:49:45.416575Z",
     "shell.execute_reply": "2022-05-18T11:49:45.416002Z"
    },
    "papermill": {
     "duration": 0.20636,
     "end_time": "2022-05-18T11:49:45.418499",
     "exception": false,
     "start_time": "2022-05-18T11:49:45.212139",
     "status": "completed"
    },
    "tags": []
   },
   "outputs": [],
   "source": [
    "from imblearn.over_sampling import SMOTE\n"
   ]
  },
  {
   "cell_type": "code",
   "execution_count": 105,
   "id": "6024631f",
   "metadata": {
    "execution": {
     "iopub.execute_input": "2022-05-18T11:49:45.819062Z",
     "iopub.status.busy": "2022-05-18T11:49:45.818617Z",
     "iopub.status.idle": "2022-05-18T11:49:45.842847Z",
     "shell.execute_reply": "2022-05-18T11:49:45.842003Z"
    },
    "papermill": {
     "duration": 0.227029,
     "end_time": "2022-05-18T11:49:45.844820",
     "exception": false,
     "start_time": "2022-05-18T11:49:45.617791",
     "status": "completed"
    },
    "tags": []
   },
   "outputs": [
    {
     "data": {
      "text/plain": [
       "Counter({5: 681, 6: 681, 7: 681, 4: 681, 8: 681, 3: 681})"
      ]
     },
     "execution_count": 105,
     "metadata": {},
     "output_type": "execute_result"
    }
   ],
   "source": [
    "oversample = SMOTE()\n",
    "x_sm, y_sm = oversample.fit_resample(x, y)\n",
    "counter = Counter(y_sm)\n",
    "counter"
   ]
  },
  {
   "cell_type": "code",
   "execution_count": 106,
   "id": "4038cd83",
   "metadata": {
    "execution": {
     "iopub.execute_input": "2022-05-18T11:49:46.247190Z",
     "iopub.status.busy": "2022-05-18T11:49:46.246339Z",
     "iopub.status.idle": "2022-05-18T11:49:46.251943Z",
     "shell.execute_reply": "2022-05-18T11:49:46.251052Z"
    },
    "papermill": {
     "duration": 0.209415,
     "end_time": "2022-05-18T11:49:46.254724",
     "exception": false,
     "start_time": "2022-05-18T11:49:46.045309",
     "status": "completed"
    },
    "tags": []
   },
   "outputs": [
    {
     "name": "stdout",
     "output_type": "stream",
     "text": [
      "2487 New random points generated with SMOTE\n"
     ]
    }
   ],
   "source": [
    "print(x_sm.shape[0] - x.shape[0], 'New random points generated with SMOTE')"
   ]
  },
  {
   "cell_type": "markdown",
   "id": "340fb791",
   "metadata": {
    "papermill": {
     "duration": 0.199072,
     "end_time": "2022-05-18T11:49:46.655219",
     "exception": false,
     "start_time": "2022-05-18T11:49:46.456147",
     "status": "completed"
    },
    "tags": []
   },
   "source": [
    "TYPES OF SMOTE\n",
    "* Borderline SMOTE\n",
    "* Borderline-SMOTE SVM\n",
    "* Adaptive Synthetic Sampling(ADASYN)"
   ]
  },
  {
   "cell_type": "code",
   "execution_count": null,
   "id": "8b1478f2",
   "metadata": {
    "papermill": {
     "duration": 0.202317,
     "end_time": "2022-05-18T11:49:47.058788",
     "exception": false,
     "start_time": "2022-05-18T11:49:46.856471",
     "status": "completed"
    },
    "tags": []
   },
   "outputs": [],
   "source": []
  }
 ],
 "metadata": {
  "kernelspec": {
   "display_name": "Python 3",
   "language": "python",
   "name": "python3"
  },
  "language_info": {
   "codemirror_mode": {
    "name": "ipython",
    "version": 3
   },
   "file_extension": ".py",
   "mimetype": "text/x-python",
   "name": "python",
   "nbconvert_exporter": "python",
   "pygments_lexer": "ipython3",
   "version": "3.7.12"
  },
  "papermill": {
   "default_parameters": {},
   "duration": 101.404283,
   "end_time": "2022-05-18T11:49:48.081421",
   "environment_variables": {},
   "exception": null,
   "input_path": "__notebook__.ipynb",
   "output_path": "__notebook__.ipynb",
   "parameters": {},
   "start_time": "2022-05-18T11:48:06.677138",
   "version": "2.3.4"
  }
 },
 "nbformat": 4,
 "nbformat_minor": 5
}
