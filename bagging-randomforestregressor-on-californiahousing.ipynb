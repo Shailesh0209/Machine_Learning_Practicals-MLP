{
 "cells": [
  {
   "cell_type": "code",
   "execution_count": 1,
   "id": "80b4bad6",
   "metadata": {
    "_cell_guid": "b1076dfc-b9ad-4769-8c92-a6c4dae69d19",
    "_uuid": "8f2839f25d086af736a60e9eeb907d3b93b6e0e5",
    "execution": {
     "iopub.execute_input": "2022-07-23T15:47:38.726274Z",
     "iopub.status.busy": "2022-07-23T15:47:38.725662Z",
     "iopub.status.idle": "2022-07-23T15:47:38.742179Z",
     "shell.execute_reply": "2022-07-23T15:47:38.741016Z"
    },
    "papermill": {
     "duration": 0.029023,
     "end_time": "2022-07-23T15:47:38.745188",
     "exception": false,
     "start_time": "2022-07-23T15:47:38.716165",
     "status": "completed"
    },
    "tags": []
   },
   "outputs": [],
   "source": [
    "# This Python 3 environment comes with many helpful analytics libraries installed\n",
    "# It is defined by the kaggle/python Docker image: https://github.com/kaggle/docker-python\n",
    "# For example, here's several helpful packages to load\n",
    "\n",
    "import numpy as np # linear algebra\n",
    "import pandas as pd # data processing, CSV file I/O (e.g. pd.read_csv)\n",
    "\n",
    "# Input data files are available in the read-only \"../input/\" directory\n",
    "# For example, running this (by clicking run or pressing Shift+Enter) will list all files under the input directory\n",
    "\n",
    "import os\n",
    "for dirname, _, filenames in os.walk('/kaggle/input'):\n",
    "    for filename in filenames:\n",
    "        print(os.path.join(dirname, filename))\n",
    "\n",
    "# You can write up to 20GB to the current directory (/kaggle/working/) that gets preserved as output when you create a version using \"Save & Run All\" \n",
    "# You can also write temporary files to /kaggle/temp/, but they won't be saved outside of the current session"
   ]
  },
  {
   "cell_type": "markdown",
   "id": "2a46609f",
   "metadata": {
    "papermill": {
     "duration": 0.00567,
     "end_time": "2022-07-23T15:47:38.756977",
     "exception": false,
     "start_time": "2022-07-23T15:47:38.751307",
     "status": "completed"
    },
    "tags": []
   },
   "source": [
    "###### x_MLP/W10_L3-dip-iitm: [Bagging and Random Forest Regressor on California Housing Dataset](https://www.youtube.com/watch?v=cjf5b1dx6Tk&list=PLyGVjd4KQp13HB4vo0f_ztrpR8dPrDNKP&index=73)"
   ]
  },
  {
   "cell_type": "markdown",
   "id": "922f8e0f",
   "metadata": {
    "papermill": {
     "duration": 0.005619,
     "end_time": "2022-07-23T15:47:38.768597",
     "exception": false,
     "start_time": "2022-07-23T15:47:38.762978",
     "status": "completed"
    },
    "tags": []
   },
   "source": [
    "# Bagging and Random Forest Regressor on California Housing Dataset"
   ]
  },
  {
   "cell_type": "markdown",
   "id": "bc9e6ed5",
   "metadata": {
    "papermill": {
     "duration": 0.005653,
     "end_time": "2022-07-23T15:47:38.780582",
     "exception": false,
     "start_time": "2022-07-23T15:47:38.774929",
     "status": "completed"
    },
    "tags": []
   },
   "source": [
    "In this notebook, we will apply ensemble techniques regression problem in california housing dataset.\n",
    "\n",
    "We have already applied different regressors on california housing dataset. In this notebook, we will make use of\n",
    "- Decision tree regressor\n",
    "- Bagging regressor\n",
    "- Random Forest regressor\n",
    "\n",
    "We will observe performance improvement when we use random forest over decision trees and bagging, which. also uses decision tree regressors."
   ]
  },
  {
   "cell_type": "markdown",
   "id": "407e9ebc",
   "metadata": {
    "papermill": {
     "duration": 0.005553,
     "end_time": "2022-07-23T15:47:38.792093",
     "exception": false,
     "start_time": "2022-07-23T15:47:38.786540",
     "status": "completed"
    },
    "tags": []
   },
   "source": [
    "## Imports"
   ]
  },
  {
   "cell_type": "code",
   "execution_count": 2,
   "id": "53eed375",
   "metadata": {
    "execution": {
     "iopub.execute_input": "2022-07-23T15:47:38.806493Z",
     "iopub.status.busy": "2022-07-23T15:47:38.805689Z",
     "iopub.status.idle": "2022-07-23T15:47:40.333171Z",
     "shell.execute_reply": "2022-07-23T15:47:40.331883Z"
    },
    "papermill": {
     "duration": 1.537989,
     "end_time": "2022-07-23T15:47:40.336027",
     "exception": false,
     "start_time": "2022-07-23T15:47:38.798038",
     "status": "completed"
    },
    "tags": []
   },
   "outputs": [],
   "source": [
    "from sklearn.datasets import fetch_california_housing\n",
    "from sklearn.ensemble import BaggingRegressor, RandomForestRegressor\n",
    "\n",
    "from sklearn.metrics import mean_absolute_error, confusion_matrix,\\\n",
    "ConfusionMatrixDisplay, classification_report\n",
    "\n",
    "from sklearn.model_selection import train_test_split,\\\n",
    "cross_validate, cross_val_score, ShuffleSplit, \\\n",
    "RandomizedSearchCV\n",
    "\n",
    "from sklearn.tree import DecisionTreeRegressor"
   ]
  },
  {
   "cell_type": "code",
   "execution_count": 3,
   "id": "df722a70",
   "metadata": {
    "execution": {
     "iopub.execute_input": "2022-07-23T15:47:40.351236Z",
     "iopub.status.busy": "2022-07-23T15:47:40.350581Z",
     "iopub.status.idle": "2022-07-23T15:47:40.355791Z",
     "shell.execute_reply": "2022-07-23T15:47:40.354679Z"
    },
    "papermill": {
     "duration": 0.015327,
     "end_time": "2022-07-23T15:47:40.358270",
     "exception": false,
     "start_time": "2022-07-23T15:47:40.342943",
     "status": "completed"
    },
    "tags": []
   },
   "outputs": [],
   "source": [
    "np.random.seed(306) # to obtain reproducibility"
   ]
  },
  {
   "cell_type": "markdown",
   "id": "738cefae",
   "metadata": {
    "papermill": {
     "duration": 0.005859,
     "end_time": "2022-07-23T15:47:40.370060",
     "exception": false,
     "start_time": "2022-07-23T15:47:40.364201",
     "status": "completed"
    },
    "tags": []
   },
   "source": [
    "Let's use `ShuffleSplit` as cv with 10 splits and 20% e.g. set aside as test examples."
   ]
  },
  {
   "cell_type": "code",
   "execution_count": 4,
   "id": "7df2584c",
   "metadata": {
    "execution": {
     "iopub.execute_input": "2022-07-23T15:47:40.384698Z",
     "iopub.status.busy": "2022-07-23T15:47:40.383970Z",
     "iopub.status.idle": "2022-07-23T15:47:40.388416Z",
     "shell.execute_reply": "2022-07-23T15:47:40.387608Z"
    },
    "papermill": {
     "duration": 0.014366,
     "end_time": "2022-07-23T15:47:40.390696",
     "exception": false,
     "start_time": "2022-07-23T15:47:40.376330",
     "status": "completed"
    },
    "tags": []
   },
   "outputs": [],
   "source": [
    "cv = ShuffleSplit(n_splits=10, test_size=0.2, random_state=42)"
   ]
  },
  {
   "cell_type": "markdown",
   "id": "820e0981",
   "metadata": {
    "papermill": {
     "duration": 0.006291,
     "end_time": "2022-07-23T15:47:40.403254",
     "exception": false,
     "start_time": "2022-07-23T15:47:40.396963",
     "status": "completed"
    },
    "tags": []
   },
   "source": [
    "Let's download the data and split it into training and test sets."
   ]
  },
  {
   "cell_type": "code",
   "execution_count": 5,
   "id": "b60e790c",
   "metadata": {
    "execution": {
     "iopub.execute_input": "2022-07-23T15:47:40.417928Z",
     "iopub.status.busy": "2022-07-23T15:47:40.417517Z",
     "iopub.status.idle": "2022-07-23T15:47:44.664037Z",
     "shell.execute_reply": "2022-07-23T15:47:44.662637Z"
    },
    "papermill": {
     "duration": 4.257154,
     "end_time": "2022-07-23T15:47:44.666850",
     "exception": false,
     "start_time": "2022-07-23T15:47:40.409696",
     "status": "completed"
    },
    "tags": []
   },
   "outputs": [],
   "source": [
    "# fetch dataset\n",
    "features, labels = fetch_california_housing(as_frame=True, return_X_y=True)\n",
    "labels *=100\n",
    "\n",
    "# train-test split\n",
    "com_train_features, test_features, com_train_labels, test_labels = \\\n",
    "    train_test_split(features, labels, random_state=42)\n",
    "\n",
    "# train --> train + dev split\n",
    "train_features, dev_features, train_labels, dev_labels = \\\n",
    "    train_test_split(com_train_features, com_train_labels, random_state=42)\n"
   ]
  },
  {
   "cell_type": "markdown",
   "id": "15149ff2",
   "metadata": {
    "papermill": {
     "duration": 0.006444,
     "end_time": "2022-07-23T15:47:44.679433",
     "exception": false,
     "start_time": "2022-07-23T15:47:44.672989",
     "status": "completed"
    },
    "tags": []
   },
   "source": [
    "## Training different regressors"
   ]
  },
  {
   "cell_type": "markdown",
   "id": "8488f598",
   "metadata": {
    "papermill": {
     "duration": 0.005681,
     "end_time": "2022-07-23T15:47:44.691349",
     "exception": false,
     "start_time": "2022-07-23T15:47:44.685668",
     "status": "completed"
    },
    "tags": []
   },
   "source": [
    "Let's train different regressors:"
   ]
  },
  {
   "cell_type": "code",
   "execution_count": 6,
   "id": "a7763f57",
   "metadata": {
    "execution": {
     "iopub.execute_input": "2022-07-23T15:47:44.705728Z",
     "iopub.status.busy": "2022-07-23T15:47:44.705023Z",
     "iopub.status.idle": "2022-07-23T15:47:44.711957Z",
     "shell.execute_reply": "2022-07-23T15:47:44.710808Z"
    },
    "papermill": {
     "duration": 0.017133,
     "end_time": "2022-07-23T15:47:44.714477",
     "exception": false,
     "start_time": "2022-07-23T15:47:44.697344",
     "status": "completed"
    },
    "tags": []
   },
   "outputs": [],
   "source": [
    "def train_regressor(estimator, X_train, y_train, cv, name):\n",
    "    cv_results = cross_validate(estimator,\n",
    "                               X_train,\n",
    "                               y_train,\n",
    "                               cv=cv,\n",
    "                               scoring=\"neg_mean_absolute_error\",\n",
    "                               return_train_score=True,\n",
    "                               return_estimator=True)\n",
    "    \n",
    "    cv_train_error = -1 * cv_results['train_score']\n",
    "    cv_test_error = -1 * cv_results['test_score']\n",
    "    \n",
    "    print(f\"On an average, {name} makes an error of \"\n",
    "          f\"{cv_train_error.mean():.3f}k +/- {cv_train_error.std():.3f}k on the training set.\")\n",
    "    print(f\"On an average, {name} makes an error of \"\n",
    "          f\"{cv_test_error.mean():.3f}k +/- {cv_test_error.std():.3f}k on the test set.\")"
   ]
  },
  {
   "cell_type": "code",
   "execution_count": 7,
   "id": "bea8e85b",
   "metadata": {
    "execution": {
     "iopub.execute_input": "2022-07-23T15:47:44.729651Z",
     "iopub.status.busy": "2022-07-23T15:47:44.728726Z",
     "iopub.status.idle": "2022-07-23T15:47:46.184571Z",
     "shell.execute_reply": "2022-07-23T15:47:46.183347Z"
    },
    "papermill": {
     "duration": 1.467296,
     "end_time": "2022-07-23T15:47:46.188261",
     "exception": false,
     "start_time": "2022-07-23T15:47:44.720965",
     "status": "completed"
    },
    "tags": []
   },
   "outputs": [
    {
     "name": "stdout",
     "output_type": "stream",
     "text": [
      "On an average, decision tree regressor makes an error of 0.000k +/- 0.000k on the training set.\n",
      "On an average, decision tree regressor makes an error of 47.259k +/- 1.142k on the test set.\n"
     ]
    }
   ],
   "source": [
    "#@title Decision Tree Regressor\n",
    "train_regressor(\n",
    "    DecisionTreeRegressor(), com_train_features,\n",
    "    com_train_labels, cv, 'decision tree regressor')"
   ]
  },
  {
   "cell_type": "code",
   "execution_count": 8,
   "id": "1ad3eaf3",
   "metadata": {
    "execution": {
     "iopub.execute_input": "2022-07-23T15:47:46.202249Z",
     "iopub.status.busy": "2022-07-23T15:47:46.201884Z",
     "iopub.status.idle": "2022-07-23T15:47:54.861971Z",
     "shell.execute_reply": "2022-07-23T15:47:54.860323Z"
    },
    "papermill": {
     "duration": 8.670306,
     "end_time": "2022-07-23T15:47:54.864845",
     "exception": false,
     "start_time": "2022-07-23T15:47:46.194539",
     "status": "completed"
    },
    "tags": []
   },
   "outputs": [
    {
     "name": "stdout",
     "output_type": "stream",
     "text": [
      "On an average, bagging regressor makes an error of 14.377k +/- 0.196k on the training set.\n",
      "On an average, bagging regressor makes an error of 35.217k +/- 0.608k on the test set.\n"
     ]
    }
   ],
   "source": [
    "#@title Bagging Regressor\n",
    "train_regressor(\n",
    "    BaggingRegressor(), com_train_features,\n",
    "    com_train_labels, cv, 'bagging regressor')"
   ]
  },
  {
   "cell_type": "markdown",
   "id": "93f03cfe",
   "metadata": {
    "papermill": {
     "duration": 0.005844,
     "end_time": "2022-07-23T15:47:54.876900",
     "exception": false,
     "start_time": "2022-07-23T15:47:54.871056",
     "status": "completed"
    },
    "tags": []
   },
   "source": [
    "### RandomForest regressor"
   ]
  },
  {
   "cell_type": "code",
   "execution_count": 9,
   "id": "2d606315",
   "metadata": {
    "execution": {
     "iopub.execute_input": "2022-07-23T15:47:54.892134Z",
     "iopub.status.busy": "2022-07-23T15:47:54.891728Z",
     "iopub.status.idle": "2022-07-23T15:49:20.097865Z",
     "shell.execute_reply": "2022-07-23T15:49:20.096641Z"
    },
    "papermill": {
     "duration": 85.224934,
     "end_time": "2022-07-23T15:49:20.107955",
     "exception": false,
     "start_time": "2022-07-23T15:47:54.883021",
     "status": "completed"
    },
    "tags": []
   },
   "outputs": [
    {
     "name": "stdout",
     "output_type": "stream",
     "text": [
      "On an average, random forest regressor makes an error of 12.642k +/- 0.071k on the training set.\n",
      "On an average, random forest regressor makes an error of 33.198k +/- 0.718k on the test set.\n"
     ]
    }
   ],
   "source": [
    "train_regressor(\n",
    "    RandomForestRegressor(), com_train_features,\\\n",
    "    com_train_labels, cv, 'random forest regressor')"
   ]
  },
  {
   "cell_type": "markdown",
   "id": "b4883cbe",
   "metadata": {
    "papermill": {
     "duration": 0.005877,
     "end_time": "2022-07-23T15:49:20.120621",
     "exception": false,
     "start_time": "2022-07-23T15:49:20.114744",
     "status": "completed"
    },
    "tags": []
   },
   "source": [
    "## Parameter search for random forest regressor"
   ]
  },
  {
   "cell_type": "code",
   "execution_count": 10,
   "id": "034ca904",
   "metadata": {
    "execution": {
     "iopub.execute_input": "2022-07-23T15:49:20.134230Z",
     "iopub.status.busy": "2022-07-23T15:49:20.133822Z",
     "iopub.status.idle": "2022-07-23T15:51:09.199738Z",
     "shell.execute_reply": "2022-07-23T15:51:09.198673Z"
    },
    "papermill": {
     "duration": 109.080564,
     "end_time": "2022-07-23T15:51:09.207196",
     "exception": false,
     "start_time": "2022-07-23T15:49:20.126632",
     "status": "completed"
    },
    "tags": []
   },
   "outputs": [
    {
     "data": {
      "text/html": [
       "<div>\n",
       "<style scoped>\n",
       "    .dataframe tbody tr th:only-of-type {\n",
       "        vertical-align: middle;\n",
       "    }\n",
       "\n",
       "    .dataframe tbody tr th {\n",
       "        vertical-align: top;\n",
       "    }\n",
       "\n",
       "    .dataframe thead th {\n",
       "        text-align: right;\n",
       "    }\n",
       "</style>\n",
       "<table border=\"1\" class=\"dataframe\">\n",
       "  <thead>\n",
       "    <tr style=\"text-align: right;\">\n",
       "      <th></th>\n",
       "      <th>param_n_estimators</th>\n",
       "      <th>param_max_leaf_nodes</th>\n",
       "      <th>mean_test_error</th>\n",
       "      <th>std_test_error</th>\n",
       "    </tr>\n",
       "  </thead>\n",
       "  <tbody>\n",
       "    <tr>\n",
       "      <th>0</th>\n",
       "      <td>500</td>\n",
       "      <td>100</td>\n",
       "      <td>40.605322</td>\n",
       "      <td>0.749310</td>\n",
       "    </tr>\n",
       "    <tr>\n",
       "      <th>2</th>\n",
       "      <td>10</td>\n",
       "      <td>100</td>\n",
       "      <td>41.306351</td>\n",
       "      <td>0.857691</td>\n",
       "    </tr>\n",
       "    <tr>\n",
       "      <th>7</th>\n",
       "      <td>100</td>\n",
       "      <td>50</td>\n",
       "      <td>43.859226</td>\n",
       "      <td>0.852860</td>\n",
       "    </tr>\n",
       "    <tr>\n",
       "      <th>8</th>\n",
       "      <td>1</td>\n",
       "      <td>100</td>\n",
       "      <td>46.657043</td>\n",
       "      <td>1.372773</td>\n",
       "    </tr>\n",
       "    <tr>\n",
       "      <th>1</th>\n",
       "      <td>100</td>\n",
       "      <td>20</td>\n",
       "      <td>49.429191</td>\n",
       "      <td>1.051206</td>\n",
       "    </tr>\n",
       "    <tr>\n",
       "      <th>6</th>\n",
       "      <td>50</td>\n",
       "      <td>20</td>\n",
       "      <td>49.664024</td>\n",
       "      <td>1.182640</td>\n",
       "    </tr>\n",
       "    <tr>\n",
       "      <th>9</th>\n",
       "      <td>10</td>\n",
       "      <td>20</td>\n",
       "      <td>50.136712</td>\n",
       "      <td>1.355729</td>\n",
       "    </tr>\n",
       "    <tr>\n",
       "      <th>3</th>\n",
       "      <td>500</td>\n",
       "      <td>10</td>\n",
       "      <td>55.038823</td>\n",
       "      <td>1.059652</td>\n",
       "    </tr>\n",
       "    <tr>\n",
       "      <th>4</th>\n",
       "      <td>5</td>\n",
       "      <td>5</td>\n",
       "      <td>61.477368</td>\n",
       "      <td>1.039997</td>\n",
       "    </tr>\n",
       "    <tr>\n",
       "      <th>5</th>\n",
       "      <td>5</td>\n",
       "      <td>2</td>\n",
       "      <td>73.279111</td>\n",
       "      <td>1.278369</td>\n",
       "    </tr>\n",
       "  </tbody>\n",
       "</table>\n",
       "</div>"
      ],
      "text/plain": [
       "  param_n_estimators param_max_leaf_nodes  mean_test_error  std_test_error\n",
       "0                500                  100        40.605322        0.749310\n",
       "2                 10                  100        41.306351        0.857691\n",
       "7                100                   50        43.859226        0.852860\n",
       "8                  1                  100        46.657043        1.372773\n",
       "1                100                   20        49.429191        1.051206\n",
       "6                 50                   20        49.664024        1.182640\n",
       "9                 10                   20        50.136712        1.355729\n",
       "3                500                   10        55.038823        1.059652\n",
       "4                  5                    5        61.477368        1.039997\n",
       "5                  5                    2        73.279111        1.278369"
      ]
     },
     "execution_count": 10,
     "metadata": {},
     "output_type": "execute_result"
    }
   ],
   "source": [
    "param_distributions = {\n",
    "    \"n_estimators\": [1, 2, 5, 10, 20, 50, 100, 200, 500],\n",
    "    \"max_leaf_nodes\": [2, 5, 10, 20, 50, 100],\n",
    "}\n",
    "\n",
    "search_cv = RandomizedSearchCV(\n",
    "    RandomForestRegressor(n_jobs=2), param_distributions=param_distributions,\n",
    "    scoring=\"neg_mean_absolute_error\", n_iter=10, random_state=0, n_jobs=2,)\n",
    "\n",
    "search_cv.fit(com_train_features, com_train_labels)\n",
    "\n",
    "columns = [f\"param_{name}\" for name in param_distributions.keys()]\n",
    "columns += [\"mean_test_error\", \"std_test_error\"]\n",
    "cv_results = pd.DataFrame(search_cv.cv_results_)\n",
    "cv_results[\"mean_test_error\"] = -cv_results[\"mean_test_score\"]\n",
    "cv_results[\"std_test_error\"] = cv_results[\"std_test_score\"]\n",
    "cv_results[columns].sort_values(by=\"mean_test_error\")"
   ]
  },
  {
   "cell_type": "code",
   "execution_count": 11,
   "id": "2e3c177a",
   "metadata": {
    "execution": {
     "iopub.execute_input": "2022-07-23T15:51:09.223402Z",
     "iopub.status.busy": "2022-07-23T15:51:09.222658Z",
     "iopub.status.idle": "2022-07-23T15:51:09.535127Z",
     "shell.execute_reply": "2022-07-23T15:51:09.533520Z"
    },
    "papermill": {
     "duration": 0.323802,
     "end_time": "2022-07-23T15:51:09.537941",
     "exception": false,
     "start_time": "2022-07-23T15:51:09.214139",
     "status": "completed"
    },
    "tags": []
   },
   "outputs": [
    {
     "name": "stdout",
     "output_type": "stream",
     "text": [
      "On average, our random forest regressor makes an error of 40.46 k$\n"
     ]
    }
   ],
   "source": [
    "error = -search_cv.score(test_features, test_labels)\n",
    "print(f\"On average, our random forest regressor makes an error of {error:.2f} k$\")"
   ]
  },
  {
   "cell_type": "code",
   "execution_count": null,
   "id": "28d5baf9",
   "metadata": {
    "papermill": {
     "duration": 0.006456,
     "end_time": "2022-07-23T15:51:09.551137",
     "exception": false,
     "start_time": "2022-07-23T15:51:09.544681",
     "status": "completed"
    },
    "tags": []
   },
   "outputs": [],
   "source": []
  }
 ],
 "metadata": {
  "kernelspec": {
   "display_name": "Python 3",
   "language": "python",
   "name": "python3"
  },
  "language_info": {
   "codemirror_mode": {
    "name": "ipython",
    "version": 3
   },
   "file_extension": ".py",
   "mimetype": "text/x-python",
   "name": "python",
   "nbconvert_exporter": "python",
   "pygments_lexer": "ipython3",
   "version": "3.7.12"
  },
  "papermill": {
   "default_parameters": {},
   "duration": 224.204145,
   "end_time": "2022-07-23T15:51:12.183277",
   "environment_variables": {},
   "exception": null,
   "input_path": "__notebook__.ipynb",
   "output_path": "__notebook__.ipynb",
   "parameters": {},
   "start_time": "2022-07-23T15:47:27.979132",
   "version": "2.3.4"
  }
 },
 "nbformat": 4,
 "nbformat_minor": 5
}
